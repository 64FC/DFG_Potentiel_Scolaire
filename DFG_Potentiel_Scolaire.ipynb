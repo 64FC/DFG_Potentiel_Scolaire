{
  "nbformat": 4,
  "nbformat_minor": 0,
  "metadata": {
    "colab": {
      "provenance": [],
      "authorship_tag": "ABX9TyOHLVCj7u6X/t7/U3iMxaIQ"
    },
    "kernelspec": {
      "name": "python3",
      "display_name": "Python 3"
    },
    "language_info": {
      "name": "python"
    }
  },
  "cells": [
    {
      "cell_type": "code",
      "execution_count": null,
      "metadata": {
        "id": "wxkg5v5cCbnC"
      },
      "outputs": [],
      "source": []
    },
    {
      "cell_type": "markdown",
      "source": [
        "# Potentiel s(c)olaire"
      ],
      "metadata": {
        "id": "GtQLiWEhGjfG"
      }
    },
    {
      "cell_type": "markdown",
      "source": [
        "## Récupération des données"
      ],
      "metadata": {
        "id": "SIoeASJETZjG"
      }
    },
    {
      "cell_type": "code",
      "source": [
        "# Je commence par installer le module requests pour récupérer les données via API\n",
        "!pip install requests"
      ],
      "metadata": {
        "colab": {
          "base_uri": "https://localhost:8080/"
        },
        "id": "9bsiADptGjrl",
        "outputId": "f8cda4e2-0b6c-42cc-d02a-1856ffbb42ce"
      },
      "execution_count": 1,
      "outputs": [
        {
          "output_type": "stream",
          "name": "stdout",
          "text": [
            "Requirement already satisfied: requests in /usr/local/lib/python3.11/dist-packages (2.32.3)\n",
            "Requirement already satisfied: charset-normalizer<4,>=2 in /usr/local/lib/python3.11/dist-packages (from requests) (3.4.1)\n",
            "Requirement already satisfied: idna<4,>=2.5 in /usr/local/lib/python3.11/dist-packages (from requests) (3.10)\n",
            "Requirement already satisfied: urllib3<3,>=1.21.1 in /usr/local/lib/python3.11/dist-packages (from requests) (2.3.0)\n",
            "Requirement already satisfied: certifi>=2017.4.17 in /usr/local/lib/python3.11/dist-packages (from requests) (2024.12.14)\n"
          ]
        }
      ]
    },
    {
      "cell_type": "code",
      "source": [
        "# Import des modules utilisés\n",
        "import requests\n",
        "import pandas as pd"
      ],
      "metadata": {
        "id": "2lb0AGwPGkh-"
      },
      "execution_count": 2,
      "outputs": []
    },
    {
      "cell_type": "code",
      "source": [
        "# Définition de l'url qui contient les données\n",
        "url = 'https://data.education.gouv.fr/api/explore/v2.1/catalog/datasets/fr-en-annuaire-education/exports/json'\n",
        "\n",
        "# Récupération des données\n",
        "response = requests.get(url)\n",
        "\n",
        "# Vérification de la bonne récupération\n",
        "if response.status_code == 200:\n",
        "    data = response.json()\n",
        "    #print(data)\n",
        "    print(\"Données récupérées avec succès\")\n",
        "else:\n",
        "    print(f\"Error: {response.status_code}\")"
      ],
      "metadata": {
        "colab": {
          "base_uri": "https://localhost:8080/"
        },
        "id": "aspzNNrgGtz2",
        "outputId": "a8e73783-bf4f-4242-b236-5676362be9c5"
      },
      "execution_count": 3,
      "outputs": [
        {
          "output_type": "stream",
          "name": "stdout",
          "text": [
            "Données récupérées avec succès\n"
          ]
        }
      ]
    },
    {
      "cell_type": "code",
      "source": [
        "# Création du jeu de données\n",
        "df = pd.DataFrame(data)\n",
        "df.head()"
      ],
      "metadata": {
        "colab": {
          "base_uri": "https://localhost:8080/",
          "height": 429
        },
        "id": "oTeOaXEOJcxn",
        "outputId": "9ab557bf-ea8c-4d80-efd9-cc022e831846"
      },
      "execution_count": 4,
      "outputs": [
        {
          "output_type": "execute_result",
          "data": {
            "text/plain": [
              "  identifiant_de_l_etablissement                   nom_etablissement  \\\n",
              "0                       0580631W  Ecole maternelle Pauline Kergomard   \n",
              "1                       0580632X                      Ecole primaire   \n",
              "2                       0580644K                      Ecole primaire   \n",
              "3                       0580649R                      Ecole primaire   \n",
              "4                       0580653V                      Ecole primaire   \n",
              "\n",
              "  type_etablissement statut_public_prive                adresse_1 adresse_2  \\\n",
              "0              Ecole              Public    29 rue Jacques Duclos      None   \n",
              "1              Ecole              Public          46 rue du Bourg  AU BOURG   \n",
              "2              Ecole              Public      1 rue DU FOUR BANAL  LE BOURG   \n",
              "3              Ecole              Public      22 rue Henri Renaud      None   \n",
              "4              Ecole              Public  411 avenue des tilleuls  LE BOURG   \n",
              "\n",
              "                   adresse_3 code_postal code_commune             nom_commune  \\\n",
              "0   58640 VARENNES VAUZELLES       58640        58303      Varennes-Vauzelles   \n",
              "1   58640 VARENNES VAUZELLES       58640        58303      Varennes-Vauzelles   \n",
              "2               58800 CERVON       58800        58047                  Cervon   \n",
              "3  58360 ST HONORE LES BAINS       58360        58246  Saint-Honoré-les-Bains   \n",
              "4               58170 MILLAY       58170        58168                  Millay   \n",
              "\n",
              "   ...               libelle_nature code_type_contrat_prive      pial  \\\n",
              "0  ...             ECOLE MATERNELLE                      99  0580620J   \n",
              "1  ...  ECOLE DE NIVEAU ELEMENTAIRE                      99  0580620J   \n",
              "2  ...  ECOLE DE NIVEAU ELEMENTAIRE                      99  0580012Y   \n",
              "3  ...  ECOLE DE NIVEAU ELEMENTAIRE                      99  0580030T   \n",
              "4  ...  ECOLE DE NIVEAU ELEMENTAIRE                      99  0580619H   \n",
              "\n",
              "   etablissement_mere  type_rattachement_etablissement_mere  \\\n",
              "0                None                                  None   \n",
              "1                None                                  None   \n",
              "2                None                                  None   \n",
              "3                None                                  None   \n",
              "4                None                                  None   \n",
              "\n",
              "  code_circonscription code_zone_animation_pedagogique  \\\n",
              "0             0580086D                            None   \n",
              "1             0580086D                            None   \n",
              "2             0580059Z                            None   \n",
              "3             0580059Z                            None   \n",
              "4             0580059Z                            None   \n",
              "\n",
              "  libelle_zone_animation_pedagogique code_bassin_formation  \\\n",
              "0                               None                 07581   \n",
              "1                               None                 07581   \n",
              "2                               None                 07581   \n",
              "3                               None                 07581   \n",
              "4                               None                 07581   \n",
              "\n",
              "  libelle_bassin_formation  \n",
              "0            Réseau Nevers  \n",
              "1            Réseau Nevers  \n",
              "2            Réseau Nevers  \n",
              "3            Réseau Nevers  \n",
              "4            Réseau Nevers  \n",
              "\n",
              "[5 rows x 72 columns]"
            ],
            "text/html": [
              "\n",
              "  <div id=\"df-686e5e06-6260-4586-92ac-6bc735632839\" class=\"colab-df-container\">\n",
              "    <div>\n",
              "<style scoped>\n",
              "    .dataframe tbody tr th:only-of-type {\n",
              "        vertical-align: middle;\n",
              "    }\n",
              "\n",
              "    .dataframe tbody tr th {\n",
              "        vertical-align: top;\n",
              "    }\n",
              "\n",
              "    .dataframe thead th {\n",
              "        text-align: right;\n",
              "    }\n",
              "</style>\n",
              "<table border=\"1\" class=\"dataframe\">\n",
              "  <thead>\n",
              "    <tr style=\"text-align: right;\">\n",
              "      <th></th>\n",
              "      <th>identifiant_de_l_etablissement</th>\n",
              "      <th>nom_etablissement</th>\n",
              "      <th>type_etablissement</th>\n",
              "      <th>statut_public_prive</th>\n",
              "      <th>adresse_1</th>\n",
              "      <th>adresse_2</th>\n",
              "      <th>adresse_3</th>\n",
              "      <th>code_postal</th>\n",
              "      <th>code_commune</th>\n",
              "      <th>nom_commune</th>\n",
              "      <th>...</th>\n",
              "      <th>libelle_nature</th>\n",
              "      <th>code_type_contrat_prive</th>\n",
              "      <th>pial</th>\n",
              "      <th>etablissement_mere</th>\n",
              "      <th>type_rattachement_etablissement_mere</th>\n",
              "      <th>code_circonscription</th>\n",
              "      <th>code_zone_animation_pedagogique</th>\n",
              "      <th>libelle_zone_animation_pedagogique</th>\n",
              "      <th>code_bassin_formation</th>\n",
              "      <th>libelle_bassin_formation</th>\n",
              "    </tr>\n",
              "  </thead>\n",
              "  <tbody>\n",
              "    <tr>\n",
              "      <th>0</th>\n",
              "      <td>0580631W</td>\n",
              "      <td>Ecole maternelle Pauline Kergomard</td>\n",
              "      <td>Ecole</td>\n",
              "      <td>Public</td>\n",
              "      <td>29 rue Jacques Duclos</td>\n",
              "      <td>None</td>\n",
              "      <td>58640 VARENNES VAUZELLES</td>\n",
              "      <td>58640</td>\n",
              "      <td>58303</td>\n",
              "      <td>Varennes-Vauzelles</td>\n",
              "      <td>...</td>\n",
              "      <td>ECOLE MATERNELLE</td>\n",
              "      <td>99</td>\n",
              "      <td>0580620J</td>\n",
              "      <td>None</td>\n",
              "      <td>None</td>\n",
              "      <td>0580086D</td>\n",
              "      <td>None</td>\n",
              "      <td>None</td>\n",
              "      <td>07581</td>\n",
              "      <td>Réseau Nevers</td>\n",
              "    </tr>\n",
              "    <tr>\n",
              "      <th>1</th>\n",
              "      <td>0580632X</td>\n",
              "      <td>Ecole primaire</td>\n",
              "      <td>Ecole</td>\n",
              "      <td>Public</td>\n",
              "      <td>46 rue du Bourg</td>\n",
              "      <td>AU BOURG</td>\n",
              "      <td>58640 VARENNES VAUZELLES</td>\n",
              "      <td>58640</td>\n",
              "      <td>58303</td>\n",
              "      <td>Varennes-Vauzelles</td>\n",
              "      <td>...</td>\n",
              "      <td>ECOLE DE NIVEAU ELEMENTAIRE</td>\n",
              "      <td>99</td>\n",
              "      <td>0580620J</td>\n",
              "      <td>None</td>\n",
              "      <td>None</td>\n",
              "      <td>0580086D</td>\n",
              "      <td>None</td>\n",
              "      <td>None</td>\n",
              "      <td>07581</td>\n",
              "      <td>Réseau Nevers</td>\n",
              "    </tr>\n",
              "    <tr>\n",
              "      <th>2</th>\n",
              "      <td>0580644K</td>\n",
              "      <td>Ecole primaire</td>\n",
              "      <td>Ecole</td>\n",
              "      <td>Public</td>\n",
              "      <td>1 rue DU FOUR BANAL</td>\n",
              "      <td>LE BOURG</td>\n",
              "      <td>58800 CERVON</td>\n",
              "      <td>58800</td>\n",
              "      <td>58047</td>\n",
              "      <td>Cervon</td>\n",
              "      <td>...</td>\n",
              "      <td>ECOLE DE NIVEAU ELEMENTAIRE</td>\n",
              "      <td>99</td>\n",
              "      <td>0580012Y</td>\n",
              "      <td>None</td>\n",
              "      <td>None</td>\n",
              "      <td>0580059Z</td>\n",
              "      <td>None</td>\n",
              "      <td>None</td>\n",
              "      <td>07581</td>\n",
              "      <td>Réseau Nevers</td>\n",
              "    </tr>\n",
              "    <tr>\n",
              "      <th>3</th>\n",
              "      <td>0580649R</td>\n",
              "      <td>Ecole primaire</td>\n",
              "      <td>Ecole</td>\n",
              "      <td>Public</td>\n",
              "      <td>22 rue Henri Renaud</td>\n",
              "      <td>None</td>\n",
              "      <td>58360 ST HONORE LES BAINS</td>\n",
              "      <td>58360</td>\n",
              "      <td>58246</td>\n",
              "      <td>Saint-Honoré-les-Bains</td>\n",
              "      <td>...</td>\n",
              "      <td>ECOLE DE NIVEAU ELEMENTAIRE</td>\n",
              "      <td>99</td>\n",
              "      <td>0580030T</td>\n",
              "      <td>None</td>\n",
              "      <td>None</td>\n",
              "      <td>0580059Z</td>\n",
              "      <td>None</td>\n",
              "      <td>None</td>\n",
              "      <td>07581</td>\n",
              "      <td>Réseau Nevers</td>\n",
              "    </tr>\n",
              "    <tr>\n",
              "      <th>4</th>\n",
              "      <td>0580653V</td>\n",
              "      <td>Ecole primaire</td>\n",
              "      <td>Ecole</td>\n",
              "      <td>Public</td>\n",
              "      <td>411 avenue des tilleuls</td>\n",
              "      <td>LE BOURG</td>\n",
              "      <td>58170 MILLAY</td>\n",
              "      <td>58170</td>\n",
              "      <td>58168</td>\n",
              "      <td>Millay</td>\n",
              "      <td>...</td>\n",
              "      <td>ECOLE DE NIVEAU ELEMENTAIRE</td>\n",
              "      <td>99</td>\n",
              "      <td>0580619H</td>\n",
              "      <td>None</td>\n",
              "      <td>None</td>\n",
              "      <td>0580059Z</td>\n",
              "      <td>None</td>\n",
              "      <td>None</td>\n",
              "      <td>07581</td>\n",
              "      <td>Réseau Nevers</td>\n",
              "    </tr>\n",
              "  </tbody>\n",
              "</table>\n",
              "<p>5 rows × 72 columns</p>\n",
              "</div>\n",
              "    <div class=\"colab-df-buttons\">\n",
              "\n",
              "  <div class=\"colab-df-container\">\n",
              "    <button class=\"colab-df-convert\" onclick=\"convertToInteractive('df-686e5e06-6260-4586-92ac-6bc735632839')\"\n",
              "            title=\"Convert this dataframe to an interactive table.\"\n",
              "            style=\"display:none;\">\n",
              "\n",
              "  <svg xmlns=\"http://www.w3.org/2000/svg\" height=\"24px\" viewBox=\"0 -960 960 960\">\n",
              "    <path d=\"M120-120v-720h720v720H120Zm60-500h600v-160H180v160Zm220 220h160v-160H400v160Zm0 220h160v-160H400v160ZM180-400h160v-160H180v160Zm440 0h160v-160H620v160ZM180-180h160v-160H180v160Zm440 0h160v-160H620v160Z\"/>\n",
              "  </svg>\n",
              "    </button>\n",
              "\n",
              "  <style>\n",
              "    .colab-df-container {\n",
              "      display:flex;\n",
              "      gap: 12px;\n",
              "    }\n",
              "\n",
              "    .colab-df-convert {\n",
              "      background-color: #E8F0FE;\n",
              "      border: none;\n",
              "      border-radius: 50%;\n",
              "      cursor: pointer;\n",
              "      display: none;\n",
              "      fill: #1967D2;\n",
              "      height: 32px;\n",
              "      padding: 0 0 0 0;\n",
              "      width: 32px;\n",
              "    }\n",
              "\n",
              "    .colab-df-convert:hover {\n",
              "      background-color: #E2EBFA;\n",
              "      box-shadow: 0px 1px 2px rgba(60, 64, 67, 0.3), 0px 1px 3px 1px rgba(60, 64, 67, 0.15);\n",
              "      fill: #174EA6;\n",
              "    }\n",
              "\n",
              "    .colab-df-buttons div {\n",
              "      margin-bottom: 4px;\n",
              "    }\n",
              "\n",
              "    [theme=dark] .colab-df-convert {\n",
              "      background-color: #3B4455;\n",
              "      fill: #D2E3FC;\n",
              "    }\n",
              "\n",
              "    [theme=dark] .colab-df-convert:hover {\n",
              "      background-color: #434B5C;\n",
              "      box-shadow: 0px 1px 3px 1px rgba(0, 0, 0, 0.15);\n",
              "      filter: drop-shadow(0px 1px 2px rgba(0, 0, 0, 0.3));\n",
              "      fill: #FFFFFF;\n",
              "    }\n",
              "  </style>\n",
              "\n",
              "    <script>\n",
              "      const buttonEl =\n",
              "        document.querySelector('#df-686e5e06-6260-4586-92ac-6bc735632839 button.colab-df-convert');\n",
              "      buttonEl.style.display =\n",
              "        google.colab.kernel.accessAllowed ? 'block' : 'none';\n",
              "\n",
              "      async function convertToInteractive(key) {\n",
              "        const element = document.querySelector('#df-686e5e06-6260-4586-92ac-6bc735632839');\n",
              "        const dataTable =\n",
              "          await google.colab.kernel.invokeFunction('convertToInteractive',\n",
              "                                                    [key], {});\n",
              "        if (!dataTable) return;\n",
              "\n",
              "        const docLinkHtml = 'Like what you see? Visit the ' +\n",
              "          '<a target=\"_blank\" href=https://colab.research.google.com/notebooks/data_table.ipynb>data table notebook</a>'\n",
              "          + ' to learn more about interactive tables.';\n",
              "        element.innerHTML = '';\n",
              "        dataTable['output_type'] = 'display_data';\n",
              "        await google.colab.output.renderOutput(dataTable, element);\n",
              "        const docLink = document.createElement('div');\n",
              "        docLink.innerHTML = docLinkHtml;\n",
              "        element.appendChild(docLink);\n",
              "      }\n",
              "    </script>\n",
              "  </div>\n",
              "\n",
              "\n",
              "<div id=\"df-c8f78552-4cd1-47df-8750-82fcf5cb87f7\">\n",
              "  <button class=\"colab-df-quickchart\" onclick=\"quickchart('df-c8f78552-4cd1-47df-8750-82fcf5cb87f7')\"\n",
              "            title=\"Suggest charts\"\n",
              "            style=\"display:none;\">\n",
              "\n",
              "<svg xmlns=\"http://www.w3.org/2000/svg\" height=\"24px\"viewBox=\"0 0 24 24\"\n",
              "     width=\"24px\">\n",
              "    <g>\n",
              "        <path d=\"M19 3H5c-1.1 0-2 .9-2 2v14c0 1.1.9 2 2 2h14c1.1 0 2-.9 2-2V5c0-1.1-.9-2-2-2zM9 17H7v-7h2v7zm4 0h-2V7h2v10zm4 0h-2v-4h2v4z\"/>\n",
              "    </g>\n",
              "</svg>\n",
              "  </button>\n",
              "\n",
              "<style>\n",
              "  .colab-df-quickchart {\n",
              "      --bg-color: #E8F0FE;\n",
              "      --fill-color: #1967D2;\n",
              "      --hover-bg-color: #E2EBFA;\n",
              "      --hover-fill-color: #174EA6;\n",
              "      --disabled-fill-color: #AAA;\n",
              "      --disabled-bg-color: #DDD;\n",
              "  }\n",
              "\n",
              "  [theme=dark] .colab-df-quickchart {\n",
              "      --bg-color: #3B4455;\n",
              "      --fill-color: #D2E3FC;\n",
              "      --hover-bg-color: #434B5C;\n",
              "      --hover-fill-color: #FFFFFF;\n",
              "      --disabled-bg-color: #3B4455;\n",
              "      --disabled-fill-color: #666;\n",
              "  }\n",
              "\n",
              "  .colab-df-quickchart {\n",
              "    background-color: var(--bg-color);\n",
              "    border: none;\n",
              "    border-radius: 50%;\n",
              "    cursor: pointer;\n",
              "    display: none;\n",
              "    fill: var(--fill-color);\n",
              "    height: 32px;\n",
              "    padding: 0;\n",
              "    width: 32px;\n",
              "  }\n",
              "\n",
              "  .colab-df-quickchart:hover {\n",
              "    background-color: var(--hover-bg-color);\n",
              "    box-shadow: 0 1px 2px rgba(60, 64, 67, 0.3), 0 1px 3px 1px rgba(60, 64, 67, 0.15);\n",
              "    fill: var(--button-hover-fill-color);\n",
              "  }\n",
              "\n",
              "  .colab-df-quickchart-complete:disabled,\n",
              "  .colab-df-quickchart-complete:disabled:hover {\n",
              "    background-color: var(--disabled-bg-color);\n",
              "    fill: var(--disabled-fill-color);\n",
              "    box-shadow: none;\n",
              "  }\n",
              "\n",
              "  .colab-df-spinner {\n",
              "    border: 2px solid var(--fill-color);\n",
              "    border-color: transparent;\n",
              "    border-bottom-color: var(--fill-color);\n",
              "    animation:\n",
              "      spin 1s steps(1) infinite;\n",
              "  }\n",
              "\n",
              "  @keyframes spin {\n",
              "    0% {\n",
              "      border-color: transparent;\n",
              "      border-bottom-color: var(--fill-color);\n",
              "      border-left-color: var(--fill-color);\n",
              "    }\n",
              "    20% {\n",
              "      border-color: transparent;\n",
              "      border-left-color: var(--fill-color);\n",
              "      border-top-color: var(--fill-color);\n",
              "    }\n",
              "    30% {\n",
              "      border-color: transparent;\n",
              "      border-left-color: var(--fill-color);\n",
              "      border-top-color: var(--fill-color);\n",
              "      border-right-color: var(--fill-color);\n",
              "    }\n",
              "    40% {\n",
              "      border-color: transparent;\n",
              "      border-right-color: var(--fill-color);\n",
              "      border-top-color: var(--fill-color);\n",
              "    }\n",
              "    60% {\n",
              "      border-color: transparent;\n",
              "      border-right-color: var(--fill-color);\n",
              "    }\n",
              "    80% {\n",
              "      border-color: transparent;\n",
              "      border-right-color: var(--fill-color);\n",
              "      border-bottom-color: var(--fill-color);\n",
              "    }\n",
              "    90% {\n",
              "      border-color: transparent;\n",
              "      border-bottom-color: var(--fill-color);\n",
              "    }\n",
              "  }\n",
              "</style>\n",
              "\n",
              "  <script>\n",
              "    async function quickchart(key) {\n",
              "      const quickchartButtonEl =\n",
              "        document.querySelector('#' + key + ' button');\n",
              "      quickchartButtonEl.disabled = true;  // To prevent multiple clicks.\n",
              "      quickchartButtonEl.classList.add('colab-df-spinner');\n",
              "      try {\n",
              "        const charts = await google.colab.kernel.invokeFunction(\n",
              "            'suggestCharts', [key], {});\n",
              "      } catch (error) {\n",
              "        console.error('Error during call to suggestCharts:', error);\n",
              "      }\n",
              "      quickchartButtonEl.classList.remove('colab-df-spinner');\n",
              "      quickchartButtonEl.classList.add('colab-df-quickchart-complete');\n",
              "    }\n",
              "    (() => {\n",
              "      let quickchartButtonEl =\n",
              "        document.querySelector('#df-c8f78552-4cd1-47df-8750-82fcf5cb87f7 button');\n",
              "      quickchartButtonEl.style.display =\n",
              "        google.colab.kernel.accessAllowed ? 'block' : 'none';\n",
              "    })();\n",
              "  </script>\n",
              "</div>\n",
              "\n",
              "    </div>\n",
              "  </div>\n"
            ],
            "application/vnd.google.colaboratory.intrinsic+json": {
              "type": "dataframe",
              "variable_name": "df"
            }
          },
          "metadata": {},
          "execution_count": 4
        }
      ]
    },
    {
      "cell_type": "code",
      "source": [
        "# Vérification que toutes les données ont été exportées\n",
        "\n",
        "# Url permettant d'accéder aux enregistrements (dont le total_count)\n",
        "url_ = 'https://data.education.gouv.fr/api/explore/v2.1/catalog/datasets/fr-en-annuaire-education/records'\n",
        "\n",
        "# Récupération via appel GET\n",
        "response_ = requests.get(url_)\n",
        "\n",
        "# On s'assure que l'appel a fonctionné\n",
        "if response_.status_code == 200:\n",
        "    data_ = response_.json()\n",
        "else:\n",
        "    print(f\"Error: {response_.status_code}\")\n",
        "\n",
        "# Enfin, on compare avec la taille attendue\n",
        "try:\n",
        "  assert data_['total_count'] == len(df)\n",
        "except AssertionError as e:\n",
        "  print(f\"Données non complètement récupérées, erreur : {f}.\")\n",
        "else:\n",
        "  print(\"Toutes les données sont récupérées.\")"
      ],
      "metadata": {
        "colab": {
          "base_uri": "https://localhost:8080/"
        },
        "id": "n5ZunbP3Jq1z",
        "outputId": "b2aa0f3a-5166-43f8-8df8-66b0ec4f2914"
      },
      "execution_count": 6,
      "outputs": [
        {
          "output_type": "stream",
          "name": "stdout",
          "text": [
            "Toutes les données sont récupérées.\n"
          ]
        }
      ]
    },
    {
      "cell_type": "markdown",
      "source": [
        "## Analyse des colonnes"
      ],
      "metadata": {
        "id": "EZsOVUuvTdKk"
      }
    },
    {
      "cell_type": "code",
      "source": [
        "# Liste des colonnes pour analyse\n",
        "list(df.columns)"
      ],
      "metadata": {
        "colab": {
          "base_uri": "https://localhost:8080/"
        },
        "id": "hRQnmV6JTCFx",
        "outputId": "fc32636a-eaf8-4f7c-de88-d4de4f9dafda"
      },
      "execution_count": 8,
      "outputs": [
        {
          "output_type": "execute_result",
          "data": {
            "text/plain": [
              "['identifiant_de_l_etablissement',\n",
              " 'nom_etablissement',\n",
              " 'type_etablissement',\n",
              " 'statut_public_prive',\n",
              " 'adresse_1',\n",
              " 'adresse_2',\n",
              " 'adresse_3',\n",
              " 'code_postal',\n",
              " 'code_commune',\n",
              " 'nom_commune',\n",
              " 'code_departement',\n",
              " 'code_academie',\n",
              " 'code_region',\n",
              " 'ecole_maternelle',\n",
              " 'ecole_elementaire',\n",
              " 'voie_generale',\n",
              " 'voie_technologique',\n",
              " 'voie_professionnelle',\n",
              " 'telephone',\n",
              " 'fax',\n",
              " 'web',\n",
              " 'mail',\n",
              " 'restauration',\n",
              " 'hebergement',\n",
              " 'ulis',\n",
              " 'apprentissage',\n",
              " 'segpa',\n",
              " 'section_arts',\n",
              " 'section_cinema',\n",
              " 'section_theatre',\n",
              " 'section_sport',\n",
              " 'section_internationale',\n",
              " 'section_europeenne',\n",
              " 'lycee_agricole',\n",
              " 'lycee_militaire',\n",
              " 'lycee_des_metiers',\n",
              " 'post_bac',\n",
              " 'appartenance_education_prioritaire',\n",
              " 'greta',\n",
              " 'siren_siret',\n",
              " 'nombre_d_eleves',\n",
              " 'fiche_onisep',\n",
              " 'position',\n",
              " 'type_contrat_prive',\n",
              " 'libelle_departement',\n",
              " 'libelle_academie',\n",
              " 'libelle_region',\n",
              " 'coordx_origine',\n",
              " 'coordy_origine',\n",
              " 'epsg_origine',\n",
              " 'nom_circonscription',\n",
              " 'latitude',\n",
              " 'longitude',\n",
              " 'precision_localisation',\n",
              " 'date_ouverture',\n",
              " 'date_maj_ligne',\n",
              " 'etat',\n",
              " 'ministere_tutelle',\n",
              " 'multi_uai',\n",
              " 'rpi_concentre',\n",
              " 'rpi_disperse',\n",
              " 'code_nature',\n",
              " 'libelle_nature',\n",
              " 'code_type_contrat_prive',\n",
              " 'pial',\n",
              " 'etablissement_mere',\n",
              " 'type_rattachement_etablissement_mere',\n",
              " 'code_circonscription',\n",
              " 'code_zone_animation_pedagogique',\n",
              " 'libelle_zone_animation_pedagogique',\n",
              " 'code_bassin_formation',\n",
              " 'libelle_bassin_formation']"
            ]
          },
          "metadata": {},
          "execution_count": 8
        }
      ]
    },
    {
      "cell_type": "code",
      "source": [
        "print(f\"Valeurs uniques : {len(df['identifiant_de_l_etablissement'].unique())}\\n\")\n",
        "df['identifiant_de_l_etablissement'].sample(n=5, random_state=23)"
      ],
      "metadata": {
        "colab": {
          "base_uri": "https://localhost:8080/",
          "height": 276
        },
        "id": "Wse8411pKgsm",
        "outputId": "556a045b-7c76-4a42-d097-d348770938cf"
      },
      "execution_count": 15,
      "outputs": [
        {
          "output_type": "stream",
          "name": "stdout",
          "text": [
            "Valeurs uniques : 69566\n",
            "\n"
          ]
        },
        {
          "output_type": "execute_result",
          "data": {
            "text/plain": [
              "38177    0410723N\n",
              "55127    0320160A\n",
              "8413     0400274F\n",
              "61003    0221740X\n",
              "41125    0530674V\n",
              "Name: identifiant_de_l_etablissement, dtype: object"
            ],
            "text/html": [
              "<div>\n",
              "<style scoped>\n",
              "    .dataframe tbody tr th:only-of-type {\n",
              "        vertical-align: middle;\n",
              "    }\n",
              "\n",
              "    .dataframe tbody tr th {\n",
              "        vertical-align: top;\n",
              "    }\n",
              "\n",
              "    .dataframe thead th {\n",
              "        text-align: right;\n",
              "    }\n",
              "</style>\n",
              "<table border=\"1\" class=\"dataframe\">\n",
              "  <thead>\n",
              "    <tr style=\"text-align: right;\">\n",
              "      <th></th>\n",
              "      <th>identifiant_de_l_etablissement</th>\n",
              "    </tr>\n",
              "  </thead>\n",
              "  <tbody>\n",
              "    <tr>\n",
              "      <th>38177</th>\n",
              "      <td>0410723N</td>\n",
              "    </tr>\n",
              "    <tr>\n",
              "      <th>55127</th>\n",
              "      <td>0320160A</td>\n",
              "    </tr>\n",
              "    <tr>\n",
              "      <th>8413</th>\n",
              "      <td>0400274F</td>\n",
              "    </tr>\n",
              "    <tr>\n",
              "      <th>61003</th>\n",
              "      <td>0221740X</td>\n",
              "    </tr>\n",
              "    <tr>\n",
              "      <th>41125</th>\n",
              "      <td>0530674V</td>\n",
              "    </tr>\n",
              "  </tbody>\n",
              "</table>\n",
              "</div><br><label><b>dtype:</b> object</label>"
            ]
          },
          "metadata": {},
          "execution_count": 15
        }
      ]
    },
    {
      "cell_type": "code",
      "source": [
        "print(f\"Valeurs uniques : {len(df['nom_etablissement'].unique())}\\n\")\n",
        "df['nom_etablissement'].sample(n=5, random_state=23)"
      ],
      "metadata": {
        "colab": {
          "base_uri": "https://localhost:8080/",
          "height": 276
        },
        "id": "EUkgcWqyTPlG",
        "outputId": "f260051f-8e3e-4c09-8720-3315cd78ad6d"
      },
      "execution_count": 16,
      "outputs": [
        {
          "output_type": "stream",
          "name": "stdout",
          "text": [
            "Valeurs uniques : 42633\n",
            "\n"
          ]
        },
        {
          "output_type": "execute_result",
          "data": {
            "text/plain": [
              "38177     Ecole primaire privée Sainte Geneviève\n",
              "55127                 Ecole élémentaire publique\n",
              "8413                              Ecole primaire\n",
              "61003    Ecole primaire publique La Ville Hellio\n",
              "41125       Ecole primaire privée L'Ange Gardien\n",
              "Name: nom_etablissement, dtype: object"
            ],
            "text/html": [
              "<div>\n",
              "<style scoped>\n",
              "    .dataframe tbody tr th:only-of-type {\n",
              "        vertical-align: middle;\n",
              "    }\n",
              "\n",
              "    .dataframe tbody tr th {\n",
              "        vertical-align: top;\n",
              "    }\n",
              "\n",
              "    .dataframe thead th {\n",
              "        text-align: right;\n",
              "    }\n",
              "</style>\n",
              "<table border=\"1\" class=\"dataframe\">\n",
              "  <thead>\n",
              "    <tr style=\"text-align: right;\">\n",
              "      <th></th>\n",
              "      <th>nom_etablissement</th>\n",
              "    </tr>\n",
              "  </thead>\n",
              "  <tbody>\n",
              "    <tr>\n",
              "      <th>38177</th>\n",
              "      <td>Ecole primaire privée Sainte Geneviève</td>\n",
              "    </tr>\n",
              "    <tr>\n",
              "      <th>55127</th>\n",
              "      <td>Ecole élémentaire publique</td>\n",
              "    </tr>\n",
              "    <tr>\n",
              "      <th>8413</th>\n",
              "      <td>Ecole primaire</td>\n",
              "    </tr>\n",
              "    <tr>\n",
              "      <th>61003</th>\n",
              "      <td>Ecole primaire publique La Ville Hellio</td>\n",
              "    </tr>\n",
              "    <tr>\n",
              "      <th>41125</th>\n",
              "      <td>Ecole primaire privée L'Ange Gardien</td>\n",
              "    </tr>\n",
              "  </tbody>\n",
              "</table>\n",
              "</div><br><label><b>dtype:</b> object</label>"
            ]
          },
          "metadata": {},
          "execution_count": 16
        }
      ]
    },
    {
      "cell_type": "code",
      "source": [
        "print(f\"Valeurs uniques : {len(df['type_etablissement'].unique())}\\n\")\n",
        "df['type_etablissement'].sample(n=5, random_state=23)"
      ],
      "metadata": {
        "colab": {
          "base_uri": "https://localhost:8080/",
          "height": 276
        },
        "id": "cA2dpB-tUABD",
        "outputId": "2ee11234-d08a-4490-d034-2078fb182f57"
      },
      "execution_count": 17,
      "outputs": [
        {
          "output_type": "stream",
          "name": "stdout",
          "text": [
            "Valeurs uniques : 9\n",
            "\n"
          ]
        },
        {
          "output_type": "execute_result",
          "data": {
            "text/plain": [
              "38177    Ecole\n",
              "55127    Ecole\n",
              "8413     Ecole\n",
              "61003    Ecole\n",
              "41125    Ecole\n",
              "Name: type_etablissement, dtype: object"
            ],
            "text/html": [
              "<div>\n",
              "<style scoped>\n",
              "    .dataframe tbody tr th:only-of-type {\n",
              "        vertical-align: middle;\n",
              "    }\n",
              "\n",
              "    .dataframe tbody tr th {\n",
              "        vertical-align: top;\n",
              "    }\n",
              "\n",
              "    .dataframe thead th {\n",
              "        text-align: right;\n",
              "    }\n",
              "</style>\n",
              "<table border=\"1\" class=\"dataframe\">\n",
              "  <thead>\n",
              "    <tr style=\"text-align: right;\">\n",
              "      <th></th>\n",
              "      <th>type_etablissement</th>\n",
              "    </tr>\n",
              "  </thead>\n",
              "  <tbody>\n",
              "    <tr>\n",
              "      <th>38177</th>\n",
              "      <td>Ecole</td>\n",
              "    </tr>\n",
              "    <tr>\n",
              "      <th>55127</th>\n",
              "      <td>Ecole</td>\n",
              "    </tr>\n",
              "    <tr>\n",
              "      <th>8413</th>\n",
              "      <td>Ecole</td>\n",
              "    </tr>\n",
              "    <tr>\n",
              "      <th>61003</th>\n",
              "      <td>Ecole</td>\n",
              "    </tr>\n",
              "    <tr>\n",
              "      <th>41125</th>\n",
              "      <td>Ecole</td>\n",
              "    </tr>\n",
              "  </tbody>\n",
              "</table>\n",
              "</div><br><label><b>dtype:</b> object</label>"
            ]
          },
          "metadata": {},
          "execution_count": 17
        }
      ]
    },
    {
      "cell_type": "code",
      "source": [
        "df['type_etablissement'].unique()"
      ],
      "metadata": {
        "colab": {
          "base_uri": "https://localhost:8080/"
        },
        "id": "0Yde3jA_UFt_",
        "outputId": "61d75633-872d-47d2-d940-a5444c9811ae"
      },
      "execution_count": 18,
      "outputs": [
        {
          "output_type": "execute_result",
          "data": {
            "text/plain": [
              "array(['Ecole', 'Collège', 'Lycée', 'Médico-social',\n",
              "       'Information et orientation', 'Service Administratif', None,\n",
              "       'EREA', 'Autre'], dtype=object)"
            ]
          },
          "metadata": {},
          "execution_count": 18
        }
      ]
    },
    {
      "cell_type": "code",
      "source": [
        "print(f\"Valeurs uniques : {len(df['statut_public_prive'].unique())}\\n\")\n",
        "df['statut_public_prive'].sample(n=5, random_state=23)"
      ],
      "metadata": {
        "colab": {
          "base_uri": "https://localhost:8080/",
          "height": 276
        },
        "id": "iAkvRlh5UJ70",
        "outputId": "894edf1f-b727-4a72-a205-084f5d6141d7"
      },
      "execution_count": 19,
      "outputs": [
        {
          "output_type": "stream",
          "name": "stdout",
          "text": [
            "Valeurs uniques : 3\n",
            "\n"
          ]
        },
        {
          "output_type": "execute_result",
          "data": {
            "text/plain": [
              "38177     Privé\n",
              "55127    Public\n",
              "8413     Public\n",
              "61003    Public\n",
              "41125     Privé\n",
              "Name: statut_public_prive, dtype: object"
            ],
            "text/html": [
              "<div>\n",
              "<style scoped>\n",
              "    .dataframe tbody tr th:only-of-type {\n",
              "        vertical-align: middle;\n",
              "    }\n",
              "\n",
              "    .dataframe tbody tr th {\n",
              "        vertical-align: top;\n",
              "    }\n",
              "\n",
              "    .dataframe thead th {\n",
              "        text-align: right;\n",
              "    }\n",
              "</style>\n",
              "<table border=\"1\" class=\"dataframe\">\n",
              "  <thead>\n",
              "    <tr style=\"text-align: right;\">\n",
              "      <th></th>\n",
              "      <th>statut_public_prive</th>\n",
              "    </tr>\n",
              "  </thead>\n",
              "  <tbody>\n",
              "    <tr>\n",
              "      <th>38177</th>\n",
              "      <td>Privé</td>\n",
              "    </tr>\n",
              "    <tr>\n",
              "      <th>55127</th>\n",
              "      <td>Public</td>\n",
              "    </tr>\n",
              "    <tr>\n",
              "      <th>8413</th>\n",
              "      <td>Public</td>\n",
              "    </tr>\n",
              "    <tr>\n",
              "      <th>61003</th>\n",
              "      <td>Public</td>\n",
              "    </tr>\n",
              "    <tr>\n",
              "      <th>41125</th>\n",
              "      <td>Privé</td>\n",
              "    </tr>\n",
              "  </tbody>\n",
              "</table>\n",
              "</div><br><label><b>dtype:</b> object</label>"
            ]
          },
          "metadata": {},
          "execution_count": 19
        }
      ]
    },
    {
      "cell_type": "code",
      "source": [
        "df['statut_public_prive'].unique()"
      ],
      "metadata": {
        "colab": {
          "base_uri": "https://localhost:8080/"
        },
        "id": "RO6hs1yqU0Mi",
        "outputId": "f7446d95-a1ba-4e7f-d1a2-e91013644557"
      },
      "execution_count": 20,
      "outputs": [
        {
          "output_type": "execute_result",
          "data": {
            "text/plain": [
              "array(['Public', 'Privé', None], dtype=object)"
            ]
          },
          "metadata": {},
          "execution_count": 20
        }
      ]
    },
    {
      "cell_type": "code",
      "source": [
        "print(f\"Valeurs uniques : {len(df['adresse_1'].unique())}\\n\")\n",
        "df['adresse_1'].sample(n=5, random_state=23)"
      ],
      "metadata": {
        "colab": {
          "base_uri": "https://localhost:8080/",
          "height": 276
        },
        "id": "WN8QU_JYU6MO",
        "outputId": "4ab5cdb0-c0d5-402a-aed9-42b3349c9748"
      },
      "execution_count": 21,
      "outputs": [
        {
          "output_type": "stream",
          "name": "stdout",
          "text": [
            "Valeurs uniques : 51680\n",
            "\n"
          ]
        },
        {
          "output_type": "execute_result",
          "data": {
            "text/plain": [
              "38177          22 rue Abel Poulin\n",
              "55127                  AU CHATEAU\n",
              "8413     22 route des Genêts d'Or\n",
              "61003           2 rue DE GASCOGNE\n",
              "41125            10 RUE DU CENTRE\n",
              "Name: adresse_1, dtype: object"
            ],
            "text/html": [
              "<div>\n",
              "<style scoped>\n",
              "    .dataframe tbody tr th:only-of-type {\n",
              "        vertical-align: middle;\n",
              "    }\n",
              "\n",
              "    .dataframe tbody tr th {\n",
              "        vertical-align: top;\n",
              "    }\n",
              "\n",
              "    .dataframe thead th {\n",
              "        text-align: right;\n",
              "    }\n",
              "</style>\n",
              "<table border=\"1\" class=\"dataframe\">\n",
              "  <thead>\n",
              "    <tr style=\"text-align: right;\">\n",
              "      <th></th>\n",
              "      <th>adresse_1</th>\n",
              "    </tr>\n",
              "  </thead>\n",
              "  <tbody>\n",
              "    <tr>\n",
              "      <th>38177</th>\n",
              "      <td>22 rue Abel Poulin</td>\n",
              "    </tr>\n",
              "    <tr>\n",
              "      <th>55127</th>\n",
              "      <td>AU CHATEAU</td>\n",
              "    </tr>\n",
              "    <tr>\n",
              "      <th>8413</th>\n",
              "      <td>22 route des Genêts d'Or</td>\n",
              "    </tr>\n",
              "    <tr>\n",
              "      <th>61003</th>\n",
              "      <td>2 rue DE GASCOGNE</td>\n",
              "    </tr>\n",
              "    <tr>\n",
              "      <th>41125</th>\n",
              "      <td>10 RUE DU CENTRE</td>\n",
              "    </tr>\n",
              "  </tbody>\n",
              "</table>\n",
              "</div><br><label><b>dtype:</b> object</label>"
            ]
          },
          "metadata": {},
          "execution_count": 21
        }
      ]
    },
    {
      "cell_type": "code",
      "source": [
        "print(f\"Valeurs uniques : {len(df['adresse_2'].unique())}\\n\")\n",
        "df['adresse_2'].sample(n=5, random_state=23)"
      ],
      "metadata": {
        "colab": {
          "base_uri": "https://localhost:8080/",
          "height": 276
        },
        "id": "OElem5SmVBTt",
        "outputId": "9ae04392-28f4-4001-d349-4d1a98f960aa"
      },
      "execution_count": 22,
      "outputs": [
        {
          "output_type": "stream",
          "name": "stdout",
          "text": [
            "Valeurs uniques : 7034\n",
            "\n"
          ]
        },
        {
          "output_type": "execute_result",
          "data": {
            "text/plain": [
              "38177       CONTRES\n",
              "55127    AU CHATEAU\n",
              "8413           None\n",
              "61003           RUE\n",
              "41125          None\n",
              "Name: adresse_2, dtype: object"
            ],
            "text/html": [
              "<div>\n",
              "<style scoped>\n",
              "    .dataframe tbody tr th:only-of-type {\n",
              "        vertical-align: middle;\n",
              "    }\n",
              "\n",
              "    .dataframe tbody tr th {\n",
              "        vertical-align: top;\n",
              "    }\n",
              "\n",
              "    .dataframe thead th {\n",
              "        text-align: right;\n",
              "    }\n",
              "</style>\n",
              "<table border=\"1\" class=\"dataframe\">\n",
              "  <thead>\n",
              "    <tr style=\"text-align: right;\">\n",
              "      <th></th>\n",
              "      <th>adresse_2</th>\n",
              "    </tr>\n",
              "  </thead>\n",
              "  <tbody>\n",
              "    <tr>\n",
              "      <th>38177</th>\n",
              "      <td>CONTRES</td>\n",
              "    </tr>\n",
              "    <tr>\n",
              "      <th>55127</th>\n",
              "      <td>AU CHATEAU</td>\n",
              "    </tr>\n",
              "    <tr>\n",
              "      <th>8413</th>\n",
              "      <td>None</td>\n",
              "    </tr>\n",
              "    <tr>\n",
              "      <th>61003</th>\n",
              "      <td>RUE</td>\n",
              "    </tr>\n",
              "    <tr>\n",
              "      <th>41125</th>\n",
              "      <td>None</td>\n",
              "    </tr>\n",
              "  </tbody>\n",
              "</table>\n",
              "</div><br><label><b>dtype:</b> object</label>"
            ]
          },
          "metadata": {},
          "execution_count": 22
        }
      ]
    },
    {
      "cell_type": "code",
      "source": [
        "print(f\"Valeurs uniques : {len(df['adresse_3'].unique())}\\n\")\n",
        "df['adresse_3'].sample(n=5, random_state=23)"
      ],
      "metadata": {
        "colab": {
          "base_uri": "https://localhost:8080/",
          "height": 276
        },
        "id": "xS0QKUFoVKBg",
        "outputId": "ef8e62a9-5116-4341-96ff-67a49d447656"
      },
      "execution_count": 23,
      "outputs": [
        {
          "output_type": "stream",
          "name": "stdout",
          "text": [
            "Valeurs uniques : 22915\n",
            "\n"
          ]
        },
        {
          "output_type": "execute_result",
          "data": {
            "text/plain": [
              "38177    41700 LE CONTROIS EN SOLOGNE\n",
              "55127       32240 MONLEZUN D ARMAGNAC\n",
              "8413                      40380 LOUER\n",
              "61003                 22000 ST BRIEUC\n",
              "41125      53500 ST PIERRE DES LANDES\n",
              "Name: adresse_3, dtype: object"
            ],
            "text/html": [
              "<div>\n",
              "<style scoped>\n",
              "    .dataframe tbody tr th:only-of-type {\n",
              "        vertical-align: middle;\n",
              "    }\n",
              "\n",
              "    .dataframe tbody tr th {\n",
              "        vertical-align: top;\n",
              "    }\n",
              "\n",
              "    .dataframe thead th {\n",
              "        text-align: right;\n",
              "    }\n",
              "</style>\n",
              "<table border=\"1\" class=\"dataframe\">\n",
              "  <thead>\n",
              "    <tr style=\"text-align: right;\">\n",
              "      <th></th>\n",
              "      <th>adresse_3</th>\n",
              "    </tr>\n",
              "  </thead>\n",
              "  <tbody>\n",
              "    <tr>\n",
              "      <th>38177</th>\n",
              "      <td>41700 LE CONTROIS EN SOLOGNE</td>\n",
              "    </tr>\n",
              "    <tr>\n",
              "      <th>55127</th>\n",
              "      <td>32240 MONLEZUN D ARMAGNAC</td>\n",
              "    </tr>\n",
              "    <tr>\n",
              "      <th>8413</th>\n",
              "      <td>40380 LOUER</td>\n",
              "    </tr>\n",
              "    <tr>\n",
              "      <th>61003</th>\n",
              "      <td>22000 ST BRIEUC</td>\n",
              "    </tr>\n",
              "    <tr>\n",
              "      <th>41125</th>\n",
              "      <td>53500 ST PIERRE DES LANDES</td>\n",
              "    </tr>\n",
              "  </tbody>\n",
              "</table>\n",
              "</div><br><label><b>dtype:</b> object</label>"
            ]
          },
          "metadata": {},
          "execution_count": 23
        }
      ]
    },
    {
      "cell_type": "code",
      "source": [
        "print(f\"Valeurs uniques : {len(df['code_postal'].unique())}\\n\")\n",
        "df['code_postal'].sample(n=5, random_state=23)"
      ],
      "metadata": {
        "colab": {
          "base_uri": "https://localhost:8080/",
          "height": 276
        },
        "id": "232kU4XgVQTJ",
        "outputId": "8da19379-62c8-4262-caa1-513e737d4ae0"
      },
      "execution_count": 24,
      "outputs": [
        {
          "output_type": "stream",
          "name": "stdout",
          "text": [
            "Valeurs uniques : 8432\n",
            "\n"
          ]
        },
        {
          "output_type": "execute_result",
          "data": {
            "text/plain": [
              "38177    41700\n",
              "55127    32240\n",
              "8413     40380\n",
              "61003    22000\n",
              "41125    53500\n",
              "Name: code_postal, dtype: object"
            ],
            "text/html": [
              "<div>\n",
              "<style scoped>\n",
              "    .dataframe tbody tr th:only-of-type {\n",
              "        vertical-align: middle;\n",
              "    }\n",
              "\n",
              "    .dataframe tbody tr th {\n",
              "        vertical-align: top;\n",
              "    }\n",
              "\n",
              "    .dataframe thead th {\n",
              "        text-align: right;\n",
              "    }\n",
              "</style>\n",
              "<table border=\"1\" class=\"dataframe\">\n",
              "  <thead>\n",
              "    <tr style=\"text-align: right;\">\n",
              "      <th></th>\n",
              "      <th>code_postal</th>\n",
              "    </tr>\n",
              "  </thead>\n",
              "  <tbody>\n",
              "    <tr>\n",
              "      <th>38177</th>\n",
              "      <td>41700</td>\n",
              "    </tr>\n",
              "    <tr>\n",
              "      <th>55127</th>\n",
              "      <td>32240</td>\n",
              "    </tr>\n",
              "    <tr>\n",
              "      <th>8413</th>\n",
              "      <td>40380</td>\n",
              "    </tr>\n",
              "    <tr>\n",
              "      <th>61003</th>\n",
              "      <td>22000</td>\n",
              "    </tr>\n",
              "    <tr>\n",
              "      <th>41125</th>\n",
              "      <td>53500</td>\n",
              "    </tr>\n",
              "  </tbody>\n",
              "</table>\n",
              "</div><br><label><b>dtype:</b> object</label>"
            ]
          },
          "metadata": {},
          "execution_count": 24
        }
      ]
    },
    {
      "cell_type": "code",
      "source": [
        "print(f\"Valeurs uniques : {len(df['code_commune'].unique())}\\n\")\n",
        "df['code_commune'].sample(n=5, random_state=23)"
      ],
      "metadata": {
        "colab": {
          "base_uri": "https://localhost:8080/",
          "height": 276
        },
        "id": "pmYQ3C4hVQ1G",
        "outputId": "37c69dc3-1824-45b0-87f7-36767adc62d9"
      },
      "execution_count": 25,
      "outputs": [
        {
          "output_type": "stream",
          "name": "stdout",
          "text": [
            "Valeurs uniques : 21548\n",
            "\n"
          ]
        },
        {
          "output_type": "execute_result",
          "data": {
            "text/plain": [
              "38177    41059\n",
              "55127    32274\n",
              "8413     40159\n",
              "61003    22278\n",
              "41125    53245\n",
              "Name: code_commune, dtype: object"
            ],
            "text/html": [
              "<div>\n",
              "<style scoped>\n",
              "    .dataframe tbody tr th:only-of-type {\n",
              "        vertical-align: middle;\n",
              "    }\n",
              "\n",
              "    .dataframe tbody tr th {\n",
              "        vertical-align: top;\n",
              "    }\n",
              "\n",
              "    .dataframe thead th {\n",
              "        text-align: right;\n",
              "    }\n",
              "</style>\n",
              "<table border=\"1\" class=\"dataframe\">\n",
              "  <thead>\n",
              "    <tr style=\"text-align: right;\">\n",
              "      <th></th>\n",
              "      <th>code_commune</th>\n",
              "    </tr>\n",
              "  </thead>\n",
              "  <tbody>\n",
              "    <tr>\n",
              "      <th>38177</th>\n",
              "      <td>41059</td>\n",
              "    </tr>\n",
              "    <tr>\n",
              "      <th>55127</th>\n",
              "      <td>32274</td>\n",
              "    </tr>\n",
              "    <tr>\n",
              "      <th>8413</th>\n",
              "      <td>40159</td>\n",
              "    </tr>\n",
              "    <tr>\n",
              "      <th>61003</th>\n",
              "      <td>22278</td>\n",
              "    </tr>\n",
              "    <tr>\n",
              "      <th>41125</th>\n",
              "      <td>53245</td>\n",
              "    </tr>\n",
              "  </tbody>\n",
              "</table>\n",
              "</div><br><label><b>dtype:</b> object</label>"
            ]
          },
          "metadata": {},
          "execution_count": 25
        }
      ]
    },
    {
      "cell_type": "code",
      "source": [
        "print(f\"Valeurs uniques : {len(df['nom_commune'].unique())}\\n\")\n",
        "df['nom_commune'].sample(n=5, random_state=23)"
      ],
      "metadata": {
        "colab": {
          "base_uri": "https://localhost:8080/",
          "height": 276
        },
        "id": "b0CO79fuVQ3X",
        "outputId": "626fc61e-0a6b-4567-bb9b-4ec8e3f5a55b"
      },
      "execution_count": 26,
      "outputs": [
        {
          "output_type": "stream",
          "name": "stdout",
          "text": [
            "Valeurs uniques : 20829\n",
            "\n"
          ]
        },
        {
          "output_type": "execute_result",
          "data": {
            "text/plain": [
              "38177     Le Controis-en-Sologne\n",
              "55127        Monlezun-d'Armagnac\n",
              "8413                       Louer\n",
              "61003               Saint-Brieuc\n",
              "41125    Saint-Pierre-des-Landes\n",
              "Name: nom_commune, dtype: object"
            ],
            "text/html": [
              "<div>\n",
              "<style scoped>\n",
              "    .dataframe tbody tr th:only-of-type {\n",
              "        vertical-align: middle;\n",
              "    }\n",
              "\n",
              "    .dataframe tbody tr th {\n",
              "        vertical-align: top;\n",
              "    }\n",
              "\n",
              "    .dataframe thead th {\n",
              "        text-align: right;\n",
              "    }\n",
              "</style>\n",
              "<table border=\"1\" class=\"dataframe\">\n",
              "  <thead>\n",
              "    <tr style=\"text-align: right;\">\n",
              "      <th></th>\n",
              "      <th>nom_commune</th>\n",
              "    </tr>\n",
              "  </thead>\n",
              "  <tbody>\n",
              "    <tr>\n",
              "      <th>38177</th>\n",
              "      <td>Le Controis-en-Sologne</td>\n",
              "    </tr>\n",
              "    <tr>\n",
              "      <th>55127</th>\n",
              "      <td>Monlezun-d'Armagnac</td>\n",
              "    </tr>\n",
              "    <tr>\n",
              "      <th>8413</th>\n",
              "      <td>Louer</td>\n",
              "    </tr>\n",
              "    <tr>\n",
              "      <th>61003</th>\n",
              "      <td>Saint-Brieuc</td>\n",
              "    </tr>\n",
              "    <tr>\n",
              "      <th>41125</th>\n",
              "      <td>Saint-Pierre-des-Landes</td>\n",
              "    </tr>\n",
              "  </tbody>\n",
              "</table>\n",
              "</div><br><label><b>dtype:</b> object</label>"
            ]
          },
          "metadata": {},
          "execution_count": 26
        }
      ]
    },
    {
      "cell_type": "code",
      "source": [
        "print(f\"Valeurs uniques : {len(df['code_departement'].unique())}\\n\")\n",
        "df['code_departement'].sample(n=5, random_state=23)"
      ],
      "metadata": {
        "colab": {
          "base_uri": "https://localhost:8080/",
          "height": 276
        },
        "id": "i-Y7kpVOVQ5d",
        "outputId": "0ebccadd-c4bf-40dd-d643-49d9d8771768"
      },
      "execution_count": 27,
      "outputs": [
        {
          "output_type": "stream",
          "name": "stdout",
          "text": [
            "Valeurs uniques : 107\n",
            "\n"
          ]
        },
        {
          "output_type": "execute_result",
          "data": {
            "text/plain": [
              "38177    041\n",
              "55127    032\n",
              "8413     040\n",
              "61003    022\n",
              "41125    053\n",
              "Name: code_departement, dtype: object"
            ],
            "text/html": [
              "<div>\n",
              "<style scoped>\n",
              "    .dataframe tbody tr th:only-of-type {\n",
              "        vertical-align: middle;\n",
              "    }\n",
              "\n",
              "    .dataframe tbody tr th {\n",
              "        vertical-align: top;\n",
              "    }\n",
              "\n",
              "    .dataframe thead th {\n",
              "        text-align: right;\n",
              "    }\n",
              "</style>\n",
              "<table border=\"1\" class=\"dataframe\">\n",
              "  <thead>\n",
              "    <tr style=\"text-align: right;\">\n",
              "      <th></th>\n",
              "      <th>code_departement</th>\n",
              "    </tr>\n",
              "  </thead>\n",
              "  <tbody>\n",
              "    <tr>\n",
              "      <th>38177</th>\n",
              "      <td>041</td>\n",
              "    </tr>\n",
              "    <tr>\n",
              "      <th>55127</th>\n",
              "      <td>032</td>\n",
              "    </tr>\n",
              "    <tr>\n",
              "      <th>8413</th>\n",
              "      <td>040</td>\n",
              "    </tr>\n",
              "    <tr>\n",
              "      <th>61003</th>\n",
              "      <td>022</td>\n",
              "    </tr>\n",
              "    <tr>\n",
              "      <th>41125</th>\n",
              "      <td>053</td>\n",
              "    </tr>\n",
              "  </tbody>\n",
              "</table>\n",
              "</div><br><label><b>dtype:</b> object</label>"
            ]
          },
          "metadata": {},
          "execution_count": 27
        }
      ]
    },
    {
      "cell_type": "code",
      "source": [
        "print(f\"Valeurs uniques : {len(df['code_academie'].unique())}\\n\")\n",
        "df['code_academie'].sample(n=5, random_state=23)"
      ],
      "metadata": {
        "colab": {
          "base_uri": "https://localhost:8080/",
          "height": 276
        },
        "id": "QDQyyyP4VQ7k",
        "outputId": "99675042-51e0-4dba-ce1e-7ff9102a2b9f"
      },
      "execution_count": 28,
      "outputs": [
        {
          "output_type": "stream",
          "name": "stdout",
          "text": [
            "Valeurs uniques : 34\n",
            "\n"
          ]
        },
        {
          "output_type": "execute_result",
          "data": {
            "text/plain": [
              "38177    18\n",
              "55127    16\n",
              "8413     04\n",
              "61003    14\n",
              "41125    17\n",
              "Name: code_academie, dtype: object"
            ],
            "text/html": [
              "<div>\n",
              "<style scoped>\n",
              "    .dataframe tbody tr th:only-of-type {\n",
              "        vertical-align: middle;\n",
              "    }\n",
              "\n",
              "    .dataframe tbody tr th {\n",
              "        vertical-align: top;\n",
              "    }\n",
              "\n",
              "    .dataframe thead th {\n",
              "        text-align: right;\n",
              "    }\n",
              "</style>\n",
              "<table border=\"1\" class=\"dataframe\">\n",
              "  <thead>\n",
              "    <tr style=\"text-align: right;\">\n",
              "      <th></th>\n",
              "      <th>code_academie</th>\n",
              "    </tr>\n",
              "  </thead>\n",
              "  <tbody>\n",
              "    <tr>\n",
              "      <th>38177</th>\n",
              "      <td>18</td>\n",
              "    </tr>\n",
              "    <tr>\n",
              "      <th>55127</th>\n",
              "      <td>16</td>\n",
              "    </tr>\n",
              "    <tr>\n",
              "      <th>8413</th>\n",
              "      <td>04</td>\n",
              "    </tr>\n",
              "    <tr>\n",
              "      <th>61003</th>\n",
              "      <td>14</td>\n",
              "    </tr>\n",
              "    <tr>\n",
              "      <th>41125</th>\n",
              "      <td>17</td>\n",
              "    </tr>\n",
              "  </tbody>\n",
              "</table>\n",
              "</div><br><label><b>dtype:</b> object</label>"
            ]
          },
          "metadata": {},
          "execution_count": 28
        }
      ]
    },
    {
      "cell_type": "code",
      "source": [
        "print(f\"Valeurs uniques : {len(df['code_region'].unique())}\\n\")\n",
        "df['code_region'].sample(n=5, random_state=23)"
      ],
      "metadata": {
        "colab": {
          "base_uri": "https://localhost:8080/",
          "height": 276
        },
        "id": "nBC6ir3FVQ_p",
        "outputId": "99f1591a-b911-4336-f4ac-4496f4b625e4"
      },
      "execution_count": 29,
      "outputs": [
        {
          "output_type": "stream",
          "name": "stdout",
          "text": [
            "Valeurs uniques : 19\n",
            "\n"
          ]
        },
        {
          "output_type": "execute_result",
          "data": {
            "text/plain": [
              "38177    24\n",
              "55127    76\n",
              "8413     75\n",
              "61003    53\n",
              "41125    52\n",
              "Name: code_region, dtype: object"
            ],
            "text/html": [
              "<div>\n",
              "<style scoped>\n",
              "    .dataframe tbody tr th:only-of-type {\n",
              "        vertical-align: middle;\n",
              "    }\n",
              "\n",
              "    .dataframe tbody tr th {\n",
              "        vertical-align: top;\n",
              "    }\n",
              "\n",
              "    .dataframe thead th {\n",
              "        text-align: right;\n",
              "    }\n",
              "</style>\n",
              "<table border=\"1\" class=\"dataframe\">\n",
              "  <thead>\n",
              "    <tr style=\"text-align: right;\">\n",
              "      <th></th>\n",
              "      <th>code_region</th>\n",
              "    </tr>\n",
              "  </thead>\n",
              "  <tbody>\n",
              "    <tr>\n",
              "      <th>38177</th>\n",
              "      <td>24</td>\n",
              "    </tr>\n",
              "    <tr>\n",
              "      <th>55127</th>\n",
              "      <td>76</td>\n",
              "    </tr>\n",
              "    <tr>\n",
              "      <th>8413</th>\n",
              "      <td>75</td>\n",
              "    </tr>\n",
              "    <tr>\n",
              "      <th>61003</th>\n",
              "      <td>53</td>\n",
              "    </tr>\n",
              "    <tr>\n",
              "      <th>41125</th>\n",
              "      <td>52</td>\n",
              "    </tr>\n",
              "  </tbody>\n",
              "</table>\n",
              "</div><br><label><b>dtype:</b> object</label>"
            ]
          },
          "metadata": {},
          "execution_count": 29
        }
      ]
    },
    {
      "cell_type": "code",
      "source": [
        "print(f\"Valeurs uniques : {len(df['ecole_maternelle'].unique())}\\n\")\n",
        "df['ecole_maternelle'].sample(n=5, random_state=23)"
      ],
      "metadata": {
        "colab": {
          "base_uri": "https://localhost:8080/",
          "height": 276
        },
        "id": "5shsM05aVRCU",
        "outputId": "f37189d0-a92e-4dab-ec31-0a80d4894ee9"
      },
      "execution_count": 30,
      "outputs": [
        {
          "output_type": "stream",
          "name": "stdout",
          "text": [
            "Valeurs uniques : 3\n",
            "\n"
          ]
        },
        {
          "output_type": "execute_result",
          "data": {
            "text/plain": [
              "38177    1.0\n",
              "55127    0.0\n",
              "8413     1.0\n",
              "61003    1.0\n",
              "41125    1.0\n",
              "Name: ecole_maternelle, dtype: float64"
            ],
            "text/html": [
              "<div>\n",
              "<style scoped>\n",
              "    .dataframe tbody tr th:only-of-type {\n",
              "        vertical-align: middle;\n",
              "    }\n",
              "\n",
              "    .dataframe tbody tr th {\n",
              "        vertical-align: top;\n",
              "    }\n",
              "\n",
              "    .dataframe thead th {\n",
              "        text-align: right;\n",
              "    }\n",
              "</style>\n",
              "<table border=\"1\" class=\"dataframe\">\n",
              "  <thead>\n",
              "    <tr style=\"text-align: right;\">\n",
              "      <th></th>\n",
              "      <th>ecole_maternelle</th>\n",
              "    </tr>\n",
              "  </thead>\n",
              "  <tbody>\n",
              "    <tr>\n",
              "      <th>38177</th>\n",
              "      <td>1.0</td>\n",
              "    </tr>\n",
              "    <tr>\n",
              "      <th>55127</th>\n",
              "      <td>0.0</td>\n",
              "    </tr>\n",
              "    <tr>\n",
              "      <th>8413</th>\n",
              "      <td>1.0</td>\n",
              "    </tr>\n",
              "    <tr>\n",
              "      <th>61003</th>\n",
              "      <td>1.0</td>\n",
              "    </tr>\n",
              "    <tr>\n",
              "      <th>41125</th>\n",
              "      <td>1.0</td>\n",
              "    </tr>\n",
              "  </tbody>\n",
              "</table>\n",
              "</div><br><label><b>dtype:</b> float64</label>"
            ]
          },
          "metadata": {},
          "execution_count": 30
        }
      ]
    },
    {
      "cell_type": "code",
      "source": [
        "df['ecole_maternelle'].unique()"
      ],
      "metadata": {
        "colab": {
          "base_uri": "https://localhost:8080/"
        },
        "id": "17_ECDVuVRE9",
        "outputId": "7c77abc8-7843-4b34-ae95-4b58b673ddc8"
      },
      "execution_count": 31,
      "outputs": [
        {
          "output_type": "execute_result",
          "data": {
            "text/plain": [
              "array([ 1.,  0., nan])"
            ]
          },
          "metadata": {},
          "execution_count": 31
        }
      ]
    },
    {
      "cell_type": "code",
      "source": [
        "print(f\"Valeurs uniques : {len(df['ecole_maternelle'].unique())}\\n\")\n",
        "df['ecole_maternelle'].sample(n=5, random_state=23)"
      ],
      "metadata": {
        "id": "wpvGEXtfVRIS"
      },
      "execution_count": null,
      "outputs": []
    },
    {
      "cell_type": "code",
      "source": [],
      "metadata": {
        "id": "o-ACwVrUs-yd"
      },
      "execution_count": null,
      "outputs": []
    },
    {
      "cell_type": "code",
      "source": [],
      "metadata": {
        "id": "Uq7uY6res-2C"
      },
      "execution_count": null,
      "outputs": []
    },
    {
      "cell_type": "code",
      "source": [],
      "metadata": {
        "id": "w08kToS8s-6m"
      },
      "execution_count": null,
      "outputs": []
    },
    {
      "cell_type": "code",
      "source": [],
      "metadata": {
        "id": "aQcGQs61s_BC"
      },
      "execution_count": null,
      "outputs": []
    },
    {
      "cell_type": "code",
      "source": [],
      "metadata": {
        "id": "z1ijZyBZs_Ex"
      },
      "execution_count": null,
      "outputs": []
    },
    {
      "cell_type": "code",
      "source": [],
      "metadata": {
        "id": "SHaFNeNMs_Ig"
      },
      "execution_count": null,
      "outputs": []
    },
    {
      "cell_type": "code",
      "source": [],
      "metadata": {
        "id": "kSrqFfk9s_Mu"
      },
      "execution_count": null,
      "outputs": []
    },
    {
      "cell_type": "code",
      "source": [],
      "metadata": {
        "id": "fzXL5-dSs_Qv"
      },
      "execution_count": null,
      "outputs": []
    },
    {
      "cell_type": "code",
      "source": [],
      "metadata": {
        "id": "kQhVBkBws_U8"
      },
      "execution_count": null,
      "outputs": []
    },
    {
      "cell_type": "code",
      "source": [],
      "metadata": {
        "id": "JDndnpZhs_Y6"
      },
      "execution_count": null,
      "outputs": []
    },
    {
      "cell_type": "markdown",
      "source": [
        "## Sélection du département pour la POC (93)"
      ],
      "metadata": {
        "id": "EK0NyBnZUPNT"
      }
    },
    {
      "cell_type": "code",
      "source": [],
      "metadata": {
        "id": "FTdb0u4HUSS2"
      },
      "execution_count": null,
      "outputs": []
    },
    {
      "cell_type": "markdown",
      "source": [
        "## Feature selection / feature engineering"
      ],
      "metadata": {
        "id": "ZLgYeiHLUd3f"
      }
    },
    {
      "cell_type": "code",
      "source": [
        "# Colonne type_etablissement\n",
        "# Ne prendre que Ecole / Collège / Lycée ?\n",
        "\n",
        "# Utilité adresse_1, adresse_2, adresse_3 ?\n",
        "\n",
        "# Vérifier cohérence entre code_commune et code_departement\n",
        "\n",
        "# Utilité du binaire ecole_maternelle ?"
      ],
      "metadata": {
        "id": "1AwcmucSUi96"
      },
      "execution_count": null,
      "outputs": []
    },
    {
      "cell_type": "code",
      "source": [
        "# Créer 2eme table pour viz uniquement ? Jointure sur ID_etablissement\n",
        "col_pour_viz = [\n",
        "    'nom_etablissement', 'statut_public_prive', 'adresse_1', 'adresse_2',\n",
        "    'adresse_3', 'code_postal', 'code_commune', 'nom_commune', 'code_academie',\n",
        "    'code_region',\n",
        "]"
      ],
      "metadata": {
        "id": "tSTVkDVLUsk8"
      },
      "execution_count": null,
      "outputs": []
    }
  ]
}
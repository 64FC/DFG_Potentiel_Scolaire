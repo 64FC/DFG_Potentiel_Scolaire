{
  "nbformat": 4,
  "nbformat_minor": 0,
  "metadata": {
    "colab": {
      "provenance": [],
      "collapsed_sections": [
        "3zRljnVGbQQf",
        "ZLgYeiHLUd3f",
        "-zlDSu-ZkKim"
      ],
      "authorship_tag": "ABX9TyNuHRkfixmnz8NvNYfzFNxK"
    },
    "kernelspec": {
      "name": "python3",
      "display_name": "Python 3"
    },
    "language_info": {
      "name": "python"
    }
  },
  "cells": [
    {
      "cell_type": "markdown",
      "source": [
        "# Potentiel s(c)olaire\n",
        "\n",
        "Données disponibles :\n",
        "* [Annuaire de l'éducation gouv.fr](https://data.education.gouv.fr/explore/dataset/fr-en-annuaire-education/information/?disjunctive.type_etablissement&disjunctive.libelle_academie&disjunctive.libelle_region&disjunctive.ministere_tutelle&disjunctive.appartenance_education_prioritaire&disjunctive.nom_commune&disjunctive.code_postal&disjunctive.code_departement)\n",
        "* [BD Topo](https://geoservices.ign.fr/bdtopo)"
      ],
      "metadata": {
        "id": "GtQLiWEhGjfG"
      }
    },
    {
      "cell_type": "markdown",
      "source": [
        "## Données gouv.fr"
      ],
      "metadata": {
        "id": "0o6Pk-dJBa86"
      }
    },
    {
      "cell_type": "markdown",
      "source": [
        "### Récupération des données"
      ],
      "metadata": {
        "id": "SIoeASJETZjG"
      }
    },
    {
      "cell_type": "code",
      "source": [
        "# Je commence par installer le module requests pour récupérer les données via API\n",
        "#!pip install requests"
      ],
      "metadata": {
        "colab": {
          "base_uri": "https://localhost:8080/"
        },
        "id": "9bsiADptGjrl",
        "outputId": "8d1ab702-1bc7-4181-aa93-4e1514698e39"
      },
      "execution_count": null,
      "outputs": [
        {
          "output_type": "stream",
          "name": "stdout",
          "text": [
            "Requirement already satisfied: requests in /usr/local/lib/python3.11/dist-packages (2.32.3)\n",
            "Requirement already satisfied: charset-normalizer<4,>=2 in /usr/local/lib/python3.11/dist-packages (from requests) (3.4.1)\n",
            "Requirement already satisfied: idna<4,>=2.5 in /usr/local/lib/python3.11/dist-packages (from requests) (3.10)\n",
            "Requirement already satisfied: urllib3<3,>=1.21.1 in /usr/local/lib/python3.11/dist-packages (from requests) (2.3.0)\n",
            "Requirement already satisfied: certifi>=2017.4.17 in /usr/local/lib/python3.11/dist-packages (from requests) (2024.12.14)\n"
          ]
        }
      ]
    },
    {
      "cell_type": "code",
      "source": [
        "# Import des modules utilisés\n",
        "import requests\n",
        "import pandas as pd"
      ],
      "metadata": {
        "id": "2lb0AGwPGkh-"
      },
      "execution_count": null,
      "outputs": []
    },
    {
      "cell_type": "code",
      "source": [
        "# Définition de l'url qui contient les données\n",
        "url = 'https://data.education.gouv.fr/api/explore/v2.1/catalog/datasets/fr-en-annuaire-education/exports/json'\n",
        "\n",
        "# Récupération des données\n",
        "response = requests.get(url)\n",
        "\n",
        "# Vérification de la bonne récupération\n",
        "if response.status_code == 200:\n",
        "  data = response.json()\n",
        "  print(\"Données disponibles !\\n\")\n",
        "  # Création du jeu de données\n",
        "  df = pd.DataFrame(data)\n",
        "  print(f\"Le dataframe contient {df.shape[0]} lignes et {df.shape[1]} colonnes.\")\n",
        "else:\n",
        "  print(f\"Erreur: {response.status_code}\")"
      ],
      "metadata": {
        "colab": {
          "base_uri": "https://localhost:8080/"
        },
        "id": "aspzNNrgGtz2",
        "outputId": "f9623130-4d6c-4845-d3fc-1e92309026d3"
      },
      "execution_count": null,
      "outputs": [
        {
          "output_type": "stream",
          "name": "stdout",
          "text": [
            "Données disponibles !\n",
            "\n",
            "Le dataframe contient 69649 lignes et 72 colonnes. Ci-dessous un extrait :\n",
            "\n"
          ]
        }
      ]
    },
    {
      "cell_type": "code",
      "source": [
        "# Affichage des premières lignes du jeu de données\n",
        "df.head()"
      ],
      "metadata": {
        "colab": {
          "base_uri": "https://localhost:8080/",
          "height": 446
        },
        "id": "oTeOaXEOJcxn",
        "outputId": "fd60d6cf-ef13-413b-985d-124a70c38d7a"
      },
      "execution_count": null,
      "outputs": [
        {
          "output_type": "execute_result",
          "data": {
            "text/plain": [
              "  identifiant_de_l_etablissement                   nom_etablissement  \\\n",
              "0                       0470132N  Ecole primaire Jean-Irénée Lagnoux   \n",
              "1                       0470154M     Ecole élémentaire Jean Villemin   \n",
              "2                       0470160U  Ecole élémentaire Marc Castelnérac   \n",
              "3                       0470172G       Ecole primaire Didier Lapeyre   \n",
              "4                       0470175K          Ecole primaire Simone Veil   \n",
              "\n",
              "  type_etablissement statut_public_prive                     adresse_1  \\\n",
              "0              Ecole              Public            312 rue René Marty   \n",
              "1              Ecole              Public  4 place Jean-François Poncet   \n",
              "2              Ecole              Public          2 rue André Tissidre   \n",
              "3              Ecole              Public                Rue de la Gare   \n",
              "4              Ecole              Public         24 boulevard Scaliger   \n",
              "\n",
              "                 adresse_2            adresse_3 code_postal code_commune  \\\n",
              "0                 AU BOURG          47240 LAFOX       47240        47128   \n",
              "1                 LE BOURG  47480 PONT DU CASSE       47480        47209   \n",
              "2                     None   47510 FOULAYRONNES       47510        47100   \n",
              "3  Saint Pierre de Gaubert            47550 BOE       47550        47031   \n",
              "4                     None           47000 AGEN       47000        47001   \n",
              "\n",
              "     nom_commune  ...               libelle_nature code_type_contrat_prive  \\\n",
              "0          Lafox  ...  ECOLE DE NIVEAU ELEMENTAIRE                      99   \n",
              "1  Pont-du-Casse  ...  ECOLE DE NIVEAU ELEMENTAIRE                      99   \n",
              "2   Foulayronnes  ...  ECOLE DE NIVEAU ELEMENTAIRE                      99   \n",
              "3            Boé  ...  ECOLE DE NIVEAU ELEMENTAIRE                      99   \n",
              "4           Agen  ...  ECOLE DE NIVEAU ELEMENTAIRE                      99   \n",
              "\n",
              "       pial  etablissement_mere  type_rattachement_etablissement_mere  \\\n",
              "0  0470720C                None                                  None   \n",
              "1  0470677F                None                                  None   \n",
              "2  0470005A                None                                  None   \n",
              "3  0470008D                None                                  None   \n",
              "4  0470005A                None                                  None   \n",
              "\n",
              "  code_circonscription code_zone_animation_pedagogique  \\\n",
              "0             0470897V                          047030   \n",
              "1             0470897V                          047030   \n",
              "2             0470897V                          047030   \n",
              "3             0470897V                          047030   \n",
              "4             0470897V                          047030   \n",
              "\n",
              "  libelle_zone_animation_pedagogique code_bassin_formation  \\\n",
              "0                    ZAP 047030 AGEN                  None   \n",
              "1                    ZAP 047030 AGEN                  None   \n",
              "2                    ZAP 047030 AGEN                 04401   \n",
              "3                    ZAP 047030 AGEN                  None   \n",
              "4                    ZAP 047030 AGEN                 04401   \n",
              "\n",
              "  libelle_bassin_formation  \n",
              "0                     None  \n",
              "1                     None  \n",
              "2               AGEN-NERAC  \n",
              "3                     None  \n",
              "4               AGEN-NERAC  \n",
              "\n",
              "[5 rows x 72 columns]"
            ],
            "text/html": [
              "\n",
              "  <div id=\"df-83063920-8229-4d38-a7c0-74f0e0762940\" class=\"colab-df-container\">\n",
              "    <div>\n",
              "<style scoped>\n",
              "    .dataframe tbody tr th:only-of-type {\n",
              "        vertical-align: middle;\n",
              "    }\n",
              "\n",
              "    .dataframe tbody tr th {\n",
              "        vertical-align: top;\n",
              "    }\n",
              "\n",
              "    .dataframe thead th {\n",
              "        text-align: right;\n",
              "    }\n",
              "</style>\n",
              "<table border=\"1\" class=\"dataframe\">\n",
              "  <thead>\n",
              "    <tr style=\"text-align: right;\">\n",
              "      <th></th>\n",
              "      <th>identifiant_de_l_etablissement</th>\n",
              "      <th>nom_etablissement</th>\n",
              "      <th>type_etablissement</th>\n",
              "      <th>statut_public_prive</th>\n",
              "      <th>adresse_1</th>\n",
              "      <th>adresse_2</th>\n",
              "      <th>adresse_3</th>\n",
              "      <th>code_postal</th>\n",
              "      <th>code_commune</th>\n",
              "      <th>nom_commune</th>\n",
              "      <th>...</th>\n",
              "      <th>libelle_nature</th>\n",
              "      <th>code_type_contrat_prive</th>\n",
              "      <th>pial</th>\n",
              "      <th>etablissement_mere</th>\n",
              "      <th>type_rattachement_etablissement_mere</th>\n",
              "      <th>code_circonscription</th>\n",
              "      <th>code_zone_animation_pedagogique</th>\n",
              "      <th>libelle_zone_animation_pedagogique</th>\n",
              "      <th>code_bassin_formation</th>\n",
              "      <th>libelle_bassin_formation</th>\n",
              "    </tr>\n",
              "  </thead>\n",
              "  <tbody>\n",
              "    <tr>\n",
              "      <th>0</th>\n",
              "      <td>0470132N</td>\n",
              "      <td>Ecole primaire Jean-Irénée Lagnoux</td>\n",
              "      <td>Ecole</td>\n",
              "      <td>Public</td>\n",
              "      <td>312 rue René Marty</td>\n",
              "      <td>AU BOURG</td>\n",
              "      <td>47240 LAFOX</td>\n",
              "      <td>47240</td>\n",
              "      <td>47128</td>\n",
              "      <td>Lafox</td>\n",
              "      <td>...</td>\n",
              "      <td>ECOLE DE NIVEAU ELEMENTAIRE</td>\n",
              "      <td>99</td>\n",
              "      <td>0470720C</td>\n",
              "      <td>None</td>\n",
              "      <td>None</td>\n",
              "      <td>0470897V</td>\n",
              "      <td>047030</td>\n",
              "      <td>ZAP 047030 AGEN</td>\n",
              "      <td>None</td>\n",
              "      <td>None</td>\n",
              "    </tr>\n",
              "    <tr>\n",
              "      <th>1</th>\n",
              "      <td>0470154M</td>\n",
              "      <td>Ecole élémentaire Jean Villemin</td>\n",
              "      <td>Ecole</td>\n",
              "      <td>Public</td>\n",
              "      <td>4 place Jean-François Poncet</td>\n",
              "      <td>LE BOURG</td>\n",
              "      <td>47480 PONT DU CASSE</td>\n",
              "      <td>47480</td>\n",
              "      <td>47209</td>\n",
              "      <td>Pont-du-Casse</td>\n",
              "      <td>...</td>\n",
              "      <td>ECOLE DE NIVEAU ELEMENTAIRE</td>\n",
              "      <td>99</td>\n",
              "      <td>0470677F</td>\n",
              "      <td>None</td>\n",
              "      <td>None</td>\n",
              "      <td>0470897V</td>\n",
              "      <td>047030</td>\n",
              "      <td>ZAP 047030 AGEN</td>\n",
              "      <td>None</td>\n",
              "      <td>None</td>\n",
              "    </tr>\n",
              "    <tr>\n",
              "      <th>2</th>\n",
              "      <td>0470160U</td>\n",
              "      <td>Ecole élémentaire Marc Castelnérac</td>\n",
              "      <td>Ecole</td>\n",
              "      <td>Public</td>\n",
              "      <td>2 rue André Tissidre</td>\n",
              "      <td>None</td>\n",
              "      <td>47510 FOULAYRONNES</td>\n",
              "      <td>47510</td>\n",
              "      <td>47100</td>\n",
              "      <td>Foulayronnes</td>\n",
              "      <td>...</td>\n",
              "      <td>ECOLE DE NIVEAU ELEMENTAIRE</td>\n",
              "      <td>99</td>\n",
              "      <td>0470005A</td>\n",
              "      <td>None</td>\n",
              "      <td>None</td>\n",
              "      <td>0470897V</td>\n",
              "      <td>047030</td>\n",
              "      <td>ZAP 047030 AGEN</td>\n",
              "      <td>04401</td>\n",
              "      <td>AGEN-NERAC</td>\n",
              "    </tr>\n",
              "    <tr>\n",
              "      <th>3</th>\n",
              "      <td>0470172G</td>\n",
              "      <td>Ecole primaire Didier Lapeyre</td>\n",
              "      <td>Ecole</td>\n",
              "      <td>Public</td>\n",
              "      <td>Rue de la Gare</td>\n",
              "      <td>Saint Pierre de Gaubert</td>\n",
              "      <td>47550 BOE</td>\n",
              "      <td>47550</td>\n",
              "      <td>47031</td>\n",
              "      <td>Boé</td>\n",
              "      <td>...</td>\n",
              "      <td>ECOLE DE NIVEAU ELEMENTAIRE</td>\n",
              "      <td>99</td>\n",
              "      <td>0470008D</td>\n",
              "      <td>None</td>\n",
              "      <td>None</td>\n",
              "      <td>0470897V</td>\n",
              "      <td>047030</td>\n",
              "      <td>ZAP 047030 AGEN</td>\n",
              "      <td>None</td>\n",
              "      <td>None</td>\n",
              "    </tr>\n",
              "    <tr>\n",
              "      <th>4</th>\n",
              "      <td>0470175K</td>\n",
              "      <td>Ecole primaire Simone Veil</td>\n",
              "      <td>Ecole</td>\n",
              "      <td>Public</td>\n",
              "      <td>24 boulevard Scaliger</td>\n",
              "      <td>None</td>\n",
              "      <td>47000 AGEN</td>\n",
              "      <td>47000</td>\n",
              "      <td>47001</td>\n",
              "      <td>Agen</td>\n",
              "      <td>...</td>\n",
              "      <td>ECOLE DE NIVEAU ELEMENTAIRE</td>\n",
              "      <td>99</td>\n",
              "      <td>0470005A</td>\n",
              "      <td>None</td>\n",
              "      <td>None</td>\n",
              "      <td>0470897V</td>\n",
              "      <td>047030</td>\n",
              "      <td>ZAP 047030 AGEN</td>\n",
              "      <td>04401</td>\n",
              "      <td>AGEN-NERAC</td>\n",
              "    </tr>\n",
              "  </tbody>\n",
              "</table>\n",
              "<p>5 rows × 72 columns</p>\n",
              "</div>\n",
              "    <div class=\"colab-df-buttons\">\n",
              "\n",
              "  <div class=\"colab-df-container\">\n",
              "    <button class=\"colab-df-convert\" onclick=\"convertToInteractive('df-83063920-8229-4d38-a7c0-74f0e0762940')\"\n",
              "            title=\"Convert this dataframe to an interactive table.\"\n",
              "            style=\"display:none;\">\n",
              "\n",
              "  <svg xmlns=\"http://www.w3.org/2000/svg\" height=\"24px\" viewBox=\"0 -960 960 960\">\n",
              "    <path d=\"M120-120v-720h720v720H120Zm60-500h600v-160H180v160Zm220 220h160v-160H400v160Zm0 220h160v-160H400v160ZM180-400h160v-160H180v160Zm440 0h160v-160H620v160ZM180-180h160v-160H180v160Zm440 0h160v-160H620v160Z\"/>\n",
              "  </svg>\n",
              "    </button>\n",
              "\n",
              "  <style>\n",
              "    .colab-df-container {\n",
              "      display:flex;\n",
              "      gap: 12px;\n",
              "    }\n",
              "\n",
              "    .colab-df-convert {\n",
              "      background-color: #E8F0FE;\n",
              "      border: none;\n",
              "      border-radius: 50%;\n",
              "      cursor: pointer;\n",
              "      display: none;\n",
              "      fill: #1967D2;\n",
              "      height: 32px;\n",
              "      padding: 0 0 0 0;\n",
              "      width: 32px;\n",
              "    }\n",
              "\n",
              "    .colab-df-convert:hover {\n",
              "      background-color: #E2EBFA;\n",
              "      box-shadow: 0px 1px 2px rgba(60, 64, 67, 0.3), 0px 1px 3px 1px rgba(60, 64, 67, 0.15);\n",
              "      fill: #174EA6;\n",
              "    }\n",
              "\n",
              "    .colab-df-buttons div {\n",
              "      margin-bottom: 4px;\n",
              "    }\n",
              "\n",
              "    [theme=dark] .colab-df-convert {\n",
              "      background-color: #3B4455;\n",
              "      fill: #D2E3FC;\n",
              "    }\n",
              "\n",
              "    [theme=dark] .colab-df-convert:hover {\n",
              "      background-color: #434B5C;\n",
              "      box-shadow: 0px 1px 3px 1px rgba(0, 0, 0, 0.15);\n",
              "      filter: drop-shadow(0px 1px 2px rgba(0, 0, 0, 0.3));\n",
              "      fill: #FFFFFF;\n",
              "    }\n",
              "  </style>\n",
              "\n",
              "    <script>\n",
              "      const buttonEl =\n",
              "        document.querySelector('#df-83063920-8229-4d38-a7c0-74f0e0762940 button.colab-df-convert');\n",
              "      buttonEl.style.display =\n",
              "        google.colab.kernel.accessAllowed ? 'block' : 'none';\n",
              "\n",
              "      async function convertToInteractive(key) {\n",
              "        const element = document.querySelector('#df-83063920-8229-4d38-a7c0-74f0e0762940');\n",
              "        const dataTable =\n",
              "          await google.colab.kernel.invokeFunction('convertToInteractive',\n",
              "                                                    [key], {});\n",
              "        if (!dataTable) return;\n",
              "\n",
              "        const docLinkHtml = 'Like what you see? Visit the ' +\n",
              "          '<a target=\"_blank\" href=https://colab.research.google.com/notebooks/data_table.ipynb>data table notebook</a>'\n",
              "          + ' to learn more about interactive tables.';\n",
              "        element.innerHTML = '';\n",
              "        dataTable['output_type'] = 'display_data';\n",
              "        await google.colab.output.renderOutput(dataTable, element);\n",
              "        const docLink = document.createElement('div');\n",
              "        docLink.innerHTML = docLinkHtml;\n",
              "        element.appendChild(docLink);\n",
              "      }\n",
              "    </script>\n",
              "  </div>\n",
              "\n",
              "\n",
              "<div id=\"df-ed5b7668-642e-453f-943b-05b926d1ba0d\">\n",
              "  <button class=\"colab-df-quickchart\" onclick=\"quickchart('df-ed5b7668-642e-453f-943b-05b926d1ba0d')\"\n",
              "            title=\"Suggest charts\"\n",
              "            style=\"display:none;\">\n",
              "\n",
              "<svg xmlns=\"http://www.w3.org/2000/svg\" height=\"24px\"viewBox=\"0 0 24 24\"\n",
              "     width=\"24px\">\n",
              "    <g>\n",
              "        <path d=\"M19 3H5c-1.1 0-2 .9-2 2v14c0 1.1.9 2 2 2h14c1.1 0 2-.9 2-2V5c0-1.1-.9-2-2-2zM9 17H7v-7h2v7zm4 0h-2V7h2v10zm4 0h-2v-4h2v4z\"/>\n",
              "    </g>\n",
              "</svg>\n",
              "  </button>\n",
              "\n",
              "<style>\n",
              "  .colab-df-quickchart {\n",
              "      --bg-color: #E8F0FE;\n",
              "      --fill-color: #1967D2;\n",
              "      --hover-bg-color: #E2EBFA;\n",
              "      --hover-fill-color: #174EA6;\n",
              "      --disabled-fill-color: #AAA;\n",
              "      --disabled-bg-color: #DDD;\n",
              "  }\n",
              "\n",
              "  [theme=dark] .colab-df-quickchart {\n",
              "      --bg-color: #3B4455;\n",
              "      --fill-color: #D2E3FC;\n",
              "      --hover-bg-color: #434B5C;\n",
              "      --hover-fill-color: #FFFFFF;\n",
              "      --disabled-bg-color: #3B4455;\n",
              "      --disabled-fill-color: #666;\n",
              "  }\n",
              "\n",
              "  .colab-df-quickchart {\n",
              "    background-color: var(--bg-color);\n",
              "    border: none;\n",
              "    border-radius: 50%;\n",
              "    cursor: pointer;\n",
              "    display: none;\n",
              "    fill: var(--fill-color);\n",
              "    height: 32px;\n",
              "    padding: 0;\n",
              "    width: 32px;\n",
              "  }\n",
              "\n",
              "  .colab-df-quickchart:hover {\n",
              "    background-color: var(--hover-bg-color);\n",
              "    box-shadow: 0 1px 2px rgba(60, 64, 67, 0.3), 0 1px 3px 1px rgba(60, 64, 67, 0.15);\n",
              "    fill: var(--button-hover-fill-color);\n",
              "  }\n",
              "\n",
              "  .colab-df-quickchart-complete:disabled,\n",
              "  .colab-df-quickchart-complete:disabled:hover {\n",
              "    background-color: var(--disabled-bg-color);\n",
              "    fill: var(--disabled-fill-color);\n",
              "    box-shadow: none;\n",
              "  }\n",
              "\n",
              "  .colab-df-spinner {\n",
              "    border: 2px solid var(--fill-color);\n",
              "    border-color: transparent;\n",
              "    border-bottom-color: var(--fill-color);\n",
              "    animation:\n",
              "      spin 1s steps(1) infinite;\n",
              "  }\n",
              "\n",
              "  @keyframes spin {\n",
              "    0% {\n",
              "      border-color: transparent;\n",
              "      border-bottom-color: var(--fill-color);\n",
              "      border-left-color: var(--fill-color);\n",
              "    }\n",
              "    20% {\n",
              "      border-color: transparent;\n",
              "      border-left-color: var(--fill-color);\n",
              "      border-top-color: var(--fill-color);\n",
              "    }\n",
              "    30% {\n",
              "      border-color: transparent;\n",
              "      border-left-color: var(--fill-color);\n",
              "      border-top-color: var(--fill-color);\n",
              "      border-right-color: var(--fill-color);\n",
              "    }\n",
              "    40% {\n",
              "      border-color: transparent;\n",
              "      border-right-color: var(--fill-color);\n",
              "      border-top-color: var(--fill-color);\n",
              "    }\n",
              "    60% {\n",
              "      border-color: transparent;\n",
              "      border-right-color: var(--fill-color);\n",
              "    }\n",
              "    80% {\n",
              "      border-color: transparent;\n",
              "      border-right-color: var(--fill-color);\n",
              "      border-bottom-color: var(--fill-color);\n",
              "    }\n",
              "    90% {\n",
              "      border-color: transparent;\n",
              "      border-bottom-color: var(--fill-color);\n",
              "    }\n",
              "  }\n",
              "</style>\n",
              "\n",
              "  <script>\n",
              "    async function quickchart(key) {\n",
              "      const quickchartButtonEl =\n",
              "        document.querySelector('#' + key + ' button');\n",
              "      quickchartButtonEl.disabled = true;  // To prevent multiple clicks.\n",
              "      quickchartButtonEl.classList.add('colab-df-spinner');\n",
              "      try {\n",
              "        const charts = await google.colab.kernel.invokeFunction(\n",
              "            'suggestCharts', [key], {});\n",
              "      } catch (error) {\n",
              "        console.error('Error during call to suggestCharts:', error);\n",
              "      }\n",
              "      quickchartButtonEl.classList.remove('colab-df-spinner');\n",
              "      quickchartButtonEl.classList.add('colab-df-quickchart-complete');\n",
              "    }\n",
              "    (() => {\n",
              "      let quickchartButtonEl =\n",
              "        document.querySelector('#df-ed5b7668-642e-453f-943b-05b926d1ba0d button');\n",
              "      quickchartButtonEl.style.display =\n",
              "        google.colab.kernel.accessAllowed ? 'block' : 'none';\n",
              "    })();\n",
              "  </script>\n",
              "</div>\n",
              "\n",
              "    </div>\n",
              "  </div>\n"
            ],
            "application/vnd.google.colaboratory.intrinsic+json": {
              "type": "dataframe",
              "variable_name": "df"
            }
          },
          "metadata": {},
          "execution_count": 8
        }
      ]
    },
    {
      "cell_type": "code",
      "source": [
        "# Vérification que toutes les données ont été exportées\n",
        "\n",
        "# Url permettant d'accéder aux enregistrements (dont le total_count)\n",
        "url_ = 'https://data.education.gouv.fr/api/explore/v2.1/catalog/datasets/fr-en-annuaire-education/records'\n",
        "\n",
        "# Récupération via appel GET\n",
        "response_ = requests.get(url_)\n",
        "\n",
        "# On s'assure que l'appel a fonctionné\n",
        "if response_.status_code == 200:\n",
        "    data_ = response_.json()\n",
        "else:\n",
        "    print(f\"Error: {response_.status_code}\")\n",
        "\n",
        "# Enfin, on compare avec la taille attendue\n",
        "try:\n",
        "  assert data_['total_count'] == len(df)\n",
        "except AssertionError as e:\n",
        "  print(f\"Données non complètement récupérées, erreur : {f}.\")\n",
        "else:\n",
        "  print(\"Toutes les données sont bien récupérées.\")"
      ],
      "metadata": {
        "colab": {
          "base_uri": "https://localhost:8080/"
        },
        "id": "n5ZunbP3Jq1z",
        "outputId": "924f4a7c-ff2b-4f77-cda2-6842e85ff6a9"
      },
      "execution_count": null,
      "outputs": [
        {
          "output_type": "stream",
          "name": "stdout",
          "text": [
            "Toutes les données sont bien récupérées.\n"
          ]
        }
      ]
    },
    {
      "cell_type": "markdown",
      "source": [
        "### Analyse des colonnes"
      ],
      "metadata": {
        "id": "EZsOVUuvTdKk"
      }
    },
    {
      "cell_type": "code",
      "source": [
        "# Liste des colonnes pour analyse\n",
        "list(df.columns)"
      ],
      "metadata": {
        "colab": {
          "base_uri": "https://localhost:8080/"
        },
        "id": "hRQnmV6JTCFx",
        "outputId": "2ef54dd5-61ca-4a56-da2a-1ab9ebdbf9ad"
      },
      "execution_count": null,
      "outputs": [
        {
          "output_type": "execute_result",
          "data": {
            "text/plain": [
              "['identifiant_de_l_etablissement',\n",
              " 'nom_etablissement',\n",
              " 'type_etablissement',\n",
              " 'statut_public_prive',\n",
              " 'adresse_1',\n",
              " 'adresse_2',\n",
              " 'adresse_3',\n",
              " 'code_postal',\n",
              " 'code_commune',\n",
              " 'nom_commune',\n",
              " 'code_departement',\n",
              " 'code_academie',\n",
              " 'code_region',\n",
              " 'ecole_maternelle',\n",
              " 'ecole_elementaire',\n",
              " 'voie_generale',\n",
              " 'voie_technologique',\n",
              " 'voie_professionnelle',\n",
              " 'telephone',\n",
              " 'fax',\n",
              " 'web',\n",
              " 'mail',\n",
              " 'restauration',\n",
              " 'hebergement',\n",
              " 'ulis',\n",
              " 'apprentissage',\n",
              " 'segpa',\n",
              " 'section_arts',\n",
              " 'section_cinema',\n",
              " 'section_theatre',\n",
              " 'section_sport',\n",
              " 'section_internationale',\n",
              " 'section_europeenne',\n",
              " 'lycee_agricole',\n",
              " 'lycee_militaire',\n",
              " 'lycee_des_metiers',\n",
              " 'post_bac',\n",
              " 'appartenance_education_prioritaire',\n",
              " 'greta',\n",
              " 'siren_siret',\n",
              " 'nombre_d_eleves',\n",
              " 'fiche_onisep',\n",
              " 'position',\n",
              " 'type_contrat_prive',\n",
              " 'libelle_departement',\n",
              " 'libelle_academie',\n",
              " 'libelle_region',\n",
              " 'coordx_origine',\n",
              " 'coordy_origine',\n",
              " 'epsg_origine',\n",
              " 'nom_circonscription',\n",
              " 'latitude',\n",
              " 'longitude',\n",
              " 'precision_localisation',\n",
              " 'date_ouverture',\n",
              " 'date_maj_ligne',\n",
              " 'etat',\n",
              " 'ministere_tutelle',\n",
              " 'multi_uai',\n",
              " 'rpi_concentre',\n",
              " 'rpi_disperse',\n",
              " 'code_nature',\n",
              " 'libelle_nature',\n",
              " 'code_type_contrat_prive',\n",
              " 'pial',\n",
              " 'etablissement_mere',\n",
              " 'type_rattachement_etablissement_mere',\n",
              " 'code_circonscription',\n",
              " 'code_zone_animation_pedagogique',\n",
              " 'libelle_zone_animation_pedagogique',\n",
              " 'code_bassin_formation',\n",
              " 'libelle_bassin_formation']"
            ]
          },
          "metadata": {},
          "execution_count": 10
        }
      ]
    },
    {
      "cell_type": "code",
      "source": [
        "print(f\"Valeurs uniques : {len(df['identifiant_de_l_etablissement'].unique())}\\n\")\n",
        "df['identifiant_de_l_etablissement'].sample(n=5, random_state=23)"
      ],
      "metadata": {
        "colab": {
          "base_uri": "https://localhost:8080/",
          "height": 276
        },
        "id": "Wse8411pKgsm",
        "outputId": "7aecca4c-1974-48d8-d97e-275105bb87be"
      },
      "execution_count": null,
      "outputs": [
        {
          "output_type": "stream",
          "name": "stdout",
          "text": [
            "Valeurs uniques : 69567\n",
            "\n"
          ]
        },
        {
          "output_type": "execute_result",
          "data": {
            "text/plain": [
              "38178    0330091V\n",
              "55129    0780891V\n",
              "8413     0573378M\n",
              "61005    0311451J\n",
              "39457    0660872P\n",
              "Name: identifiant_de_l_etablissement, dtype: object"
            ],
            "text/html": [
              "<div>\n",
              "<style scoped>\n",
              "    .dataframe tbody tr th:only-of-type {\n",
              "        vertical-align: middle;\n",
              "    }\n",
              "\n",
              "    .dataframe tbody tr th {\n",
              "        vertical-align: top;\n",
              "    }\n",
              "\n",
              "    .dataframe thead th {\n",
              "        text-align: right;\n",
              "    }\n",
              "</style>\n",
              "<table border=\"1\" class=\"dataframe\">\n",
              "  <thead>\n",
              "    <tr style=\"text-align: right;\">\n",
              "      <th></th>\n",
              "      <th>identifiant_de_l_etablissement</th>\n",
              "    </tr>\n",
              "  </thead>\n",
              "  <tbody>\n",
              "    <tr>\n",
              "      <th>38178</th>\n",
              "      <td>0330091V</td>\n",
              "    </tr>\n",
              "    <tr>\n",
              "      <th>55129</th>\n",
              "      <td>0780891V</td>\n",
              "    </tr>\n",
              "    <tr>\n",
              "      <th>8413</th>\n",
              "      <td>0573378M</td>\n",
              "    </tr>\n",
              "    <tr>\n",
              "      <th>61005</th>\n",
              "      <td>0311451J</td>\n",
              "    </tr>\n",
              "    <tr>\n",
              "      <th>39457</th>\n",
              "      <td>0660872P</td>\n",
              "    </tr>\n",
              "  </tbody>\n",
              "</table>\n",
              "</div><br><label><b>dtype:</b> object</label>"
            ]
          },
          "metadata": {},
          "execution_count": 11
        }
      ]
    },
    {
      "cell_type": "code",
      "source": [
        "print(f\"Valeurs uniques : {len(df['nom_etablissement'].unique())}\\n\")\n",
        "df['nom_etablissement'].sample(n=5, random_state=23)"
      ],
      "metadata": {
        "colab": {
          "base_uri": "https://localhost:8080/",
          "height": 276
        },
        "id": "EUkgcWqyTPlG",
        "outputId": "09d0fd62-29a5-4c58-9810-f51c8cedf0da"
      },
      "execution_count": null,
      "outputs": [
        {
          "output_type": "stream",
          "name": "stdout",
          "text": [
            "Valeurs uniques : 42631\n",
            "\n"
          ]
        },
        {
          "output_type": "execute_result",
          "data": {
            "text/plain": [
              "38178                    Collège Les Dagueys\n",
              "55129    Ecole élémentaire Ferdinand Buisson\n",
              "8413                 Ecole Primaire B. Rabas\n",
              "61005      Ecole primaire privée Saint-Louis\n",
              "39457             Collège privé Pompeu Fabra\n",
              "Name: nom_etablissement, dtype: object"
            ],
            "text/html": [
              "<div>\n",
              "<style scoped>\n",
              "    .dataframe tbody tr th:only-of-type {\n",
              "        vertical-align: middle;\n",
              "    }\n",
              "\n",
              "    .dataframe tbody tr th {\n",
              "        vertical-align: top;\n",
              "    }\n",
              "\n",
              "    .dataframe thead th {\n",
              "        text-align: right;\n",
              "    }\n",
              "</style>\n",
              "<table border=\"1\" class=\"dataframe\">\n",
              "  <thead>\n",
              "    <tr style=\"text-align: right;\">\n",
              "      <th></th>\n",
              "      <th>nom_etablissement</th>\n",
              "    </tr>\n",
              "  </thead>\n",
              "  <tbody>\n",
              "    <tr>\n",
              "      <th>38178</th>\n",
              "      <td>Collège Les Dagueys</td>\n",
              "    </tr>\n",
              "    <tr>\n",
              "      <th>55129</th>\n",
              "      <td>Ecole élémentaire Ferdinand Buisson</td>\n",
              "    </tr>\n",
              "    <tr>\n",
              "      <th>8413</th>\n",
              "      <td>Ecole Primaire B. Rabas</td>\n",
              "    </tr>\n",
              "    <tr>\n",
              "      <th>61005</th>\n",
              "      <td>Ecole primaire privée Saint-Louis</td>\n",
              "    </tr>\n",
              "    <tr>\n",
              "      <th>39457</th>\n",
              "      <td>Collège privé Pompeu Fabra</td>\n",
              "    </tr>\n",
              "  </tbody>\n",
              "</table>\n",
              "</div><br><label><b>dtype:</b> object</label>"
            ]
          },
          "metadata": {},
          "execution_count": 12
        }
      ]
    },
    {
      "cell_type": "code",
      "source": [
        "print(f\"Valeurs uniques : {len(df['type_etablissement'].unique())}\\n\")\n",
        "df['type_etablissement'].sample(n=5, random_state=23)"
      ],
      "metadata": {
        "colab": {
          "base_uri": "https://localhost:8080/",
          "height": 276
        },
        "id": "cA2dpB-tUABD",
        "outputId": "5039c355-5f5c-403a-90e8-2ec2a6c25ba6"
      },
      "execution_count": null,
      "outputs": [
        {
          "output_type": "stream",
          "name": "stdout",
          "text": [
            "Valeurs uniques : 9\n",
            "\n"
          ]
        },
        {
          "output_type": "execute_result",
          "data": {
            "text/plain": [
              "38178    Collège\n",
              "55129      Ecole\n",
              "8413       Ecole\n",
              "61005      Ecole\n",
              "39457    Collège\n",
              "Name: type_etablissement, dtype: object"
            ],
            "text/html": [
              "<div>\n",
              "<style scoped>\n",
              "    .dataframe tbody tr th:only-of-type {\n",
              "        vertical-align: middle;\n",
              "    }\n",
              "\n",
              "    .dataframe tbody tr th {\n",
              "        vertical-align: top;\n",
              "    }\n",
              "\n",
              "    .dataframe thead th {\n",
              "        text-align: right;\n",
              "    }\n",
              "</style>\n",
              "<table border=\"1\" class=\"dataframe\">\n",
              "  <thead>\n",
              "    <tr style=\"text-align: right;\">\n",
              "      <th></th>\n",
              "      <th>type_etablissement</th>\n",
              "    </tr>\n",
              "  </thead>\n",
              "  <tbody>\n",
              "    <tr>\n",
              "      <th>38178</th>\n",
              "      <td>Collège</td>\n",
              "    </tr>\n",
              "    <tr>\n",
              "      <th>55129</th>\n",
              "      <td>Ecole</td>\n",
              "    </tr>\n",
              "    <tr>\n",
              "      <th>8413</th>\n",
              "      <td>Ecole</td>\n",
              "    </tr>\n",
              "    <tr>\n",
              "      <th>61005</th>\n",
              "      <td>Ecole</td>\n",
              "    </tr>\n",
              "    <tr>\n",
              "      <th>39457</th>\n",
              "      <td>Collège</td>\n",
              "    </tr>\n",
              "  </tbody>\n",
              "</table>\n",
              "</div><br><label><b>dtype:</b> object</label>"
            ]
          },
          "metadata": {},
          "execution_count": 13
        }
      ]
    },
    {
      "cell_type": "code",
      "source": [
        "df['type_etablissement'].unique()"
      ],
      "metadata": {
        "colab": {
          "base_uri": "https://localhost:8080/"
        },
        "id": "0Yde3jA_UFt_",
        "outputId": "c1065902-b70c-4bb3-923e-f5b81f69cb23"
      },
      "execution_count": null,
      "outputs": [
        {
          "output_type": "execute_result",
          "data": {
            "text/plain": [
              "array(['Ecole', 'Collège', 'Lycée', 'EREA', 'Autre', 'Médico-social',\n",
              "       'Information et orientation', 'Service Administratif', None],\n",
              "      dtype=object)"
            ]
          },
          "metadata": {},
          "execution_count": 14
        }
      ]
    },
    {
      "cell_type": "code",
      "source": [
        "print(f\"Valeurs uniques : {len(df['statut_public_prive'].unique())}\\n\")\n",
        "df['statut_public_prive'].sample(n=5, random_state=23)"
      ],
      "metadata": {
        "colab": {
          "base_uri": "https://localhost:8080/",
          "height": 276
        },
        "id": "iAkvRlh5UJ70",
        "outputId": "2bcd5510-aa8a-473a-8917-2dd9ff6dd3eb"
      },
      "execution_count": null,
      "outputs": [
        {
          "output_type": "stream",
          "name": "stdout",
          "text": [
            "Valeurs uniques : 3\n",
            "\n"
          ]
        },
        {
          "output_type": "execute_result",
          "data": {
            "text/plain": [
              "38178    Public\n",
              "55129    Public\n",
              "8413     Public\n",
              "61005     Privé\n",
              "39457     Privé\n",
              "Name: statut_public_prive, dtype: object"
            ],
            "text/html": [
              "<div>\n",
              "<style scoped>\n",
              "    .dataframe tbody tr th:only-of-type {\n",
              "        vertical-align: middle;\n",
              "    }\n",
              "\n",
              "    .dataframe tbody tr th {\n",
              "        vertical-align: top;\n",
              "    }\n",
              "\n",
              "    .dataframe thead th {\n",
              "        text-align: right;\n",
              "    }\n",
              "</style>\n",
              "<table border=\"1\" class=\"dataframe\">\n",
              "  <thead>\n",
              "    <tr style=\"text-align: right;\">\n",
              "      <th></th>\n",
              "      <th>statut_public_prive</th>\n",
              "    </tr>\n",
              "  </thead>\n",
              "  <tbody>\n",
              "    <tr>\n",
              "      <th>38178</th>\n",
              "      <td>Public</td>\n",
              "    </tr>\n",
              "    <tr>\n",
              "      <th>55129</th>\n",
              "      <td>Public</td>\n",
              "    </tr>\n",
              "    <tr>\n",
              "      <th>8413</th>\n",
              "      <td>Public</td>\n",
              "    </tr>\n",
              "    <tr>\n",
              "      <th>61005</th>\n",
              "      <td>Privé</td>\n",
              "    </tr>\n",
              "    <tr>\n",
              "      <th>39457</th>\n",
              "      <td>Privé</td>\n",
              "    </tr>\n",
              "  </tbody>\n",
              "</table>\n",
              "</div><br><label><b>dtype:</b> object</label>"
            ]
          },
          "metadata": {},
          "execution_count": 15
        }
      ]
    },
    {
      "cell_type": "code",
      "source": [
        "df['statut_public_prive'].unique()"
      ],
      "metadata": {
        "colab": {
          "base_uri": "https://localhost:8080/"
        },
        "id": "RO6hs1yqU0Mi",
        "outputId": "e283eefa-eaa2-4a82-d65a-df6c36d77026"
      },
      "execution_count": null,
      "outputs": [
        {
          "output_type": "execute_result",
          "data": {
            "text/plain": [
              "array(['Public', 'Privé', None], dtype=object)"
            ]
          },
          "metadata": {},
          "execution_count": 16
        }
      ]
    },
    {
      "cell_type": "code",
      "source": [
        "print(f\"Valeurs uniques : {len(df['adresse_1'].unique())}\\n\")\n",
        "df['adresse_1'].sample(n=5, random_state=23)"
      ],
      "metadata": {
        "colab": {
          "base_uri": "https://localhost:8080/",
          "height": 276
        },
        "id": "WN8QU_JYU6MO",
        "outputId": "0738f404-ac1b-4135-ff62-cef409dcb340"
      },
      "execution_count": null,
      "outputs": [
        {
          "output_type": "stream",
          "name": "stdout",
          "text": [
            "Valeurs uniques : 51662\n",
            "\n"
          ]
        },
        {
          "output_type": "execute_result",
          "data": {
            "text/plain": [
              "38178    27 avenue François Mitterrand\n",
              "55129         05 rue Ferdinand Buisson\n",
              "8413             1 RUE DE LA PASSERINE\n",
              "61005                 78 place du Fort\n",
              "39457        1 avenue de la République\n",
              "Name: adresse_1, dtype: object"
            ],
            "text/html": [
              "<div>\n",
              "<style scoped>\n",
              "    .dataframe tbody tr th:only-of-type {\n",
              "        vertical-align: middle;\n",
              "    }\n",
              "\n",
              "    .dataframe tbody tr th {\n",
              "        vertical-align: top;\n",
              "    }\n",
              "\n",
              "    .dataframe thead th {\n",
              "        text-align: right;\n",
              "    }\n",
              "</style>\n",
              "<table border=\"1\" class=\"dataframe\">\n",
              "  <thead>\n",
              "    <tr style=\"text-align: right;\">\n",
              "      <th></th>\n",
              "      <th>adresse_1</th>\n",
              "    </tr>\n",
              "  </thead>\n",
              "  <tbody>\n",
              "    <tr>\n",
              "      <th>38178</th>\n",
              "      <td>27 avenue François Mitterrand</td>\n",
              "    </tr>\n",
              "    <tr>\n",
              "      <th>55129</th>\n",
              "      <td>05 rue Ferdinand Buisson</td>\n",
              "    </tr>\n",
              "    <tr>\n",
              "      <th>8413</th>\n",
              "      <td>1 RUE DE LA PASSERINE</td>\n",
              "    </tr>\n",
              "    <tr>\n",
              "      <th>61005</th>\n",
              "      <td>78 place du Fort</td>\n",
              "    </tr>\n",
              "    <tr>\n",
              "      <th>39457</th>\n",
              "      <td>1 avenue de la République</td>\n",
              "    </tr>\n",
              "  </tbody>\n",
              "</table>\n",
              "</div><br><label><b>dtype:</b> object</label>"
            ]
          },
          "metadata": {},
          "execution_count": 17
        }
      ]
    },
    {
      "cell_type": "code",
      "source": [
        "print(f\"Valeurs uniques : {len(df['adresse_2'].unique())}\\n\")\n",
        "df['adresse_2'].sample(n=5, random_state=23)"
      ],
      "metadata": {
        "colab": {
          "base_uri": "https://localhost:8080/",
          "height": 276
        },
        "id": "OElem5SmVBTt",
        "outputId": "8f916ef9-6cff-42b5-db18-bd5f1fb6b757"
      },
      "execution_count": null,
      "outputs": [
        {
          "output_type": "stream",
          "name": "stdout",
          "text": [
            "Valeurs uniques : 7035\n",
            "\n"
          ]
        },
        {
          "output_type": "execute_result",
          "data": {
            "text/plain": [
              "38178    BP 116\n",
              "55129      None\n",
              "8413       None\n",
              "61005      None\n",
              "39457      None\n",
              "Name: adresse_2, dtype: object"
            ],
            "text/html": [
              "<div>\n",
              "<style scoped>\n",
              "    .dataframe tbody tr th:only-of-type {\n",
              "        vertical-align: middle;\n",
              "    }\n",
              "\n",
              "    .dataframe tbody tr th {\n",
              "        vertical-align: top;\n",
              "    }\n",
              "\n",
              "    .dataframe thead th {\n",
              "        text-align: right;\n",
              "    }\n",
              "</style>\n",
              "<table border=\"1\" class=\"dataframe\">\n",
              "  <thead>\n",
              "    <tr style=\"text-align: right;\">\n",
              "      <th></th>\n",
              "      <th>adresse_2</th>\n",
              "    </tr>\n",
              "  </thead>\n",
              "  <tbody>\n",
              "    <tr>\n",
              "      <th>38178</th>\n",
              "      <td>BP 116</td>\n",
              "    </tr>\n",
              "    <tr>\n",
              "      <th>55129</th>\n",
              "      <td>None</td>\n",
              "    </tr>\n",
              "    <tr>\n",
              "      <th>8413</th>\n",
              "      <td>None</td>\n",
              "    </tr>\n",
              "    <tr>\n",
              "      <th>61005</th>\n",
              "      <td>None</td>\n",
              "    </tr>\n",
              "    <tr>\n",
              "      <th>39457</th>\n",
              "      <td>None</td>\n",
              "    </tr>\n",
              "  </tbody>\n",
              "</table>\n",
              "</div><br><label><b>dtype:</b> object</label>"
            ]
          },
          "metadata": {},
          "execution_count": 18
        }
      ]
    },
    {
      "cell_type": "code",
      "source": [
        "print(f\"Valeurs uniques : {len(df['adresse_3'].unique())}\\n\")\n",
        "df['adresse_3'].sample(n=5, random_state=23)"
      ],
      "metadata": {
        "colab": {
          "base_uri": "https://localhost:8080/",
          "height": 276
        },
        "id": "xS0QKUFoVKBg",
        "outputId": "ca3f4282-d364-4bf5-8c54-c9c2e98d6f05"
      },
      "execution_count": null,
      "outputs": [
        {
          "output_type": "stream",
          "name": "stdout",
          "text": [
            "Valeurs uniques : 22914\n",
            "\n"
          ]
        },
        {
          "output_type": "execute_result",
          "data": {
            "text/plain": [
              "38178                       None\n",
              "55129             78800 HOUILLES\n",
              "8413         57160 SCY CHAZELLES\n",
              "61005    31860 LABARTHE SUR LEZE\n",
              "39457                       None\n",
              "Name: adresse_3, dtype: object"
            ],
            "text/html": [
              "<div>\n",
              "<style scoped>\n",
              "    .dataframe tbody tr th:only-of-type {\n",
              "        vertical-align: middle;\n",
              "    }\n",
              "\n",
              "    .dataframe tbody tr th {\n",
              "        vertical-align: top;\n",
              "    }\n",
              "\n",
              "    .dataframe thead th {\n",
              "        text-align: right;\n",
              "    }\n",
              "</style>\n",
              "<table border=\"1\" class=\"dataframe\">\n",
              "  <thead>\n",
              "    <tr style=\"text-align: right;\">\n",
              "      <th></th>\n",
              "      <th>adresse_3</th>\n",
              "    </tr>\n",
              "  </thead>\n",
              "  <tbody>\n",
              "    <tr>\n",
              "      <th>38178</th>\n",
              "      <td>None</td>\n",
              "    </tr>\n",
              "    <tr>\n",
              "      <th>55129</th>\n",
              "      <td>78800 HOUILLES</td>\n",
              "    </tr>\n",
              "    <tr>\n",
              "      <th>8413</th>\n",
              "      <td>57160 SCY CHAZELLES</td>\n",
              "    </tr>\n",
              "    <tr>\n",
              "      <th>61005</th>\n",
              "      <td>31860 LABARTHE SUR LEZE</td>\n",
              "    </tr>\n",
              "    <tr>\n",
              "      <th>39457</th>\n",
              "      <td>None</td>\n",
              "    </tr>\n",
              "  </tbody>\n",
              "</table>\n",
              "</div><br><label><b>dtype:</b> object</label>"
            ]
          },
          "metadata": {},
          "execution_count": 19
        }
      ]
    },
    {
      "cell_type": "code",
      "source": [
        "print(f\"Valeurs uniques : {len(df['code_postal'].unique())}\\n\")\n",
        "df['code_postal'].sample(n=5, random_state=23)"
      ],
      "metadata": {
        "colab": {
          "base_uri": "https://localhost:8080/",
          "height": 276
        },
        "id": "232kU4XgVQTJ",
        "outputId": "b3f01383-2ab3-4459-ddb0-426523ca1d64"
      },
      "execution_count": null,
      "outputs": [
        {
          "output_type": "stream",
          "name": "stdout",
          "text": [
            "Valeurs uniques : 8431\n",
            "\n"
          ]
        },
        {
          "output_type": "execute_result",
          "data": {
            "text/plain": [
              "38178    33503\n",
              "55129    78800\n",
              "8413     57160\n",
              "61005    31860\n",
              "39457    66270\n",
              "Name: code_postal, dtype: object"
            ],
            "text/html": [
              "<div>\n",
              "<style scoped>\n",
              "    .dataframe tbody tr th:only-of-type {\n",
              "        vertical-align: middle;\n",
              "    }\n",
              "\n",
              "    .dataframe tbody tr th {\n",
              "        vertical-align: top;\n",
              "    }\n",
              "\n",
              "    .dataframe thead th {\n",
              "        text-align: right;\n",
              "    }\n",
              "</style>\n",
              "<table border=\"1\" class=\"dataframe\">\n",
              "  <thead>\n",
              "    <tr style=\"text-align: right;\">\n",
              "      <th></th>\n",
              "      <th>code_postal</th>\n",
              "    </tr>\n",
              "  </thead>\n",
              "  <tbody>\n",
              "    <tr>\n",
              "      <th>38178</th>\n",
              "      <td>33503</td>\n",
              "    </tr>\n",
              "    <tr>\n",
              "      <th>55129</th>\n",
              "      <td>78800</td>\n",
              "    </tr>\n",
              "    <tr>\n",
              "      <th>8413</th>\n",
              "      <td>57160</td>\n",
              "    </tr>\n",
              "    <tr>\n",
              "      <th>61005</th>\n",
              "      <td>31860</td>\n",
              "    </tr>\n",
              "    <tr>\n",
              "      <th>39457</th>\n",
              "      <td>66270</td>\n",
              "    </tr>\n",
              "  </tbody>\n",
              "</table>\n",
              "</div><br><label><b>dtype:</b> object</label>"
            ]
          },
          "metadata": {},
          "execution_count": 20
        }
      ]
    },
    {
      "cell_type": "code",
      "source": [
        "print(f\"Valeurs uniques : {len(df['code_commune'].unique())}\\n\")\n",
        "df['code_commune'].sample(n=5, random_state=23)"
      ],
      "metadata": {
        "colab": {
          "base_uri": "https://localhost:8080/",
          "height": 276
        },
        "id": "pmYQ3C4hVQ1G",
        "outputId": "2b307985-6e58-490c-980c-c5b79a693fae"
      },
      "execution_count": null,
      "outputs": [
        {
          "output_type": "stream",
          "name": "stdout",
          "text": [
            "Valeurs uniques : 21548\n",
            "\n"
          ]
        },
        {
          "output_type": "execute_result",
          "data": {
            "text/plain": [
              "38178    33243\n",
              "55129    78311\n",
              "8413     57642\n",
              "61005    31248\n",
              "39457    66195\n",
              "Name: code_commune, dtype: object"
            ],
            "text/html": [
              "<div>\n",
              "<style scoped>\n",
              "    .dataframe tbody tr th:only-of-type {\n",
              "        vertical-align: middle;\n",
              "    }\n",
              "\n",
              "    .dataframe tbody tr th {\n",
              "        vertical-align: top;\n",
              "    }\n",
              "\n",
              "    .dataframe thead th {\n",
              "        text-align: right;\n",
              "    }\n",
              "</style>\n",
              "<table border=\"1\" class=\"dataframe\">\n",
              "  <thead>\n",
              "    <tr style=\"text-align: right;\">\n",
              "      <th></th>\n",
              "      <th>code_commune</th>\n",
              "    </tr>\n",
              "  </thead>\n",
              "  <tbody>\n",
              "    <tr>\n",
              "      <th>38178</th>\n",
              "      <td>33243</td>\n",
              "    </tr>\n",
              "    <tr>\n",
              "      <th>55129</th>\n",
              "      <td>78311</td>\n",
              "    </tr>\n",
              "    <tr>\n",
              "      <th>8413</th>\n",
              "      <td>57642</td>\n",
              "    </tr>\n",
              "    <tr>\n",
              "      <th>61005</th>\n",
              "      <td>31248</td>\n",
              "    </tr>\n",
              "    <tr>\n",
              "      <th>39457</th>\n",
              "      <td>66195</td>\n",
              "    </tr>\n",
              "  </tbody>\n",
              "</table>\n",
              "</div><br><label><b>dtype:</b> object</label>"
            ]
          },
          "metadata": {},
          "execution_count": 21
        }
      ]
    },
    {
      "cell_type": "code",
      "source": [
        "print(f\"Valeurs uniques : {len(df['nom_commune'].unique())}\\n\")\n",
        "df['nom_commune'].sample(n=5, random_state=23)"
      ],
      "metadata": {
        "colab": {
          "base_uri": "https://localhost:8080/",
          "height": 276
        },
        "id": "b0CO79fuVQ3X",
        "outputId": "243cacd7-f829-4faa-c3ad-dbcab3424c0e"
      },
      "execution_count": null,
      "outputs": [
        {
          "output_type": "stream",
          "name": "stdout",
          "text": [
            "Valeurs uniques : 20829\n",
            "\n"
          ]
        },
        {
          "output_type": "execute_result",
          "data": {
            "text/plain": [
              "38178             Libourne\n",
              "55129             Houilles\n",
              "8413         Scy-Chazelles\n",
              "61005    Labarthe-sur-Lèze\n",
              "39457             Le Soler\n",
              "Name: nom_commune, dtype: object"
            ],
            "text/html": [
              "<div>\n",
              "<style scoped>\n",
              "    .dataframe tbody tr th:only-of-type {\n",
              "        vertical-align: middle;\n",
              "    }\n",
              "\n",
              "    .dataframe tbody tr th {\n",
              "        vertical-align: top;\n",
              "    }\n",
              "\n",
              "    .dataframe thead th {\n",
              "        text-align: right;\n",
              "    }\n",
              "</style>\n",
              "<table border=\"1\" class=\"dataframe\">\n",
              "  <thead>\n",
              "    <tr style=\"text-align: right;\">\n",
              "      <th></th>\n",
              "      <th>nom_commune</th>\n",
              "    </tr>\n",
              "  </thead>\n",
              "  <tbody>\n",
              "    <tr>\n",
              "      <th>38178</th>\n",
              "      <td>Libourne</td>\n",
              "    </tr>\n",
              "    <tr>\n",
              "      <th>55129</th>\n",
              "      <td>Houilles</td>\n",
              "    </tr>\n",
              "    <tr>\n",
              "      <th>8413</th>\n",
              "      <td>Scy-Chazelles</td>\n",
              "    </tr>\n",
              "    <tr>\n",
              "      <th>61005</th>\n",
              "      <td>Labarthe-sur-Lèze</td>\n",
              "    </tr>\n",
              "    <tr>\n",
              "      <th>39457</th>\n",
              "      <td>Le Soler</td>\n",
              "    </tr>\n",
              "  </tbody>\n",
              "</table>\n",
              "</div><br><label><b>dtype:</b> object</label>"
            ]
          },
          "metadata": {},
          "execution_count": 22
        }
      ]
    },
    {
      "cell_type": "code",
      "source": [
        "print(f\"Valeurs uniques : {len(df['code_departement'].unique())}\\n\")\n",
        "df['code_departement'].sample(n=5, random_state=23)"
      ],
      "metadata": {
        "colab": {
          "base_uri": "https://localhost:8080/",
          "height": 276
        },
        "id": "i-Y7kpVOVQ5d",
        "outputId": "2e6096ea-29e4-49e9-fdde-f18348c6cee3"
      },
      "execution_count": null,
      "outputs": [
        {
          "output_type": "stream",
          "name": "stdout",
          "text": [
            "Valeurs uniques : 107\n",
            "\n"
          ]
        },
        {
          "output_type": "execute_result",
          "data": {
            "text/plain": [
              "38178    033\n",
              "55129    078\n",
              "8413     057\n",
              "61005    031\n",
              "39457    066\n",
              "Name: code_departement, dtype: object"
            ],
            "text/html": [
              "<div>\n",
              "<style scoped>\n",
              "    .dataframe tbody tr th:only-of-type {\n",
              "        vertical-align: middle;\n",
              "    }\n",
              "\n",
              "    .dataframe tbody tr th {\n",
              "        vertical-align: top;\n",
              "    }\n",
              "\n",
              "    .dataframe thead th {\n",
              "        text-align: right;\n",
              "    }\n",
              "</style>\n",
              "<table border=\"1\" class=\"dataframe\">\n",
              "  <thead>\n",
              "    <tr style=\"text-align: right;\">\n",
              "      <th></th>\n",
              "      <th>code_departement</th>\n",
              "    </tr>\n",
              "  </thead>\n",
              "  <tbody>\n",
              "    <tr>\n",
              "      <th>38178</th>\n",
              "      <td>033</td>\n",
              "    </tr>\n",
              "    <tr>\n",
              "      <th>55129</th>\n",
              "      <td>078</td>\n",
              "    </tr>\n",
              "    <tr>\n",
              "      <th>8413</th>\n",
              "      <td>057</td>\n",
              "    </tr>\n",
              "    <tr>\n",
              "      <th>61005</th>\n",
              "      <td>031</td>\n",
              "    </tr>\n",
              "    <tr>\n",
              "      <th>39457</th>\n",
              "      <td>066</td>\n",
              "    </tr>\n",
              "  </tbody>\n",
              "</table>\n",
              "</div><br><label><b>dtype:</b> object</label>"
            ]
          },
          "metadata": {},
          "execution_count": 23
        }
      ]
    },
    {
      "cell_type": "code",
      "source": [
        "print(f\"Valeurs uniques : {len(df['code_academie'].unique())}\\n\")\n",
        "df['code_academie'].sample(n=5, random_state=23)"
      ],
      "metadata": {
        "colab": {
          "base_uri": "https://localhost:8080/",
          "height": 276
        },
        "id": "QDQyyyP4VQ7k",
        "outputId": "e7679dc0-802c-4b7f-dece-ca6b5b7b5b8f"
      },
      "execution_count": null,
      "outputs": [
        {
          "output_type": "stream",
          "name": "stdout",
          "text": [
            "Valeurs uniques : 34\n",
            "\n"
          ]
        },
        {
          "output_type": "execute_result",
          "data": {
            "text/plain": [
              "38178    04\n",
              "55129    25\n",
              "8413     12\n",
              "61005    16\n",
              "39457    11\n",
              "Name: code_academie, dtype: object"
            ],
            "text/html": [
              "<div>\n",
              "<style scoped>\n",
              "    .dataframe tbody tr th:only-of-type {\n",
              "        vertical-align: middle;\n",
              "    }\n",
              "\n",
              "    .dataframe tbody tr th {\n",
              "        vertical-align: top;\n",
              "    }\n",
              "\n",
              "    .dataframe thead th {\n",
              "        text-align: right;\n",
              "    }\n",
              "</style>\n",
              "<table border=\"1\" class=\"dataframe\">\n",
              "  <thead>\n",
              "    <tr style=\"text-align: right;\">\n",
              "      <th></th>\n",
              "      <th>code_academie</th>\n",
              "    </tr>\n",
              "  </thead>\n",
              "  <tbody>\n",
              "    <tr>\n",
              "      <th>38178</th>\n",
              "      <td>04</td>\n",
              "    </tr>\n",
              "    <tr>\n",
              "      <th>55129</th>\n",
              "      <td>25</td>\n",
              "    </tr>\n",
              "    <tr>\n",
              "      <th>8413</th>\n",
              "      <td>12</td>\n",
              "    </tr>\n",
              "    <tr>\n",
              "      <th>61005</th>\n",
              "      <td>16</td>\n",
              "    </tr>\n",
              "    <tr>\n",
              "      <th>39457</th>\n",
              "      <td>11</td>\n",
              "    </tr>\n",
              "  </tbody>\n",
              "</table>\n",
              "</div><br><label><b>dtype:</b> object</label>"
            ]
          },
          "metadata": {},
          "execution_count": 24
        }
      ]
    },
    {
      "cell_type": "code",
      "source": [
        "print(f\"Valeurs uniques : {len(df['code_region'].unique())}\\n\")\n",
        "df['code_region'].sample(n=5, random_state=23)"
      ],
      "metadata": {
        "colab": {
          "base_uri": "https://localhost:8080/",
          "height": 276
        },
        "id": "nBC6ir3FVQ_p",
        "outputId": "2a865be4-f1d6-4744-be1f-70ffaafed5a6"
      },
      "execution_count": null,
      "outputs": [
        {
          "output_type": "stream",
          "name": "stdout",
          "text": [
            "Valeurs uniques : 19\n",
            "\n"
          ]
        },
        {
          "output_type": "execute_result",
          "data": {
            "text/plain": [
              "38178    75\n",
              "55129    11\n",
              "8413     44\n",
              "61005    76\n",
              "39457    76\n",
              "Name: code_region, dtype: object"
            ],
            "text/html": [
              "<div>\n",
              "<style scoped>\n",
              "    .dataframe tbody tr th:only-of-type {\n",
              "        vertical-align: middle;\n",
              "    }\n",
              "\n",
              "    .dataframe tbody tr th {\n",
              "        vertical-align: top;\n",
              "    }\n",
              "\n",
              "    .dataframe thead th {\n",
              "        text-align: right;\n",
              "    }\n",
              "</style>\n",
              "<table border=\"1\" class=\"dataframe\">\n",
              "  <thead>\n",
              "    <tr style=\"text-align: right;\">\n",
              "      <th></th>\n",
              "      <th>code_region</th>\n",
              "    </tr>\n",
              "  </thead>\n",
              "  <tbody>\n",
              "    <tr>\n",
              "      <th>38178</th>\n",
              "      <td>75</td>\n",
              "    </tr>\n",
              "    <tr>\n",
              "      <th>55129</th>\n",
              "      <td>11</td>\n",
              "    </tr>\n",
              "    <tr>\n",
              "      <th>8413</th>\n",
              "      <td>44</td>\n",
              "    </tr>\n",
              "    <tr>\n",
              "      <th>61005</th>\n",
              "      <td>76</td>\n",
              "    </tr>\n",
              "    <tr>\n",
              "      <th>39457</th>\n",
              "      <td>76</td>\n",
              "    </tr>\n",
              "  </tbody>\n",
              "</table>\n",
              "</div><br><label><b>dtype:</b> object</label>"
            ]
          },
          "metadata": {},
          "execution_count": 25
        }
      ]
    },
    {
      "cell_type": "code",
      "source": [
        "print(f\"Valeurs uniques : {len(df['ecole_maternelle'].unique())}\\n\")\n",
        "df['ecole_maternelle'].sample(n=5, random_state=23)"
      ],
      "metadata": {
        "colab": {
          "base_uri": "https://localhost:8080/",
          "height": 276
        },
        "id": "5shsM05aVRCU",
        "outputId": "bf18fe63-b1f1-4ca4-9e74-7310f9f1165a"
      },
      "execution_count": null,
      "outputs": [
        {
          "output_type": "stream",
          "name": "stdout",
          "text": [
            "Valeurs uniques : 3\n",
            "\n"
          ]
        },
        {
          "output_type": "execute_result",
          "data": {
            "text/plain": [
              "38178    NaN\n",
              "55129    0.0\n",
              "8413     1.0\n",
              "61005    1.0\n",
              "39457    NaN\n",
              "Name: ecole_maternelle, dtype: float64"
            ],
            "text/html": [
              "<div>\n",
              "<style scoped>\n",
              "    .dataframe tbody tr th:only-of-type {\n",
              "        vertical-align: middle;\n",
              "    }\n",
              "\n",
              "    .dataframe tbody tr th {\n",
              "        vertical-align: top;\n",
              "    }\n",
              "\n",
              "    .dataframe thead th {\n",
              "        text-align: right;\n",
              "    }\n",
              "</style>\n",
              "<table border=\"1\" class=\"dataframe\">\n",
              "  <thead>\n",
              "    <tr style=\"text-align: right;\">\n",
              "      <th></th>\n",
              "      <th>ecole_maternelle</th>\n",
              "    </tr>\n",
              "  </thead>\n",
              "  <tbody>\n",
              "    <tr>\n",
              "      <th>38178</th>\n",
              "      <td>NaN</td>\n",
              "    </tr>\n",
              "    <tr>\n",
              "      <th>55129</th>\n",
              "      <td>0.0</td>\n",
              "    </tr>\n",
              "    <tr>\n",
              "      <th>8413</th>\n",
              "      <td>1.0</td>\n",
              "    </tr>\n",
              "    <tr>\n",
              "      <th>61005</th>\n",
              "      <td>1.0</td>\n",
              "    </tr>\n",
              "    <tr>\n",
              "      <th>39457</th>\n",
              "      <td>NaN</td>\n",
              "    </tr>\n",
              "  </tbody>\n",
              "</table>\n",
              "</div><br><label><b>dtype:</b> float64</label>"
            ]
          },
          "metadata": {},
          "execution_count": 26
        }
      ]
    },
    {
      "cell_type": "code",
      "source": [
        "df['ecole_maternelle'].unique()"
      ],
      "metadata": {
        "colab": {
          "base_uri": "https://localhost:8080/"
        },
        "id": "17_ECDVuVRE9",
        "outputId": "d910439b-a3a6-4cbc-d19d-a16a837c3c46"
      },
      "execution_count": null,
      "outputs": [
        {
          "output_type": "execute_result",
          "data": {
            "text/plain": [
              "array([ 1.,  0., nan])"
            ]
          },
          "metadata": {},
          "execution_count": 27
        }
      ]
    },
    {
      "cell_type": "code",
      "source": [
        "print(f\"Valeurs uniques : {len(df['ecole_elementaire'].unique())}\\n\")\n",
        "df['ecole_elementaire'].sample(n=5, random_state=23)"
      ],
      "metadata": {
        "colab": {
          "base_uri": "https://localhost:8080/",
          "height": 276
        },
        "id": "wpvGEXtfVRIS",
        "outputId": "96cc05d5-9441-4981-ad02-9dc0ffc377de"
      },
      "execution_count": null,
      "outputs": [
        {
          "output_type": "stream",
          "name": "stdout",
          "text": [
            "Valeurs uniques : 3\n",
            "\n"
          ]
        },
        {
          "output_type": "execute_result",
          "data": {
            "text/plain": [
              "38178    NaN\n",
              "55129    1.0\n",
              "8413     1.0\n",
              "61005    1.0\n",
              "39457    NaN\n",
              "Name: ecole_elementaire, dtype: float64"
            ],
            "text/html": [
              "<div>\n",
              "<style scoped>\n",
              "    .dataframe tbody tr th:only-of-type {\n",
              "        vertical-align: middle;\n",
              "    }\n",
              "\n",
              "    .dataframe tbody tr th {\n",
              "        vertical-align: top;\n",
              "    }\n",
              "\n",
              "    .dataframe thead th {\n",
              "        text-align: right;\n",
              "    }\n",
              "</style>\n",
              "<table border=\"1\" class=\"dataframe\">\n",
              "  <thead>\n",
              "    <tr style=\"text-align: right;\">\n",
              "      <th></th>\n",
              "      <th>ecole_elementaire</th>\n",
              "    </tr>\n",
              "  </thead>\n",
              "  <tbody>\n",
              "    <tr>\n",
              "      <th>38178</th>\n",
              "      <td>NaN</td>\n",
              "    </tr>\n",
              "    <tr>\n",
              "      <th>55129</th>\n",
              "      <td>1.0</td>\n",
              "    </tr>\n",
              "    <tr>\n",
              "      <th>8413</th>\n",
              "      <td>1.0</td>\n",
              "    </tr>\n",
              "    <tr>\n",
              "      <th>61005</th>\n",
              "      <td>1.0</td>\n",
              "    </tr>\n",
              "    <tr>\n",
              "      <th>39457</th>\n",
              "      <td>NaN</td>\n",
              "    </tr>\n",
              "  </tbody>\n",
              "</table>\n",
              "</div><br><label><b>dtype:</b> float64</label>"
            ]
          },
          "metadata": {},
          "execution_count": 28
        }
      ]
    },
    {
      "cell_type": "code",
      "source": [
        "df['ecole_elementaire'].unique()"
      ],
      "metadata": {
        "colab": {
          "base_uri": "https://localhost:8080/"
        },
        "id": "o-ACwVrUs-yd",
        "outputId": "a1132913-646f-423c-bf67-b9a0f366193e"
      },
      "execution_count": null,
      "outputs": [
        {
          "output_type": "execute_result",
          "data": {
            "text/plain": [
              "array([ 1.,  0., nan])"
            ]
          },
          "metadata": {},
          "execution_count": 29
        }
      ]
    },
    {
      "cell_type": "code",
      "source": [
        "print(f\"Valeurs uniques : {len(df['voie_generale'].unique())}\\n\")\n",
        "df['voie_generale'].sample(n=5, random_state=23)"
      ],
      "metadata": {
        "colab": {
          "base_uri": "https://localhost:8080/",
          "height": 276
        },
        "id": "Uq7uY6res-2C",
        "outputId": "bcb80c07-3e80-4696-c93f-252f946391c2"
      },
      "execution_count": null,
      "outputs": [
        {
          "output_type": "stream",
          "name": "stdout",
          "text": [
            "Valeurs uniques : 3\n",
            "\n"
          ]
        },
        {
          "output_type": "execute_result",
          "data": {
            "text/plain": [
              "38178       0\n",
              "55129    None\n",
              "8413     None\n",
              "61005    None\n",
              "39457       0\n",
              "Name: voie_generale, dtype: object"
            ],
            "text/html": [
              "<div>\n",
              "<style scoped>\n",
              "    .dataframe tbody tr th:only-of-type {\n",
              "        vertical-align: middle;\n",
              "    }\n",
              "\n",
              "    .dataframe tbody tr th {\n",
              "        vertical-align: top;\n",
              "    }\n",
              "\n",
              "    .dataframe thead th {\n",
              "        text-align: right;\n",
              "    }\n",
              "</style>\n",
              "<table border=\"1\" class=\"dataframe\">\n",
              "  <thead>\n",
              "    <tr style=\"text-align: right;\">\n",
              "      <th></th>\n",
              "      <th>voie_generale</th>\n",
              "    </tr>\n",
              "  </thead>\n",
              "  <tbody>\n",
              "    <tr>\n",
              "      <th>38178</th>\n",
              "      <td>0</td>\n",
              "    </tr>\n",
              "    <tr>\n",
              "      <th>55129</th>\n",
              "      <td>None</td>\n",
              "    </tr>\n",
              "    <tr>\n",
              "      <th>8413</th>\n",
              "      <td>None</td>\n",
              "    </tr>\n",
              "    <tr>\n",
              "      <th>61005</th>\n",
              "      <td>None</td>\n",
              "    </tr>\n",
              "    <tr>\n",
              "      <th>39457</th>\n",
              "      <td>0</td>\n",
              "    </tr>\n",
              "  </tbody>\n",
              "</table>\n",
              "</div><br><label><b>dtype:</b> object</label>"
            ]
          },
          "metadata": {},
          "execution_count": 30
        }
      ]
    },
    {
      "cell_type": "code",
      "source": [
        "df['voie_generale'].unique()"
      ],
      "metadata": {
        "colab": {
          "base_uri": "https://localhost:8080/"
        },
        "id": "w08kToS8s-6m",
        "outputId": "6573bcfd-94d8-402e-a7e8-65f9311e660c"
      },
      "execution_count": null,
      "outputs": [
        {
          "output_type": "execute_result",
          "data": {
            "text/plain": [
              "array([None, '0', '1'], dtype=object)"
            ]
          },
          "metadata": {},
          "execution_count": 31
        }
      ]
    },
    {
      "cell_type": "code",
      "source": [
        "print(f\"Valeurs uniques : {len(df['voie_technologique'].unique())}\\n\")\n",
        "df['voie_technologique'].sample(n=5, random_state=23)"
      ],
      "metadata": {
        "colab": {
          "base_uri": "https://localhost:8080/",
          "height": 276
        },
        "id": "aQcGQs61s_BC",
        "outputId": "993c2b70-a78c-47d3-a3f0-1cefb9b8c76b"
      },
      "execution_count": null,
      "outputs": [
        {
          "output_type": "stream",
          "name": "stdout",
          "text": [
            "Valeurs uniques : 3\n",
            "\n"
          ]
        },
        {
          "output_type": "execute_result",
          "data": {
            "text/plain": [
              "38178       0\n",
              "55129    None\n",
              "8413     None\n",
              "61005    None\n",
              "39457       0\n",
              "Name: voie_technologique, dtype: object"
            ],
            "text/html": [
              "<div>\n",
              "<style scoped>\n",
              "    .dataframe tbody tr th:only-of-type {\n",
              "        vertical-align: middle;\n",
              "    }\n",
              "\n",
              "    .dataframe tbody tr th {\n",
              "        vertical-align: top;\n",
              "    }\n",
              "\n",
              "    .dataframe thead th {\n",
              "        text-align: right;\n",
              "    }\n",
              "</style>\n",
              "<table border=\"1\" class=\"dataframe\">\n",
              "  <thead>\n",
              "    <tr style=\"text-align: right;\">\n",
              "      <th></th>\n",
              "      <th>voie_technologique</th>\n",
              "    </tr>\n",
              "  </thead>\n",
              "  <tbody>\n",
              "    <tr>\n",
              "      <th>38178</th>\n",
              "      <td>0</td>\n",
              "    </tr>\n",
              "    <tr>\n",
              "      <th>55129</th>\n",
              "      <td>None</td>\n",
              "    </tr>\n",
              "    <tr>\n",
              "      <th>8413</th>\n",
              "      <td>None</td>\n",
              "    </tr>\n",
              "    <tr>\n",
              "      <th>61005</th>\n",
              "      <td>None</td>\n",
              "    </tr>\n",
              "    <tr>\n",
              "      <th>39457</th>\n",
              "      <td>0</td>\n",
              "    </tr>\n",
              "  </tbody>\n",
              "</table>\n",
              "</div><br><label><b>dtype:</b> object</label>"
            ]
          },
          "metadata": {},
          "execution_count": 32
        }
      ]
    },
    {
      "cell_type": "code",
      "source": [
        "df['voie_technologique'].unique()"
      ],
      "metadata": {
        "colab": {
          "base_uri": "https://localhost:8080/"
        },
        "id": "z1ijZyBZs_Ex",
        "outputId": "6542a27c-40c4-4747-cb41-180ca4445705"
      },
      "execution_count": null,
      "outputs": [
        {
          "output_type": "execute_result",
          "data": {
            "text/plain": [
              "array([None, '0', '1'], dtype=object)"
            ]
          },
          "metadata": {},
          "execution_count": 33
        }
      ]
    },
    {
      "cell_type": "code",
      "source": [
        "print(f\"Valeurs uniques : {len(df['voie_professionnelle'].unique())}\\n\")\n",
        "df['voie_professionnelle'].sample(n=5, random_state=23)"
      ],
      "metadata": {
        "colab": {
          "base_uri": "https://localhost:8080/",
          "height": 276
        },
        "id": "SHaFNeNMs_Ig",
        "outputId": "efb6a159-060c-4258-e1dd-9e2bfde63512"
      },
      "execution_count": null,
      "outputs": [
        {
          "output_type": "stream",
          "name": "stdout",
          "text": [
            "Valeurs uniques : 3\n",
            "\n"
          ]
        },
        {
          "output_type": "execute_result",
          "data": {
            "text/plain": [
              "38178       0\n",
              "55129    None\n",
              "8413     None\n",
              "61005    None\n",
              "39457       0\n",
              "Name: voie_professionnelle, dtype: object"
            ],
            "text/html": [
              "<div>\n",
              "<style scoped>\n",
              "    .dataframe tbody tr th:only-of-type {\n",
              "        vertical-align: middle;\n",
              "    }\n",
              "\n",
              "    .dataframe tbody tr th {\n",
              "        vertical-align: top;\n",
              "    }\n",
              "\n",
              "    .dataframe thead th {\n",
              "        text-align: right;\n",
              "    }\n",
              "</style>\n",
              "<table border=\"1\" class=\"dataframe\">\n",
              "  <thead>\n",
              "    <tr style=\"text-align: right;\">\n",
              "      <th></th>\n",
              "      <th>voie_professionnelle</th>\n",
              "    </tr>\n",
              "  </thead>\n",
              "  <tbody>\n",
              "    <tr>\n",
              "      <th>38178</th>\n",
              "      <td>0</td>\n",
              "    </tr>\n",
              "    <tr>\n",
              "      <th>55129</th>\n",
              "      <td>None</td>\n",
              "    </tr>\n",
              "    <tr>\n",
              "      <th>8413</th>\n",
              "      <td>None</td>\n",
              "    </tr>\n",
              "    <tr>\n",
              "      <th>61005</th>\n",
              "      <td>None</td>\n",
              "    </tr>\n",
              "    <tr>\n",
              "      <th>39457</th>\n",
              "      <td>0</td>\n",
              "    </tr>\n",
              "  </tbody>\n",
              "</table>\n",
              "</div><br><label><b>dtype:</b> object</label>"
            ]
          },
          "metadata": {},
          "execution_count": 34
        }
      ]
    },
    {
      "cell_type": "code",
      "source": [
        "df['voie_professionnelle'].unique()"
      ],
      "metadata": {
        "colab": {
          "base_uri": "https://localhost:8080/"
        },
        "id": "kSrqFfk9s_Mu",
        "outputId": "ae83616b-a5a9-41ab-a177-b7752498ea47"
      },
      "execution_count": null,
      "outputs": [
        {
          "output_type": "execute_result",
          "data": {
            "text/plain": [
              "array([None, '0', '1'], dtype=object)"
            ]
          },
          "metadata": {},
          "execution_count": 35
        }
      ]
    },
    {
      "cell_type": "code",
      "source": [
        "print(f\"Valeurs uniques : {len(df['telephone'].unique())}\\n\")\n",
        "df['telephone'].sample(n=5, random_state=23)"
      ],
      "metadata": {
        "colab": {
          "base_uri": "https://localhost:8080/",
          "height": 276
        },
        "id": "fzXL5-dSs_Qv",
        "outputId": "c924e3af-6a1a-4abe-c634-b80dad3373e2"
      },
      "execution_count": null,
      "outputs": [
        {
          "output_type": "stream",
          "name": "stdout",
          "text": [
            "Valeurs uniques : 65978\n",
            "\n"
          ]
        },
        {
          "output_type": "execute_result",
          "data": {
            "text/plain": [
              "38178    05 57 51 11 87\n",
              "55129        0139143820\n",
              "8413         0387602782\n",
              "61005        0561086896\n",
              "39457    04 68 92 38 25\n",
              "Name: telephone, dtype: object"
            ],
            "text/html": [
              "<div>\n",
              "<style scoped>\n",
              "    .dataframe tbody tr th:only-of-type {\n",
              "        vertical-align: middle;\n",
              "    }\n",
              "\n",
              "    .dataframe tbody tr th {\n",
              "        vertical-align: top;\n",
              "    }\n",
              "\n",
              "    .dataframe thead th {\n",
              "        text-align: right;\n",
              "    }\n",
              "</style>\n",
              "<table border=\"1\" class=\"dataframe\">\n",
              "  <thead>\n",
              "    <tr style=\"text-align: right;\">\n",
              "      <th></th>\n",
              "      <th>telephone</th>\n",
              "    </tr>\n",
              "  </thead>\n",
              "  <tbody>\n",
              "    <tr>\n",
              "      <th>38178</th>\n",
              "      <td>05 57 51 11 87</td>\n",
              "    </tr>\n",
              "    <tr>\n",
              "      <th>55129</th>\n",
              "      <td>0139143820</td>\n",
              "    </tr>\n",
              "    <tr>\n",
              "      <th>8413</th>\n",
              "      <td>0387602782</td>\n",
              "    </tr>\n",
              "    <tr>\n",
              "      <th>61005</th>\n",
              "      <td>0561086896</td>\n",
              "    </tr>\n",
              "    <tr>\n",
              "      <th>39457</th>\n",
              "      <td>04 68 92 38 25</td>\n",
              "    </tr>\n",
              "  </tbody>\n",
              "</table>\n",
              "</div><br><label><b>dtype:</b> object</label>"
            ]
          },
          "metadata": {},
          "execution_count": 36
        }
      ]
    },
    {
      "cell_type": "code",
      "source": [
        "print(f\"Valeurs uniques : {len(df['fax'].unique())}\\n\")\n",
        "df['fax'].sample(n=5, random_state=23)"
      ],
      "metadata": {
        "colab": {
          "base_uri": "https://localhost:8080/",
          "height": 276
        },
        "id": "kQhVBkBws_U8",
        "outputId": "be06c7c4-0572-4221-fa97-e2a63e8589e1"
      },
      "execution_count": null,
      "outputs": [
        {
          "output_type": "stream",
          "name": "stdout",
          "text": [
            "Valeurs uniques : 9653\n",
            "\n"
          ]
        },
        {
          "output_type": "execute_result",
          "data": {
            "text/plain": [
              "38178    05 57 55 21 31\n",
              "55129              None\n",
              "8413               None\n",
              "61005              None\n",
              "39457    04 68 73 82 34\n",
              "Name: fax, dtype: object"
            ],
            "text/html": [
              "<div>\n",
              "<style scoped>\n",
              "    .dataframe tbody tr th:only-of-type {\n",
              "        vertical-align: middle;\n",
              "    }\n",
              "\n",
              "    .dataframe tbody tr th {\n",
              "        vertical-align: top;\n",
              "    }\n",
              "\n",
              "    .dataframe thead th {\n",
              "        text-align: right;\n",
              "    }\n",
              "</style>\n",
              "<table border=\"1\" class=\"dataframe\">\n",
              "  <thead>\n",
              "    <tr style=\"text-align: right;\">\n",
              "      <th></th>\n",
              "      <th>fax</th>\n",
              "    </tr>\n",
              "  </thead>\n",
              "  <tbody>\n",
              "    <tr>\n",
              "      <th>38178</th>\n",
              "      <td>05 57 55 21 31</td>\n",
              "    </tr>\n",
              "    <tr>\n",
              "      <th>55129</th>\n",
              "      <td>None</td>\n",
              "    </tr>\n",
              "    <tr>\n",
              "      <th>8413</th>\n",
              "      <td>None</td>\n",
              "    </tr>\n",
              "    <tr>\n",
              "      <th>61005</th>\n",
              "      <td>None</td>\n",
              "    </tr>\n",
              "    <tr>\n",
              "      <th>39457</th>\n",
              "      <td>04 68 73 82 34</td>\n",
              "    </tr>\n",
              "  </tbody>\n",
              "</table>\n",
              "</div><br><label><b>dtype:</b> object</label>"
            ]
          },
          "metadata": {},
          "execution_count": 37
        }
      ]
    },
    {
      "cell_type": "code",
      "source": [
        "print(f\"Valeurs uniques : {len(df['web'].unique())}\\n\")\n",
        "df['web'].sample(n=5, random_state=23)"
      ],
      "metadata": {
        "colab": {
          "base_uri": "https://localhost:8080/",
          "height": 276
        },
        "id": "FHSDiizXjDLo",
        "outputId": "e44ef809-2b3a-4a66-85d9-d71ab5ef4dcd"
      },
      "execution_count": null,
      "outputs": [
        {
          "output_type": "stream",
          "name": "stdout",
          "text": [
            "Valeurs uniques : 10437\n",
            "\n"
          ]
        },
        {
          "output_type": "execute_result",
          "data": {
            "text/plain": [
              "38178         http://www.collegelesdagueys.fr\n",
              "55129                                    None\n",
              "8413                                     None\n",
              "61005                                    None\n",
              "39457    http://www.pompeufabra.bressola.cat/\n",
              "Name: web, dtype: object"
            ],
            "text/html": [
              "<div>\n",
              "<style scoped>\n",
              "    .dataframe tbody tr th:only-of-type {\n",
              "        vertical-align: middle;\n",
              "    }\n",
              "\n",
              "    .dataframe tbody tr th {\n",
              "        vertical-align: top;\n",
              "    }\n",
              "\n",
              "    .dataframe thead th {\n",
              "        text-align: right;\n",
              "    }\n",
              "</style>\n",
              "<table border=\"1\" class=\"dataframe\">\n",
              "  <thead>\n",
              "    <tr style=\"text-align: right;\">\n",
              "      <th></th>\n",
              "      <th>web</th>\n",
              "    </tr>\n",
              "  </thead>\n",
              "  <tbody>\n",
              "    <tr>\n",
              "      <th>38178</th>\n",
              "      <td>http://www.collegelesdagueys.fr</td>\n",
              "    </tr>\n",
              "    <tr>\n",
              "      <th>55129</th>\n",
              "      <td>None</td>\n",
              "    </tr>\n",
              "    <tr>\n",
              "      <th>8413</th>\n",
              "      <td>None</td>\n",
              "    </tr>\n",
              "    <tr>\n",
              "      <th>61005</th>\n",
              "      <td>None</td>\n",
              "    </tr>\n",
              "    <tr>\n",
              "      <th>39457</th>\n",
              "      <td>http://www.pompeufabra.bressola.cat/</td>\n",
              "    </tr>\n",
              "  </tbody>\n",
              "</table>\n",
              "</div><br><label><b>dtype:</b> object</label>"
            ]
          },
          "metadata": {},
          "execution_count": 38
        }
      ]
    },
    {
      "cell_type": "code",
      "source": [
        "print(f\"Valeurs uniques : {len(df['mail'].unique())}\\n\")\n",
        "df['mail'].sample(n=5, random_state=23)"
      ],
      "metadata": {
        "colab": {
          "base_uri": "https://localhost:8080/",
          "height": 276
        },
        "id": "8Ku7CM1hjDTo",
        "outputId": "7c1168af-4259-4def-9afd-0d4a31f5b07d"
      },
      "execution_count": null,
      "outputs": [
        {
          "output_type": "stream",
          "name": "stdout",
          "text": [
            "Valeurs uniques : 66969\n",
            "\n"
          ]
        },
        {
          "output_type": "execute_result",
          "data": {
            "text/plain": [
              "38178      ce.0330091v@ac-bordeaux.fr\n",
              "55129    ce.0780891V@ac-versailles.fr\n",
              "8413     ce.0573378M@ac-nancy-metz.fr\n",
              "61005      ce.0311451J@ac-toulouse.fr\n",
              "39457         secundaria@bressola.cat\n",
              "Name: mail, dtype: object"
            ],
            "text/html": [
              "<div>\n",
              "<style scoped>\n",
              "    .dataframe tbody tr th:only-of-type {\n",
              "        vertical-align: middle;\n",
              "    }\n",
              "\n",
              "    .dataframe tbody tr th {\n",
              "        vertical-align: top;\n",
              "    }\n",
              "\n",
              "    .dataframe thead th {\n",
              "        text-align: right;\n",
              "    }\n",
              "</style>\n",
              "<table border=\"1\" class=\"dataframe\">\n",
              "  <thead>\n",
              "    <tr style=\"text-align: right;\">\n",
              "      <th></th>\n",
              "      <th>mail</th>\n",
              "    </tr>\n",
              "  </thead>\n",
              "  <tbody>\n",
              "    <tr>\n",
              "      <th>38178</th>\n",
              "      <td>ce.0330091v@ac-bordeaux.fr</td>\n",
              "    </tr>\n",
              "    <tr>\n",
              "      <th>55129</th>\n",
              "      <td>ce.0780891V@ac-versailles.fr</td>\n",
              "    </tr>\n",
              "    <tr>\n",
              "      <th>8413</th>\n",
              "      <td>ce.0573378M@ac-nancy-metz.fr</td>\n",
              "    </tr>\n",
              "    <tr>\n",
              "      <th>61005</th>\n",
              "      <td>ce.0311451J@ac-toulouse.fr</td>\n",
              "    </tr>\n",
              "    <tr>\n",
              "      <th>39457</th>\n",
              "      <td>secundaria@bressola.cat</td>\n",
              "    </tr>\n",
              "  </tbody>\n",
              "</table>\n",
              "</div><br><label><b>dtype:</b> object</label>"
            ]
          },
          "metadata": {},
          "execution_count": 39
        }
      ]
    },
    {
      "cell_type": "code",
      "source": [
        "print(f\"Valeurs uniques : {len(df['restauration'].unique())}\\n\")\n",
        "df['restauration'].sample(n=5, random_state=23)"
      ],
      "metadata": {
        "colab": {
          "base_uri": "https://localhost:8080/",
          "height": 276
        },
        "id": "uvWZB3rpjDaV",
        "outputId": "465396f0-7948-473b-da11-61da3aa1638e"
      },
      "execution_count": null,
      "outputs": [
        {
          "output_type": "stream",
          "name": "stdout",
          "text": [
            "Valeurs uniques : 3\n",
            "\n"
          ]
        },
        {
          "output_type": "execute_result",
          "data": {
            "text/plain": [
              "38178    1.0\n",
              "55129    1.0\n",
              "8413     0.0\n",
              "61005    1.0\n",
              "39457    1.0\n",
              "Name: restauration, dtype: float64"
            ],
            "text/html": [
              "<div>\n",
              "<style scoped>\n",
              "    .dataframe tbody tr th:only-of-type {\n",
              "        vertical-align: middle;\n",
              "    }\n",
              "\n",
              "    .dataframe tbody tr th {\n",
              "        vertical-align: top;\n",
              "    }\n",
              "\n",
              "    .dataframe thead th {\n",
              "        text-align: right;\n",
              "    }\n",
              "</style>\n",
              "<table border=\"1\" class=\"dataframe\">\n",
              "  <thead>\n",
              "    <tr style=\"text-align: right;\">\n",
              "      <th></th>\n",
              "      <th>restauration</th>\n",
              "    </tr>\n",
              "  </thead>\n",
              "  <tbody>\n",
              "    <tr>\n",
              "      <th>38178</th>\n",
              "      <td>1.0</td>\n",
              "    </tr>\n",
              "    <tr>\n",
              "      <th>55129</th>\n",
              "      <td>1.0</td>\n",
              "    </tr>\n",
              "    <tr>\n",
              "      <th>8413</th>\n",
              "      <td>0.0</td>\n",
              "    </tr>\n",
              "    <tr>\n",
              "      <th>61005</th>\n",
              "      <td>1.0</td>\n",
              "    </tr>\n",
              "    <tr>\n",
              "      <th>39457</th>\n",
              "      <td>1.0</td>\n",
              "    </tr>\n",
              "  </tbody>\n",
              "</table>\n",
              "</div><br><label><b>dtype:</b> float64</label>"
            ]
          },
          "metadata": {},
          "execution_count": 40
        }
      ]
    },
    {
      "cell_type": "code",
      "source": [
        "df['restauration'].unique()"
      ],
      "metadata": {
        "colab": {
          "base_uri": "https://localhost:8080/"
        },
        "id": "xgMeS7F9jDh7",
        "outputId": "d35a8465-da94-484a-e956-c2f046670428"
      },
      "execution_count": null,
      "outputs": [
        {
          "output_type": "execute_result",
          "data": {
            "text/plain": [
              "array([ 1.,  0., nan])"
            ]
          },
          "metadata": {},
          "execution_count": 41
        }
      ]
    },
    {
      "cell_type": "code",
      "source": [
        "print(f\"Valeurs uniques : {len(df['hebergement'].unique())}\\n\")\n",
        "df['hebergement'].sample(n=5, random_state=23)"
      ],
      "metadata": {
        "colab": {
          "base_uri": "https://localhost:8080/",
          "height": 276
        },
        "id": "SvqmWrXBjDo4",
        "outputId": "d614c35c-7e30-4d7d-99a4-3ae2c55e762b"
      },
      "execution_count": null,
      "outputs": [
        {
          "output_type": "stream",
          "name": "stdout",
          "text": [
            "Valeurs uniques : 3\n",
            "\n"
          ]
        },
        {
          "output_type": "execute_result",
          "data": {
            "text/plain": [
              "38178    0.0\n",
              "55129    0.0\n",
              "8413     0.0\n",
              "61005    0.0\n",
              "39457    0.0\n",
              "Name: hebergement, dtype: float64"
            ],
            "text/html": [
              "<div>\n",
              "<style scoped>\n",
              "    .dataframe tbody tr th:only-of-type {\n",
              "        vertical-align: middle;\n",
              "    }\n",
              "\n",
              "    .dataframe tbody tr th {\n",
              "        vertical-align: top;\n",
              "    }\n",
              "\n",
              "    .dataframe thead th {\n",
              "        text-align: right;\n",
              "    }\n",
              "</style>\n",
              "<table border=\"1\" class=\"dataframe\">\n",
              "  <thead>\n",
              "    <tr style=\"text-align: right;\">\n",
              "      <th></th>\n",
              "      <th>hebergement</th>\n",
              "    </tr>\n",
              "  </thead>\n",
              "  <tbody>\n",
              "    <tr>\n",
              "      <th>38178</th>\n",
              "      <td>0.0</td>\n",
              "    </tr>\n",
              "    <tr>\n",
              "      <th>55129</th>\n",
              "      <td>0.0</td>\n",
              "    </tr>\n",
              "    <tr>\n",
              "      <th>8413</th>\n",
              "      <td>0.0</td>\n",
              "    </tr>\n",
              "    <tr>\n",
              "      <th>61005</th>\n",
              "      <td>0.0</td>\n",
              "    </tr>\n",
              "    <tr>\n",
              "      <th>39457</th>\n",
              "      <td>0.0</td>\n",
              "    </tr>\n",
              "  </tbody>\n",
              "</table>\n",
              "</div><br><label><b>dtype:</b> float64</label>"
            ]
          },
          "metadata": {},
          "execution_count": 42
        }
      ]
    },
    {
      "cell_type": "code",
      "source": [
        "df['hebergement'].unique()"
      ],
      "metadata": {
        "colab": {
          "base_uri": "https://localhost:8080/"
        },
        "id": "KcoGWc_vjDvo",
        "outputId": "eb171686-d91d-44a6-9bff-63aacaffac56"
      },
      "execution_count": null,
      "outputs": [
        {
          "output_type": "execute_result",
          "data": {
            "text/plain": [
              "array([ 0.,  1., nan])"
            ]
          },
          "metadata": {},
          "execution_count": 43
        }
      ]
    },
    {
      "cell_type": "code",
      "source": [
        "print(f\"Valeurs uniques : {len(df['ulis'].unique())}\\n\")\n",
        "df['ulis'].sample(n=5, random_state=23)"
      ],
      "metadata": {
        "id": "20stwmh2jD27",
        "colab": {
          "base_uri": "https://localhost:8080/",
          "height": 276
        },
        "outputId": "ea12e49c-4b67-47b6-b163-7d1c1295ec12"
      },
      "execution_count": null,
      "outputs": [
        {
          "output_type": "stream",
          "name": "stdout",
          "text": [
            "Valeurs uniques : 3\n",
            "\n"
          ]
        },
        {
          "output_type": "execute_result",
          "data": {
            "text/plain": [
              "38178    1.0\n",
              "55129    1.0\n",
              "8413     0.0\n",
              "61005    0.0\n",
              "39457    0.0\n",
              "Name: ulis, dtype: float64"
            ],
            "text/html": [
              "<div>\n",
              "<style scoped>\n",
              "    .dataframe tbody tr th:only-of-type {\n",
              "        vertical-align: middle;\n",
              "    }\n",
              "\n",
              "    .dataframe tbody tr th {\n",
              "        vertical-align: top;\n",
              "    }\n",
              "\n",
              "    .dataframe thead th {\n",
              "        text-align: right;\n",
              "    }\n",
              "</style>\n",
              "<table border=\"1\" class=\"dataframe\">\n",
              "  <thead>\n",
              "    <tr style=\"text-align: right;\">\n",
              "      <th></th>\n",
              "      <th>ulis</th>\n",
              "    </tr>\n",
              "  </thead>\n",
              "  <tbody>\n",
              "    <tr>\n",
              "      <th>38178</th>\n",
              "      <td>1.0</td>\n",
              "    </tr>\n",
              "    <tr>\n",
              "      <th>55129</th>\n",
              "      <td>1.0</td>\n",
              "    </tr>\n",
              "    <tr>\n",
              "      <th>8413</th>\n",
              "      <td>0.0</td>\n",
              "    </tr>\n",
              "    <tr>\n",
              "      <th>61005</th>\n",
              "      <td>0.0</td>\n",
              "    </tr>\n",
              "    <tr>\n",
              "      <th>39457</th>\n",
              "      <td>0.0</td>\n",
              "    </tr>\n",
              "  </tbody>\n",
              "</table>\n",
              "</div><br><label><b>dtype:</b> float64</label>"
            ]
          },
          "metadata": {},
          "execution_count": 44
        }
      ]
    },
    {
      "cell_type": "code",
      "source": [
        "df['ulis'].unique()"
      ],
      "metadata": {
        "id": "ye4_S1CPjD_E",
        "colab": {
          "base_uri": "https://localhost:8080/"
        },
        "outputId": "2255892c-396c-4ca4-cf30-ac6d667a9edf"
      },
      "execution_count": null,
      "outputs": [
        {
          "output_type": "execute_result",
          "data": {
            "text/plain": [
              "array([ 0.,  1., nan])"
            ]
          },
          "metadata": {},
          "execution_count": 45
        }
      ]
    },
    {
      "cell_type": "code",
      "source": [
        "print(f\"Valeurs uniques : {len(df['apprentissage'].unique())}\\n\")\n",
        "df['apprentissage'].sample(n=5, random_state=23)"
      ],
      "metadata": {
        "id": "9TAOp256jEH1",
        "colab": {
          "base_uri": "https://localhost:8080/",
          "height": 276
        },
        "outputId": "58027f35-9a45-478a-9dca-e8edd14c8917"
      },
      "execution_count": null,
      "outputs": [
        {
          "output_type": "stream",
          "name": "stdout",
          "text": [
            "Valeurs uniques : 3\n",
            "\n"
          ]
        },
        {
          "output_type": "execute_result",
          "data": {
            "text/plain": [
              "38178       0\n",
              "55129    None\n",
              "8413     None\n",
              "61005    None\n",
              "39457       0\n",
              "Name: apprentissage, dtype: object"
            ],
            "text/html": [
              "<div>\n",
              "<style scoped>\n",
              "    .dataframe tbody tr th:only-of-type {\n",
              "        vertical-align: middle;\n",
              "    }\n",
              "\n",
              "    .dataframe tbody tr th {\n",
              "        vertical-align: top;\n",
              "    }\n",
              "\n",
              "    .dataframe thead th {\n",
              "        text-align: right;\n",
              "    }\n",
              "</style>\n",
              "<table border=\"1\" class=\"dataframe\">\n",
              "  <thead>\n",
              "    <tr style=\"text-align: right;\">\n",
              "      <th></th>\n",
              "      <th>apprentissage</th>\n",
              "    </tr>\n",
              "  </thead>\n",
              "  <tbody>\n",
              "    <tr>\n",
              "      <th>38178</th>\n",
              "      <td>0</td>\n",
              "    </tr>\n",
              "    <tr>\n",
              "      <th>55129</th>\n",
              "      <td>None</td>\n",
              "    </tr>\n",
              "    <tr>\n",
              "      <th>8413</th>\n",
              "      <td>None</td>\n",
              "    </tr>\n",
              "    <tr>\n",
              "      <th>61005</th>\n",
              "      <td>None</td>\n",
              "    </tr>\n",
              "    <tr>\n",
              "      <th>39457</th>\n",
              "      <td>0</td>\n",
              "    </tr>\n",
              "  </tbody>\n",
              "</table>\n",
              "</div><br><label><b>dtype:</b> object</label>"
            ]
          },
          "metadata": {},
          "execution_count": 46
        }
      ]
    },
    {
      "cell_type": "code",
      "source": [
        "df['apprentissage'].unique()"
      ],
      "metadata": {
        "id": "V5ZM4wuAjENP",
        "colab": {
          "base_uri": "https://localhost:8080/"
        },
        "outputId": "3efa35b1-0d38-435c-9b54-484681908738"
      },
      "execution_count": null,
      "outputs": [
        {
          "output_type": "execute_result",
          "data": {
            "text/plain": [
              "array([None, '0', '1'], dtype=object)"
            ]
          },
          "metadata": {},
          "execution_count": 47
        }
      ]
    },
    {
      "cell_type": "code",
      "source": [
        "print(f\"Valeurs uniques : {len(df['segpa'].unique())}\\n\")\n",
        "df['segpa'].sample(n=5, random_state=23)"
      ],
      "metadata": {
        "id": "JDndnpZhs_Y6",
        "colab": {
          "base_uri": "https://localhost:8080/",
          "height": 276
        },
        "outputId": "753bb869-c7a9-4285-cbb1-db7631b6e0db"
      },
      "execution_count": null,
      "outputs": [
        {
          "output_type": "stream",
          "name": "stdout",
          "text": [
            "Valeurs uniques : 3\n",
            "\n"
          ]
        },
        {
          "output_type": "execute_result",
          "data": {
            "text/plain": [
              "38178       1\n",
              "55129    None\n",
              "8413     None\n",
              "61005    None\n",
              "39457       0\n",
              "Name: segpa, dtype: object"
            ],
            "text/html": [
              "<div>\n",
              "<style scoped>\n",
              "    .dataframe tbody tr th:only-of-type {\n",
              "        vertical-align: middle;\n",
              "    }\n",
              "\n",
              "    .dataframe tbody tr th {\n",
              "        vertical-align: top;\n",
              "    }\n",
              "\n",
              "    .dataframe thead th {\n",
              "        text-align: right;\n",
              "    }\n",
              "</style>\n",
              "<table border=\"1\" class=\"dataframe\">\n",
              "  <thead>\n",
              "    <tr style=\"text-align: right;\">\n",
              "      <th></th>\n",
              "      <th>segpa</th>\n",
              "    </tr>\n",
              "  </thead>\n",
              "  <tbody>\n",
              "    <tr>\n",
              "      <th>38178</th>\n",
              "      <td>1</td>\n",
              "    </tr>\n",
              "    <tr>\n",
              "      <th>55129</th>\n",
              "      <td>None</td>\n",
              "    </tr>\n",
              "    <tr>\n",
              "      <th>8413</th>\n",
              "      <td>None</td>\n",
              "    </tr>\n",
              "    <tr>\n",
              "      <th>61005</th>\n",
              "      <td>None</td>\n",
              "    </tr>\n",
              "    <tr>\n",
              "      <th>39457</th>\n",
              "      <td>0</td>\n",
              "    </tr>\n",
              "  </tbody>\n",
              "</table>\n",
              "</div><br><label><b>dtype:</b> object</label>"
            ]
          },
          "metadata": {},
          "execution_count": 48
        }
      ]
    },
    {
      "cell_type": "code",
      "source": [
        "df['segpa'].unique()"
      ],
      "metadata": {
        "colab": {
          "base_uri": "https://localhost:8080/"
        },
        "id": "8jxrSXriJrey",
        "outputId": "816e49a6-c338-4bf8-89ac-b6100eef5397"
      },
      "execution_count": null,
      "outputs": [
        {
          "output_type": "execute_result",
          "data": {
            "text/plain": [
              "array([None, '1', '0'], dtype=object)"
            ]
          },
          "metadata": {},
          "execution_count": 49
        }
      ]
    },
    {
      "cell_type": "code",
      "source": [
        "print(f\"Valeurs uniques : {len(df['section_arts'].unique())}\\n\")\n",
        "df['section_arts'].sample(n=5, random_state=23)"
      ],
      "metadata": {
        "colab": {
          "base_uri": "https://localhost:8080/",
          "height": 276
        },
        "id": "ty8ucuFqJrmh",
        "outputId": "44515632-42be-45db-f9c8-6a0cf66a15ac"
      },
      "execution_count": null,
      "outputs": [
        {
          "output_type": "stream",
          "name": "stdout",
          "text": [
            "Valeurs uniques : 3\n",
            "\n"
          ]
        },
        {
          "output_type": "execute_result",
          "data": {
            "text/plain": [
              "38178       0\n",
              "55129    None\n",
              "8413     None\n",
              "61005    None\n",
              "39457       0\n",
              "Name: section_arts, dtype: object"
            ],
            "text/html": [
              "<div>\n",
              "<style scoped>\n",
              "    .dataframe tbody tr th:only-of-type {\n",
              "        vertical-align: middle;\n",
              "    }\n",
              "\n",
              "    .dataframe tbody tr th {\n",
              "        vertical-align: top;\n",
              "    }\n",
              "\n",
              "    .dataframe thead th {\n",
              "        text-align: right;\n",
              "    }\n",
              "</style>\n",
              "<table border=\"1\" class=\"dataframe\">\n",
              "  <thead>\n",
              "    <tr style=\"text-align: right;\">\n",
              "      <th></th>\n",
              "      <th>section_arts</th>\n",
              "    </tr>\n",
              "  </thead>\n",
              "  <tbody>\n",
              "    <tr>\n",
              "      <th>38178</th>\n",
              "      <td>0</td>\n",
              "    </tr>\n",
              "    <tr>\n",
              "      <th>55129</th>\n",
              "      <td>None</td>\n",
              "    </tr>\n",
              "    <tr>\n",
              "      <th>8413</th>\n",
              "      <td>None</td>\n",
              "    </tr>\n",
              "    <tr>\n",
              "      <th>61005</th>\n",
              "      <td>None</td>\n",
              "    </tr>\n",
              "    <tr>\n",
              "      <th>39457</th>\n",
              "      <td>0</td>\n",
              "    </tr>\n",
              "  </tbody>\n",
              "</table>\n",
              "</div><br><label><b>dtype:</b> object</label>"
            ]
          },
          "metadata": {},
          "execution_count": 50
        }
      ]
    },
    {
      "cell_type": "code",
      "source": [
        "df['section_arts'].unique()"
      ],
      "metadata": {
        "colab": {
          "base_uri": "https://localhost:8080/"
        },
        "id": "zS9-LOoBKXSv",
        "outputId": "93d5a781-f60b-42d8-b976-f3008b9e3f01"
      },
      "execution_count": null,
      "outputs": [
        {
          "output_type": "execute_result",
          "data": {
            "text/plain": [
              "array([None, '0', '1'], dtype=object)"
            ]
          },
          "metadata": {},
          "execution_count": 51
        }
      ]
    },
    {
      "cell_type": "code",
      "source": [
        "print(f\"Valeurs uniques : {len(df['section_cinema'].unique())}\\n\")\n",
        "df['section_cinema'].sample(n=5, random_state=23)"
      ],
      "metadata": {
        "colab": {
          "base_uri": "https://localhost:8080/",
          "height": 276
        },
        "id": "a9ENKlo0Jrte",
        "outputId": "0e7fc87a-a791-4006-f842-6a872e96acae"
      },
      "execution_count": null,
      "outputs": [
        {
          "output_type": "stream",
          "name": "stdout",
          "text": [
            "Valeurs uniques : 3\n",
            "\n"
          ]
        },
        {
          "output_type": "execute_result",
          "data": {
            "text/plain": [
              "38178       0\n",
              "55129    None\n",
              "8413     None\n",
              "61005    None\n",
              "39457       0\n",
              "Name: section_cinema, dtype: object"
            ],
            "text/html": [
              "<div>\n",
              "<style scoped>\n",
              "    .dataframe tbody tr th:only-of-type {\n",
              "        vertical-align: middle;\n",
              "    }\n",
              "\n",
              "    .dataframe tbody tr th {\n",
              "        vertical-align: top;\n",
              "    }\n",
              "\n",
              "    .dataframe thead th {\n",
              "        text-align: right;\n",
              "    }\n",
              "</style>\n",
              "<table border=\"1\" class=\"dataframe\">\n",
              "  <thead>\n",
              "    <tr style=\"text-align: right;\">\n",
              "      <th></th>\n",
              "      <th>section_cinema</th>\n",
              "    </tr>\n",
              "  </thead>\n",
              "  <tbody>\n",
              "    <tr>\n",
              "      <th>38178</th>\n",
              "      <td>0</td>\n",
              "    </tr>\n",
              "    <tr>\n",
              "      <th>55129</th>\n",
              "      <td>None</td>\n",
              "    </tr>\n",
              "    <tr>\n",
              "      <th>8413</th>\n",
              "      <td>None</td>\n",
              "    </tr>\n",
              "    <tr>\n",
              "      <th>61005</th>\n",
              "      <td>None</td>\n",
              "    </tr>\n",
              "    <tr>\n",
              "      <th>39457</th>\n",
              "      <td>0</td>\n",
              "    </tr>\n",
              "  </tbody>\n",
              "</table>\n",
              "</div><br><label><b>dtype:</b> object</label>"
            ]
          },
          "metadata": {},
          "execution_count": 52
        }
      ]
    },
    {
      "cell_type": "code",
      "source": [
        "df['section_cinema'].unique()"
      ],
      "metadata": {
        "colab": {
          "base_uri": "https://localhost:8080/"
        },
        "id": "gJzOvZ__Jr07",
        "outputId": "829f7b4e-c2ef-44c4-fe1d-8251f68f7c09"
      },
      "execution_count": null,
      "outputs": [
        {
          "output_type": "execute_result",
          "data": {
            "text/plain": [
              "array([None, '0', '1'], dtype=object)"
            ]
          },
          "metadata": {},
          "execution_count": 53
        }
      ]
    },
    {
      "cell_type": "code",
      "source": [
        "print(f\"Valeurs uniques : {len(df['section_theatre'].unique())}\\n\")\n",
        "df['section_theatre'].sample(n=5, random_state=23)"
      ],
      "metadata": {
        "colab": {
          "base_uri": "https://localhost:8080/",
          "height": 276
        },
        "id": "1rFSdlF_Jr8A",
        "outputId": "690e6910-bd4e-4285-81bd-471cb80fb39b"
      },
      "execution_count": null,
      "outputs": [
        {
          "output_type": "stream",
          "name": "stdout",
          "text": [
            "Valeurs uniques : 3\n",
            "\n"
          ]
        },
        {
          "output_type": "execute_result",
          "data": {
            "text/plain": [
              "38178       0\n",
              "55129    None\n",
              "8413     None\n",
              "61005    None\n",
              "39457       0\n",
              "Name: section_theatre, dtype: object"
            ],
            "text/html": [
              "<div>\n",
              "<style scoped>\n",
              "    .dataframe tbody tr th:only-of-type {\n",
              "        vertical-align: middle;\n",
              "    }\n",
              "\n",
              "    .dataframe tbody tr th {\n",
              "        vertical-align: top;\n",
              "    }\n",
              "\n",
              "    .dataframe thead th {\n",
              "        text-align: right;\n",
              "    }\n",
              "</style>\n",
              "<table border=\"1\" class=\"dataframe\">\n",
              "  <thead>\n",
              "    <tr style=\"text-align: right;\">\n",
              "      <th></th>\n",
              "      <th>section_theatre</th>\n",
              "    </tr>\n",
              "  </thead>\n",
              "  <tbody>\n",
              "    <tr>\n",
              "      <th>38178</th>\n",
              "      <td>0</td>\n",
              "    </tr>\n",
              "    <tr>\n",
              "      <th>55129</th>\n",
              "      <td>None</td>\n",
              "    </tr>\n",
              "    <tr>\n",
              "      <th>8413</th>\n",
              "      <td>None</td>\n",
              "    </tr>\n",
              "    <tr>\n",
              "      <th>61005</th>\n",
              "      <td>None</td>\n",
              "    </tr>\n",
              "    <tr>\n",
              "      <th>39457</th>\n",
              "      <td>0</td>\n",
              "    </tr>\n",
              "  </tbody>\n",
              "</table>\n",
              "</div><br><label><b>dtype:</b> object</label>"
            ]
          },
          "metadata": {},
          "execution_count": 54
        }
      ]
    },
    {
      "cell_type": "code",
      "source": [
        "df['section_theatre'].unique()"
      ],
      "metadata": {
        "colab": {
          "base_uri": "https://localhost:8080/"
        },
        "id": "2ApKmuZyJsDZ",
        "outputId": "d45571c8-6034-4711-ad02-ef40fc62853b"
      },
      "execution_count": null,
      "outputs": [
        {
          "output_type": "execute_result",
          "data": {
            "text/plain": [
              "array([None, '0', '1'], dtype=object)"
            ]
          },
          "metadata": {},
          "execution_count": 55
        }
      ]
    },
    {
      "cell_type": "code",
      "source": [
        "print(f\"Valeurs uniques : {len(df['section_sport'].unique())}\\n\")\n",
        "df['section_sport'].sample(n=5, random_state=23)"
      ],
      "metadata": {
        "colab": {
          "base_uri": "https://localhost:8080/",
          "height": 276
        },
        "id": "cSwMaD8aJsKs",
        "outputId": "6667455f-b9ea-44a5-afde-cadff98bd23c"
      },
      "execution_count": null,
      "outputs": [
        {
          "output_type": "stream",
          "name": "stdout",
          "text": [
            "Valeurs uniques : 3\n",
            "\n"
          ]
        },
        {
          "output_type": "execute_result",
          "data": {
            "text/plain": [
              "38178       1\n",
              "55129    None\n",
              "8413     None\n",
              "61005    None\n",
              "39457       0\n",
              "Name: section_sport, dtype: object"
            ],
            "text/html": [
              "<div>\n",
              "<style scoped>\n",
              "    .dataframe tbody tr th:only-of-type {\n",
              "        vertical-align: middle;\n",
              "    }\n",
              "\n",
              "    .dataframe tbody tr th {\n",
              "        vertical-align: top;\n",
              "    }\n",
              "\n",
              "    .dataframe thead th {\n",
              "        text-align: right;\n",
              "    }\n",
              "</style>\n",
              "<table border=\"1\" class=\"dataframe\">\n",
              "  <thead>\n",
              "    <tr style=\"text-align: right;\">\n",
              "      <th></th>\n",
              "      <th>section_sport</th>\n",
              "    </tr>\n",
              "  </thead>\n",
              "  <tbody>\n",
              "    <tr>\n",
              "      <th>38178</th>\n",
              "      <td>1</td>\n",
              "    </tr>\n",
              "    <tr>\n",
              "      <th>55129</th>\n",
              "      <td>None</td>\n",
              "    </tr>\n",
              "    <tr>\n",
              "      <th>8413</th>\n",
              "      <td>None</td>\n",
              "    </tr>\n",
              "    <tr>\n",
              "      <th>61005</th>\n",
              "      <td>None</td>\n",
              "    </tr>\n",
              "    <tr>\n",
              "      <th>39457</th>\n",
              "      <td>0</td>\n",
              "    </tr>\n",
              "  </tbody>\n",
              "</table>\n",
              "</div><br><label><b>dtype:</b> object</label>"
            ]
          },
          "metadata": {},
          "execution_count": 56
        }
      ]
    },
    {
      "cell_type": "code",
      "source": [
        "df['section_sport'].unique()"
      ],
      "metadata": {
        "colab": {
          "base_uri": "https://localhost:8080/"
        },
        "id": "UecTrbXYJsR7",
        "outputId": "1e80420f-4c67-4330-9a5c-e22e94728157"
      },
      "execution_count": null,
      "outputs": [
        {
          "output_type": "execute_result",
          "data": {
            "text/plain": [
              "array([None, '0', '1'], dtype=object)"
            ]
          },
          "metadata": {},
          "execution_count": 57
        }
      ]
    },
    {
      "cell_type": "code",
      "source": [
        "print(f\"Valeurs uniques : {len(df['section_internationale'].unique())}\\n\")\n",
        "df['section_internationale'].sample(n=5, random_state=23)"
      ],
      "metadata": {
        "colab": {
          "base_uri": "https://localhost:8080/",
          "height": 276
        },
        "id": "bPoaeMM3JsZ5",
        "outputId": "afcfd243-080e-4012-cec5-d1e3b7a851c2"
      },
      "execution_count": null,
      "outputs": [
        {
          "output_type": "stream",
          "name": "stdout",
          "text": [
            "Valeurs uniques : 3\n",
            "\n"
          ]
        },
        {
          "output_type": "execute_result",
          "data": {
            "text/plain": [
              "38178       0\n",
              "55129    None\n",
              "8413     None\n",
              "61005    None\n",
              "39457       0\n",
              "Name: section_internationale, dtype: object"
            ],
            "text/html": [
              "<div>\n",
              "<style scoped>\n",
              "    .dataframe tbody tr th:only-of-type {\n",
              "        vertical-align: middle;\n",
              "    }\n",
              "\n",
              "    .dataframe tbody tr th {\n",
              "        vertical-align: top;\n",
              "    }\n",
              "\n",
              "    .dataframe thead th {\n",
              "        text-align: right;\n",
              "    }\n",
              "</style>\n",
              "<table border=\"1\" class=\"dataframe\">\n",
              "  <thead>\n",
              "    <tr style=\"text-align: right;\">\n",
              "      <th></th>\n",
              "      <th>section_internationale</th>\n",
              "    </tr>\n",
              "  </thead>\n",
              "  <tbody>\n",
              "    <tr>\n",
              "      <th>38178</th>\n",
              "      <td>0</td>\n",
              "    </tr>\n",
              "    <tr>\n",
              "      <th>55129</th>\n",
              "      <td>None</td>\n",
              "    </tr>\n",
              "    <tr>\n",
              "      <th>8413</th>\n",
              "      <td>None</td>\n",
              "    </tr>\n",
              "    <tr>\n",
              "      <th>61005</th>\n",
              "      <td>None</td>\n",
              "    </tr>\n",
              "    <tr>\n",
              "      <th>39457</th>\n",
              "      <td>0</td>\n",
              "    </tr>\n",
              "  </tbody>\n",
              "</table>\n",
              "</div><br><label><b>dtype:</b> object</label>"
            ]
          },
          "metadata": {},
          "execution_count": 58
        }
      ]
    },
    {
      "cell_type": "code",
      "source": [
        "df['section_internationale'].unique()"
      ],
      "metadata": {
        "colab": {
          "base_uri": "https://localhost:8080/"
        },
        "id": "tnoG4R8tNzyx",
        "outputId": "abced2bb-ead7-49ee-eb15-06b9fe8bcc25"
      },
      "execution_count": null,
      "outputs": [
        {
          "output_type": "execute_result",
          "data": {
            "text/plain": [
              "array([None, '0', '1'], dtype=object)"
            ]
          },
          "metadata": {},
          "execution_count": 59
        }
      ]
    },
    {
      "cell_type": "code",
      "source": [
        "print(f\"Valeurs uniques : {len(df['section_europeenne'].unique())}\\n\")\n",
        "df['section_europeenne'].sample(n=5, random_state=23)"
      ],
      "metadata": {
        "colab": {
          "base_uri": "https://localhost:8080/",
          "height": 276
        },
        "id": "eiSwBhjINz63",
        "outputId": "fddc6050-628f-46fd-dc7f-005cc2b153d6"
      },
      "execution_count": null,
      "outputs": [
        {
          "output_type": "stream",
          "name": "stdout",
          "text": [
            "Valeurs uniques : 3\n",
            "\n"
          ]
        },
        {
          "output_type": "execute_result",
          "data": {
            "text/plain": [
              "38178       0\n",
              "55129    None\n",
              "8413     None\n",
              "61005    None\n",
              "39457       0\n",
              "Name: section_europeenne, dtype: object"
            ],
            "text/html": [
              "<div>\n",
              "<style scoped>\n",
              "    .dataframe tbody tr th:only-of-type {\n",
              "        vertical-align: middle;\n",
              "    }\n",
              "\n",
              "    .dataframe tbody tr th {\n",
              "        vertical-align: top;\n",
              "    }\n",
              "\n",
              "    .dataframe thead th {\n",
              "        text-align: right;\n",
              "    }\n",
              "</style>\n",
              "<table border=\"1\" class=\"dataframe\">\n",
              "  <thead>\n",
              "    <tr style=\"text-align: right;\">\n",
              "      <th></th>\n",
              "      <th>section_europeenne</th>\n",
              "    </tr>\n",
              "  </thead>\n",
              "  <tbody>\n",
              "    <tr>\n",
              "      <th>38178</th>\n",
              "      <td>0</td>\n",
              "    </tr>\n",
              "    <tr>\n",
              "      <th>55129</th>\n",
              "      <td>None</td>\n",
              "    </tr>\n",
              "    <tr>\n",
              "      <th>8413</th>\n",
              "      <td>None</td>\n",
              "    </tr>\n",
              "    <tr>\n",
              "      <th>61005</th>\n",
              "      <td>None</td>\n",
              "    </tr>\n",
              "    <tr>\n",
              "      <th>39457</th>\n",
              "      <td>0</td>\n",
              "    </tr>\n",
              "  </tbody>\n",
              "</table>\n",
              "</div><br><label><b>dtype:</b> object</label>"
            ]
          },
          "metadata": {},
          "execution_count": 60
        }
      ]
    },
    {
      "cell_type": "code",
      "source": [
        "df['section_europeenne'].unique()"
      ],
      "metadata": {
        "colab": {
          "base_uri": "https://localhost:8080/"
        },
        "id": "fWQQCuxoN0C1",
        "outputId": "ad815a74-fe25-4a74-cc47-2cd35e46875b"
      },
      "execution_count": null,
      "outputs": [
        {
          "output_type": "execute_result",
          "data": {
            "text/plain": [
              "array([None, '0', '1'], dtype=object)"
            ]
          },
          "metadata": {},
          "execution_count": 61
        }
      ]
    },
    {
      "cell_type": "code",
      "source": [
        "print(f\"Valeurs uniques : {len(df['lycee_agricole'].unique())}\\n\")\n",
        "df['lycee_agricole'].sample(n=5, random_state=23)"
      ],
      "metadata": {
        "colab": {
          "base_uri": "https://localhost:8080/",
          "height": 276
        },
        "id": "prQtJMBpN0Ld",
        "outputId": "6c6fd091-c0c5-4787-89be-c922133a6b9b"
      },
      "execution_count": null,
      "outputs": [
        {
          "output_type": "stream",
          "name": "stdout",
          "text": [
            "Valeurs uniques : 3\n",
            "\n"
          ]
        },
        {
          "output_type": "execute_result",
          "data": {
            "text/plain": [
              "38178       0\n",
              "55129    None\n",
              "8413     None\n",
              "61005    None\n",
              "39457       0\n",
              "Name: lycee_agricole, dtype: object"
            ],
            "text/html": [
              "<div>\n",
              "<style scoped>\n",
              "    .dataframe tbody tr th:only-of-type {\n",
              "        vertical-align: middle;\n",
              "    }\n",
              "\n",
              "    .dataframe tbody tr th {\n",
              "        vertical-align: top;\n",
              "    }\n",
              "\n",
              "    .dataframe thead th {\n",
              "        text-align: right;\n",
              "    }\n",
              "</style>\n",
              "<table border=\"1\" class=\"dataframe\">\n",
              "  <thead>\n",
              "    <tr style=\"text-align: right;\">\n",
              "      <th></th>\n",
              "      <th>lycee_agricole</th>\n",
              "    </tr>\n",
              "  </thead>\n",
              "  <tbody>\n",
              "    <tr>\n",
              "      <th>38178</th>\n",
              "      <td>0</td>\n",
              "    </tr>\n",
              "    <tr>\n",
              "      <th>55129</th>\n",
              "      <td>None</td>\n",
              "    </tr>\n",
              "    <tr>\n",
              "      <th>8413</th>\n",
              "      <td>None</td>\n",
              "    </tr>\n",
              "    <tr>\n",
              "      <th>61005</th>\n",
              "      <td>None</td>\n",
              "    </tr>\n",
              "    <tr>\n",
              "      <th>39457</th>\n",
              "      <td>0</td>\n",
              "    </tr>\n",
              "  </tbody>\n",
              "</table>\n",
              "</div><br><label><b>dtype:</b> object</label>"
            ]
          },
          "metadata": {},
          "execution_count": 62
        }
      ]
    },
    {
      "cell_type": "code",
      "source": [
        "df['lycee_agricole'].unique()"
      ],
      "metadata": {
        "colab": {
          "base_uri": "https://localhost:8080/"
        },
        "id": "6A6HX_yjN0Ta",
        "outputId": "0dc08dd8-0a60-476d-c25f-79f9376f5024"
      },
      "execution_count": null,
      "outputs": [
        {
          "output_type": "execute_result",
          "data": {
            "text/plain": [
              "array([None, '0', '1'], dtype=object)"
            ]
          },
          "metadata": {},
          "execution_count": 63
        }
      ]
    },
    {
      "cell_type": "code",
      "source": [
        "print(f\"Valeurs uniques : {len(df['lycee_militaire'].unique())}\\n\")\n",
        "df['lycee_militaire'].sample(n=5, random_state=23)"
      ],
      "metadata": {
        "colab": {
          "base_uri": "https://localhost:8080/",
          "height": 276
        },
        "id": "3unhbNGTN0bP",
        "outputId": "a36dc4fa-033d-41c8-f462-3096550d2106"
      },
      "execution_count": null,
      "outputs": [
        {
          "output_type": "stream",
          "name": "stdout",
          "text": [
            "Valeurs uniques : 3\n",
            "\n"
          ]
        },
        {
          "output_type": "execute_result",
          "data": {
            "text/plain": [
              "38178       0\n",
              "55129    None\n",
              "8413     None\n",
              "61005    None\n",
              "39457       0\n",
              "Name: lycee_militaire, dtype: object"
            ],
            "text/html": [
              "<div>\n",
              "<style scoped>\n",
              "    .dataframe tbody tr th:only-of-type {\n",
              "        vertical-align: middle;\n",
              "    }\n",
              "\n",
              "    .dataframe tbody tr th {\n",
              "        vertical-align: top;\n",
              "    }\n",
              "\n",
              "    .dataframe thead th {\n",
              "        text-align: right;\n",
              "    }\n",
              "</style>\n",
              "<table border=\"1\" class=\"dataframe\">\n",
              "  <thead>\n",
              "    <tr style=\"text-align: right;\">\n",
              "      <th></th>\n",
              "      <th>lycee_militaire</th>\n",
              "    </tr>\n",
              "  </thead>\n",
              "  <tbody>\n",
              "    <tr>\n",
              "      <th>38178</th>\n",
              "      <td>0</td>\n",
              "    </tr>\n",
              "    <tr>\n",
              "      <th>55129</th>\n",
              "      <td>None</td>\n",
              "    </tr>\n",
              "    <tr>\n",
              "      <th>8413</th>\n",
              "      <td>None</td>\n",
              "    </tr>\n",
              "    <tr>\n",
              "      <th>61005</th>\n",
              "      <td>None</td>\n",
              "    </tr>\n",
              "    <tr>\n",
              "      <th>39457</th>\n",
              "      <td>0</td>\n",
              "    </tr>\n",
              "  </tbody>\n",
              "</table>\n",
              "</div><br><label><b>dtype:</b> object</label>"
            ]
          },
          "metadata": {},
          "execution_count": 64
        }
      ]
    },
    {
      "cell_type": "code",
      "source": [
        "df['lycee_militaire'].unique()"
      ],
      "metadata": {
        "colab": {
          "base_uri": "https://localhost:8080/"
        },
        "id": "iWZ3kpSEN0i0",
        "outputId": "d20aaced-6e04-4e6c-efaa-3126a6fef7d6"
      },
      "execution_count": null,
      "outputs": [
        {
          "output_type": "execute_result",
          "data": {
            "text/plain": [
              "array([None, '0', '1'], dtype=object)"
            ]
          },
          "metadata": {},
          "execution_count": 65
        }
      ]
    },
    {
      "cell_type": "code",
      "source": [
        "print(f\"Valeurs uniques : {len(df['lycee_des_metiers'].unique())}\\n\")\n",
        "df['lycee_des_metiers'].sample(n=5, random_state=23)"
      ],
      "metadata": {
        "colab": {
          "base_uri": "https://localhost:8080/",
          "height": 276
        },
        "id": "rxMnHYGMN0qS",
        "outputId": "8211c5a6-5a04-4e2c-dc37-ce824360c30c"
      },
      "execution_count": null,
      "outputs": [
        {
          "output_type": "stream",
          "name": "stdout",
          "text": [
            "Valeurs uniques : 3\n",
            "\n"
          ]
        },
        {
          "output_type": "execute_result",
          "data": {
            "text/plain": [
              "38178       0\n",
              "55129    None\n",
              "8413     None\n",
              "61005    None\n",
              "39457       0\n",
              "Name: lycee_des_metiers, dtype: object"
            ],
            "text/html": [
              "<div>\n",
              "<style scoped>\n",
              "    .dataframe tbody tr th:only-of-type {\n",
              "        vertical-align: middle;\n",
              "    }\n",
              "\n",
              "    .dataframe tbody tr th {\n",
              "        vertical-align: top;\n",
              "    }\n",
              "\n",
              "    .dataframe thead th {\n",
              "        text-align: right;\n",
              "    }\n",
              "</style>\n",
              "<table border=\"1\" class=\"dataframe\">\n",
              "  <thead>\n",
              "    <tr style=\"text-align: right;\">\n",
              "      <th></th>\n",
              "      <th>lycee_des_metiers</th>\n",
              "    </tr>\n",
              "  </thead>\n",
              "  <tbody>\n",
              "    <tr>\n",
              "      <th>38178</th>\n",
              "      <td>0</td>\n",
              "    </tr>\n",
              "    <tr>\n",
              "      <th>55129</th>\n",
              "      <td>None</td>\n",
              "    </tr>\n",
              "    <tr>\n",
              "      <th>8413</th>\n",
              "      <td>None</td>\n",
              "    </tr>\n",
              "    <tr>\n",
              "      <th>61005</th>\n",
              "      <td>None</td>\n",
              "    </tr>\n",
              "    <tr>\n",
              "      <th>39457</th>\n",
              "      <td>0</td>\n",
              "    </tr>\n",
              "  </tbody>\n",
              "</table>\n",
              "</div><br><label><b>dtype:</b> object</label>"
            ]
          },
          "metadata": {},
          "execution_count": 66
        }
      ]
    },
    {
      "cell_type": "code",
      "source": [
        "df['lycee_des_metiers'].unique()"
      ],
      "metadata": {
        "colab": {
          "base_uri": "https://localhost:8080/"
        },
        "id": "oNciDLNFN0yD",
        "outputId": "a4b3dfe8-f159-43e1-ccfe-8b59e559f364"
      },
      "execution_count": null,
      "outputs": [
        {
          "output_type": "execute_result",
          "data": {
            "text/plain": [
              "array([None, '0', '1'], dtype=object)"
            ]
          },
          "metadata": {},
          "execution_count": 67
        }
      ]
    },
    {
      "cell_type": "code",
      "source": [
        "print(f\"Valeurs uniques : {len(df['post_bac'].unique())}\\n\")\n",
        "df['post_bac'].sample(n=5, random_state=23)"
      ],
      "metadata": {
        "colab": {
          "base_uri": "https://localhost:8080/",
          "height": 276
        },
        "id": "R1_RF46QN054",
        "outputId": "bc0726f4-571a-4202-cc4a-af1e487ebff4"
      },
      "execution_count": null,
      "outputs": [
        {
          "output_type": "stream",
          "name": "stdout",
          "text": [
            "Valeurs uniques : 3\n",
            "\n"
          ]
        },
        {
          "output_type": "execute_result",
          "data": {
            "text/plain": [
              "38178       0\n",
              "55129    None\n",
              "8413     None\n",
              "61005    None\n",
              "39457       0\n",
              "Name: post_bac, dtype: object"
            ],
            "text/html": [
              "<div>\n",
              "<style scoped>\n",
              "    .dataframe tbody tr th:only-of-type {\n",
              "        vertical-align: middle;\n",
              "    }\n",
              "\n",
              "    .dataframe tbody tr th {\n",
              "        vertical-align: top;\n",
              "    }\n",
              "\n",
              "    .dataframe thead th {\n",
              "        text-align: right;\n",
              "    }\n",
              "</style>\n",
              "<table border=\"1\" class=\"dataframe\">\n",
              "  <thead>\n",
              "    <tr style=\"text-align: right;\">\n",
              "      <th></th>\n",
              "      <th>post_bac</th>\n",
              "    </tr>\n",
              "  </thead>\n",
              "  <tbody>\n",
              "    <tr>\n",
              "      <th>38178</th>\n",
              "      <td>0</td>\n",
              "    </tr>\n",
              "    <tr>\n",
              "      <th>55129</th>\n",
              "      <td>None</td>\n",
              "    </tr>\n",
              "    <tr>\n",
              "      <th>8413</th>\n",
              "      <td>None</td>\n",
              "    </tr>\n",
              "    <tr>\n",
              "      <th>61005</th>\n",
              "      <td>None</td>\n",
              "    </tr>\n",
              "    <tr>\n",
              "      <th>39457</th>\n",
              "      <td>0</td>\n",
              "    </tr>\n",
              "  </tbody>\n",
              "</table>\n",
              "</div><br><label><b>dtype:</b> object</label>"
            ]
          },
          "metadata": {},
          "execution_count": 68
        }
      ]
    },
    {
      "cell_type": "code",
      "source": [
        "df['post_bac'].unique()"
      ],
      "metadata": {
        "colab": {
          "base_uri": "https://localhost:8080/"
        },
        "id": "XxcrlWo4Jsg0",
        "outputId": "06375e28-e81c-4efd-ca00-af3a386598af"
      },
      "execution_count": null,
      "outputs": [
        {
          "output_type": "execute_result",
          "data": {
            "text/plain": [
              "array([None, '0', '1'], dtype=object)"
            ]
          },
          "metadata": {},
          "execution_count": 69
        }
      ]
    },
    {
      "cell_type": "code",
      "source": [
        "print(f\"Valeurs uniques : {len(df['appartenance_education_prioritaire'].unique())}\\n\")\n",
        "df['appartenance_education_prioritaire'].sample(n=5, random_state=23)"
      ],
      "metadata": {
        "colab": {
          "base_uri": "https://localhost:8080/",
          "height": 276
        },
        "id": "fCw3IPsCPH6J",
        "outputId": "171d21f1-621a-4e8c-e65a-50a592b444f5"
      },
      "execution_count": null,
      "outputs": [
        {
          "output_type": "stream",
          "name": "stdout",
          "text": [
            "Valeurs uniques : 3\n",
            "\n"
          ]
        },
        {
          "output_type": "execute_result",
          "data": {
            "text/plain": [
              "38178    None\n",
              "55129    None\n",
              "8413     None\n",
              "61005    None\n",
              "39457    None\n",
              "Name: appartenance_education_prioritaire, dtype: object"
            ],
            "text/html": [
              "<div>\n",
              "<style scoped>\n",
              "    .dataframe tbody tr th:only-of-type {\n",
              "        vertical-align: middle;\n",
              "    }\n",
              "\n",
              "    .dataframe tbody tr th {\n",
              "        vertical-align: top;\n",
              "    }\n",
              "\n",
              "    .dataframe thead th {\n",
              "        text-align: right;\n",
              "    }\n",
              "</style>\n",
              "<table border=\"1\" class=\"dataframe\">\n",
              "  <thead>\n",
              "    <tr style=\"text-align: right;\">\n",
              "      <th></th>\n",
              "      <th>appartenance_education_prioritaire</th>\n",
              "    </tr>\n",
              "  </thead>\n",
              "  <tbody>\n",
              "    <tr>\n",
              "      <th>38178</th>\n",
              "      <td>None</td>\n",
              "    </tr>\n",
              "    <tr>\n",
              "      <th>55129</th>\n",
              "      <td>None</td>\n",
              "    </tr>\n",
              "    <tr>\n",
              "      <th>8413</th>\n",
              "      <td>None</td>\n",
              "    </tr>\n",
              "    <tr>\n",
              "      <th>61005</th>\n",
              "      <td>None</td>\n",
              "    </tr>\n",
              "    <tr>\n",
              "      <th>39457</th>\n",
              "      <td>None</td>\n",
              "    </tr>\n",
              "  </tbody>\n",
              "</table>\n",
              "</div><br><label><b>dtype:</b> object</label>"
            ]
          },
          "metadata": {},
          "execution_count": 70
        }
      ]
    },
    {
      "cell_type": "code",
      "source": [
        "df['appartenance_education_prioritaire'].unique()"
      ],
      "metadata": {
        "colab": {
          "base_uri": "https://localhost:8080/"
        },
        "id": "JUozVYdrPICf",
        "outputId": "8d03e9e8-f6af-4522-ee33-36e9fddbc836"
      },
      "execution_count": null,
      "outputs": [
        {
          "output_type": "execute_result",
          "data": {
            "text/plain": [
              "array([None, 'REP', 'REP+'], dtype=object)"
            ]
          },
          "metadata": {},
          "execution_count": 71
        }
      ]
    },
    {
      "cell_type": "code",
      "source": [
        "print(f\"Valeurs uniques : {len(df['greta'].unique())}\\n\")\n",
        "df['greta'].sample(n=5, random_state=23)"
      ],
      "metadata": {
        "colab": {
          "base_uri": "https://localhost:8080/",
          "height": 276
        },
        "id": "wFXHWpRwPIKZ",
        "outputId": "d71a697e-108e-4832-8456-f65e9ec1fe34"
      },
      "execution_count": null,
      "outputs": [
        {
          "output_type": "stream",
          "name": "stdout",
          "text": [
            "Valeurs uniques : 3\n",
            "\n"
          ]
        },
        {
          "output_type": "execute_result",
          "data": {
            "text/plain": [
              "38178       0\n",
              "55129    None\n",
              "8413     None\n",
              "61005    None\n",
              "39457       0\n",
              "Name: greta, dtype: object"
            ],
            "text/html": [
              "<div>\n",
              "<style scoped>\n",
              "    .dataframe tbody tr th:only-of-type {\n",
              "        vertical-align: middle;\n",
              "    }\n",
              "\n",
              "    .dataframe tbody tr th {\n",
              "        vertical-align: top;\n",
              "    }\n",
              "\n",
              "    .dataframe thead th {\n",
              "        text-align: right;\n",
              "    }\n",
              "</style>\n",
              "<table border=\"1\" class=\"dataframe\">\n",
              "  <thead>\n",
              "    <tr style=\"text-align: right;\">\n",
              "      <th></th>\n",
              "      <th>greta</th>\n",
              "    </tr>\n",
              "  </thead>\n",
              "  <tbody>\n",
              "    <tr>\n",
              "      <th>38178</th>\n",
              "      <td>0</td>\n",
              "    </tr>\n",
              "    <tr>\n",
              "      <th>55129</th>\n",
              "      <td>None</td>\n",
              "    </tr>\n",
              "    <tr>\n",
              "      <th>8413</th>\n",
              "      <td>None</td>\n",
              "    </tr>\n",
              "    <tr>\n",
              "      <th>61005</th>\n",
              "      <td>None</td>\n",
              "    </tr>\n",
              "    <tr>\n",
              "      <th>39457</th>\n",
              "      <td>0</td>\n",
              "    </tr>\n",
              "  </tbody>\n",
              "</table>\n",
              "</div><br><label><b>dtype:</b> object</label>"
            ]
          },
          "metadata": {},
          "execution_count": 72
        }
      ]
    },
    {
      "cell_type": "code",
      "source": [
        "df['greta'].unique()"
      ],
      "metadata": {
        "colab": {
          "base_uri": "https://localhost:8080/"
        },
        "id": "uAittJ8dPISK",
        "outputId": "4dc22ade-b88e-4eab-9ae9-b078da72ea07"
      },
      "execution_count": null,
      "outputs": [
        {
          "output_type": "execute_result",
          "data": {
            "text/plain": [
              "array([None, '1', '0'], dtype=object)"
            ]
          },
          "metadata": {},
          "execution_count": 73
        }
      ]
    },
    {
      "cell_type": "code",
      "source": [
        "print(f\"Valeurs uniques : {len(df['siren_siret'].unique())}\\n\")\n",
        "df['siren_siret'].sample(n=5, random_state=23)"
      ],
      "metadata": {
        "colab": {
          "base_uri": "https://localhost:8080/",
          "height": 276
        },
        "id": "TnUSeZuePIZz",
        "outputId": "5f0d6f1b-8a5f-45cf-ccbc-7af8711a6118"
      },
      "execution_count": null,
      "outputs": [
        {
          "output_type": "stream",
          "name": "stdout",
          "text": [
            "Valeurs uniques : 63347\n",
            "\n"
          ]
        },
        {
          "output_type": "execute_result",
          "data": {
            "text/plain": [
              "38178    19330091000026\n",
              "55129    21780311300059\n",
              "8413     21570642500075\n",
              "61005    32471492200014\n",
              "39457    30908524900048\n",
              "Name: siren_siret, dtype: object"
            ],
            "text/html": [
              "<div>\n",
              "<style scoped>\n",
              "    .dataframe tbody tr th:only-of-type {\n",
              "        vertical-align: middle;\n",
              "    }\n",
              "\n",
              "    .dataframe tbody tr th {\n",
              "        vertical-align: top;\n",
              "    }\n",
              "\n",
              "    .dataframe thead th {\n",
              "        text-align: right;\n",
              "    }\n",
              "</style>\n",
              "<table border=\"1\" class=\"dataframe\">\n",
              "  <thead>\n",
              "    <tr style=\"text-align: right;\">\n",
              "      <th></th>\n",
              "      <th>siren_siret</th>\n",
              "    </tr>\n",
              "  </thead>\n",
              "  <tbody>\n",
              "    <tr>\n",
              "      <th>38178</th>\n",
              "      <td>19330091000026</td>\n",
              "    </tr>\n",
              "    <tr>\n",
              "      <th>55129</th>\n",
              "      <td>21780311300059</td>\n",
              "    </tr>\n",
              "    <tr>\n",
              "      <th>8413</th>\n",
              "      <td>21570642500075</td>\n",
              "    </tr>\n",
              "    <tr>\n",
              "      <th>61005</th>\n",
              "      <td>32471492200014</td>\n",
              "    </tr>\n",
              "    <tr>\n",
              "      <th>39457</th>\n",
              "      <td>30908524900048</td>\n",
              "    </tr>\n",
              "  </tbody>\n",
              "</table>\n",
              "</div><br><label><b>dtype:</b> object</label>"
            ]
          },
          "metadata": {},
          "execution_count": 74
        }
      ]
    },
    {
      "cell_type": "code",
      "source": [
        "print(f\"Valeurs uniques : {len(df['nombre_d_eleves'].unique())}\\n\")\n",
        "df['nombre_d_eleves'].sample(n=5, random_state=23)"
      ],
      "metadata": {
        "colab": {
          "base_uri": "https://localhost:8080/",
          "height": 276
        },
        "id": "DT3DCJHHPIhm",
        "outputId": "34007503-3e19-401d-84a1-fbf1b1522f94"
      },
      "execution_count": null,
      "outputs": [
        {
          "output_type": "stream",
          "name": "stdout",
          "text": [
            "Valeurs uniques : 1462\n",
            "\n"
          ]
        },
        {
          "output_type": "execute_result",
          "data": {
            "text/plain": [
              "38178    636.0\n",
              "55129    264.0\n",
              "8413     217.0\n",
              "61005    194.0\n",
              "39457    247.0\n",
              "Name: nombre_d_eleves, dtype: float64"
            ],
            "text/html": [
              "<div>\n",
              "<style scoped>\n",
              "    .dataframe tbody tr th:only-of-type {\n",
              "        vertical-align: middle;\n",
              "    }\n",
              "\n",
              "    .dataframe tbody tr th {\n",
              "        vertical-align: top;\n",
              "    }\n",
              "\n",
              "    .dataframe thead th {\n",
              "        text-align: right;\n",
              "    }\n",
              "</style>\n",
              "<table border=\"1\" class=\"dataframe\">\n",
              "  <thead>\n",
              "    <tr style=\"text-align: right;\">\n",
              "      <th></th>\n",
              "      <th>nombre_d_eleves</th>\n",
              "    </tr>\n",
              "  </thead>\n",
              "  <tbody>\n",
              "    <tr>\n",
              "      <th>38178</th>\n",
              "      <td>636.0</td>\n",
              "    </tr>\n",
              "    <tr>\n",
              "      <th>55129</th>\n",
              "      <td>264.0</td>\n",
              "    </tr>\n",
              "    <tr>\n",
              "      <th>8413</th>\n",
              "      <td>217.0</td>\n",
              "    </tr>\n",
              "    <tr>\n",
              "      <th>61005</th>\n",
              "      <td>194.0</td>\n",
              "    </tr>\n",
              "    <tr>\n",
              "      <th>39457</th>\n",
              "      <td>247.0</td>\n",
              "    </tr>\n",
              "  </tbody>\n",
              "</table>\n",
              "</div><br><label><b>dtype:</b> float64</label>"
            ]
          },
          "metadata": {},
          "execution_count": 75
        }
      ]
    },
    {
      "cell_type": "code",
      "source": [
        "print(f\"Min : {df['nombre_d_eleves'].min()}\\nMax : {df['nombre_d_eleves'].max()}\")"
      ],
      "metadata": {
        "colab": {
          "base_uri": "https://localhost:8080/"
        },
        "id": "Vx5NsUpiPIpm",
        "outputId": "85ea4287-0708-4d86-d00b-9f7b8df267a0"
      },
      "execution_count": null,
      "outputs": [
        {
          "output_type": "stream",
          "name": "stdout",
          "text": [
            "Min : 0.0\n",
            "Max : 2599.0\n"
          ]
        }
      ]
    },
    {
      "cell_type": "code",
      "source": [
        "print(f\"Valeurs uniques : {len(df['fiche_onisep'].unique())}\\n\")\n",
        "df['fiche_onisep'].sample(n=5, random_state=23)"
      ],
      "metadata": {
        "colab": {
          "base_uri": "https://localhost:8080/",
          "height": 276
        },
        "id": "7JpDetexPIxp",
        "outputId": "85ba3890-89ed-48ff-eb2e-b76f71090ea1"
      },
      "execution_count": null,
      "outputs": [
        {
          "output_type": "stream",
          "name": "stdout",
          "text": [
            "Valeurs uniques : 11807\n",
            "\n"
          ]
        },
        {
          "output_type": "execute_result",
          "data": {
            "text/plain": [
              "38178    https://www.onisep.fr/http/redirection/etablis...\n",
              "55129                                                 None\n",
              "8413                                                  None\n",
              "61005                                                 None\n",
              "39457    https://www.onisep.fr/http/redirection/etablis...\n",
              "Name: fiche_onisep, dtype: object"
            ],
            "text/html": [
              "<div>\n",
              "<style scoped>\n",
              "    .dataframe tbody tr th:only-of-type {\n",
              "        vertical-align: middle;\n",
              "    }\n",
              "\n",
              "    .dataframe tbody tr th {\n",
              "        vertical-align: top;\n",
              "    }\n",
              "\n",
              "    .dataframe thead th {\n",
              "        text-align: right;\n",
              "    }\n",
              "</style>\n",
              "<table border=\"1\" class=\"dataframe\">\n",
              "  <thead>\n",
              "    <tr style=\"text-align: right;\">\n",
              "      <th></th>\n",
              "      <th>fiche_onisep</th>\n",
              "    </tr>\n",
              "  </thead>\n",
              "  <tbody>\n",
              "    <tr>\n",
              "      <th>38178</th>\n",
              "      <td>https://www.onisep.fr/http/redirection/etablis...</td>\n",
              "    </tr>\n",
              "    <tr>\n",
              "      <th>55129</th>\n",
              "      <td>None</td>\n",
              "    </tr>\n",
              "    <tr>\n",
              "      <th>8413</th>\n",
              "      <td>None</td>\n",
              "    </tr>\n",
              "    <tr>\n",
              "      <th>61005</th>\n",
              "      <td>None</td>\n",
              "    </tr>\n",
              "    <tr>\n",
              "      <th>39457</th>\n",
              "      <td>https://www.onisep.fr/http/redirection/etablis...</td>\n",
              "    </tr>\n",
              "  </tbody>\n",
              "</table>\n",
              "</div><br><label><b>dtype:</b> object</label>"
            ]
          },
          "metadata": {},
          "execution_count": 77
        }
      ]
    },
    {
      "cell_type": "code",
      "source": [
        "#print(f\"Valeurs uniques : {len(df['position'].unique())}\\n\")\n",
        "df['position'].sample(n=5, random_state=23)"
      ],
      "metadata": {
        "colab": {
          "base_uri": "https://localhost:8080/",
          "height": 241
        },
        "id": "msv55t_API5V",
        "outputId": "f57b23bc-fd69-431f-de64-4a47f6aed56d"
      },
      "execution_count": null,
      "outputs": [
        {
          "output_type": "execute_result",
          "data": {
            "text/plain": [
              "38178    {'lon': -0.24259370840983743, 'lat': 44.948032...\n",
              "55129    {'lon': 2.197509605031694, 'lat': 48.929523800...\n",
              "8413     {'lon': 6.121499759304934, 'lat': 49.109217438...\n",
              "61005    {'lon': 1.3984403693512268, 'lat': 43.45169616...\n",
              "39457    {'lon': 2.779195356259036, 'lat': 42.678706018...\n",
              "Name: position, dtype: object"
            ],
            "text/html": [
              "<div>\n",
              "<style scoped>\n",
              "    .dataframe tbody tr th:only-of-type {\n",
              "        vertical-align: middle;\n",
              "    }\n",
              "\n",
              "    .dataframe tbody tr th {\n",
              "        vertical-align: top;\n",
              "    }\n",
              "\n",
              "    .dataframe thead th {\n",
              "        text-align: right;\n",
              "    }\n",
              "</style>\n",
              "<table border=\"1\" class=\"dataframe\">\n",
              "  <thead>\n",
              "    <tr style=\"text-align: right;\">\n",
              "      <th></th>\n",
              "      <th>position</th>\n",
              "    </tr>\n",
              "  </thead>\n",
              "  <tbody>\n",
              "    <tr>\n",
              "      <th>38178</th>\n",
              "      <td>{'lon': -0.24259370840983743, 'lat': 44.948032...</td>\n",
              "    </tr>\n",
              "    <tr>\n",
              "      <th>55129</th>\n",
              "      <td>{'lon': 2.197509605031694, 'lat': 48.929523800...</td>\n",
              "    </tr>\n",
              "    <tr>\n",
              "      <th>8413</th>\n",
              "      <td>{'lon': 6.121499759304934, 'lat': 49.109217438...</td>\n",
              "    </tr>\n",
              "    <tr>\n",
              "      <th>61005</th>\n",
              "      <td>{'lon': 1.3984403693512268, 'lat': 43.45169616...</td>\n",
              "    </tr>\n",
              "    <tr>\n",
              "      <th>39457</th>\n",
              "      <td>{'lon': 2.779195356259036, 'lat': 42.678706018...</td>\n",
              "    </tr>\n",
              "  </tbody>\n",
              "</table>\n",
              "</div><br><label><b>dtype:</b> object</label>"
            ]
          },
          "metadata": {},
          "execution_count": 78
        }
      ]
    },
    {
      "cell_type": "code",
      "source": [
        "print(f\"Valeurs uniques : {len(df['type_contrat_prive'].unique())}\\n\")\n",
        "df['type_contrat_prive'].sample(n=5, random_state=23)"
      ],
      "metadata": {
        "colab": {
          "base_uri": "https://localhost:8080/",
          "height": 276
        },
        "id": "IWwGhfqtQipD",
        "outputId": "5601e6af-71d1-4453-81cd-ac133ef609f1"
      },
      "execution_count": null,
      "outputs": [
        {
          "output_type": "stream",
          "name": "stdout",
          "text": [
            "Valeurs uniques : 11\n",
            "\n"
          ]
        },
        {
          "output_type": "execute_result",
          "data": {
            "text/plain": [
              "38178                              SANS OBJET\n",
              "55129                              SANS OBJET\n",
              "8413                               SANS OBJET\n",
              "61005    CONTRAT D'ASSOCIATION TOUTES CLASSES\n",
              "39457    CONTRAT D'ASSOCIATION TOUTES CLASSES\n",
              "Name: type_contrat_prive, dtype: object"
            ],
            "text/html": [
              "<div>\n",
              "<style scoped>\n",
              "    .dataframe tbody tr th:only-of-type {\n",
              "        vertical-align: middle;\n",
              "    }\n",
              "\n",
              "    .dataframe tbody tr th {\n",
              "        vertical-align: top;\n",
              "    }\n",
              "\n",
              "    .dataframe thead th {\n",
              "        text-align: right;\n",
              "    }\n",
              "</style>\n",
              "<table border=\"1\" class=\"dataframe\">\n",
              "  <thead>\n",
              "    <tr style=\"text-align: right;\">\n",
              "      <th></th>\n",
              "      <th>type_contrat_prive</th>\n",
              "    </tr>\n",
              "  </thead>\n",
              "  <tbody>\n",
              "    <tr>\n",
              "      <th>38178</th>\n",
              "      <td>SANS OBJET</td>\n",
              "    </tr>\n",
              "    <tr>\n",
              "      <th>55129</th>\n",
              "      <td>SANS OBJET</td>\n",
              "    </tr>\n",
              "    <tr>\n",
              "      <th>8413</th>\n",
              "      <td>SANS OBJET</td>\n",
              "    </tr>\n",
              "    <tr>\n",
              "      <th>61005</th>\n",
              "      <td>CONTRAT D'ASSOCIATION TOUTES CLASSES</td>\n",
              "    </tr>\n",
              "    <tr>\n",
              "      <th>39457</th>\n",
              "      <td>CONTRAT D'ASSOCIATION TOUTES CLASSES</td>\n",
              "    </tr>\n",
              "  </tbody>\n",
              "</table>\n",
              "</div><br><label><b>dtype:</b> object</label>"
            ]
          },
          "metadata": {},
          "execution_count": 79
        }
      ]
    },
    {
      "cell_type": "code",
      "source": [
        "df['type_contrat_prive'].unique()"
      ],
      "metadata": {
        "colab": {
          "base_uri": "https://localhost:8080/"
        },
        "id": "8b4KDVBqQiw4",
        "outputId": "756c877e-304a-44a5-ff92-65a11a71530b"
      },
      "execution_count": null,
      "outputs": [
        {
          "output_type": "execute_result",
          "data": {
            "text/plain": [
              "array(['SANS OBJET', 'HORS CONTRAT',\n",
              "       \"CONTRAT D'ASSOCIATION TOUTES CLASSES\",\n",
              "       'CONTRAT TTES CLASSES SIMPLE+ASSOCIATION',\n",
              "       'C0NTRAT SIMPLE POUR PARTIE DES CLASSES',\n",
              "       'CONTRAT ASSOCIATION PARTIE DES CLASSES',\n",
              "       'CONTRAT SIMPLE TOUTES CLASSES',\n",
              "       'SOUS CONTRAT ETABLISSEMENT AGRICOLE', None,\n",
              "       'CONTRAT PARTIE DES CLASSES SIMPLE+ASSOC',\n",
              "       'INCONNU DU GESTIONNAIRE'], dtype=object)"
            ]
          },
          "metadata": {},
          "execution_count": 80
        }
      ]
    },
    {
      "cell_type": "code",
      "source": [
        "print(f\"Valeurs uniques : {len(df['libelle_departement'].unique())}\\n\")\n",
        "df['libelle_departement'].sample(n=5, random_state=23)"
      ],
      "metadata": {
        "colab": {
          "base_uri": "https://localhost:8080/",
          "height": 276
        },
        "id": "CyAz1rJuQi4G",
        "outputId": "4f90a81f-7e58-496a-be73-32a0f07b241c"
      },
      "execution_count": null,
      "outputs": [
        {
          "output_type": "stream",
          "name": "stdout",
          "text": [
            "Valeurs uniques : 107\n",
            "\n"
          ]
        },
        {
          "output_type": "execute_result",
          "data": {
            "text/plain": [
              "38178                Gironde\n",
              "55129               Yvelines\n",
              "8413                 Moselle\n",
              "61005          Haute-Garonne\n",
              "39457    Pyrénées-Orientales\n",
              "Name: libelle_departement, dtype: object"
            ],
            "text/html": [
              "<div>\n",
              "<style scoped>\n",
              "    .dataframe tbody tr th:only-of-type {\n",
              "        vertical-align: middle;\n",
              "    }\n",
              "\n",
              "    .dataframe tbody tr th {\n",
              "        vertical-align: top;\n",
              "    }\n",
              "\n",
              "    .dataframe thead th {\n",
              "        text-align: right;\n",
              "    }\n",
              "</style>\n",
              "<table border=\"1\" class=\"dataframe\">\n",
              "  <thead>\n",
              "    <tr style=\"text-align: right;\">\n",
              "      <th></th>\n",
              "      <th>libelle_departement</th>\n",
              "    </tr>\n",
              "  </thead>\n",
              "  <tbody>\n",
              "    <tr>\n",
              "      <th>38178</th>\n",
              "      <td>Gironde</td>\n",
              "    </tr>\n",
              "    <tr>\n",
              "      <th>55129</th>\n",
              "      <td>Yvelines</td>\n",
              "    </tr>\n",
              "    <tr>\n",
              "      <th>8413</th>\n",
              "      <td>Moselle</td>\n",
              "    </tr>\n",
              "    <tr>\n",
              "      <th>61005</th>\n",
              "      <td>Haute-Garonne</td>\n",
              "    </tr>\n",
              "    <tr>\n",
              "      <th>39457</th>\n",
              "      <td>Pyrénées-Orientales</td>\n",
              "    </tr>\n",
              "  </tbody>\n",
              "</table>\n",
              "</div><br><label><b>dtype:</b> object</label>"
            ]
          },
          "metadata": {},
          "execution_count": 81
        }
      ]
    },
    {
      "cell_type": "code",
      "source": [
        "print(f\"Valeurs uniques : {len(df['libelle_academie'].unique())}\\n\")\n",
        "df['libelle_academie'].sample(n=5, random_state=23)"
      ],
      "metadata": {
        "colab": {
          "base_uri": "https://localhost:8080/",
          "height": 276
        },
        "id": "2WtkUcn1Qi_Q",
        "outputId": "e87b4286-da84-4aa8-81e8-9952f1f34038"
      },
      "execution_count": null,
      "outputs": [
        {
          "output_type": "stream",
          "name": "stdout",
          "text": [
            "Valeurs uniques : 34\n",
            "\n"
          ]
        },
        {
          "output_type": "execute_result",
          "data": {
            "text/plain": [
              "38178       Bordeaux\n",
              "55129     Versailles\n",
              "8413      Nancy-Metz\n",
              "61005       Toulouse\n",
              "39457    Montpellier\n",
              "Name: libelle_academie, dtype: object"
            ],
            "text/html": [
              "<div>\n",
              "<style scoped>\n",
              "    .dataframe tbody tr th:only-of-type {\n",
              "        vertical-align: middle;\n",
              "    }\n",
              "\n",
              "    .dataframe tbody tr th {\n",
              "        vertical-align: top;\n",
              "    }\n",
              "\n",
              "    .dataframe thead th {\n",
              "        text-align: right;\n",
              "    }\n",
              "</style>\n",
              "<table border=\"1\" class=\"dataframe\">\n",
              "  <thead>\n",
              "    <tr style=\"text-align: right;\">\n",
              "      <th></th>\n",
              "      <th>libelle_academie</th>\n",
              "    </tr>\n",
              "  </thead>\n",
              "  <tbody>\n",
              "    <tr>\n",
              "      <th>38178</th>\n",
              "      <td>Bordeaux</td>\n",
              "    </tr>\n",
              "    <tr>\n",
              "      <th>55129</th>\n",
              "      <td>Versailles</td>\n",
              "    </tr>\n",
              "    <tr>\n",
              "      <th>8413</th>\n",
              "      <td>Nancy-Metz</td>\n",
              "    </tr>\n",
              "    <tr>\n",
              "      <th>61005</th>\n",
              "      <td>Toulouse</td>\n",
              "    </tr>\n",
              "    <tr>\n",
              "      <th>39457</th>\n",
              "      <td>Montpellier</td>\n",
              "    </tr>\n",
              "  </tbody>\n",
              "</table>\n",
              "</div><br><label><b>dtype:</b> object</label>"
            ]
          },
          "metadata": {},
          "execution_count": 82
        }
      ]
    },
    {
      "cell_type": "code",
      "source": [
        "print(f\"Valeurs uniques : {len(df['libelle_region'].unique())}\\n\")\n",
        "df['libelle_region'].sample(n=5, random_state=23)"
      ],
      "metadata": {
        "colab": {
          "base_uri": "https://localhost:8080/",
          "height": 276
        },
        "id": "hvZK4IXiQjGS",
        "outputId": "4fb0d571-7d26-46dd-da43-df7d587ee4e2"
      },
      "execution_count": null,
      "outputs": [
        {
          "output_type": "stream",
          "name": "stdout",
          "text": [
            "Valeurs uniques : 19\n",
            "\n"
          ]
        },
        {
          "output_type": "execute_result",
          "data": {
            "text/plain": [
              "38178    Nouvelle-Aquitaine\n",
              "55129         Ile-de-France\n",
              "8413              Grand Est\n",
              "61005             Occitanie\n",
              "39457             Occitanie\n",
              "Name: libelle_region, dtype: object"
            ],
            "text/html": [
              "<div>\n",
              "<style scoped>\n",
              "    .dataframe tbody tr th:only-of-type {\n",
              "        vertical-align: middle;\n",
              "    }\n",
              "\n",
              "    .dataframe tbody tr th {\n",
              "        vertical-align: top;\n",
              "    }\n",
              "\n",
              "    .dataframe thead th {\n",
              "        text-align: right;\n",
              "    }\n",
              "</style>\n",
              "<table border=\"1\" class=\"dataframe\">\n",
              "  <thead>\n",
              "    <tr style=\"text-align: right;\">\n",
              "      <th></th>\n",
              "      <th>libelle_region</th>\n",
              "    </tr>\n",
              "  </thead>\n",
              "  <tbody>\n",
              "    <tr>\n",
              "      <th>38178</th>\n",
              "      <td>Nouvelle-Aquitaine</td>\n",
              "    </tr>\n",
              "    <tr>\n",
              "      <th>55129</th>\n",
              "      <td>Ile-de-France</td>\n",
              "    </tr>\n",
              "    <tr>\n",
              "      <th>8413</th>\n",
              "      <td>Grand Est</td>\n",
              "    </tr>\n",
              "    <tr>\n",
              "      <th>61005</th>\n",
              "      <td>Occitanie</td>\n",
              "    </tr>\n",
              "    <tr>\n",
              "      <th>39457</th>\n",
              "      <td>Occitanie</td>\n",
              "    </tr>\n",
              "  </tbody>\n",
              "</table>\n",
              "</div><br><label><b>dtype:</b> object</label>"
            ]
          },
          "metadata": {},
          "execution_count": 83
        }
      ]
    },
    {
      "cell_type": "code",
      "source": [
        "print(f\"Valeurs uniques : {len(df['coordx_origine'].unique())}\\n\")\n",
        "df['coordx_origine'].sample(n=5, random_state=23)"
      ],
      "metadata": {
        "colab": {
          "base_uri": "https://localhost:8080/",
          "height": 276
        },
        "id": "U-esK8QkQjNR",
        "outputId": "c428b8c4-bd83-4420-d2f7-2ca850d2f5b1"
      },
      "execution_count": null,
      "outputs": [
        {
          "output_type": "stream",
          "name": "stdout",
          "text": [
            "Valeurs uniques : 62570\n",
            "\n"
          ]
        },
        {
          "output_type": "execute_result",
          "data": {
            "text/plain": [
              "38178    444320.5\n",
              "55129    641201.7\n",
              "8413     927866.2\n",
              "61005    570318.0\n",
              "39457    681879.4\n",
              "Name: coordx_origine, dtype: float64"
            ],
            "text/html": [
              "<div>\n",
              "<style scoped>\n",
              "    .dataframe tbody tr th:only-of-type {\n",
              "        vertical-align: middle;\n",
              "    }\n",
              "\n",
              "    .dataframe tbody tr th {\n",
              "        vertical-align: top;\n",
              "    }\n",
              "\n",
              "    .dataframe thead th {\n",
              "        text-align: right;\n",
              "    }\n",
              "</style>\n",
              "<table border=\"1\" class=\"dataframe\">\n",
              "  <thead>\n",
              "    <tr style=\"text-align: right;\">\n",
              "      <th></th>\n",
              "      <th>coordx_origine</th>\n",
              "    </tr>\n",
              "  </thead>\n",
              "  <tbody>\n",
              "    <tr>\n",
              "      <th>38178</th>\n",
              "      <td>444320.5</td>\n",
              "    </tr>\n",
              "    <tr>\n",
              "      <th>55129</th>\n",
              "      <td>641201.7</td>\n",
              "    </tr>\n",
              "    <tr>\n",
              "      <th>8413</th>\n",
              "      <td>927866.2</td>\n",
              "    </tr>\n",
              "    <tr>\n",
              "      <th>61005</th>\n",
              "      <td>570318.0</td>\n",
              "    </tr>\n",
              "    <tr>\n",
              "      <th>39457</th>\n",
              "      <td>681879.4</td>\n",
              "    </tr>\n",
              "  </tbody>\n",
              "</table>\n",
              "</div><br><label><b>dtype:</b> float64</label>"
            ]
          },
          "metadata": {},
          "execution_count": 84
        }
      ]
    },
    {
      "cell_type": "code",
      "source": [
        "print(f\"Valeurs uniques : {len(df['coordy_origine'].unique())}\\n\")\n",
        "df['coordy_origine'].sample(n=5, random_state=23)"
      ],
      "metadata": {
        "colab": {
          "base_uri": "https://localhost:8080/",
          "height": 276
        },
        "id": "X_kS5QYLQjT-",
        "outputId": "ffe249d3-5a0c-47ae-e03c-836301e6ede1"
      },
      "execution_count": null,
      "outputs": [
        {
          "output_type": "stream",
          "name": "stdout",
          "text": [
            "Valeurs uniques : 62519\n",
            "\n"
          ]
        },
        {
          "output_type": "execute_result",
          "data": {
            "text/plain": [
              "38178    6432897.7\n",
              "55129    6870248.1\n",
              "8413     6894437.9\n",
              "61005    6262714.6\n",
              "39457    6175478.6\n",
              "Name: coordy_origine, dtype: float64"
            ],
            "text/html": [
              "<div>\n",
              "<style scoped>\n",
              "    .dataframe tbody tr th:only-of-type {\n",
              "        vertical-align: middle;\n",
              "    }\n",
              "\n",
              "    .dataframe tbody tr th {\n",
              "        vertical-align: top;\n",
              "    }\n",
              "\n",
              "    .dataframe thead th {\n",
              "        text-align: right;\n",
              "    }\n",
              "</style>\n",
              "<table border=\"1\" class=\"dataframe\">\n",
              "  <thead>\n",
              "    <tr style=\"text-align: right;\">\n",
              "      <th></th>\n",
              "      <th>coordy_origine</th>\n",
              "    </tr>\n",
              "  </thead>\n",
              "  <tbody>\n",
              "    <tr>\n",
              "      <th>38178</th>\n",
              "      <td>6432897.7</td>\n",
              "    </tr>\n",
              "    <tr>\n",
              "      <th>55129</th>\n",
              "      <td>6870248.1</td>\n",
              "    </tr>\n",
              "    <tr>\n",
              "      <th>8413</th>\n",
              "      <td>6894437.9</td>\n",
              "    </tr>\n",
              "    <tr>\n",
              "      <th>61005</th>\n",
              "      <td>6262714.6</td>\n",
              "    </tr>\n",
              "    <tr>\n",
              "      <th>39457</th>\n",
              "      <td>6175478.6</td>\n",
              "    </tr>\n",
              "  </tbody>\n",
              "</table>\n",
              "</div><br><label><b>dtype:</b> float64</label>"
            ]
          },
          "metadata": {},
          "execution_count": 85
        }
      ]
    },
    {
      "cell_type": "code",
      "source": [
        "print(f\"Valeurs uniques : {len(df['epsg_origine'].unique())}\\n\")\n",
        "df['epsg_origine'].sample(n=5, random_state=23)"
      ],
      "metadata": {
        "colab": {
          "base_uri": "https://localhost:8080/",
          "height": 276
        },
        "id": "cd1Rl-XpQjbG",
        "outputId": "c08c130c-2b12-4b06-b2ce-0b272adc6823"
      },
      "execution_count": null,
      "outputs": [
        {
          "output_type": "stream",
          "name": "stdout",
          "text": [
            "Valeurs uniques : 8\n",
            "\n"
          ]
        },
        {
          "output_type": "execute_result",
          "data": {
            "text/plain": [
              "38178    EPSG:2154\n",
              "55129    EPSG:2154\n",
              "8413     EPSG:2154\n",
              "61005    EPSG:2154\n",
              "39457    EPSG:2154\n",
              "Name: epsg_origine, dtype: object"
            ],
            "text/html": [
              "<div>\n",
              "<style scoped>\n",
              "    .dataframe tbody tr th:only-of-type {\n",
              "        vertical-align: middle;\n",
              "    }\n",
              "\n",
              "    .dataframe tbody tr th {\n",
              "        vertical-align: top;\n",
              "    }\n",
              "\n",
              "    .dataframe thead th {\n",
              "        text-align: right;\n",
              "    }\n",
              "</style>\n",
              "<table border=\"1\" class=\"dataframe\">\n",
              "  <thead>\n",
              "    <tr style=\"text-align: right;\">\n",
              "      <th></th>\n",
              "      <th>epsg_origine</th>\n",
              "    </tr>\n",
              "  </thead>\n",
              "  <tbody>\n",
              "    <tr>\n",
              "      <th>38178</th>\n",
              "      <td>EPSG:2154</td>\n",
              "    </tr>\n",
              "    <tr>\n",
              "      <th>55129</th>\n",
              "      <td>EPSG:2154</td>\n",
              "    </tr>\n",
              "    <tr>\n",
              "      <th>8413</th>\n",
              "      <td>EPSG:2154</td>\n",
              "    </tr>\n",
              "    <tr>\n",
              "      <th>61005</th>\n",
              "      <td>EPSG:2154</td>\n",
              "    </tr>\n",
              "    <tr>\n",
              "      <th>39457</th>\n",
              "      <td>EPSG:2154</td>\n",
              "    </tr>\n",
              "  </tbody>\n",
              "</table>\n",
              "</div><br><label><b>dtype:</b> object</label>"
            ]
          },
          "metadata": {},
          "execution_count": 86
        }
      ]
    },
    {
      "cell_type": "code",
      "source": [
        "df['epsg_origine'].unique()"
      ],
      "metadata": {
        "colab": {
          "base_uri": "https://localhost:8080/"
        },
        "id": "UQ-kDMVXQjh8",
        "outputId": "82b573b3-ec39-4953-ea51-ddf42e37ff96"
      },
      "execution_count": null,
      "outputs": [
        {
          "output_type": "execute_result",
          "data": {
            "text/plain": [
              "array(['EPSG:2154', None, 'EPSG:32738', 'EPSG:2972', 'EPSG:32620',\n",
              "       'EPSG:2975', 'EPSG:32621', 'EPSG:4559'], dtype=object)"
            ]
          },
          "metadata": {},
          "execution_count": 87
        }
      ]
    },
    {
      "cell_type": "code",
      "source": [
        "print(f\"Valeurs uniques : {len(df['nom_circonscription'].unique())}\\n\")\n",
        "df['nom_circonscription'].sample(n=5, random_state=23)"
      ],
      "metadata": {
        "colab": {
          "base_uri": "https://localhost:8080/",
          "height": 276
        },
        "id": "-4kxxik_Qjo2",
        "outputId": "fca525ee-9468-4c61-e54a-ad007c4e74a7"
      },
      "execution_count": null,
      "outputs": [
        {
          "output_type": "stream",
          "name": "stdout",
          "text": [
            "Valeurs uniques : 1398\n",
            "\n"
          ]
        },
        {
          "output_type": "execute_result",
          "data": {
            "text/plain": [
              "38178    Circonscription d'inspection du 1er degré de L...\n",
              "55129    Circonscription d'inspection du 1er degré de C...\n",
              "8413     Circonscription d'inspection du 1er degré de M...\n",
              "61005    Circonscription d'inspection du 1er degré d'Au...\n",
              "39457                                                 None\n",
              "Name: nom_circonscription, dtype: object"
            ],
            "text/html": [
              "<div>\n",
              "<style scoped>\n",
              "    .dataframe tbody tr th:only-of-type {\n",
              "        vertical-align: middle;\n",
              "    }\n",
              "\n",
              "    .dataframe tbody tr th {\n",
              "        vertical-align: top;\n",
              "    }\n",
              "\n",
              "    .dataframe thead th {\n",
              "        text-align: right;\n",
              "    }\n",
              "</style>\n",
              "<table border=\"1\" class=\"dataframe\">\n",
              "  <thead>\n",
              "    <tr style=\"text-align: right;\">\n",
              "      <th></th>\n",
              "      <th>nom_circonscription</th>\n",
              "    </tr>\n",
              "  </thead>\n",
              "  <tbody>\n",
              "    <tr>\n",
              "      <th>38178</th>\n",
              "      <td>Circonscription d'inspection du 1er degré de L...</td>\n",
              "    </tr>\n",
              "    <tr>\n",
              "      <th>55129</th>\n",
              "      <td>Circonscription d'inspection du 1er degré de C...</td>\n",
              "    </tr>\n",
              "    <tr>\n",
              "      <th>8413</th>\n",
              "      <td>Circonscription d'inspection du 1er degré de M...</td>\n",
              "    </tr>\n",
              "    <tr>\n",
              "      <th>61005</th>\n",
              "      <td>Circonscription d'inspection du 1er degré d'Au...</td>\n",
              "    </tr>\n",
              "    <tr>\n",
              "      <th>39457</th>\n",
              "      <td>None</td>\n",
              "    </tr>\n",
              "  </tbody>\n",
              "</table>\n",
              "</div><br><label><b>dtype:</b> object</label>"
            ]
          },
          "metadata": {},
          "execution_count": 88
        }
      ]
    },
    {
      "cell_type": "code",
      "source": [
        "print(f\"Valeurs uniques : {len(df['latitude'].unique())}\\n\")\n",
        "df['latitude'].sample(n=5, random_state=23)"
      ],
      "metadata": {
        "colab": {
          "base_uri": "https://localhost:8080/",
          "height": 276
        },
        "id": "DSDjUWI9PJB6",
        "outputId": "3101b821-7d85-480c-9347-b8b0576ecb83"
      },
      "execution_count": null,
      "outputs": [
        {
          "output_type": "stream",
          "name": "stdout",
          "text": [
            "Valeurs uniques : 62956\n",
            "\n"
          ]
        },
        {
          "output_type": "execute_result",
          "data": {
            "text/plain": [
              "38178    44.948033\n",
              "55129    48.929524\n",
              "8413     49.109217\n",
              "61005    43.451696\n",
              "39457    42.678706\n",
              "Name: latitude, dtype: float64"
            ],
            "text/html": [
              "<div>\n",
              "<style scoped>\n",
              "    .dataframe tbody tr th:only-of-type {\n",
              "        vertical-align: middle;\n",
              "    }\n",
              "\n",
              "    .dataframe tbody tr th {\n",
              "        vertical-align: top;\n",
              "    }\n",
              "\n",
              "    .dataframe thead th {\n",
              "        text-align: right;\n",
              "    }\n",
              "</style>\n",
              "<table border=\"1\" class=\"dataframe\">\n",
              "  <thead>\n",
              "    <tr style=\"text-align: right;\">\n",
              "      <th></th>\n",
              "      <th>latitude</th>\n",
              "    </tr>\n",
              "  </thead>\n",
              "  <tbody>\n",
              "    <tr>\n",
              "      <th>38178</th>\n",
              "      <td>44.948033</td>\n",
              "    </tr>\n",
              "    <tr>\n",
              "      <th>55129</th>\n",
              "      <td>48.929524</td>\n",
              "    </tr>\n",
              "    <tr>\n",
              "      <th>8413</th>\n",
              "      <td>49.109217</td>\n",
              "    </tr>\n",
              "    <tr>\n",
              "      <th>61005</th>\n",
              "      <td>43.451696</td>\n",
              "    </tr>\n",
              "    <tr>\n",
              "      <th>39457</th>\n",
              "      <td>42.678706</td>\n",
              "    </tr>\n",
              "  </tbody>\n",
              "</table>\n",
              "</div><br><label><b>dtype:</b> float64</label>"
            ]
          },
          "metadata": {},
          "execution_count": 89
        }
      ]
    },
    {
      "cell_type": "code",
      "source": [
        "print(f\"Valeurs uniques : {len(df['longitude'].unique())}\\n\")\n",
        "df['longitude'].sample(n=5, random_state=23)"
      ],
      "metadata": {
        "colab": {
          "base_uri": "https://localhost:8080/",
          "height": 276
        },
        "id": "Jkxp-gflTdlg",
        "outputId": "d8686bae-7c13-4607-a666-33ac69cb10d3"
      },
      "execution_count": null,
      "outputs": [
        {
          "output_type": "stream",
          "name": "stdout",
          "text": [
            "Valeurs uniques : 62956\n",
            "\n"
          ]
        },
        {
          "output_type": "execute_result",
          "data": {
            "text/plain": [
              "38178   -0.242594\n",
              "55129    2.197510\n",
              "8413     6.121500\n",
              "61005    1.398440\n",
              "39457    2.779195\n",
              "Name: longitude, dtype: float64"
            ],
            "text/html": [
              "<div>\n",
              "<style scoped>\n",
              "    .dataframe tbody tr th:only-of-type {\n",
              "        vertical-align: middle;\n",
              "    }\n",
              "\n",
              "    .dataframe tbody tr th {\n",
              "        vertical-align: top;\n",
              "    }\n",
              "\n",
              "    .dataframe thead th {\n",
              "        text-align: right;\n",
              "    }\n",
              "</style>\n",
              "<table border=\"1\" class=\"dataframe\">\n",
              "  <thead>\n",
              "    <tr style=\"text-align: right;\">\n",
              "      <th></th>\n",
              "      <th>longitude</th>\n",
              "    </tr>\n",
              "  </thead>\n",
              "  <tbody>\n",
              "    <tr>\n",
              "      <th>38178</th>\n",
              "      <td>-0.242594</td>\n",
              "    </tr>\n",
              "    <tr>\n",
              "      <th>55129</th>\n",
              "      <td>2.197510</td>\n",
              "    </tr>\n",
              "    <tr>\n",
              "      <th>8413</th>\n",
              "      <td>6.121500</td>\n",
              "    </tr>\n",
              "    <tr>\n",
              "      <th>61005</th>\n",
              "      <td>1.398440</td>\n",
              "    </tr>\n",
              "    <tr>\n",
              "      <th>39457</th>\n",
              "      <td>2.779195</td>\n",
              "    </tr>\n",
              "  </tbody>\n",
              "</table>\n",
              "</div><br><label><b>dtype:</b> float64</label>"
            ]
          },
          "metadata": {},
          "execution_count": 90
        }
      ]
    },
    {
      "cell_type": "code",
      "source": [
        "print(f\"Valeurs uniques : {len(df['precision_localisation'].unique())}\\n\")\n",
        "df['precision_localisation'].sample(n=5, random_state=23)"
      ],
      "metadata": {
        "colab": {
          "base_uri": "https://localhost:8080/",
          "height": 276
        },
        "id": "UKnGlTHqTds-",
        "outputId": "920914a3-79a2-4702-ff0b-6ded2e2b7675"
      },
      "execution_count": null,
      "outputs": [
        {
          "output_type": "stream",
          "name": "stdout",
          "text": [
            "Valeurs uniques : 21\n",
            "\n"
          ]
        },
        {
          "output_type": "execute_result",
          "data": {
            "text/plain": [
              "38178    PLAQUE_ADRESSE\n",
              "55129     Numéro de rue\n",
              "8413      Numéro de rue\n",
              "61005     Numéro de rue\n",
              "39457     Numéro de rue\n",
              "Name: precision_localisation, dtype: object"
            ],
            "text/html": [
              "<div>\n",
              "<style scoped>\n",
              "    .dataframe tbody tr th:only-of-type {\n",
              "        vertical-align: middle;\n",
              "    }\n",
              "\n",
              "    .dataframe tbody tr th {\n",
              "        vertical-align: top;\n",
              "    }\n",
              "\n",
              "    .dataframe thead th {\n",
              "        text-align: right;\n",
              "    }\n",
              "</style>\n",
              "<table border=\"1\" class=\"dataframe\">\n",
              "  <thead>\n",
              "    <tr style=\"text-align: right;\">\n",
              "      <th></th>\n",
              "      <th>precision_localisation</th>\n",
              "    </tr>\n",
              "  </thead>\n",
              "  <tbody>\n",
              "    <tr>\n",
              "      <th>38178</th>\n",
              "      <td>PLAQUE_ADRESSE</td>\n",
              "    </tr>\n",
              "    <tr>\n",
              "      <th>55129</th>\n",
              "      <td>Numéro de rue</td>\n",
              "    </tr>\n",
              "    <tr>\n",
              "      <th>8413</th>\n",
              "      <td>Numéro de rue</td>\n",
              "    </tr>\n",
              "    <tr>\n",
              "      <th>61005</th>\n",
              "      <td>Numéro de rue</td>\n",
              "    </tr>\n",
              "    <tr>\n",
              "      <th>39457</th>\n",
              "      <td>Numéro de rue</td>\n",
              "    </tr>\n",
              "  </tbody>\n",
              "</table>\n",
              "</div><br><label><b>dtype:</b> object</label>"
            ]
          },
          "metadata": {},
          "execution_count": 91
        }
      ]
    },
    {
      "cell_type": "code",
      "source": [
        "df['precision_localisation'].unique()"
      ],
      "metadata": {
        "colab": {
          "base_uri": "https://localhost:8080/"
        },
        "id": "f5cDNbDZTd1Q",
        "outputId": "d752dac5-721e-4e4d-b668-efe81120546d"
      },
      "execution_count": null,
      "outputs": [
        {
          "output_type": "execute_result",
          "data": {
            "text/plain": [
              "array(['PLAQUE_ADRESSE', 'NUMERO (ADRESSE)', 'Numéro de rue', 'Rue',\n",
              "       'Ville', None, 'Lieu-dit', 'COMMUNE', 'BATIMENT',\n",
              "       'ENTREE PRINCIPALE', 'NE SAIT PAS', 'CENTRE_PARCELLE_PROJETE',\n",
              "       'ZONE_ADRESSAGE', 'Parfaite', 'MANUEL', 'Moyenne', 'Correcte',\n",
              "       'DEFAUT_DE_NUMERO', 'INTERPOLATION', 'SIMILAIRE', 'Mauvaise'],\n",
              "      dtype=object)"
            ]
          },
          "metadata": {},
          "execution_count": 92
        }
      ]
    },
    {
      "cell_type": "code",
      "source": [
        "print(f\"Valeurs uniques : {len(df['date_ouverture'].unique())}\\n\")\n",
        "df['date_ouverture'].sample(n=5, random_state=23)"
      ],
      "metadata": {
        "colab": {
          "base_uri": "https://localhost:8080/",
          "height": 276
        },
        "id": "goMZPVQ3Td-o",
        "outputId": "0fb1334a-b811-4747-ff78-d05409632c1c"
      },
      "execution_count": null,
      "outputs": [
        {
          "output_type": "stream",
          "name": "stdout",
          "text": [
            "Valeurs uniques : 4655\n",
            "\n"
          ]
        },
        {
          "output_type": "execute_result",
          "data": {
            "text/plain": [
              "38178    1965-05-01\n",
              "55129    1965-05-01\n",
              "8413     1993-09-01\n",
              "61005    1971-03-10\n",
              "39457    2003-09-01\n",
              "Name: date_ouverture, dtype: object"
            ],
            "text/html": [
              "<div>\n",
              "<style scoped>\n",
              "    .dataframe tbody tr th:only-of-type {\n",
              "        vertical-align: middle;\n",
              "    }\n",
              "\n",
              "    .dataframe tbody tr th {\n",
              "        vertical-align: top;\n",
              "    }\n",
              "\n",
              "    .dataframe thead th {\n",
              "        text-align: right;\n",
              "    }\n",
              "</style>\n",
              "<table border=\"1\" class=\"dataframe\">\n",
              "  <thead>\n",
              "    <tr style=\"text-align: right;\">\n",
              "      <th></th>\n",
              "      <th>date_ouverture</th>\n",
              "    </tr>\n",
              "  </thead>\n",
              "  <tbody>\n",
              "    <tr>\n",
              "      <th>38178</th>\n",
              "      <td>1965-05-01</td>\n",
              "    </tr>\n",
              "    <tr>\n",
              "      <th>55129</th>\n",
              "      <td>1965-05-01</td>\n",
              "    </tr>\n",
              "    <tr>\n",
              "      <th>8413</th>\n",
              "      <td>1993-09-01</td>\n",
              "    </tr>\n",
              "    <tr>\n",
              "      <th>61005</th>\n",
              "      <td>1971-03-10</td>\n",
              "    </tr>\n",
              "    <tr>\n",
              "      <th>39457</th>\n",
              "      <td>2003-09-01</td>\n",
              "    </tr>\n",
              "  </tbody>\n",
              "</table>\n",
              "</div><br><label><b>dtype:</b> object</label>"
            ]
          },
          "metadata": {},
          "execution_count": 93
        }
      ]
    },
    {
      "cell_type": "code",
      "source": [
        "print(f\"Valeurs uniques : {len(df['date_maj_ligne'].unique())}\\n\")\n",
        "df['date_maj_ligne'].sample(n=5, random_state=23)"
      ],
      "metadata": {
        "colab": {
          "base_uri": "https://localhost:8080/",
          "height": 276
        },
        "id": "bAoQGT4dTeEH",
        "outputId": "05f50ebe-0d57-4fb3-a978-63469bf90368"
      },
      "execution_count": null,
      "outputs": [
        {
          "output_type": "stream",
          "name": "stdout",
          "text": [
            "Valeurs uniques : 1\n",
            "\n"
          ]
        },
        {
          "output_type": "execute_result",
          "data": {
            "text/plain": [
              "38178    2025-01-28\n",
              "55129    2025-01-28\n",
              "8413     2025-01-28\n",
              "61005    2025-01-28\n",
              "39457    2025-01-28\n",
              "Name: date_maj_ligne, dtype: object"
            ],
            "text/html": [
              "<div>\n",
              "<style scoped>\n",
              "    .dataframe tbody tr th:only-of-type {\n",
              "        vertical-align: middle;\n",
              "    }\n",
              "\n",
              "    .dataframe tbody tr th {\n",
              "        vertical-align: top;\n",
              "    }\n",
              "\n",
              "    .dataframe thead th {\n",
              "        text-align: right;\n",
              "    }\n",
              "</style>\n",
              "<table border=\"1\" class=\"dataframe\">\n",
              "  <thead>\n",
              "    <tr style=\"text-align: right;\">\n",
              "      <th></th>\n",
              "      <th>date_maj_ligne</th>\n",
              "    </tr>\n",
              "  </thead>\n",
              "  <tbody>\n",
              "    <tr>\n",
              "      <th>38178</th>\n",
              "      <td>2025-01-28</td>\n",
              "    </tr>\n",
              "    <tr>\n",
              "      <th>55129</th>\n",
              "      <td>2025-01-28</td>\n",
              "    </tr>\n",
              "    <tr>\n",
              "      <th>8413</th>\n",
              "      <td>2025-01-28</td>\n",
              "    </tr>\n",
              "    <tr>\n",
              "      <th>61005</th>\n",
              "      <td>2025-01-28</td>\n",
              "    </tr>\n",
              "    <tr>\n",
              "      <th>39457</th>\n",
              "      <td>2025-01-28</td>\n",
              "    </tr>\n",
              "  </tbody>\n",
              "</table>\n",
              "</div><br><label><b>dtype:</b> object</label>"
            ]
          },
          "metadata": {},
          "execution_count": 94
        }
      ]
    },
    {
      "cell_type": "code",
      "source": [
        "print(f\"Valeurs uniques : {len(df['etat'].unique())}\\n\")\n",
        "df['etat'].sample(n=5, random_state=23)"
      ],
      "metadata": {
        "colab": {
          "base_uri": "https://localhost:8080/",
          "height": 276
        },
        "id": "3i1lH-KDTeLo",
        "outputId": "4288d835-c034-4709-9e13-d705df2a7e43"
      },
      "execution_count": null,
      "outputs": [
        {
          "output_type": "stream",
          "name": "stdout",
          "text": [
            "Valeurs uniques : 2\n",
            "\n"
          ]
        },
        {
          "output_type": "execute_result",
          "data": {
            "text/plain": [
              "38178    OUVERT\n",
              "55129    OUVERT\n",
              "8413     OUVERT\n",
              "61005    OUVERT\n",
              "39457    OUVERT\n",
              "Name: etat, dtype: object"
            ],
            "text/html": [
              "<div>\n",
              "<style scoped>\n",
              "    .dataframe tbody tr th:only-of-type {\n",
              "        vertical-align: middle;\n",
              "    }\n",
              "\n",
              "    .dataframe tbody tr th {\n",
              "        vertical-align: top;\n",
              "    }\n",
              "\n",
              "    .dataframe thead th {\n",
              "        text-align: right;\n",
              "    }\n",
              "</style>\n",
              "<table border=\"1\" class=\"dataframe\">\n",
              "  <thead>\n",
              "    <tr style=\"text-align: right;\">\n",
              "      <th></th>\n",
              "      <th>etat</th>\n",
              "    </tr>\n",
              "  </thead>\n",
              "  <tbody>\n",
              "    <tr>\n",
              "      <th>38178</th>\n",
              "      <td>OUVERT</td>\n",
              "    </tr>\n",
              "    <tr>\n",
              "      <th>55129</th>\n",
              "      <td>OUVERT</td>\n",
              "    </tr>\n",
              "    <tr>\n",
              "      <th>8413</th>\n",
              "      <td>OUVERT</td>\n",
              "    </tr>\n",
              "    <tr>\n",
              "      <th>61005</th>\n",
              "      <td>OUVERT</td>\n",
              "    </tr>\n",
              "    <tr>\n",
              "      <th>39457</th>\n",
              "      <td>OUVERT</td>\n",
              "    </tr>\n",
              "  </tbody>\n",
              "</table>\n",
              "</div><br><label><b>dtype:</b> object</label>"
            ]
          },
          "metadata": {},
          "execution_count": 95
        }
      ]
    },
    {
      "cell_type": "code",
      "source": [
        "df['etat'].unique()"
      ],
      "metadata": {
        "colab": {
          "base_uri": "https://localhost:8080/"
        },
        "id": "TTf6bvDTTeTM",
        "outputId": "47ea8e2c-ac8f-413d-9123-5238ab11aed4"
      },
      "execution_count": null,
      "outputs": [
        {
          "output_type": "execute_result",
          "data": {
            "text/plain": [
              "array(['OUVERT', 'A FERMER'], dtype=object)"
            ]
          },
          "metadata": {},
          "execution_count": 96
        }
      ]
    },
    {
      "cell_type": "code",
      "source": [
        "print(f\"Valeurs uniques : {len(df['ministere_tutelle'].unique())}\\n\")\n",
        "df['ministere_tutelle'].sample(n=5, random_state=23)"
      ],
      "metadata": {
        "colab": {
          "base_uri": "https://localhost:8080/",
          "height": 276
        },
        "id": "4jpU5klOTeaW",
        "outputId": "3b2db0a0-f870-4ef3-fa6f-8bbf6df82b40"
      },
      "execution_count": null,
      "outputs": [
        {
          "output_type": "stream",
          "name": "stdout",
          "text": [
            "Valeurs uniques : 13\n",
            "\n"
          ]
        },
        {
          "output_type": "execute_result",
          "data": {
            "text/plain": [
              "38178    MINISTERE DE L'EDUCATION NATIONALE\n",
              "55129    MINISTERE DE L'EDUCATION NATIONALE\n",
              "8413     MINISTERE DE L'EDUCATION NATIONALE\n",
              "61005    MINISTERE DE L'EDUCATION NATIONALE\n",
              "39457    MINISTERE DE L'EDUCATION NATIONALE\n",
              "Name: ministere_tutelle, dtype: object"
            ],
            "text/html": [
              "<div>\n",
              "<style scoped>\n",
              "    .dataframe tbody tr th:only-of-type {\n",
              "        vertical-align: middle;\n",
              "    }\n",
              "\n",
              "    .dataframe tbody tr th {\n",
              "        vertical-align: top;\n",
              "    }\n",
              "\n",
              "    .dataframe thead th {\n",
              "        text-align: right;\n",
              "    }\n",
              "</style>\n",
              "<table border=\"1\" class=\"dataframe\">\n",
              "  <thead>\n",
              "    <tr style=\"text-align: right;\">\n",
              "      <th></th>\n",
              "      <th>ministere_tutelle</th>\n",
              "    </tr>\n",
              "  </thead>\n",
              "  <tbody>\n",
              "    <tr>\n",
              "      <th>38178</th>\n",
              "      <td>MINISTERE DE L'EDUCATION NATIONALE</td>\n",
              "    </tr>\n",
              "    <tr>\n",
              "      <th>55129</th>\n",
              "      <td>MINISTERE DE L'EDUCATION NATIONALE</td>\n",
              "    </tr>\n",
              "    <tr>\n",
              "      <th>8413</th>\n",
              "      <td>MINISTERE DE L'EDUCATION NATIONALE</td>\n",
              "    </tr>\n",
              "    <tr>\n",
              "      <th>61005</th>\n",
              "      <td>MINISTERE DE L'EDUCATION NATIONALE</td>\n",
              "    </tr>\n",
              "    <tr>\n",
              "      <th>39457</th>\n",
              "      <td>MINISTERE DE L'EDUCATION NATIONALE</td>\n",
              "    </tr>\n",
              "  </tbody>\n",
              "</table>\n",
              "</div><br><label><b>dtype:</b> object</label>"
            ]
          },
          "metadata": {},
          "execution_count": 97
        }
      ]
    },
    {
      "cell_type": "code",
      "source": [
        "df['ministere_tutelle'].unique()"
      ],
      "metadata": {
        "colab": {
          "base_uri": "https://localhost:8080/"
        },
        "id": "A6u7FjStTehw",
        "outputId": "792052d4-c480-47ef-9ed2-6265f112c603"
      },
      "execution_count": null,
      "outputs": [
        {
          "output_type": "execute_result",
          "data": {
            "text/plain": [
              "array([\"MINISTERE DE L'EDUCATION NATIONALE\", 'AGRICULTURE', 'MER',\n",
              "       'DEFENSE', 'SANTE ET SOLIDARITE NATIONALE',\n",
              "       'ENSEIGNEMENT SUPERIEUR', 'CULTURE', 'REDEPLOIEMENT INDUSTRIEL',\n",
              "       'SANS TUTELLE', 'JEUNESSE ET SPORTS',\n",
              "       'TRAVAIL EMPLOI FORMATION PROFESSIONNELLE',\n",
              "       'GRANDE CHANCELLERIE ORDRE LEGION HONNEUR',\n",
              "       'COMMERCE ET ARTISANAT'], dtype=object)"
            ]
          },
          "metadata": {},
          "execution_count": 98
        }
      ]
    },
    {
      "cell_type": "code",
      "source": [
        "print(f\"Valeurs uniques : {len(df['multi_uai'].unique())}\\n\")\n",
        "df['multi_uai'].sample(n=5, random_state=23)"
      ],
      "metadata": {
        "colab": {
          "base_uri": "https://localhost:8080/",
          "height": 276
        },
        "id": "n35asFpMTeqS",
        "outputId": "78e0b695-a3cc-4463-82d4-61797ef961fa"
      },
      "execution_count": null,
      "outputs": [
        {
          "output_type": "stream",
          "name": "stdout",
          "text": [
            "Valeurs uniques : 2\n",
            "\n"
          ]
        },
        {
          "output_type": "execute_result",
          "data": {
            "text/plain": [
              "38178    0\n",
              "55129    0\n",
              "8413     0\n",
              "61005    0\n",
              "39457    0\n",
              "Name: multi_uai, dtype: int64"
            ],
            "text/html": [
              "<div>\n",
              "<style scoped>\n",
              "    .dataframe tbody tr th:only-of-type {\n",
              "        vertical-align: middle;\n",
              "    }\n",
              "\n",
              "    .dataframe tbody tr th {\n",
              "        vertical-align: top;\n",
              "    }\n",
              "\n",
              "    .dataframe thead th {\n",
              "        text-align: right;\n",
              "    }\n",
              "</style>\n",
              "<table border=\"1\" class=\"dataframe\">\n",
              "  <thead>\n",
              "    <tr style=\"text-align: right;\">\n",
              "      <th></th>\n",
              "      <th>multi_uai</th>\n",
              "    </tr>\n",
              "  </thead>\n",
              "  <tbody>\n",
              "    <tr>\n",
              "      <th>38178</th>\n",
              "      <td>0</td>\n",
              "    </tr>\n",
              "    <tr>\n",
              "      <th>55129</th>\n",
              "      <td>0</td>\n",
              "    </tr>\n",
              "    <tr>\n",
              "      <th>8413</th>\n",
              "      <td>0</td>\n",
              "    </tr>\n",
              "    <tr>\n",
              "      <th>61005</th>\n",
              "      <td>0</td>\n",
              "    </tr>\n",
              "    <tr>\n",
              "      <th>39457</th>\n",
              "      <td>0</td>\n",
              "    </tr>\n",
              "  </tbody>\n",
              "</table>\n",
              "</div><br><label><b>dtype:</b> int64</label>"
            ]
          },
          "metadata": {},
          "execution_count": 99
        }
      ]
    },
    {
      "cell_type": "code",
      "source": [
        "df['multi_uai'].unique()"
      ],
      "metadata": {
        "colab": {
          "base_uri": "https://localhost:8080/"
        },
        "id": "qk18TY4Wf7F1",
        "outputId": "198bb57e-8814-4209-a8a1-d3388a433d85"
      },
      "execution_count": null,
      "outputs": [
        {
          "output_type": "execute_result",
          "data": {
            "text/plain": [
              "array([0, 1])"
            ]
          },
          "metadata": {},
          "execution_count": 100
        }
      ]
    },
    {
      "cell_type": "code",
      "source": [
        "print(f\"Valeurs uniques : {len(df['rpi_concentre'].unique())}\\n\")\n",
        "df['rpi_concentre'].sample(n=5, random_state=23)"
      ],
      "metadata": {
        "colab": {
          "base_uri": "https://localhost:8080/",
          "height": 276
        },
        "id": "Vi9Z7TmDf7Qw",
        "outputId": "ca0c12d8-50c8-4ffc-807d-63c557e0dfe6"
      },
      "execution_count": null,
      "outputs": [
        {
          "output_type": "stream",
          "name": "stdout",
          "text": [
            "Valeurs uniques : 3\n",
            "\n"
          ]
        },
        {
          "output_type": "execute_result",
          "data": {
            "text/plain": [
              "38178    0.0\n",
              "55129    0.0\n",
              "8413     0.0\n",
              "61005    0.0\n",
              "39457    0.0\n",
              "Name: rpi_concentre, dtype: float64"
            ],
            "text/html": [
              "<div>\n",
              "<style scoped>\n",
              "    .dataframe tbody tr th:only-of-type {\n",
              "        vertical-align: middle;\n",
              "    }\n",
              "\n",
              "    .dataframe tbody tr th {\n",
              "        vertical-align: top;\n",
              "    }\n",
              "\n",
              "    .dataframe thead th {\n",
              "        text-align: right;\n",
              "    }\n",
              "</style>\n",
              "<table border=\"1\" class=\"dataframe\">\n",
              "  <thead>\n",
              "    <tr style=\"text-align: right;\">\n",
              "      <th></th>\n",
              "      <th>rpi_concentre</th>\n",
              "    </tr>\n",
              "  </thead>\n",
              "  <tbody>\n",
              "    <tr>\n",
              "      <th>38178</th>\n",
              "      <td>0.0</td>\n",
              "    </tr>\n",
              "    <tr>\n",
              "      <th>55129</th>\n",
              "      <td>0.0</td>\n",
              "    </tr>\n",
              "    <tr>\n",
              "      <th>8413</th>\n",
              "      <td>0.0</td>\n",
              "    </tr>\n",
              "    <tr>\n",
              "      <th>61005</th>\n",
              "      <td>0.0</td>\n",
              "    </tr>\n",
              "    <tr>\n",
              "      <th>39457</th>\n",
              "      <td>0.0</td>\n",
              "    </tr>\n",
              "  </tbody>\n",
              "</table>\n",
              "</div><br><label><b>dtype:</b> float64</label>"
            ]
          },
          "metadata": {},
          "execution_count": 101
        }
      ]
    },
    {
      "cell_type": "code",
      "source": [
        "df['rpi_concentre'].unique()"
      ],
      "metadata": {
        "colab": {
          "base_uri": "https://localhost:8080/"
        },
        "id": "CFaFcaVLf7Y9",
        "outputId": "81a8c9d2-d61c-44ce-fbac-7558d8c99439"
      },
      "execution_count": null,
      "outputs": [
        {
          "output_type": "execute_result",
          "data": {
            "text/plain": [
              "array([ 0.,  1., nan])"
            ]
          },
          "metadata": {},
          "execution_count": 102
        }
      ]
    },
    {
      "cell_type": "code",
      "source": [
        "print(f\"Valeurs uniques : {len(df['rpi_disperse'].unique())}\\n\")\n",
        "df['rpi_disperse'].sample(n=5, random_state=23)"
      ],
      "metadata": {
        "colab": {
          "base_uri": "https://localhost:8080/",
          "height": 276
        },
        "id": "N0faqiWWf7i5",
        "outputId": "c3772486-3b3c-413f-9121-47e70fe750d0"
      },
      "execution_count": null,
      "outputs": [
        {
          "output_type": "stream",
          "name": "stdout",
          "text": [
            "Valeurs uniques : 3826\n",
            "\n"
          ]
        },
        {
          "output_type": "execute_result",
          "data": {
            "text/plain": [
              "38178    None\n",
              "55129    None\n",
              "8413     None\n",
              "61005    None\n",
              "39457    None\n",
              "Name: rpi_disperse, dtype: object"
            ],
            "text/html": [
              "<div>\n",
              "<style scoped>\n",
              "    .dataframe tbody tr th:only-of-type {\n",
              "        vertical-align: middle;\n",
              "    }\n",
              "\n",
              "    .dataframe tbody tr th {\n",
              "        vertical-align: top;\n",
              "    }\n",
              "\n",
              "    .dataframe thead th {\n",
              "        text-align: right;\n",
              "    }\n",
              "</style>\n",
              "<table border=\"1\" class=\"dataframe\">\n",
              "  <thead>\n",
              "    <tr style=\"text-align: right;\">\n",
              "      <th></th>\n",
              "      <th>rpi_disperse</th>\n",
              "    </tr>\n",
              "  </thead>\n",
              "  <tbody>\n",
              "    <tr>\n",
              "      <th>38178</th>\n",
              "      <td>None</td>\n",
              "    </tr>\n",
              "    <tr>\n",
              "      <th>55129</th>\n",
              "      <td>None</td>\n",
              "    </tr>\n",
              "    <tr>\n",
              "      <th>8413</th>\n",
              "      <td>None</td>\n",
              "    </tr>\n",
              "    <tr>\n",
              "      <th>61005</th>\n",
              "      <td>None</td>\n",
              "    </tr>\n",
              "    <tr>\n",
              "      <th>39457</th>\n",
              "      <td>None</td>\n",
              "    </tr>\n",
              "  </tbody>\n",
              "</table>\n",
              "</div><br><label><b>dtype:</b> object</label>"
            ]
          },
          "metadata": {},
          "execution_count": 103
        }
      ]
    },
    {
      "cell_type": "code",
      "source": [
        "print(f\"Valeurs uniques : {len(df['code_nature'].unique())}\\n\")\n",
        "df['code_nature'].sample(n=5, random_state=23)"
      ],
      "metadata": {
        "colab": {
          "base_uri": "https://localhost:8080/",
          "height": 276
        },
        "id": "Ye1qylbsf7q1",
        "outputId": "9cf537a2-ae35-4020-9865-5084e6910457"
      },
      "execution_count": null,
      "outputs": [
        {
          "output_type": "stream",
          "name": "stdout",
          "text": [
            "Valeurs uniques : 47\n",
            "\n"
          ]
        },
        {
          "output_type": "execute_result",
          "data": {
            "text/plain": [
              "38178    340\n",
              "55129    151\n",
              "8413     151\n",
              "61005    151\n",
              "39457    340\n",
              "Name: code_nature, dtype: int64"
            ],
            "text/html": [
              "<div>\n",
              "<style scoped>\n",
              "    .dataframe tbody tr th:only-of-type {\n",
              "        vertical-align: middle;\n",
              "    }\n",
              "\n",
              "    .dataframe tbody tr th {\n",
              "        vertical-align: top;\n",
              "    }\n",
              "\n",
              "    .dataframe thead th {\n",
              "        text-align: right;\n",
              "    }\n",
              "</style>\n",
              "<table border=\"1\" class=\"dataframe\">\n",
              "  <thead>\n",
              "    <tr style=\"text-align: right;\">\n",
              "      <th></th>\n",
              "      <th>code_nature</th>\n",
              "    </tr>\n",
              "  </thead>\n",
              "  <tbody>\n",
              "    <tr>\n",
              "      <th>38178</th>\n",
              "      <td>340</td>\n",
              "    </tr>\n",
              "    <tr>\n",
              "      <th>55129</th>\n",
              "      <td>151</td>\n",
              "    </tr>\n",
              "    <tr>\n",
              "      <th>8413</th>\n",
              "      <td>151</td>\n",
              "    </tr>\n",
              "    <tr>\n",
              "      <th>61005</th>\n",
              "      <td>151</td>\n",
              "    </tr>\n",
              "    <tr>\n",
              "      <th>39457</th>\n",
              "      <td>340</td>\n",
              "    </tr>\n",
              "  </tbody>\n",
              "</table>\n",
              "</div><br><label><b>dtype:</b> int64</label>"
            ]
          },
          "metadata": {},
          "execution_count": 104
        }
      ]
    },
    {
      "cell_type": "code",
      "source": [
        "print(f\"Valeurs uniques : {len(df['libelle_nature'].unique())}\\n\")\n",
        "df['libelle_nature'].sample(n=5, random_state=23)"
      ],
      "metadata": {
        "colab": {
          "base_uri": "https://localhost:8080/",
          "height": 276
        },
        "id": "lTC4xhSYf7z5",
        "outputId": "0cbbbf24-99f3-47a2-bcb5-4a0046e03607"
      },
      "execution_count": null,
      "outputs": [
        {
          "output_type": "stream",
          "name": "stdout",
          "text": [
            "Valeurs uniques : 47\n",
            "\n"
          ]
        },
        {
          "output_type": "execute_result",
          "data": {
            "text/plain": [
              "38178                        COLLEGE\n",
              "55129    ECOLE DE NIVEAU ELEMENTAIRE\n",
              "8413     ECOLE DE NIVEAU ELEMENTAIRE\n",
              "61005    ECOLE DE NIVEAU ELEMENTAIRE\n",
              "39457                        COLLEGE\n",
              "Name: libelle_nature, dtype: object"
            ],
            "text/html": [
              "<div>\n",
              "<style scoped>\n",
              "    .dataframe tbody tr th:only-of-type {\n",
              "        vertical-align: middle;\n",
              "    }\n",
              "\n",
              "    .dataframe tbody tr th {\n",
              "        vertical-align: top;\n",
              "    }\n",
              "\n",
              "    .dataframe thead th {\n",
              "        text-align: right;\n",
              "    }\n",
              "</style>\n",
              "<table border=\"1\" class=\"dataframe\">\n",
              "  <thead>\n",
              "    <tr style=\"text-align: right;\">\n",
              "      <th></th>\n",
              "      <th>libelle_nature</th>\n",
              "    </tr>\n",
              "  </thead>\n",
              "  <tbody>\n",
              "    <tr>\n",
              "      <th>38178</th>\n",
              "      <td>COLLEGE</td>\n",
              "    </tr>\n",
              "    <tr>\n",
              "      <th>55129</th>\n",
              "      <td>ECOLE DE NIVEAU ELEMENTAIRE</td>\n",
              "    </tr>\n",
              "    <tr>\n",
              "      <th>8413</th>\n",
              "      <td>ECOLE DE NIVEAU ELEMENTAIRE</td>\n",
              "    </tr>\n",
              "    <tr>\n",
              "      <th>61005</th>\n",
              "      <td>ECOLE DE NIVEAU ELEMENTAIRE</td>\n",
              "    </tr>\n",
              "    <tr>\n",
              "      <th>39457</th>\n",
              "      <td>COLLEGE</td>\n",
              "    </tr>\n",
              "  </tbody>\n",
              "</table>\n",
              "</div><br><label><b>dtype:</b> object</label>"
            ]
          },
          "metadata": {},
          "execution_count": 105
        }
      ]
    },
    {
      "cell_type": "code",
      "source": [
        "print(f\"Valeurs uniques : {len(df['code_type_contrat_prive'].unique())}\\n\")\n",
        "df['code_type_contrat_prive'].sample(n=5, random_state=23)"
      ],
      "metadata": {
        "colab": {
          "base_uri": "https://localhost:8080/",
          "height": 276
        },
        "id": "ty9Deo3Mf767",
        "outputId": "7576d704-8cd6-48ab-fc52-1ba399aaa5d2"
      },
      "execution_count": null,
      "outputs": [
        {
          "output_type": "stream",
          "name": "stdout",
          "text": [
            "Valeurs uniques : 11\n",
            "\n"
          ]
        },
        {
          "output_type": "execute_result",
          "data": {
            "text/plain": [
              "38178    99\n",
              "55129    99\n",
              "8413     99\n",
              "61005    30\n",
              "39457    30\n",
              "Name: code_type_contrat_prive, dtype: object"
            ],
            "text/html": [
              "<div>\n",
              "<style scoped>\n",
              "    .dataframe tbody tr th:only-of-type {\n",
              "        vertical-align: middle;\n",
              "    }\n",
              "\n",
              "    .dataframe tbody tr th {\n",
              "        vertical-align: top;\n",
              "    }\n",
              "\n",
              "    .dataframe thead th {\n",
              "        text-align: right;\n",
              "    }\n",
              "</style>\n",
              "<table border=\"1\" class=\"dataframe\">\n",
              "  <thead>\n",
              "    <tr style=\"text-align: right;\">\n",
              "      <th></th>\n",
              "      <th>code_type_contrat_prive</th>\n",
              "    </tr>\n",
              "  </thead>\n",
              "  <tbody>\n",
              "    <tr>\n",
              "      <th>38178</th>\n",
              "      <td>99</td>\n",
              "    </tr>\n",
              "    <tr>\n",
              "      <th>55129</th>\n",
              "      <td>99</td>\n",
              "    </tr>\n",
              "    <tr>\n",
              "      <th>8413</th>\n",
              "      <td>99</td>\n",
              "    </tr>\n",
              "    <tr>\n",
              "      <th>61005</th>\n",
              "      <td>30</td>\n",
              "    </tr>\n",
              "    <tr>\n",
              "      <th>39457</th>\n",
              "      <td>30</td>\n",
              "    </tr>\n",
              "  </tbody>\n",
              "</table>\n",
              "</div><br><label><b>dtype:</b> object</label>"
            ]
          },
          "metadata": {},
          "execution_count": 106
        }
      ]
    },
    {
      "cell_type": "code",
      "source": [
        "df['code_type_contrat_prive'].unique()"
      ],
      "metadata": {
        "colab": {
          "base_uri": "https://localhost:8080/"
        },
        "id": "n-_dMxy9f8C3",
        "outputId": "34343066-801c-42d2-9bf2-be8bbd9653ca"
      },
      "execution_count": null,
      "outputs": [
        {
          "output_type": "execute_result",
          "data": {
            "text/plain": [
              "array(['99', '10', '30', '40', '21', '31', '20', '60', '50', '41', '!!'],\n",
              "      dtype=object)"
            ]
          },
          "metadata": {},
          "execution_count": 107
        }
      ]
    },
    {
      "cell_type": "code",
      "source": [
        "print(f\"Valeurs uniques : {len(df['pial'].unique())}\\n\")\n",
        "df['pial'].sample(n=5, random_state=23)"
      ],
      "metadata": {
        "colab": {
          "base_uri": "https://localhost:8080/",
          "height": 276
        },
        "id": "ZepPSCDPf8LP",
        "outputId": "e3de0460-379f-4943-a727-cc7ba75655f3"
      },
      "execution_count": null,
      "outputs": [
        {
          "output_type": "stream",
          "name": "stdout",
          "text": [
            "Valeurs uniques : 4125\n",
            "\n"
          ]
        },
        {
          "output_type": "execute_result",
          "data": {
            "text/plain": [
              "38178    0330091V\n",
              "55129    0780269U\n",
              "8413     0572477H\n",
              "61005    0311968W\n",
              "39457    0660872P\n",
              "Name: pial, dtype: object"
            ],
            "text/html": [
              "<div>\n",
              "<style scoped>\n",
              "    .dataframe tbody tr th:only-of-type {\n",
              "        vertical-align: middle;\n",
              "    }\n",
              "\n",
              "    .dataframe tbody tr th {\n",
              "        vertical-align: top;\n",
              "    }\n",
              "\n",
              "    .dataframe thead th {\n",
              "        text-align: right;\n",
              "    }\n",
              "</style>\n",
              "<table border=\"1\" class=\"dataframe\">\n",
              "  <thead>\n",
              "    <tr style=\"text-align: right;\">\n",
              "      <th></th>\n",
              "      <th>pial</th>\n",
              "    </tr>\n",
              "  </thead>\n",
              "  <tbody>\n",
              "    <tr>\n",
              "      <th>38178</th>\n",
              "      <td>0330091V</td>\n",
              "    </tr>\n",
              "    <tr>\n",
              "      <th>55129</th>\n",
              "      <td>0780269U</td>\n",
              "    </tr>\n",
              "    <tr>\n",
              "      <th>8413</th>\n",
              "      <td>0572477H</td>\n",
              "    </tr>\n",
              "    <tr>\n",
              "      <th>61005</th>\n",
              "      <td>0311968W</td>\n",
              "    </tr>\n",
              "    <tr>\n",
              "      <th>39457</th>\n",
              "      <td>0660872P</td>\n",
              "    </tr>\n",
              "  </tbody>\n",
              "</table>\n",
              "</div><br><label><b>dtype:</b> object</label>"
            ]
          },
          "metadata": {},
          "execution_count": 108
        }
      ]
    },
    {
      "cell_type": "code",
      "source": [
        "print(f\"Valeurs uniques : {len(df['etablissement_mere'].unique())}\\n\")\n",
        "df['etablissement_mere'].sample(n=5, random_state=23)"
      ],
      "metadata": {
        "colab": {
          "base_uri": "https://localhost:8080/",
          "height": 276
        },
        "id": "5pYQHpaIh-Hn",
        "outputId": "20da7a55-125a-4568-cb1d-ae0807272b19"
      },
      "execution_count": null,
      "outputs": [
        {
          "output_type": "stream",
          "name": "stdout",
          "text": [
            "Valeurs uniques : 2575\n",
            "\n"
          ]
        },
        {
          "output_type": "execute_result",
          "data": {
            "text/plain": [
              "38178    None\n",
              "55129    None\n",
              "8413     None\n",
              "61005    None\n",
              "39457    None\n",
              "Name: etablissement_mere, dtype: object"
            ],
            "text/html": [
              "<div>\n",
              "<style scoped>\n",
              "    .dataframe tbody tr th:only-of-type {\n",
              "        vertical-align: middle;\n",
              "    }\n",
              "\n",
              "    .dataframe tbody tr th {\n",
              "        vertical-align: top;\n",
              "    }\n",
              "\n",
              "    .dataframe thead th {\n",
              "        text-align: right;\n",
              "    }\n",
              "</style>\n",
              "<table border=\"1\" class=\"dataframe\">\n",
              "  <thead>\n",
              "    <tr style=\"text-align: right;\">\n",
              "      <th></th>\n",
              "      <th>etablissement_mere</th>\n",
              "    </tr>\n",
              "  </thead>\n",
              "  <tbody>\n",
              "    <tr>\n",
              "      <th>38178</th>\n",
              "      <td>None</td>\n",
              "    </tr>\n",
              "    <tr>\n",
              "      <th>55129</th>\n",
              "      <td>None</td>\n",
              "    </tr>\n",
              "    <tr>\n",
              "      <th>8413</th>\n",
              "      <td>None</td>\n",
              "    </tr>\n",
              "    <tr>\n",
              "      <th>61005</th>\n",
              "      <td>None</td>\n",
              "    </tr>\n",
              "    <tr>\n",
              "      <th>39457</th>\n",
              "      <td>None</td>\n",
              "    </tr>\n",
              "  </tbody>\n",
              "</table>\n",
              "</div><br><label><b>dtype:</b> object</label>"
            ]
          },
          "metadata": {},
          "execution_count": 109
        }
      ]
    },
    {
      "cell_type": "code",
      "source": [
        "print(f\"Valeurs uniques : {len(df['type_rattachement_etablissement_mere'].unique())}\\n\")\n",
        "df['type_rattachement_etablissement_mere'].sample(n=5, random_state=23)"
      ],
      "metadata": {
        "colab": {
          "base_uri": "https://localhost:8080/",
          "height": 276
        },
        "id": "X54x2M8vh-O8",
        "outputId": "d596c10e-845f-4054-cd5b-73b61cd64e15"
      },
      "execution_count": null,
      "outputs": [
        {
          "output_type": "stream",
          "name": "stdout",
          "text": [
            "Valeurs uniques : 4\n",
            "\n"
          ]
        },
        {
          "output_type": "execute_result",
          "data": {
            "text/plain": [
              "38178    None\n",
              "55129    None\n",
              "8413     None\n",
              "61005    None\n",
              "39457    None\n",
              "Name: type_rattachement_etablissement_mere, dtype: object"
            ],
            "text/html": [
              "<div>\n",
              "<style scoped>\n",
              "    .dataframe tbody tr th:only-of-type {\n",
              "        vertical-align: middle;\n",
              "    }\n",
              "\n",
              "    .dataframe tbody tr th {\n",
              "        vertical-align: top;\n",
              "    }\n",
              "\n",
              "    .dataframe thead th {\n",
              "        text-align: right;\n",
              "    }\n",
              "</style>\n",
              "<table border=\"1\" class=\"dataframe\">\n",
              "  <thead>\n",
              "    <tr style=\"text-align: right;\">\n",
              "      <th></th>\n",
              "      <th>type_rattachement_etablissement_mere</th>\n",
              "    </tr>\n",
              "  </thead>\n",
              "  <tbody>\n",
              "    <tr>\n",
              "      <th>38178</th>\n",
              "      <td>None</td>\n",
              "    </tr>\n",
              "    <tr>\n",
              "      <th>55129</th>\n",
              "      <td>None</td>\n",
              "    </tr>\n",
              "    <tr>\n",
              "      <th>8413</th>\n",
              "      <td>None</td>\n",
              "    </tr>\n",
              "    <tr>\n",
              "      <th>61005</th>\n",
              "      <td>None</td>\n",
              "    </tr>\n",
              "    <tr>\n",
              "      <th>39457</th>\n",
              "      <td>None</td>\n",
              "    </tr>\n",
              "  </tbody>\n",
              "</table>\n",
              "</div><br><label><b>dtype:</b> object</label>"
            ]
          },
          "metadata": {},
          "execution_count": 110
        }
      ]
    },
    {
      "cell_type": "code",
      "source": [
        "df['type_rattachement_etablissement_mere'].unique()"
      ],
      "metadata": {
        "colab": {
          "base_uri": "https://localhost:8080/"
        },
        "id": "xUuirf44h-WJ",
        "outputId": "ee4fff94-25c4-40a6-ede3-915d947a5cc6"
      },
      "execution_count": null,
      "outputs": [
        {
          "output_type": "execute_result",
          "data": {
            "text/plain": [
              "array([None, 'ANNEXE GEOGRAPHIQUE', 'FILIERE OU DEPARTEMENT OU SECTION',\n",
              "       'COMPOSANTE JURIDIQUE'], dtype=object)"
            ]
          },
          "metadata": {},
          "execution_count": 111
        }
      ]
    },
    {
      "cell_type": "code",
      "source": [
        "print(f\"Valeurs uniques : {len(df['code_circonscription'].unique())}\\n\")\n",
        "df['code_circonscription'].sample(n=5, random_state=23)"
      ],
      "metadata": {
        "colab": {
          "base_uri": "https://localhost:8080/",
          "height": 276
        },
        "id": "phl4ZwR8h-kv",
        "outputId": "d0786654-139e-41e9-bfa7-c1f6f7582064"
      },
      "execution_count": null,
      "outputs": [
        {
          "output_type": "stream",
          "name": "stdout",
          "text": [
            "Valeurs uniques : 1413\n",
            "\n"
          ]
        },
        {
          "output_type": "execute_result",
          "data": {
            "text/plain": [
              "38178    0331448V\n",
              "55129    0783235T\n",
              "8413     0570165V\n",
              "61005    0313170C\n",
              "39457        None\n",
              "Name: code_circonscription, dtype: object"
            ],
            "text/html": [
              "<div>\n",
              "<style scoped>\n",
              "    .dataframe tbody tr th:only-of-type {\n",
              "        vertical-align: middle;\n",
              "    }\n",
              "\n",
              "    .dataframe tbody tr th {\n",
              "        vertical-align: top;\n",
              "    }\n",
              "\n",
              "    .dataframe thead th {\n",
              "        text-align: right;\n",
              "    }\n",
              "</style>\n",
              "<table border=\"1\" class=\"dataframe\">\n",
              "  <thead>\n",
              "    <tr style=\"text-align: right;\">\n",
              "      <th></th>\n",
              "      <th>code_circonscription</th>\n",
              "    </tr>\n",
              "  </thead>\n",
              "  <tbody>\n",
              "    <tr>\n",
              "      <th>38178</th>\n",
              "      <td>0331448V</td>\n",
              "    </tr>\n",
              "    <tr>\n",
              "      <th>55129</th>\n",
              "      <td>0783235T</td>\n",
              "    </tr>\n",
              "    <tr>\n",
              "      <th>8413</th>\n",
              "      <td>0570165V</td>\n",
              "    </tr>\n",
              "    <tr>\n",
              "      <th>61005</th>\n",
              "      <td>0313170C</td>\n",
              "    </tr>\n",
              "    <tr>\n",
              "      <th>39457</th>\n",
              "      <td>None</td>\n",
              "    </tr>\n",
              "  </tbody>\n",
              "</table>\n",
              "</div><br><label><b>dtype:</b> object</label>"
            ]
          },
          "metadata": {},
          "execution_count": 112
        }
      ]
    },
    {
      "cell_type": "code",
      "source": [
        "print(f\"Valeurs uniques : {len(df['code_zone_animation_pedagogique'].unique())}\\n\")\n",
        "df['code_zone_animation_pedagogique'].sample(n=5, random_state=23)"
      ],
      "metadata": {
        "colab": {
          "base_uri": "https://localhost:8080/",
          "height": 276
        },
        "id": "9_oriGezh-o7",
        "outputId": "707053f3-a596-40ee-f765-742a2455c90a"
      },
      "execution_count": null,
      "outputs": [
        {
          "output_type": "stream",
          "name": "stdout",
          "text": [
            "Valeurs uniques : 376\n",
            "\n"
          ]
        },
        {
          "output_type": "execute_result",
          "data": {
            "text/plain": [
              "38178    033040\n",
              "55129      None\n",
              "8413       None\n",
              "61005      None\n",
              "39457    066005\n",
              "Name: code_zone_animation_pedagogique, dtype: object"
            ],
            "text/html": [
              "<div>\n",
              "<style scoped>\n",
              "    .dataframe tbody tr th:only-of-type {\n",
              "        vertical-align: middle;\n",
              "    }\n",
              "\n",
              "    .dataframe tbody tr th {\n",
              "        vertical-align: top;\n",
              "    }\n",
              "\n",
              "    .dataframe thead th {\n",
              "        text-align: right;\n",
              "    }\n",
              "</style>\n",
              "<table border=\"1\" class=\"dataframe\">\n",
              "  <thead>\n",
              "    <tr style=\"text-align: right;\">\n",
              "      <th></th>\n",
              "      <th>code_zone_animation_pedagogique</th>\n",
              "    </tr>\n",
              "  </thead>\n",
              "  <tbody>\n",
              "    <tr>\n",
              "      <th>38178</th>\n",
              "      <td>033040</td>\n",
              "    </tr>\n",
              "    <tr>\n",
              "      <th>55129</th>\n",
              "      <td>None</td>\n",
              "    </tr>\n",
              "    <tr>\n",
              "      <th>8413</th>\n",
              "      <td>None</td>\n",
              "    </tr>\n",
              "    <tr>\n",
              "      <th>61005</th>\n",
              "      <td>None</td>\n",
              "    </tr>\n",
              "    <tr>\n",
              "      <th>39457</th>\n",
              "      <td>066005</td>\n",
              "    </tr>\n",
              "  </tbody>\n",
              "</table>\n",
              "</div><br><label><b>dtype:</b> object</label>"
            ]
          },
          "metadata": {},
          "execution_count": 113
        }
      ]
    },
    {
      "cell_type": "code",
      "source": [
        "print(f\"Valeurs uniques : {len(df['libelle_zone_animation_pedagogique'].unique())}\\n\")\n",
        "df['libelle_zone_animation_pedagogique'].sample(n=5, random_state=23)"
      ],
      "metadata": {
        "colab": {
          "base_uri": "https://localhost:8080/",
          "height": 276
        },
        "id": "Z5e0USEajBz8",
        "outputId": "00401331-68c3-4680-fd42-114155b5f00c"
      },
      "execution_count": null,
      "outputs": [
        {
          "output_type": "stream",
          "name": "stdout",
          "text": [
            "Valeurs uniques : 353\n",
            "\n"
          ]
        },
        {
          "output_type": "execute_result",
          "data": {
            "text/plain": [
              "38178       ZAP 033040 LIBOURNE\n",
              "55129                      None\n",
              "8413                       None\n",
              "61005                      None\n",
              "39457    PERPIGNAN SUD LITTORAL\n",
              "Name: libelle_zone_animation_pedagogique, dtype: object"
            ],
            "text/html": [
              "<div>\n",
              "<style scoped>\n",
              "    .dataframe tbody tr th:only-of-type {\n",
              "        vertical-align: middle;\n",
              "    }\n",
              "\n",
              "    .dataframe tbody tr th {\n",
              "        vertical-align: top;\n",
              "    }\n",
              "\n",
              "    .dataframe thead th {\n",
              "        text-align: right;\n",
              "    }\n",
              "</style>\n",
              "<table border=\"1\" class=\"dataframe\">\n",
              "  <thead>\n",
              "    <tr style=\"text-align: right;\">\n",
              "      <th></th>\n",
              "      <th>libelle_zone_animation_pedagogique</th>\n",
              "    </tr>\n",
              "  </thead>\n",
              "  <tbody>\n",
              "    <tr>\n",
              "      <th>38178</th>\n",
              "      <td>ZAP 033040 LIBOURNE</td>\n",
              "    </tr>\n",
              "    <tr>\n",
              "      <th>55129</th>\n",
              "      <td>None</td>\n",
              "    </tr>\n",
              "    <tr>\n",
              "      <th>8413</th>\n",
              "      <td>None</td>\n",
              "    </tr>\n",
              "    <tr>\n",
              "      <th>61005</th>\n",
              "      <td>None</td>\n",
              "    </tr>\n",
              "    <tr>\n",
              "      <th>39457</th>\n",
              "      <td>PERPIGNAN SUD LITTORAL</td>\n",
              "    </tr>\n",
              "  </tbody>\n",
              "</table>\n",
              "</div><br><label><b>dtype:</b> object</label>"
            ]
          },
          "metadata": {},
          "execution_count": 114
        }
      ]
    },
    {
      "cell_type": "code",
      "source": [
        "print(f\"Valeurs uniques : {len(df['code_bassin_formation'].unique())}\\n\")\n",
        "df['code_bassin_formation'].sample(n=5, random_state=23)"
      ],
      "metadata": {
        "colab": {
          "base_uri": "https://localhost:8080/",
          "height": 276
        },
        "id": "3w9Od5I9jB8C",
        "outputId": "5e232349-ab15-4419-a553-c6053c6bd351"
      },
      "execution_count": null,
      "outputs": [
        {
          "output_type": "stream",
          "name": "stdout",
          "text": [
            "Valeurs uniques : 365\n",
            "\n"
          ]
        },
        {
          "output_type": "execute_result",
          "data": {
            "text/plain": [
              "38178    04204\n",
              "55129    25003\n",
              "8413     12759\n",
              "61005    16107\n",
              "39457    11122\n",
              "Name: code_bassin_formation, dtype: object"
            ],
            "text/html": [
              "<div>\n",
              "<style scoped>\n",
              "    .dataframe tbody tr th:only-of-type {\n",
              "        vertical-align: middle;\n",
              "    }\n",
              "\n",
              "    .dataframe tbody tr th {\n",
              "        vertical-align: top;\n",
              "    }\n",
              "\n",
              "    .dataframe thead th {\n",
              "        text-align: right;\n",
              "    }\n",
              "</style>\n",
              "<table border=\"1\" class=\"dataframe\">\n",
              "  <thead>\n",
              "    <tr style=\"text-align: right;\">\n",
              "      <th></th>\n",
              "      <th>code_bassin_formation</th>\n",
              "    </tr>\n",
              "  </thead>\n",
              "  <tbody>\n",
              "    <tr>\n",
              "      <th>38178</th>\n",
              "      <td>04204</td>\n",
              "    </tr>\n",
              "    <tr>\n",
              "      <th>55129</th>\n",
              "      <td>25003</td>\n",
              "    </tr>\n",
              "    <tr>\n",
              "      <th>8413</th>\n",
              "      <td>12759</td>\n",
              "    </tr>\n",
              "    <tr>\n",
              "      <th>61005</th>\n",
              "      <td>16107</td>\n",
              "    </tr>\n",
              "    <tr>\n",
              "      <th>39457</th>\n",
              "      <td>11122</td>\n",
              "    </tr>\n",
              "  </tbody>\n",
              "</table>\n",
              "</div><br><label><b>dtype:</b> object</label>"
            ]
          },
          "metadata": {},
          "execution_count": 115
        }
      ]
    },
    {
      "cell_type": "code",
      "source": [
        "print(f\"Valeurs uniques : {len(df['libelle_bassin_formation'].unique())}\\n\")\n",
        "df['libelle_bassin_formation'].sample(n=5, random_state=23)"
      ],
      "metadata": {
        "colab": {
          "base_uri": "https://localhost:8080/",
          "height": 276
        },
        "id": "_5rOOYpLf8Sf",
        "outputId": "fdc13556-53e1-48d6-e560-55204dec9844"
      },
      "execution_count": null,
      "outputs": [
        {
          "output_type": "stream",
          "name": "stdout",
          "text": [
            "Valeurs uniques : 364\n",
            "\n"
          ]
        },
        {
          "output_type": "execute_result",
          "data": {
            "text/plain": [
              "38178                    LIBOURNE\n",
              "55129    078C-POISSY-SARTROUVILLE\n",
              "8413               BEF METZ OUEST\n",
              "61005                       MURET\n",
              "39457            PERPIGNAN CENTRE\n",
              "Name: libelle_bassin_formation, dtype: object"
            ],
            "text/html": [
              "<div>\n",
              "<style scoped>\n",
              "    .dataframe tbody tr th:only-of-type {\n",
              "        vertical-align: middle;\n",
              "    }\n",
              "\n",
              "    .dataframe tbody tr th {\n",
              "        vertical-align: top;\n",
              "    }\n",
              "\n",
              "    .dataframe thead th {\n",
              "        text-align: right;\n",
              "    }\n",
              "</style>\n",
              "<table border=\"1\" class=\"dataframe\">\n",
              "  <thead>\n",
              "    <tr style=\"text-align: right;\">\n",
              "      <th></th>\n",
              "      <th>libelle_bassin_formation</th>\n",
              "    </tr>\n",
              "  </thead>\n",
              "  <tbody>\n",
              "    <tr>\n",
              "      <th>38178</th>\n",
              "      <td>LIBOURNE</td>\n",
              "    </tr>\n",
              "    <tr>\n",
              "      <th>55129</th>\n",
              "      <td>078C-POISSY-SARTROUVILLE</td>\n",
              "    </tr>\n",
              "    <tr>\n",
              "      <th>8413</th>\n",
              "      <td>BEF METZ OUEST</td>\n",
              "    </tr>\n",
              "    <tr>\n",
              "      <th>61005</th>\n",
              "      <td>MURET</td>\n",
              "    </tr>\n",
              "    <tr>\n",
              "      <th>39457</th>\n",
              "      <td>PERPIGNAN CENTRE</td>\n",
              "    </tr>\n",
              "  </tbody>\n",
              "</table>\n",
              "</div><br><label><b>dtype:</b> object</label>"
            ]
          },
          "metadata": {},
          "execution_count": 116
        }
      ]
    },
    {
      "cell_type": "markdown",
      "source": [
        "### Anomalies"
      ],
      "metadata": {
        "id": "3zRljnVGbQQf"
      }
    },
    {
      "cell_type": "markdown",
      "source": [
        "#### <ins>id etablissement</ins> et <ins>multi_uai</ins>"
      ],
      "metadata": {
        "id": "XTvr94LRmKof"
      }
    },
    {
      "cell_type": "code",
      "source": [
        "# Vérifier doublons sur id etablissement\n",
        "print(f\"Taille du dataframe : {len(df)}\")\n",
        "print(f\"Valeurs uniques pour identifiant_de_l_etablissement : {len(df['identifiant_de_l_etablissement'].unique())}\")"
      ],
      "metadata": {
        "colab": {
          "base_uri": "https://localhost:8080/"
        },
        "id": "V232Rk84kme0",
        "outputId": "d2f4899d-9cef-4c25-e1be-d82decfbc026"
      },
      "execution_count": null,
      "outputs": [
        {
          "output_type": "stream",
          "name": "stdout",
          "text": [
            "Taille du dataframe : 69649\n",
            "Valeurs uniques pour identifiant_de_l_etablissement : 69567\n"
          ]
        }
      ]
    },
    {
      "cell_type": "code",
      "source": [
        "# Comptage du nombre de lignes par id etablissement\n",
        "df_ets = df.groupby('identifiant_de_l_etablissement').size().reset_index(name='Count')\n",
        "\n",
        "# Puis, sélection des id etablissement qui ont au moins 2 lignes\n",
        "df_ets_sup2 = df_ets[df_ets['Count'] > 1]\n",
        "\n",
        "# On ajoute cette information dans le dataframe initial, avec un indicateur permettant de savoir\n",
        "# quels établissements ont plusieurs lignes\n",
        "merged_df = pd.merge(df, df_ets_sup2, on='identifiant_de_l_etablissement',\n",
        "                     how='outer', indicator=True)\n",
        "merged_df.head()"
      ],
      "metadata": {
        "colab": {
          "base_uri": "https://localhost:8080/",
          "height": 394
        },
        "id": "CAzAKlpjmOel",
        "outputId": "c03e5001-d4dc-4c29-bade-153cdf84bd40"
      },
      "execution_count": null,
      "outputs": [
        {
          "output_type": "execute_result",
          "data": {
            "text/plain": [
              "  identifiant_de_l_etablissement                     nom_etablissement  \\\n",
              "0                       0010001W  Lycée professionnel Alexandre Bérard   \n",
              "1                       0010002X                 Collège Saint-Exupéry   \n",
              "2                       0010005A                Collège Roger Poulnard   \n",
              "3                       0010006B        Lycée polyvalent Saint-Exupéry   \n",
              "4                       0010008D                 Collège Saint-Exupéry   \n",
              "\n",
              "  type_etablissement statut_public_prive                 adresse_1 adresse_2  \\\n",
              "0              Lycée              Public  223 rue Alexandre Bérard    BP 519   \n",
              "1            Collège              Public            6 rue Aguetant      None   \n",
              "2            Collège              Public      131 rue de la Mairie      None   \n",
              "3              Lycée              Public   15 avenue Saint-Exupéry    BP 616   \n",
              "4            Collège              Public   15 avenue Saint-Exupéry      None   \n",
              "\n",
              "  adresse_3 code_postal code_commune        nom_commune  ...      pial  \\\n",
              "0      None       01505        01004  Ambérieu-en-Bugey  ...  0010002X   \n",
              "1      None       01500        01004  Ambérieu-en-Bugey  ...  0010002X   \n",
              "2      None       01380        01025      Bâgé-la-Ville  ...  0010005A   \n",
              "3      None       01206        01033         Valserhône  ...  0010008D   \n",
              "4      None       01206        01033         Valserhône  ...  0010008D   \n",
              "\n",
              "  etablissement_mere type_rattachement_etablissement_mere  \\\n",
              "0               None                                 None   \n",
              "1               None                                 None   \n",
              "2               None                                 None   \n",
              "3               None                                 None   \n",
              "4               None                                 None   \n",
              "\n",
              "   code_circonscription  code_zone_animation_pedagogique  \\\n",
              "0                  None                             None   \n",
              "1              0010818J                             None   \n",
              "2              0010818J                             None   \n",
              "3                  None                             None   \n",
              "4              0010818J                             None   \n",
              "\n",
              "  libelle_zone_animation_pedagogique code_bassin_formation  \\\n",
              "0                               None                 10013   \n",
              "1                               None                 10013   \n",
              "2                               None                 10011   \n",
              "3                               None                 10012   \n",
              "4                               None                 10012   \n",
              "\n",
              "  libelle_bassin_formation Count     _merge  \n",
              "0                  AIN SUD   NaN  left_only  \n",
              "1                  AIN SUD   NaN  left_only  \n",
              "2                AIN OUEST   NaN  left_only  \n",
              "3                  AIN EST   NaN  left_only  \n",
              "4                  AIN EST   NaN  left_only  \n",
              "\n",
              "[5 rows x 74 columns]"
            ],
            "text/html": [
              "\n",
              "  <div id=\"df-e92aa63a-38b9-4eff-9d70-acd21b3a62e4\" class=\"colab-df-container\">\n",
              "    <div>\n",
              "<style scoped>\n",
              "    .dataframe tbody tr th:only-of-type {\n",
              "        vertical-align: middle;\n",
              "    }\n",
              "\n",
              "    .dataframe tbody tr th {\n",
              "        vertical-align: top;\n",
              "    }\n",
              "\n",
              "    .dataframe thead th {\n",
              "        text-align: right;\n",
              "    }\n",
              "</style>\n",
              "<table border=\"1\" class=\"dataframe\">\n",
              "  <thead>\n",
              "    <tr style=\"text-align: right;\">\n",
              "      <th></th>\n",
              "      <th>identifiant_de_l_etablissement</th>\n",
              "      <th>nom_etablissement</th>\n",
              "      <th>type_etablissement</th>\n",
              "      <th>statut_public_prive</th>\n",
              "      <th>adresse_1</th>\n",
              "      <th>adresse_2</th>\n",
              "      <th>adresse_3</th>\n",
              "      <th>code_postal</th>\n",
              "      <th>code_commune</th>\n",
              "      <th>nom_commune</th>\n",
              "      <th>...</th>\n",
              "      <th>pial</th>\n",
              "      <th>etablissement_mere</th>\n",
              "      <th>type_rattachement_etablissement_mere</th>\n",
              "      <th>code_circonscription</th>\n",
              "      <th>code_zone_animation_pedagogique</th>\n",
              "      <th>libelle_zone_animation_pedagogique</th>\n",
              "      <th>code_bassin_formation</th>\n",
              "      <th>libelle_bassin_formation</th>\n",
              "      <th>Count</th>\n",
              "      <th>_merge</th>\n",
              "    </tr>\n",
              "  </thead>\n",
              "  <tbody>\n",
              "    <tr>\n",
              "      <th>0</th>\n",
              "      <td>0010001W</td>\n",
              "      <td>Lycée professionnel Alexandre Bérard</td>\n",
              "      <td>Lycée</td>\n",
              "      <td>Public</td>\n",
              "      <td>223 rue Alexandre Bérard</td>\n",
              "      <td>BP 519</td>\n",
              "      <td>None</td>\n",
              "      <td>01505</td>\n",
              "      <td>01004</td>\n",
              "      <td>Ambérieu-en-Bugey</td>\n",
              "      <td>...</td>\n",
              "      <td>0010002X</td>\n",
              "      <td>None</td>\n",
              "      <td>None</td>\n",
              "      <td>None</td>\n",
              "      <td>None</td>\n",
              "      <td>None</td>\n",
              "      <td>10013</td>\n",
              "      <td>AIN SUD</td>\n",
              "      <td>NaN</td>\n",
              "      <td>left_only</td>\n",
              "    </tr>\n",
              "    <tr>\n",
              "      <th>1</th>\n",
              "      <td>0010002X</td>\n",
              "      <td>Collège Saint-Exupéry</td>\n",
              "      <td>Collège</td>\n",
              "      <td>Public</td>\n",
              "      <td>6 rue Aguetant</td>\n",
              "      <td>None</td>\n",
              "      <td>None</td>\n",
              "      <td>01500</td>\n",
              "      <td>01004</td>\n",
              "      <td>Ambérieu-en-Bugey</td>\n",
              "      <td>...</td>\n",
              "      <td>0010002X</td>\n",
              "      <td>None</td>\n",
              "      <td>None</td>\n",
              "      <td>0010818J</td>\n",
              "      <td>None</td>\n",
              "      <td>None</td>\n",
              "      <td>10013</td>\n",
              "      <td>AIN SUD</td>\n",
              "      <td>NaN</td>\n",
              "      <td>left_only</td>\n",
              "    </tr>\n",
              "    <tr>\n",
              "      <th>2</th>\n",
              "      <td>0010005A</td>\n",
              "      <td>Collège Roger Poulnard</td>\n",
              "      <td>Collège</td>\n",
              "      <td>Public</td>\n",
              "      <td>131 rue de la Mairie</td>\n",
              "      <td>None</td>\n",
              "      <td>None</td>\n",
              "      <td>01380</td>\n",
              "      <td>01025</td>\n",
              "      <td>Bâgé-la-Ville</td>\n",
              "      <td>...</td>\n",
              "      <td>0010005A</td>\n",
              "      <td>None</td>\n",
              "      <td>None</td>\n",
              "      <td>0010818J</td>\n",
              "      <td>None</td>\n",
              "      <td>None</td>\n",
              "      <td>10011</td>\n",
              "      <td>AIN OUEST</td>\n",
              "      <td>NaN</td>\n",
              "      <td>left_only</td>\n",
              "    </tr>\n",
              "    <tr>\n",
              "      <th>3</th>\n",
              "      <td>0010006B</td>\n",
              "      <td>Lycée polyvalent Saint-Exupéry</td>\n",
              "      <td>Lycée</td>\n",
              "      <td>Public</td>\n",
              "      <td>15 avenue Saint-Exupéry</td>\n",
              "      <td>BP 616</td>\n",
              "      <td>None</td>\n",
              "      <td>01206</td>\n",
              "      <td>01033</td>\n",
              "      <td>Valserhône</td>\n",
              "      <td>...</td>\n",
              "      <td>0010008D</td>\n",
              "      <td>None</td>\n",
              "      <td>None</td>\n",
              "      <td>None</td>\n",
              "      <td>None</td>\n",
              "      <td>None</td>\n",
              "      <td>10012</td>\n",
              "      <td>AIN EST</td>\n",
              "      <td>NaN</td>\n",
              "      <td>left_only</td>\n",
              "    </tr>\n",
              "    <tr>\n",
              "      <th>4</th>\n",
              "      <td>0010008D</td>\n",
              "      <td>Collège Saint-Exupéry</td>\n",
              "      <td>Collège</td>\n",
              "      <td>Public</td>\n",
              "      <td>15 avenue Saint-Exupéry</td>\n",
              "      <td>None</td>\n",
              "      <td>None</td>\n",
              "      <td>01206</td>\n",
              "      <td>01033</td>\n",
              "      <td>Valserhône</td>\n",
              "      <td>...</td>\n",
              "      <td>0010008D</td>\n",
              "      <td>None</td>\n",
              "      <td>None</td>\n",
              "      <td>0010818J</td>\n",
              "      <td>None</td>\n",
              "      <td>None</td>\n",
              "      <td>10012</td>\n",
              "      <td>AIN EST</td>\n",
              "      <td>NaN</td>\n",
              "      <td>left_only</td>\n",
              "    </tr>\n",
              "  </tbody>\n",
              "</table>\n",
              "<p>5 rows × 74 columns</p>\n",
              "</div>\n",
              "    <div class=\"colab-df-buttons\">\n",
              "\n",
              "  <div class=\"colab-df-container\">\n",
              "    <button class=\"colab-df-convert\" onclick=\"convertToInteractive('df-e92aa63a-38b9-4eff-9d70-acd21b3a62e4')\"\n",
              "            title=\"Convert this dataframe to an interactive table.\"\n",
              "            style=\"display:none;\">\n",
              "\n",
              "  <svg xmlns=\"http://www.w3.org/2000/svg\" height=\"24px\" viewBox=\"0 -960 960 960\">\n",
              "    <path d=\"M120-120v-720h720v720H120Zm60-500h600v-160H180v160Zm220 220h160v-160H400v160Zm0 220h160v-160H400v160ZM180-400h160v-160H180v160Zm440 0h160v-160H620v160ZM180-180h160v-160H180v160Zm440 0h160v-160H620v160Z\"/>\n",
              "  </svg>\n",
              "    </button>\n",
              "\n",
              "  <style>\n",
              "    .colab-df-container {\n",
              "      display:flex;\n",
              "      gap: 12px;\n",
              "    }\n",
              "\n",
              "    .colab-df-convert {\n",
              "      background-color: #E8F0FE;\n",
              "      border: none;\n",
              "      border-radius: 50%;\n",
              "      cursor: pointer;\n",
              "      display: none;\n",
              "      fill: #1967D2;\n",
              "      height: 32px;\n",
              "      padding: 0 0 0 0;\n",
              "      width: 32px;\n",
              "    }\n",
              "\n",
              "    .colab-df-convert:hover {\n",
              "      background-color: #E2EBFA;\n",
              "      box-shadow: 0px 1px 2px rgba(60, 64, 67, 0.3), 0px 1px 3px 1px rgba(60, 64, 67, 0.15);\n",
              "      fill: #174EA6;\n",
              "    }\n",
              "\n",
              "    .colab-df-buttons div {\n",
              "      margin-bottom: 4px;\n",
              "    }\n",
              "\n",
              "    [theme=dark] .colab-df-convert {\n",
              "      background-color: #3B4455;\n",
              "      fill: #D2E3FC;\n",
              "    }\n",
              "\n",
              "    [theme=dark] .colab-df-convert:hover {\n",
              "      background-color: #434B5C;\n",
              "      box-shadow: 0px 1px 3px 1px rgba(0, 0, 0, 0.15);\n",
              "      filter: drop-shadow(0px 1px 2px rgba(0, 0, 0, 0.3));\n",
              "      fill: #FFFFFF;\n",
              "    }\n",
              "  </style>\n",
              "\n",
              "    <script>\n",
              "      const buttonEl =\n",
              "        document.querySelector('#df-e92aa63a-38b9-4eff-9d70-acd21b3a62e4 button.colab-df-convert');\n",
              "      buttonEl.style.display =\n",
              "        google.colab.kernel.accessAllowed ? 'block' : 'none';\n",
              "\n",
              "      async function convertToInteractive(key) {\n",
              "        const element = document.querySelector('#df-e92aa63a-38b9-4eff-9d70-acd21b3a62e4');\n",
              "        const dataTable =\n",
              "          await google.colab.kernel.invokeFunction('convertToInteractive',\n",
              "                                                    [key], {});\n",
              "        if (!dataTable) return;\n",
              "\n",
              "        const docLinkHtml = 'Like what you see? Visit the ' +\n",
              "          '<a target=\"_blank\" href=https://colab.research.google.com/notebooks/data_table.ipynb>data table notebook</a>'\n",
              "          + ' to learn more about interactive tables.';\n",
              "        element.innerHTML = '';\n",
              "        dataTable['output_type'] = 'display_data';\n",
              "        await google.colab.output.renderOutput(dataTable, element);\n",
              "        const docLink = document.createElement('div');\n",
              "        docLink.innerHTML = docLinkHtml;\n",
              "        element.appendChild(docLink);\n",
              "      }\n",
              "    </script>\n",
              "  </div>\n",
              "\n",
              "\n",
              "<div id=\"df-d077b4e1-03a2-4cec-90aa-e291f5db2d1d\">\n",
              "  <button class=\"colab-df-quickchart\" onclick=\"quickchart('df-d077b4e1-03a2-4cec-90aa-e291f5db2d1d')\"\n",
              "            title=\"Suggest charts\"\n",
              "            style=\"display:none;\">\n",
              "\n",
              "<svg xmlns=\"http://www.w3.org/2000/svg\" height=\"24px\"viewBox=\"0 0 24 24\"\n",
              "     width=\"24px\">\n",
              "    <g>\n",
              "        <path d=\"M19 3H5c-1.1 0-2 .9-2 2v14c0 1.1.9 2 2 2h14c1.1 0 2-.9 2-2V5c0-1.1-.9-2-2-2zM9 17H7v-7h2v7zm4 0h-2V7h2v10zm4 0h-2v-4h2v4z\"/>\n",
              "    </g>\n",
              "</svg>\n",
              "  </button>\n",
              "\n",
              "<style>\n",
              "  .colab-df-quickchart {\n",
              "      --bg-color: #E8F0FE;\n",
              "      --fill-color: #1967D2;\n",
              "      --hover-bg-color: #E2EBFA;\n",
              "      --hover-fill-color: #174EA6;\n",
              "      --disabled-fill-color: #AAA;\n",
              "      --disabled-bg-color: #DDD;\n",
              "  }\n",
              "\n",
              "  [theme=dark] .colab-df-quickchart {\n",
              "      --bg-color: #3B4455;\n",
              "      --fill-color: #D2E3FC;\n",
              "      --hover-bg-color: #434B5C;\n",
              "      --hover-fill-color: #FFFFFF;\n",
              "      --disabled-bg-color: #3B4455;\n",
              "      --disabled-fill-color: #666;\n",
              "  }\n",
              "\n",
              "  .colab-df-quickchart {\n",
              "    background-color: var(--bg-color);\n",
              "    border: none;\n",
              "    border-radius: 50%;\n",
              "    cursor: pointer;\n",
              "    display: none;\n",
              "    fill: var(--fill-color);\n",
              "    height: 32px;\n",
              "    padding: 0;\n",
              "    width: 32px;\n",
              "  }\n",
              "\n",
              "  .colab-df-quickchart:hover {\n",
              "    background-color: var(--hover-bg-color);\n",
              "    box-shadow: 0 1px 2px rgba(60, 64, 67, 0.3), 0 1px 3px 1px rgba(60, 64, 67, 0.15);\n",
              "    fill: var(--button-hover-fill-color);\n",
              "  }\n",
              "\n",
              "  .colab-df-quickchart-complete:disabled,\n",
              "  .colab-df-quickchart-complete:disabled:hover {\n",
              "    background-color: var(--disabled-bg-color);\n",
              "    fill: var(--disabled-fill-color);\n",
              "    box-shadow: none;\n",
              "  }\n",
              "\n",
              "  .colab-df-spinner {\n",
              "    border: 2px solid var(--fill-color);\n",
              "    border-color: transparent;\n",
              "    border-bottom-color: var(--fill-color);\n",
              "    animation:\n",
              "      spin 1s steps(1) infinite;\n",
              "  }\n",
              "\n",
              "  @keyframes spin {\n",
              "    0% {\n",
              "      border-color: transparent;\n",
              "      border-bottom-color: var(--fill-color);\n",
              "      border-left-color: var(--fill-color);\n",
              "    }\n",
              "    20% {\n",
              "      border-color: transparent;\n",
              "      border-left-color: var(--fill-color);\n",
              "      border-top-color: var(--fill-color);\n",
              "    }\n",
              "    30% {\n",
              "      border-color: transparent;\n",
              "      border-left-color: var(--fill-color);\n",
              "      border-top-color: var(--fill-color);\n",
              "      border-right-color: var(--fill-color);\n",
              "    }\n",
              "    40% {\n",
              "      border-color: transparent;\n",
              "      border-right-color: var(--fill-color);\n",
              "      border-top-color: var(--fill-color);\n",
              "    }\n",
              "    60% {\n",
              "      border-color: transparent;\n",
              "      border-right-color: var(--fill-color);\n",
              "    }\n",
              "    80% {\n",
              "      border-color: transparent;\n",
              "      border-right-color: var(--fill-color);\n",
              "      border-bottom-color: var(--fill-color);\n",
              "    }\n",
              "    90% {\n",
              "      border-color: transparent;\n",
              "      border-bottom-color: var(--fill-color);\n",
              "    }\n",
              "  }\n",
              "</style>\n",
              "\n",
              "  <script>\n",
              "    async function quickchart(key) {\n",
              "      const quickchartButtonEl =\n",
              "        document.querySelector('#' + key + ' button');\n",
              "      quickchartButtonEl.disabled = true;  // To prevent multiple clicks.\n",
              "      quickchartButtonEl.classList.add('colab-df-spinner');\n",
              "      try {\n",
              "        const charts = await google.colab.kernel.invokeFunction(\n",
              "            'suggestCharts', [key], {});\n",
              "      } catch (error) {\n",
              "        console.error('Error during call to suggestCharts:', error);\n",
              "      }\n",
              "      quickchartButtonEl.classList.remove('colab-df-spinner');\n",
              "      quickchartButtonEl.classList.add('colab-df-quickchart-complete');\n",
              "    }\n",
              "    (() => {\n",
              "      let quickchartButtonEl =\n",
              "        document.querySelector('#df-d077b4e1-03a2-4cec-90aa-e291f5db2d1d button');\n",
              "      quickchartButtonEl.style.display =\n",
              "        google.colab.kernel.accessAllowed ? 'block' : 'none';\n",
              "    })();\n",
              "  </script>\n",
              "</div>\n",
              "\n",
              "    </div>\n",
              "  </div>\n"
            ],
            "application/vnd.google.colaboratory.intrinsic+json": {
              "type": "dataframe",
              "variable_name": "merged_df"
            }
          },
          "metadata": {},
          "execution_count": 118
        }
      ]
    },
    {
      "cell_type": "code",
      "source": [
        "merged_df['_merge'].unique()"
      ],
      "metadata": {
        "colab": {
          "base_uri": "https://localhost:8080/"
        },
        "id": "bXf020hKrlB0",
        "outputId": "c3c2ebe9-1333-40fb-93f8-a1733c67dceb"
      },
      "execution_count": null,
      "outputs": [
        {
          "output_type": "execute_result",
          "data": {
            "text/plain": [
              "['left_only', 'both']\n",
              "Categories (3, object): ['left_only', 'right_only', 'both']"
            ]
          },
          "metadata": {},
          "execution_count": 119
        }
      ]
    },
    {
      "cell_type": "code",
      "source": [
        "# Pour les établissements avec plusieurs lignes (identifiés par _merge = 'both'), vérifier que multi_uai = 1 uniquement\n",
        "merged_df[merged_df['_merge'] == 'both']['multi_uai'].unique()"
      ],
      "metadata": {
        "colab": {
          "base_uri": "https://localhost:8080/"
        },
        "id": "4J0Xwr-ErrW4",
        "outputId": "c4f01d24-5ec8-42eb-fee7-f30a33bce40e"
      },
      "execution_count": null,
      "outputs": [
        {
          "output_type": "execute_result",
          "data": {
            "text/plain": [
              "array([1])"
            ]
          },
          "metadata": {},
          "execution_count": 120
        }
      ]
    },
    {
      "cell_type": "code",
      "source": [
        "# De même, je vérifie que pour tous les autres cette valeur est 0\n",
        "merged_df[merged_df['_merge'] == 'left_only']['multi_uai'].unique()"
      ],
      "metadata": {
        "colab": {
          "base_uri": "https://localhost:8080/"
        },
        "id": "S1rP9RebsIDA",
        "outputId": "261883ba-9d29-4fe1-d061-cde8d2b50728"
      },
      "execution_count": null,
      "outputs": [
        {
          "output_type": "execute_result",
          "data": {
            "text/plain": [
              "array([0])"
            ]
          },
          "metadata": {},
          "execution_count": 121
        }
      ]
    },
    {
      "cell_type": "markdown",
      "source": [
        "#### <ins>precision_localisation</ins>\n",
        "\n",
        "D'après la doc, les valeurs possibles sont:\n",
        "* BÂTIMENT: l'adresse ponctuelle a été vérifiée par un collecteur\n",
        "* l'adresse ponctuelle correspondant exactement à celle de l'établissement a été trouvée :\n",
        "  * PLAQUE_ADRESSE_PROJETEE : projection de la plaque adresse\n",
        "  * CENTRE_PARCELLE_PROJETE : projection du centroïde de parcelle\n",
        "* l'adresse précise n'a pas été trouvée mais une adresse ponctuelle voisine a été trouvée:\n",
        "  * DEFAUT_D_INDICE : [numéro et indice utilisé] : adresse projetée de même numéro, mais d'indice différent\n",
        "  * DEFAUT_DE_NUMERO : [numéro cherché -> numéro utilisé] : adresse projetée la plus proche. Si l'adresse recherchée n'a pas de numéro, il est placé sur le plus petit numéro trouvé (ex. DEFAUT_DE_NUMERO [->2])\n",
        "* aucune adresse ponctuelle portant le même nom de voie n'a été trouvée, mais un tronçon portant ce nom a été trouvé :\n",
        "  * INTERPOLATION : adresse interpolée entre les bornes initiales et finales d'un tronçon (interpolation linéaire)\n",
        "  * DEFAUT_DE_TRONCON : aucun tronçon de la route appariée n'a de bornes permettant d'encadrer le numéro recherché. L'adresse est positionnée sur le tronçon dont les bornes sont le plus proche du numéro recherché\n",
        "* ZONE_D_ADRESSAGE : ni adresse ni tronçon n’ont été trouvés, mais un lieu-dit (ponctuel) ou une zone nommée (ponctuelle) de même nom a été trouvée\n",
        "* COMMUNE : la géolocalisation se fait à la commune\n",
        "* ERR : pas de géolocalisation"
      ],
      "metadata": {
        "id": "orJf89kJsdhj"
      }
    },
    {
      "cell_type": "code",
      "source": [
        "df['precision_localisation'].unique()"
      ],
      "metadata": {
        "colab": {
          "base_uri": "https://localhost:8080/"
        },
        "id": "K9oNB5iRwXcq",
        "outputId": "8b2d3519-4d16-4afa-a600-0228fe713f72"
      },
      "execution_count": null,
      "outputs": [
        {
          "output_type": "execute_result",
          "data": {
            "text/plain": [
              "array(['PLAQUE_ADRESSE', 'NUMERO (ADRESSE)', 'Numéro de rue', 'Rue',\n",
              "       'Ville', None, 'Lieu-dit', 'COMMUNE', 'BATIMENT',\n",
              "       'ENTREE PRINCIPALE', 'NE SAIT PAS', 'CENTRE_PARCELLE_PROJETE',\n",
              "       'ZONE_ADRESSAGE', 'Parfaite', 'MANUEL', 'Moyenne', 'Correcte',\n",
              "       'DEFAUT_DE_NUMERO', 'INTERPOLATION', 'SIMILAIRE', 'Mauvaise'],\n",
              "      dtype=object)"
            ]
          },
          "metadata": {},
          "execution_count": 122
        }
      ]
    },
    {
      "cell_type": "code",
      "source": [
        "# Comptage du nombre de lignes par modalité\n",
        "df.groupby('precision_localisation').size().reset_index(name='Count')"
      ],
      "metadata": {
        "colab": {
          "base_uri": "https://localhost:8080/",
          "height": 677
        },
        "id": "FvhjcNiiwmwh",
        "outputId": "17f593d8-24a1-474e-c2f5-dd9839597a84"
      },
      "execution_count": null,
      "outputs": [
        {
          "output_type": "execute_result",
          "data": {
            "text/plain": [
              "     precision_localisation  Count\n",
              "0                  BATIMENT    520\n",
              "1   CENTRE_PARCELLE_PROJETE      3\n",
              "2                   COMMUNE     10\n",
              "3                  Correcte    133\n",
              "4          DEFAUT_DE_NUMERO      2\n",
              "5         ENTREE PRINCIPALE    240\n",
              "6             INTERPOLATION      1\n",
              "7                  Lieu-dit    273\n",
              "8                    MANUEL     51\n",
              "9                  Mauvaise      1\n",
              "10                  Moyenne     18\n",
              "11              NE SAIT PAS     29\n",
              "12         NUMERO (ADRESSE)     57\n",
              "13            Numéro de rue  50535\n",
              "14           PLAQUE_ADRESSE   3617\n",
              "15                 Parfaite    491\n",
              "16                      Rue  10259\n",
              "17                SIMILAIRE      1\n",
              "18                    Ville   2497\n",
              "19           ZONE_ADRESSAGE      9"
            ],
            "text/html": [
              "\n",
              "  <div id=\"df-ad24b75a-1355-4b3e-8c04-02906f20f6ff\" class=\"colab-df-container\">\n",
              "    <div>\n",
              "<style scoped>\n",
              "    .dataframe tbody tr th:only-of-type {\n",
              "        vertical-align: middle;\n",
              "    }\n",
              "\n",
              "    .dataframe tbody tr th {\n",
              "        vertical-align: top;\n",
              "    }\n",
              "\n",
              "    .dataframe thead th {\n",
              "        text-align: right;\n",
              "    }\n",
              "</style>\n",
              "<table border=\"1\" class=\"dataframe\">\n",
              "  <thead>\n",
              "    <tr style=\"text-align: right;\">\n",
              "      <th></th>\n",
              "      <th>precision_localisation</th>\n",
              "      <th>Count</th>\n",
              "    </tr>\n",
              "  </thead>\n",
              "  <tbody>\n",
              "    <tr>\n",
              "      <th>0</th>\n",
              "      <td>BATIMENT</td>\n",
              "      <td>520</td>\n",
              "    </tr>\n",
              "    <tr>\n",
              "      <th>1</th>\n",
              "      <td>CENTRE_PARCELLE_PROJETE</td>\n",
              "      <td>3</td>\n",
              "    </tr>\n",
              "    <tr>\n",
              "      <th>2</th>\n",
              "      <td>COMMUNE</td>\n",
              "      <td>10</td>\n",
              "    </tr>\n",
              "    <tr>\n",
              "      <th>3</th>\n",
              "      <td>Correcte</td>\n",
              "      <td>133</td>\n",
              "    </tr>\n",
              "    <tr>\n",
              "      <th>4</th>\n",
              "      <td>DEFAUT_DE_NUMERO</td>\n",
              "      <td>2</td>\n",
              "    </tr>\n",
              "    <tr>\n",
              "      <th>5</th>\n",
              "      <td>ENTREE PRINCIPALE</td>\n",
              "      <td>240</td>\n",
              "    </tr>\n",
              "    <tr>\n",
              "      <th>6</th>\n",
              "      <td>INTERPOLATION</td>\n",
              "      <td>1</td>\n",
              "    </tr>\n",
              "    <tr>\n",
              "      <th>7</th>\n",
              "      <td>Lieu-dit</td>\n",
              "      <td>273</td>\n",
              "    </tr>\n",
              "    <tr>\n",
              "      <th>8</th>\n",
              "      <td>MANUEL</td>\n",
              "      <td>51</td>\n",
              "    </tr>\n",
              "    <tr>\n",
              "      <th>9</th>\n",
              "      <td>Mauvaise</td>\n",
              "      <td>1</td>\n",
              "    </tr>\n",
              "    <tr>\n",
              "      <th>10</th>\n",
              "      <td>Moyenne</td>\n",
              "      <td>18</td>\n",
              "    </tr>\n",
              "    <tr>\n",
              "      <th>11</th>\n",
              "      <td>NE SAIT PAS</td>\n",
              "      <td>29</td>\n",
              "    </tr>\n",
              "    <tr>\n",
              "      <th>12</th>\n",
              "      <td>NUMERO (ADRESSE)</td>\n",
              "      <td>57</td>\n",
              "    </tr>\n",
              "    <tr>\n",
              "      <th>13</th>\n",
              "      <td>Numéro de rue</td>\n",
              "      <td>50535</td>\n",
              "    </tr>\n",
              "    <tr>\n",
              "      <th>14</th>\n",
              "      <td>PLAQUE_ADRESSE</td>\n",
              "      <td>3617</td>\n",
              "    </tr>\n",
              "    <tr>\n",
              "      <th>15</th>\n",
              "      <td>Parfaite</td>\n",
              "      <td>491</td>\n",
              "    </tr>\n",
              "    <tr>\n",
              "      <th>16</th>\n",
              "      <td>Rue</td>\n",
              "      <td>10259</td>\n",
              "    </tr>\n",
              "    <tr>\n",
              "      <th>17</th>\n",
              "      <td>SIMILAIRE</td>\n",
              "      <td>1</td>\n",
              "    </tr>\n",
              "    <tr>\n",
              "      <th>18</th>\n",
              "      <td>Ville</td>\n",
              "      <td>2497</td>\n",
              "    </tr>\n",
              "    <tr>\n",
              "      <th>19</th>\n",
              "      <td>ZONE_ADRESSAGE</td>\n",
              "      <td>9</td>\n",
              "    </tr>\n",
              "  </tbody>\n",
              "</table>\n",
              "</div>\n",
              "    <div class=\"colab-df-buttons\">\n",
              "\n",
              "  <div class=\"colab-df-container\">\n",
              "    <button class=\"colab-df-convert\" onclick=\"convertToInteractive('df-ad24b75a-1355-4b3e-8c04-02906f20f6ff')\"\n",
              "            title=\"Convert this dataframe to an interactive table.\"\n",
              "            style=\"display:none;\">\n",
              "\n",
              "  <svg xmlns=\"http://www.w3.org/2000/svg\" height=\"24px\" viewBox=\"0 -960 960 960\">\n",
              "    <path d=\"M120-120v-720h720v720H120Zm60-500h600v-160H180v160Zm220 220h160v-160H400v160Zm0 220h160v-160H400v160ZM180-400h160v-160H180v160Zm440 0h160v-160H620v160ZM180-180h160v-160H180v160Zm440 0h160v-160H620v160Z\"/>\n",
              "  </svg>\n",
              "    </button>\n",
              "\n",
              "  <style>\n",
              "    .colab-df-container {\n",
              "      display:flex;\n",
              "      gap: 12px;\n",
              "    }\n",
              "\n",
              "    .colab-df-convert {\n",
              "      background-color: #E8F0FE;\n",
              "      border: none;\n",
              "      border-radius: 50%;\n",
              "      cursor: pointer;\n",
              "      display: none;\n",
              "      fill: #1967D2;\n",
              "      height: 32px;\n",
              "      padding: 0 0 0 0;\n",
              "      width: 32px;\n",
              "    }\n",
              "\n",
              "    .colab-df-convert:hover {\n",
              "      background-color: #E2EBFA;\n",
              "      box-shadow: 0px 1px 2px rgba(60, 64, 67, 0.3), 0px 1px 3px 1px rgba(60, 64, 67, 0.15);\n",
              "      fill: #174EA6;\n",
              "    }\n",
              "\n",
              "    .colab-df-buttons div {\n",
              "      margin-bottom: 4px;\n",
              "    }\n",
              "\n",
              "    [theme=dark] .colab-df-convert {\n",
              "      background-color: #3B4455;\n",
              "      fill: #D2E3FC;\n",
              "    }\n",
              "\n",
              "    [theme=dark] .colab-df-convert:hover {\n",
              "      background-color: #434B5C;\n",
              "      box-shadow: 0px 1px 3px 1px rgba(0, 0, 0, 0.15);\n",
              "      filter: drop-shadow(0px 1px 2px rgba(0, 0, 0, 0.3));\n",
              "      fill: #FFFFFF;\n",
              "    }\n",
              "  </style>\n",
              "\n",
              "    <script>\n",
              "      const buttonEl =\n",
              "        document.querySelector('#df-ad24b75a-1355-4b3e-8c04-02906f20f6ff button.colab-df-convert');\n",
              "      buttonEl.style.display =\n",
              "        google.colab.kernel.accessAllowed ? 'block' : 'none';\n",
              "\n",
              "      async function convertToInteractive(key) {\n",
              "        const element = document.querySelector('#df-ad24b75a-1355-4b3e-8c04-02906f20f6ff');\n",
              "        const dataTable =\n",
              "          await google.colab.kernel.invokeFunction('convertToInteractive',\n",
              "                                                    [key], {});\n",
              "        if (!dataTable) return;\n",
              "\n",
              "        const docLinkHtml = 'Like what you see? Visit the ' +\n",
              "          '<a target=\"_blank\" href=https://colab.research.google.com/notebooks/data_table.ipynb>data table notebook</a>'\n",
              "          + ' to learn more about interactive tables.';\n",
              "        element.innerHTML = '';\n",
              "        dataTable['output_type'] = 'display_data';\n",
              "        await google.colab.output.renderOutput(dataTable, element);\n",
              "        const docLink = document.createElement('div');\n",
              "        docLink.innerHTML = docLinkHtml;\n",
              "        element.appendChild(docLink);\n",
              "      }\n",
              "    </script>\n",
              "  </div>\n",
              "\n",
              "\n",
              "<div id=\"df-921b6b17-2a95-4970-bacc-86068137936c\">\n",
              "  <button class=\"colab-df-quickchart\" onclick=\"quickchart('df-921b6b17-2a95-4970-bacc-86068137936c')\"\n",
              "            title=\"Suggest charts\"\n",
              "            style=\"display:none;\">\n",
              "\n",
              "<svg xmlns=\"http://www.w3.org/2000/svg\" height=\"24px\"viewBox=\"0 0 24 24\"\n",
              "     width=\"24px\">\n",
              "    <g>\n",
              "        <path d=\"M19 3H5c-1.1 0-2 .9-2 2v14c0 1.1.9 2 2 2h14c1.1 0 2-.9 2-2V5c0-1.1-.9-2-2-2zM9 17H7v-7h2v7zm4 0h-2V7h2v10zm4 0h-2v-4h2v4z\"/>\n",
              "    </g>\n",
              "</svg>\n",
              "  </button>\n",
              "\n",
              "<style>\n",
              "  .colab-df-quickchart {\n",
              "      --bg-color: #E8F0FE;\n",
              "      --fill-color: #1967D2;\n",
              "      --hover-bg-color: #E2EBFA;\n",
              "      --hover-fill-color: #174EA6;\n",
              "      --disabled-fill-color: #AAA;\n",
              "      --disabled-bg-color: #DDD;\n",
              "  }\n",
              "\n",
              "  [theme=dark] .colab-df-quickchart {\n",
              "      --bg-color: #3B4455;\n",
              "      --fill-color: #D2E3FC;\n",
              "      --hover-bg-color: #434B5C;\n",
              "      --hover-fill-color: #FFFFFF;\n",
              "      --disabled-bg-color: #3B4455;\n",
              "      --disabled-fill-color: #666;\n",
              "  }\n",
              "\n",
              "  .colab-df-quickchart {\n",
              "    background-color: var(--bg-color);\n",
              "    border: none;\n",
              "    border-radius: 50%;\n",
              "    cursor: pointer;\n",
              "    display: none;\n",
              "    fill: var(--fill-color);\n",
              "    height: 32px;\n",
              "    padding: 0;\n",
              "    width: 32px;\n",
              "  }\n",
              "\n",
              "  .colab-df-quickchart:hover {\n",
              "    background-color: var(--hover-bg-color);\n",
              "    box-shadow: 0 1px 2px rgba(60, 64, 67, 0.3), 0 1px 3px 1px rgba(60, 64, 67, 0.15);\n",
              "    fill: var(--button-hover-fill-color);\n",
              "  }\n",
              "\n",
              "  .colab-df-quickchart-complete:disabled,\n",
              "  .colab-df-quickchart-complete:disabled:hover {\n",
              "    background-color: var(--disabled-bg-color);\n",
              "    fill: var(--disabled-fill-color);\n",
              "    box-shadow: none;\n",
              "  }\n",
              "\n",
              "  .colab-df-spinner {\n",
              "    border: 2px solid var(--fill-color);\n",
              "    border-color: transparent;\n",
              "    border-bottom-color: var(--fill-color);\n",
              "    animation:\n",
              "      spin 1s steps(1) infinite;\n",
              "  }\n",
              "\n",
              "  @keyframes spin {\n",
              "    0% {\n",
              "      border-color: transparent;\n",
              "      border-bottom-color: var(--fill-color);\n",
              "      border-left-color: var(--fill-color);\n",
              "    }\n",
              "    20% {\n",
              "      border-color: transparent;\n",
              "      border-left-color: var(--fill-color);\n",
              "      border-top-color: var(--fill-color);\n",
              "    }\n",
              "    30% {\n",
              "      border-color: transparent;\n",
              "      border-left-color: var(--fill-color);\n",
              "      border-top-color: var(--fill-color);\n",
              "      border-right-color: var(--fill-color);\n",
              "    }\n",
              "    40% {\n",
              "      border-color: transparent;\n",
              "      border-right-color: var(--fill-color);\n",
              "      border-top-color: var(--fill-color);\n",
              "    }\n",
              "    60% {\n",
              "      border-color: transparent;\n",
              "      border-right-color: var(--fill-color);\n",
              "    }\n",
              "    80% {\n",
              "      border-color: transparent;\n",
              "      border-right-color: var(--fill-color);\n",
              "      border-bottom-color: var(--fill-color);\n",
              "    }\n",
              "    90% {\n",
              "      border-color: transparent;\n",
              "      border-bottom-color: var(--fill-color);\n",
              "    }\n",
              "  }\n",
              "</style>\n",
              "\n",
              "  <script>\n",
              "    async function quickchart(key) {\n",
              "      const quickchartButtonEl =\n",
              "        document.querySelector('#' + key + ' button');\n",
              "      quickchartButtonEl.disabled = true;  // To prevent multiple clicks.\n",
              "      quickchartButtonEl.classList.add('colab-df-spinner');\n",
              "      try {\n",
              "        const charts = await google.colab.kernel.invokeFunction(\n",
              "            'suggestCharts', [key], {});\n",
              "      } catch (error) {\n",
              "        console.error('Error during call to suggestCharts:', error);\n",
              "      }\n",
              "      quickchartButtonEl.classList.remove('colab-df-spinner');\n",
              "      quickchartButtonEl.classList.add('colab-df-quickchart-complete');\n",
              "    }\n",
              "    (() => {\n",
              "      let quickchartButtonEl =\n",
              "        document.querySelector('#df-921b6b17-2a95-4970-bacc-86068137936c button');\n",
              "      quickchartButtonEl.style.display =\n",
              "        google.colab.kernel.accessAllowed ? 'block' : 'none';\n",
              "    })();\n",
              "  </script>\n",
              "</div>\n",
              "\n",
              "    </div>\n",
              "  </div>\n"
            ],
            "application/vnd.google.colaboratory.intrinsic+json": {
              "type": "dataframe",
              "summary": "{\n  \"name\": \"df\",\n  \"rows\": 20,\n  \"fields\": [\n    {\n      \"column\": \"precision_localisation\",\n      \"properties\": {\n        \"dtype\": \"string\",\n        \"num_unique_values\": 20,\n        \"samples\": [\n          \"BATIMENT\",\n          \"SIMILAIRE\",\n          \"Parfaite\"\n        ],\n        \"semantic_type\": \"\",\n        \"description\": \"\"\n      }\n    },\n    {\n      \"column\": \"Count\",\n      \"properties\": {\n        \"dtype\": \"number\",\n        \"std\": 11338,\n        \"min\": 1,\n        \"max\": 50535,\n        \"num_unique_values\": 18,\n        \"samples\": [\n          520,\n          3,\n          51\n        ],\n        \"semantic_type\": \"\",\n        \"description\": \"\"\n      }\n    }\n  ]\n}"
            }
          },
          "metadata": {},
          "execution_count": 125
        }
      ]
    },
    {
      "cell_type": "code",
      "source": [
        "# Colonne precision_localisation : valeurs non conformes à la doc\n",
        "# -> peut être utilisée, ou inutile ?\n",
        "# TODO"
      ],
      "metadata": {
        "id": "WE2l4sQ_bR1y"
      },
      "execution_count": null,
      "outputs": []
    },
    {
      "cell_type": "markdown",
      "source": [
        "#### <ins>code_zone_animation_pedagogique</ins> et <ins>libelle_zone_animation_pedagogique</ins>"
      ],
      "metadata": {
        "id": "MNam_HD2xlJY"
      }
    },
    {
      "cell_type": "code",
      "source": [
        "val1 = 'code_zone_animation_pedagogique'\n",
        "val2 = 'libelle_zone_animation_pedagogique'\n",
        "print(f\"Nombre de valeurs uniques pour {val1} : {len(df[val1].unique())}\")\n",
        "print(f\"Nombre de valeurs uniques pour {val2} : {len(df[val2].unique())}\")"
      ],
      "metadata": {
        "id": "hruw9VsBw4O_",
        "colab": {
          "base_uri": "https://localhost:8080/"
        },
        "outputId": "3b007fc4-be77-4dd7-d37f-ca4d9c7680cf"
      },
      "execution_count": null,
      "outputs": [
        {
          "output_type": "stream",
          "name": "stdout",
          "text": [
            "Nombre de valeurs uniques pour code_zone_animation_pedagogique : 376\n",
            "Nombre de valeurs uniques pour libelle_zone_animation_pedagogique : 353\n"
          ]
        }
      ]
    },
    {
      "cell_type": "code",
      "source": [
        "# Si utilisées, effectuer la mise en cohérence"
      ],
      "metadata": {
        "id": "QPH1nfZgzHa9"
      },
      "execution_count": null,
      "outputs": []
    },
    {
      "cell_type": "markdown",
      "source": [
        "#### <ins>code_bassin_formation</ins> et <ins>libelle_bassin_formation</ins>"
      ],
      "metadata": {
        "id": "veXQg3KLzOJo"
      }
    },
    {
      "cell_type": "code",
      "source": [
        "val1 = 'code_bassin_formation'\n",
        "val2 = 'libelle_bassin_formation'\n",
        "print(f\"Nombre de valeurs uniques pour {val1} : {len(df[val1].unique())}\")\n",
        "print(f\"Nombre de valeurs uniques pour {val2} : {len(df[val2].unique())}\")"
      ],
      "metadata": {
        "colab": {
          "base_uri": "https://localhost:8080/"
        },
        "id": "dXnC8tEBzUOU",
        "outputId": "71ff6406-de6a-49c8-c3e3-22abeec34225"
      },
      "execution_count": null,
      "outputs": [
        {
          "output_type": "stream",
          "name": "stdout",
          "text": [
            "Nombre de valeurs uniques pour code_bassin_formation : 365\n",
            "Nombre de valeurs uniques pour libelle_bassin_formation : 364\n"
          ]
        }
      ]
    },
    {
      "cell_type": "code",
      "source": [
        "# Si utilisées, effectuer la mise en cohérence"
      ],
      "metadata": {
        "id": "Zy-b-D-Xw2dH"
      },
      "execution_count": null,
      "outputs": []
    },
    {
      "cell_type": "markdown",
      "source": [
        "### Feature selection / feature engineering"
      ],
      "metadata": {
        "id": "ZLgYeiHLUd3f"
      }
    },
    {
      "cell_type": "code",
      "source": [
        "# Copie du df avant modification\n",
        "df_feat = df.copy()"
      ],
      "metadata": {
        "id": "UXpR5MQKzgMa"
      },
      "execution_count": null,
      "outputs": []
    },
    {
      "cell_type": "markdown",
      "source": [
        "#### <ins>type_etablissement</ins>"
      ],
      "metadata": {
        "id": "7vlSOFrF2A2d"
      }
    },
    {
      "cell_type": "code",
      "source": [
        "df_feat['type_etablissement'].unique()"
      ],
      "metadata": {
        "colab": {
          "base_uri": "https://localhost:8080/"
        },
        "id": "pkcIwQ-42Gt6",
        "outputId": "3cb361a9-f08c-4382-ca8d-9e668c31f431"
      },
      "execution_count": null,
      "outputs": [
        {
          "output_type": "execute_result",
          "data": {
            "text/plain": [
              "array(['Ecole', 'Collège', 'Lycée', 'EREA', 'Autre', 'Médico-social',\n",
              "       'Information et orientation', 'Service Administratif', None],\n",
              "      dtype=object)"
            ]
          },
          "metadata": {},
          "execution_count": 130
        }
      ]
    },
    {
      "cell_type": "code",
      "source": [
        "# TODO : sélection sur certaines valeurs uniquement ?"
      ],
      "metadata": {
        "id": "IFKhgv-y2i1n"
      },
      "execution_count": null,
      "outputs": []
    },
    {
      "cell_type": "markdown",
      "source": [
        "#### <ins>date_ouverture</ins>"
      ],
      "metadata": {
        "id": "pzAej87o25wl"
      }
    },
    {
      "cell_type": "code",
      "source": [
        "print(f\"Plus ancienne date d'ouverture : {df_feat['date_ouverture'].min()}\")\n",
        "print(f\"Plus récente date d'ouverture : {df_feat['date_ouverture'].max()}\")"
      ],
      "metadata": {
        "colab": {
          "base_uri": "https://localhost:8080/"
        },
        "id": "Iej-pGQF2_CR",
        "outputId": "f9a92c11-0208-4d11-db4f-7aa8309aa0d1"
      },
      "execution_count": null,
      "outputs": [
        {
          "output_type": "stream",
          "name": "stdout",
          "text": [
            "Plus ancienne date d'ouverture : 1901-01-01\n",
            "Plus récente date d'ouverture : 2025-01-27\n"
          ]
        }
      ]
    },
    {
      "cell_type": "code",
      "source": [
        "# TODO : vérifier les dates les plus anciennes, 1901-01-01 ressemble à un ne-sait-pas"
      ],
      "metadata": {
        "id": "rrU5ii3C3WRA"
      },
      "execution_count": null,
      "outputs": []
    },
    {
      "cell_type": "code",
      "source": [
        "# A utiliser tel quel, ou convertir au format date ? Ou créer colonnes année/mois/jour ?"
      ],
      "metadata": {
        "id": "4-xrmJV83d_W"
      },
      "execution_count": null,
      "outputs": []
    },
    {
      "cell_type": "markdown",
      "source": [
        "#### <ins>date_maj_ligne</ins>"
      ],
      "metadata": {
        "id": "JsMhMeUV3sPO"
      }
    },
    {
      "cell_type": "code",
      "source": [
        "df_feat['date_maj_ligne'].unique()"
      ],
      "metadata": {
        "colab": {
          "base_uri": "https://localhost:8080/"
        },
        "id": "k_n2KNa-3vJS",
        "outputId": "9fbf84f1-a9bf-4b29-ccb1-604409895315"
      },
      "execution_count": null,
      "outputs": [
        {
          "output_type": "execute_result",
          "data": {
            "text/plain": [
              "array(['2025-01-28'], dtype=object)"
            ]
          },
          "metadata": {},
          "execution_count": 133
        }
      ]
    },
    {
      "cell_type": "code",
      "source": [
        "# TODO : stocker dans une variable, puis supprimer la colonne du dataframe"
      ],
      "metadata": {
        "id": "N36-w0JR34Ek"
      },
      "execution_count": null,
      "outputs": []
    },
    {
      "cell_type": "code",
      "source": [
        "# Colonne type_etablissement : ne prendre que Ecole / Collège / Lycée ?\n",
        "\n",
        "# Utilité adresse_1, adresse_2, adresse_3 ?\n",
        "# vérif si doublon entre adresse_3 et code_postal ?\n",
        "\n",
        "# Vérifier cohérence entre code_commune et code_departement\n",
        "# + différencier \"France\", Corse et outre-mer ?\n",
        "\n",
        "# Utilité binaires suivants ? (ajoutés dans col_pour_viz pour le moment) : ecole_maternelle, ecole_elementaire,\n",
        "# voie_generale, voie_technologique, voie_professionnelle, restauration, hebergement, ulis, apprentissage, segpa,\n",
        "# section_arts, section_cinema, section_theatre, section_sport, section_internationale, section_europeenne,\n",
        "# lycee_agricole, lycee_militaire, lycee_des_metiers, post_bac, greta, rpi_concentre\n",
        "\n",
        "# Colonne nombre_d_eleves : regrouper en tranches ?\n",
        "\n",
        "# Comment utiliser colonnes suivantes ? :\n",
        "#- position\n",
        "#- coordx_origine, coordy_origine, epsg_origine\n",
        "#- latitude, longitude\n",
        "#- TODO : vérifier cohérence entre position et lat/long\n",
        "\n",
        "# Colonnes type_contrat_prive et code_type_contrat_prive : quézako ? utilité ?\n",
        "# => supprimées en attente d'informations\n",
        "\n",
        "# Utilité colonne rpi_disperse ?\n",
        "# => supprimé en attente d'informations\n",
        "\n",
        "# Utilité colonnes code_nature et libelle_nature ?\n",
        "# => supprimées en attente d'informations"
      ],
      "metadata": {
        "id": "1AwcmucSUi96"
      },
      "execution_count": null,
      "outputs": []
    },
    {
      "cell_type": "code",
      "source": [
        "# Colonnes non utilisées (PII ou autre)\n",
        "# TODO : à confirmer, sinon stocker dans autre table\n",
        "col_to_remove = [\n",
        "    'telephone', 'fax', 'web', 'mail', 'siren_siret', 'fiche_onisep',\n",
        "    'type_contrat_prive', 'date_maj_ligne', 'ministere_tutelle',\n",
        "    'rpi_disperse', 'code_nature', 'libelle_nature', 'code_type_contrat_prive'\n",
        "]"
      ],
      "metadata": {
        "id": "-H8nABa3jONz"
      },
      "execution_count": null,
      "outputs": []
    },
    {
      "cell_type": "code",
      "source": [
        "# Créer 2eme table pour viz uniquement ? Jointure sur ID_etablissement\n",
        "col_pour_viz = [\n",
        "    'nom_etablissement', 'statut_public_prive', 'adresse_1', 'adresse_2',\n",
        "    'adresse_3', 'code_postal', 'code_commune', 'nom_commune', 'code_academie',\n",
        "    'code_region', 'appartenance_education_prioritaire', 'libelle_departement',\n",
        "    'libelle_academie', 'libelle_region', 'nom_circonscription', 'etat', 'pial',\n",
        "    'etablissement_mere', 'type_rattachement_etablissement_mere',\n",
        "    'code_circonscription', 'code_zone_animation_pedagogique',\n",
        "    'libelle_zone_animation_pedagogique', 'code_bassin_formation',\n",
        "    'libelle_bassin_formation'\n",
        "]"
      ],
      "metadata": {
        "id": "tSTVkDVLUsk8"
      },
      "execution_count": null,
      "outputs": []
    },
    {
      "cell_type": "code",
      "source": [
        "# En attendant confirmation, j'ajoute ces binaires suivants dans la table de viz\n",
        "col_pour_viz.extend([\n",
        "    'ecole_maternelle', 'ecole_elementaire', 'voie_generale',\n",
        "    'voie_technologique', 'voie_professionnelle', 'restauration', 'hebergement',\n",
        "    'ulis', 'apprentissage', 'segpa', 'section_arts', 'section_cinema',\n",
        "    'section_theatre', 'section_sport', 'section_internationale',\n",
        "    'section_europeenne', 'lycee_agricole', 'lycee_militaire',\n",
        "    'lycee_des_metiers', 'post_bac', 'greta', 'rpi_concentre'\n",
        "])"
      ],
      "metadata": {
        "id": "UheRm3MYi3mH"
      },
      "execution_count": null,
      "outputs": []
    },
    {
      "cell_type": "markdown",
      "source": [
        "### Sélection des données pour la POC (93)\n",
        "* v0 : 1 commune du 93\n",
        "* v1 : l'ensemble du 93\n",
        "* v2 : 93 + 1 département rural\n",
        "* v3 : l'ensemble de la France"
      ],
      "metadata": {
        "id": "-zlDSu-ZkKim"
      }
    },
    {
      "cell_type": "code",
      "source": [
        "# v0 : liste des communes du 93, je compte le nombre de lignes par commune\n",
        "df_feat[df_feat['code_departement']=='093'].groupby('nom_commune').size().reset_index(name='Count')"
      ],
      "metadata": {
        "colab": {
          "base_uri": "https://localhost:8080/",
          "height": 1000
        },
        "id": "oZemlGip7jLM",
        "outputId": "d126c40a-2073-4299-d09a-1e94ddf91855"
      },
      "execution_count": null,
      "outputs": [
        {
          "output_type": "execute_result",
          "data": {
            "text/plain": [
              "                nom_commune  Count\n",
              "0             Aubervilliers     61\n",
              "1          Aulnay-sous-Bois     83\n",
              "2                  Bagnolet     30\n",
              "3                   Bobigny     59\n",
              "4                     Bondy     48\n",
              "5          Clichy-sous-Bois     36\n",
              "6                   Coubron      4\n",
              "7                    Drancy     55\n",
              "8                     Dugny     15\n",
              "9          Epinay-sur-Seine     48\n",
              "10                    Gagny     33\n",
              "11        Gournay-sur-Marne      4\n",
              "12        L'Ile-Saint-Denis      6\n",
              "13             La Courneuve     35\n",
              "14          Le Blanc-Mesnil     50\n",
              "15               Le Bourget     12\n",
              "16     Le Pré-Saint-Gervais     13\n",
              "17                Le Raincy     24\n",
              "18                Les Lilas     14\n",
              "19  Les Pavillons-sous-Bois     19\n",
              "20             Livry-Gargan     33\n",
              "21              Montfermeil     22\n",
              "22                Montreuil     95\n",
              "23        Neuilly-Plaisance     14\n",
              "24        Neuilly-sur-Marne     30\n",
              "25           Noisy-le-Grand     71\n",
              "26             Noisy-le-Sec     35\n",
              "27                   Pantin     49\n",
              "28    Pierrefitte-sur-Seine     23\n",
              "29              Romainville     23\n",
              "30          Rosny-sous-Bois     34\n",
              "31              Saint-Denis    108\n",
              "32               Saint-Ouen      5\n",
              "33     Saint-Ouen-sur-Seine     32\n",
              "34                   Sevran     47\n",
              "35                   Stains     42\n",
              "36       Tremblay-en-France     39\n",
              "37                 Vaujours      8\n",
              "38              Villemomble     24\n",
              "39               Villepinte     38\n",
              "40             Villetaneuse     11"
            ],
            "text/html": [
              "\n",
              "  <div id=\"df-d725b48f-eb40-415a-884b-2d4ddf159fcf\" class=\"colab-df-container\">\n",
              "    <div>\n",
              "<style scoped>\n",
              "    .dataframe tbody tr th:only-of-type {\n",
              "        vertical-align: middle;\n",
              "    }\n",
              "\n",
              "    .dataframe tbody tr th {\n",
              "        vertical-align: top;\n",
              "    }\n",
              "\n",
              "    .dataframe thead th {\n",
              "        text-align: right;\n",
              "    }\n",
              "</style>\n",
              "<table border=\"1\" class=\"dataframe\">\n",
              "  <thead>\n",
              "    <tr style=\"text-align: right;\">\n",
              "      <th></th>\n",
              "      <th>nom_commune</th>\n",
              "      <th>Count</th>\n",
              "    </tr>\n",
              "  </thead>\n",
              "  <tbody>\n",
              "    <tr>\n",
              "      <th>0</th>\n",
              "      <td>Aubervilliers</td>\n",
              "      <td>61</td>\n",
              "    </tr>\n",
              "    <tr>\n",
              "      <th>1</th>\n",
              "      <td>Aulnay-sous-Bois</td>\n",
              "      <td>83</td>\n",
              "    </tr>\n",
              "    <tr>\n",
              "      <th>2</th>\n",
              "      <td>Bagnolet</td>\n",
              "      <td>30</td>\n",
              "    </tr>\n",
              "    <tr>\n",
              "      <th>3</th>\n",
              "      <td>Bobigny</td>\n",
              "      <td>59</td>\n",
              "    </tr>\n",
              "    <tr>\n",
              "      <th>4</th>\n",
              "      <td>Bondy</td>\n",
              "      <td>48</td>\n",
              "    </tr>\n",
              "    <tr>\n",
              "      <th>5</th>\n",
              "      <td>Clichy-sous-Bois</td>\n",
              "      <td>36</td>\n",
              "    </tr>\n",
              "    <tr>\n",
              "      <th>6</th>\n",
              "      <td>Coubron</td>\n",
              "      <td>4</td>\n",
              "    </tr>\n",
              "    <tr>\n",
              "      <th>7</th>\n",
              "      <td>Drancy</td>\n",
              "      <td>55</td>\n",
              "    </tr>\n",
              "    <tr>\n",
              "      <th>8</th>\n",
              "      <td>Dugny</td>\n",
              "      <td>15</td>\n",
              "    </tr>\n",
              "    <tr>\n",
              "      <th>9</th>\n",
              "      <td>Epinay-sur-Seine</td>\n",
              "      <td>48</td>\n",
              "    </tr>\n",
              "    <tr>\n",
              "      <th>10</th>\n",
              "      <td>Gagny</td>\n",
              "      <td>33</td>\n",
              "    </tr>\n",
              "    <tr>\n",
              "      <th>11</th>\n",
              "      <td>Gournay-sur-Marne</td>\n",
              "      <td>4</td>\n",
              "    </tr>\n",
              "    <tr>\n",
              "      <th>12</th>\n",
              "      <td>L'Ile-Saint-Denis</td>\n",
              "      <td>6</td>\n",
              "    </tr>\n",
              "    <tr>\n",
              "      <th>13</th>\n",
              "      <td>La Courneuve</td>\n",
              "      <td>35</td>\n",
              "    </tr>\n",
              "    <tr>\n",
              "      <th>14</th>\n",
              "      <td>Le Blanc-Mesnil</td>\n",
              "      <td>50</td>\n",
              "    </tr>\n",
              "    <tr>\n",
              "      <th>15</th>\n",
              "      <td>Le Bourget</td>\n",
              "      <td>12</td>\n",
              "    </tr>\n",
              "    <tr>\n",
              "      <th>16</th>\n",
              "      <td>Le Pré-Saint-Gervais</td>\n",
              "      <td>13</td>\n",
              "    </tr>\n",
              "    <tr>\n",
              "      <th>17</th>\n",
              "      <td>Le Raincy</td>\n",
              "      <td>24</td>\n",
              "    </tr>\n",
              "    <tr>\n",
              "      <th>18</th>\n",
              "      <td>Les Lilas</td>\n",
              "      <td>14</td>\n",
              "    </tr>\n",
              "    <tr>\n",
              "      <th>19</th>\n",
              "      <td>Les Pavillons-sous-Bois</td>\n",
              "      <td>19</td>\n",
              "    </tr>\n",
              "    <tr>\n",
              "      <th>20</th>\n",
              "      <td>Livry-Gargan</td>\n",
              "      <td>33</td>\n",
              "    </tr>\n",
              "    <tr>\n",
              "      <th>21</th>\n",
              "      <td>Montfermeil</td>\n",
              "      <td>22</td>\n",
              "    </tr>\n",
              "    <tr>\n",
              "      <th>22</th>\n",
              "      <td>Montreuil</td>\n",
              "      <td>95</td>\n",
              "    </tr>\n",
              "    <tr>\n",
              "      <th>23</th>\n",
              "      <td>Neuilly-Plaisance</td>\n",
              "      <td>14</td>\n",
              "    </tr>\n",
              "    <tr>\n",
              "      <th>24</th>\n",
              "      <td>Neuilly-sur-Marne</td>\n",
              "      <td>30</td>\n",
              "    </tr>\n",
              "    <tr>\n",
              "      <th>25</th>\n",
              "      <td>Noisy-le-Grand</td>\n",
              "      <td>71</td>\n",
              "    </tr>\n",
              "    <tr>\n",
              "      <th>26</th>\n",
              "      <td>Noisy-le-Sec</td>\n",
              "      <td>35</td>\n",
              "    </tr>\n",
              "    <tr>\n",
              "      <th>27</th>\n",
              "      <td>Pantin</td>\n",
              "      <td>49</td>\n",
              "    </tr>\n",
              "    <tr>\n",
              "      <th>28</th>\n",
              "      <td>Pierrefitte-sur-Seine</td>\n",
              "      <td>23</td>\n",
              "    </tr>\n",
              "    <tr>\n",
              "      <th>29</th>\n",
              "      <td>Romainville</td>\n",
              "      <td>23</td>\n",
              "    </tr>\n",
              "    <tr>\n",
              "      <th>30</th>\n",
              "      <td>Rosny-sous-Bois</td>\n",
              "      <td>34</td>\n",
              "    </tr>\n",
              "    <tr>\n",
              "      <th>31</th>\n",
              "      <td>Saint-Denis</td>\n",
              "      <td>108</td>\n",
              "    </tr>\n",
              "    <tr>\n",
              "      <th>32</th>\n",
              "      <td>Saint-Ouen</td>\n",
              "      <td>5</td>\n",
              "    </tr>\n",
              "    <tr>\n",
              "      <th>33</th>\n",
              "      <td>Saint-Ouen-sur-Seine</td>\n",
              "      <td>32</td>\n",
              "    </tr>\n",
              "    <tr>\n",
              "      <th>34</th>\n",
              "      <td>Sevran</td>\n",
              "      <td>47</td>\n",
              "    </tr>\n",
              "    <tr>\n",
              "      <th>35</th>\n",
              "      <td>Stains</td>\n",
              "      <td>42</td>\n",
              "    </tr>\n",
              "    <tr>\n",
              "      <th>36</th>\n",
              "      <td>Tremblay-en-France</td>\n",
              "      <td>39</td>\n",
              "    </tr>\n",
              "    <tr>\n",
              "      <th>37</th>\n",
              "      <td>Vaujours</td>\n",
              "      <td>8</td>\n",
              "    </tr>\n",
              "    <tr>\n",
              "      <th>38</th>\n",
              "      <td>Villemomble</td>\n",
              "      <td>24</td>\n",
              "    </tr>\n",
              "    <tr>\n",
              "      <th>39</th>\n",
              "      <td>Villepinte</td>\n",
              "      <td>38</td>\n",
              "    </tr>\n",
              "    <tr>\n",
              "      <th>40</th>\n",
              "      <td>Villetaneuse</td>\n",
              "      <td>11</td>\n",
              "    </tr>\n",
              "  </tbody>\n",
              "</table>\n",
              "</div>\n",
              "    <div class=\"colab-df-buttons\">\n",
              "\n",
              "  <div class=\"colab-df-container\">\n",
              "    <button class=\"colab-df-convert\" onclick=\"convertToInteractive('df-d725b48f-eb40-415a-884b-2d4ddf159fcf')\"\n",
              "            title=\"Convert this dataframe to an interactive table.\"\n",
              "            style=\"display:none;\">\n",
              "\n",
              "  <svg xmlns=\"http://www.w3.org/2000/svg\" height=\"24px\" viewBox=\"0 -960 960 960\">\n",
              "    <path d=\"M120-120v-720h720v720H120Zm60-500h600v-160H180v160Zm220 220h160v-160H400v160Zm0 220h160v-160H400v160ZM180-400h160v-160H180v160Zm440 0h160v-160H620v160ZM180-180h160v-160H180v160Zm440 0h160v-160H620v160Z\"/>\n",
              "  </svg>\n",
              "    </button>\n",
              "\n",
              "  <style>\n",
              "    .colab-df-container {\n",
              "      display:flex;\n",
              "      gap: 12px;\n",
              "    }\n",
              "\n",
              "    .colab-df-convert {\n",
              "      background-color: #E8F0FE;\n",
              "      border: none;\n",
              "      border-radius: 50%;\n",
              "      cursor: pointer;\n",
              "      display: none;\n",
              "      fill: #1967D2;\n",
              "      height: 32px;\n",
              "      padding: 0 0 0 0;\n",
              "      width: 32px;\n",
              "    }\n",
              "\n",
              "    .colab-df-convert:hover {\n",
              "      background-color: #E2EBFA;\n",
              "      box-shadow: 0px 1px 2px rgba(60, 64, 67, 0.3), 0px 1px 3px 1px rgba(60, 64, 67, 0.15);\n",
              "      fill: #174EA6;\n",
              "    }\n",
              "\n",
              "    .colab-df-buttons div {\n",
              "      margin-bottom: 4px;\n",
              "    }\n",
              "\n",
              "    [theme=dark] .colab-df-convert {\n",
              "      background-color: #3B4455;\n",
              "      fill: #D2E3FC;\n",
              "    }\n",
              "\n",
              "    [theme=dark] .colab-df-convert:hover {\n",
              "      background-color: #434B5C;\n",
              "      box-shadow: 0px 1px 3px 1px rgba(0, 0, 0, 0.15);\n",
              "      filter: drop-shadow(0px 1px 2px rgba(0, 0, 0, 0.3));\n",
              "      fill: #FFFFFF;\n",
              "    }\n",
              "  </style>\n",
              "\n",
              "    <script>\n",
              "      const buttonEl =\n",
              "        document.querySelector('#df-d725b48f-eb40-415a-884b-2d4ddf159fcf button.colab-df-convert');\n",
              "      buttonEl.style.display =\n",
              "        google.colab.kernel.accessAllowed ? 'block' : 'none';\n",
              "\n",
              "      async function convertToInteractive(key) {\n",
              "        const element = document.querySelector('#df-d725b48f-eb40-415a-884b-2d4ddf159fcf');\n",
              "        const dataTable =\n",
              "          await google.colab.kernel.invokeFunction('convertToInteractive',\n",
              "                                                    [key], {});\n",
              "        if (!dataTable) return;\n",
              "\n",
              "        const docLinkHtml = 'Like what you see? Visit the ' +\n",
              "          '<a target=\"_blank\" href=https://colab.research.google.com/notebooks/data_table.ipynb>data table notebook</a>'\n",
              "          + ' to learn more about interactive tables.';\n",
              "        element.innerHTML = '';\n",
              "        dataTable['output_type'] = 'display_data';\n",
              "        await google.colab.output.renderOutput(dataTable, element);\n",
              "        const docLink = document.createElement('div');\n",
              "        docLink.innerHTML = docLinkHtml;\n",
              "        element.appendChild(docLink);\n",
              "      }\n",
              "    </script>\n",
              "  </div>\n",
              "\n",
              "\n",
              "<div id=\"df-c210fa02-6264-4ff2-ac77-1034793b7af9\">\n",
              "  <button class=\"colab-df-quickchart\" onclick=\"quickchart('df-c210fa02-6264-4ff2-ac77-1034793b7af9')\"\n",
              "            title=\"Suggest charts\"\n",
              "            style=\"display:none;\">\n",
              "\n",
              "<svg xmlns=\"http://www.w3.org/2000/svg\" height=\"24px\"viewBox=\"0 0 24 24\"\n",
              "     width=\"24px\">\n",
              "    <g>\n",
              "        <path d=\"M19 3H5c-1.1 0-2 .9-2 2v14c0 1.1.9 2 2 2h14c1.1 0 2-.9 2-2V5c0-1.1-.9-2-2-2zM9 17H7v-7h2v7zm4 0h-2V7h2v10zm4 0h-2v-4h2v4z\"/>\n",
              "    </g>\n",
              "</svg>\n",
              "  </button>\n",
              "\n",
              "<style>\n",
              "  .colab-df-quickchart {\n",
              "      --bg-color: #E8F0FE;\n",
              "      --fill-color: #1967D2;\n",
              "      --hover-bg-color: #E2EBFA;\n",
              "      --hover-fill-color: #174EA6;\n",
              "      --disabled-fill-color: #AAA;\n",
              "      --disabled-bg-color: #DDD;\n",
              "  }\n",
              "\n",
              "  [theme=dark] .colab-df-quickchart {\n",
              "      --bg-color: #3B4455;\n",
              "      --fill-color: #D2E3FC;\n",
              "      --hover-bg-color: #434B5C;\n",
              "      --hover-fill-color: #FFFFFF;\n",
              "      --disabled-bg-color: #3B4455;\n",
              "      --disabled-fill-color: #666;\n",
              "  }\n",
              "\n",
              "  .colab-df-quickchart {\n",
              "    background-color: var(--bg-color);\n",
              "    border: none;\n",
              "    border-radius: 50%;\n",
              "    cursor: pointer;\n",
              "    display: none;\n",
              "    fill: var(--fill-color);\n",
              "    height: 32px;\n",
              "    padding: 0;\n",
              "    width: 32px;\n",
              "  }\n",
              "\n",
              "  .colab-df-quickchart:hover {\n",
              "    background-color: var(--hover-bg-color);\n",
              "    box-shadow: 0 1px 2px rgba(60, 64, 67, 0.3), 0 1px 3px 1px rgba(60, 64, 67, 0.15);\n",
              "    fill: var(--button-hover-fill-color);\n",
              "  }\n",
              "\n",
              "  .colab-df-quickchart-complete:disabled,\n",
              "  .colab-df-quickchart-complete:disabled:hover {\n",
              "    background-color: var(--disabled-bg-color);\n",
              "    fill: var(--disabled-fill-color);\n",
              "    box-shadow: none;\n",
              "  }\n",
              "\n",
              "  .colab-df-spinner {\n",
              "    border: 2px solid var(--fill-color);\n",
              "    border-color: transparent;\n",
              "    border-bottom-color: var(--fill-color);\n",
              "    animation:\n",
              "      spin 1s steps(1) infinite;\n",
              "  }\n",
              "\n",
              "  @keyframes spin {\n",
              "    0% {\n",
              "      border-color: transparent;\n",
              "      border-bottom-color: var(--fill-color);\n",
              "      border-left-color: var(--fill-color);\n",
              "    }\n",
              "    20% {\n",
              "      border-color: transparent;\n",
              "      border-left-color: var(--fill-color);\n",
              "      border-top-color: var(--fill-color);\n",
              "    }\n",
              "    30% {\n",
              "      border-color: transparent;\n",
              "      border-left-color: var(--fill-color);\n",
              "      border-top-color: var(--fill-color);\n",
              "      border-right-color: var(--fill-color);\n",
              "    }\n",
              "    40% {\n",
              "      border-color: transparent;\n",
              "      border-right-color: var(--fill-color);\n",
              "      border-top-color: var(--fill-color);\n",
              "    }\n",
              "    60% {\n",
              "      border-color: transparent;\n",
              "      border-right-color: var(--fill-color);\n",
              "    }\n",
              "    80% {\n",
              "      border-color: transparent;\n",
              "      border-right-color: var(--fill-color);\n",
              "      border-bottom-color: var(--fill-color);\n",
              "    }\n",
              "    90% {\n",
              "      border-color: transparent;\n",
              "      border-bottom-color: var(--fill-color);\n",
              "    }\n",
              "  }\n",
              "</style>\n",
              "\n",
              "  <script>\n",
              "    async function quickchart(key) {\n",
              "      const quickchartButtonEl =\n",
              "        document.querySelector('#' + key + ' button');\n",
              "      quickchartButtonEl.disabled = true;  // To prevent multiple clicks.\n",
              "      quickchartButtonEl.classList.add('colab-df-spinner');\n",
              "      try {\n",
              "        const charts = await google.colab.kernel.invokeFunction(\n",
              "            'suggestCharts', [key], {});\n",
              "      } catch (error) {\n",
              "        console.error('Error during call to suggestCharts:', error);\n",
              "      }\n",
              "      quickchartButtonEl.classList.remove('colab-df-spinner');\n",
              "      quickchartButtonEl.classList.add('colab-df-quickchart-complete');\n",
              "    }\n",
              "    (() => {\n",
              "      let quickchartButtonEl =\n",
              "        document.querySelector('#df-c210fa02-6264-4ff2-ac77-1034793b7af9 button');\n",
              "      quickchartButtonEl.style.display =\n",
              "        google.colab.kernel.accessAllowed ? 'block' : 'none';\n",
              "    })();\n",
              "  </script>\n",
              "</div>\n",
              "\n",
              "    </div>\n",
              "  </div>\n"
            ],
            "application/vnd.google.colaboratory.intrinsic+json": {
              "type": "dataframe",
              "summary": "{\n  \"name\": \"df_feat[df_feat['code_departement']=='093']\",\n  \"rows\": 41,\n  \"fields\": [\n    {\n      \"column\": \"nom_commune\",\n      \"properties\": {\n        \"dtype\": \"string\",\n        \"num_unique_values\": 41,\n        \"samples\": [\n          \"Neuilly-sur-Marne\",\n          \"La Courneuve\",\n          \"Dugny\"\n        ],\n        \"semantic_type\": \"\",\n        \"description\": \"\"\n      }\n    },\n    {\n      \"column\": \"Count\",\n      \"properties\": {\n        \"dtype\": \"number\",\n        \"std\": 24,\n        \"min\": 4,\n        \"max\": 108,\n        \"num_unique_values\": 33,\n        \"samples\": [\n          38,\n          24,\n          32\n        ],\n        \"semantic_type\": \"\",\n        \"description\": \"\"\n      }\n    }\n  ]\n}"
            }
          },
          "metadata": {},
          "execution_count": 154
        }
      ]
    },
    {
      "cell_type": "code",
      "source": [
        "# Commencer par Saint-Denis\n",
        "df_v0 = df_feat[\n",
        "    (df_feat['code_departement']=='093') &\n",
        "     (df_feat['nom_commune']=='Saint-Denis')]\n",
        "df_v0.shape"
      ],
      "metadata": {
        "colab": {
          "base_uri": "https://localhost:8080/"
        },
        "id": "0Jeyzsh89DNO",
        "outputId": "23ae6b16-bece-4f33-f503-f8a00ad34c07"
      },
      "execution_count": null,
      "outputs": [
        {
          "output_type": "execute_result",
          "data": {
            "text/plain": [
              "(95, 72)"
            ]
          },
          "metadata": {},
          "execution_count": 159
        }
      ]
    },
    {
      "cell_type": "code",
      "source": [
        "# J'exclue les colonnes à supprimer\n",
        "df_v0 = df_v0.drop(columns=col_to_remove)\n",
        "\n",
        "df_v0.shape"
      ],
      "metadata": {
        "id": "t7YBueiEkK9b",
        "colab": {
          "base_uri": "https://localhost:8080/"
        },
        "outputId": "dfc09e50-1985-4b36-e134-49b68b025284"
      },
      "execution_count": null,
      "outputs": [
        {
          "output_type": "execute_result",
          "data": {
            "text/plain": [
              "(95, 59)"
            ]
          },
          "metadata": {},
          "execution_count": 160
        }
      ]
    },
    {
      "cell_type": "code",
      "source": [
        "# Je crée une table contenant les données pour la viz uniquement, après ajout de la colonne de jointure\n",
        "col_pour_viz.insert(0, 'identifiant_de_l_etablissement')\n",
        "df_v0_viz = df_v0[col_pour_viz]\n",
        "df_v0_viz.shape"
      ],
      "metadata": {
        "colab": {
          "base_uri": "https://localhost:8080/"
        },
        "id": "oQPziv7M59fz",
        "outputId": "20406f19-5deb-45ba-fc4d-8953b5090526"
      },
      "execution_count": null,
      "outputs": [
        {
          "output_type": "execute_result",
          "data": {
            "text/plain": [
              "(95, 48)"
            ]
          },
          "metadata": {},
          "execution_count": 161
        }
      ]
    },
    {
      "cell_type": "code",
      "source": [
        "# Puis, j'enlève ces colonnes du dataframe de travail\n",
        "df_v0 = df_v0.drop(columns=col_pour_viz)\n",
        "df_v0.shape"
      ],
      "metadata": {
        "colab": {
          "base_uri": "https://localhost:8080/"
        },
        "id": "Mwx-JUwx6kR-",
        "outputId": "366c546a-01c5-425a-ea87-02d1f10daf08"
      },
      "execution_count": null,
      "outputs": [
        {
          "output_type": "execute_result",
          "data": {
            "text/plain": [
              "(95, 12)"
            ]
          },
          "metadata": {},
          "execution_count": 162
        }
      ]
    },
    {
      "cell_type": "code",
      "source": [
        "df_v0.head()"
      ],
      "metadata": {
        "colab": {
          "base_uri": "https://localhost:8080/",
          "height": 206
        },
        "id": "MQ67kaxh63sT",
        "outputId": "1bef794a-10bf-451c-b30e-7bd34f49c11f"
      },
      "execution_count": null,
      "outputs": [
        {
          "output_type": "execute_result",
          "data": {
            "text/plain": [
              "      type_etablissement code_departement  nombre_d_eleves  \\\n",
              "4076               Ecole              093            105.0   \n",
              "7061             Collège              093            564.0   \n",
              "7372             Collège              093            529.0   \n",
              "8202               Lycée              093            206.0   \n",
              "26031              Ecole              093            235.0   \n",
              "\n",
              "                                                position  coordx_origine  \\\n",
              "4076   {'lon': 2.46454777095682, 'lat': 48.8587656835...        660713.8   \n",
              "7061   {'lon': 2.460121583402077, 'lat': 48.866585317...        660395.0   \n",
              "7372   {'lon': 2.4373637449796197, 'lat': 48.85568931...        658716.9   \n",
              "8202   {'lon': 2.456572927550601, 'lat': 48.859688430...        660129.4   \n",
              "26031  {'lon': 2.4757109501393106, 'lat': 48.86671397...        661538.7   \n",
              "\n",
              "       coordy_origine epsg_origine   latitude  longitude  \\\n",
              "4076        6862214.3    EPSG:2154  48.858766   2.464548   \n",
              "7061        6863086.0    EPSG:2154  48.866585   2.460122   \n",
              "7372        6861886.1    EPSG:2154  48.855689   2.437364   \n",
              "8202        6862320.9    EPSG:2154  48.859688   2.456573   \n",
              "26031       6863092.6    EPSG:2154  48.866714   2.475711   \n",
              "\n",
              "      precision_localisation date_ouverture  multi_uai  \n",
              "4076           Numéro de rue     1977-03-31          0  \n",
              "7061                BATIMENT     2014-09-01          0  \n",
              "7372           Numéro de rue     1970-03-25          0  \n",
              "8202           Numéro de rue     1979-09-01          0  \n",
              "26031          Numéro de rue     1965-05-01          0  "
            ],
            "text/html": [
              "\n",
              "  <div id=\"df-30fb7344-0525-45e0-83a4-8448a8a49c68\" class=\"colab-df-container\">\n",
              "    <div>\n",
              "<style scoped>\n",
              "    .dataframe tbody tr th:only-of-type {\n",
              "        vertical-align: middle;\n",
              "    }\n",
              "\n",
              "    .dataframe tbody tr th {\n",
              "        vertical-align: top;\n",
              "    }\n",
              "\n",
              "    .dataframe thead th {\n",
              "        text-align: right;\n",
              "    }\n",
              "</style>\n",
              "<table border=\"1\" class=\"dataframe\">\n",
              "  <thead>\n",
              "    <tr style=\"text-align: right;\">\n",
              "      <th></th>\n",
              "      <th>type_etablissement</th>\n",
              "      <th>code_departement</th>\n",
              "      <th>nombre_d_eleves</th>\n",
              "      <th>position</th>\n",
              "      <th>coordx_origine</th>\n",
              "      <th>coordy_origine</th>\n",
              "      <th>epsg_origine</th>\n",
              "      <th>latitude</th>\n",
              "      <th>longitude</th>\n",
              "      <th>precision_localisation</th>\n",
              "      <th>date_ouverture</th>\n",
              "      <th>multi_uai</th>\n",
              "    </tr>\n",
              "  </thead>\n",
              "  <tbody>\n",
              "    <tr>\n",
              "      <th>4076</th>\n",
              "      <td>Ecole</td>\n",
              "      <td>093</td>\n",
              "      <td>105.0</td>\n",
              "      <td>{'lon': 2.46454777095682, 'lat': 48.8587656835...</td>\n",
              "      <td>660713.8</td>\n",
              "      <td>6862214.3</td>\n",
              "      <td>EPSG:2154</td>\n",
              "      <td>48.858766</td>\n",
              "      <td>2.464548</td>\n",
              "      <td>Numéro de rue</td>\n",
              "      <td>1977-03-31</td>\n",
              "      <td>0</td>\n",
              "    </tr>\n",
              "    <tr>\n",
              "      <th>7061</th>\n",
              "      <td>Collège</td>\n",
              "      <td>093</td>\n",
              "      <td>564.0</td>\n",
              "      <td>{'lon': 2.460121583402077, 'lat': 48.866585317...</td>\n",
              "      <td>660395.0</td>\n",
              "      <td>6863086.0</td>\n",
              "      <td>EPSG:2154</td>\n",
              "      <td>48.866585</td>\n",
              "      <td>2.460122</td>\n",
              "      <td>BATIMENT</td>\n",
              "      <td>2014-09-01</td>\n",
              "      <td>0</td>\n",
              "    </tr>\n",
              "    <tr>\n",
              "      <th>7372</th>\n",
              "      <td>Collège</td>\n",
              "      <td>093</td>\n",
              "      <td>529.0</td>\n",
              "      <td>{'lon': 2.4373637449796197, 'lat': 48.85568931...</td>\n",
              "      <td>658716.9</td>\n",
              "      <td>6861886.1</td>\n",
              "      <td>EPSG:2154</td>\n",
              "      <td>48.855689</td>\n",
              "      <td>2.437364</td>\n",
              "      <td>Numéro de rue</td>\n",
              "      <td>1970-03-25</td>\n",
              "      <td>0</td>\n",
              "    </tr>\n",
              "    <tr>\n",
              "      <th>8202</th>\n",
              "      <td>Lycée</td>\n",
              "      <td>093</td>\n",
              "      <td>206.0</td>\n",
              "      <td>{'lon': 2.456572927550601, 'lat': 48.859688430...</td>\n",
              "      <td>660129.4</td>\n",
              "      <td>6862320.9</td>\n",
              "      <td>EPSG:2154</td>\n",
              "      <td>48.859688</td>\n",
              "      <td>2.456573</td>\n",
              "      <td>Numéro de rue</td>\n",
              "      <td>1979-09-01</td>\n",
              "      <td>0</td>\n",
              "    </tr>\n",
              "    <tr>\n",
              "      <th>26031</th>\n",
              "      <td>Ecole</td>\n",
              "      <td>093</td>\n",
              "      <td>235.0</td>\n",
              "      <td>{'lon': 2.4757109501393106, 'lat': 48.86671397...</td>\n",
              "      <td>661538.7</td>\n",
              "      <td>6863092.6</td>\n",
              "      <td>EPSG:2154</td>\n",
              "      <td>48.866714</td>\n",
              "      <td>2.475711</td>\n",
              "      <td>Numéro de rue</td>\n",
              "      <td>1965-05-01</td>\n",
              "      <td>0</td>\n",
              "    </tr>\n",
              "  </tbody>\n",
              "</table>\n",
              "</div>\n",
              "    <div class=\"colab-df-buttons\">\n",
              "\n",
              "  <div class=\"colab-df-container\">\n",
              "    <button class=\"colab-df-convert\" onclick=\"convertToInteractive('df-30fb7344-0525-45e0-83a4-8448a8a49c68')\"\n",
              "            title=\"Convert this dataframe to an interactive table.\"\n",
              "            style=\"display:none;\">\n",
              "\n",
              "  <svg xmlns=\"http://www.w3.org/2000/svg\" height=\"24px\" viewBox=\"0 -960 960 960\">\n",
              "    <path d=\"M120-120v-720h720v720H120Zm60-500h600v-160H180v160Zm220 220h160v-160H400v160Zm0 220h160v-160H400v160ZM180-400h160v-160H180v160Zm440 0h160v-160H620v160ZM180-180h160v-160H180v160Zm440 0h160v-160H620v160Z\"/>\n",
              "  </svg>\n",
              "    </button>\n",
              "\n",
              "  <style>\n",
              "    .colab-df-container {\n",
              "      display:flex;\n",
              "      gap: 12px;\n",
              "    }\n",
              "\n",
              "    .colab-df-convert {\n",
              "      background-color: #E8F0FE;\n",
              "      border: none;\n",
              "      border-radius: 50%;\n",
              "      cursor: pointer;\n",
              "      display: none;\n",
              "      fill: #1967D2;\n",
              "      height: 32px;\n",
              "      padding: 0 0 0 0;\n",
              "      width: 32px;\n",
              "    }\n",
              "\n",
              "    .colab-df-convert:hover {\n",
              "      background-color: #E2EBFA;\n",
              "      box-shadow: 0px 1px 2px rgba(60, 64, 67, 0.3), 0px 1px 3px 1px rgba(60, 64, 67, 0.15);\n",
              "      fill: #174EA6;\n",
              "    }\n",
              "\n",
              "    .colab-df-buttons div {\n",
              "      margin-bottom: 4px;\n",
              "    }\n",
              "\n",
              "    [theme=dark] .colab-df-convert {\n",
              "      background-color: #3B4455;\n",
              "      fill: #D2E3FC;\n",
              "    }\n",
              "\n",
              "    [theme=dark] .colab-df-convert:hover {\n",
              "      background-color: #434B5C;\n",
              "      box-shadow: 0px 1px 3px 1px rgba(0, 0, 0, 0.15);\n",
              "      filter: drop-shadow(0px 1px 2px rgba(0, 0, 0, 0.3));\n",
              "      fill: #FFFFFF;\n",
              "    }\n",
              "  </style>\n",
              "\n",
              "    <script>\n",
              "      const buttonEl =\n",
              "        document.querySelector('#df-30fb7344-0525-45e0-83a4-8448a8a49c68 button.colab-df-convert');\n",
              "      buttonEl.style.display =\n",
              "        google.colab.kernel.accessAllowed ? 'block' : 'none';\n",
              "\n",
              "      async function convertToInteractive(key) {\n",
              "        const element = document.querySelector('#df-30fb7344-0525-45e0-83a4-8448a8a49c68');\n",
              "        const dataTable =\n",
              "          await google.colab.kernel.invokeFunction('convertToInteractive',\n",
              "                                                    [key], {});\n",
              "        if (!dataTable) return;\n",
              "\n",
              "        const docLinkHtml = 'Like what you see? Visit the ' +\n",
              "          '<a target=\"_blank\" href=https://colab.research.google.com/notebooks/data_table.ipynb>data table notebook</a>'\n",
              "          + ' to learn more about interactive tables.';\n",
              "        element.innerHTML = '';\n",
              "        dataTable['output_type'] = 'display_data';\n",
              "        await google.colab.output.renderOutput(dataTable, element);\n",
              "        const docLink = document.createElement('div');\n",
              "        docLink.innerHTML = docLinkHtml;\n",
              "        element.appendChild(docLink);\n",
              "      }\n",
              "    </script>\n",
              "  </div>\n",
              "\n",
              "\n",
              "<div id=\"df-cfcbcb12-a840-46b2-95c1-2f6d6c90bf0a\">\n",
              "  <button class=\"colab-df-quickchart\" onclick=\"quickchart('df-cfcbcb12-a840-46b2-95c1-2f6d6c90bf0a')\"\n",
              "            title=\"Suggest charts\"\n",
              "            style=\"display:none;\">\n",
              "\n",
              "<svg xmlns=\"http://www.w3.org/2000/svg\" height=\"24px\"viewBox=\"0 0 24 24\"\n",
              "     width=\"24px\">\n",
              "    <g>\n",
              "        <path d=\"M19 3H5c-1.1 0-2 .9-2 2v14c0 1.1.9 2 2 2h14c1.1 0 2-.9 2-2V5c0-1.1-.9-2-2-2zM9 17H7v-7h2v7zm4 0h-2V7h2v10zm4 0h-2v-4h2v4z\"/>\n",
              "    </g>\n",
              "</svg>\n",
              "  </button>\n",
              "\n",
              "<style>\n",
              "  .colab-df-quickchart {\n",
              "      --bg-color: #E8F0FE;\n",
              "      --fill-color: #1967D2;\n",
              "      --hover-bg-color: #E2EBFA;\n",
              "      --hover-fill-color: #174EA6;\n",
              "      --disabled-fill-color: #AAA;\n",
              "      --disabled-bg-color: #DDD;\n",
              "  }\n",
              "\n",
              "  [theme=dark] .colab-df-quickchart {\n",
              "      --bg-color: #3B4455;\n",
              "      --fill-color: #D2E3FC;\n",
              "      --hover-bg-color: #434B5C;\n",
              "      --hover-fill-color: #FFFFFF;\n",
              "      --disabled-bg-color: #3B4455;\n",
              "      --disabled-fill-color: #666;\n",
              "  }\n",
              "\n",
              "  .colab-df-quickchart {\n",
              "    background-color: var(--bg-color);\n",
              "    border: none;\n",
              "    border-radius: 50%;\n",
              "    cursor: pointer;\n",
              "    display: none;\n",
              "    fill: var(--fill-color);\n",
              "    height: 32px;\n",
              "    padding: 0;\n",
              "    width: 32px;\n",
              "  }\n",
              "\n",
              "  .colab-df-quickchart:hover {\n",
              "    background-color: var(--hover-bg-color);\n",
              "    box-shadow: 0 1px 2px rgba(60, 64, 67, 0.3), 0 1px 3px 1px rgba(60, 64, 67, 0.15);\n",
              "    fill: var(--button-hover-fill-color);\n",
              "  }\n",
              "\n",
              "  .colab-df-quickchart-complete:disabled,\n",
              "  .colab-df-quickchart-complete:disabled:hover {\n",
              "    background-color: var(--disabled-bg-color);\n",
              "    fill: var(--disabled-fill-color);\n",
              "    box-shadow: none;\n",
              "  }\n",
              "\n",
              "  .colab-df-spinner {\n",
              "    border: 2px solid var(--fill-color);\n",
              "    border-color: transparent;\n",
              "    border-bottom-color: var(--fill-color);\n",
              "    animation:\n",
              "      spin 1s steps(1) infinite;\n",
              "  }\n",
              "\n",
              "  @keyframes spin {\n",
              "    0% {\n",
              "      border-color: transparent;\n",
              "      border-bottom-color: var(--fill-color);\n",
              "      border-left-color: var(--fill-color);\n",
              "    }\n",
              "    20% {\n",
              "      border-color: transparent;\n",
              "      border-left-color: var(--fill-color);\n",
              "      border-top-color: var(--fill-color);\n",
              "    }\n",
              "    30% {\n",
              "      border-color: transparent;\n",
              "      border-left-color: var(--fill-color);\n",
              "      border-top-color: var(--fill-color);\n",
              "      border-right-color: var(--fill-color);\n",
              "    }\n",
              "    40% {\n",
              "      border-color: transparent;\n",
              "      border-right-color: var(--fill-color);\n",
              "      border-top-color: var(--fill-color);\n",
              "    }\n",
              "    60% {\n",
              "      border-color: transparent;\n",
              "      border-right-color: var(--fill-color);\n",
              "    }\n",
              "    80% {\n",
              "      border-color: transparent;\n",
              "      border-right-color: var(--fill-color);\n",
              "      border-bottom-color: var(--fill-color);\n",
              "    }\n",
              "    90% {\n",
              "      border-color: transparent;\n",
              "      border-bottom-color: var(--fill-color);\n",
              "    }\n",
              "  }\n",
              "</style>\n",
              "\n",
              "  <script>\n",
              "    async function quickchart(key) {\n",
              "      const quickchartButtonEl =\n",
              "        document.querySelector('#' + key + ' button');\n",
              "      quickchartButtonEl.disabled = true;  // To prevent multiple clicks.\n",
              "      quickchartButtonEl.classList.add('colab-df-spinner');\n",
              "      try {\n",
              "        const charts = await google.colab.kernel.invokeFunction(\n",
              "            'suggestCharts', [key], {});\n",
              "      } catch (error) {\n",
              "        console.error('Error during call to suggestCharts:', error);\n",
              "      }\n",
              "      quickchartButtonEl.classList.remove('colab-df-spinner');\n",
              "      quickchartButtonEl.classList.add('colab-df-quickchart-complete');\n",
              "    }\n",
              "    (() => {\n",
              "      let quickchartButtonEl =\n",
              "        document.querySelector('#df-cfcbcb12-a840-46b2-95c1-2f6d6c90bf0a button');\n",
              "      quickchartButtonEl.style.display =\n",
              "        google.colab.kernel.accessAllowed ? 'block' : 'none';\n",
              "    })();\n",
              "  </script>\n",
              "</div>\n",
              "\n",
              "    </div>\n",
              "  </div>\n"
            ],
            "application/vnd.google.colaboratory.intrinsic+json": {
              "type": "dataframe",
              "variable_name": "df_v0",
              "repr_error": "0"
            }
          },
          "metadata": {},
          "execution_count": 163
        }
      ]
    },
    {
      "cell_type": "markdown",
      "source": [
        "## Données BD Topo"
      ],
      "metadata": {
        "id": "BQOJwboWCEme"
      }
    },
    {
      "cell_type": "markdown",
      "source": [
        "### Récupération des données\n",
        "Au format GeoPackage (.gpkg)"
      ],
      "metadata": {
        "id": "OqPaOPIBClY8"
      }
    },
    {
      "cell_type": "code",
      "source": [
        "# J'installe le module permettant de dézipper les données\n",
        "!pip install py7zr"
      ],
      "metadata": {
        "colab": {
          "base_uri": "https://localhost:8080/"
        },
        "id": "Do8JoStnErhM",
        "outputId": "2b2b68c7-0b4e-4226-cee3-06c58b517902"
      },
      "execution_count": null,
      "outputs": [
        {
          "output_type": "stream",
          "name": "stdout",
          "text": [
            "Collecting py7zr\n",
            "  Downloading py7zr-0.22.0-py3-none-any.whl.metadata (16 kB)\n",
            "Collecting texttable (from py7zr)\n",
            "  Downloading texttable-1.7.0-py2.py3-none-any.whl.metadata (9.8 kB)\n",
            "Collecting pycryptodomex>=3.16.0 (from py7zr)\n",
            "  Downloading pycryptodomex-3.21.0-cp36-abi3-manylinux_2_17_x86_64.manylinux2014_x86_64.whl.metadata (3.4 kB)\n",
            "Collecting pyzstd>=0.15.9 (from py7zr)\n",
            "  Downloading pyzstd-0.16.2-cp311-cp311-manylinux_2_17_x86_64.manylinux2014_x86_64.whl.metadata (2.4 kB)\n",
            "Collecting pyppmd<1.2.0,>=1.1.0 (from py7zr)\n",
            "  Downloading pyppmd-1.1.1-cp311-cp311-manylinux_2_17_x86_64.manylinux2014_x86_64.whl.metadata (5.5 kB)\n",
            "Collecting pybcj<1.1.0,>=1.0.0 (from py7zr)\n",
            "  Downloading pybcj-1.0.3-cp311-cp311-manylinux_2_17_x86_64.manylinux2014_x86_64.whl.metadata (3.9 kB)\n",
            "Collecting multivolumefile>=0.2.3 (from py7zr)\n",
            "  Downloading multivolumefile-0.2.3-py3-none-any.whl.metadata (6.3 kB)\n",
            "Collecting inflate64<1.1.0,>=1.0.0 (from py7zr)\n",
            "  Downloading inflate64-1.0.1-cp311-cp311-manylinux_2_17_x86_64.manylinux2014_x86_64.whl.metadata (3.8 kB)\n",
            "Collecting brotli>=1.1.0 (from py7zr)\n",
            "  Downloading Brotli-1.1.0-cp311-cp311-manylinux_2_17_x86_64.manylinux2014_x86_64.whl.metadata (5.5 kB)\n",
            "Requirement already satisfied: psutil in /usr/local/lib/python3.11/dist-packages (from py7zr) (5.9.5)\n",
            "Downloading py7zr-0.22.0-py3-none-any.whl (67 kB)\n",
            "\u001b[2K   \u001b[90m━━━━━━━━━━━━━━━━━━━━━━━━━━━━━━━━━━━━━━━━\u001b[0m \u001b[32m67.9/67.9 kB\u001b[0m \u001b[31m3.5 MB/s\u001b[0m eta \u001b[36m0:00:00\u001b[0m\n",
            "\u001b[?25hDownloading Brotli-1.1.0-cp311-cp311-manylinux_2_17_x86_64.manylinux2014_x86_64.whl (2.9 MB)\n",
            "\u001b[2K   \u001b[90m━━━━━━━━━━━━━━━━━━━━━━━━━━━━━━━━━━━━━━━━\u001b[0m \u001b[32m2.9/2.9 MB\u001b[0m \u001b[31m56.3 MB/s\u001b[0m eta \u001b[36m0:00:00\u001b[0m\n",
            "\u001b[?25hDownloading inflate64-1.0.1-cp311-cp311-manylinux_2_17_x86_64.manylinux2014_x86_64.whl (96 kB)\n",
            "\u001b[2K   \u001b[90m━━━━━━━━━━━━━━━━━━━━━━━━━━━━━━━━━━━━━━━━\u001b[0m \u001b[32m96.2/96.2 kB\u001b[0m \u001b[31m10.0 MB/s\u001b[0m eta \u001b[36m0:00:00\u001b[0m\n",
            "\u001b[?25hDownloading multivolumefile-0.2.3-py3-none-any.whl (17 kB)\n",
            "Downloading pybcj-1.0.3-cp311-cp311-manylinux_2_17_x86_64.manylinux2014_x86_64.whl (50 kB)\n",
            "\u001b[2K   \u001b[90m━━━━━━━━━━━━━━━━━━━━━━━━━━━━━━━━━━━━━━━━\u001b[0m \u001b[32m50.6/50.6 kB\u001b[0m \u001b[31m5.1 MB/s\u001b[0m eta \u001b[36m0:00:00\u001b[0m\n",
            "\u001b[?25hDownloading pycryptodomex-3.21.0-cp36-abi3-manylinux_2_17_x86_64.manylinux2014_x86_64.whl (2.3 MB)\n",
            "\u001b[2K   \u001b[90m━━━━━━━━━━━━━━━━━━━━━━━━━━━━━━━━━━━━━━━━\u001b[0m \u001b[32m2.3/2.3 MB\u001b[0m \u001b[31m90.0 MB/s\u001b[0m eta \u001b[36m0:00:00\u001b[0m\n",
            "\u001b[?25hDownloading pyppmd-1.1.1-cp311-cp311-manylinux_2_17_x86_64.manylinux2014_x86_64.whl (141 kB)\n",
            "\u001b[2K   \u001b[90m━━━━━━━━━━━━━━━━━━━━━━━━━━━━━━━━━━━━━━━━\u001b[0m \u001b[32m141.3/141.3 kB\u001b[0m \u001b[31m13.7 MB/s\u001b[0m eta \u001b[36m0:00:00\u001b[0m\n",
            "\u001b[?25hDownloading pyzstd-0.16.2-cp311-cp311-manylinux_2_17_x86_64.manylinux2014_x86_64.whl (413 kB)\n",
            "\u001b[2K   \u001b[90m━━━━━━━━━━━━━━━━━━━━━━━━━━━━━━━━━━━━━━━━\u001b[0m \u001b[32m413.7/413.7 kB\u001b[0m \u001b[31m37.2 MB/s\u001b[0m eta \u001b[36m0:00:00\u001b[0m\n",
            "\u001b[?25hDownloading texttable-1.7.0-py2.py3-none-any.whl (10 kB)\n",
            "Installing collected packages: texttable, brotli, pyzstd, pyppmd, pycryptodomex, pybcj, multivolumefile, inflate64, py7zr\n",
            "Successfully installed brotli-1.1.0 inflate64-1.0.1 multivolumefile-0.2.3 py7zr-0.22.0 pybcj-1.0.3 pycryptodomex-3.21.0 pyppmd-1.1.1 pyzstd-0.16.2 texttable-1.7.0\n"
          ]
        }
      ]
    },
    {
      "cell_type": "code",
      "source": [
        "import py7zr"
      ],
      "metadata": {
        "id": "8zlbs0b_E4Fr"
      },
      "execution_count": null,
      "outputs": []
    },
    {
      "cell_type": "code",
      "source": [
        "# Définition du lien pour les données du 93\n",
        "url = 'https://data.geopf.fr/telechargement/download/BDTOPO/BDTOPO_3-4_TOUSTHEMES_GPKG_LAMB93_D093_2024-12-15/BDTOPO_3-4_TOUSTHEMES_GPKG_LAMB93_D093_2024-12-15.7z'\n",
        "\n",
        "# Récupération des données\n",
        "response = requests.get(url)\n",
        "\n",
        "# Vérification de la bonne récupération\n",
        "if response.status_code == 200:\n",
        "  print(\"Données téléchargées !\")\n",
        "  \"\"\"\n",
        "    data = response.json()\n",
        "    print(\"Données disponibles !\\n\")\n",
        "    # Création du jeu de données\n",
        "    df = pd.DataFrame(data)\n",
        "    print(f\"Le dataframe contient {df.shape[0]} lignes et {df.shape[1]} colonnes.\")\n",
        "  \"\"\"\n",
        "else:\n",
        "  print(f\"Erreur: {response.status_code}\")"
      ],
      "metadata": {
        "colab": {
          "base_uri": "https://localhost:8080/"
        },
        "id": "A3VufFzCDy7t",
        "outputId": "da145750-c170-46c5-8264-abf024637579"
      },
      "execution_count": null,
      "outputs": [
        {
          "output_type": "stream",
          "name": "stdout",
          "text": [
            "Données téléchargées !\n"
          ]
        }
      ]
    },
    {
      "cell_type": "code",
      "source": [
        "# Sauvegarde localement\n",
        "with open('BDTOPO_3-4_TOUSTHEMES_GPKG_LAMB93_D093_2024-12-15.7z', 'wb') as file:\n",
        "  file.write(response.content)"
      ],
      "metadata": {
        "id": "32oQ3da-GqRd"
      },
      "execution_count": null,
      "outputs": []
    },
    {
      "cell_type": "code",
      "source": [
        "# Lister le contenu\n",
        "with py7zr.SevenZipFile('BDTOPO_3-4_TOUSTHEMES_GPKG_LAMB93_D093_2024-12-15.7z',\n",
        "                        mode='r') as z:\n",
        "  all_files = z.namelist()\n",
        "  print(all_files)"
      ],
      "metadata": {
        "colab": {
          "base_uri": "https://localhost:8080/"
        },
        "id": "zSCkTHUA2zZv",
        "outputId": "a7fc7d78-a4ea-4c17-e2f2-feed359c4945"
      },
      "execution_count": null,
      "outputs": [
        {
          "output_type": "stream",
          "name": "stdout",
          "text": [
            "['BDTOPO_3-4_TOUSTHEMES_GPKG_LAMB93_D093_2024-12-15', 'BDTOPO_3-4_TOUSTHEMES_GPKG_LAMB93_D093_2024-12-15/BDTOPO', 'BDTOPO_3-4_TOUSTHEMES_GPKG_LAMB93_D093_2024-12-15/BDTOPO/1_DONNEES_LIVRAISON_2024-12-00134', 'BDTOPO_3-4_TOUSTHEMES_GPKG_LAMB93_D093_2024-12-15/BDTOPO/1_DONNEES_LIVRAISON_2024-12-00134/BDT_3-4_GPKG_LAMB93_D093-ED2024-12-15', 'BDTOPO_3-4_TOUSTHEMES_GPKG_LAMB93_D093_2024-12-15/BDTOPO/2_METADONNEES_LIVRAISON_2024-12-00134', 'BDTOPO_3-4_TOUSTHEMES_GPKG_LAMB93_D093_2024-12-15/BDTOPO/2_METADONNEES_LIVRAISON_2024-12-00134/BDT_3-4_GPKG_LAMB93_D093-ED2024-12-15', 'BDTOPO_3-4_TOUSTHEMES_GPKG_LAMB93_D093_2024-12-15/BDTOPO/3_SUPPLEMENTS_LIVRAISON_2024-12-00134', 'BDTOPO_3-4_TOUSTHEMES_GPKG_LAMB93_D093_2024-12-15/BDTOPO/3_SUPPLEMENTS_LIVRAISON_2024-12-00134/BDT_3-4_GPKG_LAMB93_D093-ED2024-12-15', 'BDTOPO_3-4_TOUSTHEMES_GPKG_LAMB93_D093_2024-12-15/BDTOPO/3_SUPPLEMENTS_LIVRAISON_2024-12-00134/BDT_3-4_GPKG_LAMB93_D093-ED2024-12-15/EMPRISE', 'BDTOPO_3-4_TOUSTHEMES_GPKG_LAMB93_D093_2024-12-15/BDTOPO/1_DONNEES_LIVRAISON_2024-12-00134/BDT_3-4_GPKG_LAMB93_D093-ED2024-12-15/BDT_3-4_GPKG_LAMB93_D093-ED2024-12-15.gpkg', 'BDTOPO_3-4_TOUSTHEMES_GPKG_LAMB93_D093_2024-12-15/BDTOPO/2_METADONNEES_LIVRAISON_2024-12-00134/BDT_3-4_GPKG_LAMB93_D093-ED2024-12-15/IGNF_BDTOPO_3-4_GPKG_LAMB93_D093-ED2024-12-15.html', 'BDTOPO_3-4_TOUSTHEMES_GPKG_LAMB93_D093_2024-12-15/BDTOPO/2_METADONNEES_LIVRAISON_2024-12-00134/BDT_3-4_GPKG_LAMB93_D093-ED2024-12-15/IGNF_BDTOPO_3-4_GPKG_LAMB93_D093-ED2024-12-15.xml', 'BDTOPO_3-4_TOUSTHEMES_GPKG_LAMB93_D093_2024-12-15/BDTOPO/3_SUPPLEMENTS_LIVRAISON_2024-12-00134/BDT_3-4_GPKG_LAMB93_D093-ED2024-12-15/EMPRISE/EMPRISE.cpg', 'BDTOPO_3-4_TOUSTHEMES_GPKG_LAMB93_D093_2024-12-15/BDTOPO/3_SUPPLEMENTS_LIVRAISON_2024-12-00134/BDT_3-4_GPKG_LAMB93_D093-ED2024-12-15/EMPRISE/EMPRISE.dbf', 'BDTOPO_3-4_TOUSTHEMES_GPKG_LAMB93_D093_2024-12-15/BDTOPO/3_SUPPLEMENTS_LIVRAISON_2024-12-00134/BDT_3-4_GPKG_LAMB93_D093-ED2024-12-15/EMPRISE/EMPRISE.prj', 'BDTOPO_3-4_TOUSTHEMES_GPKG_LAMB93_D093_2024-12-15/BDTOPO/3_SUPPLEMENTS_LIVRAISON_2024-12-00134/BDT_3-4_GPKG_LAMB93_D093-ED2024-12-15/EMPRISE/EMPRISE.shp', 'BDTOPO_3-4_TOUSTHEMES_GPKG_LAMB93_D093_2024-12-15/BDTOPO/3_SUPPLEMENTS_LIVRAISON_2024-12-00134/BDT_3-4_GPKG_LAMB93_D093-ED2024-12-15/EMPRISE/EMPRISE.shx', 'BDTOPO_3-4_TOUSTHEMES_GPKG_LAMB93_D093_2024-12-15/BDTOPO/LISEZ-MOI.pdf']\n"
          ]
        }
      ]
    },
    {
      "cell_type": "code",
      "source": [
        "# Extraction des données\n",
        "a_extraire = 'BDTOPO_3-4_TOUSTHEMES_GPKG_LAMB93_D093_2024-12-15/BDTOPO/1_DONNEES_LIVRAISON_2024-12-00134/BDT_3-4_GPKG_LAMB93_D093-ED2024-12-15/BDT_3-4_GPKG_LAMB93_D093-ED2024-12-15.gpkg'\n",
        "\n",
        "with py7zr.SevenZipFile('BDTOPO_3-4_TOUSTHEMES_GPKG_LAMB93_D093_2024-12-15.7z',\n",
        "                        mode='r') as z:\n",
        "  #z.extractall()\n",
        "  z.extract(a_extraire)"
      ],
      "metadata": {
        "id": "6jFwTTbQHHuk"
      },
      "execution_count": null,
      "outputs": []
    },
    {
      "cell_type": "code",
      "source": [
        "# Installation de GeoPandas pour lire les données\n",
        "!pip install geopandas"
      ],
      "metadata": {
        "colab": {
          "base_uri": "https://localhost:8080/"
        },
        "id": "L6dlgek0IrBl",
        "outputId": "713dde5d-ccad-415d-b24e-9c95496b8481"
      },
      "execution_count": null,
      "outputs": [
        {
          "output_type": "stream",
          "name": "stdout",
          "text": [
            "Requirement already satisfied: geopandas in /usr/local/lib/python3.11/dist-packages (1.0.1)\n",
            "Requirement already satisfied: numpy>=1.22 in /usr/local/lib/python3.11/dist-packages (from geopandas) (1.26.4)\n",
            "Requirement already satisfied: pyogrio>=0.7.2 in /usr/local/lib/python3.11/dist-packages (from geopandas) (0.10.0)\n",
            "Requirement already satisfied: packaging in /usr/local/lib/python3.11/dist-packages (from geopandas) (24.2)\n",
            "Requirement already satisfied: pandas>=1.4.0 in /usr/local/lib/python3.11/dist-packages (from geopandas) (2.2.2)\n",
            "Requirement already satisfied: pyproj>=3.3.0 in /usr/local/lib/python3.11/dist-packages (from geopandas) (3.7.0)\n",
            "Requirement already satisfied: shapely>=2.0.0 in /usr/local/lib/python3.11/dist-packages (from geopandas) (2.0.6)\n",
            "Requirement already satisfied: python-dateutil>=2.8.2 in /usr/local/lib/python3.11/dist-packages (from pandas>=1.4.0->geopandas) (2.8.2)\n",
            "Requirement already satisfied: pytz>=2020.1 in /usr/local/lib/python3.11/dist-packages (from pandas>=1.4.0->geopandas) (2024.2)\n",
            "Requirement already satisfied: tzdata>=2022.7 in /usr/local/lib/python3.11/dist-packages (from pandas>=1.4.0->geopandas) (2025.1)\n",
            "Requirement already satisfied: certifi in /usr/local/lib/python3.11/dist-packages (from pyogrio>=0.7.2->geopandas) (2024.12.14)\n",
            "Requirement already satisfied: six>=1.5 in /usr/local/lib/python3.11/dist-packages (from python-dateutil>=2.8.2->pandas>=1.4.0->geopandas) (1.17.0)\n"
          ]
        }
      ]
    },
    {
      "cell_type": "code",
      "source": [
        "#Import de GeoPandas pour lire les données\n",
        "import geopandas as gpd"
      ],
      "metadata": {
        "id": "iha3U_J84nuG"
      },
      "execution_count": null,
      "outputs": []
    },
    {
      "cell_type": "code",
      "source": [
        "# Lecture du fichier\n",
        "#file_path = '/content/BDTOPO_3-4_TOUSTHEMES_GPKG_LAMB93_D093_2024-12-15/BDTOPO/1_DONNEES_LIVRAISON_2024-12-00134/BDT_3-4_GPKG_LAMB93_D093-ED2024-12-15/BDT_3-4_GPKG_LAMB93_D093-ED2024-12-15.gpkg'\n",
        "file_path = '/content/BDT_3-4_GPKG_LAMB93_D093-ED2024-12-15/BDT_3-4_GPKG_LAMB93_D093-ED2024-12-15.gpkg'  # Replace with the path to your GPKG file\n",
        "gdf = gpd.read_file(file_path)"
      ],
      "metadata": {
        "colab": {
          "base_uri": "https://localhost:8080/"
        },
        "id": "UilZ7pvrIxaZ",
        "outputId": "fb0067a3-b6fd-4fdc-95ef-bf6d67dbe205"
      },
      "execution_count": null,
      "outputs": [
        {
          "output_type": "stream",
          "name": "stderr",
          "text": [
            "/usr/local/lib/python3.11/dist-packages/pyogrio/raw.py:198: RuntimeWarning: Field format 'character varying' not supported\n",
            "  return ogr_read(\n",
            "/usr/local/lib/python3.11/dist-packages/pyogrio/raw.py:198: RuntimeWarning: Field format 'character varying(256)' not supported\n",
            "  return ogr_read(\n",
            "/usr/local/lib/python3.11/dist-packages/pyogrio/raw.py:198: RuntimeWarning: Field format 'character varying(30)' not supported\n",
            "  return ogr_read(\n",
            "/usr/local/lib/python3.11/dist-packages/pyogrio/raw.py:198: RuntimeWarning: Field format 'timestamp with time zone' not supported\n",
            "  return ogr_read(\n",
            "/usr/local/lib/python3.11/dist-packages/pyogrio/geopandas.py:265: UserWarning: More than one layer found in 'BDT_3-4_GPKG_LAMB93_D093-ED2024-12-15.gpkg': 'troncon_de_route' (default), 'route_numerotee_ou_nommee', 'itineraire_autre', 'troncon_de_voie_ferree', 'equipement_de_transport', 'piste_d_aerodrome', 'aerodrome', 'point_de_repere', 'non_communication', 'point_du_reseau', 'voie_ferree_nommee', 'toponymie_transport', 'batiment', 'cimetiere', 'construction_lineaire', 'construction_ponctuelle', 'construction_surfacique', 'reservoir', 'ligne_orographique', 'pylone', 'terrain_de_sport', 'toponymie_bati', 'cours_d_eau', 'troncon_hydrographique', 'bassin_versant_topographique', 'plan_d_eau', 'surface_hydrographique', 'noeud_hydrographique', 'detail_hydrographique', 'toponymie_hydrographie', 'zone_d_habitation', 'lieu_dit_non_habite', 'detail_orographique', 'toponymie_lieux_nommes', 'canalisation', 'ligne_electrique', 'poste_de_transformation', 'erp', 'zone_d_activite_ou_d_interet', 'toponymie_services_et_activites', 'voie_nommee', 'parc_ou_reserve', 'foret_publique', 'toponymie_zones_reglementees', 'haie', 'zone_de_vegetation', 'arrondissement', 'arrondissement_municipal', 'commune', 'epci', 'collectivite_territoriale', 'departement', 'region', 'adresse_ban', 'batiment_rnb_lien_bdtopo', 'lien_adresse_vers_bdtopo', 'section_de_points_de_repere', 'info_metadonnees', 'metadonnees_lot', 'metadonnees_theme', 'layer_styles'. Specify layer parameter to avoid this warning.\n",
            "  result = read_func(\n"
          ]
        }
      ]
    },
    {
      "cell_type": "code",
      "source": [
        "gdf.head()"
      ],
      "metadata": {
        "colab": {
          "base_uri": "https://localhost:8080/",
          "height": 603
        },
        "id": "qH-qZSlLI4z3",
        "outputId": "2991a391-fab4-4fd5-b931-2956d064c76f"
      },
      "execution_count": null,
      "outputs": [
        {
          "output_type": "execute_result",
          "data": {
            "text/plain": [
              "                     cleabs              nature nom_collaboratif_gauche  \\\n",
              "0  TRONROUT0000000000516196  Route à 1 chaussée    R ALEXANDRE ANTONINI   \n",
              "1  TRONROUT0000000004043446  Route à 1 chaussée             AV VOLTAIRE   \n",
              "2  TRONROUT0000000004039875  Route à 1 chaussée       R DU PUITS GRENET   \n",
              "3  TRONROUT0000000004037615  Route à 1 chaussée       R DU PUITS GRENET   \n",
              "4  TRONROUT0000000004039876  Route à 1 chaussée       R DU PUITS GRENET   \n",
              "\n",
              "  nom_collaboratif_droite importance  fictif position_par_rapport_au_sol  \\\n",
              "0    R ALEXANDRE ANTONINI          5   False                           0   \n",
              "1             AV VOLTAIRE          5   False                           0   \n",
              "2       R DU PUITS GRENET          4   False                           0   \n",
              "3       R DU PUITS GRENET          5   False                           0   \n",
              "4       R DU PUITS GRENET          5   False                           0   \n",
              "\n",
              "  etat_de_l_objet           date_creation       date_modification  ...  \\\n",
              "0      En service 2006-05-22 13:39:36.546 2023-09-23 17:51:40.627  ...   \n",
              "1      En service 2006-05-22 16:59:15.638 2024-07-21 22:19:18.425  ...   \n",
              "2      En service 2006-05-22 16:59:15.638 2024-07-14 22:29:21.839  ...   \n",
              "3      En service 2006-05-22 16:59:15.638 2024-07-14 22:29:21.839  ...   \n",
              "4      En service 2006-05-22 16:59:15.638 2024-07-14 22:29:21.839  ...   \n",
              "\n",
              "  pente_maximale_dfci piste_dfci piste_dfci_debroussaillee piste_dfci_fosses  \\\n",
              "0                 NaN        NaN                       NaN              None   \n",
              "1                 NaN        NaN                       NaN              None   \n",
              "2                 NaN        NaN                       NaN              None   \n",
              "3                 NaN        NaN                       NaN              None   \n",
              "4                 NaN        NaN                       NaN              None   \n",
              "\n",
              "  sens_de_circulation_dfci  tout_terrain_dfci vitesse_moyenne_dfci  \\\n",
              "0                     None                NaN                  NaN   \n",
              "1                     None                NaN                  NaN   \n",
              "2                     None                NaN                  NaN   \n",
              "3                     None                NaN                  NaN   \n",
              "4                     None                NaN                  NaN   \n",
              "\n",
              "   zone_de_croisement_dfci  categorie_dfci  \\\n",
              "0                     None            None   \n",
              "1                     None            None   \n",
              "2                     None            None   \n",
              "3                     None            None   \n",
              "4                     None            None   \n",
              "\n",
              "                                            geometry  \n",
              "0  LINESTRING Z (649077.7 6867733.1 31, 649093.2 ...  \n",
              "1  LINESTRING Z (648493.1 6875942.3 42.8, 648548....  \n",
              "2  LINESTRING Z (649126.8 6876770.5 56, 649122.3 ...  \n",
              "3  LINESTRING Z (648953 6876850.2 50, 648951 6876...  \n",
              "4  LINESTRING Z (649025.4 6876762.1 49.9, 649027....  \n",
              "\n",
              "[5 rows x 84 columns]"
            ],
            "text/html": [
              "\n",
              "  <div id=\"df-c4f29756-9484-452e-aede-0c806fa1ee6c\" class=\"colab-df-container\">\n",
              "    <div>\n",
              "<style scoped>\n",
              "    .dataframe tbody tr th:only-of-type {\n",
              "        vertical-align: middle;\n",
              "    }\n",
              "\n",
              "    .dataframe tbody tr th {\n",
              "        vertical-align: top;\n",
              "    }\n",
              "\n",
              "    .dataframe thead th {\n",
              "        text-align: right;\n",
              "    }\n",
              "</style>\n",
              "<table border=\"1\" class=\"dataframe\">\n",
              "  <thead>\n",
              "    <tr style=\"text-align: right;\">\n",
              "      <th></th>\n",
              "      <th>cleabs</th>\n",
              "      <th>nature</th>\n",
              "      <th>nom_collaboratif_gauche</th>\n",
              "      <th>nom_collaboratif_droite</th>\n",
              "      <th>importance</th>\n",
              "      <th>fictif</th>\n",
              "      <th>position_par_rapport_au_sol</th>\n",
              "      <th>etat_de_l_objet</th>\n",
              "      <th>date_creation</th>\n",
              "      <th>date_modification</th>\n",
              "      <th>...</th>\n",
              "      <th>pente_maximale_dfci</th>\n",
              "      <th>piste_dfci</th>\n",
              "      <th>piste_dfci_debroussaillee</th>\n",
              "      <th>piste_dfci_fosses</th>\n",
              "      <th>sens_de_circulation_dfci</th>\n",
              "      <th>tout_terrain_dfci</th>\n",
              "      <th>vitesse_moyenne_dfci</th>\n",
              "      <th>zone_de_croisement_dfci</th>\n",
              "      <th>categorie_dfci</th>\n",
              "      <th>geometry</th>\n",
              "    </tr>\n",
              "  </thead>\n",
              "  <tbody>\n",
              "    <tr>\n",
              "      <th>0</th>\n",
              "      <td>TRONROUT0000000000516196</td>\n",
              "      <td>Route à 1 chaussée</td>\n",
              "      <td>R ALEXANDRE ANTONINI</td>\n",
              "      <td>R ALEXANDRE ANTONINI</td>\n",
              "      <td>5</td>\n",
              "      <td>False</td>\n",
              "      <td>0</td>\n",
              "      <td>En service</td>\n",
              "      <td>2006-05-22 13:39:36.546</td>\n",
              "      <td>2023-09-23 17:51:40.627</td>\n",
              "      <td>...</td>\n",
              "      <td>NaN</td>\n",
              "      <td>NaN</td>\n",
              "      <td>NaN</td>\n",
              "      <td>None</td>\n",
              "      <td>None</td>\n",
              "      <td>NaN</td>\n",
              "      <td>NaN</td>\n",
              "      <td>None</td>\n",
              "      <td>None</td>\n",
              "      <td>LINESTRING Z (649077.7 6867733.1 31, 649093.2 ...</td>\n",
              "    </tr>\n",
              "    <tr>\n",
              "      <th>1</th>\n",
              "      <td>TRONROUT0000000004043446</td>\n",
              "      <td>Route à 1 chaussée</td>\n",
              "      <td>AV VOLTAIRE</td>\n",
              "      <td>AV VOLTAIRE</td>\n",
              "      <td>5</td>\n",
              "      <td>False</td>\n",
              "      <td>0</td>\n",
              "      <td>En service</td>\n",
              "      <td>2006-05-22 16:59:15.638</td>\n",
              "      <td>2024-07-21 22:19:18.425</td>\n",
              "      <td>...</td>\n",
              "      <td>NaN</td>\n",
              "      <td>NaN</td>\n",
              "      <td>NaN</td>\n",
              "      <td>None</td>\n",
              "      <td>None</td>\n",
              "      <td>NaN</td>\n",
              "      <td>NaN</td>\n",
              "      <td>None</td>\n",
              "      <td>None</td>\n",
              "      <td>LINESTRING Z (648493.1 6875942.3 42.8, 648548....</td>\n",
              "    </tr>\n",
              "    <tr>\n",
              "      <th>2</th>\n",
              "      <td>TRONROUT0000000004039875</td>\n",
              "      <td>Route à 1 chaussée</td>\n",
              "      <td>R DU PUITS GRENET</td>\n",
              "      <td>R DU PUITS GRENET</td>\n",
              "      <td>4</td>\n",
              "      <td>False</td>\n",
              "      <td>0</td>\n",
              "      <td>En service</td>\n",
              "      <td>2006-05-22 16:59:15.638</td>\n",
              "      <td>2024-07-14 22:29:21.839</td>\n",
              "      <td>...</td>\n",
              "      <td>NaN</td>\n",
              "      <td>NaN</td>\n",
              "      <td>NaN</td>\n",
              "      <td>None</td>\n",
              "      <td>None</td>\n",
              "      <td>NaN</td>\n",
              "      <td>NaN</td>\n",
              "      <td>None</td>\n",
              "      <td>None</td>\n",
              "      <td>LINESTRING Z (649126.8 6876770.5 56, 649122.3 ...</td>\n",
              "    </tr>\n",
              "    <tr>\n",
              "      <th>3</th>\n",
              "      <td>TRONROUT0000000004037615</td>\n",
              "      <td>Route à 1 chaussée</td>\n",
              "      <td>R DU PUITS GRENET</td>\n",
              "      <td>R DU PUITS GRENET</td>\n",
              "      <td>5</td>\n",
              "      <td>False</td>\n",
              "      <td>0</td>\n",
              "      <td>En service</td>\n",
              "      <td>2006-05-22 16:59:15.638</td>\n",
              "      <td>2024-07-14 22:29:21.839</td>\n",
              "      <td>...</td>\n",
              "      <td>NaN</td>\n",
              "      <td>NaN</td>\n",
              "      <td>NaN</td>\n",
              "      <td>None</td>\n",
              "      <td>None</td>\n",
              "      <td>NaN</td>\n",
              "      <td>NaN</td>\n",
              "      <td>None</td>\n",
              "      <td>None</td>\n",
              "      <td>LINESTRING Z (648953 6876850.2 50, 648951 6876...</td>\n",
              "    </tr>\n",
              "    <tr>\n",
              "      <th>4</th>\n",
              "      <td>TRONROUT0000000004039876</td>\n",
              "      <td>Route à 1 chaussée</td>\n",
              "      <td>R DU PUITS GRENET</td>\n",
              "      <td>R DU PUITS GRENET</td>\n",
              "      <td>5</td>\n",
              "      <td>False</td>\n",
              "      <td>0</td>\n",
              "      <td>En service</td>\n",
              "      <td>2006-05-22 16:59:15.638</td>\n",
              "      <td>2024-07-14 22:29:21.839</td>\n",
              "      <td>...</td>\n",
              "      <td>NaN</td>\n",
              "      <td>NaN</td>\n",
              "      <td>NaN</td>\n",
              "      <td>None</td>\n",
              "      <td>None</td>\n",
              "      <td>NaN</td>\n",
              "      <td>NaN</td>\n",
              "      <td>None</td>\n",
              "      <td>None</td>\n",
              "      <td>LINESTRING Z (649025.4 6876762.1 49.9, 649027....</td>\n",
              "    </tr>\n",
              "  </tbody>\n",
              "</table>\n",
              "<p>5 rows × 84 columns</p>\n",
              "</div>\n",
              "    <div class=\"colab-df-buttons\">\n",
              "\n",
              "  <div class=\"colab-df-container\">\n",
              "    <button class=\"colab-df-convert\" onclick=\"convertToInteractive('df-c4f29756-9484-452e-aede-0c806fa1ee6c')\"\n",
              "            title=\"Convert this dataframe to an interactive table.\"\n",
              "            style=\"display:none;\">\n",
              "\n",
              "  <svg xmlns=\"http://www.w3.org/2000/svg\" height=\"24px\" viewBox=\"0 -960 960 960\">\n",
              "    <path d=\"M120-120v-720h720v720H120Zm60-500h600v-160H180v160Zm220 220h160v-160H400v160Zm0 220h160v-160H400v160ZM180-400h160v-160H180v160Zm440 0h160v-160H620v160ZM180-180h160v-160H180v160Zm440 0h160v-160H620v160Z\"/>\n",
              "  </svg>\n",
              "    </button>\n",
              "\n",
              "  <style>\n",
              "    .colab-df-container {\n",
              "      display:flex;\n",
              "      gap: 12px;\n",
              "    }\n",
              "\n",
              "    .colab-df-convert {\n",
              "      background-color: #E8F0FE;\n",
              "      border: none;\n",
              "      border-radius: 50%;\n",
              "      cursor: pointer;\n",
              "      display: none;\n",
              "      fill: #1967D2;\n",
              "      height: 32px;\n",
              "      padding: 0 0 0 0;\n",
              "      width: 32px;\n",
              "    }\n",
              "\n",
              "    .colab-df-convert:hover {\n",
              "      background-color: #E2EBFA;\n",
              "      box-shadow: 0px 1px 2px rgba(60, 64, 67, 0.3), 0px 1px 3px 1px rgba(60, 64, 67, 0.15);\n",
              "      fill: #174EA6;\n",
              "    }\n",
              "\n",
              "    .colab-df-buttons div {\n",
              "      margin-bottom: 4px;\n",
              "    }\n",
              "\n",
              "    [theme=dark] .colab-df-convert {\n",
              "      background-color: #3B4455;\n",
              "      fill: #D2E3FC;\n",
              "    }\n",
              "\n",
              "    [theme=dark] .colab-df-convert:hover {\n",
              "      background-color: #434B5C;\n",
              "      box-shadow: 0px 1px 3px 1px rgba(0, 0, 0, 0.15);\n",
              "      filter: drop-shadow(0px 1px 2px rgba(0, 0, 0, 0.3));\n",
              "      fill: #FFFFFF;\n",
              "    }\n",
              "  </style>\n",
              "\n",
              "    <script>\n",
              "      const buttonEl =\n",
              "        document.querySelector('#df-c4f29756-9484-452e-aede-0c806fa1ee6c button.colab-df-convert');\n",
              "      buttonEl.style.display =\n",
              "        google.colab.kernel.accessAllowed ? 'block' : 'none';\n",
              "\n",
              "      async function convertToInteractive(key) {\n",
              "        const element = document.querySelector('#df-c4f29756-9484-452e-aede-0c806fa1ee6c');\n",
              "        const dataTable =\n",
              "          await google.colab.kernel.invokeFunction('convertToInteractive',\n",
              "                                                    [key], {});\n",
              "        if (!dataTable) return;\n",
              "\n",
              "        const docLinkHtml = 'Like what you see? Visit the ' +\n",
              "          '<a target=\"_blank\" href=https://colab.research.google.com/notebooks/data_table.ipynb>data table notebook</a>'\n",
              "          + ' to learn more about interactive tables.';\n",
              "        element.innerHTML = '';\n",
              "        dataTable['output_type'] = 'display_data';\n",
              "        await google.colab.output.renderOutput(dataTable, element);\n",
              "        const docLink = document.createElement('div');\n",
              "        docLink.innerHTML = docLinkHtml;\n",
              "        element.appendChild(docLink);\n",
              "      }\n",
              "    </script>\n",
              "  </div>\n",
              "\n",
              "\n",
              "<div id=\"df-de49de52-254c-4658-8567-f1a97bf00d9a\">\n",
              "  <button class=\"colab-df-quickchart\" onclick=\"quickchart('df-de49de52-254c-4658-8567-f1a97bf00d9a')\"\n",
              "            title=\"Suggest charts\"\n",
              "            style=\"display:none;\">\n",
              "\n",
              "<svg xmlns=\"http://www.w3.org/2000/svg\" height=\"24px\"viewBox=\"0 0 24 24\"\n",
              "     width=\"24px\">\n",
              "    <g>\n",
              "        <path d=\"M19 3H5c-1.1 0-2 .9-2 2v14c0 1.1.9 2 2 2h14c1.1 0 2-.9 2-2V5c0-1.1-.9-2-2-2zM9 17H7v-7h2v7zm4 0h-2V7h2v10zm4 0h-2v-4h2v4z\"/>\n",
              "    </g>\n",
              "</svg>\n",
              "  </button>\n",
              "\n",
              "<style>\n",
              "  .colab-df-quickchart {\n",
              "      --bg-color: #E8F0FE;\n",
              "      --fill-color: #1967D2;\n",
              "      --hover-bg-color: #E2EBFA;\n",
              "      --hover-fill-color: #174EA6;\n",
              "      --disabled-fill-color: #AAA;\n",
              "      --disabled-bg-color: #DDD;\n",
              "  }\n",
              "\n",
              "  [theme=dark] .colab-df-quickchart {\n",
              "      --bg-color: #3B4455;\n",
              "      --fill-color: #D2E3FC;\n",
              "      --hover-bg-color: #434B5C;\n",
              "      --hover-fill-color: #FFFFFF;\n",
              "      --disabled-bg-color: #3B4455;\n",
              "      --disabled-fill-color: #666;\n",
              "  }\n",
              "\n",
              "  .colab-df-quickchart {\n",
              "    background-color: var(--bg-color);\n",
              "    border: none;\n",
              "    border-radius: 50%;\n",
              "    cursor: pointer;\n",
              "    display: none;\n",
              "    fill: var(--fill-color);\n",
              "    height: 32px;\n",
              "    padding: 0;\n",
              "    width: 32px;\n",
              "  }\n",
              "\n",
              "  .colab-df-quickchart:hover {\n",
              "    background-color: var(--hover-bg-color);\n",
              "    box-shadow: 0 1px 2px rgba(60, 64, 67, 0.3), 0 1px 3px 1px rgba(60, 64, 67, 0.15);\n",
              "    fill: var(--button-hover-fill-color);\n",
              "  }\n",
              "\n",
              "  .colab-df-quickchart-complete:disabled,\n",
              "  .colab-df-quickchart-complete:disabled:hover {\n",
              "    background-color: var(--disabled-bg-color);\n",
              "    fill: var(--disabled-fill-color);\n",
              "    box-shadow: none;\n",
              "  }\n",
              "\n",
              "  .colab-df-spinner {\n",
              "    border: 2px solid var(--fill-color);\n",
              "    border-color: transparent;\n",
              "    border-bottom-color: var(--fill-color);\n",
              "    animation:\n",
              "      spin 1s steps(1) infinite;\n",
              "  }\n",
              "\n",
              "  @keyframes spin {\n",
              "    0% {\n",
              "      border-color: transparent;\n",
              "      border-bottom-color: var(--fill-color);\n",
              "      border-left-color: var(--fill-color);\n",
              "    }\n",
              "    20% {\n",
              "      border-color: transparent;\n",
              "      border-left-color: var(--fill-color);\n",
              "      border-top-color: var(--fill-color);\n",
              "    }\n",
              "    30% {\n",
              "      border-color: transparent;\n",
              "      border-left-color: var(--fill-color);\n",
              "      border-top-color: var(--fill-color);\n",
              "      border-right-color: var(--fill-color);\n",
              "    }\n",
              "    40% {\n",
              "      border-color: transparent;\n",
              "      border-right-color: var(--fill-color);\n",
              "      border-top-color: var(--fill-color);\n",
              "    }\n",
              "    60% {\n",
              "      border-color: transparent;\n",
              "      border-right-color: var(--fill-color);\n",
              "    }\n",
              "    80% {\n",
              "      border-color: transparent;\n",
              "      border-right-color: var(--fill-color);\n",
              "      border-bottom-color: var(--fill-color);\n",
              "    }\n",
              "    90% {\n",
              "      border-color: transparent;\n",
              "      border-bottom-color: var(--fill-color);\n",
              "    }\n",
              "  }\n",
              "</style>\n",
              "\n",
              "  <script>\n",
              "    async function quickchart(key) {\n",
              "      const quickchartButtonEl =\n",
              "        document.querySelector('#' + key + ' button');\n",
              "      quickchartButtonEl.disabled = true;  // To prevent multiple clicks.\n",
              "      quickchartButtonEl.classList.add('colab-df-spinner');\n",
              "      try {\n",
              "        const charts = await google.colab.kernel.invokeFunction(\n",
              "            'suggestCharts', [key], {});\n",
              "      } catch (error) {\n",
              "        console.error('Error during call to suggestCharts:', error);\n",
              "      }\n",
              "      quickchartButtonEl.classList.remove('colab-df-spinner');\n",
              "      quickchartButtonEl.classList.add('colab-df-quickchart-complete');\n",
              "    }\n",
              "    (() => {\n",
              "      let quickchartButtonEl =\n",
              "        document.querySelector('#df-de49de52-254c-4658-8567-f1a97bf00d9a button');\n",
              "      quickchartButtonEl.style.display =\n",
              "        google.colab.kernel.accessAllowed ? 'block' : 'none';\n",
              "    })();\n",
              "  </script>\n",
              "</div>\n",
              "\n",
              "    </div>\n",
              "  </div>\n"
            ],
            "application/vnd.google.colaboratory.intrinsic+json": {
              "type": "dataframe",
              "variable_name": "gdf"
            }
          },
          "metadata": {},
          "execution_count": 172
        }
      ]
    },
    {
      "cell_type": "code",
      "source": [],
      "metadata": {
        "id": "iVmOAhDaUlio"
      },
      "execution_count": null,
      "outputs": []
    },
    {
      "cell_type": "code",
      "source": [],
      "metadata": {
        "id": "dkqoYg5LUlnw"
      },
      "execution_count": null,
      "outputs": []
    },
    {
      "cell_type": "code",
      "source": [],
      "metadata": {
        "id": "gLPiHWtZUlsM"
      },
      "execution_count": null,
      "outputs": []
    },
    {
      "cell_type": "code",
      "source": [],
      "metadata": {
        "id": "ZMFDjYfnUlwI"
      },
      "execution_count": null,
      "outputs": []
    },
    {
      "cell_type": "markdown",
      "source": [
        "## Exploration données rayonnement solaire\n",
        "* Source des données : [odre.opendatasoft.com](https://odre.opendatasoft.com/explore/dataset/rayonnement-solaire-vitesse-vent-tri-horaires-regionaux/information/?disjunctive.region)"
      ],
      "metadata": {
        "id": "o_OA2jjWUl-L"
      }
    },
    {
      "cell_type": "code",
      "source": [
        "# Import des modules utilisés\n",
        "import requests\n",
        "import pandas as pd"
      ],
      "metadata": {
        "id": "DvIDZ0NTVO7z"
      },
      "execution_count": 1,
      "outputs": []
    },
    {
      "cell_type": "code",
      "source": [
        "# Définition de l'url qui contient les données\n",
        "# Formats disponibles : csv, json, parquet, etc\n",
        "\n",
        "# json\n",
        "#url = 'https://odre.opendatasoft.com/api/explore/v2.1/catalog/datasets/rayonnement-solaire-vitesse-vent-tri-horaires-regionaux/exports/json'\n",
        "\n",
        "# parquet\n",
        "url = 'https://odre.opendatasoft.com/api/explore/v2.1/catalog/datasets/rayonnement-solaire-vitesse-vent-tri-horaires-regionaux/exports/parquet'"
      ],
      "metadata": {
        "id": "sKuRQYb_aDrI"
      },
      "execution_count": 2,
      "outputs": []
    },
    {
      "cell_type": "code",
      "source": [
        "# Code pour json\n",
        "\n",
        "# Récupération des données\n",
        "#response = requests.get(url)\n",
        "\n",
        "# Vérification de la bonne récupération\n",
        "#if response.status_code == 200:\n",
        "#  data = response.json()\n",
        "#  print(\"Données disponibles !\\n\")\n",
        "#  # Création du jeu de données\n",
        "#  df = pd.DataFrame(data)\n",
        "#  print(f\"Le dataframe contient {df.shape[0]} lignes et {df.shape[1]} colonnes.\")\n",
        "#else:\n",
        "#  print(f\"Erreur: {response.status_code}\")"
      ],
      "metadata": {
        "id": "u4O2d1paeN_n"
      },
      "execution_count": null,
      "outputs": []
    },
    {
      "cell_type": "code",
      "source": [
        "# Code pour parquet\n",
        "from io import BytesIO\n",
        "\n",
        "# Récupération des données\n",
        "response = requests.get(url)\n",
        "\n",
        "# Vérification de la bonne récupération\n",
        "if response.status_code == 200:\n",
        "  # Permet de lire le fichier\n",
        "  file_content = BytesIO(response.content)\n",
        "  print(\"Données disponibles !\\n\")\n",
        "  # Création du jeu de données\n",
        "  df = pd.read_parquet(file_content)\n",
        "  print(f\"Le dataframe contient {df.shape[0]} lignes et {df.shape[1]} colonnes.\")\n",
        "else:\n",
        "  print(f\"Erreur: {response.status_code}\")"
      ],
      "metadata": {
        "colab": {
          "base_uri": "https://localhost:8080/"
        },
        "id": "71jq3R08eYfe",
        "outputId": "f45229f8-4250-428f-d591-141fd9874005"
      },
      "execution_count": 3,
      "outputs": [
        {
          "output_type": "stream",
          "name": "stdout",
          "text": [
            "Données disponibles !\n",
            "\n",
            "Le dataframe contient 342575 lignes et 5 colonnes.\n"
          ]
        }
      ]
    },
    {
      "cell_type": "code",
      "source": [
        "df.head()"
      ],
      "metadata": {
        "colab": {
          "base_uri": "https://localhost:8080/",
          "height": 206
        },
        "id": "RhLbAnzKh4RE",
        "outputId": "c70d0b2f-5d67-4f8e-9d1d-b6b62fee4fcd"
      },
      "execution_count": 4,
      "outputs": [
        {
          "output_type": "execute_result",
          "data": {
            "text/plain": [
              "                       date code_insee_region                      region  \\\n",
              "0 2016-08-15 09:00:00+00:00                93  Provence-Alpes-Côte d'Azur   \n",
              "1 2016-08-15 09:00:00+00:00                94                       Corse   \n",
              "2 2016-08-15 09:00:00+00:00                75          Nouvelle-Aquitaine   \n",
              "3 2016-08-15 09:00:00+00:00                44                   Grand Est   \n",
              "4 2016-08-15 09:00:00+00:00                32             Hauts-de-France   \n",
              "\n",
              "   uv100  ssrd03h  \n",
              "0   4.51   417.94  \n",
              "1   2.63   449.81  \n",
              "2   3.58   339.16  \n",
              "3   4.32   387.79  \n",
              "4   5.27   365.57  "
            ],
            "text/html": [
              "\n",
              "  <div id=\"df-bdb177e9-0746-4503-aeb0-a18ba1c5e4b0\" class=\"colab-df-container\">\n",
              "    <div>\n",
              "<style scoped>\n",
              "    .dataframe tbody tr th:only-of-type {\n",
              "        vertical-align: middle;\n",
              "    }\n",
              "\n",
              "    .dataframe tbody tr th {\n",
              "        vertical-align: top;\n",
              "    }\n",
              "\n",
              "    .dataframe thead th {\n",
              "        text-align: right;\n",
              "    }\n",
              "</style>\n",
              "<table border=\"1\" class=\"dataframe\">\n",
              "  <thead>\n",
              "    <tr style=\"text-align: right;\">\n",
              "      <th></th>\n",
              "      <th>date</th>\n",
              "      <th>code_insee_region</th>\n",
              "      <th>region</th>\n",
              "      <th>uv100</th>\n",
              "      <th>ssrd03h</th>\n",
              "    </tr>\n",
              "  </thead>\n",
              "  <tbody>\n",
              "    <tr>\n",
              "      <th>0</th>\n",
              "      <td>2016-08-15 09:00:00+00:00</td>\n",
              "      <td>93</td>\n",
              "      <td>Provence-Alpes-Côte d'Azur</td>\n",
              "      <td>4.51</td>\n",
              "      <td>417.94</td>\n",
              "    </tr>\n",
              "    <tr>\n",
              "      <th>1</th>\n",
              "      <td>2016-08-15 09:00:00+00:00</td>\n",
              "      <td>94</td>\n",
              "      <td>Corse</td>\n",
              "      <td>2.63</td>\n",
              "      <td>449.81</td>\n",
              "    </tr>\n",
              "    <tr>\n",
              "      <th>2</th>\n",
              "      <td>2016-08-15 09:00:00+00:00</td>\n",
              "      <td>75</td>\n",
              "      <td>Nouvelle-Aquitaine</td>\n",
              "      <td>3.58</td>\n",
              "      <td>339.16</td>\n",
              "    </tr>\n",
              "    <tr>\n",
              "      <th>3</th>\n",
              "      <td>2016-08-15 09:00:00+00:00</td>\n",
              "      <td>44</td>\n",
              "      <td>Grand Est</td>\n",
              "      <td>4.32</td>\n",
              "      <td>387.79</td>\n",
              "    </tr>\n",
              "    <tr>\n",
              "      <th>4</th>\n",
              "      <td>2016-08-15 09:00:00+00:00</td>\n",
              "      <td>32</td>\n",
              "      <td>Hauts-de-France</td>\n",
              "      <td>5.27</td>\n",
              "      <td>365.57</td>\n",
              "    </tr>\n",
              "  </tbody>\n",
              "</table>\n",
              "</div>\n",
              "    <div class=\"colab-df-buttons\">\n",
              "\n",
              "  <div class=\"colab-df-container\">\n",
              "    <button class=\"colab-df-convert\" onclick=\"convertToInteractive('df-bdb177e9-0746-4503-aeb0-a18ba1c5e4b0')\"\n",
              "            title=\"Convert this dataframe to an interactive table.\"\n",
              "            style=\"display:none;\">\n",
              "\n",
              "  <svg xmlns=\"http://www.w3.org/2000/svg\" height=\"24px\" viewBox=\"0 -960 960 960\">\n",
              "    <path d=\"M120-120v-720h720v720H120Zm60-500h600v-160H180v160Zm220 220h160v-160H400v160Zm0 220h160v-160H400v160ZM180-400h160v-160H180v160Zm440 0h160v-160H620v160ZM180-180h160v-160H180v160Zm440 0h160v-160H620v160Z\"/>\n",
              "  </svg>\n",
              "    </button>\n",
              "\n",
              "  <style>\n",
              "    .colab-df-container {\n",
              "      display:flex;\n",
              "      gap: 12px;\n",
              "    }\n",
              "\n",
              "    .colab-df-convert {\n",
              "      background-color: #E8F0FE;\n",
              "      border: none;\n",
              "      border-radius: 50%;\n",
              "      cursor: pointer;\n",
              "      display: none;\n",
              "      fill: #1967D2;\n",
              "      height: 32px;\n",
              "      padding: 0 0 0 0;\n",
              "      width: 32px;\n",
              "    }\n",
              "\n",
              "    .colab-df-convert:hover {\n",
              "      background-color: #E2EBFA;\n",
              "      box-shadow: 0px 1px 2px rgba(60, 64, 67, 0.3), 0px 1px 3px 1px rgba(60, 64, 67, 0.15);\n",
              "      fill: #174EA6;\n",
              "    }\n",
              "\n",
              "    .colab-df-buttons div {\n",
              "      margin-bottom: 4px;\n",
              "    }\n",
              "\n",
              "    [theme=dark] .colab-df-convert {\n",
              "      background-color: #3B4455;\n",
              "      fill: #D2E3FC;\n",
              "    }\n",
              "\n",
              "    [theme=dark] .colab-df-convert:hover {\n",
              "      background-color: #434B5C;\n",
              "      box-shadow: 0px 1px 3px 1px rgba(0, 0, 0, 0.15);\n",
              "      filter: drop-shadow(0px 1px 2px rgba(0, 0, 0, 0.3));\n",
              "      fill: #FFFFFF;\n",
              "    }\n",
              "  </style>\n",
              "\n",
              "    <script>\n",
              "      const buttonEl =\n",
              "        document.querySelector('#df-bdb177e9-0746-4503-aeb0-a18ba1c5e4b0 button.colab-df-convert');\n",
              "      buttonEl.style.display =\n",
              "        google.colab.kernel.accessAllowed ? 'block' : 'none';\n",
              "\n",
              "      async function convertToInteractive(key) {\n",
              "        const element = document.querySelector('#df-bdb177e9-0746-4503-aeb0-a18ba1c5e4b0');\n",
              "        const dataTable =\n",
              "          await google.colab.kernel.invokeFunction('convertToInteractive',\n",
              "                                                    [key], {});\n",
              "        if (!dataTable) return;\n",
              "\n",
              "        const docLinkHtml = 'Like what you see? Visit the ' +\n",
              "          '<a target=\"_blank\" href=https://colab.research.google.com/notebooks/data_table.ipynb>data table notebook</a>'\n",
              "          + ' to learn more about interactive tables.';\n",
              "        element.innerHTML = '';\n",
              "        dataTable['output_type'] = 'display_data';\n",
              "        await google.colab.output.renderOutput(dataTable, element);\n",
              "        const docLink = document.createElement('div');\n",
              "        docLink.innerHTML = docLinkHtml;\n",
              "        element.appendChild(docLink);\n",
              "      }\n",
              "    </script>\n",
              "  </div>\n",
              "\n",
              "\n",
              "<div id=\"df-45a6f491-7c37-41c1-83ac-ba05b8b4474e\">\n",
              "  <button class=\"colab-df-quickchart\" onclick=\"quickchart('df-45a6f491-7c37-41c1-83ac-ba05b8b4474e')\"\n",
              "            title=\"Suggest charts\"\n",
              "            style=\"display:none;\">\n",
              "\n",
              "<svg xmlns=\"http://www.w3.org/2000/svg\" height=\"24px\"viewBox=\"0 0 24 24\"\n",
              "     width=\"24px\">\n",
              "    <g>\n",
              "        <path d=\"M19 3H5c-1.1 0-2 .9-2 2v14c0 1.1.9 2 2 2h14c1.1 0 2-.9 2-2V5c0-1.1-.9-2-2-2zM9 17H7v-7h2v7zm4 0h-2V7h2v10zm4 0h-2v-4h2v4z\"/>\n",
              "    </g>\n",
              "</svg>\n",
              "  </button>\n",
              "\n",
              "<style>\n",
              "  .colab-df-quickchart {\n",
              "      --bg-color: #E8F0FE;\n",
              "      --fill-color: #1967D2;\n",
              "      --hover-bg-color: #E2EBFA;\n",
              "      --hover-fill-color: #174EA6;\n",
              "      --disabled-fill-color: #AAA;\n",
              "      --disabled-bg-color: #DDD;\n",
              "  }\n",
              "\n",
              "  [theme=dark] .colab-df-quickchart {\n",
              "      --bg-color: #3B4455;\n",
              "      --fill-color: #D2E3FC;\n",
              "      --hover-bg-color: #434B5C;\n",
              "      --hover-fill-color: #FFFFFF;\n",
              "      --disabled-bg-color: #3B4455;\n",
              "      --disabled-fill-color: #666;\n",
              "  }\n",
              "\n",
              "  .colab-df-quickchart {\n",
              "    background-color: var(--bg-color);\n",
              "    border: none;\n",
              "    border-radius: 50%;\n",
              "    cursor: pointer;\n",
              "    display: none;\n",
              "    fill: var(--fill-color);\n",
              "    height: 32px;\n",
              "    padding: 0;\n",
              "    width: 32px;\n",
              "  }\n",
              "\n",
              "  .colab-df-quickchart:hover {\n",
              "    background-color: var(--hover-bg-color);\n",
              "    box-shadow: 0 1px 2px rgba(60, 64, 67, 0.3), 0 1px 3px 1px rgba(60, 64, 67, 0.15);\n",
              "    fill: var(--button-hover-fill-color);\n",
              "  }\n",
              "\n",
              "  .colab-df-quickchart-complete:disabled,\n",
              "  .colab-df-quickchart-complete:disabled:hover {\n",
              "    background-color: var(--disabled-bg-color);\n",
              "    fill: var(--disabled-fill-color);\n",
              "    box-shadow: none;\n",
              "  }\n",
              "\n",
              "  .colab-df-spinner {\n",
              "    border: 2px solid var(--fill-color);\n",
              "    border-color: transparent;\n",
              "    border-bottom-color: var(--fill-color);\n",
              "    animation:\n",
              "      spin 1s steps(1) infinite;\n",
              "  }\n",
              "\n",
              "  @keyframes spin {\n",
              "    0% {\n",
              "      border-color: transparent;\n",
              "      border-bottom-color: var(--fill-color);\n",
              "      border-left-color: var(--fill-color);\n",
              "    }\n",
              "    20% {\n",
              "      border-color: transparent;\n",
              "      border-left-color: var(--fill-color);\n",
              "      border-top-color: var(--fill-color);\n",
              "    }\n",
              "    30% {\n",
              "      border-color: transparent;\n",
              "      border-left-color: var(--fill-color);\n",
              "      border-top-color: var(--fill-color);\n",
              "      border-right-color: var(--fill-color);\n",
              "    }\n",
              "    40% {\n",
              "      border-color: transparent;\n",
              "      border-right-color: var(--fill-color);\n",
              "      border-top-color: var(--fill-color);\n",
              "    }\n",
              "    60% {\n",
              "      border-color: transparent;\n",
              "      border-right-color: var(--fill-color);\n",
              "    }\n",
              "    80% {\n",
              "      border-color: transparent;\n",
              "      border-right-color: var(--fill-color);\n",
              "      border-bottom-color: var(--fill-color);\n",
              "    }\n",
              "    90% {\n",
              "      border-color: transparent;\n",
              "      border-bottom-color: var(--fill-color);\n",
              "    }\n",
              "  }\n",
              "</style>\n",
              "\n",
              "  <script>\n",
              "    async function quickchart(key) {\n",
              "      const quickchartButtonEl =\n",
              "        document.querySelector('#' + key + ' button');\n",
              "      quickchartButtonEl.disabled = true;  // To prevent multiple clicks.\n",
              "      quickchartButtonEl.classList.add('colab-df-spinner');\n",
              "      try {\n",
              "        const charts = await google.colab.kernel.invokeFunction(\n",
              "            'suggestCharts', [key], {});\n",
              "      } catch (error) {\n",
              "        console.error('Error during call to suggestCharts:', error);\n",
              "      }\n",
              "      quickchartButtonEl.classList.remove('colab-df-spinner');\n",
              "      quickchartButtonEl.classList.add('colab-df-quickchart-complete');\n",
              "    }\n",
              "    (() => {\n",
              "      let quickchartButtonEl =\n",
              "        document.querySelector('#df-45a6f491-7c37-41c1-83ac-ba05b8b4474e button');\n",
              "      quickchartButtonEl.style.display =\n",
              "        google.colab.kernel.accessAllowed ? 'block' : 'none';\n",
              "    })();\n",
              "  </script>\n",
              "</div>\n",
              "\n",
              "    </div>\n",
              "  </div>\n"
            ],
            "application/vnd.google.colaboratory.intrinsic+json": {
              "type": "dataframe",
              "variable_name": "df"
            }
          },
          "metadata": {},
          "execution_count": 4
        }
      ]
    },
    {
      "cell_type": "code",
      "source": [
        "df['date'].max()"
      ],
      "metadata": {
        "id": "MMGDBvJaI6AH",
        "colab": {
          "base_uri": "https://localhost:8080/"
        },
        "outputId": "110f57b9-e5c1-4b04-cc28-786ca890096f"
      },
      "execution_count": 5,
      "outputs": [
        {
          "output_type": "execute_result",
          "data": {
            "text/plain": [
              "Timestamp('2025-02-01 00:00:00+0000', tz='UTC')"
            ]
          },
          "metadata": {},
          "execution_count": 5
        }
      ]
    },
    {
      "cell_type": "code",
      "source": [
        "# Définitions des filtres\n",
        "\n",
        "# Sélection du département 93\n",
        "cond_93 = df['code_insee_region']=='93'\n",
        "\n",
        "# Sélection de l'année 2025\n",
        "cond_2025 = df['date'].dt.year==2025"
      ],
      "metadata": {
        "id": "zNXVCYLKjeHA"
      },
      "execution_count": 21,
      "outputs": []
    },
    {
      "cell_type": "code",
      "source": [
        "# Filtre du df\n",
        "df_93_2025 = df[cond_93 & cond_2025]\n",
        "df_93_2025.shape"
      ],
      "metadata": {
        "colab": {
          "base_uri": "https://localhost:8080/"
        },
        "id": "faqZzFihjvzS",
        "outputId": "430dae65-40bd-43d6-d222-b115c2818315"
      },
      "execution_count": 22,
      "outputs": [
        {
          "output_type": "execute_result",
          "data": {
            "text/plain": [
              "(249, 5)"
            ]
          },
          "metadata": {},
          "execution_count": 22
        }
      ]
    },
    {
      "cell_type": "code",
      "source": [
        "df_93_2025.head()"
      ],
      "metadata": {
        "colab": {
          "base_uri": "https://localhost:8080/",
          "height": 206
        },
        "id": "4KRpkOp3kekr",
        "outputId": "a7c540f0-67fc-43b9-d16a-59b93fe82a54"
      },
      "execution_count": 23,
      "outputs": [
        {
          "output_type": "execute_result",
          "data": {
            "text/plain": [
              "                            date code_insee_region  \\\n",
              "338999 2025-01-01 00:00:00+00:00                93   \n",
              "339422 2025-01-13 06:00:00+00:00                93   \n",
              "339458 2025-01-15 06:00:00+00:00                93   \n",
              "339493 2025-01-17 09:00:00+00:00                93   \n",
              "339509 2025-01-26 18:00:00+00:00                93   \n",
              "\n",
              "                            region  uv100  ssrd03h  \n",
              "338999  Provence-Alpes-Côte d'Azur   4.14     0.00  \n",
              "339422  Provence-Alpes-Côte d'Azur   5.97     0.00  \n",
              "339458  Provence-Alpes-Côte d'Azur   5.51     0.00  \n",
              "339493  Provence-Alpes-Côte d'Azur   5.22   125.37  \n",
              "339509  Provence-Alpes-Côte d'Azur   6.43    73.94  "
            ],
            "text/html": [
              "\n",
              "  <div id=\"df-3b8daedc-8c8c-4696-8259-6cf6b80fa5b4\" class=\"colab-df-container\">\n",
              "    <div>\n",
              "<style scoped>\n",
              "    .dataframe tbody tr th:only-of-type {\n",
              "        vertical-align: middle;\n",
              "    }\n",
              "\n",
              "    .dataframe tbody tr th {\n",
              "        vertical-align: top;\n",
              "    }\n",
              "\n",
              "    .dataframe thead th {\n",
              "        text-align: right;\n",
              "    }\n",
              "</style>\n",
              "<table border=\"1\" class=\"dataframe\">\n",
              "  <thead>\n",
              "    <tr style=\"text-align: right;\">\n",
              "      <th></th>\n",
              "      <th>date</th>\n",
              "      <th>code_insee_region</th>\n",
              "      <th>region</th>\n",
              "      <th>uv100</th>\n",
              "      <th>ssrd03h</th>\n",
              "    </tr>\n",
              "  </thead>\n",
              "  <tbody>\n",
              "    <tr>\n",
              "      <th>338999</th>\n",
              "      <td>2025-01-01 00:00:00+00:00</td>\n",
              "      <td>93</td>\n",
              "      <td>Provence-Alpes-Côte d'Azur</td>\n",
              "      <td>4.14</td>\n",
              "      <td>0.00</td>\n",
              "    </tr>\n",
              "    <tr>\n",
              "      <th>339422</th>\n",
              "      <td>2025-01-13 06:00:00+00:00</td>\n",
              "      <td>93</td>\n",
              "      <td>Provence-Alpes-Côte d'Azur</td>\n",
              "      <td>5.97</td>\n",
              "      <td>0.00</td>\n",
              "    </tr>\n",
              "    <tr>\n",
              "      <th>339458</th>\n",
              "      <td>2025-01-15 06:00:00+00:00</td>\n",
              "      <td>93</td>\n",
              "      <td>Provence-Alpes-Côte d'Azur</td>\n",
              "      <td>5.51</td>\n",
              "      <td>0.00</td>\n",
              "    </tr>\n",
              "    <tr>\n",
              "      <th>339493</th>\n",
              "      <td>2025-01-17 09:00:00+00:00</td>\n",
              "      <td>93</td>\n",
              "      <td>Provence-Alpes-Côte d'Azur</td>\n",
              "      <td>5.22</td>\n",
              "      <td>125.37</td>\n",
              "    </tr>\n",
              "    <tr>\n",
              "      <th>339509</th>\n",
              "      <td>2025-01-26 18:00:00+00:00</td>\n",
              "      <td>93</td>\n",
              "      <td>Provence-Alpes-Côte d'Azur</td>\n",
              "      <td>6.43</td>\n",
              "      <td>73.94</td>\n",
              "    </tr>\n",
              "  </tbody>\n",
              "</table>\n",
              "</div>\n",
              "    <div class=\"colab-df-buttons\">\n",
              "\n",
              "  <div class=\"colab-df-container\">\n",
              "    <button class=\"colab-df-convert\" onclick=\"convertToInteractive('df-3b8daedc-8c8c-4696-8259-6cf6b80fa5b4')\"\n",
              "            title=\"Convert this dataframe to an interactive table.\"\n",
              "            style=\"display:none;\">\n",
              "\n",
              "  <svg xmlns=\"http://www.w3.org/2000/svg\" height=\"24px\" viewBox=\"0 -960 960 960\">\n",
              "    <path d=\"M120-120v-720h720v720H120Zm60-500h600v-160H180v160Zm220 220h160v-160H400v160Zm0 220h160v-160H400v160ZM180-400h160v-160H180v160Zm440 0h160v-160H620v160ZM180-180h160v-160H180v160Zm440 0h160v-160H620v160Z\"/>\n",
              "  </svg>\n",
              "    </button>\n",
              "\n",
              "  <style>\n",
              "    .colab-df-container {\n",
              "      display:flex;\n",
              "      gap: 12px;\n",
              "    }\n",
              "\n",
              "    .colab-df-convert {\n",
              "      background-color: #E8F0FE;\n",
              "      border: none;\n",
              "      border-radius: 50%;\n",
              "      cursor: pointer;\n",
              "      display: none;\n",
              "      fill: #1967D2;\n",
              "      height: 32px;\n",
              "      padding: 0 0 0 0;\n",
              "      width: 32px;\n",
              "    }\n",
              "\n",
              "    .colab-df-convert:hover {\n",
              "      background-color: #E2EBFA;\n",
              "      box-shadow: 0px 1px 2px rgba(60, 64, 67, 0.3), 0px 1px 3px 1px rgba(60, 64, 67, 0.15);\n",
              "      fill: #174EA6;\n",
              "    }\n",
              "\n",
              "    .colab-df-buttons div {\n",
              "      margin-bottom: 4px;\n",
              "    }\n",
              "\n",
              "    [theme=dark] .colab-df-convert {\n",
              "      background-color: #3B4455;\n",
              "      fill: #D2E3FC;\n",
              "    }\n",
              "\n",
              "    [theme=dark] .colab-df-convert:hover {\n",
              "      background-color: #434B5C;\n",
              "      box-shadow: 0px 1px 3px 1px rgba(0, 0, 0, 0.15);\n",
              "      filter: drop-shadow(0px 1px 2px rgba(0, 0, 0, 0.3));\n",
              "      fill: #FFFFFF;\n",
              "    }\n",
              "  </style>\n",
              "\n",
              "    <script>\n",
              "      const buttonEl =\n",
              "        document.querySelector('#df-3b8daedc-8c8c-4696-8259-6cf6b80fa5b4 button.colab-df-convert');\n",
              "      buttonEl.style.display =\n",
              "        google.colab.kernel.accessAllowed ? 'block' : 'none';\n",
              "\n",
              "      async function convertToInteractive(key) {\n",
              "        const element = document.querySelector('#df-3b8daedc-8c8c-4696-8259-6cf6b80fa5b4');\n",
              "        const dataTable =\n",
              "          await google.colab.kernel.invokeFunction('convertToInteractive',\n",
              "                                                    [key], {});\n",
              "        if (!dataTable) return;\n",
              "\n",
              "        const docLinkHtml = 'Like what you see? Visit the ' +\n",
              "          '<a target=\"_blank\" href=https://colab.research.google.com/notebooks/data_table.ipynb>data table notebook</a>'\n",
              "          + ' to learn more about interactive tables.';\n",
              "        element.innerHTML = '';\n",
              "        dataTable['output_type'] = 'display_data';\n",
              "        await google.colab.output.renderOutput(dataTable, element);\n",
              "        const docLink = document.createElement('div');\n",
              "        docLink.innerHTML = docLinkHtml;\n",
              "        element.appendChild(docLink);\n",
              "      }\n",
              "    </script>\n",
              "  </div>\n",
              "\n",
              "\n",
              "<div id=\"df-bfe3508b-60e5-467e-a49c-e34824078186\">\n",
              "  <button class=\"colab-df-quickchart\" onclick=\"quickchart('df-bfe3508b-60e5-467e-a49c-e34824078186')\"\n",
              "            title=\"Suggest charts\"\n",
              "            style=\"display:none;\">\n",
              "\n",
              "<svg xmlns=\"http://www.w3.org/2000/svg\" height=\"24px\"viewBox=\"0 0 24 24\"\n",
              "     width=\"24px\">\n",
              "    <g>\n",
              "        <path d=\"M19 3H5c-1.1 0-2 .9-2 2v14c0 1.1.9 2 2 2h14c1.1 0 2-.9 2-2V5c0-1.1-.9-2-2-2zM9 17H7v-7h2v7zm4 0h-2V7h2v10zm4 0h-2v-4h2v4z\"/>\n",
              "    </g>\n",
              "</svg>\n",
              "  </button>\n",
              "\n",
              "<style>\n",
              "  .colab-df-quickchart {\n",
              "      --bg-color: #E8F0FE;\n",
              "      --fill-color: #1967D2;\n",
              "      --hover-bg-color: #E2EBFA;\n",
              "      --hover-fill-color: #174EA6;\n",
              "      --disabled-fill-color: #AAA;\n",
              "      --disabled-bg-color: #DDD;\n",
              "  }\n",
              "\n",
              "  [theme=dark] .colab-df-quickchart {\n",
              "      --bg-color: #3B4455;\n",
              "      --fill-color: #D2E3FC;\n",
              "      --hover-bg-color: #434B5C;\n",
              "      --hover-fill-color: #FFFFFF;\n",
              "      --disabled-bg-color: #3B4455;\n",
              "      --disabled-fill-color: #666;\n",
              "  }\n",
              "\n",
              "  .colab-df-quickchart {\n",
              "    background-color: var(--bg-color);\n",
              "    border: none;\n",
              "    border-radius: 50%;\n",
              "    cursor: pointer;\n",
              "    display: none;\n",
              "    fill: var(--fill-color);\n",
              "    height: 32px;\n",
              "    padding: 0;\n",
              "    width: 32px;\n",
              "  }\n",
              "\n",
              "  .colab-df-quickchart:hover {\n",
              "    background-color: var(--hover-bg-color);\n",
              "    box-shadow: 0 1px 2px rgba(60, 64, 67, 0.3), 0 1px 3px 1px rgba(60, 64, 67, 0.15);\n",
              "    fill: var(--button-hover-fill-color);\n",
              "  }\n",
              "\n",
              "  .colab-df-quickchart-complete:disabled,\n",
              "  .colab-df-quickchart-complete:disabled:hover {\n",
              "    background-color: var(--disabled-bg-color);\n",
              "    fill: var(--disabled-fill-color);\n",
              "    box-shadow: none;\n",
              "  }\n",
              "\n",
              "  .colab-df-spinner {\n",
              "    border: 2px solid var(--fill-color);\n",
              "    border-color: transparent;\n",
              "    border-bottom-color: var(--fill-color);\n",
              "    animation:\n",
              "      spin 1s steps(1) infinite;\n",
              "  }\n",
              "\n",
              "  @keyframes spin {\n",
              "    0% {\n",
              "      border-color: transparent;\n",
              "      border-bottom-color: var(--fill-color);\n",
              "      border-left-color: var(--fill-color);\n",
              "    }\n",
              "    20% {\n",
              "      border-color: transparent;\n",
              "      border-left-color: var(--fill-color);\n",
              "      border-top-color: var(--fill-color);\n",
              "    }\n",
              "    30% {\n",
              "      border-color: transparent;\n",
              "      border-left-color: var(--fill-color);\n",
              "      border-top-color: var(--fill-color);\n",
              "      border-right-color: var(--fill-color);\n",
              "    }\n",
              "    40% {\n",
              "      border-color: transparent;\n",
              "      border-right-color: var(--fill-color);\n",
              "      border-top-color: var(--fill-color);\n",
              "    }\n",
              "    60% {\n",
              "      border-color: transparent;\n",
              "      border-right-color: var(--fill-color);\n",
              "    }\n",
              "    80% {\n",
              "      border-color: transparent;\n",
              "      border-right-color: var(--fill-color);\n",
              "      border-bottom-color: var(--fill-color);\n",
              "    }\n",
              "    90% {\n",
              "      border-color: transparent;\n",
              "      border-bottom-color: var(--fill-color);\n",
              "    }\n",
              "  }\n",
              "</style>\n",
              "\n",
              "  <script>\n",
              "    async function quickchart(key) {\n",
              "      const quickchartButtonEl =\n",
              "        document.querySelector('#' + key + ' button');\n",
              "      quickchartButtonEl.disabled = true;  // To prevent multiple clicks.\n",
              "      quickchartButtonEl.classList.add('colab-df-spinner');\n",
              "      try {\n",
              "        const charts = await google.colab.kernel.invokeFunction(\n",
              "            'suggestCharts', [key], {});\n",
              "      } catch (error) {\n",
              "        console.error('Error during call to suggestCharts:', error);\n",
              "      }\n",
              "      quickchartButtonEl.classList.remove('colab-df-spinner');\n",
              "      quickchartButtonEl.classList.add('colab-df-quickchart-complete');\n",
              "    }\n",
              "    (() => {\n",
              "      let quickchartButtonEl =\n",
              "        document.querySelector('#df-bfe3508b-60e5-467e-a49c-e34824078186 button');\n",
              "      quickchartButtonEl.style.display =\n",
              "        google.colab.kernel.accessAllowed ? 'block' : 'none';\n",
              "    })();\n",
              "  </script>\n",
              "</div>\n",
              "\n",
              "    </div>\n",
              "  </div>\n"
            ],
            "application/vnd.google.colaboratory.intrinsic+json": {
              "type": "dataframe",
              "variable_name": "df_93_2025",
              "summary": "{\n  \"name\": \"df_93_2025\",\n  \"rows\": 249,\n  \"fields\": [\n    {\n      \"column\": \"date\",\n      \"properties\": {\n        \"dtype\": \"date\",\n        \"min\": \"2025-01-01 00:00:00+00:00\",\n        \"max\": \"2025-02-01 00:00:00+00:00\",\n        \"num_unique_values\": 249,\n        \"samples\": [\n          \"2025-01-19 03:00:00+00:00\",\n          \"2025-01-27 21:00:00+00:00\",\n          \"2025-01-03 12:00:00+00:00\"\n        ],\n        \"semantic_type\": \"\",\n        \"description\": \"\"\n      }\n    },\n    {\n      \"column\": \"code_insee_region\",\n      \"properties\": {\n        \"dtype\": \"category\",\n        \"num_unique_values\": 1,\n        \"samples\": [\n          \"93\"\n        ],\n        \"semantic_type\": \"\",\n        \"description\": \"\"\n      }\n    },\n    {\n      \"column\": \"region\",\n      \"properties\": {\n        \"dtype\": \"category\",\n        \"num_unique_values\": 1,\n        \"samples\": [\n          \"Provence-Alpes-C\\u00f4te d'Azur\"\n        ],\n        \"semantic_type\": \"\",\n        \"description\": \"\"\n      }\n    },\n    {\n      \"column\": \"uv100\",\n      \"properties\": {\n        \"dtype\": \"number\",\n        \"std\": 0.5104460237412554,\n        \"min\": 4.14,\n        \"max\": 6.89,\n        \"num_unique_values\": 129,\n        \"samples\": [\n          6.59\n        ],\n        \"semantic_type\": \"\",\n        \"description\": \"\"\n      }\n    },\n    {\n      \"column\": \"ssrd03h\",\n      \"properties\": {\n        \"dtype\": \"number\",\n        \"std\": 99.98696894576638,\n        \"min\": 0.0,\n        \"max\": 342.37,\n        \"num_unique_values\": 125,\n        \"samples\": [\n          246.38\n        ],\n        \"semantic_type\": \"\",\n        \"description\": \"\"\n      }\n    }\n  ]\n}"
            }
          },
          "metadata": {},
          "execution_count": 23
        }
      ]
    },
    {
      "cell_type": "code",
      "source": [
        "# Tri par date/heure croissantes\n",
        "df_93_2025_sorted = df_93_2025.sort_values(by='date')\n",
        "df_93_2025_sorted.head(n=10)"
      ],
      "metadata": {
        "colab": {
          "base_uri": "https://localhost:8080/",
          "height": 363
        },
        "id": "51l0zP8alXCP",
        "outputId": "9b07263c-5c99-4681-fa82-02d2fe8ae362"
      },
      "execution_count": 28,
      "outputs": [
        {
          "output_type": "execute_result",
          "data": {
            "text/plain": [
              "                            date code_insee_region  \\\n",
              "338999 2025-01-01 00:00:00+00:00                93   \n",
              "339817 2025-01-01 03:00:00+00:00                93   \n",
              "342522 2025-01-01 06:00:00+00:00                93   \n",
              "342524 2025-01-01 09:00:00+00:00                93   \n",
              "342526 2025-01-01 12:00:00+00:00                93   \n",
              "342530 2025-01-01 15:00:00+00:00                93   \n",
              "340678 2025-01-01 18:00:00+00:00                93   \n",
              "339831 2025-01-01 21:00:00+00:00                93   \n",
              "341568 2025-01-02 00:00:00+00:00                93   \n",
              "339835 2025-01-02 03:00:00+00:00                93   \n",
              "\n",
              "                            region  uv100  ssrd03h  \n",
              "338999  Provence-Alpes-Côte d'Azur   4.14     0.00  \n",
              "339817  Provence-Alpes-Côte d'Azur   5.71     0.00  \n",
              "342522  Provence-Alpes-Côte d'Azur   5.21     0.00  \n",
              "342524  Provence-Alpes-Côte d'Azur   5.12    47.08  \n",
              "342526  Provence-Alpes-Côte d'Azur   5.79   292.18  \n",
              "342530  Provence-Alpes-Côte d'Azur   6.15   262.98  \n",
              "340678  Provence-Alpes-Côte d'Azur   5.51    18.56  \n",
              "339831  Provence-Alpes-Côte d'Azur   5.24     0.00  \n",
              "341568  Provence-Alpes-Côte d'Azur   4.95     0.00  \n",
              "339835  Provence-Alpes-Côte d'Azur   5.19     0.00  "
            ],
            "text/html": [
              "\n",
              "  <div id=\"df-28e6e1fe-1c3f-496f-b428-57e43d735f17\" class=\"colab-df-container\">\n",
              "    <div>\n",
              "<style scoped>\n",
              "    .dataframe tbody tr th:only-of-type {\n",
              "        vertical-align: middle;\n",
              "    }\n",
              "\n",
              "    .dataframe tbody tr th {\n",
              "        vertical-align: top;\n",
              "    }\n",
              "\n",
              "    .dataframe thead th {\n",
              "        text-align: right;\n",
              "    }\n",
              "</style>\n",
              "<table border=\"1\" class=\"dataframe\">\n",
              "  <thead>\n",
              "    <tr style=\"text-align: right;\">\n",
              "      <th></th>\n",
              "      <th>date</th>\n",
              "      <th>code_insee_region</th>\n",
              "      <th>region</th>\n",
              "      <th>uv100</th>\n",
              "      <th>ssrd03h</th>\n",
              "    </tr>\n",
              "  </thead>\n",
              "  <tbody>\n",
              "    <tr>\n",
              "      <th>338999</th>\n",
              "      <td>2025-01-01 00:00:00+00:00</td>\n",
              "      <td>93</td>\n",
              "      <td>Provence-Alpes-Côte d'Azur</td>\n",
              "      <td>4.14</td>\n",
              "      <td>0.00</td>\n",
              "    </tr>\n",
              "    <tr>\n",
              "      <th>339817</th>\n",
              "      <td>2025-01-01 03:00:00+00:00</td>\n",
              "      <td>93</td>\n",
              "      <td>Provence-Alpes-Côte d'Azur</td>\n",
              "      <td>5.71</td>\n",
              "      <td>0.00</td>\n",
              "    </tr>\n",
              "    <tr>\n",
              "      <th>342522</th>\n",
              "      <td>2025-01-01 06:00:00+00:00</td>\n",
              "      <td>93</td>\n",
              "      <td>Provence-Alpes-Côte d'Azur</td>\n",
              "      <td>5.21</td>\n",
              "      <td>0.00</td>\n",
              "    </tr>\n",
              "    <tr>\n",
              "      <th>342524</th>\n",
              "      <td>2025-01-01 09:00:00+00:00</td>\n",
              "      <td>93</td>\n",
              "      <td>Provence-Alpes-Côte d'Azur</td>\n",
              "      <td>5.12</td>\n",
              "      <td>47.08</td>\n",
              "    </tr>\n",
              "    <tr>\n",
              "      <th>342526</th>\n",
              "      <td>2025-01-01 12:00:00+00:00</td>\n",
              "      <td>93</td>\n",
              "      <td>Provence-Alpes-Côte d'Azur</td>\n",
              "      <td>5.79</td>\n",
              "      <td>292.18</td>\n",
              "    </tr>\n",
              "    <tr>\n",
              "      <th>342530</th>\n",
              "      <td>2025-01-01 15:00:00+00:00</td>\n",
              "      <td>93</td>\n",
              "      <td>Provence-Alpes-Côte d'Azur</td>\n",
              "      <td>6.15</td>\n",
              "      <td>262.98</td>\n",
              "    </tr>\n",
              "    <tr>\n",
              "      <th>340678</th>\n",
              "      <td>2025-01-01 18:00:00+00:00</td>\n",
              "      <td>93</td>\n",
              "      <td>Provence-Alpes-Côte d'Azur</td>\n",
              "      <td>5.51</td>\n",
              "      <td>18.56</td>\n",
              "    </tr>\n",
              "    <tr>\n",
              "      <th>339831</th>\n",
              "      <td>2025-01-01 21:00:00+00:00</td>\n",
              "      <td>93</td>\n",
              "      <td>Provence-Alpes-Côte d'Azur</td>\n",
              "      <td>5.24</td>\n",
              "      <td>0.00</td>\n",
              "    </tr>\n",
              "    <tr>\n",
              "      <th>341568</th>\n",
              "      <td>2025-01-02 00:00:00+00:00</td>\n",
              "      <td>93</td>\n",
              "      <td>Provence-Alpes-Côte d'Azur</td>\n",
              "      <td>4.95</td>\n",
              "      <td>0.00</td>\n",
              "    </tr>\n",
              "    <tr>\n",
              "      <th>339835</th>\n",
              "      <td>2025-01-02 03:00:00+00:00</td>\n",
              "      <td>93</td>\n",
              "      <td>Provence-Alpes-Côte d'Azur</td>\n",
              "      <td>5.19</td>\n",
              "      <td>0.00</td>\n",
              "    </tr>\n",
              "  </tbody>\n",
              "</table>\n",
              "</div>\n",
              "    <div class=\"colab-df-buttons\">\n",
              "\n",
              "  <div class=\"colab-df-container\">\n",
              "    <button class=\"colab-df-convert\" onclick=\"convertToInteractive('df-28e6e1fe-1c3f-496f-b428-57e43d735f17')\"\n",
              "            title=\"Convert this dataframe to an interactive table.\"\n",
              "            style=\"display:none;\">\n",
              "\n",
              "  <svg xmlns=\"http://www.w3.org/2000/svg\" height=\"24px\" viewBox=\"0 -960 960 960\">\n",
              "    <path d=\"M120-120v-720h720v720H120Zm60-500h600v-160H180v160Zm220 220h160v-160H400v160Zm0 220h160v-160H400v160ZM180-400h160v-160H180v160Zm440 0h160v-160H620v160ZM180-180h160v-160H180v160Zm440 0h160v-160H620v160Z\"/>\n",
              "  </svg>\n",
              "    </button>\n",
              "\n",
              "  <style>\n",
              "    .colab-df-container {\n",
              "      display:flex;\n",
              "      gap: 12px;\n",
              "    }\n",
              "\n",
              "    .colab-df-convert {\n",
              "      background-color: #E8F0FE;\n",
              "      border: none;\n",
              "      border-radius: 50%;\n",
              "      cursor: pointer;\n",
              "      display: none;\n",
              "      fill: #1967D2;\n",
              "      height: 32px;\n",
              "      padding: 0 0 0 0;\n",
              "      width: 32px;\n",
              "    }\n",
              "\n",
              "    .colab-df-convert:hover {\n",
              "      background-color: #E2EBFA;\n",
              "      box-shadow: 0px 1px 2px rgba(60, 64, 67, 0.3), 0px 1px 3px 1px rgba(60, 64, 67, 0.15);\n",
              "      fill: #174EA6;\n",
              "    }\n",
              "\n",
              "    .colab-df-buttons div {\n",
              "      margin-bottom: 4px;\n",
              "    }\n",
              "\n",
              "    [theme=dark] .colab-df-convert {\n",
              "      background-color: #3B4455;\n",
              "      fill: #D2E3FC;\n",
              "    }\n",
              "\n",
              "    [theme=dark] .colab-df-convert:hover {\n",
              "      background-color: #434B5C;\n",
              "      box-shadow: 0px 1px 3px 1px rgba(0, 0, 0, 0.15);\n",
              "      filter: drop-shadow(0px 1px 2px rgba(0, 0, 0, 0.3));\n",
              "      fill: #FFFFFF;\n",
              "    }\n",
              "  </style>\n",
              "\n",
              "    <script>\n",
              "      const buttonEl =\n",
              "        document.querySelector('#df-28e6e1fe-1c3f-496f-b428-57e43d735f17 button.colab-df-convert');\n",
              "      buttonEl.style.display =\n",
              "        google.colab.kernel.accessAllowed ? 'block' : 'none';\n",
              "\n",
              "      async function convertToInteractive(key) {\n",
              "        const element = document.querySelector('#df-28e6e1fe-1c3f-496f-b428-57e43d735f17');\n",
              "        const dataTable =\n",
              "          await google.colab.kernel.invokeFunction('convertToInteractive',\n",
              "                                                    [key], {});\n",
              "        if (!dataTable) return;\n",
              "\n",
              "        const docLinkHtml = 'Like what you see? Visit the ' +\n",
              "          '<a target=\"_blank\" href=https://colab.research.google.com/notebooks/data_table.ipynb>data table notebook</a>'\n",
              "          + ' to learn more about interactive tables.';\n",
              "        element.innerHTML = '';\n",
              "        dataTable['output_type'] = 'display_data';\n",
              "        await google.colab.output.renderOutput(dataTable, element);\n",
              "        const docLink = document.createElement('div');\n",
              "        docLink.innerHTML = docLinkHtml;\n",
              "        element.appendChild(docLink);\n",
              "      }\n",
              "    </script>\n",
              "  </div>\n",
              "\n",
              "\n",
              "<div id=\"df-ba0b89b1-b277-445d-9488-4baad06d718a\">\n",
              "  <button class=\"colab-df-quickchart\" onclick=\"quickchart('df-ba0b89b1-b277-445d-9488-4baad06d718a')\"\n",
              "            title=\"Suggest charts\"\n",
              "            style=\"display:none;\">\n",
              "\n",
              "<svg xmlns=\"http://www.w3.org/2000/svg\" height=\"24px\"viewBox=\"0 0 24 24\"\n",
              "     width=\"24px\">\n",
              "    <g>\n",
              "        <path d=\"M19 3H5c-1.1 0-2 .9-2 2v14c0 1.1.9 2 2 2h14c1.1 0 2-.9 2-2V5c0-1.1-.9-2-2-2zM9 17H7v-7h2v7zm4 0h-2V7h2v10zm4 0h-2v-4h2v4z\"/>\n",
              "    </g>\n",
              "</svg>\n",
              "  </button>\n",
              "\n",
              "<style>\n",
              "  .colab-df-quickchart {\n",
              "      --bg-color: #E8F0FE;\n",
              "      --fill-color: #1967D2;\n",
              "      --hover-bg-color: #E2EBFA;\n",
              "      --hover-fill-color: #174EA6;\n",
              "      --disabled-fill-color: #AAA;\n",
              "      --disabled-bg-color: #DDD;\n",
              "  }\n",
              "\n",
              "  [theme=dark] .colab-df-quickchart {\n",
              "      --bg-color: #3B4455;\n",
              "      --fill-color: #D2E3FC;\n",
              "      --hover-bg-color: #434B5C;\n",
              "      --hover-fill-color: #FFFFFF;\n",
              "      --disabled-bg-color: #3B4455;\n",
              "      --disabled-fill-color: #666;\n",
              "  }\n",
              "\n",
              "  .colab-df-quickchart {\n",
              "    background-color: var(--bg-color);\n",
              "    border: none;\n",
              "    border-radius: 50%;\n",
              "    cursor: pointer;\n",
              "    display: none;\n",
              "    fill: var(--fill-color);\n",
              "    height: 32px;\n",
              "    padding: 0;\n",
              "    width: 32px;\n",
              "  }\n",
              "\n",
              "  .colab-df-quickchart:hover {\n",
              "    background-color: var(--hover-bg-color);\n",
              "    box-shadow: 0 1px 2px rgba(60, 64, 67, 0.3), 0 1px 3px 1px rgba(60, 64, 67, 0.15);\n",
              "    fill: var(--button-hover-fill-color);\n",
              "  }\n",
              "\n",
              "  .colab-df-quickchart-complete:disabled,\n",
              "  .colab-df-quickchart-complete:disabled:hover {\n",
              "    background-color: var(--disabled-bg-color);\n",
              "    fill: var(--disabled-fill-color);\n",
              "    box-shadow: none;\n",
              "  }\n",
              "\n",
              "  .colab-df-spinner {\n",
              "    border: 2px solid var(--fill-color);\n",
              "    border-color: transparent;\n",
              "    border-bottom-color: var(--fill-color);\n",
              "    animation:\n",
              "      spin 1s steps(1) infinite;\n",
              "  }\n",
              "\n",
              "  @keyframes spin {\n",
              "    0% {\n",
              "      border-color: transparent;\n",
              "      border-bottom-color: var(--fill-color);\n",
              "      border-left-color: var(--fill-color);\n",
              "    }\n",
              "    20% {\n",
              "      border-color: transparent;\n",
              "      border-left-color: var(--fill-color);\n",
              "      border-top-color: var(--fill-color);\n",
              "    }\n",
              "    30% {\n",
              "      border-color: transparent;\n",
              "      border-left-color: var(--fill-color);\n",
              "      border-top-color: var(--fill-color);\n",
              "      border-right-color: var(--fill-color);\n",
              "    }\n",
              "    40% {\n",
              "      border-color: transparent;\n",
              "      border-right-color: var(--fill-color);\n",
              "      border-top-color: var(--fill-color);\n",
              "    }\n",
              "    60% {\n",
              "      border-color: transparent;\n",
              "      border-right-color: var(--fill-color);\n",
              "    }\n",
              "    80% {\n",
              "      border-color: transparent;\n",
              "      border-right-color: var(--fill-color);\n",
              "      border-bottom-color: var(--fill-color);\n",
              "    }\n",
              "    90% {\n",
              "      border-color: transparent;\n",
              "      border-bottom-color: var(--fill-color);\n",
              "    }\n",
              "  }\n",
              "</style>\n",
              "\n",
              "  <script>\n",
              "    async function quickchart(key) {\n",
              "      const quickchartButtonEl =\n",
              "        document.querySelector('#' + key + ' button');\n",
              "      quickchartButtonEl.disabled = true;  // To prevent multiple clicks.\n",
              "      quickchartButtonEl.classList.add('colab-df-spinner');\n",
              "      try {\n",
              "        const charts = await google.colab.kernel.invokeFunction(\n",
              "            'suggestCharts', [key], {});\n",
              "      } catch (error) {\n",
              "        console.error('Error during call to suggestCharts:', error);\n",
              "      }\n",
              "      quickchartButtonEl.classList.remove('colab-df-spinner');\n",
              "      quickchartButtonEl.classList.add('colab-df-quickchart-complete');\n",
              "    }\n",
              "    (() => {\n",
              "      let quickchartButtonEl =\n",
              "        document.querySelector('#df-ba0b89b1-b277-445d-9488-4baad06d718a button');\n",
              "      quickchartButtonEl.style.display =\n",
              "        google.colab.kernel.accessAllowed ? 'block' : 'none';\n",
              "    })();\n",
              "  </script>\n",
              "</div>\n",
              "\n",
              "    </div>\n",
              "  </div>\n"
            ],
            "application/vnd.google.colaboratory.intrinsic+json": {
              "type": "dataframe",
              "variable_name": "df_93_2025_sorted",
              "summary": "{\n  \"name\": \"df_93_2025_sorted\",\n  \"rows\": 249,\n  \"fields\": [\n    {\n      \"column\": \"date\",\n      \"properties\": {\n        \"dtype\": \"date\",\n        \"min\": \"2025-01-01 00:00:00+00:00\",\n        \"max\": \"2025-02-01 00:00:00+00:00\",\n        \"num_unique_values\": 249,\n        \"samples\": [\n          \"2025-01-18 03:00:00+00:00\",\n          \"2025-01-01 18:00:00+00:00\",\n          \"2025-01-13 03:00:00+00:00\"\n        ],\n        \"semantic_type\": \"\",\n        \"description\": \"\"\n      }\n    },\n    {\n      \"column\": \"code_insee_region\",\n      \"properties\": {\n        \"dtype\": \"category\",\n        \"num_unique_values\": 1,\n        \"samples\": [\n          \"93\"\n        ],\n        \"semantic_type\": \"\",\n        \"description\": \"\"\n      }\n    },\n    {\n      \"column\": \"region\",\n      \"properties\": {\n        \"dtype\": \"category\",\n        \"num_unique_values\": 1,\n        \"samples\": [\n          \"Provence-Alpes-C\\u00f4te d'Azur\"\n        ],\n        \"semantic_type\": \"\",\n        \"description\": \"\"\n      }\n    },\n    {\n      \"column\": \"uv100\",\n      \"properties\": {\n        \"dtype\": \"number\",\n        \"std\": 0.5104460237412551,\n        \"min\": 4.14,\n        \"max\": 6.89,\n        \"num_unique_values\": 129,\n        \"samples\": [\n          6.43\n        ],\n        \"semantic_type\": \"\",\n        \"description\": \"\"\n      }\n    },\n    {\n      \"column\": \"ssrd03h\",\n      \"properties\": {\n        \"dtype\": \"number\",\n        \"std\": 99.98696894576635,\n        \"min\": 0.0,\n        \"max\": 342.37,\n        \"num_unique_values\": 125,\n        \"samples\": [\n          207.52\n        ],\n        \"semantic_type\": \"\",\n        \"description\": \"\"\n      }\n    }\n  ]\n}"
            }
          },
          "metadata": {},
          "execution_count": 28
        }
      ]
    },
    {
      "cell_type": "code",
      "source": [
        "# Catégorisation des moments de la journée\n",
        "def categorize_time_of_day(hour):\n",
        "  if 6 <= hour < 12:\n",
        "    return 'Matin'\n",
        "  elif 12 <= hour < 15:\n",
        "    return 'Midi'\n",
        "  elif 15 <= hour < 18:\n",
        "    return 'Après-midi'\n",
        "  elif 18 <= hour < 22:\n",
        "    return 'Soir'\n",
        "  else:\n",
        "    return 'Nuit'\n",
        "\n",
        "# Application au df\n",
        "df_93_2025_sorted['time_of_day'] = (\n",
        "    df_93_2025_sorted['date'].dt.hour.apply(categorize_time_of_day))"
      ],
      "metadata": {
        "id": "jePPvnr8mMk9"
      },
      "execution_count": 31,
      "outputs": []
    },
    {
      "cell_type": "code",
      "source": [
        "import matplotlib.pyplot as plt\n",
        "import seaborn as sns"
      ],
      "metadata": {
        "id": "YQeM1OGgk-CC"
      },
      "execution_count": 32,
      "outputs": []
    },
    {
      "cell_type": "code",
      "source": [
        "# Plotting the time series\n",
        "plt.figure(figsize=(12, 6))\n",
        "sns.lineplot(data=df_93_2025_sorted, x='date', y='ssrd03h',\n",
        "             hue='time_of_day', marker='o')\n",
        "plt.title('Time Series Plot')\n",
        "plt.xlabel('Date')\n",
        "plt.ylabel('Rayonnement solaire global (W/m2)')\n",
        "plt.grid(True)\n",
        "plt.show()"
      ],
      "metadata": {
        "colab": {
          "base_uri": "https://localhost:8080/",
          "height": 564
        },
        "id": "xkxJXniOlA48",
        "outputId": "4a379ece-fbcf-4618-8727-485ed122242b"
      },
      "execution_count": 34,
      "outputs": [
        {
          "output_type": "display_data",
          "data": {
            "text/plain": [
              "<Figure size 1200x600 with 1 Axes>"
            ],
            "image/png": "[encoded data removed]"
          },
          "metadata": {}
        }
      ]
    },
    {
      "cell_type": "markdown",
      "source": [
        "## Exploration du portail Meteo France\n",
        "* Source des données : [portail-api.meteofrance.fr](https://portail-api.meteofrance.fr/web/fr/)"
      ],
      "metadata": {
        "id": "6JkidTkj1ZPR"
      }
    },
    {
      "cell_type": "code",
      "source": [
        "# Import des modules utilisés\n",
        "import requests\n",
        "import pandas as pd\n",
        "from io import BytesIO\n",
        "# Pour utiliser les secrets dans Colab\n",
        "from google.colab import userdata"
      ],
      "metadata": {
        "id": "DGrUuCV01wo9"
      },
      "execution_count": 1,
      "outputs": []
    },
    {
      "cell_type": "code",
      "source": [
        "# Commencer par générer le OAuth token sur le site Meteo France\n",
        "# Lien de l'API testée ici : https://portail-api.meteofrance.fr/web/fr/api/DonneesPubliquesObservation\n",
        "\n",
        "# Définition de l'url qui contient les données\n",
        "url = 'https://public-api.meteofrance.fr/public/DPObs/v1/liste-stations'\n",
        "\n",
        "# OAuth token\n",
        "oauth_token = userdata.get('MeteoFrance_token')\n",
        "\n",
        "# Ajout dans le header\n",
        "headers = {\n",
        "    'Authorization': f'Bearer {oauth_token}'\n",
        "}"
      ],
      "metadata": {
        "id": "V3-5lylA2ABd"
      },
      "execution_count": 9,
      "outputs": []
    },
    {
      "cell_type": "code",
      "source": [
        "# Récupération des données\n",
        "response = requests.get(url, headers=headers)\n",
        "\n",
        "# Vérification de la bonne récupération\n",
        "if response.status_code == 200:\n",
        "# S'assurer que c'est du text/plain\n",
        "# Si c'est JSON, probablement qu'il y a une erreur d'authentification (token incorrect/plus valide)\n",
        "  if 'text/plain' in response.headers['Content-Type']:\n",
        "    file_content = BytesIO(response.content)\n",
        "    print(\"Données disponibles !\\n\")\n",
        "    # Création du jeu de données\n",
        "    df = pd.read_csv(file_content, delimiter=';', encoding='ISO-8859-1')\n",
        "    print(f\"Le dataframe contient {df.shape[0]} lignes et {df.shape[1]} colonnes.\")\n",
        "  else:\n",
        "    print(\"Vérifier le token d'authentification\")\n",
        "else:\n",
        "  print(f\"Erreur: {response.status_code}\")"
      ],
      "metadata": {
        "colab": {
          "base_uri": "https://localhost:8080/"
        },
        "id": "cM5e-4xz2Vjx",
        "outputId": "60f65149-0267-45b3-8132-57526967dd7e"
      },
      "execution_count": 18,
      "outputs": [
        {
          "output_type": "stream",
          "name": "stdout",
          "text": [
            "Données disponibles !\n",
            "\n",
            "Le dataframe contient 2130 lignes et 8 colonnes.\n"
          ]
        }
      ]
    },
    {
      "cell_type": "code",
      "source": [
        "df.head()"
      ],
      "metadata": {
        "colab": {
          "base_uri": "https://localhost:8080/",
          "height": 206
        },
        "id": "AQ1yJKo7Pg-C",
        "outputId": "90dd0b8b-da75-4ea5-ebcf-6134a8213cad"
      },
      "execution_count": 19,
      "outputs": [
        {
          "output_type": "execute_result",
          "data": {
            "text/plain": [
              "   Id_station  Id_omm   Nom_usuel   Latitude  Longitude  Altitude  \\\n",
              "0     1014002     NaN      ARBENT  46.278167   5.669000       534   \n",
              "1     1027003     NaN  BALAN_AERO  45.833000   5.106667       196   \n",
              "2     1034004     NaN      BELLEY  45.769333   5.688000       330   \n",
              "3     1064001     NaN    VERIZIEU  45.777167   5.487167       281   \n",
              "4     1071001     NaN       CESSY  46.310333   6.080333       507   \n",
              "\n",
              "  Date_ouverture    Pack  \n",
              "0     2003-10-01  RADOME  \n",
              "1     2014-05-26  ETENDU  \n",
              "2     2001-09-13  RADOME  \n",
              "3     2015-01-01  ETENDU  \n",
              "4     2002-05-01  RADOME  "
            ],
            "text/html": [
              "\n",
              "  <div id=\"df-7170abd9-ce64-4299-b8c2-ebc1f1142c9f\" class=\"colab-df-container\">\n",
              "    <div>\n",
              "<style scoped>\n",
              "    .dataframe tbody tr th:only-of-type {\n",
              "        vertical-align: middle;\n",
              "    }\n",
              "\n",
              "    .dataframe tbody tr th {\n",
              "        vertical-align: top;\n",
              "    }\n",
              "\n",
              "    .dataframe thead th {\n",
              "        text-align: right;\n",
              "    }\n",
              "</style>\n",
              "<table border=\"1\" class=\"dataframe\">\n",
              "  <thead>\n",
              "    <tr style=\"text-align: right;\">\n",
              "      <th></th>\n",
              "      <th>Id_station</th>\n",
              "      <th>Id_omm</th>\n",
              "      <th>Nom_usuel</th>\n",
              "      <th>Latitude</th>\n",
              "      <th>Longitude</th>\n",
              "      <th>Altitude</th>\n",
              "      <th>Date_ouverture</th>\n",
              "      <th>Pack</th>\n",
              "    </tr>\n",
              "  </thead>\n",
              "  <tbody>\n",
              "    <tr>\n",
              "      <th>0</th>\n",
              "      <td>1014002</td>\n",
              "      <td>NaN</td>\n",
              "      <td>ARBENT</td>\n",
              "      <td>46.278167</td>\n",
              "      <td>5.669000</td>\n",
              "      <td>534</td>\n",
              "      <td>2003-10-01</td>\n",
              "      <td>RADOME</td>\n",
              "    </tr>\n",
              "    <tr>\n",
              "      <th>1</th>\n",
              "      <td>1027003</td>\n",
              "      <td>NaN</td>\n",
              "      <td>BALAN_AERO</td>\n",
              "      <td>45.833000</td>\n",
              "      <td>5.106667</td>\n",
              "      <td>196</td>\n",
              "      <td>2014-05-26</td>\n",
              "      <td>ETENDU</td>\n",
              "    </tr>\n",
              "    <tr>\n",
              "      <th>2</th>\n",
              "      <td>1034004</td>\n",
              "      <td>NaN</td>\n",
              "      <td>BELLEY</td>\n",
              "      <td>45.769333</td>\n",
              "      <td>5.688000</td>\n",
              "      <td>330</td>\n",
              "      <td>2001-09-13</td>\n",
              "      <td>RADOME</td>\n",
              "    </tr>\n",
              "    <tr>\n",
              "      <th>3</th>\n",
              "      <td>1064001</td>\n",
              "      <td>NaN</td>\n",
              "      <td>VERIZIEU</td>\n",
              "      <td>45.777167</td>\n",
              "      <td>5.487167</td>\n",
              "      <td>281</td>\n",
              "      <td>2015-01-01</td>\n",
              "      <td>ETENDU</td>\n",
              "    </tr>\n",
              "    <tr>\n",
              "      <th>4</th>\n",
              "      <td>1071001</td>\n",
              "      <td>NaN</td>\n",
              "      <td>CESSY</td>\n",
              "      <td>46.310333</td>\n",
              "      <td>6.080333</td>\n",
              "      <td>507</td>\n",
              "      <td>2002-05-01</td>\n",
              "      <td>RADOME</td>\n",
              "    </tr>\n",
              "  </tbody>\n",
              "</table>\n",
              "</div>\n",
              "    <div class=\"colab-df-buttons\">\n",
              "\n",
              "  <div class=\"colab-df-container\">\n",
              "    <button class=\"colab-df-convert\" onclick=\"convertToInteractive('df-7170abd9-ce64-4299-b8c2-ebc1f1142c9f')\"\n",
              "            title=\"Convert this dataframe to an interactive table.\"\n",
              "            style=\"display:none;\">\n",
              "\n",
              "  <svg xmlns=\"http://www.w3.org/2000/svg\" height=\"24px\" viewBox=\"0 -960 960 960\">\n",
              "    <path d=\"M120-120v-720h720v720H120Zm60-500h600v-160H180v160Zm220 220h160v-160H400v160Zm0 220h160v-160H400v160ZM180-400h160v-160H180v160Zm440 0h160v-160H620v160ZM180-180h160v-160H180v160Zm440 0h160v-160H620v160Z\"/>\n",
              "  </svg>\n",
              "    </button>\n",
              "\n",
              "  <style>\n",
              "    .colab-df-container {\n",
              "      display:flex;\n",
              "      gap: 12px;\n",
              "    }\n",
              "\n",
              "    .colab-df-convert {\n",
              "      background-color: #E8F0FE;\n",
              "      border: none;\n",
              "      border-radius: 50%;\n",
              "      cursor: pointer;\n",
              "      display: none;\n",
              "      fill: #1967D2;\n",
              "      height: 32px;\n",
              "      padding: 0 0 0 0;\n",
              "      width: 32px;\n",
              "    }\n",
              "\n",
              "    .colab-df-convert:hover {\n",
              "      background-color: #E2EBFA;\n",
              "      box-shadow: 0px 1px 2px rgba(60, 64, 67, 0.3), 0px 1px 3px 1px rgba(60, 64, 67, 0.15);\n",
              "      fill: #174EA6;\n",
              "    }\n",
              "\n",
              "    .colab-df-buttons div {\n",
              "      margin-bottom: 4px;\n",
              "    }\n",
              "\n",
              "    [theme=dark] .colab-df-convert {\n",
              "      background-color: #3B4455;\n",
              "      fill: #D2E3FC;\n",
              "    }\n",
              "\n",
              "    [theme=dark] .colab-df-convert:hover {\n",
              "      background-color: #434B5C;\n",
              "      box-shadow: 0px 1px 3px 1px rgba(0, 0, 0, 0.15);\n",
              "      filter: drop-shadow(0px 1px 2px rgba(0, 0, 0, 0.3));\n",
              "      fill: #FFFFFF;\n",
              "    }\n",
              "  </style>\n",
              "\n",
              "    <script>\n",
              "      const buttonEl =\n",
              "        document.querySelector('#df-7170abd9-ce64-4299-b8c2-ebc1f1142c9f button.colab-df-convert');\n",
              "      buttonEl.style.display =\n",
              "        google.colab.kernel.accessAllowed ? 'block' : 'none';\n",
              "\n",
              "      async function convertToInteractive(key) {\n",
              "        const element = document.querySelector('#df-7170abd9-ce64-4299-b8c2-ebc1f1142c9f');\n",
              "        const dataTable =\n",
              "          await google.colab.kernel.invokeFunction('convertToInteractive',\n",
              "                                                    [key], {});\n",
              "        if (!dataTable) return;\n",
              "\n",
              "        const docLinkHtml = 'Like what you see? Visit the ' +\n",
              "          '<a target=\"_blank\" href=https://colab.research.google.com/notebooks/data_table.ipynb>data table notebook</a>'\n",
              "          + ' to learn more about interactive tables.';\n",
              "        element.innerHTML = '';\n",
              "        dataTable['output_type'] = 'display_data';\n",
              "        await google.colab.output.renderOutput(dataTable, element);\n",
              "        const docLink = document.createElement('div');\n",
              "        docLink.innerHTML = docLinkHtml;\n",
              "        element.appendChild(docLink);\n",
              "      }\n",
              "    </script>\n",
              "  </div>\n",
              "\n",
              "\n",
              "<div id=\"df-dfc852f9-1b82-404e-a7af-a45401f569c6\">\n",
              "  <button class=\"colab-df-quickchart\" onclick=\"quickchart('df-dfc852f9-1b82-404e-a7af-a45401f569c6')\"\n",
              "            title=\"Suggest charts\"\n",
              "            style=\"display:none;\">\n",
              "\n",
              "<svg xmlns=\"http://www.w3.org/2000/svg\" height=\"24px\"viewBox=\"0 0 24 24\"\n",
              "     width=\"24px\">\n",
              "    <g>\n",
              "        <path d=\"M19 3H5c-1.1 0-2 .9-2 2v14c0 1.1.9 2 2 2h14c1.1 0 2-.9 2-2V5c0-1.1-.9-2-2-2zM9 17H7v-7h2v7zm4 0h-2V7h2v10zm4 0h-2v-4h2v4z\"/>\n",
              "    </g>\n",
              "</svg>\n",
              "  </button>\n",
              "\n",
              "<style>\n",
              "  .colab-df-quickchart {\n",
              "      --bg-color: #E8F0FE;\n",
              "      --fill-color: #1967D2;\n",
              "      --hover-bg-color: #E2EBFA;\n",
              "      --hover-fill-color: #174EA6;\n",
              "      --disabled-fill-color: #AAA;\n",
              "      --disabled-bg-color: #DDD;\n",
              "  }\n",
              "\n",
              "  [theme=dark] .colab-df-quickchart {\n",
              "      --bg-color: #3B4455;\n",
              "      --fill-color: #D2E3FC;\n",
              "      --hover-bg-color: #434B5C;\n",
              "      --hover-fill-color: #FFFFFF;\n",
              "      --disabled-bg-color: #3B4455;\n",
              "      --disabled-fill-color: #666;\n",
              "  }\n",
              "\n",
              "  .colab-df-quickchart {\n",
              "    background-color: var(--bg-color);\n",
              "    border: none;\n",
              "    border-radius: 50%;\n",
              "    cursor: pointer;\n",
              "    display: none;\n",
              "    fill: var(--fill-color);\n",
              "    height: 32px;\n",
              "    padding: 0;\n",
              "    width: 32px;\n",
              "  }\n",
              "\n",
              "  .colab-df-quickchart:hover {\n",
              "    background-color: var(--hover-bg-color);\n",
              "    box-shadow: 0 1px 2px rgba(60, 64, 67, 0.3), 0 1px 3px 1px rgba(60, 64, 67, 0.15);\n",
              "    fill: var(--button-hover-fill-color);\n",
              "  }\n",
              "\n",
              "  .colab-df-quickchart-complete:disabled,\n",
              "  .colab-df-quickchart-complete:disabled:hover {\n",
              "    background-color: var(--disabled-bg-color);\n",
              "    fill: var(--disabled-fill-color);\n",
              "    box-shadow: none;\n",
              "  }\n",
              "\n",
              "  .colab-df-spinner {\n",
              "    border: 2px solid var(--fill-color);\n",
              "    border-color: transparent;\n",
              "    border-bottom-color: var(--fill-color);\n",
              "    animation:\n",
              "      spin 1s steps(1) infinite;\n",
              "  }\n",
              "\n",
              "  @keyframes spin {\n",
              "    0% {\n",
              "      border-color: transparent;\n",
              "      border-bottom-color: var(--fill-color);\n",
              "      border-left-color: var(--fill-color);\n",
              "    }\n",
              "    20% {\n",
              "      border-color: transparent;\n",
              "      border-left-color: var(--fill-color);\n",
              "      border-top-color: var(--fill-color);\n",
              "    }\n",
              "    30% {\n",
              "      border-color: transparent;\n",
              "      border-left-color: var(--fill-color);\n",
              "      border-top-color: var(--fill-color);\n",
              "      border-right-color: var(--fill-color);\n",
              "    }\n",
              "    40% {\n",
              "      border-color: transparent;\n",
              "      border-right-color: var(--fill-color);\n",
              "      border-top-color: var(--fill-color);\n",
              "    }\n",
              "    60% {\n",
              "      border-color: transparent;\n",
              "      border-right-color: var(--fill-color);\n",
              "    }\n",
              "    80% {\n",
              "      border-color: transparent;\n",
              "      border-right-color: var(--fill-color);\n",
              "      border-bottom-color: var(--fill-color);\n",
              "    }\n",
              "    90% {\n",
              "      border-color: transparent;\n",
              "      border-bottom-color: var(--fill-color);\n",
              "    }\n",
              "  }\n",
              "</style>\n",
              "\n",
              "  <script>\n",
              "    async function quickchart(key) {\n",
              "      const quickchartButtonEl =\n",
              "        document.querySelector('#' + key + ' button');\n",
              "      quickchartButtonEl.disabled = true;  // To prevent multiple clicks.\n",
              "      quickchartButtonEl.classList.add('colab-df-spinner');\n",
              "      try {\n",
              "        const charts = await google.colab.kernel.invokeFunction(\n",
              "            'suggestCharts', [key], {});\n",
              "      } catch (error) {\n",
              "        console.error('Error during call to suggestCharts:', error);\n",
              "      }\n",
              "      quickchartButtonEl.classList.remove('colab-df-spinner');\n",
              "      quickchartButtonEl.classList.add('colab-df-quickchart-complete');\n",
              "    }\n",
              "    (() => {\n",
              "      let quickchartButtonEl =\n",
              "        document.querySelector('#df-dfc852f9-1b82-404e-a7af-a45401f569c6 button');\n",
              "      quickchartButtonEl.style.display =\n",
              "        google.colab.kernel.accessAllowed ? 'block' : 'none';\n",
              "    })();\n",
              "  </script>\n",
              "</div>\n",
              "\n",
              "    </div>\n",
              "  </div>\n"
            ],
            "application/vnd.google.colaboratory.intrinsic+json": {
              "type": "dataframe",
              "variable_name": "df",
              "summary": "{\n  \"name\": \"df\",\n  \"rows\": 2130,\n  \"fields\": [\n    {\n      \"column\": \"Id_station\",\n      \"properties\": {\n        \"dtype\": \"number\",\n        \"std\": 30770526,\n        \"min\": 1014002,\n        \"max\": 98833002,\n        \"num_unique_values\": 2130,\n        \"samples\": [\n          13055001,\n          97421265,\n          85163001\n        ],\n        \"semantic_type\": \"\",\n        \"description\": \"\"\n      }\n    },\n    {\n      \"column\": \"Id_omm\",\n      \"properties\": {\n        \"dtype\": \"number\",\n        \"std\": 32025.870647173986,\n        \"min\": 7002.0,\n        \"max\": 91958.0,\n        \"num_unique_values\": 286,\n        \"samples\": [\n          7570.0,\n          91578.0,\n          7186.0\n        ],\n        \"semantic_type\": \"\",\n        \"description\": \"\"\n      }\n    },\n    {\n      \"column\": \"Nom_usuel\",\n      \"properties\": {\n        \"dtype\": \"string\",\n        \"num_unique_values\": 2126,\n        \"samples\": [\n          \"MARSEILLE-OBS\",\n          \"BRAS-PISTOLET_SAPC\",\n          \"MOUCHAMPS_SAPC\"\n        ],\n        \"semantic_type\": \"\",\n        \"description\": \"\"\n      }\n    },\n    {\n      \"column\": \"Latitude\",\n      \"properties\": {\n        \"dtype\": \"number\",\n        \"std\": 20.0999757022188,\n        \"min\": -66.663167,\n        \"max\": 51.055833,\n        \"num_unique_values\": 2080,\n        \"samples\": [\n          47.923,\n          42.263333,\n          47.243\n        ],\n        \"semantic_type\": \"\",\n        \"description\": \"\"\n      }\n    },\n    {\n      \"column\": \"Longitude\",\n      \"properties\": {\n        \"dtype\": \"number\",\n        \"std\": 38.799134296880936,\n        \"min\": -178.121,\n        \"max\": 168.035667,\n        \"num_unique_values\": 2095,\n        \"samples\": [\n          3.915,\n          3.288833,\n          6.283167\n        ],\n        \"semantic_type\": \"\",\n        \"description\": \"\"\n      }\n    },\n    {\n      \"column\": \"Altitude\",\n      \"properties\": {\n        \"dtype\": \"number\",\n        \"std\": 454,\n        \"min\": 0,\n        \"max\": 3845,\n        \"num_unique_values\": 849,\n        \"samples\": [\n          984,\n          65,\n          1525\n        ],\n        \"semantic_type\": \"\",\n        \"description\": \"\"\n      }\n    },\n    {\n      \"column\": \"Date_ouverture\",\n      \"properties\": {\n        \"dtype\": \"object\",\n        \"num_unique_values\": 1069,\n        \"samples\": [\n          \"2005-11-16\",\n          \"1947-01-01\",\n          \"1912-12-01\"\n        ],\n        \"semantic_type\": \"\",\n        \"description\": \"\"\n      }\n    },\n    {\n      \"column\": \"Pack\",\n      \"properties\": {\n        \"dtype\": \"category\",\n        \"num_unique_values\": 2,\n        \"samples\": [\n          \"ETENDU\",\n          \"RADOME\"\n        ],\n        \"semantic_type\": \"\",\n        \"description\": \"\"\n      }\n    }\n  ]\n}"
            }
          },
          "metadata": {},
          "execution_count": 19
        }
      ]
    },
    {
      "cell_type": "code",
      "source": [
        "len(df['Id_station'].unique())"
      ],
      "metadata": {
        "colab": {
          "base_uri": "https://localhost:8080/"
        },
        "id": "GoJv26TnPi3D",
        "outputId": "62e28655-fc1d-4efe-cd8f-9dfdc1fce4b6"
      },
      "execution_count": 21,
      "outputs": [
        {
          "output_type": "execute_result",
          "data": {
            "text/plain": [
              "2130"
            ]
          },
          "metadata": {},
          "execution_count": 21
        }
      ]
    },
    {
      "cell_type": "code",
      "source": [
        "# TODO : extraire les départements avec lat/lon\n",
        "# ex :\n",
        "#url = 'https://raw.githubusercontent.com/gregoiredavid/france-geojson/master/departements.geojson'\n",
        "#response = requests.get(url)\n",
        "#departments = json.loads(response.text)\n",
        "\n",
        "# URLs à exploiter :\n",
        "# https://www.data.gouv.fr/fr/datasets/contours-des-departements-francais-issus-d-openstreetmap/#/resources\n",
        "# https://www.data.gouv.fr/fr/datasets/carte-des-departements-2-1/#/resources"
      ],
      "metadata": {
        "id": "CZodbQFRQj5t"
      },
      "execution_count": null,
      "outputs": []
    },
    {
      "cell_type": "code",
      "source": [
        "from shapely.geometry import shape, Point\n",
        "\n",
        "# Define a function to get the department name\n",
        "def get_department(latitude, longitude):\n",
        "    point = Point(longitude, latitude)\n",
        "    for feature in departments['features']:\n",
        "        polygon = shape(feature['geometry'])\n",
        "        if polygon.contains(point):\n",
        "            return feature['properties']['nom']\n",
        "    return None"
      ],
      "metadata": {
        "id": "vOf3WiVNQs3a"
      },
      "execution_count": null,
      "outputs": []
    },
    {
      "cell_type": "code",
      "source": [
        "# Test the function\n",
        "latitude = 48.8566\n",
        "longitude = 2.3522\n",
        "department = get_department(latitude, longitude)\n",
        "print(f\"The department is: {department}\")"
      ],
      "metadata": {
        "id": "7o9VZSsjQ6is"
      },
      "execution_count": null,
      "outputs": []
    },
    {
      "cell_type": "code",
      "source": [
        "# TODO : identifier les stations du 93"
      ],
      "metadata": {
        "id": "-VesKfvHTUQG"
      },
      "execution_count": null,
      "outputs": []
    },
    {
      "cell_type": "code",
      "source": [
        "# TODO : permettra de récupérer tous les paramètres dispos pour une station (puis toutes)\n",
        "# url = 'https://public-api.meteofrance.fr/public/DPObs/v1/station-horaire'\n",
        "# Quel différénce entre les deux urls ?\n",
        "# url = 'https://public-api.meteofrance.fr/public/DPObs/v1/station-infrahoraire-6m'"
      ],
      "metadata": {
        "id": "VMz_sH6MTZ38"
      },
      "execution_count": null,
      "outputs": []
    },
    {
      "cell_type": "code",
      "source": [
        "# TODO : puis, tester l'API suivante :\n",
        "# https://portail-api.meteofrance.fr/web/fr/api/DonneesPubliquesClimatologie\n",
        "# Contient les GET suivant :\n",
        "# /liste-stations/infrahoraire-6m\n",
        "# /liste-stations/horaire\n",
        "# /liste-stations/quotidienne\n",
        "# /information-station"
      ],
      "metadata": {
        "id": "_CWPOwYxT2V-"
      },
      "execution_count": null,
      "outputs": []
    },
    {
      "cell_type": "code",
      "source": [],
      "metadata": {
        "id": "2ipXJvRr-mah"
      },
      "execution_count": null,
      "outputs": []
    }
  ]
}
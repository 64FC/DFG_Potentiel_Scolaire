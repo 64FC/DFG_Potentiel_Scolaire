{
  "nbformat": 4,
  "nbformat_minor": 0,
  "metadata": {
    "colab": {
      "provenance": [],
      "collapsed_sections": [
        "3zRljnVGbQQf",
        "ZLgYeiHLUd3f",
        "-zlDSu-ZkKim"
      ],
      "authorship_tag": "ABX9TyMjd9U38Ny7rz80MpCIg7m2"
    },
    "kernelspec": {
      "name": "python3",
      "display_name": "Python 3"
    },
    "language_info": {
      "name": "python"
    }
  },
  "cells": [
    {
      "cell_type": "markdown",
      "source": [
        "# Potentiel s(c)olaire\n",
        "\n",
        "Données disponibles :\n",
        "* [Annuaire de l'éducation gouv.fr](https://data.education.gouv.fr/explore/dataset/fr-en-annuaire-education/information/?disjunctive.type_etablissement&disjunctive.libelle_academie&disjunctive.libelle_region&disjunctive.ministere_tutelle&disjunctive.appartenance_education_prioritaire&disjunctive.nom_commune&disjunctive.code_postal&disjunctive.code_departement)\n",
        "* [BD Topo](https://geoservices.ign.fr/bdtopo)"
      ],
      "metadata": {
        "id": "GtQLiWEhGjfG"
      }
    },
    {
      "cell_type": "markdown",
      "source": [
        "## Données gouv.fr"
      ],
      "metadata": {
        "id": "0o6Pk-dJBa86"
      }
    },
    {
      "cell_type": "markdown",
      "source": [
        "### Récupération des données"
      ],
      "metadata": {
        "id": "SIoeASJETZjG"
      }
    },
    {
      "cell_type": "code",
      "source": [
        "# Je commence par installer le module requests pour récupérer les données via API\n",
        "#!pip install requests"
      ],
      "metadata": {
        "colab": {
          "base_uri": "https://localhost:8080/"
        },
        "id": "9bsiADptGjrl",
        "outputId": "8d1ab702-1bc7-4181-aa93-4e1514698e39"
      },
      "execution_count": null,
      "outputs": [
        {
          "output_type": "stream",
          "name": "stdout",
          "text": [
            "Requirement already satisfied: requests in /usr/local/lib/python3.11/dist-packages (2.32.3)\n",
            "Requirement already satisfied: charset-normalizer<4,>=2 in /usr/local/lib/python3.11/dist-packages (from requests) (3.4.1)\n",
            "Requirement already satisfied: idna<4,>=2.5 in /usr/local/lib/python3.11/dist-packages (from requests) (3.10)\n",
            "Requirement already satisfied: urllib3<3,>=1.21.1 in /usr/local/lib/python3.11/dist-packages (from requests) (2.3.0)\n",
            "Requirement already satisfied: certifi>=2017.4.17 in /usr/local/lib/python3.11/dist-packages (from requests) (2024.12.14)\n"
          ]
        }
      ]
    },
    {
      "cell_type": "code",
      "source": [
        "# Import des modules utilisés\n",
        "import requests\n",
        "import pandas as pd"
      ],
      "metadata": {
        "id": "2lb0AGwPGkh-"
      },
      "execution_count": null,
      "outputs": []
    },
    {
      "cell_type": "code",
      "source": [
        "# Définition de l'url qui contient les données\n",
        "url = 'https://data.education.gouv.fr/api/explore/v2.1/catalog/datasets/fr-en-annuaire-education/exports/json'\n",
        "\n",
        "# Récupération des données\n",
        "response = requests.get(url)\n",
        "\n",
        "# Vérification de la bonne récupération\n",
        "if response.status_code == 200:\n",
        "  data = response.json()\n",
        "  print(\"Données disponibles !\\n\")\n",
        "  # Création du jeu de données\n",
        "  df = pd.DataFrame(data)\n",
        "  print(f\"Le dataframe contient {df.shape[0]} lignes et {df.shape[1]} colonnes.\")\n",
        "else:\n",
        "  print(f\"Erreur: {response.status_code}\")"
      ],
      "metadata": {
        "colab": {
          "base_uri": "https://localhost:8080/"
        },
        "id": "aspzNNrgGtz2",
        "outputId": "f9623130-4d6c-4845-d3fc-1e92309026d3"
      },
      "execution_count": null,
      "outputs": [
        {
          "output_type": "stream",
          "name": "stdout",
          "text": [
            "Données disponibles !\n",
            "\n",
            "Le dataframe contient 69649 lignes et 72 colonnes. Ci-dessous un extrait :\n",
            "\n"
          ]
        }
      ]
    },
    {
      "cell_type": "code",
      "source": [
        "# Affichage des premières lignes du jeu de données\n",
        "df.head()"
      ],
      "metadata": {
        "colab": {
          "base_uri": "https://localhost:8080/",
          "height": 446
        },
        "id": "oTeOaXEOJcxn",
        "outputId": "fd60d6cf-ef13-413b-985d-124a70c38d7a"
      },
      "execution_count": null,
      "outputs": [
        {
          "output_type": "execute_result",
          "data": {
            "text/plain": [
              "  identifiant_de_l_etablissement                   nom_etablissement  \\\n",
              "0                       0470132N  Ecole primaire Jean-Irénée Lagnoux   \n",
              "1                       0470154M     Ecole élémentaire Jean Villemin   \n",
              "2                       0470160U  Ecole élémentaire Marc Castelnérac   \n",
              "3                       0470172G       Ecole primaire Didier Lapeyre   \n",
              "4                       0470175K          Ecole primaire Simone Veil   \n",
              "\n",
              "  type_etablissement statut_public_prive                     adresse_1  \\\n",
              "0              Ecole              Public            312 rue René Marty   \n",
              "1              Ecole              Public  4 place Jean-François Poncet   \n",
              "2              Ecole              Public          2 rue André Tissidre   \n",
              "3              Ecole              Public                Rue de la Gare   \n",
              "4              Ecole              Public         24 boulevard Scaliger   \n",
              "\n",
              "                 adresse_2            adresse_3 code_postal code_commune  \\\n",
              "0                 AU BOURG          47240 LAFOX       47240        47128   \n",
              "1                 LE BOURG  47480 PONT DU CASSE       47480        47209   \n",
              "2                     None   47510 FOULAYRONNES       47510        47100   \n",
              "3  Saint Pierre de Gaubert            47550 BOE       47550        47031   \n",
              "4                     None           47000 AGEN       47000        47001   \n",
              "\n",
              "     nom_commune  ...               libelle_nature code_type_contrat_prive  \\\n",
              "0          Lafox  ...  ECOLE DE NIVEAU ELEMENTAIRE                      99   \n",
              "1  Pont-du-Casse  ...  ECOLE DE NIVEAU ELEMENTAIRE                      99   \n",
              "2   Foulayronnes  ...  ECOLE DE NIVEAU ELEMENTAIRE                      99   \n",
              "3            Boé  ...  ECOLE DE NIVEAU ELEMENTAIRE                      99   \n",
              "4           Agen  ...  ECOLE DE NIVEAU ELEMENTAIRE                      99   \n",
              "\n",
              "       pial  etablissement_mere  type_rattachement_etablissement_mere  \\\n",
              "0  0470720C                None                                  None   \n",
              "1  0470677F                None                                  None   \n",
              "2  0470005A                None                                  None   \n",
              "3  0470008D                None                                  None   \n",
              "4  0470005A                None                                  None   \n",
              "\n",
              "  code_circonscription code_zone_animation_pedagogique  \\\n",
              "0             0470897V                          047030   \n",
              "1             0470897V                          047030   \n",
              "2             0470897V                          047030   \n",
              "3             0470897V                          047030   \n",
              "4             0470897V                          047030   \n",
              "\n",
              "  libelle_zone_animation_pedagogique code_bassin_formation  \\\n",
              "0                    ZAP 047030 AGEN                  None   \n",
              "1                    ZAP 047030 AGEN                  None   \n",
              "2                    ZAP 047030 AGEN                 04401   \n",
              "3                    ZAP 047030 AGEN                  None   \n",
              "4                    ZAP 047030 AGEN                 04401   \n",
              "\n",
              "  libelle_bassin_formation  \n",
              "0                     None  \n",
              "1                     None  \n",
              "2               AGEN-NERAC  \n",
              "3                     None  \n",
              "4               AGEN-NERAC  \n",
              "\n",
              "[5 rows x 72 columns]"
            ],
            "text/html": [
              "\n",
              "  <div id=\"df-83063920-8229-4d38-a7c0-74f0e0762940\" class=\"colab-df-container\">\n",
              "    <div>\n",
              "<style scoped>\n",
              "    .dataframe tbody tr th:only-of-type {\n",
              "        vertical-align: middle;\n",
              "    }\n",
              "\n",
              "    .dataframe tbody tr th {\n",
              "        vertical-align: top;\n",
              "    }\n",
              "\n",
              "    .dataframe thead th {\n",
              "        text-align: right;\n",
              "    }\n",
              "</style>\n",
              "<table border=\"1\" class=\"dataframe\">\n",
              "  <thead>\n",
              "    <tr style=\"text-align: right;\">\n",
              "      <th></th>\n",
              "      <th>identifiant_de_l_etablissement</th>\n",
              "      <th>nom_etablissement</th>\n",
              "      <th>type_etablissement</th>\n",
              "      <th>statut_public_prive</th>\n",
              "      <th>adresse_1</th>\n",
              "      <th>adresse_2</th>\n",
              "      <th>adresse_3</th>\n",
              "      <th>code_postal</th>\n",
              "      <th>code_commune</th>\n",
              "      <th>nom_commune</th>\n",
              "      <th>...</th>\n",
              "      <th>libelle_nature</th>\n",
              "      <th>code_type_contrat_prive</th>\n",
              "      <th>pial</th>\n",
              "      <th>etablissement_mere</th>\n",
              "      <th>type_rattachement_etablissement_mere</th>\n",
              "      <th>code_circonscription</th>\n",
              "      <th>code_zone_animation_pedagogique</th>\n",
              "      <th>libelle_zone_animation_pedagogique</th>\n",
              "      <th>code_bassin_formation</th>\n",
              "      <th>libelle_bassin_formation</th>\n",
              "    </tr>\n",
              "  </thead>\n",
              "  <tbody>\n",
              "    <tr>\n",
              "      <th>0</th>\n",
              "      <td>0470132N</td>\n",
              "      <td>Ecole primaire Jean-Irénée Lagnoux</td>\n",
              "      <td>Ecole</td>\n",
              "      <td>Public</td>\n",
              "      <td>312 rue René Marty</td>\n",
              "      <td>AU BOURG</td>\n",
              "      <td>47240 LAFOX</td>\n",
              "      <td>47240</td>\n",
              "      <td>47128</td>\n",
              "      <td>Lafox</td>\n",
              "      <td>...</td>\n",
              "      <td>ECOLE DE NIVEAU ELEMENTAIRE</td>\n",
              "      <td>99</td>\n",
              "      <td>0470720C</td>\n",
              "      <td>None</td>\n",
              "      <td>None</td>\n",
              "      <td>0470897V</td>\n",
              "      <td>047030</td>\n",
              "      <td>ZAP 047030 AGEN</td>\n",
              "      <td>None</td>\n",
              "      <td>None</td>\n",
              "    </tr>\n",
              "    <tr>\n",
              "      <th>1</th>\n",
              "      <td>0470154M</td>\n",
              "      <td>Ecole élémentaire Jean Villemin</td>\n",
              "      <td>Ecole</td>\n",
              "      <td>Public</td>\n",
              "      <td>4 place Jean-François Poncet</td>\n",
              "      <td>LE BOURG</td>\n",
              "      <td>47480 PONT DU CASSE</td>\n",
              "      <td>47480</td>\n",
              "      <td>47209</td>\n",
              "      <td>Pont-du-Casse</td>\n",
              "      <td>...</td>\n",
              "      <td>ECOLE DE NIVEAU ELEMENTAIRE</td>\n",
              "      <td>99</td>\n",
              "      <td>0470677F</td>\n",
              "      <td>None</td>\n",
              "      <td>None</td>\n",
              "      <td>0470897V</td>\n",
              "      <td>047030</td>\n",
              "      <td>ZAP 047030 AGEN</td>\n",
              "      <td>None</td>\n",
              "      <td>None</td>\n",
              "    </tr>\n",
              "    <tr>\n",
              "      <th>2</th>\n",
              "      <td>0470160U</td>\n",
              "      <td>Ecole élémentaire Marc Castelnérac</td>\n",
              "      <td>Ecole</td>\n",
              "      <td>Public</td>\n",
              "      <td>2 rue André Tissidre</td>\n",
              "      <td>None</td>\n",
              "      <td>47510 FOULAYRONNES</td>\n",
              "      <td>47510</td>\n",
              "      <td>47100</td>\n",
              "      <td>Foulayronnes</td>\n",
              "      <td>...</td>\n",
              "      <td>ECOLE DE NIVEAU ELEMENTAIRE</td>\n",
              "      <td>99</td>\n",
              "      <td>0470005A</td>\n",
              "      <td>None</td>\n",
              "      <td>None</td>\n",
              "      <td>0470897V</td>\n",
              "      <td>047030</td>\n",
              "      <td>ZAP 047030 AGEN</td>\n",
              "      <td>04401</td>\n",
              "      <td>AGEN-NERAC</td>\n",
              "    </tr>\n",
              "    <tr>\n",
              "      <th>3</th>\n",
              "      <td>0470172G</td>\n",
              "      <td>Ecole primaire Didier Lapeyre</td>\n",
              "      <td>Ecole</td>\n",
              "      <td>Public</td>\n",
              "      <td>Rue de la Gare</td>\n",
              "      <td>Saint Pierre de Gaubert</td>\n",
              "      <td>47550 BOE</td>\n",
              "      <td>47550</td>\n",
              "      <td>47031</td>\n",
              "      <td>Boé</td>\n",
              "      <td>...</td>\n",
              "      <td>ECOLE DE NIVEAU ELEMENTAIRE</td>\n",
              "      <td>99</td>\n",
              "      <td>0470008D</td>\n",
              "      <td>None</td>\n",
              "      <td>None</td>\n",
              "      <td>0470897V</td>\n",
              "      <td>047030</td>\n",
              "      <td>ZAP 047030 AGEN</td>\n",
              "      <td>None</td>\n",
              "      <td>None</td>\n",
              "    </tr>\n",
              "    <tr>\n",
              "      <th>4</th>\n",
              "      <td>0470175K</td>\n",
              "      <td>Ecole primaire Simone Veil</td>\n",
              "      <td>Ecole</td>\n",
              "      <td>Public</td>\n",
              "      <td>24 boulevard Scaliger</td>\n",
              "      <td>None</td>\n",
              "      <td>47000 AGEN</td>\n",
              "      <td>47000</td>\n",
              "      <td>47001</td>\n",
              "      <td>Agen</td>\n",
              "      <td>...</td>\n",
              "      <td>ECOLE DE NIVEAU ELEMENTAIRE</td>\n",
              "      <td>99</td>\n",
              "      <td>0470005A</td>\n",
              "      <td>None</td>\n",
              "      <td>None</td>\n",
              "      <td>0470897V</td>\n",
              "      <td>047030</td>\n",
              "      <td>ZAP 047030 AGEN</td>\n",
              "      <td>04401</td>\n",
              "      <td>AGEN-NERAC</td>\n",
              "    </tr>\n",
              "  </tbody>\n",
              "</table>\n",
              "<p>5 rows × 72 columns</p>\n",
              "</div>\n",
              "    <div class=\"colab-df-buttons\">\n",
              "\n",
              "  <div class=\"colab-df-container\">\n",
              "    <button class=\"colab-df-convert\" onclick=\"convertToInteractive('df-83063920-8229-4d38-a7c0-74f0e0762940')\"\n",
              "            title=\"Convert this dataframe to an interactive table.\"\n",
              "            style=\"display:none;\">\n",
              "\n",
              "  <svg xmlns=\"http://www.w3.org/2000/svg\" height=\"24px\" viewBox=\"0 -960 960 960\">\n",
              "    <path d=\"M120-120v-720h720v720H120Zm60-500h600v-160H180v160Zm220 220h160v-160H400v160Zm0 220h160v-160H400v160ZM180-400h160v-160H180v160Zm440 0h160v-160H620v160ZM180-180h160v-160H180v160Zm440 0h160v-160H620v160Z\"/>\n",
              "  </svg>\n",
              "    </button>\n",
              "\n",
              "  <style>\n",
              "    .colab-df-container {\n",
              "      display:flex;\n",
              "      gap: 12px;\n",
              "    }\n",
              "\n",
              "    .colab-df-convert {\n",
              "      background-color: #E8F0FE;\n",
              "      border: none;\n",
              "      border-radius: 50%;\n",
              "      cursor: pointer;\n",
              "      display: none;\n",
              "      fill: #1967D2;\n",
              "      height: 32px;\n",
              "      padding: 0 0 0 0;\n",
              "      width: 32px;\n",
              "    }\n",
              "\n",
              "    .colab-df-convert:hover {\n",
              "      background-color: #E2EBFA;\n",
              "      box-shadow: 0px 1px 2px rgba(60, 64, 67, 0.3), 0px 1px 3px 1px rgba(60, 64, 67, 0.15);\n",
              "      fill: #174EA6;\n",
              "    }\n",
              "\n",
              "    .colab-df-buttons div {\n",
              "      margin-bottom: 4px;\n",
              "    }\n",
              "\n",
              "    [theme=dark] .colab-df-convert {\n",
              "      background-color: #3B4455;\n",
              "      fill: #D2E3FC;\n",
              "    }\n",
              "\n",
              "    [theme=dark] .colab-df-convert:hover {\n",
              "      background-color: #434B5C;\n",
              "      box-shadow: 0px 1px 3px 1px rgba(0, 0, 0, 0.15);\n",
              "      filter: drop-shadow(0px 1px 2px rgba(0, 0, 0, 0.3));\n",
              "      fill: #FFFFFF;\n",
              "    }\n",
              "  </style>\n",
              "\n",
              "    <script>\n",
              "      const buttonEl =\n",
              "        document.querySelector('#df-83063920-8229-4d38-a7c0-74f0e0762940 button.colab-df-convert');\n",
              "      buttonEl.style.display =\n",
              "        google.colab.kernel.accessAllowed ? 'block' : 'none';\n",
              "\n",
              "      async function convertToInteractive(key) {\n",
              "        const element = document.querySelector('#df-83063920-8229-4d38-a7c0-74f0e0762940');\n",
              "        const dataTable =\n",
              "          await google.colab.kernel.invokeFunction('convertToInteractive',\n",
              "                                                    [key], {});\n",
              "        if (!dataTable) return;\n",
              "\n",
              "        const docLinkHtml = 'Like what you see? Visit the ' +\n",
              "          '<a target=\"_blank\" href=https://colab.research.google.com/notebooks/data_table.ipynb>data table notebook</a>'\n",
              "          + ' to learn more about interactive tables.';\n",
              "        element.innerHTML = '';\n",
              "        dataTable['output_type'] = 'display_data';\n",
              "        await google.colab.output.renderOutput(dataTable, element);\n",
              "        const docLink = document.createElement('div');\n",
              "        docLink.innerHTML = docLinkHtml;\n",
              "        element.appendChild(docLink);\n",
              "      }\n",
              "    </script>\n",
              "  </div>\n",
              "\n",
              "\n",
              "<div id=\"df-ed5b7668-642e-453f-943b-05b926d1ba0d\">\n",
              "  <button class=\"colab-df-quickchart\" onclick=\"quickchart('df-ed5b7668-642e-453f-943b-05b926d1ba0d')\"\n",
              "            title=\"Suggest charts\"\n",
              "            style=\"display:none;\">\n",
              "\n",
              "<svg xmlns=\"http://www.w3.org/2000/svg\" height=\"24px\"viewBox=\"0 0 24 24\"\n",
              "     width=\"24px\">\n",
              "    <g>\n",
              "        <path d=\"M19 3H5c-1.1 0-2 .9-2 2v14c0 1.1.9 2 2 2h14c1.1 0 2-.9 2-2V5c0-1.1-.9-2-2-2zM9 17H7v-7h2v7zm4 0h-2V7h2v10zm4 0h-2v-4h2v4z\"/>\n",
              "    </g>\n",
              "</svg>\n",
              "  </button>\n",
              "\n",
              "<style>\n",
              "  .colab-df-quickchart {\n",
              "      --bg-color: #E8F0FE;\n",
              "      --fill-color: #1967D2;\n",
              "      --hover-bg-color: #E2EBFA;\n",
              "      --hover-fill-color: #174EA6;\n",
              "      --disabled-fill-color: #AAA;\n",
              "      --disabled-bg-color: #DDD;\n",
              "  }\n",
              "\n",
              "  [theme=dark] .colab-df-quickchart {\n",
              "      --bg-color: #3B4455;\n",
              "      --fill-color: #D2E3FC;\n",
              "      --hover-bg-color: #434B5C;\n",
              "      --hover-fill-color: #FFFFFF;\n",
              "      --disabled-bg-color: #3B4455;\n",
              "      --disabled-fill-color: #666;\n",
              "  }\n",
              "\n",
              "  .colab-df-quickchart {\n",
              "    background-color: var(--bg-color);\n",
              "    border: none;\n",
              "    border-radius: 50%;\n",
              "    cursor: pointer;\n",
              "    display: none;\n",
              "    fill: var(--fill-color);\n",
              "    height: 32px;\n",
              "    padding: 0;\n",
              "    width: 32px;\n",
              "  }\n",
              "\n",
              "  .colab-df-quickchart:hover {\n",
              "    background-color: var(--hover-bg-color);\n",
              "    box-shadow: 0 1px 2px rgba(60, 64, 67, 0.3), 0 1px 3px 1px rgba(60, 64, 67, 0.15);\n",
              "    fill: var(--button-hover-fill-color);\n",
              "  }\n",
              "\n",
              "  .colab-df-quickchart-complete:disabled,\n",
              "  .colab-df-quickchart-complete:disabled:hover {\n",
              "    background-color: var(--disabled-bg-color);\n",
              "    fill: var(--disabled-fill-color);\n",
              "    box-shadow: none;\n",
              "  }\n",
              "\n",
              "  .colab-df-spinner {\n",
              "    border: 2px solid var(--fill-color);\n",
              "    border-color: transparent;\n",
              "    border-bottom-color: var(--fill-color);\n",
              "    animation:\n",
              "      spin 1s steps(1) infinite;\n",
              "  }\n",
              "\n",
              "  @keyframes spin {\n",
              "    0% {\n",
              "      border-color: transparent;\n",
              "      border-bottom-color: var(--fill-color);\n",
              "      border-left-color: var(--fill-color);\n",
              "    }\n",
              "    20% {\n",
              "      border-color: transparent;\n",
              "      border-left-color: var(--fill-color);\n",
              "      border-top-color: var(--fill-color);\n",
              "    }\n",
              "    30% {\n",
              "      border-color: transparent;\n",
              "      border-left-color: var(--fill-color);\n",
              "      border-top-color: var(--fill-color);\n",
              "      border-right-color: var(--fill-color);\n",
              "    }\n",
              "    40% {\n",
              "      border-color: transparent;\n",
              "      border-right-color: var(--fill-color);\n",
              "      border-top-color: var(--fill-color);\n",
              "    }\n",
              "    60% {\n",
              "      border-color: transparent;\n",
              "      border-right-color: var(--fill-color);\n",
              "    }\n",
              "    80% {\n",
              "      border-color: transparent;\n",
              "      border-right-color: var(--fill-color);\n",
              "      border-bottom-color: var(--fill-color);\n",
              "    }\n",
              "    90% {\n",
              "      border-color: transparent;\n",
              "      border-bottom-color: var(--fill-color);\n",
              "    }\n",
              "  }\n",
              "</style>\n",
              "\n",
              "  <script>\n",
              "    async function quickchart(key) {\n",
              "      const quickchartButtonEl =\n",
              "        document.querySelector('#' + key + ' button');\n",
              "      quickchartButtonEl.disabled = true;  // To prevent multiple clicks.\n",
              "      quickchartButtonEl.classList.add('colab-df-spinner');\n",
              "      try {\n",
              "        const charts = await google.colab.kernel.invokeFunction(\n",
              "            'suggestCharts', [key], {});\n",
              "      } catch (error) {\n",
              "        console.error('Error during call to suggestCharts:', error);\n",
              "      }\n",
              "      quickchartButtonEl.classList.remove('colab-df-spinner');\n",
              "      quickchartButtonEl.classList.add('colab-df-quickchart-complete');\n",
              "    }\n",
              "    (() => {\n",
              "      let quickchartButtonEl =\n",
              "        document.querySelector('#df-ed5b7668-642e-453f-943b-05b926d1ba0d button');\n",
              "      quickchartButtonEl.style.display =\n",
              "        google.colab.kernel.accessAllowed ? 'block' : 'none';\n",
              "    })();\n",
              "  </script>\n",
              "</div>\n",
              "\n",
              "    </div>\n",
              "  </div>\n"
            ],
            "application/vnd.google.colaboratory.intrinsic+json": {
              "type": "dataframe",
              "variable_name": "df"
            }
          },
          "metadata": {},
          "execution_count": 8
        }
      ]
    },
    {
      "cell_type": "code",
      "source": [
        "# Vérification que toutes les données ont été exportées\n",
        "\n",
        "# Url permettant d'accéder aux enregistrements (dont le total_count)\n",
        "url_ = 'https://data.education.gouv.fr/api/explore/v2.1/catalog/datasets/fr-en-annuaire-education/records'\n",
        "\n",
        "# Récupération via appel GET\n",
        "response_ = requests.get(url_)\n",
        "\n",
        "# On s'assure que l'appel a fonctionné\n",
        "if response_.status_code == 200:\n",
        "    data_ = response_.json()\n",
        "else:\n",
        "    print(f\"Error: {response_.status_code}\")\n",
        "\n",
        "# Enfin, on compare avec la taille attendue\n",
        "try:\n",
        "  assert data_['total_count'] == len(df)\n",
        "except AssertionError as e:\n",
        "  print(f\"Données non complètement récupérées, erreur : {f}.\")\n",
        "else:\n",
        "  print(\"Toutes les données sont bien récupérées.\")"
      ],
      "metadata": {
        "colab": {
          "base_uri": "https://localhost:8080/"
        },
        "id": "n5ZunbP3Jq1z",
        "outputId": "924f4a7c-ff2b-4f77-cda2-6842e85ff6a9"
      },
      "execution_count": null,
      "outputs": [
        {
          "output_type": "stream",
          "name": "stdout",
          "text": [
            "Toutes les données sont bien récupérées.\n"
          ]
        }
      ]
    },
    {
      "cell_type": "markdown",
      "source": [
        "### Analyse des colonnes"
      ],
      "metadata": {
        "id": "EZsOVUuvTdKk"
      }
    },
    {
      "cell_type": "code",
      "source": [
        "# Liste des colonnes pour analyse\n",
        "list(df.columns)"
      ],
      "metadata": {
        "colab": {
          "base_uri": "https://localhost:8080/"
        },
        "id": "hRQnmV6JTCFx",
        "outputId": "2ef54dd5-61ca-4a56-da2a-1ab9ebdbf9ad"
      },
      "execution_count": null,
      "outputs": [
        {
          "output_type": "execute_result",
          "data": {
            "text/plain": [
              "['identifiant_de_l_etablissement',\n",
              " 'nom_etablissement',\n",
              " 'type_etablissement',\n",
              " 'statut_public_prive',\n",
              " 'adresse_1',\n",
              " 'adresse_2',\n",
              " 'adresse_3',\n",
              " 'code_postal',\n",
              " 'code_commune',\n",
              " 'nom_commune',\n",
              " 'code_departement',\n",
              " 'code_academie',\n",
              " 'code_region',\n",
              " 'ecole_maternelle',\n",
              " 'ecole_elementaire',\n",
              " 'voie_generale',\n",
              " 'voie_technologique',\n",
              " 'voie_professionnelle',\n",
              " 'telephone',\n",
              " 'fax',\n",
              " 'web',\n",
              " 'mail',\n",
              " 'restauration',\n",
              " 'hebergement',\n",
              " 'ulis',\n",
              " 'apprentissage',\n",
              " 'segpa',\n",
              " 'section_arts',\n",
              " 'section_cinema',\n",
              " 'section_theatre',\n",
              " 'section_sport',\n",
              " 'section_internationale',\n",
              " 'section_europeenne',\n",
              " 'lycee_agricole',\n",
              " 'lycee_militaire',\n",
              " 'lycee_des_metiers',\n",
              " 'post_bac',\n",
              " 'appartenance_education_prioritaire',\n",
              " 'greta',\n",
              " 'siren_siret',\n",
              " 'nombre_d_eleves',\n",
              " 'fiche_onisep',\n",
              " 'position',\n",
              " 'type_contrat_prive',\n",
              " 'libelle_departement',\n",
              " 'libelle_academie',\n",
              " 'libelle_region',\n",
              " 'coordx_origine',\n",
              " 'coordy_origine',\n",
              " 'epsg_origine',\n",
              " 'nom_circonscription',\n",
              " 'latitude',\n",
              " 'longitude',\n",
              " 'precision_localisation',\n",
              " 'date_ouverture',\n",
              " 'date_maj_ligne',\n",
              " 'etat',\n",
              " 'ministere_tutelle',\n",
              " 'multi_uai',\n",
              " 'rpi_concentre',\n",
              " 'rpi_disperse',\n",
              " 'code_nature',\n",
              " 'libelle_nature',\n",
              " 'code_type_contrat_prive',\n",
              " 'pial',\n",
              " 'etablissement_mere',\n",
              " 'type_rattachement_etablissement_mere',\n",
              " 'code_circonscription',\n",
              " 'code_zone_animation_pedagogique',\n",
              " 'libelle_zone_animation_pedagogique',\n",
              " 'code_bassin_formation',\n",
              " 'libelle_bassin_formation']"
            ]
          },
          "metadata": {},
          "execution_count": 10
        }
      ]
    },
    {
      "cell_type": "code",
      "source": [
        "print(f\"Valeurs uniques : {len(df['identifiant_de_l_etablissement'].unique())}\\n\")\n",
        "df['identifiant_de_l_etablissement'].sample(n=5, random_state=23)"
      ],
      "metadata": {
        "colab": {
          "base_uri": "https://localhost:8080/",
          "height": 276
        },
        "id": "Wse8411pKgsm",
        "outputId": "7aecca4c-1974-48d8-d97e-275105bb87be"
      },
      "execution_count": null,
      "outputs": [
        {
          "output_type": "stream",
          "name": "stdout",
          "text": [
            "Valeurs uniques : 69567\n",
            "\n"
          ]
        },
        {
          "output_type": "execute_result",
          "data": {
            "text/plain": [
              "38178    0330091V\n",
              "55129    0780891V\n",
              "8413     0573378M\n",
              "61005    0311451J\n",
              "39457    0660872P\n",
              "Name: identifiant_de_l_etablissement, dtype: object"
            ],
            "text/html": [
              "<div>\n",
              "<style scoped>\n",
              "    .dataframe tbody tr th:only-of-type {\n",
              "        vertical-align: middle;\n",
              "    }\n",
              "\n",
              "    .dataframe tbody tr th {\n",
              "        vertical-align: top;\n",
              "    }\n",
              "\n",
              "    .dataframe thead th {\n",
              "        text-align: right;\n",
              "    }\n",
              "</style>\n",
              "<table border=\"1\" class=\"dataframe\">\n",
              "  <thead>\n",
              "    <tr style=\"text-align: right;\">\n",
              "      <th></th>\n",
              "      <th>identifiant_de_l_etablissement</th>\n",
              "    </tr>\n",
              "  </thead>\n",
              "  <tbody>\n",
              "    <tr>\n",
              "      <th>38178</th>\n",
              "      <td>0330091V</td>\n",
              "    </tr>\n",
              "    <tr>\n",
              "      <th>55129</th>\n",
              "      <td>0780891V</td>\n",
              "    </tr>\n",
              "    <tr>\n",
              "      <th>8413</th>\n",
              "      <td>0573378M</td>\n",
              "    </tr>\n",
              "    <tr>\n",
              "      <th>61005</th>\n",
              "      <td>0311451J</td>\n",
              "    </tr>\n",
              "    <tr>\n",
              "      <th>39457</th>\n",
              "      <td>0660872P</td>\n",
              "    </tr>\n",
              "  </tbody>\n",
              "</table>\n",
              "</div><br><label><b>dtype:</b> object</label>"
            ]
          },
          "metadata": {},
          "execution_count": 11
        }
      ]
    },
    {
      "cell_type": "code",
      "source": [
        "print(f\"Valeurs uniques : {len(df['nom_etablissement'].unique())}\\n\")\n",
        "df['nom_etablissement'].sample(n=5, random_state=23)"
      ],
      "metadata": {
        "colab": {
          "base_uri": "https://localhost:8080/",
          "height": 276
        },
        "id": "EUkgcWqyTPlG",
        "outputId": "09d0fd62-29a5-4c58-9810-f51c8cedf0da"
      },
      "execution_count": null,
      "outputs": [
        {
          "output_type": "stream",
          "name": "stdout",
          "text": [
            "Valeurs uniques : 42631\n",
            "\n"
          ]
        },
        {
          "output_type": "execute_result",
          "data": {
            "text/plain": [
              "38178                    Collège Les Dagueys\n",
              "55129    Ecole élémentaire Ferdinand Buisson\n",
              "8413                 Ecole Primaire B. Rabas\n",
              "61005      Ecole primaire privée Saint-Louis\n",
              "39457             Collège privé Pompeu Fabra\n",
              "Name: nom_etablissement, dtype: object"
            ],
            "text/html": [
              "<div>\n",
              "<style scoped>\n",
              "    .dataframe tbody tr th:only-of-type {\n",
              "        vertical-align: middle;\n",
              "    }\n",
              "\n",
              "    .dataframe tbody tr th {\n",
              "        vertical-align: top;\n",
              "    }\n",
              "\n",
              "    .dataframe thead th {\n",
              "        text-align: right;\n",
              "    }\n",
              "</style>\n",
              "<table border=\"1\" class=\"dataframe\">\n",
              "  <thead>\n",
              "    <tr style=\"text-align: right;\">\n",
              "      <th></th>\n",
              "      <th>nom_etablissement</th>\n",
              "    </tr>\n",
              "  </thead>\n",
              "  <tbody>\n",
              "    <tr>\n",
              "      <th>38178</th>\n",
              "      <td>Collège Les Dagueys</td>\n",
              "    </tr>\n",
              "    <tr>\n",
              "      <th>55129</th>\n",
              "      <td>Ecole élémentaire Ferdinand Buisson</td>\n",
              "    </tr>\n",
              "    <tr>\n",
              "      <th>8413</th>\n",
              "      <td>Ecole Primaire B. Rabas</td>\n",
              "    </tr>\n",
              "    <tr>\n",
              "      <th>61005</th>\n",
              "      <td>Ecole primaire privée Saint-Louis</td>\n",
              "    </tr>\n",
              "    <tr>\n",
              "      <th>39457</th>\n",
              "      <td>Collège privé Pompeu Fabra</td>\n",
              "    </tr>\n",
              "  </tbody>\n",
              "</table>\n",
              "</div><br><label><b>dtype:</b> object</label>"
            ]
          },
          "metadata": {},
          "execution_count": 12
        }
      ]
    },
    {
      "cell_type": "code",
      "source": [
        "print(f\"Valeurs uniques : {len(df['type_etablissement'].unique())}\\n\")\n",
        "df['type_etablissement'].sample(n=5, random_state=23)"
      ],
      "metadata": {
        "colab": {
          "base_uri": "https://localhost:8080/",
          "height": 276
        },
        "id": "cA2dpB-tUABD",
        "outputId": "5039c355-5f5c-403a-90e8-2ec2a6c25ba6"
      },
      "execution_count": null,
      "outputs": [
        {
          "output_type": "stream",
          "name": "stdout",
          "text": [
            "Valeurs uniques : 9\n",
            "\n"
          ]
        },
        {
          "output_type": "execute_result",
          "data": {
            "text/plain": [
              "38178    Collège\n",
              "55129      Ecole\n",
              "8413       Ecole\n",
              "61005      Ecole\n",
              "39457    Collège\n",
              "Name: type_etablissement, dtype: object"
            ],
            "text/html": [
              "<div>\n",
              "<style scoped>\n",
              "    .dataframe tbody tr th:only-of-type {\n",
              "        vertical-align: middle;\n",
              "    }\n",
              "\n",
              "    .dataframe tbody tr th {\n",
              "        vertical-align: top;\n",
              "    }\n",
              "\n",
              "    .dataframe thead th {\n",
              "        text-align: right;\n",
              "    }\n",
              "</style>\n",
              "<table border=\"1\" class=\"dataframe\">\n",
              "  <thead>\n",
              "    <tr style=\"text-align: right;\">\n",
              "      <th></th>\n",
              "      <th>type_etablissement</th>\n",
              "    </tr>\n",
              "  </thead>\n",
              "  <tbody>\n",
              "    <tr>\n",
              "      <th>38178</th>\n",
              "      <td>Collège</td>\n",
              "    </tr>\n",
              "    <tr>\n",
              "      <th>55129</th>\n",
              "      <td>Ecole</td>\n",
              "    </tr>\n",
              "    <tr>\n",
              "      <th>8413</th>\n",
              "      <td>Ecole</td>\n",
              "    </tr>\n",
              "    <tr>\n",
              "      <th>61005</th>\n",
              "      <td>Ecole</td>\n",
              "    </tr>\n",
              "    <tr>\n",
              "      <th>39457</th>\n",
              "      <td>Collège</td>\n",
              "    </tr>\n",
              "  </tbody>\n",
              "</table>\n",
              "</div><br><label><b>dtype:</b> object</label>"
            ]
          },
          "metadata": {},
          "execution_count": 13
        }
      ]
    },
    {
      "cell_type": "code",
      "source": [
        "df['type_etablissement'].unique()"
      ],
      "metadata": {
        "colab": {
          "base_uri": "https://localhost:8080/"
        },
        "id": "0Yde3jA_UFt_",
        "outputId": "c1065902-b70c-4bb3-923e-f5b81f69cb23"
      },
      "execution_count": null,
      "outputs": [
        {
          "output_type": "execute_result",
          "data": {
            "text/plain": [
              "array(['Ecole', 'Collège', 'Lycée', 'EREA', 'Autre', 'Médico-social',\n",
              "       'Information et orientation', 'Service Administratif', None],\n",
              "      dtype=object)"
            ]
          },
          "metadata": {},
          "execution_count": 14
        }
      ]
    },
    {
      "cell_type": "code",
      "source": [
        "print(f\"Valeurs uniques : {len(df['statut_public_prive'].unique())}\\n\")\n",
        "df['statut_public_prive'].sample(n=5, random_state=23)"
      ],
      "metadata": {
        "colab": {
          "base_uri": "https://localhost:8080/",
          "height": 276
        },
        "id": "iAkvRlh5UJ70",
        "outputId": "2bcd5510-aa8a-473a-8917-2dd9ff6dd3eb"
      },
      "execution_count": null,
      "outputs": [
        {
          "output_type": "stream",
          "name": "stdout",
          "text": [
            "Valeurs uniques : 3\n",
            "\n"
          ]
        },
        {
          "output_type": "execute_result",
          "data": {
            "text/plain": [
              "38178    Public\n",
              "55129    Public\n",
              "8413     Public\n",
              "61005     Privé\n",
              "39457     Privé\n",
              "Name: statut_public_prive, dtype: object"
            ],
            "text/html": [
              "<div>\n",
              "<style scoped>\n",
              "    .dataframe tbody tr th:only-of-type {\n",
              "        vertical-align: middle;\n",
              "    }\n",
              "\n",
              "    .dataframe tbody tr th {\n",
              "        vertical-align: top;\n",
              "    }\n",
              "\n",
              "    .dataframe thead th {\n",
              "        text-align: right;\n",
              "    }\n",
              "</style>\n",
              "<table border=\"1\" class=\"dataframe\">\n",
              "  <thead>\n",
              "    <tr style=\"text-align: right;\">\n",
              "      <th></th>\n",
              "      <th>statut_public_prive</th>\n",
              "    </tr>\n",
              "  </thead>\n",
              "  <tbody>\n",
              "    <tr>\n",
              "      <th>38178</th>\n",
              "      <td>Public</td>\n",
              "    </tr>\n",
              "    <tr>\n",
              "      <th>55129</th>\n",
              "      <td>Public</td>\n",
              "    </tr>\n",
              "    <tr>\n",
              "      <th>8413</th>\n",
              "      <td>Public</td>\n",
              "    </tr>\n",
              "    <tr>\n",
              "      <th>61005</th>\n",
              "      <td>Privé</td>\n",
              "    </tr>\n",
              "    <tr>\n",
              "      <th>39457</th>\n",
              "      <td>Privé</td>\n",
              "    </tr>\n",
              "  </tbody>\n",
              "</table>\n",
              "</div><br><label><b>dtype:</b> object</label>"
            ]
          },
          "metadata": {},
          "execution_count": 15
        }
      ]
    },
    {
      "cell_type": "code",
      "source": [
        "df['statut_public_prive'].unique()"
      ],
      "metadata": {
        "colab": {
          "base_uri": "https://localhost:8080/"
        },
        "id": "RO6hs1yqU0Mi",
        "outputId": "e283eefa-eaa2-4a82-d65a-df6c36d77026"
      },
      "execution_count": null,
      "outputs": [
        {
          "output_type": "execute_result",
          "data": {
            "text/plain": [
              "array(['Public', 'Privé', None], dtype=object)"
            ]
          },
          "metadata": {},
          "execution_count": 16
        }
      ]
    },
    {
      "cell_type": "code",
      "source": [
        "print(f\"Valeurs uniques : {len(df['adresse_1'].unique())}\\n\")\n",
        "df['adresse_1'].sample(n=5, random_state=23)"
      ],
      "metadata": {
        "colab": {
          "base_uri": "https://localhost:8080/",
          "height": 276
        },
        "id": "WN8QU_JYU6MO",
        "outputId": "0738f404-ac1b-4135-ff62-cef409dcb340"
      },
      "execution_count": null,
      "outputs": [
        {
          "output_type": "stream",
          "name": "stdout",
          "text": [
            "Valeurs uniques : 51662\n",
            "\n"
          ]
        },
        {
          "output_type": "execute_result",
          "data": {
            "text/plain": [
              "38178    27 avenue François Mitterrand\n",
              "55129         05 rue Ferdinand Buisson\n",
              "8413             1 RUE DE LA PASSERINE\n",
              "61005                 78 place du Fort\n",
              "39457        1 avenue de la République\n",
              "Name: adresse_1, dtype: object"
            ],
            "text/html": [
              "<div>\n",
              "<style scoped>\n",
              "    .dataframe tbody tr th:only-of-type {\n",
              "        vertical-align: middle;\n",
              "    }\n",
              "\n",
              "    .dataframe tbody tr th {\n",
              "        vertical-align: top;\n",
              "    }\n",
              "\n",
              "    .dataframe thead th {\n",
              "        text-align: right;\n",
              "    }\n",
              "</style>\n",
              "<table border=\"1\" class=\"dataframe\">\n",
              "  <thead>\n",
              "    <tr style=\"text-align: right;\">\n",
              "      <th></th>\n",
              "      <th>adresse_1</th>\n",
              "    </tr>\n",
              "  </thead>\n",
              "  <tbody>\n",
              "    <tr>\n",
              "      <th>38178</th>\n",
              "      <td>27 avenue François Mitterrand</td>\n",
              "    </tr>\n",
              "    <tr>\n",
              "      <th>55129</th>\n",
              "      <td>05 rue Ferdinand Buisson</td>\n",
              "    </tr>\n",
              "    <tr>\n",
              "      <th>8413</th>\n",
              "      <td>1 RUE DE LA PASSERINE</td>\n",
              "    </tr>\n",
              "    <tr>\n",
              "      <th>61005</th>\n",
              "      <td>78 place du Fort</td>\n",
              "    </tr>\n",
              "    <tr>\n",
              "      <th>39457</th>\n",
              "      <td>1 avenue de la République</td>\n",
              "    </tr>\n",
              "  </tbody>\n",
              "</table>\n",
              "</div><br><label><b>dtype:</b> object</label>"
            ]
          },
          "metadata": {},
          "execution_count": 17
        }
      ]
    },
    {
      "cell_type": "code",
      "source": [
        "print(f\"Valeurs uniques : {len(df['adresse_2'].unique())}\\n\")\n",
        "df['adresse_2'].sample(n=5, random_state=23)"
      ],
      "metadata": {
        "colab": {
          "base_uri": "https://localhost:8080/",
          "height": 276
        },
        "id": "OElem5SmVBTt",
        "outputId": "8f916ef9-6cff-42b5-db18-bd5f1fb6b757"
      },
      "execution_count": null,
      "outputs": [
        {
          "output_type": "stream",
          "name": "stdout",
          "text": [
            "Valeurs uniques : 7035\n",
            "\n"
          ]
        },
        {
          "output_type": "execute_result",
          "data": {
            "text/plain": [
              "38178    BP 116\n",
              "55129      None\n",
              "8413       None\n",
              "61005      None\n",
              "39457      None\n",
              "Name: adresse_2, dtype: object"
            ],
            "text/html": [
              "<div>\n",
              "<style scoped>\n",
              "    .dataframe tbody tr th:only-of-type {\n",
              "        vertical-align: middle;\n",
              "    }\n",
              "\n",
              "    .dataframe tbody tr th {\n",
              "        vertical-align: top;\n",
              "    }\n",
              "\n",
              "    .dataframe thead th {\n",
              "        text-align: right;\n",
              "    }\n",
              "</style>\n",
              "<table border=\"1\" class=\"dataframe\">\n",
              "  <thead>\n",
              "    <tr style=\"text-align: right;\">\n",
              "      <th></th>\n",
              "      <th>adresse_2</th>\n",
              "    </tr>\n",
              "  </thead>\n",
              "  <tbody>\n",
              "    <tr>\n",
              "      <th>38178</th>\n",
              "      <td>BP 116</td>\n",
              "    </tr>\n",
              "    <tr>\n",
              "      <th>55129</th>\n",
              "      <td>None</td>\n",
              "    </tr>\n",
              "    <tr>\n",
              "      <th>8413</th>\n",
              "      <td>None</td>\n",
              "    </tr>\n",
              "    <tr>\n",
              "      <th>61005</th>\n",
              "      <td>None</td>\n",
              "    </tr>\n",
              "    <tr>\n",
              "      <th>39457</th>\n",
              "      <td>None</td>\n",
              "    </tr>\n",
              "  </tbody>\n",
              "</table>\n",
              "</div><br><label><b>dtype:</b> object</label>"
            ]
          },
          "metadata": {},
          "execution_count": 18
        }
      ]
    },
    {
      "cell_type": "code",
      "source": [
        "print(f\"Valeurs uniques : {len(df['adresse_3'].unique())}\\n\")\n",
        "df['adresse_3'].sample(n=5, random_state=23)"
      ],
      "metadata": {
        "colab": {
          "base_uri": "https://localhost:8080/",
          "height": 276
        },
        "id": "xS0QKUFoVKBg",
        "outputId": "ca3f4282-d364-4bf5-8c54-c9c2e98d6f05"
      },
      "execution_count": null,
      "outputs": [
        {
          "output_type": "stream",
          "name": "stdout",
          "text": [
            "Valeurs uniques : 22914\n",
            "\n"
          ]
        },
        {
          "output_type": "execute_result",
          "data": {
            "text/plain": [
              "38178                       None\n",
              "55129             78800 HOUILLES\n",
              "8413         57160 SCY CHAZELLES\n",
              "61005    31860 LABARTHE SUR LEZE\n",
              "39457                       None\n",
              "Name: adresse_3, dtype: object"
            ],
            "text/html": [
              "<div>\n",
              "<style scoped>\n",
              "    .dataframe tbody tr th:only-of-type {\n",
              "        vertical-align: middle;\n",
              "    }\n",
              "\n",
              "    .dataframe tbody tr th {\n",
              "        vertical-align: top;\n",
              "    }\n",
              "\n",
              "    .dataframe thead th {\n",
              "        text-align: right;\n",
              "    }\n",
              "</style>\n",
              "<table border=\"1\" class=\"dataframe\">\n",
              "  <thead>\n",
              "    <tr style=\"text-align: right;\">\n",
              "      <th></th>\n",
              "      <th>adresse_3</th>\n",
              "    </tr>\n",
              "  </thead>\n",
              "  <tbody>\n",
              "    <tr>\n",
              "      <th>38178</th>\n",
              "      <td>None</td>\n",
              "    </tr>\n",
              "    <tr>\n",
              "      <th>55129</th>\n",
              "      <td>78800 HOUILLES</td>\n",
              "    </tr>\n",
              "    <tr>\n",
              "      <th>8413</th>\n",
              "      <td>57160 SCY CHAZELLES</td>\n",
              "    </tr>\n",
              "    <tr>\n",
              "      <th>61005</th>\n",
              "      <td>31860 LABARTHE SUR LEZE</td>\n",
              "    </tr>\n",
              "    <tr>\n",
              "      <th>39457</th>\n",
              "      <td>None</td>\n",
              "    </tr>\n",
              "  </tbody>\n",
              "</table>\n",
              "</div><br><label><b>dtype:</b> object</label>"
            ]
          },
          "metadata": {},
          "execution_count": 19
        }
      ]
    },
    {
      "cell_type": "code",
      "source": [
        "print(f\"Valeurs uniques : {len(df['code_postal'].unique())}\\n\")\n",
        "df['code_postal'].sample(n=5, random_state=23)"
      ],
      "metadata": {
        "colab": {
          "base_uri": "https://localhost:8080/",
          "height": 276
        },
        "id": "232kU4XgVQTJ",
        "outputId": "b3f01383-2ab3-4459-ddb0-426523ca1d64"
      },
      "execution_count": null,
      "outputs": [
        {
          "output_type": "stream",
          "name": "stdout",
          "text": [
            "Valeurs uniques : 8431\n",
            "\n"
          ]
        },
        {
          "output_type": "execute_result",
          "data": {
            "text/plain": [
              "38178    33503\n",
              "55129    78800\n",
              "8413     57160\n",
              "61005    31860\n",
              "39457    66270\n",
              "Name: code_postal, dtype: object"
            ],
            "text/html": [
              "<div>\n",
              "<style scoped>\n",
              "    .dataframe tbody tr th:only-of-type {\n",
              "        vertical-align: middle;\n",
              "    }\n",
              "\n",
              "    .dataframe tbody tr th {\n",
              "        vertical-align: top;\n",
              "    }\n",
              "\n",
              "    .dataframe thead th {\n",
              "        text-align: right;\n",
              "    }\n",
              "</style>\n",
              "<table border=\"1\" class=\"dataframe\">\n",
              "  <thead>\n",
              "    <tr style=\"text-align: right;\">\n",
              "      <th></th>\n",
              "      <th>code_postal</th>\n",
              "    </tr>\n",
              "  </thead>\n",
              "  <tbody>\n",
              "    <tr>\n",
              "      <th>38178</th>\n",
              "      <td>33503</td>\n",
              "    </tr>\n",
              "    <tr>\n",
              "      <th>55129</th>\n",
              "      <td>78800</td>\n",
              "    </tr>\n",
              "    <tr>\n",
              "      <th>8413</th>\n",
              "      <td>57160</td>\n",
              "    </tr>\n",
              "    <tr>\n",
              "      <th>61005</th>\n",
              "      <td>31860</td>\n",
              "    </tr>\n",
              "    <tr>\n",
              "      <th>39457</th>\n",
              "      <td>66270</td>\n",
              "    </tr>\n",
              "  </tbody>\n",
              "</table>\n",
              "</div><br><label><b>dtype:</b> object</label>"
            ]
          },
          "metadata": {},
          "execution_count": 20
        }
      ]
    },
    {
      "cell_type": "code",
      "source": [
        "print(f\"Valeurs uniques : {len(df['code_commune'].unique())}\\n\")\n",
        "df['code_commune'].sample(n=5, random_state=23)"
      ],
      "metadata": {
        "colab": {
          "base_uri": "https://localhost:8080/",
          "height": 276
        },
        "id": "pmYQ3C4hVQ1G",
        "outputId": "2b307985-6e58-490c-980c-c5b79a693fae"
      },
      "execution_count": null,
      "outputs": [
        {
          "output_type": "stream",
          "name": "stdout",
          "text": [
            "Valeurs uniques : 21548\n",
            "\n"
          ]
        },
        {
          "output_type": "execute_result",
          "data": {
            "text/plain": [
              "38178    33243\n",
              "55129    78311\n",
              "8413     57642\n",
              "61005    31248\n",
              "39457    66195\n",
              "Name: code_commune, dtype: object"
            ],
            "text/html": [
              "<div>\n",
              "<style scoped>\n",
              "    .dataframe tbody tr th:only-of-type {\n",
              "        vertical-align: middle;\n",
              "    }\n",
              "\n",
              "    .dataframe tbody tr th {\n",
              "        vertical-align: top;\n",
              "    }\n",
              "\n",
              "    .dataframe thead th {\n",
              "        text-align: right;\n",
              "    }\n",
              "</style>\n",
              "<table border=\"1\" class=\"dataframe\">\n",
              "  <thead>\n",
              "    <tr style=\"text-align: right;\">\n",
              "      <th></th>\n",
              "      <th>code_commune</th>\n",
              "    </tr>\n",
              "  </thead>\n",
              "  <tbody>\n",
              "    <tr>\n",
              "      <th>38178</th>\n",
              "      <td>33243</td>\n",
              "    </tr>\n",
              "    <tr>\n",
              "      <th>55129</th>\n",
              "      <td>78311</td>\n",
              "    </tr>\n",
              "    <tr>\n",
              "      <th>8413</th>\n",
              "      <td>57642</td>\n",
              "    </tr>\n",
              "    <tr>\n",
              "      <th>61005</th>\n",
              "      <td>31248</td>\n",
              "    </tr>\n",
              "    <tr>\n",
              "      <th>39457</th>\n",
              "      <td>66195</td>\n",
              "    </tr>\n",
              "  </tbody>\n",
              "</table>\n",
              "</div><br><label><b>dtype:</b> object</label>"
            ]
          },
          "metadata": {},
          "execution_count": 21
        }
      ]
    },
    {
      "cell_type": "code",
      "source": [
        "print(f\"Valeurs uniques : {len(df['nom_commune'].unique())}\\n\")\n",
        "df['nom_commune'].sample(n=5, random_state=23)"
      ],
      "metadata": {
        "colab": {
          "base_uri": "https://localhost:8080/",
          "height": 276
        },
        "id": "b0CO79fuVQ3X",
        "outputId": "243cacd7-f829-4faa-c3ad-dbcab3424c0e"
      },
      "execution_count": null,
      "outputs": [
        {
          "output_type": "stream",
          "name": "stdout",
          "text": [
            "Valeurs uniques : 20829\n",
            "\n"
          ]
        },
        {
          "output_type": "execute_result",
          "data": {
            "text/plain": [
              "38178             Libourne\n",
              "55129             Houilles\n",
              "8413         Scy-Chazelles\n",
              "61005    Labarthe-sur-Lèze\n",
              "39457             Le Soler\n",
              "Name: nom_commune, dtype: object"
            ],
            "text/html": [
              "<div>\n",
              "<style scoped>\n",
              "    .dataframe tbody tr th:only-of-type {\n",
              "        vertical-align: middle;\n",
              "    }\n",
              "\n",
              "    .dataframe tbody tr th {\n",
              "        vertical-align: top;\n",
              "    }\n",
              "\n",
              "    .dataframe thead th {\n",
              "        text-align: right;\n",
              "    }\n",
              "</style>\n",
              "<table border=\"1\" class=\"dataframe\">\n",
              "  <thead>\n",
              "    <tr style=\"text-align: right;\">\n",
              "      <th></th>\n",
              "      <th>nom_commune</th>\n",
              "    </tr>\n",
              "  </thead>\n",
              "  <tbody>\n",
              "    <tr>\n",
              "      <th>38178</th>\n",
              "      <td>Libourne</td>\n",
              "    </tr>\n",
              "    <tr>\n",
              "      <th>55129</th>\n",
              "      <td>Houilles</td>\n",
              "    </tr>\n",
              "    <tr>\n",
              "      <th>8413</th>\n",
              "      <td>Scy-Chazelles</td>\n",
              "    </tr>\n",
              "    <tr>\n",
              "      <th>61005</th>\n",
              "      <td>Labarthe-sur-Lèze</td>\n",
              "    </tr>\n",
              "    <tr>\n",
              "      <th>39457</th>\n",
              "      <td>Le Soler</td>\n",
              "    </tr>\n",
              "  </tbody>\n",
              "</table>\n",
              "</div><br><label><b>dtype:</b> object</label>"
            ]
          },
          "metadata": {},
          "execution_count": 22
        }
      ]
    },
    {
      "cell_type": "code",
      "source": [
        "print(f\"Valeurs uniques : {len(df['code_departement'].unique())}\\n\")\n",
        "df['code_departement'].sample(n=5, random_state=23)"
      ],
      "metadata": {
        "colab": {
          "base_uri": "https://localhost:8080/",
          "height": 276
        },
        "id": "i-Y7kpVOVQ5d",
        "outputId": "2e6096ea-29e4-49e9-fdde-f18348c6cee3"
      },
      "execution_count": null,
      "outputs": [
        {
          "output_type": "stream",
          "name": "stdout",
          "text": [
            "Valeurs uniques : 107\n",
            "\n"
          ]
        },
        {
          "output_type": "execute_result",
          "data": {
            "text/plain": [
              "38178    033\n",
              "55129    078\n",
              "8413     057\n",
              "61005    031\n",
              "39457    066\n",
              "Name: code_departement, dtype: object"
            ],
            "text/html": [
              "<div>\n",
              "<style scoped>\n",
              "    .dataframe tbody tr th:only-of-type {\n",
              "        vertical-align: middle;\n",
              "    }\n",
              "\n",
              "    .dataframe tbody tr th {\n",
              "        vertical-align: top;\n",
              "    }\n",
              "\n",
              "    .dataframe thead th {\n",
              "        text-align: right;\n",
              "    }\n",
              "</style>\n",
              "<table border=\"1\" class=\"dataframe\">\n",
              "  <thead>\n",
              "    <tr style=\"text-align: right;\">\n",
              "      <th></th>\n",
              "      <th>code_departement</th>\n",
              "    </tr>\n",
              "  </thead>\n",
              "  <tbody>\n",
              "    <tr>\n",
              "      <th>38178</th>\n",
              "      <td>033</td>\n",
              "    </tr>\n",
              "    <tr>\n",
              "      <th>55129</th>\n",
              "      <td>078</td>\n",
              "    </tr>\n",
              "    <tr>\n",
              "      <th>8413</th>\n",
              "      <td>057</td>\n",
              "    </tr>\n",
              "    <tr>\n",
              "      <th>61005</th>\n",
              "      <td>031</td>\n",
              "    </tr>\n",
              "    <tr>\n",
              "      <th>39457</th>\n",
              "      <td>066</td>\n",
              "    </tr>\n",
              "  </tbody>\n",
              "</table>\n",
              "</div><br><label><b>dtype:</b> object</label>"
            ]
          },
          "metadata": {},
          "execution_count": 23
        }
      ]
    },
    {
      "cell_type": "code",
      "source": [
        "print(f\"Valeurs uniques : {len(df['code_academie'].unique())}\\n\")\n",
        "df['code_academie'].sample(n=5, random_state=23)"
      ],
      "metadata": {
        "colab": {
          "base_uri": "https://localhost:8080/",
          "height": 276
        },
        "id": "QDQyyyP4VQ7k",
        "outputId": "e7679dc0-802c-4b7f-dece-ca6b5b7b5b8f"
      },
      "execution_count": null,
      "outputs": [
        {
          "output_type": "stream",
          "name": "stdout",
          "text": [
            "Valeurs uniques : 34\n",
            "\n"
          ]
        },
        {
          "output_type": "execute_result",
          "data": {
            "text/plain": [
              "38178    04\n",
              "55129    25\n",
              "8413     12\n",
              "61005    16\n",
              "39457    11\n",
              "Name: code_academie, dtype: object"
            ],
            "text/html": [
              "<div>\n",
              "<style scoped>\n",
              "    .dataframe tbody tr th:only-of-type {\n",
              "        vertical-align: middle;\n",
              "    }\n",
              "\n",
              "    .dataframe tbody tr th {\n",
              "        vertical-align: top;\n",
              "    }\n",
              "\n",
              "    .dataframe thead th {\n",
              "        text-align: right;\n",
              "    }\n",
              "</style>\n",
              "<table border=\"1\" class=\"dataframe\">\n",
              "  <thead>\n",
              "    <tr style=\"text-align: right;\">\n",
              "      <th></th>\n",
              "      <th>code_academie</th>\n",
              "    </tr>\n",
              "  </thead>\n",
              "  <tbody>\n",
              "    <tr>\n",
              "      <th>38178</th>\n",
              "      <td>04</td>\n",
              "    </tr>\n",
              "    <tr>\n",
              "      <th>55129</th>\n",
              "      <td>25</td>\n",
              "    </tr>\n",
              "    <tr>\n",
              "      <th>8413</th>\n",
              "      <td>12</td>\n",
              "    </tr>\n",
              "    <tr>\n",
              "      <th>61005</th>\n",
              "      <td>16</td>\n",
              "    </tr>\n",
              "    <tr>\n",
              "      <th>39457</th>\n",
              "      <td>11</td>\n",
              "    </tr>\n",
              "  </tbody>\n",
              "</table>\n",
              "</div><br><label><b>dtype:</b> object</label>"
            ]
          },
          "metadata": {},
          "execution_count": 24
        }
      ]
    },
    {
      "cell_type": "code",
      "source": [
        "print(f\"Valeurs uniques : {len(df['code_region'].unique())}\\n\")\n",
        "df['code_region'].sample(n=5, random_state=23)"
      ],
      "metadata": {
        "colab": {
          "base_uri": "https://localhost:8080/",
          "height": 276
        },
        "id": "nBC6ir3FVQ_p",
        "outputId": "2a865be4-f1d6-4744-be1f-70ffaafed5a6"
      },
      "execution_count": null,
      "outputs": [
        {
          "output_type": "stream",
          "name": "stdout",
          "text": [
            "Valeurs uniques : 19\n",
            "\n"
          ]
        },
        {
          "output_type": "execute_result",
          "data": {
            "text/plain": [
              "38178    75\n",
              "55129    11\n",
              "8413     44\n",
              "61005    76\n",
              "39457    76\n",
              "Name: code_region, dtype: object"
            ],
            "text/html": [
              "<div>\n",
              "<style scoped>\n",
              "    .dataframe tbody tr th:only-of-type {\n",
              "        vertical-align: middle;\n",
              "    }\n",
              "\n",
              "    .dataframe tbody tr th {\n",
              "        vertical-align: top;\n",
              "    }\n",
              "\n",
              "    .dataframe thead th {\n",
              "        text-align: right;\n",
              "    }\n",
              "</style>\n",
              "<table border=\"1\" class=\"dataframe\">\n",
              "  <thead>\n",
              "    <tr style=\"text-align: right;\">\n",
              "      <th></th>\n",
              "      <th>code_region</th>\n",
              "    </tr>\n",
              "  </thead>\n",
              "  <tbody>\n",
              "    <tr>\n",
              "      <th>38178</th>\n",
              "      <td>75</td>\n",
              "    </tr>\n",
              "    <tr>\n",
              "      <th>55129</th>\n",
              "      <td>11</td>\n",
              "    </tr>\n",
              "    <tr>\n",
              "      <th>8413</th>\n",
              "      <td>44</td>\n",
              "    </tr>\n",
              "    <tr>\n",
              "      <th>61005</th>\n",
              "      <td>76</td>\n",
              "    </tr>\n",
              "    <tr>\n",
              "      <th>39457</th>\n",
              "      <td>76</td>\n",
              "    </tr>\n",
              "  </tbody>\n",
              "</table>\n",
              "</div><br><label><b>dtype:</b> object</label>"
            ]
          },
          "metadata": {},
          "execution_count": 25
        }
      ]
    },
    {
      "cell_type": "code",
      "source": [
        "print(f\"Valeurs uniques : {len(df['ecole_maternelle'].unique())}\\n\")\n",
        "df['ecole_maternelle'].sample(n=5, random_state=23)"
      ],
      "metadata": {
        "colab": {
          "base_uri": "https://localhost:8080/",
          "height": 276
        },
        "id": "5shsM05aVRCU",
        "outputId": "bf18fe63-b1f1-4ca4-9e74-7310f9f1165a"
      },
      "execution_count": null,
      "outputs": [
        {
          "output_type": "stream",
          "name": "stdout",
          "text": [
            "Valeurs uniques : 3\n",
            "\n"
          ]
        },
        {
          "output_type": "execute_result",
          "data": {
            "text/plain": [
              "38178    NaN\n",
              "55129    0.0\n",
              "8413     1.0\n",
              "61005    1.0\n",
              "39457    NaN\n",
              "Name: ecole_maternelle, dtype: float64"
            ],
            "text/html": [
              "<div>\n",
              "<style scoped>\n",
              "    .dataframe tbody tr th:only-of-type {\n",
              "        vertical-align: middle;\n",
              "    }\n",
              "\n",
              "    .dataframe tbody tr th {\n",
              "        vertical-align: top;\n",
              "    }\n",
              "\n",
              "    .dataframe thead th {\n",
              "        text-align: right;\n",
              "    }\n",
              "</style>\n",
              "<table border=\"1\" class=\"dataframe\">\n",
              "  <thead>\n",
              "    <tr style=\"text-align: right;\">\n",
              "      <th></th>\n",
              "      <th>ecole_maternelle</th>\n",
              "    </tr>\n",
              "  </thead>\n",
              "  <tbody>\n",
              "    <tr>\n",
              "      <th>38178</th>\n",
              "      <td>NaN</td>\n",
              "    </tr>\n",
              "    <tr>\n",
              "      <th>55129</th>\n",
              "      <td>0.0</td>\n",
              "    </tr>\n",
              "    <tr>\n",
              "      <th>8413</th>\n",
              "      <td>1.0</td>\n",
              "    </tr>\n",
              "    <tr>\n",
              "      <th>61005</th>\n",
              "      <td>1.0</td>\n",
              "    </tr>\n",
              "    <tr>\n",
              "      <th>39457</th>\n",
              "      <td>NaN</td>\n",
              "    </tr>\n",
              "  </tbody>\n",
              "</table>\n",
              "</div><br><label><b>dtype:</b> float64</label>"
            ]
          },
          "metadata": {},
          "execution_count": 26
        }
      ]
    },
    {
      "cell_type": "code",
      "source": [
        "df['ecole_maternelle'].unique()"
      ],
      "metadata": {
        "colab": {
          "base_uri": "https://localhost:8080/"
        },
        "id": "17_ECDVuVRE9",
        "outputId": "d910439b-a3a6-4cbc-d19d-a16a837c3c46"
      },
      "execution_count": null,
      "outputs": [
        {
          "output_type": "execute_result",
          "data": {
            "text/plain": [
              "array([ 1.,  0., nan])"
            ]
          },
          "metadata": {},
          "execution_count": 27
        }
      ]
    },
    {
      "cell_type": "code",
      "source": [
        "print(f\"Valeurs uniques : {len(df['ecole_elementaire'].unique())}\\n\")\n",
        "df['ecole_elementaire'].sample(n=5, random_state=23)"
      ],
      "metadata": {
        "colab": {
          "base_uri": "https://localhost:8080/",
          "height": 276
        },
        "id": "wpvGEXtfVRIS",
        "outputId": "96cc05d5-9441-4981-ad02-9dc0ffc377de"
      },
      "execution_count": null,
      "outputs": [
        {
          "output_type": "stream",
          "name": "stdout",
          "text": [
            "Valeurs uniques : 3\n",
            "\n"
          ]
        },
        {
          "output_type": "execute_result",
          "data": {
            "text/plain": [
              "38178    NaN\n",
              "55129    1.0\n",
              "8413     1.0\n",
              "61005    1.0\n",
              "39457    NaN\n",
              "Name: ecole_elementaire, dtype: float64"
            ],
            "text/html": [
              "<div>\n",
              "<style scoped>\n",
              "    .dataframe tbody tr th:only-of-type {\n",
              "        vertical-align: middle;\n",
              "    }\n",
              "\n",
              "    .dataframe tbody tr th {\n",
              "        vertical-align: top;\n",
              "    }\n",
              "\n",
              "    .dataframe thead th {\n",
              "        text-align: right;\n",
              "    }\n",
              "</style>\n",
              "<table border=\"1\" class=\"dataframe\">\n",
              "  <thead>\n",
              "    <tr style=\"text-align: right;\">\n",
              "      <th></th>\n",
              "      <th>ecole_elementaire</th>\n",
              "    </tr>\n",
              "  </thead>\n",
              "  <tbody>\n",
              "    <tr>\n",
              "      <th>38178</th>\n",
              "      <td>NaN</td>\n",
              "    </tr>\n",
              "    <tr>\n",
              "      <th>55129</th>\n",
              "      <td>1.0</td>\n",
              "    </tr>\n",
              "    <tr>\n",
              "      <th>8413</th>\n",
              "      <td>1.0</td>\n",
              "    </tr>\n",
              "    <tr>\n",
              "      <th>61005</th>\n",
              "      <td>1.0</td>\n",
              "    </tr>\n",
              "    <tr>\n",
              "      <th>39457</th>\n",
              "      <td>NaN</td>\n",
              "    </tr>\n",
              "  </tbody>\n",
              "</table>\n",
              "</div><br><label><b>dtype:</b> float64</label>"
            ]
          },
          "metadata": {},
          "execution_count": 28
        }
      ]
    },
    {
      "cell_type": "code",
      "source": [
        "df['ecole_elementaire'].unique()"
      ],
      "metadata": {
        "colab": {
          "base_uri": "https://localhost:8080/"
        },
        "id": "o-ACwVrUs-yd",
        "outputId": "a1132913-646f-423c-bf67-b9a0f366193e"
      },
      "execution_count": null,
      "outputs": [
        {
          "output_type": "execute_result",
          "data": {
            "text/plain": [
              "array([ 1.,  0., nan])"
            ]
          },
          "metadata": {},
          "execution_count": 29
        }
      ]
    },
    {
      "cell_type": "code",
      "source": [
        "print(f\"Valeurs uniques : {len(df['voie_generale'].unique())}\\n\")\n",
        "df['voie_generale'].sample(n=5, random_state=23)"
      ],
      "metadata": {
        "colab": {
          "base_uri": "https://localhost:8080/",
          "height": 276
        },
        "id": "Uq7uY6res-2C",
        "outputId": "bcb80c07-3e80-4696-c93f-252f946391c2"
      },
      "execution_count": null,
      "outputs": [
        {
          "output_type": "stream",
          "name": "stdout",
          "text": [
            "Valeurs uniques : 3\n",
            "\n"
          ]
        },
        {
          "output_type": "execute_result",
          "data": {
            "text/plain": [
              "38178       0\n",
              "55129    None\n",
              "8413     None\n",
              "61005    None\n",
              "39457       0\n",
              "Name: voie_generale, dtype: object"
            ],
            "text/html": [
              "<div>\n",
              "<style scoped>\n",
              "    .dataframe tbody tr th:only-of-type {\n",
              "        vertical-align: middle;\n",
              "    }\n",
              "\n",
              "    .dataframe tbody tr th {\n",
              "        vertical-align: top;\n",
              "    }\n",
              "\n",
              "    .dataframe thead th {\n",
              "        text-align: right;\n",
              "    }\n",
              "</style>\n",
              "<table border=\"1\" class=\"dataframe\">\n",
              "  <thead>\n",
              "    <tr style=\"text-align: right;\">\n",
              "      <th></th>\n",
              "      <th>voie_generale</th>\n",
              "    </tr>\n",
              "  </thead>\n",
              "  <tbody>\n",
              "    <tr>\n",
              "      <th>38178</th>\n",
              "      <td>0</td>\n",
              "    </tr>\n",
              "    <tr>\n",
              "      <th>55129</th>\n",
              "      <td>None</td>\n",
              "    </tr>\n",
              "    <tr>\n",
              "      <th>8413</th>\n",
              "      <td>None</td>\n",
              "    </tr>\n",
              "    <tr>\n",
              "      <th>61005</th>\n",
              "      <td>None</td>\n",
              "    </tr>\n",
              "    <tr>\n",
              "      <th>39457</th>\n",
              "      <td>0</td>\n",
              "    </tr>\n",
              "  </tbody>\n",
              "</table>\n",
              "</div><br><label><b>dtype:</b> object</label>"
            ]
          },
          "metadata": {},
          "execution_count": 30
        }
      ]
    },
    {
      "cell_type": "code",
      "source": [
        "df['voie_generale'].unique()"
      ],
      "metadata": {
        "colab": {
          "base_uri": "https://localhost:8080/"
        },
        "id": "w08kToS8s-6m",
        "outputId": "6573bcfd-94d8-402e-a7e8-65f9311e660c"
      },
      "execution_count": null,
      "outputs": [
        {
          "output_type": "execute_result",
          "data": {
            "text/plain": [
              "array([None, '0', '1'], dtype=object)"
            ]
          },
          "metadata": {},
          "execution_count": 31
        }
      ]
    },
    {
      "cell_type": "code",
      "source": [
        "print(f\"Valeurs uniques : {len(df['voie_technologique'].unique())}\\n\")\n",
        "df['voie_technologique'].sample(n=5, random_state=23)"
      ],
      "metadata": {
        "colab": {
          "base_uri": "https://localhost:8080/",
          "height": 276
        },
        "id": "aQcGQs61s_BC",
        "outputId": "993c2b70-a78c-47d3-a3f0-1cefb9b8c76b"
      },
      "execution_count": null,
      "outputs": [
        {
          "output_type": "stream",
          "name": "stdout",
          "text": [
            "Valeurs uniques : 3\n",
            "\n"
          ]
        },
        {
          "output_type": "execute_result",
          "data": {
            "text/plain": [
              "38178       0\n",
              "55129    None\n",
              "8413     None\n",
              "61005    None\n",
              "39457       0\n",
              "Name: voie_technologique, dtype: object"
            ],
            "text/html": [
              "<div>\n",
              "<style scoped>\n",
              "    .dataframe tbody tr th:only-of-type {\n",
              "        vertical-align: middle;\n",
              "    }\n",
              "\n",
              "    .dataframe tbody tr th {\n",
              "        vertical-align: top;\n",
              "    }\n",
              "\n",
              "    .dataframe thead th {\n",
              "        text-align: right;\n",
              "    }\n",
              "</style>\n",
              "<table border=\"1\" class=\"dataframe\">\n",
              "  <thead>\n",
              "    <tr style=\"text-align: right;\">\n",
              "      <th></th>\n",
              "      <th>voie_technologique</th>\n",
              "    </tr>\n",
              "  </thead>\n",
              "  <tbody>\n",
              "    <tr>\n",
              "      <th>38178</th>\n",
              "      <td>0</td>\n",
              "    </tr>\n",
              "    <tr>\n",
              "      <th>55129</th>\n",
              "      <td>None</td>\n",
              "    </tr>\n",
              "    <tr>\n",
              "      <th>8413</th>\n",
              "      <td>None</td>\n",
              "    </tr>\n",
              "    <tr>\n",
              "      <th>61005</th>\n",
              "      <td>None</td>\n",
              "    </tr>\n",
              "    <tr>\n",
              "      <th>39457</th>\n",
              "      <td>0</td>\n",
              "    </tr>\n",
              "  </tbody>\n",
              "</table>\n",
              "</div><br><label><b>dtype:</b> object</label>"
            ]
          },
          "metadata": {},
          "execution_count": 32
        }
      ]
    },
    {
      "cell_type": "code",
      "source": [
        "df['voie_technologique'].unique()"
      ],
      "metadata": {
        "colab": {
          "base_uri": "https://localhost:8080/"
        },
        "id": "z1ijZyBZs_Ex",
        "outputId": "6542a27c-40c4-4747-cb41-180ca4445705"
      },
      "execution_count": null,
      "outputs": [
        {
          "output_type": "execute_result",
          "data": {
            "text/plain": [
              "array([None, '0', '1'], dtype=object)"
            ]
          },
          "metadata": {},
          "execution_count": 33
        }
      ]
    },
    {
      "cell_type": "code",
      "source": [
        "print(f\"Valeurs uniques : {len(df['voie_professionnelle'].unique())}\\n\")\n",
        "df['voie_professionnelle'].sample(n=5, random_state=23)"
      ],
      "metadata": {
        "colab": {
          "base_uri": "https://localhost:8080/",
          "height": 276
        },
        "id": "SHaFNeNMs_Ig",
        "outputId": "efb6a159-060c-4258-e1dd-9e2bfde63512"
      },
      "execution_count": null,
      "outputs": [
        {
          "output_type": "stream",
          "name": "stdout",
          "text": [
            "Valeurs uniques : 3\n",
            "\n"
          ]
        },
        {
          "output_type": "execute_result",
          "data": {
            "text/plain": [
              "38178       0\n",
              "55129    None\n",
              "8413     None\n",
              "61005    None\n",
              "39457       0\n",
              "Name: voie_professionnelle, dtype: object"
            ],
            "text/html": [
              "<div>\n",
              "<style scoped>\n",
              "    .dataframe tbody tr th:only-of-type {\n",
              "        vertical-align: middle;\n",
              "    }\n",
              "\n",
              "    .dataframe tbody tr th {\n",
              "        vertical-align: top;\n",
              "    }\n",
              "\n",
              "    .dataframe thead th {\n",
              "        text-align: right;\n",
              "    }\n",
              "</style>\n",
              "<table border=\"1\" class=\"dataframe\">\n",
              "  <thead>\n",
              "    <tr style=\"text-align: right;\">\n",
              "      <th></th>\n",
              "      <th>voie_professionnelle</th>\n",
              "    </tr>\n",
              "  </thead>\n",
              "  <tbody>\n",
              "    <tr>\n",
              "      <th>38178</th>\n",
              "      <td>0</td>\n",
              "    </tr>\n",
              "    <tr>\n",
              "      <th>55129</th>\n",
              "      <td>None</td>\n",
              "    </tr>\n",
              "    <tr>\n",
              "      <th>8413</th>\n",
              "      <td>None</td>\n",
              "    </tr>\n",
              "    <tr>\n",
              "      <th>61005</th>\n",
              "      <td>None</td>\n",
              "    </tr>\n",
              "    <tr>\n",
              "      <th>39457</th>\n",
              "      <td>0</td>\n",
              "    </tr>\n",
              "  </tbody>\n",
              "</table>\n",
              "</div><br><label><b>dtype:</b> object</label>"
            ]
          },
          "metadata": {},
          "execution_count": 34
        }
      ]
    },
    {
      "cell_type": "code",
      "source": [
        "df['voie_professionnelle'].unique()"
      ],
      "metadata": {
        "colab": {
          "base_uri": "https://localhost:8080/"
        },
        "id": "kSrqFfk9s_Mu",
        "outputId": "ae83616b-a5a9-41ab-a177-b7752498ea47"
      },
      "execution_count": null,
      "outputs": [
        {
          "output_type": "execute_result",
          "data": {
            "text/plain": [
              "array([None, '0', '1'], dtype=object)"
            ]
          },
          "metadata": {},
          "execution_count": 35
        }
      ]
    },
    {
      "cell_type": "code",
      "source": [
        "print(f\"Valeurs uniques : {len(df['telephone'].unique())}\\n\")\n",
        "df['telephone'].sample(n=5, random_state=23)"
      ],
      "metadata": {
        "colab": {
          "base_uri": "https://localhost:8080/",
          "height": 276
        },
        "id": "fzXL5-dSs_Qv",
        "outputId": "c924e3af-6a1a-4abe-c634-b80dad3373e2"
      },
      "execution_count": null,
      "outputs": [
        {
          "output_type": "stream",
          "name": "stdout",
          "text": [
            "Valeurs uniques : 65978\n",
            "\n"
          ]
        },
        {
          "output_type": "execute_result",
          "data": {
            "text/plain": [
              "38178    05 57 51 11 87\n",
              "55129        0139143820\n",
              "8413         0387602782\n",
              "61005        0561086896\n",
              "39457    04 68 92 38 25\n",
              "Name: telephone, dtype: object"
            ],
            "text/html": [
              "<div>\n",
              "<style scoped>\n",
              "    .dataframe tbody tr th:only-of-type {\n",
              "        vertical-align: middle;\n",
              "    }\n",
              "\n",
              "    .dataframe tbody tr th {\n",
              "        vertical-align: top;\n",
              "    }\n",
              "\n",
              "    .dataframe thead th {\n",
              "        text-align: right;\n",
              "    }\n",
              "</style>\n",
              "<table border=\"1\" class=\"dataframe\">\n",
              "  <thead>\n",
              "    <tr style=\"text-align: right;\">\n",
              "      <th></th>\n",
              "      <th>telephone</th>\n",
              "    </tr>\n",
              "  </thead>\n",
              "  <tbody>\n",
              "    <tr>\n",
              "      <th>38178</th>\n",
              "      <td>05 57 51 11 87</td>\n",
              "    </tr>\n",
              "    <tr>\n",
              "      <th>55129</th>\n",
              "      <td>0139143820</td>\n",
              "    </tr>\n",
              "    <tr>\n",
              "      <th>8413</th>\n",
              "      <td>0387602782</td>\n",
              "    </tr>\n",
              "    <tr>\n",
              "      <th>61005</th>\n",
              "      <td>0561086896</td>\n",
              "    </tr>\n",
              "    <tr>\n",
              "      <th>39457</th>\n",
              "      <td>04 68 92 38 25</td>\n",
              "    </tr>\n",
              "  </tbody>\n",
              "</table>\n",
              "</div><br><label><b>dtype:</b> object</label>"
            ]
          },
          "metadata": {},
          "execution_count": 36
        }
      ]
    },
    {
      "cell_type": "code",
      "source": [
        "print(f\"Valeurs uniques : {len(df['fax'].unique())}\\n\")\n",
        "df['fax'].sample(n=5, random_state=23)"
      ],
      "metadata": {
        "colab": {
          "base_uri": "https://localhost:8080/",
          "height": 276
        },
        "id": "kQhVBkBws_U8",
        "outputId": "be06c7c4-0572-4221-fa97-e2a63e8589e1"
      },
      "execution_count": null,
      "outputs": [
        {
          "output_type": "stream",
          "name": "stdout",
          "text": [
            "Valeurs uniques : 9653\n",
            "\n"
          ]
        },
        {
          "output_type": "execute_result",
          "data": {
            "text/plain": [
              "38178    05 57 55 21 31\n",
              "55129              None\n",
              "8413               None\n",
              "61005              None\n",
              "39457    04 68 73 82 34\n",
              "Name: fax, dtype: object"
            ],
            "text/html": [
              "<div>\n",
              "<style scoped>\n",
              "    .dataframe tbody tr th:only-of-type {\n",
              "        vertical-align: middle;\n",
              "    }\n",
              "\n",
              "    .dataframe tbody tr th {\n",
              "        vertical-align: top;\n",
              "    }\n",
              "\n",
              "    .dataframe thead th {\n",
              "        text-align: right;\n",
              "    }\n",
              "</style>\n",
              "<table border=\"1\" class=\"dataframe\">\n",
              "  <thead>\n",
              "    <tr style=\"text-align: right;\">\n",
              "      <th></th>\n",
              "      <th>fax</th>\n",
              "    </tr>\n",
              "  </thead>\n",
              "  <tbody>\n",
              "    <tr>\n",
              "      <th>38178</th>\n",
              "      <td>05 57 55 21 31</td>\n",
              "    </tr>\n",
              "    <tr>\n",
              "      <th>55129</th>\n",
              "      <td>None</td>\n",
              "    </tr>\n",
              "    <tr>\n",
              "      <th>8413</th>\n",
              "      <td>None</td>\n",
              "    </tr>\n",
              "    <tr>\n",
              "      <th>61005</th>\n",
              "      <td>None</td>\n",
              "    </tr>\n",
              "    <tr>\n",
              "      <th>39457</th>\n",
              "      <td>04 68 73 82 34</td>\n",
              "    </tr>\n",
              "  </tbody>\n",
              "</table>\n",
              "</div><br><label><b>dtype:</b> object</label>"
            ]
          },
          "metadata": {},
          "execution_count": 37
        }
      ]
    },
    {
      "cell_type": "code",
      "source": [
        "print(f\"Valeurs uniques : {len(df['web'].unique())}\\n\")\n",
        "df['web'].sample(n=5, random_state=23)"
      ],
      "metadata": {
        "colab": {
          "base_uri": "https://localhost:8080/",
          "height": 276
        },
        "id": "FHSDiizXjDLo",
        "outputId": "e44ef809-2b3a-4a66-85d9-d71ab5ef4dcd"
      },
      "execution_count": null,
      "outputs": [
        {
          "output_type": "stream",
          "name": "stdout",
          "text": [
            "Valeurs uniques : 10437\n",
            "\n"
          ]
        },
        {
          "output_type": "execute_result",
          "data": {
            "text/plain": [
              "38178         http://www.collegelesdagueys.fr\n",
              "55129                                    None\n",
              "8413                                     None\n",
              "61005                                    None\n",
              "39457    http://www.pompeufabra.bressola.cat/\n",
              "Name: web, dtype: object"
            ],
            "text/html": [
              "<div>\n",
              "<style scoped>\n",
              "    .dataframe tbody tr th:only-of-type {\n",
              "        vertical-align: middle;\n",
              "    }\n",
              "\n",
              "    .dataframe tbody tr th {\n",
              "        vertical-align: top;\n",
              "    }\n",
              "\n",
              "    .dataframe thead th {\n",
              "        text-align: right;\n",
              "    }\n",
              "</style>\n",
              "<table border=\"1\" class=\"dataframe\">\n",
              "  <thead>\n",
              "    <tr style=\"text-align: right;\">\n",
              "      <th></th>\n",
              "      <th>web</th>\n",
              "    </tr>\n",
              "  </thead>\n",
              "  <tbody>\n",
              "    <tr>\n",
              "      <th>38178</th>\n",
              "      <td>http://www.collegelesdagueys.fr</td>\n",
              "    </tr>\n",
              "    <tr>\n",
              "      <th>55129</th>\n",
              "      <td>None</td>\n",
              "    </tr>\n",
              "    <tr>\n",
              "      <th>8413</th>\n",
              "      <td>None</td>\n",
              "    </tr>\n",
              "    <tr>\n",
              "      <th>61005</th>\n",
              "      <td>None</td>\n",
              "    </tr>\n",
              "    <tr>\n",
              "      <th>39457</th>\n",
              "      <td>http://www.pompeufabra.bressola.cat/</td>\n",
              "    </tr>\n",
              "  </tbody>\n",
              "</table>\n",
              "</div><br><label><b>dtype:</b> object</label>"
            ]
          },
          "metadata": {},
          "execution_count": 38
        }
      ]
    },
    {
      "cell_type": "code",
      "source": [
        "print(f\"Valeurs uniques : {len(df['mail'].unique())}\\n\")\n",
        "df['mail'].sample(n=5, random_state=23)"
      ],
      "metadata": {
        "colab": {
          "base_uri": "https://localhost:8080/",
          "height": 276
        },
        "id": "8Ku7CM1hjDTo",
        "outputId": "7c1168af-4259-4def-9afd-0d4a31f5b07d"
      },
      "execution_count": null,
      "outputs": [
        {
          "output_type": "stream",
          "name": "stdout",
          "text": [
            "Valeurs uniques : 66969\n",
            "\n"
          ]
        },
        {
          "output_type": "execute_result",
          "data": {
            "text/plain": [
              "38178      ce.0330091v@ac-bordeaux.fr\n",
              "55129    ce.0780891V@ac-versailles.fr\n",
              "8413     ce.0573378M@ac-nancy-metz.fr\n",
              "61005      ce.0311451J@ac-toulouse.fr\n",
              "39457         secundaria@bressola.cat\n",
              "Name: mail, dtype: object"
            ],
            "text/html": [
              "<div>\n",
              "<style scoped>\n",
              "    .dataframe tbody tr th:only-of-type {\n",
              "        vertical-align: middle;\n",
              "    }\n",
              "\n",
              "    .dataframe tbody tr th {\n",
              "        vertical-align: top;\n",
              "    }\n",
              "\n",
              "    .dataframe thead th {\n",
              "        text-align: right;\n",
              "    }\n",
              "</style>\n",
              "<table border=\"1\" class=\"dataframe\">\n",
              "  <thead>\n",
              "    <tr style=\"text-align: right;\">\n",
              "      <th></th>\n",
              "      <th>mail</th>\n",
              "    </tr>\n",
              "  </thead>\n",
              "  <tbody>\n",
              "    <tr>\n",
              "      <th>38178</th>\n",
              "      <td>ce.0330091v@ac-bordeaux.fr</td>\n",
              "    </tr>\n",
              "    <tr>\n",
              "      <th>55129</th>\n",
              "      <td>ce.0780891V@ac-versailles.fr</td>\n",
              "    </tr>\n",
              "    <tr>\n",
              "      <th>8413</th>\n",
              "      <td>ce.0573378M@ac-nancy-metz.fr</td>\n",
              "    </tr>\n",
              "    <tr>\n",
              "      <th>61005</th>\n",
              "      <td>ce.0311451J@ac-toulouse.fr</td>\n",
              "    </tr>\n",
              "    <tr>\n",
              "      <th>39457</th>\n",
              "      <td>secundaria@bressola.cat</td>\n",
              "    </tr>\n",
              "  </tbody>\n",
              "</table>\n",
              "</div><br><label><b>dtype:</b> object</label>"
            ]
          },
          "metadata": {},
          "execution_count": 39
        }
      ]
    },
    {
      "cell_type": "code",
      "source": [
        "print(f\"Valeurs uniques : {len(df['restauration'].unique())}\\n\")\n",
        "df['restauration'].sample(n=5, random_state=23)"
      ],
      "metadata": {
        "colab": {
          "base_uri": "https://localhost:8080/",
          "height": 276
        },
        "id": "uvWZB3rpjDaV",
        "outputId": "465396f0-7948-473b-da11-61da3aa1638e"
      },
      "execution_count": null,
      "outputs": [
        {
          "output_type": "stream",
          "name": "stdout",
          "text": [
            "Valeurs uniques : 3\n",
            "\n"
          ]
        },
        {
          "output_type": "execute_result",
          "data": {
            "text/plain": [
              "38178    1.0\n",
              "55129    1.0\n",
              "8413     0.0\n",
              "61005    1.0\n",
              "39457    1.0\n",
              "Name: restauration, dtype: float64"
            ],
            "text/html": [
              "<div>\n",
              "<style scoped>\n",
              "    .dataframe tbody tr th:only-of-type {\n",
              "        vertical-align: middle;\n",
              "    }\n",
              "\n",
              "    .dataframe tbody tr th {\n",
              "        vertical-align: top;\n",
              "    }\n",
              "\n",
              "    .dataframe thead th {\n",
              "        text-align: right;\n",
              "    }\n",
              "</style>\n",
              "<table border=\"1\" class=\"dataframe\">\n",
              "  <thead>\n",
              "    <tr style=\"text-align: right;\">\n",
              "      <th></th>\n",
              "      <th>restauration</th>\n",
              "    </tr>\n",
              "  </thead>\n",
              "  <tbody>\n",
              "    <tr>\n",
              "      <th>38178</th>\n",
              "      <td>1.0</td>\n",
              "    </tr>\n",
              "    <tr>\n",
              "      <th>55129</th>\n",
              "      <td>1.0</td>\n",
              "    </tr>\n",
              "    <tr>\n",
              "      <th>8413</th>\n",
              "      <td>0.0</td>\n",
              "    </tr>\n",
              "    <tr>\n",
              "      <th>61005</th>\n",
              "      <td>1.0</td>\n",
              "    </tr>\n",
              "    <tr>\n",
              "      <th>39457</th>\n",
              "      <td>1.0</td>\n",
              "    </tr>\n",
              "  </tbody>\n",
              "</table>\n",
              "</div><br><label><b>dtype:</b> float64</label>"
            ]
          },
          "metadata": {},
          "execution_count": 40
        }
      ]
    },
    {
      "cell_type": "code",
      "source": [
        "df['restauration'].unique()"
      ],
      "metadata": {
        "colab": {
          "base_uri": "https://localhost:8080/"
        },
        "id": "xgMeS7F9jDh7",
        "outputId": "d35a8465-da94-484a-e956-c2f046670428"
      },
      "execution_count": null,
      "outputs": [
        {
          "output_type": "execute_result",
          "data": {
            "text/plain": [
              "array([ 1.,  0., nan])"
            ]
          },
          "metadata": {},
          "execution_count": 41
        }
      ]
    },
    {
      "cell_type": "code",
      "source": [
        "print(f\"Valeurs uniques : {len(df['hebergement'].unique())}\\n\")\n",
        "df['hebergement'].sample(n=5, random_state=23)"
      ],
      "metadata": {
        "colab": {
          "base_uri": "https://localhost:8080/",
          "height": 276
        },
        "id": "SvqmWrXBjDo4",
        "outputId": "d614c35c-7e30-4d7d-99a4-3ae2c55e762b"
      },
      "execution_count": null,
      "outputs": [
        {
          "output_type": "stream",
          "name": "stdout",
          "text": [
            "Valeurs uniques : 3\n",
            "\n"
          ]
        },
        {
          "output_type": "execute_result",
          "data": {
            "text/plain": [
              "38178    0.0\n",
              "55129    0.0\n",
              "8413     0.0\n",
              "61005    0.0\n",
              "39457    0.0\n",
              "Name: hebergement, dtype: float64"
            ],
            "text/html": [
              "<div>\n",
              "<style scoped>\n",
              "    .dataframe tbody tr th:only-of-type {\n",
              "        vertical-align: middle;\n",
              "    }\n",
              "\n",
              "    .dataframe tbody tr th {\n",
              "        vertical-align: top;\n",
              "    }\n",
              "\n",
              "    .dataframe thead th {\n",
              "        text-align: right;\n",
              "    }\n",
              "</style>\n",
              "<table border=\"1\" class=\"dataframe\">\n",
              "  <thead>\n",
              "    <tr style=\"text-align: right;\">\n",
              "      <th></th>\n",
              "      <th>hebergement</th>\n",
              "    </tr>\n",
              "  </thead>\n",
              "  <tbody>\n",
              "    <tr>\n",
              "      <th>38178</th>\n",
              "      <td>0.0</td>\n",
              "    </tr>\n",
              "    <tr>\n",
              "      <th>55129</th>\n",
              "      <td>0.0</td>\n",
              "    </tr>\n",
              "    <tr>\n",
              "      <th>8413</th>\n",
              "      <td>0.0</td>\n",
              "    </tr>\n",
              "    <tr>\n",
              "      <th>61005</th>\n",
              "      <td>0.0</td>\n",
              "    </tr>\n",
              "    <tr>\n",
              "      <th>39457</th>\n",
              "      <td>0.0</td>\n",
              "    </tr>\n",
              "  </tbody>\n",
              "</table>\n",
              "</div><br><label><b>dtype:</b> float64</label>"
            ]
          },
          "metadata": {},
          "execution_count": 42
        }
      ]
    },
    {
      "cell_type": "code",
      "source": [
        "df['hebergement'].unique()"
      ],
      "metadata": {
        "colab": {
          "base_uri": "https://localhost:8080/"
        },
        "id": "KcoGWc_vjDvo",
        "outputId": "eb171686-d91d-44a6-9bff-63aacaffac56"
      },
      "execution_count": null,
      "outputs": [
        {
          "output_type": "execute_result",
          "data": {
            "text/plain": [
              "array([ 0.,  1., nan])"
            ]
          },
          "metadata": {},
          "execution_count": 43
        }
      ]
    },
    {
      "cell_type": "code",
      "source": [
        "print(f\"Valeurs uniques : {len(df['ulis'].unique())}\\n\")\n",
        "df['ulis'].sample(n=5, random_state=23)"
      ],
      "metadata": {
        "id": "20stwmh2jD27",
        "colab": {
          "base_uri": "https://localhost:8080/",
          "height": 276
        },
        "outputId": "ea12e49c-4b67-47b6-b163-7d1c1295ec12"
      },
      "execution_count": null,
      "outputs": [
        {
          "output_type": "stream",
          "name": "stdout",
          "text": [
            "Valeurs uniques : 3\n",
            "\n"
          ]
        },
        {
          "output_type": "execute_result",
          "data": {
            "text/plain": [
              "38178    1.0\n",
              "55129    1.0\n",
              "8413     0.0\n",
              "61005    0.0\n",
              "39457    0.0\n",
              "Name: ulis, dtype: float64"
            ],
            "text/html": [
              "<div>\n",
              "<style scoped>\n",
              "    .dataframe tbody tr th:only-of-type {\n",
              "        vertical-align: middle;\n",
              "    }\n",
              "\n",
              "    .dataframe tbody tr th {\n",
              "        vertical-align: top;\n",
              "    }\n",
              "\n",
              "    .dataframe thead th {\n",
              "        text-align: right;\n",
              "    }\n",
              "</style>\n",
              "<table border=\"1\" class=\"dataframe\">\n",
              "  <thead>\n",
              "    <tr style=\"text-align: right;\">\n",
              "      <th></th>\n",
              "      <th>ulis</th>\n",
              "    </tr>\n",
              "  </thead>\n",
              "  <tbody>\n",
              "    <tr>\n",
              "      <th>38178</th>\n",
              "      <td>1.0</td>\n",
              "    </tr>\n",
              "    <tr>\n",
              "      <th>55129</th>\n",
              "      <td>1.0</td>\n",
              "    </tr>\n",
              "    <tr>\n",
              "      <th>8413</th>\n",
              "      <td>0.0</td>\n",
              "    </tr>\n",
              "    <tr>\n",
              "      <th>61005</th>\n",
              "      <td>0.0</td>\n",
              "    </tr>\n",
              "    <tr>\n",
              "      <th>39457</th>\n",
              "      <td>0.0</td>\n",
              "    </tr>\n",
              "  </tbody>\n",
              "</table>\n",
              "</div><br><label><b>dtype:</b> float64</label>"
            ]
          },
          "metadata": {},
          "execution_count": 44
        }
      ]
    },
    {
      "cell_type": "code",
      "source": [
        "df['ulis'].unique()"
      ],
      "metadata": {
        "id": "ye4_S1CPjD_E",
        "colab": {
          "base_uri": "https://localhost:8080/"
        },
        "outputId": "2255892c-396c-4ca4-cf30-ac6d667a9edf"
      },
      "execution_count": null,
      "outputs": [
        {
          "output_type": "execute_result",
          "data": {
            "text/plain": [
              "array([ 0.,  1., nan])"
            ]
          },
          "metadata": {},
          "execution_count": 45
        }
      ]
    },
    {
      "cell_type": "code",
      "source": [
        "print(f\"Valeurs uniques : {len(df['apprentissage'].unique())}\\n\")\n",
        "df['apprentissage'].sample(n=5, random_state=23)"
      ],
      "metadata": {
        "id": "9TAOp256jEH1",
        "colab": {
          "base_uri": "https://localhost:8080/",
          "height": 276
        },
        "outputId": "58027f35-9a45-478a-9dca-e8edd14c8917"
      },
      "execution_count": null,
      "outputs": [
        {
          "output_type": "stream",
          "name": "stdout",
          "text": [
            "Valeurs uniques : 3\n",
            "\n"
          ]
        },
        {
          "output_type": "execute_result",
          "data": {
            "text/plain": [
              "38178       0\n",
              "55129    None\n",
              "8413     None\n",
              "61005    None\n",
              "39457       0\n",
              "Name: apprentissage, dtype: object"
            ],
            "text/html": [
              "<div>\n",
              "<style scoped>\n",
              "    .dataframe tbody tr th:only-of-type {\n",
              "        vertical-align: middle;\n",
              "    }\n",
              "\n",
              "    .dataframe tbody tr th {\n",
              "        vertical-align: top;\n",
              "    }\n",
              "\n",
              "    .dataframe thead th {\n",
              "        text-align: right;\n",
              "    }\n",
              "</style>\n",
              "<table border=\"1\" class=\"dataframe\">\n",
              "  <thead>\n",
              "    <tr style=\"text-align: right;\">\n",
              "      <th></th>\n",
              "      <th>apprentissage</th>\n",
              "    </tr>\n",
              "  </thead>\n",
              "  <tbody>\n",
              "    <tr>\n",
              "      <th>38178</th>\n",
              "      <td>0</td>\n",
              "    </tr>\n",
              "    <tr>\n",
              "      <th>55129</th>\n",
              "      <td>None</td>\n",
              "    </tr>\n",
              "    <tr>\n",
              "      <th>8413</th>\n",
              "      <td>None</td>\n",
              "    </tr>\n",
              "    <tr>\n",
              "      <th>61005</th>\n",
              "      <td>None</td>\n",
              "    </tr>\n",
              "    <tr>\n",
              "      <th>39457</th>\n",
              "      <td>0</td>\n",
              "    </tr>\n",
              "  </tbody>\n",
              "</table>\n",
              "</div><br><label><b>dtype:</b> object</label>"
            ]
          },
          "metadata": {},
          "execution_count": 46
        }
      ]
    },
    {
      "cell_type": "code",
      "source": [
        "df['apprentissage'].unique()"
      ],
      "metadata": {
        "id": "V5ZM4wuAjENP",
        "colab": {
          "base_uri": "https://localhost:8080/"
        },
        "outputId": "3efa35b1-0d38-435c-9b54-484681908738"
      },
      "execution_count": null,
      "outputs": [
        {
          "output_type": "execute_result",
          "data": {
            "text/plain": [
              "array([None, '0', '1'], dtype=object)"
            ]
          },
          "metadata": {},
          "execution_count": 47
        }
      ]
    },
    {
      "cell_type": "code",
      "source": [
        "print(f\"Valeurs uniques : {len(df['segpa'].unique())}\\n\")\n",
        "df['segpa'].sample(n=5, random_state=23)"
      ],
      "metadata": {
        "id": "JDndnpZhs_Y6",
        "colab": {
          "base_uri": "https://localhost:8080/",
          "height": 276
        },
        "outputId": "753bb869-c7a9-4285-cbb1-db7631b6e0db"
      },
      "execution_count": null,
      "outputs": [
        {
          "output_type": "stream",
          "name": "stdout",
          "text": [
            "Valeurs uniques : 3\n",
            "\n"
          ]
        },
        {
          "output_type": "execute_result",
          "data": {
            "text/plain": [
              "38178       1\n",
              "55129    None\n",
              "8413     None\n",
              "61005    None\n",
              "39457       0\n",
              "Name: segpa, dtype: object"
            ],
            "text/html": [
              "<div>\n",
              "<style scoped>\n",
              "    .dataframe tbody tr th:only-of-type {\n",
              "        vertical-align: middle;\n",
              "    }\n",
              "\n",
              "    .dataframe tbody tr th {\n",
              "        vertical-align: top;\n",
              "    }\n",
              "\n",
              "    .dataframe thead th {\n",
              "        text-align: right;\n",
              "    }\n",
              "</style>\n",
              "<table border=\"1\" class=\"dataframe\">\n",
              "  <thead>\n",
              "    <tr style=\"text-align: right;\">\n",
              "      <th></th>\n",
              "      <th>segpa</th>\n",
              "    </tr>\n",
              "  </thead>\n",
              "  <tbody>\n",
              "    <tr>\n",
              "      <th>38178</th>\n",
              "      <td>1</td>\n",
              "    </tr>\n",
              "    <tr>\n",
              "      <th>55129</th>\n",
              "      <td>None</td>\n",
              "    </tr>\n",
              "    <tr>\n",
              "      <th>8413</th>\n",
              "      <td>None</td>\n",
              "    </tr>\n",
              "    <tr>\n",
              "      <th>61005</th>\n",
              "      <td>None</td>\n",
              "    </tr>\n",
              "    <tr>\n",
              "      <th>39457</th>\n",
              "      <td>0</td>\n",
              "    </tr>\n",
              "  </tbody>\n",
              "</table>\n",
              "</div><br><label><b>dtype:</b> object</label>"
            ]
          },
          "metadata": {},
          "execution_count": 48
        }
      ]
    },
    {
      "cell_type": "code",
      "source": [
        "df['segpa'].unique()"
      ],
      "metadata": {
        "colab": {
          "base_uri": "https://localhost:8080/"
        },
        "id": "8jxrSXriJrey",
        "outputId": "816e49a6-c338-4bf8-89ac-b6100eef5397"
      },
      "execution_count": null,
      "outputs": [
        {
          "output_type": "execute_result",
          "data": {
            "text/plain": [
              "array([None, '1', '0'], dtype=object)"
            ]
          },
          "metadata": {},
          "execution_count": 49
        }
      ]
    },
    {
      "cell_type": "code",
      "source": [
        "print(f\"Valeurs uniques : {len(df['section_arts'].unique())}\\n\")\n",
        "df['section_arts'].sample(n=5, random_state=23)"
      ],
      "metadata": {
        "colab": {
          "base_uri": "https://localhost:8080/",
          "height": 276
        },
        "id": "ty8ucuFqJrmh",
        "outputId": "44515632-42be-45db-f9c8-6a0cf66a15ac"
      },
      "execution_count": null,
      "outputs": [
        {
          "output_type": "stream",
          "name": "stdout",
          "text": [
            "Valeurs uniques : 3\n",
            "\n"
          ]
        },
        {
          "output_type": "execute_result",
          "data": {
            "text/plain": [
              "38178       0\n",
              "55129    None\n",
              "8413     None\n",
              "61005    None\n",
              "39457       0\n",
              "Name: section_arts, dtype: object"
            ],
            "text/html": [
              "<div>\n",
              "<style scoped>\n",
              "    .dataframe tbody tr th:only-of-type {\n",
              "        vertical-align: middle;\n",
              "    }\n",
              "\n",
              "    .dataframe tbody tr th {\n",
              "        vertical-align: top;\n",
              "    }\n",
              "\n",
              "    .dataframe thead th {\n",
              "        text-align: right;\n",
              "    }\n",
              "</style>\n",
              "<table border=\"1\" class=\"dataframe\">\n",
              "  <thead>\n",
              "    <tr style=\"text-align: right;\">\n",
              "      <th></th>\n",
              "      <th>section_arts</th>\n",
              "    </tr>\n",
              "  </thead>\n",
              "  <tbody>\n",
              "    <tr>\n",
              "      <th>38178</th>\n",
              "      <td>0</td>\n",
              "    </tr>\n",
              "    <tr>\n",
              "      <th>55129</th>\n",
              "      <td>None</td>\n",
              "    </tr>\n",
              "    <tr>\n",
              "      <th>8413</th>\n",
              "      <td>None</td>\n",
              "    </tr>\n",
              "    <tr>\n",
              "      <th>61005</th>\n",
              "      <td>None</td>\n",
              "    </tr>\n",
              "    <tr>\n",
              "      <th>39457</th>\n",
              "      <td>0</td>\n",
              "    </tr>\n",
              "  </tbody>\n",
              "</table>\n",
              "</div><br><label><b>dtype:</b> object</label>"
            ]
          },
          "metadata": {},
          "execution_count": 50
        }
      ]
    },
    {
      "cell_type": "code",
      "source": [
        "df['section_arts'].unique()"
      ],
      "metadata": {
        "colab": {
          "base_uri": "https://localhost:8080/"
        },
        "id": "zS9-LOoBKXSv",
        "outputId": "93d5a781-f60b-42d8-b976-f3008b9e3f01"
      },
      "execution_count": null,
      "outputs": [
        {
          "output_type": "execute_result",
          "data": {
            "text/plain": [
              "array([None, '0', '1'], dtype=object)"
            ]
          },
          "metadata": {},
          "execution_count": 51
        }
      ]
    },
    {
      "cell_type": "code",
      "source": [
        "print(f\"Valeurs uniques : {len(df['section_cinema'].unique())}\\n\")\n",
        "df['section_cinema'].sample(n=5, random_state=23)"
      ],
      "metadata": {
        "colab": {
          "base_uri": "https://localhost:8080/",
          "height": 276
        },
        "id": "a9ENKlo0Jrte",
        "outputId": "0e7fc87a-a791-4006-f842-6a872e96acae"
      },
      "execution_count": null,
      "outputs": [
        {
          "output_type": "stream",
          "name": "stdout",
          "text": [
            "Valeurs uniques : 3\n",
            "\n"
          ]
        },
        {
          "output_type": "execute_result",
          "data": {
            "text/plain": [
              "38178       0\n",
              "55129    None\n",
              "8413     None\n",
              "61005    None\n",
              "39457       0\n",
              "Name: section_cinema, dtype: object"
            ],
            "text/html": [
              "<div>\n",
              "<style scoped>\n",
              "    .dataframe tbody tr th:only-of-type {\n",
              "        vertical-align: middle;\n",
              "    }\n",
              "\n",
              "    .dataframe tbody tr th {\n",
              "        vertical-align: top;\n",
              "    }\n",
              "\n",
              "    .dataframe thead th {\n",
              "        text-align: right;\n",
              "    }\n",
              "</style>\n",
              "<table border=\"1\" class=\"dataframe\">\n",
              "  <thead>\n",
              "    <tr style=\"text-align: right;\">\n",
              "      <th></th>\n",
              "      <th>section_cinema</th>\n",
              "    </tr>\n",
              "  </thead>\n",
              "  <tbody>\n",
              "    <tr>\n",
              "      <th>38178</th>\n",
              "      <td>0</td>\n",
              "    </tr>\n",
              "    <tr>\n",
              "      <th>55129</th>\n",
              "      <td>None</td>\n",
              "    </tr>\n",
              "    <tr>\n",
              "      <th>8413</th>\n",
              "      <td>None</td>\n",
              "    </tr>\n",
              "    <tr>\n",
              "      <th>61005</th>\n",
              "      <td>None</td>\n",
              "    </tr>\n",
              "    <tr>\n",
              "      <th>39457</th>\n",
              "      <td>0</td>\n",
              "    </tr>\n",
              "  </tbody>\n",
              "</table>\n",
              "</div><br><label><b>dtype:</b> object</label>"
            ]
          },
          "metadata": {},
          "execution_count": 52
        }
      ]
    },
    {
      "cell_type": "code",
      "source": [
        "df['section_cinema'].unique()"
      ],
      "metadata": {
        "colab": {
          "base_uri": "https://localhost:8080/"
        },
        "id": "gJzOvZ__Jr07",
        "outputId": "829f7b4e-c2ef-44c4-fe1d-8251f68f7c09"
      },
      "execution_count": null,
      "outputs": [
        {
          "output_type": "execute_result",
          "data": {
            "text/plain": [
              "array([None, '0', '1'], dtype=object)"
            ]
          },
          "metadata": {},
          "execution_count": 53
        }
      ]
    },
    {
      "cell_type": "code",
      "source": [
        "print(f\"Valeurs uniques : {len(df['section_theatre'].unique())}\\n\")\n",
        "df['section_theatre'].sample(n=5, random_state=23)"
      ],
      "metadata": {
        "colab": {
          "base_uri": "https://localhost:8080/",
          "height": 276
        },
        "id": "1rFSdlF_Jr8A",
        "outputId": "690e6910-bd4e-4285-81bd-471cb80fb39b"
      },
      "execution_count": null,
      "outputs": [
        {
          "output_type": "stream",
          "name": "stdout",
          "text": [
            "Valeurs uniques : 3\n",
            "\n"
          ]
        },
        {
          "output_type": "execute_result",
          "data": {
            "text/plain": [
              "38178       0\n",
              "55129    None\n",
              "8413     None\n",
              "61005    None\n",
              "39457       0\n",
              "Name: section_theatre, dtype: object"
            ],
            "text/html": [
              "<div>\n",
              "<style scoped>\n",
              "    .dataframe tbody tr th:only-of-type {\n",
              "        vertical-align: middle;\n",
              "    }\n",
              "\n",
              "    .dataframe tbody tr th {\n",
              "        vertical-align: top;\n",
              "    }\n",
              "\n",
              "    .dataframe thead th {\n",
              "        text-align: right;\n",
              "    }\n",
              "</style>\n",
              "<table border=\"1\" class=\"dataframe\">\n",
              "  <thead>\n",
              "    <tr style=\"text-align: right;\">\n",
              "      <th></th>\n",
              "      <th>section_theatre</th>\n",
              "    </tr>\n",
              "  </thead>\n",
              "  <tbody>\n",
              "    <tr>\n",
              "      <th>38178</th>\n",
              "      <td>0</td>\n",
              "    </tr>\n",
              "    <tr>\n",
              "      <th>55129</th>\n",
              "      <td>None</td>\n",
              "    </tr>\n",
              "    <tr>\n",
              "      <th>8413</th>\n",
              "      <td>None</td>\n",
              "    </tr>\n",
              "    <tr>\n",
              "      <th>61005</th>\n",
              "      <td>None</td>\n",
              "    </tr>\n",
              "    <tr>\n",
              "      <th>39457</th>\n",
              "      <td>0</td>\n",
              "    </tr>\n",
              "  </tbody>\n",
              "</table>\n",
              "</div><br><label><b>dtype:</b> object</label>"
            ]
          },
          "metadata": {},
          "execution_count": 54
        }
      ]
    },
    {
      "cell_type": "code",
      "source": [
        "df['section_theatre'].unique()"
      ],
      "metadata": {
        "colab": {
          "base_uri": "https://localhost:8080/"
        },
        "id": "2ApKmuZyJsDZ",
        "outputId": "d45571c8-6034-4711-ad02-ef40fc62853b"
      },
      "execution_count": null,
      "outputs": [
        {
          "output_type": "execute_result",
          "data": {
            "text/plain": [
              "array([None, '0', '1'], dtype=object)"
            ]
          },
          "metadata": {},
          "execution_count": 55
        }
      ]
    },
    {
      "cell_type": "code",
      "source": [
        "print(f\"Valeurs uniques : {len(df['section_sport'].unique())}\\n\")\n",
        "df['section_sport'].sample(n=5, random_state=23)"
      ],
      "metadata": {
        "colab": {
          "base_uri": "https://localhost:8080/",
          "height": 276
        },
        "id": "cSwMaD8aJsKs",
        "outputId": "6667455f-b9ea-44a5-afde-cadff98bd23c"
      },
      "execution_count": null,
      "outputs": [
        {
          "output_type": "stream",
          "name": "stdout",
          "text": [
            "Valeurs uniques : 3\n",
            "\n"
          ]
        },
        {
          "output_type": "execute_result",
          "data": {
            "text/plain": [
              "38178       1\n",
              "55129    None\n",
              "8413     None\n",
              "61005    None\n",
              "39457       0\n",
              "Name: section_sport, dtype: object"
            ],
            "text/html": [
              "<div>\n",
              "<style scoped>\n",
              "    .dataframe tbody tr th:only-of-type {\n",
              "        vertical-align: middle;\n",
              "    }\n",
              "\n",
              "    .dataframe tbody tr th {\n",
              "        vertical-align: top;\n",
              "    }\n",
              "\n",
              "    .dataframe thead th {\n",
              "        text-align: right;\n",
              "    }\n",
              "</style>\n",
              "<table border=\"1\" class=\"dataframe\">\n",
              "  <thead>\n",
              "    <tr style=\"text-align: right;\">\n",
              "      <th></th>\n",
              "      <th>section_sport</th>\n",
              "    </tr>\n",
              "  </thead>\n",
              "  <tbody>\n",
              "    <tr>\n",
              "      <th>38178</th>\n",
              "      <td>1</td>\n",
              "    </tr>\n",
              "    <tr>\n",
              "      <th>55129</th>\n",
              "      <td>None</td>\n",
              "    </tr>\n",
              "    <tr>\n",
              "      <th>8413</th>\n",
              "      <td>None</td>\n",
              "    </tr>\n",
              "    <tr>\n",
              "      <th>61005</th>\n",
              "      <td>None</td>\n",
              "    </tr>\n",
              "    <tr>\n",
              "      <th>39457</th>\n",
              "      <td>0</td>\n",
              "    </tr>\n",
              "  </tbody>\n",
              "</table>\n",
              "</div><br><label><b>dtype:</b> object</label>"
            ]
          },
          "metadata": {},
          "execution_count": 56
        }
      ]
    },
    {
      "cell_type": "code",
      "source": [
        "df['section_sport'].unique()"
      ],
      "metadata": {
        "colab": {
          "base_uri": "https://localhost:8080/"
        },
        "id": "UecTrbXYJsR7",
        "outputId": "1e80420f-4c67-4330-9a5c-e22e94728157"
      },
      "execution_count": null,
      "outputs": [
        {
          "output_type": "execute_result",
          "data": {
            "text/plain": [
              "array([None, '0', '1'], dtype=object)"
            ]
          },
          "metadata": {},
          "execution_count": 57
        }
      ]
    },
    {
      "cell_type": "code",
      "source": [
        "print(f\"Valeurs uniques : {len(df['section_internationale'].unique())}\\n\")\n",
        "df['section_internationale'].sample(n=5, random_state=23)"
      ],
      "metadata": {
        "colab": {
          "base_uri": "https://localhost:8080/",
          "height": 276
        },
        "id": "bPoaeMM3JsZ5",
        "outputId": "afcfd243-080e-4012-cec5-d1e3b7a851c2"
      },
      "execution_count": null,
      "outputs": [
        {
          "output_type": "stream",
          "name": "stdout",
          "text": [
            "Valeurs uniques : 3\n",
            "\n"
          ]
        },
        {
          "output_type": "execute_result",
          "data": {
            "text/plain": [
              "38178       0\n",
              "55129    None\n",
              "8413     None\n",
              "61005    None\n",
              "39457       0\n",
              "Name: section_internationale, dtype: object"
            ],
            "text/html": [
              "<div>\n",
              "<style scoped>\n",
              "    .dataframe tbody tr th:only-of-type {\n",
              "        vertical-align: middle;\n",
              "    }\n",
              "\n",
              "    .dataframe tbody tr th {\n",
              "        vertical-align: top;\n",
              "    }\n",
              "\n",
              "    .dataframe thead th {\n",
              "        text-align: right;\n",
              "    }\n",
              "</style>\n",
              "<table border=\"1\" class=\"dataframe\">\n",
              "  <thead>\n",
              "    <tr style=\"text-align: right;\">\n",
              "      <th></th>\n",
              "      <th>section_internationale</th>\n",
              "    </tr>\n",
              "  </thead>\n",
              "  <tbody>\n",
              "    <tr>\n",
              "      <th>38178</th>\n",
              "      <td>0</td>\n",
              "    </tr>\n",
              "    <tr>\n",
              "      <th>55129</th>\n",
              "      <td>None</td>\n",
              "    </tr>\n",
              "    <tr>\n",
              "      <th>8413</th>\n",
              "      <td>None</td>\n",
              "    </tr>\n",
              "    <tr>\n",
              "      <th>61005</th>\n",
              "      <td>None</td>\n",
              "    </tr>\n",
              "    <tr>\n",
              "      <th>39457</th>\n",
              "      <td>0</td>\n",
              "    </tr>\n",
              "  </tbody>\n",
              "</table>\n",
              "</div><br><label><b>dtype:</b> object</label>"
            ]
          },
          "metadata": {},
          "execution_count": 58
        }
      ]
    },
    {
      "cell_type": "code",
      "source": [
        "df['section_internationale'].unique()"
      ],
      "metadata": {
        "colab": {
          "base_uri": "https://localhost:8080/"
        },
        "id": "tnoG4R8tNzyx",
        "outputId": "abced2bb-ead7-49ee-eb15-06b9fe8bcc25"
      },
      "execution_count": null,
      "outputs": [
        {
          "output_type": "execute_result",
          "data": {
            "text/plain": [
              "array([None, '0', '1'], dtype=object)"
            ]
          },
          "metadata": {},
          "execution_count": 59
        }
      ]
    },
    {
      "cell_type": "code",
      "source": [
        "print(f\"Valeurs uniques : {len(df['section_europeenne'].unique())}\\n\")\n",
        "df['section_europeenne'].sample(n=5, random_state=23)"
      ],
      "metadata": {
        "colab": {
          "base_uri": "https://localhost:8080/",
          "height": 276
        },
        "id": "eiSwBhjINz63",
        "outputId": "fddc6050-628f-46fd-dc7f-005cc2b153d6"
      },
      "execution_count": null,
      "outputs": [
        {
          "output_type": "stream",
          "name": "stdout",
          "text": [
            "Valeurs uniques : 3\n",
            "\n"
          ]
        },
        {
          "output_type": "execute_result",
          "data": {
            "text/plain": [
              "38178       0\n",
              "55129    None\n",
              "8413     None\n",
              "61005    None\n",
              "39457       0\n",
              "Name: section_europeenne, dtype: object"
            ],
            "text/html": [
              "<div>\n",
              "<style scoped>\n",
              "    .dataframe tbody tr th:only-of-type {\n",
              "        vertical-align: middle;\n",
              "    }\n",
              "\n",
              "    .dataframe tbody tr th {\n",
              "        vertical-align: top;\n",
              "    }\n",
              "\n",
              "    .dataframe thead th {\n",
              "        text-align: right;\n",
              "    }\n",
              "</style>\n",
              "<table border=\"1\" class=\"dataframe\">\n",
              "  <thead>\n",
              "    <tr style=\"text-align: right;\">\n",
              "      <th></th>\n",
              "      <th>section_europeenne</th>\n",
              "    </tr>\n",
              "  </thead>\n",
              "  <tbody>\n",
              "    <tr>\n",
              "      <th>38178</th>\n",
              "      <td>0</td>\n",
              "    </tr>\n",
              "    <tr>\n",
              "      <th>55129</th>\n",
              "      <td>None</td>\n",
              "    </tr>\n",
              "    <tr>\n",
              "      <th>8413</th>\n",
              "      <td>None</td>\n",
              "    </tr>\n",
              "    <tr>\n",
              "      <th>61005</th>\n",
              "      <td>None</td>\n",
              "    </tr>\n",
              "    <tr>\n",
              "      <th>39457</th>\n",
              "      <td>0</td>\n",
              "    </tr>\n",
              "  </tbody>\n",
              "</table>\n",
              "</div><br><label><b>dtype:</b> object</label>"
            ]
          },
          "metadata": {},
          "execution_count": 60
        }
      ]
    },
    {
      "cell_type": "code",
      "source": [
        "df['section_europeenne'].unique()"
      ],
      "metadata": {
        "colab": {
          "base_uri": "https://localhost:8080/"
        },
        "id": "fWQQCuxoN0C1",
        "outputId": "ad815a74-fe25-4a74-cc47-2cd35e46875b"
      },
      "execution_count": null,
      "outputs": [
        {
          "output_type": "execute_result",
          "data": {
            "text/plain": [
              "array([None, '0', '1'], dtype=object)"
            ]
          },
          "metadata": {},
          "execution_count": 61
        }
      ]
    },
    {
      "cell_type": "code",
      "source": [
        "print(f\"Valeurs uniques : {len(df['lycee_agricole'].unique())}\\n\")\n",
        "df['lycee_agricole'].sample(n=5, random_state=23)"
      ],
      "metadata": {
        "colab": {
          "base_uri": "https://localhost:8080/",
          "height": 276
        },
        "id": "prQtJMBpN0Ld",
        "outputId": "6c6fd091-c0c5-4787-89be-c922133a6b9b"
      },
      "execution_count": null,
      "outputs": [
        {
          "output_type": "stream",
          "name": "stdout",
          "text": [
            "Valeurs uniques : 3\n",
            "\n"
          ]
        },
        {
          "output_type": "execute_result",
          "data": {
            "text/plain": [
              "38178       0\n",
              "55129    None\n",
              "8413     None\n",
              "61005    None\n",
              "39457       0\n",
              "Name: lycee_agricole, dtype: object"
            ],
            "text/html": [
              "<div>\n",
              "<style scoped>\n",
              "    .dataframe tbody tr th:only-of-type {\n",
              "        vertical-align: middle;\n",
              "    }\n",
              "\n",
              "    .dataframe tbody tr th {\n",
              "        vertical-align: top;\n",
              "    }\n",
              "\n",
              "    .dataframe thead th {\n",
              "        text-align: right;\n",
              "    }\n",
              "</style>\n",
              "<table border=\"1\" class=\"dataframe\">\n",
              "  <thead>\n",
              "    <tr style=\"text-align: right;\">\n",
              "      <th></th>\n",
              "      <th>lycee_agricole</th>\n",
              "    </tr>\n",
              "  </thead>\n",
              "  <tbody>\n",
              "    <tr>\n",
              "      <th>38178</th>\n",
              "      <td>0</td>\n",
              "    </tr>\n",
              "    <tr>\n",
              "      <th>55129</th>\n",
              "      <td>None</td>\n",
              "    </tr>\n",
              "    <tr>\n",
              "      <th>8413</th>\n",
              "      <td>None</td>\n",
              "    </tr>\n",
              "    <tr>\n",
              "      <th>61005</th>\n",
              "      <td>None</td>\n",
              "    </tr>\n",
              "    <tr>\n",
              "      <th>39457</th>\n",
              "      <td>0</td>\n",
              "    </tr>\n",
              "  </tbody>\n",
              "</table>\n",
              "</div><br><label><b>dtype:</b> object</label>"
            ]
          },
          "metadata": {},
          "execution_count": 62
        }
      ]
    },
    {
      "cell_type": "code",
      "source": [
        "df['lycee_agricole'].unique()"
      ],
      "metadata": {
        "colab": {
          "base_uri": "https://localhost:8080/"
        },
        "id": "6A6HX_yjN0Ta",
        "outputId": "0dc08dd8-0a60-476d-c25f-79f9376f5024"
      },
      "execution_count": null,
      "outputs": [
        {
          "output_type": "execute_result",
          "data": {
            "text/plain": [
              "array([None, '0', '1'], dtype=object)"
            ]
          },
          "metadata": {},
          "execution_count": 63
        }
      ]
    },
    {
      "cell_type": "code",
      "source": [
        "print(f\"Valeurs uniques : {len(df['lycee_militaire'].unique())}\\n\")\n",
        "df['lycee_militaire'].sample(n=5, random_state=23)"
      ],
      "metadata": {
        "colab": {
          "base_uri": "https://localhost:8080/",
          "height": 276
        },
        "id": "3unhbNGTN0bP",
        "outputId": "a36dc4fa-033d-41c8-f462-3096550d2106"
      },
      "execution_count": null,
      "outputs": [
        {
          "output_type": "stream",
          "name": "stdout",
          "text": [
            "Valeurs uniques : 3\n",
            "\n"
          ]
        },
        {
          "output_type": "execute_result",
          "data": {
            "text/plain": [
              "38178       0\n",
              "55129    None\n",
              "8413     None\n",
              "61005    None\n",
              "39457       0\n",
              "Name: lycee_militaire, dtype: object"
            ],
            "text/html": [
              "<div>\n",
              "<style scoped>\n",
              "    .dataframe tbody tr th:only-of-type {\n",
              "        vertical-align: middle;\n",
              "    }\n",
              "\n",
              "    .dataframe tbody tr th {\n",
              "        vertical-align: top;\n",
              "    }\n",
              "\n",
              "    .dataframe thead th {\n",
              "        text-align: right;\n",
              "    }\n",
              "</style>\n",
              "<table border=\"1\" class=\"dataframe\">\n",
              "  <thead>\n",
              "    <tr style=\"text-align: right;\">\n",
              "      <th></th>\n",
              "      <th>lycee_militaire</th>\n",
              "    </tr>\n",
              "  </thead>\n",
              "  <tbody>\n",
              "    <tr>\n",
              "      <th>38178</th>\n",
              "      <td>0</td>\n",
              "    </tr>\n",
              "    <tr>\n",
              "      <th>55129</th>\n",
              "      <td>None</td>\n",
              "    </tr>\n",
              "    <tr>\n",
              "      <th>8413</th>\n",
              "      <td>None</td>\n",
              "    </tr>\n",
              "    <tr>\n",
              "      <th>61005</th>\n",
              "      <td>None</td>\n",
              "    </tr>\n",
              "    <tr>\n",
              "      <th>39457</th>\n",
              "      <td>0</td>\n",
              "    </tr>\n",
              "  </tbody>\n",
              "</table>\n",
              "</div><br><label><b>dtype:</b> object</label>"
            ]
          },
          "metadata": {},
          "execution_count": 64
        }
      ]
    },
    {
      "cell_type": "code",
      "source": [
        "df['lycee_militaire'].unique()"
      ],
      "metadata": {
        "colab": {
          "base_uri": "https://localhost:8080/"
        },
        "id": "iWZ3kpSEN0i0",
        "outputId": "d20aaced-6e04-4e6c-efaa-3126a6fef7d6"
      },
      "execution_count": null,
      "outputs": [
        {
          "output_type": "execute_result",
          "data": {
            "text/plain": [
              "array([None, '0', '1'], dtype=object)"
            ]
          },
          "metadata": {},
          "execution_count": 65
        }
      ]
    },
    {
      "cell_type": "code",
      "source": [
        "print(f\"Valeurs uniques : {len(df['lycee_des_metiers'].unique())}\\n\")\n",
        "df['lycee_des_metiers'].sample(n=5, random_state=23)"
      ],
      "metadata": {
        "colab": {
          "base_uri": "https://localhost:8080/",
          "height": 276
        },
        "id": "rxMnHYGMN0qS",
        "outputId": "8211c5a6-5a04-4e2c-dc37-ce824360c30c"
      },
      "execution_count": null,
      "outputs": [
        {
          "output_type": "stream",
          "name": "stdout",
          "text": [
            "Valeurs uniques : 3\n",
            "\n"
          ]
        },
        {
          "output_type": "execute_result",
          "data": {
            "text/plain": [
              "38178       0\n",
              "55129    None\n",
              "8413     None\n",
              "61005    None\n",
              "39457       0\n",
              "Name: lycee_des_metiers, dtype: object"
            ],
            "text/html": [
              "<div>\n",
              "<style scoped>\n",
              "    .dataframe tbody tr th:only-of-type {\n",
              "        vertical-align: middle;\n",
              "    }\n",
              "\n",
              "    .dataframe tbody tr th {\n",
              "        vertical-align: top;\n",
              "    }\n",
              "\n",
              "    .dataframe thead th {\n",
              "        text-align: right;\n",
              "    }\n",
              "</style>\n",
              "<table border=\"1\" class=\"dataframe\">\n",
              "  <thead>\n",
              "    <tr style=\"text-align: right;\">\n",
              "      <th></th>\n",
              "      <th>lycee_des_metiers</th>\n",
              "    </tr>\n",
              "  </thead>\n",
              "  <tbody>\n",
              "    <tr>\n",
              "      <th>38178</th>\n",
              "      <td>0</td>\n",
              "    </tr>\n",
              "    <tr>\n",
              "      <th>55129</th>\n",
              "      <td>None</td>\n",
              "    </tr>\n",
              "    <tr>\n",
              "      <th>8413</th>\n",
              "      <td>None</td>\n",
              "    </tr>\n",
              "    <tr>\n",
              "      <th>61005</th>\n",
              "      <td>None</td>\n",
              "    </tr>\n",
              "    <tr>\n",
              "      <th>39457</th>\n",
              "      <td>0</td>\n",
              "    </tr>\n",
              "  </tbody>\n",
              "</table>\n",
              "</div><br><label><b>dtype:</b> object</label>"
            ]
          },
          "metadata": {},
          "execution_count": 66
        }
      ]
    },
    {
      "cell_type": "code",
      "source": [
        "df['lycee_des_metiers'].unique()"
      ],
      "metadata": {
        "colab": {
          "base_uri": "https://localhost:8080/"
        },
        "id": "oNciDLNFN0yD",
        "outputId": "a4b3dfe8-f159-43e1-ccfe-8b59e559f364"
      },
      "execution_count": null,
      "outputs": [
        {
          "output_type": "execute_result",
          "data": {
            "text/plain": [
              "array([None, '0', '1'], dtype=object)"
            ]
          },
          "metadata": {},
          "execution_count": 67
        }
      ]
    },
    {
      "cell_type": "code",
      "source": [
        "print(f\"Valeurs uniques : {len(df['post_bac'].unique())}\\n\")\n",
        "df['post_bac'].sample(n=5, random_state=23)"
      ],
      "metadata": {
        "colab": {
          "base_uri": "https://localhost:8080/",
          "height": 276
        },
        "id": "R1_RF46QN054",
        "outputId": "bc0726f4-571a-4202-cc4a-af1e487ebff4"
      },
      "execution_count": null,
      "outputs": [
        {
          "output_type": "stream",
          "name": "stdout",
          "text": [
            "Valeurs uniques : 3\n",
            "\n"
          ]
        },
        {
          "output_type": "execute_result",
          "data": {
            "text/plain": [
              "38178       0\n",
              "55129    None\n",
              "8413     None\n",
              "61005    None\n",
              "39457       0\n",
              "Name: post_bac, dtype: object"
            ],
            "text/html": [
              "<div>\n",
              "<style scoped>\n",
              "    .dataframe tbody tr th:only-of-type {\n",
              "        vertical-align: middle;\n",
              "    }\n",
              "\n",
              "    .dataframe tbody tr th {\n",
              "        vertical-align: top;\n",
              "    }\n",
              "\n",
              "    .dataframe thead th {\n",
              "        text-align: right;\n",
              "    }\n",
              "</style>\n",
              "<table border=\"1\" class=\"dataframe\">\n",
              "  <thead>\n",
              "    <tr style=\"text-align: right;\">\n",
              "      <th></th>\n",
              "      <th>post_bac</th>\n",
              "    </tr>\n",
              "  </thead>\n",
              "  <tbody>\n",
              "    <tr>\n",
              "      <th>38178</th>\n",
              "      <td>0</td>\n",
              "    </tr>\n",
              "    <tr>\n",
              "      <th>55129</th>\n",
              "      <td>None</td>\n",
              "    </tr>\n",
              "    <tr>\n",
              "      <th>8413</th>\n",
              "      <td>None</td>\n",
              "    </tr>\n",
              "    <tr>\n",
              "      <th>61005</th>\n",
              "      <td>None</td>\n",
              "    </tr>\n",
              "    <tr>\n",
              "      <th>39457</th>\n",
              "      <td>0</td>\n",
              "    </tr>\n",
              "  </tbody>\n",
              "</table>\n",
              "</div><br><label><b>dtype:</b> object</label>"
            ]
          },
          "metadata": {},
          "execution_count": 68
        }
      ]
    },
    {
      "cell_type": "code",
      "source": [
        "df['post_bac'].unique()"
      ],
      "metadata": {
        "colab": {
          "base_uri": "https://localhost:8080/"
        },
        "id": "XxcrlWo4Jsg0",
        "outputId": "06375e28-e81c-4efd-ca00-af3a386598af"
      },
      "execution_count": null,
      "outputs": [
        {
          "output_type": "execute_result",
          "data": {
            "text/plain": [
              "array([None, '0', '1'], dtype=object)"
            ]
          },
          "metadata": {},
          "execution_count": 69
        }
      ]
    },
    {
      "cell_type": "code",
      "source": [
        "print(f\"Valeurs uniques : {len(df['appartenance_education_prioritaire'].unique())}\\n\")\n",
        "df['appartenance_education_prioritaire'].sample(n=5, random_state=23)"
      ],
      "metadata": {
        "colab": {
          "base_uri": "https://localhost:8080/",
          "height": 276
        },
        "id": "fCw3IPsCPH6J",
        "outputId": "171d21f1-621a-4e8c-e65a-50a592b444f5"
      },
      "execution_count": null,
      "outputs": [
        {
          "output_type": "stream",
          "name": "stdout",
          "text": [
            "Valeurs uniques : 3\n",
            "\n"
          ]
        },
        {
          "output_type": "execute_result",
          "data": {
            "text/plain": [
              "38178    None\n",
              "55129    None\n",
              "8413     None\n",
              "61005    None\n",
              "39457    None\n",
              "Name: appartenance_education_prioritaire, dtype: object"
            ],
            "text/html": [
              "<div>\n",
              "<style scoped>\n",
              "    .dataframe tbody tr th:only-of-type {\n",
              "        vertical-align: middle;\n",
              "    }\n",
              "\n",
              "    .dataframe tbody tr th {\n",
              "        vertical-align: top;\n",
              "    }\n",
              "\n",
              "    .dataframe thead th {\n",
              "        text-align: right;\n",
              "    }\n",
              "</style>\n",
              "<table border=\"1\" class=\"dataframe\">\n",
              "  <thead>\n",
              "    <tr style=\"text-align: right;\">\n",
              "      <th></th>\n",
              "      <th>appartenance_education_prioritaire</th>\n",
              "    </tr>\n",
              "  </thead>\n",
              "  <tbody>\n",
              "    <tr>\n",
              "      <th>38178</th>\n",
              "      <td>None</td>\n",
              "    </tr>\n",
              "    <tr>\n",
              "      <th>55129</th>\n",
              "      <td>None</td>\n",
              "    </tr>\n",
              "    <tr>\n",
              "      <th>8413</th>\n",
              "      <td>None</td>\n",
              "    </tr>\n",
              "    <tr>\n",
              "      <th>61005</th>\n",
              "      <td>None</td>\n",
              "    </tr>\n",
              "    <tr>\n",
              "      <th>39457</th>\n",
              "      <td>None</td>\n",
              "    </tr>\n",
              "  </tbody>\n",
              "</table>\n",
              "</div><br><label><b>dtype:</b> object</label>"
            ]
          },
          "metadata": {},
          "execution_count": 70
        }
      ]
    },
    {
      "cell_type": "code",
      "source": [
        "df['appartenance_education_prioritaire'].unique()"
      ],
      "metadata": {
        "colab": {
          "base_uri": "https://localhost:8080/"
        },
        "id": "JUozVYdrPICf",
        "outputId": "8d03e9e8-f6af-4522-ee33-36e9fddbc836"
      },
      "execution_count": null,
      "outputs": [
        {
          "output_type": "execute_result",
          "data": {
            "text/plain": [
              "array([None, 'REP', 'REP+'], dtype=object)"
            ]
          },
          "metadata": {},
          "execution_count": 71
        }
      ]
    },
    {
      "cell_type": "code",
      "source": [
        "print(f\"Valeurs uniques : {len(df['greta'].unique())}\\n\")\n",
        "df['greta'].sample(n=5, random_state=23)"
      ],
      "metadata": {
        "colab": {
          "base_uri": "https://localhost:8080/",
          "height": 276
        },
        "id": "wFXHWpRwPIKZ",
        "outputId": "d71a697e-108e-4832-8456-f65e9ec1fe34"
      },
      "execution_count": null,
      "outputs": [
        {
          "output_type": "stream",
          "name": "stdout",
          "text": [
            "Valeurs uniques : 3\n",
            "\n"
          ]
        },
        {
          "output_type": "execute_result",
          "data": {
            "text/plain": [
              "38178       0\n",
              "55129    None\n",
              "8413     None\n",
              "61005    None\n",
              "39457       0\n",
              "Name: greta, dtype: object"
            ],
            "text/html": [
              "<div>\n",
              "<style scoped>\n",
              "    .dataframe tbody tr th:only-of-type {\n",
              "        vertical-align: middle;\n",
              "    }\n",
              "\n",
              "    .dataframe tbody tr th {\n",
              "        vertical-align: top;\n",
              "    }\n",
              "\n",
              "    .dataframe thead th {\n",
              "        text-align: right;\n",
              "    }\n",
              "</style>\n",
              "<table border=\"1\" class=\"dataframe\">\n",
              "  <thead>\n",
              "    <tr style=\"text-align: right;\">\n",
              "      <th></th>\n",
              "      <th>greta</th>\n",
              "    </tr>\n",
              "  </thead>\n",
              "  <tbody>\n",
              "    <tr>\n",
              "      <th>38178</th>\n",
              "      <td>0</td>\n",
              "    </tr>\n",
              "    <tr>\n",
              "      <th>55129</th>\n",
              "      <td>None</td>\n",
              "    </tr>\n",
              "    <tr>\n",
              "      <th>8413</th>\n",
              "      <td>None</td>\n",
              "    </tr>\n",
              "    <tr>\n",
              "      <th>61005</th>\n",
              "      <td>None</td>\n",
              "    </tr>\n",
              "    <tr>\n",
              "      <th>39457</th>\n",
              "      <td>0</td>\n",
              "    </tr>\n",
              "  </tbody>\n",
              "</table>\n",
              "</div><br><label><b>dtype:</b> object</label>"
            ]
          },
          "metadata": {},
          "execution_count": 72
        }
      ]
    },
    {
      "cell_type": "code",
      "source": [
        "df['greta'].unique()"
      ],
      "metadata": {
        "colab": {
          "base_uri": "https://localhost:8080/"
        },
        "id": "uAittJ8dPISK",
        "outputId": "4dc22ade-b88e-4eab-9ae9-b078da72ea07"
      },
      "execution_count": null,
      "outputs": [
        {
          "output_type": "execute_result",
          "data": {
            "text/plain": [
              "array([None, '1', '0'], dtype=object)"
            ]
          },
          "metadata": {},
          "execution_count": 73
        }
      ]
    },
    {
      "cell_type": "code",
      "source": [
        "print(f\"Valeurs uniques : {len(df['siren_siret'].unique())}\\n\")\n",
        "df['siren_siret'].sample(n=5, random_state=23)"
      ],
      "metadata": {
        "colab": {
          "base_uri": "https://localhost:8080/",
          "height": 276
        },
        "id": "TnUSeZuePIZz",
        "outputId": "5f0d6f1b-8a5f-45cf-ccbc-7af8711a6118"
      },
      "execution_count": null,
      "outputs": [
        {
          "output_type": "stream",
          "name": "stdout",
          "text": [
            "Valeurs uniques : 63347\n",
            "\n"
          ]
        },
        {
          "output_type": "execute_result",
          "data": {
            "text/plain": [
              "38178    19330091000026\n",
              "55129    21780311300059\n",
              "8413     21570642500075\n",
              "61005    32471492200014\n",
              "39457    30908524900048\n",
              "Name: siren_siret, dtype: object"
            ],
            "text/html": [
              "<div>\n",
              "<style scoped>\n",
              "    .dataframe tbody tr th:only-of-type {\n",
              "        vertical-align: middle;\n",
              "    }\n",
              "\n",
              "    .dataframe tbody tr th {\n",
              "        vertical-align: top;\n",
              "    }\n",
              "\n",
              "    .dataframe thead th {\n",
              "        text-align: right;\n",
              "    }\n",
              "</style>\n",
              "<table border=\"1\" class=\"dataframe\">\n",
              "  <thead>\n",
              "    <tr style=\"text-align: right;\">\n",
              "      <th></th>\n",
              "      <th>siren_siret</th>\n",
              "    </tr>\n",
              "  </thead>\n",
              "  <tbody>\n",
              "    <tr>\n",
              "      <th>38178</th>\n",
              "      <td>19330091000026</td>\n",
              "    </tr>\n",
              "    <tr>\n",
              "      <th>55129</th>\n",
              "      <td>21780311300059</td>\n",
              "    </tr>\n",
              "    <tr>\n",
              "      <th>8413</th>\n",
              "      <td>21570642500075</td>\n",
              "    </tr>\n",
              "    <tr>\n",
              "      <th>61005</th>\n",
              "      <td>32471492200014</td>\n",
              "    </tr>\n",
              "    <tr>\n",
              "      <th>39457</th>\n",
              "      <td>30908524900048</td>\n",
              "    </tr>\n",
              "  </tbody>\n",
              "</table>\n",
              "</div><br><label><b>dtype:</b> object</label>"
            ]
          },
          "metadata": {},
          "execution_count": 74
        }
      ]
    },
    {
      "cell_type": "code",
      "source": [
        "print(f\"Valeurs uniques : {len(df['nombre_d_eleves'].unique())}\\n\")\n",
        "df['nombre_d_eleves'].sample(n=5, random_state=23)"
      ],
      "metadata": {
        "colab": {
          "base_uri": "https://localhost:8080/",
          "height": 276
        },
        "id": "DT3DCJHHPIhm",
        "outputId": "34007503-3e19-401d-84a1-fbf1b1522f94"
      },
      "execution_count": null,
      "outputs": [
        {
          "output_type": "stream",
          "name": "stdout",
          "text": [
            "Valeurs uniques : 1462\n",
            "\n"
          ]
        },
        {
          "output_type": "execute_result",
          "data": {
            "text/plain": [
              "38178    636.0\n",
              "55129    264.0\n",
              "8413     217.0\n",
              "61005    194.0\n",
              "39457    247.0\n",
              "Name: nombre_d_eleves, dtype: float64"
            ],
            "text/html": [
              "<div>\n",
              "<style scoped>\n",
              "    .dataframe tbody tr th:only-of-type {\n",
              "        vertical-align: middle;\n",
              "    }\n",
              "\n",
              "    .dataframe tbody tr th {\n",
              "        vertical-align: top;\n",
              "    }\n",
              "\n",
              "    .dataframe thead th {\n",
              "        text-align: right;\n",
              "    }\n",
              "</style>\n",
              "<table border=\"1\" class=\"dataframe\">\n",
              "  <thead>\n",
              "    <tr style=\"text-align: right;\">\n",
              "      <th></th>\n",
              "      <th>nombre_d_eleves</th>\n",
              "    </tr>\n",
              "  </thead>\n",
              "  <tbody>\n",
              "    <tr>\n",
              "      <th>38178</th>\n",
              "      <td>636.0</td>\n",
              "    </tr>\n",
              "    <tr>\n",
              "      <th>55129</th>\n",
              "      <td>264.0</td>\n",
              "    </tr>\n",
              "    <tr>\n",
              "      <th>8413</th>\n",
              "      <td>217.0</td>\n",
              "    </tr>\n",
              "    <tr>\n",
              "      <th>61005</th>\n",
              "      <td>194.0</td>\n",
              "    </tr>\n",
              "    <tr>\n",
              "      <th>39457</th>\n",
              "      <td>247.0</td>\n",
              "    </tr>\n",
              "  </tbody>\n",
              "</table>\n",
              "</div><br><label><b>dtype:</b> float64</label>"
            ]
          },
          "metadata": {},
          "execution_count": 75
        }
      ]
    },
    {
      "cell_type": "code",
      "source": [
        "print(f\"Min : {df['nombre_d_eleves'].min()}\\nMax : {df['nombre_d_eleves'].max()}\")"
      ],
      "metadata": {
        "colab": {
          "base_uri": "https://localhost:8080/"
        },
        "id": "Vx5NsUpiPIpm",
        "outputId": "85ea4287-0708-4d86-d00b-9f7b8df267a0"
      },
      "execution_count": null,
      "outputs": [
        {
          "output_type": "stream",
          "name": "stdout",
          "text": [
            "Min : 0.0\n",
            "Max : 2599.0\n"
          ]
        }
      ]
    },
    {
      "cell_type": "code",
      "source": [
        "print(f\"Valeurs uniques : {len(df['fiche_onisep'].unique())}\\n\")\n",
        "df['fiche_onisep'].sample(n=5, random_state=23)"
      ],
      "metadata": {
        "colab": {
          "base_uri": "https://localhost:8080/",
          "height": 276
        },
        "id": "7JpDetexPIxp",
        "outputId": "85ba3890-89ed-48ff-eb2e-b76f71090ea1"
      },
      "execution_count": null,
      "outputs": [
        {
          "output_type": "stream",
          "name": "stdout",
          "text": [
            "Valeurs uniques : 11807\n",
            "\n"
          ]
        },
        {
          "output_type": "execute_result",
          "data": {
            "text/plain": [
              "38178    https://www.onisep.fr/http/redirection/etablis...\n",
              "55129                                                 None\n",
              "8413                                                  None\n",
              "61005                                                 None\n",
              "39457    https://www.onisep.fr/http/redirection/etablis...\n",
              "Name: fiche_onisep, dtype: object"
            ],
            "text/html": [
              "<div>\n",
              "<style scoped>\n",
              "    .dataframe tbody tr th:only-of-type {\n",
              "        vertical-align: middle;\n",
              "    }\n",
              "\n",
              "    .dataframe tbody tr th {\n",
              "        vertical-align: top;\n",
              "    }\n",
              "\n",
              "    .dataframe thead th {\n",
              "        text-align: right;\n",
              "    }\n",
              "</style>\n",
              "<table border=\"1\" class=\"dataframe\">\n",
              "  <thead>\n",
              "    <tr style=\"text-align: right;\">\n",
              "      <th></th>\n",
              "      <th>fiche_onisep</th>\n",
              "    </tr>\n",
              "  </thead>\n",
              "  <tbody>\n",
              "    <tr>\n",
              "      <th>38178</th>\n",
              "      <td>https://www.onisep.fr/http/redirection/etablis...</td>\n",
              "    </tr>\n",
              "    <tr>\n",
              "      <th>55129</th>\n",
              "      <td>None</td>\n",
              "    </tr>\n",
              "    <tr>\n",
              "      <th>8413</th>\n",
              "      <td>None</td>\n",
              "    </tr>\n",
              "    <tr>\n",
              "      <th>61005</th>\n",
              "      <td>None</td>\n",
              "    </tr>\n",
              "    <tr>\n",
              "      <th>39457</th>\n",
              "      <td>https://www.onisep.fr/http/redirection/etablis...</td>\n",
              "    </tr>\n",
              "  </tbody>\n",
              "</table>\n",
              "</div><br><label><b>dtype:</b> object</label>"
            ]
          },
          "metadata": {},
          "execution_count": 77
        }
      ]
    },
    {
      "cell_type": "code",
      "source": [
        "#print(f\"Valeurs uniques : {len(df['position'].unique())}\\n\")\n",
        "df['position'].sample(n=5, random_state=23)"
      ],
      "metadata": {
        "colab": {
          "base_uri": "https://localhost:8080/",
          "height": 241
        },
        "id": "msv55t_API5V",
        "outputId": "f57b23bc-fd69-431f-de64-4a47f6aed56d"
      },
      "execution_count": null,
      "outputs": [
        {
          "output_type": "execute_result",
          "data": {
            "text/plain": [
              "38178    {'lon': -0.24259370840983743, 'lat': 44.948032...\n",
              "55129    {'lon': 2.197509605031694, 'lat': 48.929523800...\n",
              "8413     {'lon': 6.121499759304934, 'lat': 49.109217438...\n",
              "61005    {'lon': 1.3984403693512268, 'lat': 43.45169616...\n",
              "39457    {'lon': 2.779195356259036, 'lat': 42.678706018...\n",
              "Name: position, dtype: object"
            ],
            "text/html": [
              "<div>\n",
              "<style scoped>\n",
              "    .dataframe tbody tr th:only-of-type {\n",
              "        vertical-align: middle;\n",
              "    }\n",
              "\n",
              "    .dataframe tbody tr th {\n",
              "        vertical-align: top;\n",
              "    }\n",
              "\n",
              "    .dataframe thead th {\n",
              "        text-align: right;\n",
              "    }\n",
              "</style>\n",
              "<table border=\"1\" class=\"dataframe\">\n",
              "  <thead>\n",
              "    <tr style=\"text-align: right;\">\n",
              "      <th></th>\n",
              "      <th>position</th>\n",
              "    </tr>\n",
              "  </thead>\n",
              "  <tbody>\n",
              "    <tr>\n",
              "      <th>38178</th>\n",
              "      <td>{'lon': -0.24259370840983743, 'lat': 44.948032...</td>\n",
              "    </tr>\n",
              "    <tr>\n",
              "      <th>55129</th>\n",
              "      <td>{'lon': 2.197509605031694, 'lat': 48.929523800...</td>\n",
              "    </tr>\n",
              "    <tr>\n",
              "      <th>8413</th>\n",
              "      <td>{'lon': 6.121499759304934, 'lat': 49.109217438...</td>\n",
              "    </tr>\n",
              "    <tr>\n",
              "      <th>61005</th>\n",
              "      <td>{'lon': 1.3984403693512268, 'lat': 43.45169616...</td>\n",
              "    </tr>\n",
              "    <tr>\n",
              "      <th>39457</th>\n",
              "      <td>{'lon': 2.779195356259036, 'lat': 42.678706018...</td>\n",
              "    </tr>\n",
              "  </tbody>\n",
              "</table>\n",
              "</div><br><label><b>dtype:</b> object</label>"
            ]
          },
          "metadata": {},
          "execution_count": 78
        }
      ]
    },
    {
      "cell_type": "code",
      "source": [
        "print(f\"Valeurs uniques : {len(df['type_contrat_prive'].unique())}\\n\")\n",
        "df['type_contrat_prive'].sample(n=5, random_state=23)"
      ],
      "metadata": {
        "colab": {
          "base_uri": "https://localhost:8080/",
          "height": 276
        },
        "id": "IWwGhfqtQipD",
        "outputId": "5601e6af-71d1-4453-81cd-ac133ef609f1"
      },
      "execution_count": null,
      "outputs": [
        {
          "output_type": "stream",
          "name": "stdout",
          "text": [
            "Valeurs uniques : 11\n",
            "\n"
          ]
        },
        {
          "output_type": "execute_result",
          "data": {
            "text/plain": [
              "38178                              SANS OBJET\n",
              "55129                              SANS OBJET\n",
              "8413                               SANS OBJET\n",
              "61005    CONTRAT D'ASSOCIATION TOUTES CLASSES\n",
              "39457    CONTRAT D'ASSOCIATION TOUTES CLASSES\n",
              "Name: type_contrat_prive, dtype: object"
            ],
            "text/html": [
              "<div>\n",
              "<style scoped>\n",
              "    .dataframe tbody tr th:only-of-type {\n",
              "        vertical-align: middle;\n",
              "    }\n",
              "\n",
              "    .dataframe tbody tr th {\n",
              "        vertical-align: top;\n",
              "    }\n",
              "\n",
              "    .dataframe thead th {\n",
              "        text-align: right;\n",
              "    }\n",
              "</style>\n",
              "<table border=\"1\" class=\"dataframe\">\n",
              "  <thead>\n",
              "    <tr style=\"text-align: right;\">\n",
              "      <th></th>\n",
              "      <th>type_contrat_prive</th>\n",
              "    </tr>\n",
              "  </thead>\n",
              "  <tbody>\n",
              "    <tr>\n",
              "      <th>38178</th>\n",
              "      <td>SANS OBJET</td>\n",
              "    </tr>\n",
              "    <tr>\n",
              "      <th>55129</th>\n",
              "      <td>SANS OBJET</td>\n",
              "    </tr>\n",
              "    <tr>\n",
              "      <th>8413</th>\n",
              "      <td>SANS OBJET</td>\n",
              "    </tr>\n",
              "    <tr>\n",
              "      <th>61005</th>\n",
              "      <td>CONTRAT D'ASSOCIATION TOUTES CLASSES</td>\n",
              "    </tr>\n",
              "    <tr>\n",
              "      <th>39457</th>\n",
              "      <td>CONTRAT D'ASSOCIATION TOUTES CLASSES</td>\n",
              "    </tr>\n",
              "  </tbody>\n",
              "</table>\n",
              "</div><br><label><b>dtype:</b> object</label>"
            ]
          },
          "metadata": {},
          "execution_count": 79
        }
      ]
    },
    {
      "cell_type": "code",
      "source": [
        "df['type_contrat_prive'].unique()"
      ],
      "metadata": {
        "colab": {
          "base_uri": "https://localhost:8080/"
        },
        "id": "8b4KDVBqQiw4",
        "outputId": "756c877e-304a-44a5-ff92-65a11a71530b"
      },
      "execution_count": null,
      "outputs": [
        {
          "output_type": "execute_result",
          "data": {
            "text/plain": [
              "array(['SANS OBJET', 'HORS CONTRAT',\n",
              "       \"CONTRAT D'ASSOCIATION TOUTES CLASSES\",\n",
              "       'CONTRAT TTES CLASSES SIMPLE+ASSOCIATION',\n",
              "       'C0NTRAT SIMPLE POUR PARTIE DES CLASSES',\n",
              "       'CONTRAT ASSOCIATION PARTIE DES CLASSES',\n",
              "       'CONTRAT SIMPLE TOUTES CLASSES',\n",
              "       'SOUS CONTRAT ETABLISSEMENT AGRICOLE', None,\n",
              "       'CONTRAT PARTIE DES CLASSES SIMPLE+ASSOC',\n",
              "       'INCONNU DU GESTIONNAIRE'], dtype=object)"
            ]
          },
          "metadata": {},
          "execution_count": 80
        }
      ]
    },
    {
      "cell_type": "code",
      "source": [
        "print(f\"Valeurs uniques : {len(df['libelle_departement'].unique())}\\n\")\n",
        "df['libelle_departement'].sample(n=5, random_state=23)"
      ],
      "metadata": {
        "colab": {
          "base_uri": "https://localhost:8080/",
          "height": 276
        },
        "id": "CyAz1rJuQi4G",
        "outputId": "4f90a81f-7e58-496a-be73-32a0f07b241c"
      },
      "execution_count": null,
      "outputs": [
        {
          "output_type": "stream",
          "name": "stdout",
          "text": [
            "Valeurs uniques : 107\n",
            "\n"
          ]
        },
        {
          "output_type": "execute_result",
          "data": {
            "text/plain": [
              "38178                Gironde\n",
              "55129               Yvelines\n",
              "8413                 Moselle\n",
              "61005          Haute-Garonne\n",
              "39457    Pyrénées-Orientales\n",
              "Name: libelle_departement, dtype: object"
            ],
            "text/html": [
              "<div>\n",
              "<style scoped>\n",
              "    .dataframe tbody tr th:only-of-type {\n",
              "        vertical-align: middle;\n",
              "    }\n",
              "\n",
              "    .dataframe tbody tr th {\n",
              "        vertical-align: top;\n",
              "    }\n",
              "\n",
              "    .dataframe thead th {\n",
              "        text-align: right;\n",
              "    }\n",
              "</style>\n",
              "<table border=\"1\" class=\"dataframe\">\n",
              "  <thead>\n",
              "    <tr style=\"text-align: right;\">\n",
              "      <th></th>\n",
              "      <th>libelle_departement</th>\n",
              "    </tr>\n",
              "  </thead>\n",
              "  <tbody>\n",
              "    <tr>\n",
              "      <th>38178</th>\n",
              "      <td>Gironde</td>\n",
              "    </tr>\n",
              "    <tr>\n",
              "      <th>55129</th>\n",
              "      <td>Yvelines</td>\n",
              "    </tr>\n",
              "    <tr>\n",
              "      <th>8413</th>\n",
              "      <td>Moselle</td>\n",
              "    </tr>\n",
              "    <tr>\n",
              "      <th>61005</th>\n",
              "      <td>Haute-Garonne</td>\n",
              "    </tr>\n",
              "    <tr>\n",
              "      <th>39457</th>\n",
              "      <td>Pyrénées-Orientales</td>\n",
              "    </tr>\n",
              "  </tbody>\n",
              "</table>\n",
              "</div><br><label><b>dtype:</b> object</label>"
            ]
          },
          "metadata": {},
          "execution_count": 81
        }
      ]
    },
    {
      "cell_type": "code",
      "source": [
        "print(f\"Valeurs uniques : {len(df['libelle_academie'].unique())}\\n\")\n",
        "df['libelle_academie'].sample(n=5, random_state=23)"
      ],
      "metadata": {
        "colab": {
          "base_uri": "https://localhost:8080/",
          "height": 276
        },
        "id": "2WtkUcn1Qi_Q",
        "outputId": "e87b4286-da84-4aa8-81e8-9952f1f34038"
      },
      "execution_count": null,
      "outputs": [
        {
          "output_type": "stream",
          "name": "stdout",
          "text": [
            "Valeurs uniques : 34\n",
            "\n"
          ]
        },
        {
          "output_type": "execute_result",
          "data": {
            "text/plain": [
              "38178       Bordeaux\n",
              "55129     Versailles\n",
              "8413      Nancy-Metz\n",
              "61005       Toulouse\n",
              "39457    Montpellier\n",
              "Name: libelle_academie, dtype: object"
            ],
            "text/html": [
              "<div>\n",
              "<style scoped>\n",
              "    .dataframe tbody tr th:only-of-type {\n",
              "        vertical-align: middle;\n",
              "    }\n",
              "\n",
              "    .dataframe tbody tr th {\n",
              "        vertical-align: top;\n",
              "    }\n",
              "\n",
              "    .dataframe thead th {\n",
              "        text-align: right;\n",
              "    }\n",
              "</style>\n",
              "<table border=\"1\" class=\"dataframe\">\n",
              "  <thead>\n",
              "    <tr style=\"text-align: right;\">\n",
              "      <th></th>\n",
              "      <th>libelle_academie</th>\n",
              "    </tr>\n",
              "  </thead>\n",
              "  <tbody>\n",
              "    <tr>\n",
              "      <th>38178</th>\n",
              "      <td>Bordeaux</td>\n",
              "    </tr>\n",
              "    <tr>\n",
              "      <th>55129</th>\n",
              "      <td>Versailles</td>\n",
              "    </tr>\n",
              "    <tr>\n",
              "      <th>8413</th>\n",
              "      <td>Nancy-Metz</td>\n",
              "    </tr>\n",
              "    <tr>\n",
              "      <th>61005</th>\n",
              "      <td>Toulouse</td>\n",
              "    </tr>\n",
              "    <tr>\n",
              "      <th>39457</th>\n",
              "      <td>Montpellier</td>\n",
              "    </tr>\n",
              "  </tbody>\n",
              "</table>\n",
              "</div><br><label><b>dtype:</b> object</label>"
            ]
          },
          "metadata": {},
          "execution_count": 82
        }
      ]
    },
    {
      "cell_type": "code",
      "source": [
        "print(f\"Valeurs uniques : {len(df['libelle_region'].unique())}\\n\")\n",
        "df['libelle_region'].sample(n=5, random_state=23)"
      ],
      "metadata": {
        "colab": {
          "base_uri": "https://localhost:8080/",
          "height": 276
        },
        "id": "hvZK4IXiQjGS",
        "outputId": "4fb0d571-7d26-46dd-da43-df7d587ee4e2"
      },
      "execution_count": null,
      "outputs": [
        {
          "output_type": "stream",
          "name": "stdout",
          "text": [
            "Valeurs uniques : 19\n",
            "\n"
          ]
        },
        {
          "output_type": "execute_result",
          "data": {
            "text/plain": [
              "38178    Nouvelle-Aquitaine\n",
              "55129         Ile-de-France\n",
              "8413              Grand Est\n",
              "61005             Occitanie\n",
              "39457             Occitanie\n",
              "Name: libelle_region, dtype: object"
            ],
            "text/html": [
              "<div>\n",
              "<style scoped>\n",
              "    .dataframe tbody tr th:only-of-type {\n",
              "        vertical-align: middle;\n",
              "    }\n",
              "\n",
              "    .dataframe tbody tr th {\n",
              "        vertical-align: top;\n",
              "    }\n",
              "\n",
              "    .dataframe thead th {\n",
              "        text-align: right;\n",
              "    }\n",
              "</style>\n",
              "<table border=\"1\" class=\"dataframe\">\n",
              "  <thead>\n",
              "    <tr style=\"text-align: right;\">\n",
              "      <th></th>\n",
              "      <th>libelle_region</th>\n",
              "    </tr>\n",
              "  </thead>\n",
              "  <tbody>\n",
              "    <tr>\n",
              "      <th>38178</th>\n",
              "      <td>Nouvelle-Aquitaine</td>\n",
              "    </tr>\n",
              "    <tr>\n",
              "      <th>55129</th>\n",
              "      <td>Ile-de-France</td>\n",
              "    </tr>\n",
              "    <tr>\n",
              "      <th>8413</th>\n",
              "      <td>Grand Est</td>\n",
              "    </tr>\n",
              "    <tr>\n",
              "      <th>61005</th>\n",
              "      <td>Occitanie</td>\n",
              "    </tr>\n",
              "    <tr>\n",
              "      <th>39457</th>\n",
              "      <td>Occitanie</td>\n",
              "    </tr>\n",
              "  </tbody>\n",
              "</table>\n",
              "</div><br><label><b>dtype:</b> object</label>"
            ]
          },
          "metadata": {},
          "execution_count": 83
        }
      ]
    },
    {
      "cell_type": "code",
      "source": [
        "print(f\"Valeurs uniques : {len(df['coordx_origine'].unique())}\\n\")\n",
        "df['coordx_origine'].sample(n=5, random_state=23)"
      ],
      "metadata": {
        "colab": {
          "base_uri": "https://localhost:8080/",
          "height": 276
        },
        "id": "U-esK8QkQjNR",
        "outputId": "c428b8c4-bd83-4420-d2f7-2ca850d2f5b1"
      },
      "execution_count": null,
      "outputs": [
        {
          "output_type": "stream",
          "name": "stdout",
          "text": [
            "Valeurs uniques : 62570\n",
            "\n"
          ]
        },
        {
          "output_type": "execute_result",
          "data": {
            "text/plain": [
              "38178    444320.5\n",
              "55129    641201.7\n",
              "8413     927866.2\n",
              "61005    570318.0\n",
              "39457    681879.4\n",
              "Name: coordx_origine, dtype: float64"
            ],
            "text/html": [
              "<div>\n",
              "<style scoped>\n",
              "    .dataframe tbody tr th:only-of-type {\n",
              "        vertical-align: middle;\n",
              "    }\n",
              "\n",
              "    .dataframe tbody tr th {\n",
              "        vertical-align: top;\n",
              "    }\n",
              "\n",
              "    .dataframe thead th {\n",
              "        text-align: right;\n",
              "    }\n",
              "</style>\n",
              "<table border=\"1\" class=\"dataframe\">\n",
              "  <thead>\n",
              "    <tr style=\"text-align: right;\">\n",
              "      <th></th>\n",
              "      <th>coordx_origine</th>\n",
              "    </tr>\n",
              "  </thead>\n",
              "  <tbody>\n",
              "    <tr>\n",
              "      <th>38178</th>\n",
              "      <td>444320.5</td>\n",
              "    </tr>\n",
              "    <tr>\n",
              "      <th>55129</th>\n",
              "      <td>641201.7</td>\n",
              "    </tr>\n",
              "    <tr>\n",
              "      <th>8413</th>\n",
              "      <td>927866.2</td>\n",
              "    </tr>\n",
              "    <tr>\n",
              "      <th>61005</th>\n",
              "      <td>570318.0</td>\n",
              "    </tr>\n",
              "    <tr>\n",
              "      <th>39457</th>\n",
              "      <td>681879.4</td>\n",
              "    </tr>\n",
              "  </tbody>\n",
              "</table>\n",
              "</div><br><label><b>dtype:</b> float64</label>"
            ]
          },
          "metadata": {},
          "execution_count": 84
        }
      ]
    },
    {
      "cell_type": "code",
      "source": [
        "print(f\"Valeurs uniques : {len(df['coordy_origine'].unique())}\\n\")\n",
        "df['coordy_origine'].sample(n=5, random_state=23)"
      ],
      "metadata": {
        "colab": {
          "base_uri": "https://localhost:8080/",
          "height": 276
        },
        "id": "X_kS5QYLQjT-",
        "outputId": "ffe249d3-5a0c-47ae-e03c-836301e6ede1"
      },
      "execution_count": null,
      "outputs": [
        {
          "output_type": "stream",
          "name": "stdout",
          "text": [
            "Valeurs uniques : 62519\n",
            "\n"
          ]
        },
        {
          "output_type": "execute_result",
          "data": {
            "text/plain": [
              "38178    6432897.7\n",
              "55129    6870248.1\n",
              "8413     6894437.9\n",
              "61005    6262714.6\n",
              "39457    6175478.6\n",
              "Name: coordy_origine, dtype: float64"
            ],
            "text/html": [
              "<div>\n",
              "<style scoped>\n",
              "    .dataframe tbody tr th:only-of-type {\n",
              "        vertical-align: middle;\n",
              "    }\n",
              "\n",
              "    .dataframe tbody tr th {\n",
              "        vertical-align: top;\n",
              "    }\n",
              "\n",
              "    .dataframe thead th {\n",
              "        text-align: right;\n",
              "    }\n",
              "</style>\n",
              "<table border=\"1\" class=\"dataframe\">\n",
              "  <thead>\n",
              "    <tr style=\"text-align: right;\">\n",
              "      <th></th>\n",
              "      <th>coordy_origine</th>\n",
              "    </tr>\n",
              "  </thead>\n",
              "  <tbody>\n",
              "    <tr>\n",
              "      <th>38178</th>\n",
              "      <td>6432897.7</td>\n",
              "    </tr>\n",
              "    <tr>\n",
              "      <th>55129</th>\n",
              "      <td>6870248.1</td>\n",
              "    </tr>\n",
              "    <tr>\n",
              "      <th>8413</th>\n",
              "      <td>6894437.9</td>\n",
              "    </tr>\n",
              "    <tr>\n",
              "      <th>61005</th>\n",
              "      <td>6262714.6</td>\n",
              "    </tr>\n",
              "    <tr>\n",
              "      <th>39457</th>\n",
              "      <td>6175478.6</td>\n",
              "    </tr>\n",
              "  </tbody>\n",
              "</table>\n",
              "</div><br><label><b>dtype:</b> float64</label>"
            ]
          },
          "metadata": {},
          "execution_count": 85
        }
      ]
    },
    {
      "cell_type": "code",
      "source": [
        "print(f\"Valeurs uniques : {len(df['epsg_origine'].unique())}\\n\")\n",
        "df['epsg_origine'].sample(n=5, random_state=23)"
      ],
      "metadata": {
        "colab": {
          "base_uri": "https://localhost:8080/",
          "height": 276
        },
        "id": "cd1Rl-XpQjbG",
        "outputId": "c08c130c-2b12-4b06-b2ce-0b272adc6823"
      },
      "execution_count": null,
      "outputs": [
        {
          "output_type": "stream",
          "name": "stdout",
          "text": [
            "Valeurs uniques : 8\n",
            "\n"
          ]
        },
        {
          "output_type": "execute_result",
          "data": {
            "text/plain": [
              "38178    EPSG:2154\n",
              "55129    EPSG:2154\n",
              "8413     EPSG:2154\n",
              "61005    EPSG:2154\n",
              "39457    EPSG:2154\n",
              "Name: epsg_origine, dtype: object"
            ],
            "text/html": [
              "<div>\n",
              "<style scoped>\n",
              "    .dataframe tbody tr th:only-of-type {\n",
              "        vertical-align: middle;\n",
              "    }\n",
              "\n",
              "    .dataframe tbody tr th {\n",
              "        vertical-align: top;\n",
              "    }\n",
              "\n",
              "    .dataframe thead th {\n",
              "        text-align: right;\n",
              "    }\n",
              "</style>\n",
              "<table border=\"1\" class=\"dataframe\">\n",
              "  <thead>\n",
              "    <tr style=\"text-align: right;\">\n",
              "      <th></th>\n",
              "      <th>epsg_origine</th>\n",
              "    </tr>\n",
              "  </thead>\n",
              "  <tbody>\n",
              "    <tr>\n",
              "      <th>38178</th>\n",
              "      <td>EPSG:2154</td>\n",
              "    </tr>\n",
              "    <tr>\n",
              "      <th>55129</th>\n",
              "      <td>EPSG:2154</td>\n",
              "    </tr>\n",
              "    <tr>\n",
              "      <th>8413</th>\n",
              "      <td>EPSG:2154</td>\n",
              "    </tr>\n",
              "    <tr>\n",
              "      <th>61005</th>\n",
              "      <td>EPSG:2154</td>\n",
              "    </tr>\n",
              "    <tr>\n",
              "      <th>39457</th>\n",
              "      <td>EPSG:2154</td>\n",
              "    </tr>\n",
              "  </tbody>\n",
              "</table>\n",
              "</div><br><label><b>dtype:</b> object</label>"
            ]
          },
          "metadata": {},
          "execution_count": 86
        }
      ]
    },
    {
      "cell_type": "code",
      "source": [
        "df['epsg_origine'].unique()"
      ],
      "metadata": {
        "colab": {
          "base_uri": "https://localhost:8080/"
        },
        "id": "UQ-kDMVXQjh8",
        "outputId": "82b573b3-ec39-4953-ea51-ddf42e37ff96"
      },
      "execution_count": null,
      "outputs": [
        {
          "output_type": "execute_result",
          "data": {
            "text/plain": [
              "array(['EPSG:2154', None, 'EPSG:32738', 'EPSG:2972', 'EPSG:32620',\n",
              "       'EPSG:2975', 'EPSG:32621', 'EPSG:4559'], dtype=object)"
            ]
          },
          "metadata": {},
          "execution_count": 87
        }
      ]
    },
    {
      "cell_type": "code",
      "source": [
        "print(f\"Valeurs uniques : {len(df['nom_circonscription'].unique())}\\n\")\n",
        "df['nom_circonscription'].sample(n=5, random_state=23)"
      ],
      "metadata": {
        "colab": {
          "base_uri": "https://localhost:8080/",
          "height": 276
        },
        "id": "-4kxxik_Qjo2",
        "outputId": "fca525ee-9468-4c61-e54a-ad007c4e74a7"
      },
      "execution_count": null,
      "outputs": [
        {
          "output_type": "stream",
          "name": "stdout",
          "text": [
            "Valeurs uniques : 1398\n",
            "\n"
          ]
        },
        {
          "output_type": "execute_result",
          "data": {
            "text/plain": [
              "38178    Circonscription d'inspection du 1er degré de L...\n",
              "55129    Circonscription d'inspection du 1er degré de C...\n",
              "8413     Circonscription d'inspection du 1er degré de M...\n",
              "61005    Circonscription d'inspection du 1er degré d'Au...\n",
              "39457                                                 None\n",
              "Name: nom_circonscription, dtype: object"
            ],
            "text/html": [
              "<div>\n",
              "<style scoped>\n",
              "    .dataframe tbody tr th:only-of-type {\n",
              "        vertical-align: middle;\n",
              "    }\n",
              "\n",
              "    .dataframe tbody tr th {\n",
              "        vertical-align: top;\n",
              "    }\n",
              "\n",
              "    .dataframe thead th {\n",
              "        text-align: right;\n",
              "    }\n",
              "</style>\n",
              "<table border=\"1\" class=\"dataframe\">\n",
              "  <thead>\n",
              "    <tr style=\"text-align: right;\">\n",
              "      <th></th>\n",
              "      <th>nom_circonscription</th>\n",
              "    </tr>\n",
              "  </thead>\n",
              "  <tbody>\n",
              "    <tr>\n",
              "      <th>38178</th>\n",
              "      <td>Circonscription d'inspection du 1er degré de L...</td>\n",
              "    </tr>\n",
              "    <tr>\n",
              "      <th>55129</th>\n",
              "      <td>Circonscription d'inspection du 1er degré de C...</td>\n",
              "    </tr>\n",
              "    <tr>\n",
              "      <th>8413</th>\n",
              "      <td>Circonscription d'inspection du 1er degré de M...</td>\n",
              "    </tr>\n",
              "    <tr>\n",
              "      <th>61005</th>\n",
              "      <td>Circonscription d'inspection du 1er degré d'Au...</td>\n",
              "    </tr>\n",
              "    <tr>\n",
              "      <th>39457</th>\n",
              "      <td>None</td>\n",
              "    </tr>\n",
              "  </tbody>\n",
              "</table>\n",
              "</div><br><label><b>dtype:</b> object</label>"
            ]
          },
          "metadata": {},
          "execution_count": 88
        }
      ]
    },
    {
      "cell_type": "code",
      "source": [
        "print(f\"Valeurs uniques : {len(df['latitude'].unique())}\\n\")\n",
        "df['latitude'].sample(n=5, random_state=23)"
      ],
      "metadata": {
        "colab": {
          "base_uri": "https://localhost:8080/",
          "height": 276
        },
        "id": "DSDjUWI9PJB6",
        "outputId": "3101b821-7d85-480c-9347-b8b0576ecb83"
      },
      "execution_count": null,
      "outputs": [
        {
          "output_type": "stream",
          "name": "stdout",
          "text": [
            "Valeurs uniques : 62956\n",
            "\n"
          ]
        },
        {
          "output_type": "execute_result",
          "data": {
            "text/plain": [
              "38178    44.948033\n",
              "55129    48.929524\n",
              "8413     49.109217\n",
              "61005    43.451696\n",
              "39457    42.678706\n",
              "Name: latitude, dtype: float64"
            ],
            "text/html": [
              "<div>\n",
              "<style scoped>\n",
              "    .dataframe tbody tr th:only-of-type {\n",
              "        vertical-align: middle;\n",
              "    }\n",
              "\n",
              "    .dataframe tbody tr th {\n",
              "        vertical-align: top;\n",
              "    }\n",
              "\n",
              "    .dataframe thead th {\n",
              "        text-align: right;\n",
              "    }\n",
              "</style>\n",
              "<table border=\"1\" class=\"dataframe\">\n",
              "  <thead>\n",
              "    <tr style=\"text-align: right;\">\n",
              "      <th></th>\n",
              "      <th>latitude</th>\n",
              "    </tr>\n",
              "  </thead>\n",
              "  <tbody>\n",
              "    <tr>\n",
              "      <th>38178</th>\n",
              "      <td>44.948033</td>\n",
              "    </tr>\n",
              "    <tr>\n",
              "      <th>55129</th>\n",
              "      <td>48.929524</td>\n",
              "    </tr>\n",
              "    <tr>\n",
              "      <th>8413</th>\n",
              "      <td>49.109217</td>\n",
              "    </tr>\n",
              "    <tr>\n",
              "      <th>61005</th>\n",
              "      <td>43.451696</td>\n",
              "    </tr>\n",
              "    <tr>\n",
              "      <th>39457</th>\n",
              "      <td>42.678706</td>\n",
              "    </tr>\n",
              "  </tbody>\n",
              "</table>\n",
              "</div><br><label><b>dtype:</b> float64</label>"
            ]
          },
          "metadata": {},
          "execution_count": 89
        }
      ]
    },
    {
      "cell_type": "code",
      "source": [
        "print(f\"Valeurs uniques : {len(df['longitude'].unique())}\\n\")\n",
        "df['longitude'].sample(n=5, random_state=23)"
      ],
      "metadata": {
        "colab": {
          "base_uri": "https://localhost:8080/",
          "height": 276
        },
        "id": "Jkxp-gflTdlg",
        "outputId": "d8686bae-7c13-4607-a666-33ac69cb10d3"
      },
      "execution_count": null,
      "outputs": [
        {
          "output_type": "stream",
          "name": "stdout",
          "text": [
            "Valeurs uniques : 62956\n",
            "\n"
          ]
        },
        {
          "output_type": "execute_result",
          "data": {
            "text/plain": [
              "38178   -0.242594\n",
              "55129    2.197510\n",
              "8413     6.121500\n",
              "61005    1.398440\n",
              "39457    2.779195\n",
              "Name: longitude, dtype: float64"
            ],
            "text/html": [
              "<div>\n",
              "<style scoped>\n",
              "    .dataframe tbody tr th:only-of-type {\n",
              "        vertical-align: middle;\n",
              "    }\n",
              "\n",
              "    .dataframe tbody tr th {\n",
              "        vertical-align: top;\n",
              "    }\n",
              "\n",
              "    .dataframe thead th {\n",
              "        text-align: right;\n",
              "    }\n",
              "</style>\n",
              "<table border=\"1\" class=\"dataframe\">\n",
              "  <thead>\n",
              "    <tr style=\"text-align: right;\">\n",
              "      <th></th>\n",
              "      <th>longitude</th>\n",
              "    </tr>\n",
              "  </thead>\n",
              "  <tbody>\n",
              "    <tr>\n",
              "      <th>38178</th>\n",
              "      <td>-0.242594</td>\n",
              "    </tr>\n",
              "    <tr>\n",
              "      <th>55129</th>\n",
              "      <td>2.197510</td>\n",
              "    </tr>\n",
              "    <tr>\n",
              "      <th>8413</th>\n",
              "      <td>6.121500</td>\n",
              "    </tr>\n",
              "    <tr>\n",
              "      <th>61005</th>\n",
              "      <td>1.398440</td>\n",
              "    </tr>\n",
              "    <tr>\n",
              "      <th>39457</th>\n",
              "      <td>2.779195</td>\n",
              "    </tr>\n",
              "  </tbody>\n",
              "</table>\n",
              "</div><br><label><b>dtype:</b> float64</label>"
            ]
          },
          "metadata": {},
          "execution_count": 90
        }
      ]
    },
    {
      "cell_type": "code",
      "source": [
        "print(f\"Valeurs uniques : {len(df['precision_localisation'].unique())}\\n\")\n",
        "df['precision_localisation'].sample(n=5, random_state=23)"
      ],
      "metadata": {
        "colab": {
          "base_uri": "https://localhost:8080/",
          "height": 276
        },
        "id": "UKnGlTHqTds-",
        "outputId": "920914a3-79a2-4702-ff0b-6ded2e2b7675"
      },
      "execution_count": null,
      "outputs": [
        {
          "output_type": "stream",
          "name": "stdout",
          "text": [
            "Valeurs uniques : 21\n",
            "\n"
          ]
        },
        {
          "output_type": "execute_result",
          "data": {
            "text/plain": [
              "38178    PLAQUE_ADRESSE\n",
              "55129     Numéro de rue\n",
              "8413      Numéro de rue\n",
              "61005     Numéro de rue\n",
              "39457     Numéro de rue\n",
              "Name: precision_localisation, dtype: object"
            ],
            "text/html": [
              "<div>\n",
              "<style scoped>\n",
              "    .dataframe tbody tr th:only-of-type {\n",
              "        vertical-align: middle;\n",
              "    }\n",
              "\n",
              "    .dataframe tbody tr th {\n",
              "        vertical-align: top;\n",
              "    }\n",
              "\n",
              "    .dataframe thead th {\n",
              "        text-align: right;\n",
              "    }\n",
              "</style>\n",
              "<table border=\"1\" class=\"dataframe\">\n",
              "  <thead>\n",
              "    <tr style=\"text-align: right;\">\n",
              "      <th></th>\n",
              "      <th>precision_localisation</th>\n",
              "    </tr>\n",
              "  </thead>\n",
              "  <tbody>\n",
              "    <tr>\n",
              "      <th>38178</th>\n",
              "      <td>PLAQUE_ADRESSE</td>\n",
              "    </tr>\n",
              "    <tr>\n",
              "      <th>55129</th>\n",
              "      <td>Numéro de rue</td>\n",
              "    </tr>\n",
              "    <tr>\n",
              "      <th>8413</th>\n",
              "      <td>Numéro de rue</td>\n",
              "    </tr>\n",
              "    <tr>\n",
              "      <th>61005</th>\n",
              "      <td>Numéro de rue</td>\n",
              "    </tr>\n",
              "    <tr>\n",
              "      <th>39457</th>\n",
              "      <td>Numéro de rue</td>\n",
              "    </tr>\n",
              "  </tbody>\n",
              "</table>\n",
              "</div><br><label><b>dtype:</b> object</label>"
            ]
          },
          "metadata": {},
          "execution_count": 91
        }
      ]
    },
    {
      "cell_type": "code",
      "source": [
        "df['precision_localisation'].unique()"
      ],
      "metadata": {
        "colab": {
          "base_uri": "https://localhost:8080/"
        },
        "id": "f5cDNbDZTd1Q",
        "outputId": "d752dac5-721e-4e4d-b668-efe81120546d"
      },
      "execution_count": null,
      "outputs": [
        {
          "output_type": "execute_result",
          "data": {
            "text/plain": [
              "array(['PLAQUE_ADRESSE', 'NUMERO (ADRESSE)', 'Numéro de rue', 'Rue',\n",
              "       'Ville', None, 'Lieu-dit', 'COMMUNE', 'BATIMENT',\n",
              "       'ENTREE PRINCIPALE', 'NE SAIT PAS', 'CENTRE_PARCELLE_PROJETE',\n",
              "       'ZONE_ADRESSAGE', 'Parfaite', 'MANUEL', 'Moyenne', 'Correcte',\n",
              "       'DEFAUT_DE_NUMERO', 'INTERPOLATION', 'SIMILAIRE', 'Mauvaise'],\n",
              "      dtype=object)"
            ]
          },
          "metadata": {},
          "execution_count": 92
        }
      ]
    },
    {
      "cell_type": "code",
      "source": [
        "print(f\"Valeurs uniques : {len(df['date_ouverture'].unique())}\\n\")\n",
        "df['date_ouverture'].sample(n=5, random_state=23)"
      ],
      "metadata": {
        "colab": {
          "base_uri": "https://localhost:8080/",
          "height": 276
        },
        "id": "goMZPVQ3Td-o",
        "outputId": "0fb1334a-b811-4747-ff78-d05409632c1c"
      },
      "execution_count": null,
      "outputs": [
        {
          "output_type": "stream",
          "name": "stdout",
          "text": [
            "Valeurs uniques : 4655\n",
            "\n"
          ]
        },
        {
          "output_type": "execute_result",
          "data": {
            "text/plain": [
              "38178    1965-05-01\n",
              "55129    1965-05-01\n",
              "8413     1993-09-01\n",
              "61005    1971-03-10\n",
              "39457    2003-09-01\n",
              "Name: date_ouverture, dtype: object"
            ],
            "text/html": [
              "<div>\n",
              "<style scoped>\n",
              "    .dataframe tbody tr th:only-of-type {\n",
              "        vertical-align: middle;\n",
              "    }\n",
              "\n",
              "    .dataframe tbody tr th {\n",
              "        vertical-align: top;\n",
              "    }\n",
              "\n",
              "    .dataframe thead th {\n",
              "        text-align: right;\n",
              "    }\n",
              "</style>\n",
              "<table border=\"1\" class=\"dataframe\">\n",
              "  <thead>\n",
              "    <tr style=\"text-align: right;\">\n",
              "      <th></th>\n",
              "      <th>date_ouverture</th>\n",
              "    </tr>\n",
              "  </thead>\n",
              "  <tbody>\n",
              "    <tr>\n",
              "      <th>38178</th>\n",
              "      <td>1965-05-01</td>\n",
              "    </tr>\n",
              "    <tr>\n",
              "      <th>55129</th>\n",
              "      <td>1965-05-01</td>\n",
              "    </tr>\n",
              "    <tr>\n",
              "      <th>8413</th>\n",
              "      <td>1993-09-01</td>\n",
              "    </tr>\n",
              "    <tr>\n",
              "      <th>61005</th>\n",
              "      <td>1971-03-10</td>\n",
              "    </tr>\n",
              "    <tr>\n",
              "      <th>39457</th>\n",
              "      <td>2003-09-01</td>\n",
              "    </tr>\n",
              "  </tbody>\n",
              "</table>\n",
              "</div><br><label><b>dtype:</b> object</label>"
            ]
          },
          "metadata": {},
          "execution_count": 93
        }
      ]
    },
    {
      "cell_type": "code",
      "source": [
        "print(f\"Valeurs uniques : {len(df['date_maj_ligne'].unique())}\\n\")\n",
        "df['date_maj_ligne'].sample(n=5, random_state=23)"
      ],
      "metadata": {
        "colab": {
          "base_uri": "https://localhost:8080/",
          "height": 276
        },
        "id": "bAoQGT4dTeEH",
        "outputId": "05f50ebe-0d57-4fb3-a978-63469bf90368"
      },
      "execution_count": null,
      "outputs": [
        {
          "output_type": "stream",
          "name": "stdout",
          "text": [
            "Valeurs uniques : 1\n",
            "\n"
          ]
        },
        {
          "output_type": "execute_result",
          "data": {
            "text/plain": [
              "38178    2025-01-28\n",
              "55129    2025-01-28\n",
              "8413     2025-01-28\n",
              "61005    2025-01-28\n",
              "39457    2025-01-28\n",
              "Name: date_maj_ligne, dtype: object"
            ],
            "text/html": [
              "<div>\n",
              "<style scoped>\n",
              "    .dataframe tbody tr th:only-of-type {\n",
              "        vertical-align: middle;\n",
              "    }\n",
              "\n",
              "    .dataframe tbody tr th {\n",
              "        vertical-align: top;\n",
              "    }\n",
              "\n",
              "    .dataframe thead th {\n",
              "        text-align: right;\n",
              "    }\n",
              "</style>\n",
              "<table border=\"1\" class=\"dataframe\">\n",
              "  <thead>\n",
              "    <tr style=\"text-align: right;\">\n",
              "      <th></th>\n",
              "      <th>date_maj_ligne</th>\n",
              "    </tr>\n",
              "  </thead>\n",
              "  <tbody>\n",
              "    <tr>\n",
              "      <th>38178</th>\n",
              "      <td>2025-01-28</td>\n",
              "    </tr>\n",
              "    <tr>\n",
              "      <th>55129</th>\n",
              "      <td>2025-01-28</td>\n",
              "    </tr>\n",
              "    <tr>\n",
              "      <th>8413</th>\n",
              "      <td>2025-01-28</td>\n",
              "    </tr>\n",
              "    <tr>\n",
              "      <th>61005</th>\n",
              "      <td>2025-01-28</td>\n",
              "    </tr>\n",
              "    <tr>\n",
              "      <th>39457</th>\n",
              "      <td>2025-01-28</td>\n",
              "    </tr>\n",
              "  </tbody>\n",
              "</table>\n",
              "</div><br><label><b>dtype:</b> object</label>"
            ]
          },
          "metadata": {},
          "execution_count": 94
        }
      ]
    },
    {
      "cell_type": "code",
      "source": [
        "print(f\"Valeurs uniques : {len(df['etat'].unique())}\\n\")\n",
        "df['etat'].sample(n=5, random_state=23)"
      ],
      "metadata": {
        "colab": {
          "base_uri": "https://localhost:8080/",
          "height": 276
        },
        "id": "3i1lH-KDTeLo",
        "outputId": "4288d835-c034-4709-9e13-d705df2a7e43"
      },
      "execution_count": null,
      "outputs": [
        {
          "output_type": "stream",
          "name": "stdout",
          "text": [
            "Valeurs uniques : 2\n",
            "\n"
          ]
        },
        {
          "output_type": "execute_result",
          "data": {
            "text/plain": [
              "38178    OUVERT\n",
              "55129    OUVERT\n",
              "8413     OUVERT\n",
              "61005    OUVERT\n",
              "39457    OUVERT\n",
              "Name: etat, dtype: object"
            ],
            "text/html": [
              "<div>\n",
              "<style scoped>\n",
              "    .dataframe tbody tr th:only-of-type {\n",
              "        vertical-align: middle;\n",
              "    }\n",
              "\n",
              "    .dataframe tbody tr th {\n",
              "        vertical-align: top;\n",
              "    }\n",
              "\n",
              "    .dataframe thead th {\n",
              "        text-align: right;\n",
              "    }\n",
              "</style>\n",
              "<table border=\"1\" class=\"dataframe\">\n",
              "  <thead>\n",
              "    <tr style=\"text-align: right;\">\n",
              "      <th></th>\n",
              "      <th>etat</th>\n",
              "    </tr>\n",
              "  </thead>\n",
              "  <tbody>\n",
              "    <tr>\n",
              "      <th>38178</th>\n",
              "      <td>OUVERT</td>\n",
              "    </tr>\n",
              "    <tr>\n",
              "      <th>55129</th>\n",
              "      <td>OUVERT</td>\n",
              "    </tr>\n",
              "    <tr>\n",
              "      <th>8413</th>\n",
              "      <td>OUVERT</td>\n",
              "    </tr>\n",
              "    <tr>\n",
              "      <th>61005</th>\n",
              "      <td>OUVERT</td>\n",
              "    </tr>\n",
              "    <tr>\n",
              "      <th>39457</th>\n",
              "      <td>OUVERT</td>\n",
              "    </tr>\n",
              "  </tbody>\n",
              "</table>\n",
              "</div><br><label><b>dtype:</b> object</label>"
            ]
          },
          "metadata": {},
          "execution_count": 95
        }
      ]
    },
    {
      "cell_type": "code",
      "source": [
        "df['etat'].unique()"
      ],
      "metadata": {
        "colab": {
          "base_uri": "https://localhost:8080/"
        },
        "id": "TTf6bvDTTeTM",
        "outputId": "47ea8e2c-ac8f-413d-9123-5238ab11aed4"
      },
      "execution_count": null,
      "outputs": [
        {
          "output_type": "execute_result",
          "data": {
            "text/plain": [
              "array(['OUVERT', 'A FERMER'], dtype=object)"
            ]
          },
          "metadata": {},
          "execution_count": 96
        }
      ]
    },
    {
      "cell_type": "code",
      "source": [
        "print(f\"Valeurs uniques : {len(df['ministere_tutelle'].unique())}\\n\")\n",
        "df['ministere_tutelle'].sample(n=5, random_state=23)"
      ],
      "metadata": {
        "colab": {
          "base_uri": "https://localhost:8080/",
          "height": 276
        },
        "id": "4jpU5klOTeaW",
        "outputId": "3b2db0a0-f870-4ef3-fa6f-8bbf6df82b40"
      },
      "execution_count": null,
      "outputs": [
        {
          "output_type": "stream",
          "name": "stdout",
          "text": [
            "Valeurs uniques : 13\n",
            "\n"
          ]
        },
        {
          "output_type": "execute_result",
          "data": {
            "text/plain": [
              "38178    MINISTERE DE L'EDUCATION NATIONALE\n",
              "55129    MINISTERE DE L'EDUCATION NATIONALE\n",
              "8413     MINISTERE DE L'EDUCATION NATIONALE\n",
              "61005    MINISTERE DE L'EDUCATION NATIONALE\n",
              "39457    MINISTERE DE L'EDUCATION NATIONALE\n",
              "Name: ministere_tutelle, dtype: object"
            ],
            "text/html": [
              "<div>\n",
              "<style scoped>\n",
              "    .dataframe tbody tr th:only-of-type {\n",
              "        vertical-align: middle;\n",
              "    }\n",
              "\n",
              "    .dataframe tbody tr th {\n",
              "        vertical-align: top;\n",
              "    }\n",
              "\n",
              "    .dataframe thead th {\n",
              "        text-align: right;\n",
              "    }\n",
              "</style>\n",
              "<table border=\"1\" class=\"dataframe\">\n",
              "  <thead>\n",
              "    <tr style=\"text-align: right;\">\n",
              "      <th></th>\n",
              "      <th>ministere_tutelle</th>\n",
              "    </tr>\n",
              "  </thead>\n",
              "  <tbody>\n",
              "    <tr>\n",
              "      <th>38178</th>\n",
              "      <td>MINISTERE DE L'EDUCATION NATIONALE</td>\n",
              "    </tr>\n",
              "    <tr>\n",
              "      <th>55129</th>\n",
              "      <td>MINISTERE DE L'EDUCATION NATIONALE</td>\n",
              "    </tr>\n",
              "    <tr>\n",
              "      <th>8413</th>\n",
              "      <td>MINISTERE DE L'EDUCATION NATIONALE</td>\n",
              "    </tr>\n",
              "    <tr>\n",
              "      <th>61005</th>\n",
              "      <td>MINISTERE DE L'EDUCATION NATIONALE</td>\n",
              "    </tr>\n",
              "    <tr>\n",
              "      <th>39457</th>\n",
              "      <td>MINISTERE DE L'EDUCATION NATIONALE</td>\n",
              "    </tr>\n",
              "  </tbody>\n",
              "</table>\n",
              "</div><br><label><b>dtype:</b> object</label>"
            ]
          },
          "metadata": {},
          "execution_count": 97
        }
      ]
    },
    {
      "cell_type": "code",
      "source": [
        "df['ministere_tutelle'].unique()"
      ],
      "metadata": {
        "colab": {
          "base_uri": "https://localhost:8080/"
        },
        "id": "A6u7FjStTehw",
        "outputId": "792052d4-c480-47ef-9ed2-6265f112c603"
      },
      "execution_count": null,
      "outputs": [
        {
          "output_type": "execute_result",
          "data": {
            "text/plain": [
              "array([\"MINISTERE DE L'EDUCATION NATIONALE\", 'AGRICULTURE', 'MER',\n",
              "       'DEFENSE', 'SANTE ET SOLIDARITE NATIONALE',\n",
              "       'ENSEIGNEMENT SUPERIEUR', 'CULTURE', 'REDEPLOIEMENT INDUSTRIEL',\n",
              "       'SANS TUTELLE', 'JEUNESSE ET SPORTS',\n",
              "       'TRAVAIL EMPLOI FORMATION PROFESSIONNELLE',\n",
              "       'GRANDE CHANCELLERIE ORDRE LEGION HONNEUR',\n",
              "       'COMMERCE ET ARTISANAT'], dtype=object)"
            ]
          },
          "metadata": {},
          "execution_count": 98
        }
      ]
    },
    {
      "cell_type": "code",
      "source": [
        "print(f\"Valeurs uniques : {len(df['multi_uai'].unique())}\\n\")\n",
        "df['multi_uai'].sample(n=5, random_state=23)"
      ],
      "metadata": {
        "colab": {
          "base_uri": "https://localhost:8080/",
          "height": 276
        },
        "id": "n35asFpMTeqS",
        "outputId": "78e0b695-a3cc-4463-82d4-61797ef961fa"
      },
      "execution_count": null,
      "outputs": [
        {
          "output_type": "stream",
          "name": "stdout",
          "text": [
            "Valeurs uniques : 2\n",
            "\n"
          ]
        },
        {
          "output_type": "execute_result",
          "data": {
            "text/plain": [
              "38178    0\n",
              "55129    0\n",
              "8413     0\n",
              "61005    0\n",
              "39457    0\n",
              "Name: multi_uai, dtype: int64"
            ],
            "text/html": [
              "<div>\n",
              "<style scoped>\n",
              "    .dataframe tbody tr th:only-of-type {\n",
              "        vertical-align: middle;\n",
              "    }\n",
              "\n",
              "    .dataframe tbody tr th {\n",
              "        vertical-align: top;\n",
              "    }\n",
              "\n",
              "    .dataframe thead th {\n",
              "        text-align: right;\n",
              "    }\n",
              "</style>\n",
              "<table border=\"1\" class=\"dataframe\">\n",
              "  <thead>\n",
              "    <tr style=\"text-align: right;\">\n",
              "      <th></th>\n",
              "      <th>multi_uai</th>\n",
              "    </tr>\n",
              "  </thead>\n",
              "  <tbody>\n",
              "    <tr>\n",
              "      <th>38178</th>\n",
              "      <td>0</td>\n",
              "    </tr>\n",
              "    <tr>\n",
              "      <th>55129</th>\n",
              "      <td>0</td>\n",
              "    </tr>\n",
              "    <tr>\n",
              "      <th>8413</th>\n",
              "      <td>0</td>\n",
              "    </tr>\n",
              "    <tr>\n",
              "      <th>61005</th>\n",
              "      <td>0</td>\n",
              "    </tr>\n",
              "    <tr>\n",
              "      <th>39457</th>\n",
              "      <td>0</td>\n",
              "    </tr>\n",
              "  </tbody>\n",
              "</table>\n",
              "</div><br><label><b>dtype:</b> int64</label>"
            ]
          },
          "metadata": {},
          "execution_count": 99
        }
      ]
    },
    {
      "cell_type": "code",
      "source": [
        "df['multi_uai'].unique()"
      ],
      "metadata": {
        "colab": {
          "base_uri": "https://localhost:8080/"
        },
        "id": "qk18TY4Wf7F1",
        "outputId": "198bb57e-8814-4209-a8a1-d3388a433d85"
      },
      "execution_count": null,
      "outputs": [
        {
          "output_type": "execute_result",
          "data": {
            "text/plain": [
              "array([0, 1])"
            ]
          },
          "metadata": {},
          "execution_count": 100
        }
      ]
    },
    {
      "cell_type": "code",
      "source": [
        "print(f\"Valeurs uniques : {len(df['rpi_concentre'].unique())}\\n\")\n",
        "df['rpi_concentre'].sample(n=5, random_state=23)"
      ],
      "metadata": {
        "colab": {
          "base_uri": "https://localhost:8080/",
          "height": 276
        },
        "id": "Vi9Z7TmDf7Qw",
        "outputId": "ca0c12d8-50c8-4ffc-807d-63c557e0dfe6"
      },
      "execution_count": null,
      "outputs": [
        {
          "output_type": "stream",
          "name": "stdout",
          "text": [
            "Valeurs uniques : 3\n",
            "\n"
          ]
        },
        {
          "output_type": "execute_result",
          "data": {
            "text/plain": [
              "38178    0.0\n",
              "55129    0.0\n",
              "8413     0.0\n",
              "61005    0.0\n",
              "39457    0.0\n",
              "Name: rpi_concentre, dtype: float64"
            ],
            "text/html": [
              "<div>\n",
              "<style scoped>\n",
              "    .dataframe tbody tr th:only-of-type {\n",
              "        vertical-align: middle;\n",
              "    }\n",
              "\n",
              "    .dataframe tbody tr th {\n",
              "        vertical-align: top;\n",
              "    }\n",
              "\n",
              "    .dataframe thead th {\n",
              "        text-align: right;\n",
              "    }\n",
              "</style>\n",
              "<table border=\"1\" class=\"dataframe\">\n",
              "  <thead>\n",
              "    <tr style=\"text-align: right;\">\n",
              "      <th></th>\n",
              "      <th>rpi_concentre</th>\n",
              "    </tr>\n",
              "  </thead>\n",
              "  <tbody>\n",
              "    <tr>\n",
              "      <th>38178</th>\n",
              "      <td>0.0</td>\n",
              "    </tr>\n",
              "    <tr>\n",
              "      <th>55129</th>\n",
              "      <td>0.0</td>\n",
              "    </tr>\n",
              "    <tr>\n",
              "      <th>8413</th>\n",
              "      <td>0.0</td>\n",
              "    </tr>\n",
              "    <tr>\n",
              "      <th>61005</th>\n",
              "      <td>0.0</td>\n",
              "    </tr>\n",
              "    <tr>\n",
              "      <th>39457</th>\n",
              "      <td>0.0</td>\n",
              "    </tr>\n",
              "  </tbody>\n",
              "</table>\n",
              "</div><br><label><b>dtype:</b> float64</label>"
            ]
          },
          "metadata": {},
          "execution_count": 101
        }
      ]
    },
    {
      "cell_type": "code",
      "source": [
        "df['rpi_concentre'].unique()"
      ],
      "metadata": {
        "colab": {
          "base_uri": "https://localhost:8080/"
        },
        "id": "CFaFcaVLf7Y9",
        "outputId": "81a8c9d2-d61c-44ce-fbac-7558d8c99439"
      },
      "execution_count": null,
      "outputs": [
        {
          "output_type": "execute_result",
          "data": {
            "text/plain": [
              "array([ 0.,  1., nan])"
            ]
          },
          "metadata": {},
          "execution_count": 102
        }
      ]
    },
    {
      "cell_type": "code",
      "source": [
        "print(f\"Valeurs uniques : {len(df['rpi_disperse'].unique())}\\n\")\n",
        "df['rpi_disperse'].sample(n=5, random_state=23)"
      ],
      "metadata": {
        "colab": {
          "base_uri": "https://localhost:8080/",
          "height": 276
        },
        "id": "N0faqiWWf7i5",
        "outputId": "c3772486-3b3c-413f-9121-47e70fe750d0"
      },
      "execution_count": null,
      "outputs": [
        {
          "output_type": "stream",
          "name": "stdout",
          "text": [
            "Valeurs uniques : 3826\n",
            "\n"
          ]
        },
        {
          "output_type": "execute_result",
          "data": {
            "text/plain": [
              "38178    None\n",
              "55129    None\n",
              "8413     None\n",
              "61005    None\n",
              "39457    None\n",
              "Name: rpi_disperse, dtype: object"
            ],
            "text/html": [
              "<div>\n",
              "<style scoped>\n",
              "    .dataframe tbody tr th:only-of-type {\n",
              "        vertical-align: middle;\n",
              "    }\n",
              "\n",
              "    .dataframe tbody tr th {\n",
              "        vertical-align: top;\n",
              "    }\n",
              "\n",
              "    .dataframe thead th {\n",
              "        text-align: right;\n",
              "    }\n",
              "</style>\n",
              "<table border=\"1\" class=\"dataframe\">\n",
              "  <thead>\n",
              "    <tr style=\"text-align: right;\">\n",
              "      <th></th>\n",
              "      <th>rpi_disperse</th>\n",
              "    </tr>\n",
              "  </thead>\n",
              "  <tbody>\n",
              "    <tr>\n",
              "      <th>38178</th>\n",
              "      <td>None</td>\n",
              "    </tr>\n",
              "    <tr>\n",
              "      <th>55129</th>\n",
              "      <td>None</td>\n",
              "    </tr>\n",
              "    <tr>\n",
              "      <th>8413</th>\n",
              "      <td>None</td>\n",
              "    </tr>\n",
              "    <tr>\n",
              "      <th>61005</th>\n",
              "      <td>None</td>\n",
              "    </tr>\n",
              "    <tr>\n",
              "      <th>39457</th>\n",
              "      <td>None</td>\n",
              "    </tr>\n",
              "  </tbody>\n",
              "</table>\n",
              "</div><br><label><b>dtype:</b> object</label>"
            ]
          },
          "metadata": {},
          "execution_count": 103
        }
      ]
    },
    {
      "cell_type": "code",
      "source": [
        "print(f\"Valeurs uniques : {len(df['code_nature'].unique())}\\n\")\n",
        "df['code_nature'].sample(n=5, random_state=23)"
      ],
      "metadata": {
        "colab": {
          "base_uri": "https://localhost:8080/",
          "height": 276
        },
        "id": "Ye1qylbsf7q1",
        "outputId": "9cf537a2-ae35-4020-9865-5084e6910457"
      },
      "execution_count": null,
      "outputs": [
        {
          "output_type": "stream",
          "name": "stdout",
          "text": [
            "Valeurs uniques : 47\n",
            "\n"
          ]
        },
        {
          "output_type": "execute_result",
          "data": {
            "text/plain": [
              "38178    340\n",
              "55129    151\n",
              "8413     151\n",
              "61005    151\n",
              "39457    340\n",
              "Name: code_nature, dtype: int64"
            ],
            "text/html": [
              "<div>\n",
              "<style scoped>\n",
              "    .dataframe tbody tr th:only-of-type {\n",
              "        vertical-align: middle;\n",
              "    }\n",
              "\n",
              "    .dataframe tbody tr th {\n",
              "        vertical-align: top;\n",
              "    }\n",
              "\n",
              "    .dataframe thead th {\n",
              "        text-align: right;\n",
              "    }\n",
              "</style>\n",
              "<table border=\"1\" class=\"dataframe\">\n",
              "  <thead>\n",
              "    <tr style=\"text-align: right;\">\n",
              "      <th></th>\n",
              "      <th>code_nature</th>\n",
              "    </tr>\n",
              "  </thead>\n",
              "  <tbody>\n",
              "    <tr>\n",
              "      <th>38178</th>\n",
              "      <td>340</td>\n",
              "    </tr>\n",
              "    <tr>\n",
              "      <th>55129</th>\n",
              "      <td>151</td>\n",
              "    </tr>\n",
              "    <tr>\n",
              "      <th>8413</th>\n",
              "      <td>151</td>\n",
              "    </tr>\n",
              "    <tr>\n",
              "      <th>61005</th>\n",
              "      <td>151</td>\n",
              "    </tr>\n",
              "    <tr>\n",
              "      <th>39457</th>\n",
              "      <td>340</td>\n",
              "    </tr>\n",
              "  </tbody>\n",
              "</table>\n",
              "</div><br><label><b>dtype:</b> int64</label>"
            ]
          },
          "metadata": {},
          "execution_count": 104
        }
      ]
    },
    {
      "cell_type": "code",
      "source": [
        "print(f\"Valeurs uniques : {len(df['libelle_nature'].unique())}\\n\")\n",
        "df['libelle_nature'].sample(n=5, random_state=23)"
      ],
      "metadata": {
        "colab": {
          "base_uri": "https://localhost:8080/",
          "height": 276
        },
        "id": "lTC4xhSYf7z5",
        "outputId": "0cbbbf24-99f3-47a2-bcb5-4a0046e03607"
      },
      "execution_count": null,
      "outputs": [
        {
          "output_type": "stream",
          "name": "stdout",
          "text": [
            "Valeurs uniques : 47\n",
            "\n"
          ]
        },
        {
          "output_type": "execute_result",
          "data": {
            "text/plain": [
              "38178                        COLLEGE\n",
              "55129    ECOLE DE NIVEAU ELEMENTAIRE\n",
              "8413     ECOLE DE NIVEAU ELEMENTAIRE\n",
              "61005    ECOLE DE NIVEAU ELEMENTAIRE\n",
              "39457                        COLLEGE\n",
              "Name: libelle_nature, dtype: object"
            ],
            "text/html": [
              "<div>\n",
              "<style scoped>\n",
              "    .dataframe tbody tr th:only-of-type {\n",
              "        vertical-align: middle;\n",
              "    }\n",
              "\n",
              "    .dataframe tbody tr th {\n",
              "        vertical-align: top;\n",
              "    }\n",
              "\n",
              "    .dataframe thead th {\n",
              "        text-align: right;\n",
              "    }\n",
              "</style>\n",
              "<table border=\"1\" class=\"dataframe\">\n",
              "  <thead>\n",
              "    <tr style=\"text-align: right;\">\n",
              "      <th></th>\n",
              "      <th>libelle_nature</th>\n",
              "    </tr>\n",
              "  </thead>\n",
              "  <tbody>\n",
              "    <tr>\n",
              "      <th>38178</th>\n",
              "      <td>COLLEGE</td>\n",
              "    </tr>\n",
              "    <tr>\n",
              "      <th>55129</th>\n",
              "      <td>ECOLE DE NIVEAU ELEMENTAIRE</td>\n",
              "    </tr>\n",
              "    <tr>\n",
              "      <th>8413</th>\n",
              "      <td>ECOLE DE NIVEAU ELEMENTAIRE</td>\n",
              "    </tr>\n",
              "    <tr>\n",
              "      <th>61005</th>\n",
              "      <td>ECOLE DE NIVEAU ELEMENTAIRE</td>\n",
              "    </tr>\n",
              "    <tr>\n",
              "      <th>39457</th>\n",
              "      <td>COLLEGE</td>\n",
              "    </tr>\n",
              "  </tbody>\n",
              "</table>\n",
              "</div><br><label><b>dtype:</b> object</label>"
            ]
          },
          "metadata": {},
          "execution_count": 105
        }
      ]
    },
    {
      "cell_type": "code",
      "source": [
        "print(f\"Valeurs uniques : {len(df['code_type_contrat_prive'].unique())}\\n\")\n",
        "df['code_type_contrat_prive'].sample(n=5, random_state=23)"
      ],
      "metadata": {
        "colab": {
          "base_uri": "https://localhost:8080/",
          "height": 276
        },
        "id": "ty9Deo3Mf767",
        "outputId": "7576d704-8cd6-48ab-fc52-1ba399aaa5d2"
      },
      "execution_count": null,
      "outputs": [
        {
          "output_type": "stream",
          "name": "stdout",
          "text": [
            "Valeurs uniques : 11\n",
            "\n"
          ]
        },
        {
          "output_type": "execute_result",
          "data": {
            "text/plain": [
              "38178    99\n",
              "55129    99\n",
              "8413     99\n",
              "61005    30\n",
              "39457    30\n",
              "Name: code_type_contrat_prive, dtype: object"
            ],
            "text/html": [
              "<div>\n",
              "<style scoped>\n",
              "    .dataframe tbody tr th:only-of-type {\n",
              "        vertical-align: middle;\n",
              "    }\n",
              "\n",
              "    .dataframe tbody tr th {\n",
              "        vertical-align: top;\n",
              "    }\n",
              "\n",
              "    .dataframe thead th {\n",
              "        text-align: right;\n",
              "    }\n",
              "</style>\n",
              "<table border=\"1\" class=\"dataframe\">\n",
              "  <thead>\n",
              "    <tr style=\"text-align: right;\">\n",
              "      <th></th>\n",
              "      <th>code_type_contrat_prive</th>\n",
              "    </tr>\n",
              "  </thead>\n",
              "  <tbody>\n",
              "    <tr>\n",
              "      <th>38178</th>\n",
              "      <td>99</td>\n",
              "    </tr>\n",
              "    <tr>\n",
              "      <th>55129</th>\n",
              "      <td>99</td>\n",
              "    </tr>\n",
              "    <tr>\n",
              "      <th>8413</th>\n",
              "      <td>99</td>\n",
              "    </tr>\n",
              "    <tr>\n",
              "      <th>61005</th>\n",
              "      <td>30</td>\n",
              "    </tr>\n",
              "    <tr>\n",
              "      <th>39457</th>\n",
              "      <td>30</td>\n",
              "    </tr>\n",
              "  </tbody>\n",
              "</table>\n",
              "</div><br><label><b>dtype:</b> object</label>"
            ]
          },
          "metadata": {},
          "execution_count": 106
        }
      ]
    },
    {
      "cell_type": "code",
      "source": [
        "df['code_type_contrat_prive'].unique()"
      ],
      "metadata": {
        "colab": {
          "base_uri": "https://localhost:8080/"
        },
        "id": "n-_dMxy9f8C3",
        "outputId": "34343066-801c-42d2-9bf2-be8bbd9653ca"
      },
      "execution_count": null,
      "outputs": [
        {
          "output_type": "execute_result",
          "data": {
            "text/plain": [
              "array(['99', '10', '30', '40', '21', '31', '20', '60', '50', '41', '!!'],\n",
              "      dtype=object)"
            ]
          },
          "metadata": {},
          "execution_count": 107
        }
      ]
    },
    {
      "cell_type": "code",
      "source": [
        "print(f\"Valeurs uniques : {len(df['pial'].unique())}\\n\")\n",
        "df['pial'].sample(n=5, random_state=23)"
      ],
      "metadata": {
        "colab": {
          "base_uri": "https://localhost:8080/",
          "height": 276
        },
        "id": "ZepPSCDPf8LP",
        "outputId": "e3de0460-379f-4943-a727-cc7ba75655f3"
      },
      "execution_count": null,
      "outputs": [
        {
          "output_type": "stream",
          "name": "stdout",
          "text": [
            "Valeurs uniques : 4125\n",
            "\n"
          ]
        },
        {
          "output_type": "execute_result",
          "data": {
            "text/plain": [
              "38178    0330091V\n",
              "55129    0780269U\n",
              "8413     0572477H\n",
              "61005    0311968W\n",
              "39457    0660872P\n",
              "Name: pial, dtype: object"
            ],
            "text/html": [
              "<div>\n",
              "<style scoped>\n",
              "    .dataframe tbody tr th:only-of-type {\n",
              "        vertical-align: middle;\n",
              "    }\n",
              "\n",
              "    .dataframe tbody tr th {\n",
              "        vertical-align: top;\n",
              "    }\n",
              "\n",
              "    .dataframe thead th {\n",
              "        text-align: right;\n",
              "    }\n",
              "</style>\n",
              "<table border=\"1\" class=\"dataframe\">\n",
              "  <thead>\n",
              "    <tr style=\"text-align: right;\">\n",
              "      <th></th>\n",
              "      <th>pial</th>\n",
              "    </tr>\n",
              "  </thead>\n",
              "  <tbody>\n",
              "    <tr>\n",
              "      <th>38178</th>\n",
              "      <td>0330091V</td>\n",
              "    </tr>\n",
              "    <tr>\n",
              "      <th>55129</th>\n",
              "      <td>0780269U</td>\n",
              "    </tr>\n",
              "    <tr>\n",
              "      <th>8413</th>\n",
              "      <td>0572477H</td>\n",
              "    </tr>\n",
              "    <tr>\n",
              "      <th>61005</th>\n",
              "      <td>0311968W</td>\n",
              "    </tr>\n",
              "    <tr>\n",
              "      <th>39457</th>\n",
              "      <td>0660872P</td>\n",
              "    </tr>\n",
              "  </tbody>\n",
              "</table>\n",
              "</div><br><label><b>dtype:</b> object</label>"
            ]
          },
          "metadata": {},
          "execution_count": 108
        }
      ]
    },
    {
      "cell_type": "code",
      "source": [
        "print(f\"Valeurs uniques : {len(df['etablissement_mere'].unique())}\\n\")\n",
        "df['etablissement_mere'].sample(n=5, random_state=23)"
      ],
      "metadata": {
        "colab": {
          "base_uri": "https://localhost:8080/",
          "height": 276
        },
        "id": "5pYQHpaIh-Hn",
        "outputId": "20da7a55-125a-4568-cb1d-ae0807272b19"
      },
      "execution_count": null,
      "outputs": [
        {
          "output_type": "stream",
          "name": "stdout",
          "text": [
            "Valeurs uniques : 2575\n",
            "\n"
          ]
        },
        {
          "output_type": "execute_result",
          "data": {
            "text/plain": [
              "38178    None\n",
              "55129    None\n",
              "8413     None\n",
              "61005    None\n",
              "39457    None\n",
              "Name: etablissement_mere, dtype: object"
            ],
            "text/html": [
              "<div>\n",
              "<style scoped>\n",
              "    .dataframe tbody tr th:only-of-type {\n",
              "        vertical-align: middle;\n",
              "    }\n",
              "\n",
              "    .dataframe tbody tr th {\n",
              "        vertical-align: top;\n",
              "    }\n",
              "\n",
              "    .dataframe thead th {\n",
              "        text-align: right;\n",
              "    }\n",
              "</style>\n",
              "<table border=\"1\" class=\"dataframe\">\n",
              "  <thead>\n",
              "    <tr style=\"text-align: right;\">\n",
              "      <th></th>\n",
              "      <th>etablissement_mere</th>\n",
              "    </tr>\n",
              "  </thead>\n",
              "  <tbody>\n",
              "    <tr>\n",
              "      <th>38178</th>\n",
              "      <td>None</td>\n",
              "    </tr>\n",
              "    <tr>\n",
              "      <th>55129</th>\n",
              "      <td>None</td>\n",
              "    </tr>\n",
              "    <tr>\n",
              "      <th>8413</th>\n",
              "      <td>None</td>\n",
              "    </tr>\n",
              "    <tr>\n",
              "      <th>61005</th>\n",
              "      <td>None</td>\n",
              "    </tr>\n",
              "    <tr>\n",
              "      <th>39457</th>\n",
              "      <td>None</td>\n",
              "    </tr>\n",
              "  </tbody>\n",
              "</table>\n",
              "</div><br><label><b>dtype:</b> object</label>"
            ]
          },
          "metadata": {},
          "execution_count": 109
        }
      ]
    },
    {
      "cell_type": "code",
      "source": [
        "print(f\"Valeurs uniques : {len(df['type_rattachement_etablissement_mere'].unique())}\\n\")\n",
        "df['type_rattachement_etablissement_mere'].sample(n=5, random_state=23)"
      ],
      "metadata": {
        "colab": {
          "base_uri": "https://localhost:8080/",
          "height": 276
        },
        "id": "X54x2M8vh-O8",
        "outputId": "d596c10e-845f-4054-cd5b-73b61cd64e15"
      },
      "execution_count": null,
      "outputs": [
        {
          "output_type": "stream",
          "name": "stdout",
          "text": [
            "Valeurs uniques : 4\n",
            "\n"
          ]
        },
        {
          "output_type": "execute_result",
          "data": {
            "text/plain": [
              "38178    None\n",
              "55129    None\n",
              "8413     None\n",
              "61005    None\n",
              "39457    None\n",
              "Name: type_rattachement_etablissement_mere, dtype: object"
            ],
            "text/html": [
              "<div>\n",
              "<style scoped>\n",
              "    .dataframe tbody tr th:only-of-type {\n",
              "        vertical-align: middle;\n",
              "    }\n",
              "\n",
              "    .dataframe tbody tr th {\n",
              "        vertical-align: top;\n",
              "    }\n",
              "\n",
              "    .dataframe thead th {\n",
              "        text-align: right;\n",
              "    }\n",
              "</style>\n",
              "<table border=\"1\" class=\"dataframe\">\n",
              "  <thead>\n",
              "    <tr style=\"text-align: right;\">\n",
              "      <th></th>\n",
              "      <th>type_rattachement_etablissement_mere</th>\n",
              "    </tr>\n",
              "  </thead>\n",
              "  <tbody>\n",
              "    <tr>\n",
              "      <th>38178</th>\n",
              "      <td>None</td>\n",
              "    </tr>\n",
              "    <tr>\n",
              "      <th>55129</th>\n",
              "      <td>None</td>\n",
              "    </tr>\n",
              "    <tr>\n",
              "      <th>8413</th>\n",
              "      <td>None</td>\n",
              "    </tr>\n",
              "    <tr>\n",
              "      <th>61005</th>\n",
              "      <td>None</td>\n",
              "    </tr>\n",
              "    <tr>\n",
              "      <th>39457</th>\n",
              "      <td>None</td>\n",
              "    </tr>\n",
              "  </tbody>\n",
              "</table>\n",
              "</div><br><label><b>dtype:</b> object</label>"
            ]
          },
          "metadata": {},
          "execution_count": 110
        }
      ]
    },
    {
      "cell_type": "code",
      "source": [
        "df['type_rattachement_etablissement_mere'].unique()"
      ],
      "metadata": {
        "colab": {
          "base_uri": "https://localhost:8080/"
        },
        "id": "xUuirf44h-WJ",
        "outputId": "ee4fff94-25c4-40a6-ede3-915d947a5cc6"
      },
      "execution_count": null,
      "outputs": [
        {
          "output_type": "execute_result",
          "data": {
            "text/plain": [
              "array([None, 'ANNEXE GEOGRAPHIQUE', 'FILIERE OU DEPARTEMENT OU SECTION',\n",
              "       'COMPOSANTE JURIDIQUE'], dtype=object)"
            ]
          },
          "metadata": {},
          "execution_count": 111
        }
      ]
    },
    {
      "cell_type": "code",
      "source": [
        "print(f\"Valeurs uniques : {len(df['code_circonscription'].unique())}\\n\")\n",
        "df['code_circonscription'].sample(n=5, random_state=23)"
      ],
      "metadata": {
        "colab": {
          "base_uri": "https://localhost:8080/",
          "height": 276
        },
        "id": "phl4ZwR8h-kv",
        "outputId": "d0786654-139e-41e9-bfa7-c1f6f7582064"
      },
      "execution_count": null,
      "outputs": [
        {
          "output_type": "stream",
          "name": "stdout",
          "text": [
            "Valeurs uniques : 1413\n",
            "\n"
          ]
        },
        {
          "output_type": "execute_result",
          "data": {
            "text/plain": [
              "38178    0331448V\n",
              "55129    0783235T\n",
              "8413     0570165V\n",
              "61005    0313170C\n",
              "39457        None\n",
              "Name: code_circonscription, dtype: object"
            ],
            "text/html": [
              "<div>\n",
              "<style scoped>\n",
              "    .dataframe tbody tr th:only-of-type {\n",
              "        vertical-align: middle;\n",
              "    }\n",
              "\n",
              "    .dataframe tbody tr th {\n",
              "        vertical-align: top;\n",
              "    }\n",
              "\n",
              "    .dataframe thead th {\n",
              "        text-align: right;\n",
              "    }\n",
              "</style>\n",
              "<table border=\"1\" class=\"dataframe\">\n",
              "  <thead>\n",
              "    <tr style=\"text-align: right;\">\n",
              "      <th></th>\n",
              "      <th>code_circonscription</th>\n",
              "    </tr>\n",
              "  </thead>\n",
              "  <tbody>\n",
              "    <tr>\n",
              "      <th>38178</th>\n",
              "      <td>0331448V</td>\n",
              "    </tr>\n",
              "    <tr>\n",
              "      <th>55129</th>\n",
              "      <td>0783235T</td>\n",
              "    </tr>\n",
              "    <tr>\n",
              "      <th>8413</th>\n",
              "      <td>0570165V</td>\n",
              "    </tr>\n",
              "    <tr>\n",
              "      <th>61005</th>\n",
              "      <td>0313170C</td>\n",
              "    </tr>\n",
              "    <tr>\n",
              "      <th>39457</th>\n",
              "      <td>None</td>\n",
              "    </tr>\n",
              "  </tbody>\n",
              "</table>\n",
              "</div><br><label><b>dtype:</b> object</label>"
            ]
          },
          "metadata": {},
          "execution_count": 112
        }
      ]
    },
    {
      "cell_type": "code",
      "source": [
        "print(f\"Valeurs uniques : {len(df['code_zone_animation_pedagogique'].unique())}\\n\")\n",
        "df['code_zone_animation_pedagogique'].sample(n=5, random_state=23)"
      ],
      "metadata": {
        "colab": {
          "base_uri": "https://localhost:8080/",
          "height": 276
        },
        "id": "9_oriGezh-o7",
        "outputId": "707053f3-a596-40ee-f765-742a2455c90a"
      },
      "execution_count": null,
      "outputs": [
        {
          "output_type": "stream",
          "name": "stdout",
          "text": [
            "Valeurs uniques : 376\n",
            "\n"
          ]
        },
        {
          "output_type": "execute_result",
          "data": {
            "text/plain": [
              "38178    033040\n",
              "55129      None\n",
              "8413       None\n",
              "61005      None\n",
              "39457    066005\n",
              "Name: code_zone_animation_pedagogique, dtype: object"
            ],
            "text/html": [
              "<div>\n",
              "<style scoped>\n",
              "    .dataframe tbody tr th:only-of-type {\n",
              "        vertical-align: middle;\n",
              "    }\n",
              "\n",
              "    .dataframe tbody tr th {\n",
              "        vertical-align: top;\n",
              "    }\n",
              "\n",
              "    .dataframe thead th {\n",
              "        text-align: right;\n",
              "    }\n",
              "</style>\n",
              "<table border=\"1\" class=\"dataframe\">\n",
              "  <thead>\n",
              "    <tr style=\"text-align: right;\">\n",
              "      <th></th>\n",
              "      <th>code_zone_animation_pedagogique</th>\n",
              "    </tr>\n",
              "  </thead>\n",
              "  <tbody>\n",
              "    <tr>\n",
              "      <th>38178</th>\n",
              "      <td>033040</td>\n",
              "    </tr>\n",
              "    <tr>\n",
              "      <th>55129</th>\n",
              "      <td>None</td>\n",
              "    </tr>\n",
              "    <tr>\n",
              "      <th>8413</th>\n",
              "      <td>None</td>\n",
              "    </tr>\n",
              "    <tr>\n",
              "      <th>61005</th>\n",
              "      <td>None</td>\n",
              "    </tr>\n",
              "    <tr>\n",
              "      <th>39457</th>\n",
              "      <td>066005</td>\n",
              "    </tr>\n",
              "  </tbody>\n",
              "</table>\n",
              "</div><br><label><b>dtype:</b> object</label>"
            ]
          },
          "metadata": {},
          "execution_count": 113
        }
      ]
    },
    {
      "cell_type": "code",
      "source": [
        "print(f\"Valeurs uniques : {len(df['libelle_zone_animation_pedagogique'].unique())}\\n\")\n",
        "df['libelle_zone_animation_pedagogique'].sample(n=5, random_state=23)"
      ],
      "metadata": {
        "colab": {
          "base_uri": "https://localhost:8080/",
          "height": 276
        },
        "id": "Z5e0USEajBz8",
        "outputId": "00401331-68c3-4680-fd42-114155b5f00c"
      },
      "execution_count": null,
      "outputs": [
        {
          "output_type": "stream",
          "name": "stdout",
          "text": [
            "Valeurs uniques : 353\n",
            "\n"
          ]
        },
        {
          "output_type": "execute_result",
          "data": {
            "text/plain": [
              "38178       ZAP 033040 LIBOURNE\n",
              "55129                      None\n",
              "8413                       None\n",
              "61005                      None\n",
              "39457    PERPIGNAN SUD LITTORAL\n",
              "Name: libelle_zone_animation_pedagogique, dtype: object"
            ],
            "text/html": [
              "<div>\n",
              "<style scoped>\n",
              "    .dataframe tbody tr th:only-of-type {\n",
              "        vertical-align: middle;\n",
              "    }\n",
              "\n",
              "    .dataframe tbody tr th {\n",
              "        vertical-align: top;\n",
              "    }\n",
              "\n",
              "    .dataframe thead th {\n",
              "        text-align: right;\n",
              "    }\n",
              "</style>\n",
              "<table border=\"1\" class=\"dataframe\">\n",
              "  <thead>\n",
              "    <tr style=\"text-align: right;\">\n",
              "      <th></th>\n",
              "      <th>libelle_zone_animation_pedagogique</th>\n",
              "    </tr>\n",
              "  </thead>\n",
              "  <tbody>\n",
              "    <tr>\n",
              "      <th>38178</th>\n",
              "      <td>ZAP 033040 LIBOURNE</td>\n",
              "    </tr>\n",
              "    <tr>\n",
              "      <th>55129</th>\n",
              "      <td>None</td>\n",
              "    </tr>\n",
              "    <tr>\n",
              "      <th>8413</th>\n",
              "      <td>None</td>\n",
              "    </tr>\n",
              "    <tr>\n",
              "      <th>61005</th>\n",
              "      <td>None</td>\n",
              "    </tr>\n",
              "    <tr>\n",
              "      <th>39457</th>\n",
              "      <td>PERPIGNAN SUD LITTORAL</td>\n",
              "    </tr>\n",
              "  </tbody>\n",
              "</table>\n",
              "</div><br><label><b>dtype:</b> object</label>"
            ]
          },
          "metadata": {},
          "execution_count": 114
        }
      ]
    },
    {
      "cell_type": "code",
      "source": [
        "print(f\"Valeurs uniques : {len(df['code_bassin_formation'].unique())}\\n\")\n",
        "df['code_bassin_formation'].sample(n=5, random_state=23)"
      ],
      "metadata": {
        "colab": {
          "base_uri": "https://localhost:8080/",
          "height": 276
        },
        "id": "3w9Od5I9jB8C",
        "outputId": "5e232349-ab15-4419-a553-c6053c6bd351"
      },
      "execution_count": null,
      "outputs": [
        {
          "output_type": "stream",
          "name": "stdout",
          "text": [
            "Valeurs uniques : 365\n",
            "\n"
          ]
        },
        {
          "output_type": "execute_result",
          "data": {
            "text/plain": [
              "38178    04204\n",
              "55129    25003\n",
              "8413     12759\n",
              "61005    16107\n",
              "39457    11122\n",
              "Name: code_bassin_formation, dtype: object"
            ],
            "text/html": [
              "<div>\n",
              "<style scoped>\n",
              "    .dataframe tbody tr th:only-of-type {\n",
              "        vertical-align: middle;\n",
              "    }\n",
              "\n",
              "    .dataframe tbody tr th {\n",
              "        vertical-align: top;\n",
              "    }\n",
              "\n",
              "    .dataframe thead th {\n",
              "        text-align: right;\n",
              "    }\n",
              "</style>\n",
              "<table border=\"1\" class=\"dataframe\">\n",
              "  <thead>\n",
              "    <tr style=\"text-align: right;\">\n",
              "      <th></th>\n",
              "      <th>code_bassin_formation</th>\n",
              "    </tr>\n",
              "  </thead>\n",
              "  <tbody>\n",
              "    <tr>\n",
              "      <th>38178</th>\n",
              "      <td>04204</td>\n",
              "    </tr>\n",
              "    <tr>\n",
              "      <th>55129</th>\n",
              "      <td>25003</td>\n",
              "    </tr>\n",
              "    <tr>\n",
              "      <th>8413</th>\n",
              "      <td>12759</td>\n",
              "    </tr>\n",
              "    <tr>\n",
              "      <th>61005</th>\n",
              "      <td>16107</td>\n",
              "    </tr>\n",
              "    <tr>\n",
              "      <th>39457</th>\n",
              "      <td>11122</td>\n",
              "    </tr>\n",
              "  </tbody>\n",
              "</table>\n",
              "</div><br><label><b>dtype:</b> object</label>"
            ]
          },
          "metadata": {},
          "execution_count": 115
        }
      ]
    },
    {
      "cell_type": "code",
      "source": [
        "print(f\"Valeurs uniques : {len(df['libelle_bassin_formation'].unique())}\\n\")\n",
        "df['libelle_bassin_formation'].sample(n=5, random_state=23)"
      ],
      "metadata": {
        "colab": {
          "base_uri": "https://localhost:8080/",
          "height": 276
        },
        "id": "_5rOOYpLf8Sf",
        "outputId": "fdc13556-53e1-48d6-e560-55204dec9844"
      },
      "execution_count": null,
      "outputs": [
        {
          "output_type": "stream",
          "name": "stdout",
          "text": [
            "Valeurs uniques : 364\n",
            "\n"
          ]
        },
        {
          "output_type": "execute_result",
          "data": {
            "text/plain": [
              "38178                    LIBOURNE\n",
              "55129    078C-POISSY-SARTROUVILLE\n",
              "8413               BEF METZ OUEST\n",
              "61005                       MURET\n",
              "39457            PERPIGNAN CENTRE\n",
              "Name: libelle_bassin_formation, dtype: object"
            ],
            "text/html": [
              "<div>\n",
              "<style scoped>\n",
              "    .dataframe tbody tr th:only-of-type {\n",
              "        vertical-align: middle;\n",
              "    }\n",
              "\n",
              "    .dataframe tbody tr th {\n",
              "        vertical-align: top;\n",
              "    }\n",
              "\n",
              "    .dataframe thead th {\n",
              "        text-align: right;\n",
              "    }\n",
              "</style>\n",
              "<table border=\"1\" class=\"dataframe\">\n",
              "  <thead>\n",
              "    <tr style=\"text-align: right;\">\n",
              "      <th></th>\n",
              "      <th>libelle_bassin_formation</th>\n",
              "    </tr>\n",
              "  </thead>\n",
              "  <tbody>\n",
              "    <tr>\n",
              "      <th>38178</th>\n",
              "      <td>LIBOURNE</td>\n",
              "    </tr>\n",
              "    <tr>\n",
              "      <th>55129</th>\n",
              "      <td>078C-POISSY-SARTROUVILLE</td>\n",
              "    </tr>\n",
              "    <tr>\n",
              "      <th>8413</th>\n",
              "      <td>BEF METZ OUEST</td>\n",
              "    </tr>\n",
              "    <tr>\n",
              "      <th>61005</th>\n",
              "      <td>MURET</td>\n",
              "    </tr>\n",
              "    <tr>\n",
              "      <th>39457</th>\n",
              "      <td>PERPIGNAN CENTRE</td>\n",
              "    </tr>\n",
              "  </tbody>\n",
              "</table>\n",
              "</div><br><label><b>dtype:</b> object</label>"
            ]
          },
          "metadata": {},
          "execution_count": 116
        }
      ]
    },
    {
      "cell_type": "markdown",
      "source": [
        "### Anomalies"
      ],
      "metadata": {
        "id": "3zRljnVGbQQf"
      }
    },
    {
      "cell_type": "markdown",
      "source": [
        "#### <ins>id etablissement</ins> et <ins>multi_uai</ins>"
      ],
      "metadata": {
        "id": "XTvr94LRmKof"
      }
    },
    {
      "cell_type": "code",
      "source": [
        "# Vérifier doublons sur id etablissement\n",
        "print(f\"Taille du dataframe : {len(df)}\")\n",
        "print(f\"Valeurs uniques pour identifiant_de_l_etablissement : {len(df['identifiant_de_l_etablissement'].unique())}\")"
      ],
      "metadata": {
        "colab": {
          "base_uri": "https://localhost:8080/"
        },
        "id": "V232Rk84kme0",
        "outputId": "d2f4899d-9cef-4c25-e1be-d82decfbc026"
      },
      "execution_count": null,
      "outputs": [
        {
          "output_type": "stream",
          "name": "stdout",
          "text": [
            "Taille du dataframe : 69649\n",
            "Valeurs uniques pour identifiant_de_l_etablissement : 69567\n"
          ]
        }
      ]
    },
    {
      "cell_type": "code",
      "source": [
        "# Comptage du nombre de lignes par id etablissement\n",
        "df_ets = df.groupby('identifiant_de_l_etablissement').size().reset_index(name='Count')\n",
        "\n",
        "# Puis, sélection des id etablissement qui ont au moins 2 lignes\n",
        "df_ets_sup2 = df_ets[df_ets['Count'] > 1]\n",
        "\n",
        "# On ajoute cette information dans le dataframe initial, avec un indicateur permettant de savoir\n",
        "# quels établissements ont plusieurs lignes\n",
        "merged_df = pd.merge(df, df_ets_sup2, on='identifiant_de_l_etablissement',\n",
        "                     how='outer', indicator=True)\n",
        "merged_df.head()"
      ],
      "metadata": {
        "colab": {
          "base_uri": "https://localhost:8080/",
          "height": 394
        },
        "id": "CAzAKlpjmOel",
        "outputId": "c03e5001-d4dc-4c29-bade-153cdf84bd40"
      },
      "execution_count": null,
      "outputs": [
        {
          "output_type": "execute_result",
          "data": {
            "text/plain": [
              "  identifiant_de_l_etablissement                     nom_etablissement  \\\n",
              "0                       0010001W  Lycée professionnel Alexandre Bérard   \n",
              "1                       0010002X                 Collège Saint-Exupéry   \n",
              "2                       0010005A                Collège Roger Poulnard   \n",
              "3                       0010006B        Lycée polyvalent Saint-Exupéry   \n",
              "4                       0010008D                 Collège Saint-Exupéry   \n",
              "\n",
              "  type_etablissement statut_public_prive                 adresse_1 adresse_2  \\\n",
              "0              Lycée              Public  223 rue Alexandre Bérard    BP 519   \n",
              "1            Collège              Public            6 rue Aguetant      None   \n",
              "2            Collège              Public      131 rue de la Mairie      None   \n",
              "3              Lycée              Public   15 avenue Saint-Exupéry    BP 616   \n",
              "4            Collège              Public   15 avenue Saint-Exupéry      None   \n",
              "\n",
              "  adresse_3 code_postal code_commune        nom_commune  ...      pial  \\\n",
              "0      None       01505        01004  Ambérieu-en-Bugey  ...  0010002X   \n",
              "1      None       01500        01004  Ambérieu-en-Bugey  ...  0010002X   \n",
              "2      None       01380        01025      Bâgé-la-Ville  ...  0010005A   \n",
              "3      None       01206        01033         Valserhône  ...  0010008D   \n",
              "4      None       01206        01033         Valserhône  ...  0010008D   \n",
              "\n",
              "  etablissement_mere type_rattachement_etablissement_mere  \\\n",
              "0               None                                 None   \n",
              "1               None                                 None   \n",
              "2               None                                 None   \n",
              "3               None                                 None   \n",
              "4               None                                 None   \n",
              "\n",
              "   code_circonscription  code_zone_animation_pedagogique  \\\n",
              "0                  None                             None   \n",
              "1              0010818J                             None   \n",
              "2              0010818J                             None   \n",
              "3                  None                             None   \n",
              "4              0010818J                             None   \n",
              "\n",
              "  libelle_zone_animation_pedagogique code_bassin_formation  \\\n",
              "0                               None                 10013   \n",
              "1                               None                 10013   \n",
              "2                               None                 10011   \n",
              "3                               None                 10012   \n",
              "4                               None                 10012   \n",
              "\n",
              "  libelle_bassin_formation Count     _merge  \n",
              "0                  AIN SUD   NaN  left_only  \n",
              "1                  AIN SUD   NaN  left_only  \n",
              "2                AIN OUEST   NaN  left_only  \n",
              "3                  AIN EST   NaN  left_only  \n",
              "4                  AIN EST   NaN  left_only  \n",
              "\n",
              "[5 rows x 74 columns]"
            ],
            "text/html": [
              "\n",
              "  <div id=\"df-e92aa63a-38b9-4eff-9d70-acd21b3a62e4\" class=\"colab-df-container\">\n",
              "    <div>\n",
              "<style scoped>\n",
              "    .dataframe tbody tr th:only-of-type {\n",
              "        vertical-align: middle;\n",
              "    }\n",
              "\n",
              "    .dataframe tbody tr th {\n",
              "        vertical-align: top;\n",
              "    }\n",
              "\n",
              "    .dataframe thead th {\n",
              "        text-align: right;\n",
              "    }\n",
              "</style>\n",
              "<table border=\"1\" class=\"dataframe\">\n",
              "  <thead>\n",
              "    <tr style=\"text-align: right;\">\n",
              "      <th></th>\n",
              "      <th>identifiant_de_l_etablissement</th>\n",
              "      <th>nom_etablissement</th>\n",
              "      <th>type_etablissement</th>\n",
              "      <th>statut_public_prive</th>\n",
              "      <th>adresse_1</th>\n",
              "      <th>adresse_2</th>\n",
              "      <th>adresse_3</th>\n",
              "      <th>code_postal</th>\n",
              "      <th>code_commune</th>\n",
              "      <th>nom_commune</th>\n",
              "      <th>...</th>\n",
              "      <th>pial</th>\n",
              "      <th>etablissement_mere</th>\n",
              "      <th>type_rattachement_etablissement_mere</th>\n",
              "      <th>code_circonscription</th>\n",
              "      <th>code_zone_animation_pedagogique</th>\n",
              "      <th>libelle_zone_animation_pedagogique</th>\n",
              "      <th>code_bassin_formation</th>\n",
              "      <th>libelle_bassin_formation</th>\n",
              "      <th>Count</th>\n",
              "      <th>_merge</th>\n",
              "    </tr>\n",
              "  </thead>\n",
              "  <tbody>\n",
              "    <tr>\n",
              "      <th>0</th>\n",
              "      <td>0010001W</td>\n",
              "      <td>Lycée professionnel Alexandre Bérard</td>\n",
              "      <td>Lycée</td>\n",
              "      <td>Public</td>\n",
              "      <td>223 rue Alexandre Bérard</td>\n",
              "      <td>BP 519</td>\n",
              "      <td>None</td>\n",
              "      <td>01505</td>\n",
              "      <td>01004</td>\n",
              "      <td>Ambérieu-en-Bugey</td>\n",
              "      <td>...</td>\n",
              "      <td>0010002X</td>\n",
              "      <td>None</td>\n",
              "      <td>None</td>\n",
              "      <td>None</td>\n",
              "      <td>None</td>\n",
              "      <td>None</td>\n",
              "      <td>10013</td>\n",
              "      <td>AIN SUD</td>\n",
              "      <td>NaN</td>\n",
              "      <td>left_only</td>\n",
              "    </tr>\n",
              "    <tr>\n",
              "      <th>1</th>\n",
              "      <td>0010002X</td>\n",
              "      <td>Collège Saint-Exupéry</td>\n",
              "      <td>Collège</td>\n",
              "      <td>Public</td>\n",
              "      <td>6 rue Aguetant</td>\n",
              "      <td>None</td>\n",
              "      <td>None</td>\n",
              "      <td>01500</td>\n",
              "      <td>01004</td>\n",
              "      <td>Ambérieu-en-Bugey</td>\n",
              "      <td>...</td>\n",
              "      <td>0010002X</td>\n",
              "      <td>None</td>\n",
              "      <td>None</td>\n",
              "      <td>0010818J</td>\n",
              "      <td>None</td>\n",
              "      <td>None</td>\n",
              "      <td>10013</td>\n",
              "      <td>AIN SUD</td>\n",
              "      <td>NaN</td>\n",
              "      <td>left_only</td>\n",
              "    </tr>\n",
              "    <tr>\n",
              "      <th>2</th>\n",
              "      <td>0010005A</td>\n",
              "      <td>Collège Roger Poulnard</td>\n",
              "      <td>Collège</td>\n",
              "      <td>Public</td>\n",
              "      <td>131 rue de la Mairie</td>\n",
              "      <td>None</td>\n",
              "      <td>None</td>\n",
              "      <td>01380</td>\n",
              "      <td>01025</td>\n",
              "      <td>Bâgé-la-Ville</td>\n",
              "      <td>...</td>\n",
              "      <td>0010005A</td>\n",
              "      <td>None</td>\n",
              "      <td>None</td>\n",
              "      <td>0010818J</td>\n",
              "      <td>None</td>\n",
              "      <td>None</td>\n",
              "      <td>10011</td>\n",
              "      <td>AIN OUEST</td>\n",
              "      <td>NaN</td>\n",
              "      <td>left_only</td>\n",
              "    </tr>\n",
              "    <tr>\n",
              "      <th>3</th>\n",
              "      <td>0010006B</td>\n",
              "      <td>Lycée polyvalent Saint-Exupéry</td>\n",
              "      <td>Lycée</td>\n",
              "      <td>Public</td>\n",
              "      <td>15 avenue Saint-Exupéry</td>\n",
              "      <td>BP 616</td>\n",
              "      <td>None</td>\n",
              "      <td>01206</td>\n",
              "      <td>01033</td>\n",
              "      <td>Valserhône</td>\n",
              "      <td>...</td>\n",
              "      <td>0010008D</td>\n",
              "      <td>None</td>\n",
              "      <td>None</td>\n",
              "      <td>None</td>\n",
              "      <td>None</td>\n",
              "      <td>None</td>\n",
              "      <td>10012</td>\n",
              "      <td>AIN EST</td>\n",
              "      <td>NaN</td>\n",
              "      <td>left_only</td>\n",
              "    </tr>\n",
              "    <tr>\n",
              "      <th>4</th>\n",
              "      <td>0010008D</td>\n",
              "      <td>Collège Saint-Exupéry</td>\n",
              "      <td>Collège</td>\n",
              "      <td>Public</td>\n",
              "      <td>15 avenue Saint-Exupéry</td>\n",
              "      <td>None</td>\n",
              "      <td>None</td>\n",
              "      <td>01206</td>\n",
              "      <td>01033</td>\n",
              "      <td>Valserhône</td>\n",
              "      <td>...</td>\n",
              "      <td>0010008D</td>\n",
              "      <td>None</td>\n",
              "      <td>None</td>\n",
              "      <td>0010818J</td>\n",
              "      <td>None</td>\n",
              "      <td>None</td>\n",
              "      <td>10012</td>\n",
              "      <td>AIN EST</td>\n",
              "      <td>NaN</td>\n",
              "      <td>left_only</td>\n",
              "    </tr>\n",
              "  </tbody>\n",
              "</table>\n",
              "<p>5 rows × 74 columns</p>\n",
              "</div>\n",
              "    <div class=\"colab-df-buttons\">\n",
              "\n",
              "  <div class=\"colab-df-container\">\n",
              "    <button class=\"colab-df-convert\" onclick=\"convertToInteractive('df-e92aa63a-38b9-4eff-9d70-acd21b3a62e4')\"\n",
              "            title=\"Convert this dataframe to an interactive table.\"\n",
              "            style=\"display:none;\">\n",
              "\n",
              "  <svg xmlns=\"http://www.w3.org/2000/svg\" height=\"24px\" viewBox=\"0 -960 960 960\">\n",
              "    <path d=\"M120-120v-720h720v720H120Zm60-500h600v-160H180v160Zm220 220h160v-160H400v160Zm0 220h160v-160H400v160ZM180-400h160v-160H180v160Zm440 0h160v-160H620v160ZM180-180h160v-160H180v160Zm440 0h160v-160H620v160Z\"/>\n",
              "  </svg>\n",
              "    </button>\n",
              "\n",
              "  <style>\n",
              "    .colab-df-container {\n",
              "      display:flex;\n",
              "      gap: 12px;\n",
              "    }\n",
              "\n",
              "    .colab-df-convert {\n",
              "      background-color: #E8F0FE;\n",
              "      border: none;\n",
              "      border-radius: 50%;\n",
              "      cursor: pointer;\n",
              "      display: none;\n",
              "      fill: #1967D2;\n",
              "      height: 32px;\n",
              "      padding: 0 0 0 0;\n",
              "      width: 32px;\n",
              "    }\n",
              "\n",
              "    .colab-df-convert:hover {\n",
              "      background-color: #E2EBFA;\n",
              "      box-shadow: 0px 1px 2px rgba(60, 64, 67, 0.3), 0px 1px 3px 1px rgba(60, 64, 67, 0.15);\n",
              "      fill: #174EA6;\n",
              "    }\n",
              "\n",
              "    .colab-df-buttons div {\n",
              "      margin-bottom: 4px;\n",
              "    }\n",
              "\n",
              "    [theme=dark] .colab-df-convert {\n",
              "      background-color: #3B4455;\n",
              "      fill: #D2E3FC;\n",
              "    }\n",
              "\n",
              "    [theme=dark] .colab-df-convert:hover {\n",
              "      background-color: #434B5C;\n",
              "      box-shadow: 0px 1px 3px 1px rgba(0, 0, 0, 0.15);\n",
              "      filter: drop-shadow(0px 1px 2px rgba(0, 0, 0, 0.3));\n",
              "      fill: #FFFFFF;\n",
              "    }\n",
              "  </style>\n",
              "\n",
              "    <script>\n",
              "      const buttonEl =\n",
              "        document.querySelector('#df-e92aa63a-38b9-4eff-9d70-acd21b3a62e4 button.colab-df-convert');\n",
              "      buttonEl.style.display =\n",
              "        google.colab.kernel.accessAllowed ? 'block' : 'none';\n",
              "\n",
              "      async function convertToInteractive(key) {\n",
              "        const element = document.querySelector('#df-e92aa63a-38b9-4eff-9d70-acd21b3a62e4');\n",
              "        const dataTable =\n",
              "          await google.colab.kernel.invokeFunction('convertToInteractive',\n",
              "                                                    [key], {});\n",
              "        if (!dataTable) return;\n",
              "\n",
              "        const docLinkHtml = 'Like what you see? Visit the ' +\n",
              "          '<a target=\"_blank\" href=https://colab.research.google.com/notebooks/data_table.ipynb>data table notebook</a>'\n",
              "          + ' to learn more about interactive tables.';\n",
              "        element.innerHTML = '';\n",
              "        dataTable['output_type'] = 'display_data';\n",
              "        await google.colab.output.renderOutput(dataTable, element);\n",
              "        const docLink = document.createElement('div');\n",
              "        docLink.innerHTML = docLinkHtml;\n",
              "        element.appendChild(docLink);\n",
              "      }\n",
              "    </script>\n",
              "  </div>\n",
              "\n",
              "\n",
              "<div id=\"df-d077b4e1-03a2-4cec-90aa-e291f5db2d1d\">\n",
              "  <button class=\"colab-df-quickchart\" onclick=\"quickchart('df-d077b4e1-03a2-4cec-90aa-e291f5db2d1d')\"\n",
              "            title=\"Suggest charts\"\n",
              "            style=\"display:none;\">\n",
              "\n",
              "<svg xmlns=\"http://www.w3.org/2000/svg\" height=\"24px\"viewBox=\"0 0 24 24\"\n",
              "     width=\"24px\">\n",
              "    <g>\n",
              "        <path d=\"M19 3H5c-1.1 0-2 .9-2 2v14c0 1.1.9 2 2 2h14c1.1 0 2-.9 2-2V5c0-1.1-.9-2-2-2zM9 17H7v-7h2v7zm4 0h-2V7h2v10zm4 0h-2v-4h2v4z\"/>\n",
              "    </g>\n",
              "</svg>\n",
              "  </button>\n",
              "\n",
              "<style>\n",
              "  .colab-df-quickchart {\n",
              "      --bg-color: #E8F0FE;\n",
              "      --fill-color: #1967D2;\n",
              "      --hover-bg-color: #E2EBFA;\n",
              "      --hover-fill-color: #174EA6;\n",
              "      --disabled-fill-color: #AAA;\n",
              "      --disabled-bg-color: #DDD;\n",
              "  }\n",
              "\n",
              "  [theme=dark] .colab-df-quickchart {\n",
              "      --bg-color: #3B4455;\n",
              "      --fill-color: #D2E3FC;\n",
              "      --hover-bg-color: #434B5C;\n",
              "      --hover-fill-color: #FFFFFF;\n",
              "      --disabled-bg-color: #3B4455;\n",
              "      --disabled-fill-color: #666;\n",
              "  }\n",
              "\n",
              "  .colab-df-quickchart {\n",
              "    background-color: var(--bg-color);\n",
              "    border: none;\n",
              "    border-radius: 50%;\n",
              "    cursor: pointer;\n",
              "    display: none;\n",
              "    fill: var(--fill-color);\n",
              "    height: 32px;\n",
              "    padding: 0;\n",
              "    width: 32px;\n",
              "  }\n",
              "\n",
              "  .colab-df-quickchart:hover {\n",
              "    background-color: var(--hover-bg-color);\n",
              "    box-shadow: 0 1px 2px rgba(60, 64, 67, 0.3), 0 1px 3px 1px rgba(60, 64, 67, 0.15);\n",
              "    fill: var(--button-hover-fill-color);\n",
              "  }\n",
              "\n",
              "  .colab-df-quickchart-complete:disabled,\n",
              "  .colab-df-quickchart-complete:disabled:hover {\n",
              "    background-color: var(--disabled-bg-color);\n",
              "    fill: var(--disabled-fill-color);\n",
              "    box-shadow: none;\n",
              "  }\n",
              "\n",
              "  .colab-df-spinner {\n",
              "    border: 2px solid var(--fill-color);\n",
              "    border-color: transparent;\n",
              "    border-bottom-color: var(--fill-color);\n",
              "    animation:\n",
              "      spin 1s steps(1) infinite;\n",
              "  }\n",
              "\n",
              "  @keyframes spin {\n",
              "    0% {\n",
              "      border-color: transparent;\n",
              "      border-bottom-color: var(--fill-color);\n",
              "      border-left-color: var(--fill-color);\n",
              "    }\n",
              "    20% {\n",
              "      border-color: transparent;\n",
              "      border-left-color: var(--fill-color);\n",
              "      border-top-color: var(--fill-color);\n",
              "    }\n",
              "    30% {\n",
              "      border-color: transparent;\n",
              "      border-left-color: var(--fill-color);\n",
              "      border-top-color: var(--fill-color);\n",
              "      border-right-color: var(--fill-color);\n",
              "    }\n",
              "    40% {\n",
              "      border-color: transparent;\n",
              "      border-right-color: var(--fill-color);\n",
              "      border-top-color: var(--fill-color);\n",
              "    }\n",
              "    60% {\n",
              "      border-color: transparent;\n",
              "      border-right-color: var(--fill-color);\n",
              "    }\n",
              "    80% {\n",
              "      border-color: transparent;\n",
              "      border-right-color: var(--fill-color);\n",
              "      border-bottom-color: var(--fill-color);\n",
              "    }\n",
              "    90% {\n",
              "      border-color: transparent;\n",
              "      border-bottom-color: var(--fill-color);\n",
              "    }\n",
              "  }\n",
              "</style>\n",
              "\n",
              "  <script>\n",
              "    async function quickchart(key) {\n",
              "      const quickchartButtonEl =\n",
              "        document.querySelector('#' + key + ' button');\n",
              "      quickchartButtonEl.disabled = true;  // To prevent multiple clicks.\n",
              "      quickchartButtonEl.classList.add('colab-df-spinner');\n",
              "      try {\n",
              "        const charts = await google.colab.kernel.invokeFunction(\n",
              "            'suggestCharts', [key], {});\n",
              "      } catch (error) {\n",
              "        console.error('Error during call to suggestCharts:', error);\n",
              "      }\n",
              "      quickchartButtonEl.classList.remove('colab-df-spinner');\n",
              "      quickchartButtonEl.classList.add('colab-df-quickchart-complete');\n",
              "    }\n",
              "    (() => {\n",
              "      let quickchartButtonEl =\n",
              "        document.querySelector('#df-d077b4e1-03a2-4cec-90aa-e291f5db2d1d button');\n",
              "      quickchartButtonEl.style.display =\n",
              "        google.colab.kernel.accessAllowed ? 'block' : 'none';\n",
              "    })();\n",
              "  </script>\n",
              "</div>\n",
              "\n",
              "    </div>\n",
              "  </div>\n"
            ],
            "application/vnd.google.colaboratory.intrinsic+json": {
              "type": "dataframe",
              "variable_name": "merged_df"
            }
          },
          "metadata": {},
          "execution_count": 118
        }
      ]
    },
    {
      "cell_type": "code",
      "source": [
        "merged_df['_merge'].unique()"
      ],
      "metadata": {
        "colab": {
          "base_uri": "https://localhost:8080/"
        },
        "id": "bXf020hKrlB0",
        "outputId": "c3c2ebe9-1333-40fb-93f8-a1733c67dceb"
      },
      "execution_count": null,
      "outputs": [
        {
          "output_type": "execute_result",
          "data": {
            "text/plain": [
              "['left_only', 'both']\n",
              "Categories (3, object): ['left_only', 'right_only', 'both']"
            ]
          },
          "metadata": {},
          "execution_count": 119
        }
      ]
    },
    {
      "cell_type": "code",
      "source": [
        "# Pour les établissements avec plusieurs lignes (identifiés par _merge = 'both'), vérifier que multi_uai = 1 uniquement\n",
        "merged_df[merged_df['_merge'] == 'both']['multi_uai'].unique()"
      ],
      "metadata": {
        "colab": {
          "base_uri": "https://localhost:8080/"
        },
        "id": "4J0Xwr-ErrW4",
        "outputId": "c4f01d24-5ec8-42eb-fee7-f30a33bce40e"
      },
      "execution_count": null,
      "outputs": [
        {
          "output_type": "execute_result",
          "data": {
            "text/plain": [
              "array([1])"
            ]
          },
          "metadata": {},
          "execution_count": 120
        }
      ]
    },
    {
      "cell_type": "code",
      "source": [
        "# De même, je vérifie que pour tous les autres cette valeur est 0\n",
        "merged_df[merged_df['_merge'] == 'left_only']['multi_uai'].unique()"
      ],
      "metadata": {
        "colab": {
          "base_uri": "https://localhost:8080/"
        },
        "id": "S1rP9RebsIDA",
        "outputId": "261883ba-9d29-4fe1-d061-cde8d2b50728"
      },
      "execution_count": null,
      "outputs": [
        {
          "output_type": "execute_result",
          "data": {
            "text/plain": [
              "array([0])"
            ]
          },
          "metadata": {},
          "execution_count": 121
        }
      ]
    },
    {
      "cell_type": "markdown",
      "source": [
        "#### <ins>precision_localisation</ins>\n",
        "\n",
        "D'après la doc, les valeurs possibles sont:\n",
        "* BÂTIMENT: l'adresse ponctuelle a été vérifiée par un collecteur\n",
        "* l'adresse ponctuelle correspondant exactement à celle de l'établissement a été trouvée :\n",
        "  * PLAQUE_ADRESSE_PROJETEE : projection de la plaque adresse\n",
        "  * CENTRE_PARCELLE_PROJETE : projection du centroïde de parcelle\n",
        "* l'adresse précise n'a pas été trouvée mais une adresse ponctuelle voisine a été trouvée:\n",
        "  * DEFAUT_D_INDICE : [numéro et indice utilisé] : adresse projetée de même numéro, mais d'indice différent\n",
        "  * DEFAUT_DE_NUMERO : [numéro cherché -> numéro utilisé] : adresse projetée la plus proche. Si l'adresse recherchée n'a pas de numéro, il est placé sur le plus petit numéro trouvé (ex. DEFAUT_DE_NUMERO [->2])\n",
        "* aucune adresse ponctuelle portant le même nom de voie n'a été trouvée, mais un tronçon portant ce nom a été trouvé :\n",
        "  * INTERPOLATION : adresse interpolée entre les bornes initiales et finales d'un tronçon (interpolation linéaire)\n",
        "  * DEFAUT_DE_TRONCON : aucun tronçon de la route appariée n'a de bornes permettant d'encadrer le numéro recherché. L'adresse est positionnée sur le tronçon dont les bornes sont le plus proche du numéro recherché\n",
        "* ZONE_D_ADRESSAGE : ni adresse ni tronçon n’ont été trouvés, mais un lieu-dit (ponctuel) ou une zone nommée (ponctuelle) de même nom a été trouvée\n",
        "* COMMUNE : la géolocalisation se fait à la commune\n",
        "* ERR : pas de géolocalisation"
      ],
      "metadata": {
        "id": "orJf89kJsdhj"
      }
    },
    {
      "cell_type": "code",
      "source": [
        "df['precision_localisation'].unique()"
      ],
      "metadata": {
        "colab": {
          "base_uri": "https://localhost:8080/"
        },
        "id": "K9oNB5iRwXcq",
        "outputId": "8b2d3519-4d16-4afa-a600-0228fe713f72"
      },
      "execution_count": null,
      "outputs": [
        {
          "output_type": "execute_result",
          "data": {
            "text/plain": [
              "array(['PLAQUE_ADRESSE', 'NUMERO (ADRESSE)', 'Numéro de rue', 'Rue',\n",
              "       'Ville', None, 'Lieu-dit', 'COMMUNE', 'BATIMENT',\n",
              "       'ENTREE PRINCIPALE', 'NE SAIT PAS', 'CENTRE_PARCELLE_PROJETE',\n",
              "       'ZONE_ADRESSAGE', 'Parfaite', 'MANUEL', 'Moyenne', 'Correcte',\n",
              "       'DEFAUT_DE_NUMERO', 'INTERPOLATION', 'SIMILAIRE', 'Mauvaise'],\n",
              "      dtype=object)"
            ]
          },
          "metadata": {},
          "execution_count": 122
        }
      ]
    },
    {
      "cell_type": "code",
      "source": [
        "# Comptage du nombre de lignes par modalité\n",
        "df.groupby('precision_localisation').size().reset_index(name='Count')"
      ],
      "metadata": {
        "colab": {
          "base_uri": "https://localhost:8080/",
          "height": 677
        },
        "id": "FvhjcNiiwmwh",
        "outputId": "17f593d8-24a1-474e-c2f5-dd9839597a84"
      },
      "execution_count": null,
      "outputs": [
        {
          "output_type": "execute_result",
          "data": {
            "text/plain": [
              "     precision_localisation  Count\n",
              "0                  BATIMENT    520\n",
              "1   CENTRE_PARCELLE_PROJETE      3\n",
              "2                   COMMUNE     10\n",
              "3                  Correcte    133\n",
              "4          DEFAUT_DE_NUMERO      2\n",
              "5         ENTREE PRINCIPALE    240\n",
              "6             INTERPOLATION      1\n",
              "7                  Lieu-dit    273\n",
              "8                    MANUEL     51\n",
              "9                  Mauvaise      1\n",
              "10                  Moyenne     18\n",
              "11              NE SAIT PAS     29\n",
              "12         NUMERO (ADRESSE)     57\n",
              "13            Numéro de rue  50535\n",
              "14           PLAQUE_ADRESSE   3617\n",
              "15                 Parfaite    491\n",
              "16                      Rue  10259\n",
              "17                SIMILAIRE      1\n",
              "18                    Ville   2497\n",
              "19           ZONE_ADRESSAGE      9"
            ],
            "text/html": [
              "\n",
              "  <div id=\"df-ad24b75a-1355-4b3e-8c04-02906f20f6ff\" class=\"colab-df-container\">\n",
              "    <div>\n",
              "<style scoped>\n",
              "    .dataframe tbody tr th:only-of-type {\n",
              "        vertical-align: middle;\n",
              "    }\n",
              "\n",
              "    .dataframe tbody tr th {\n",
              "        vertical-align: top;\n",
              "    }\n",
              "\n",
              "    .dataframe thead th {\n",
              "        text-align: right;\n",
              "    }\n",
              "</style>\n",
              "<table border=\"1\" class=\"dataframe\">\n",
              "  <thead>\n",
              "    <tr style=\"text-align: right;\">\n",
              "      <th></th>\n",
              "      <th>precision_localisation</th>\n",
              "      <th>Count</th>\n",
              "    </tr>\n",
              "  </thead>\n",
              "  <tbody>\n",
              "    <tr>\n",
              "      <th>0</th>\n",
              "      <td>BATIMENT</td>\n",
              "      <td>520</td>\n",
              "    </tr>\n",
              "    <tr>\n",
              "      <th>1</th>\n",
              "      <td>CENTRE_PARCELLE_PROJETE</td>\n",
              "      <td>3</td>\n",
              "    </tr>\n",
              "    <tr>\n",
              "      <th>2</th>\n",
              "      <td>COMMUNE</td>\n",
              "      <td>10</td>\n",
              "    </tr>\n",
              "    <tr>\n",
              "      <th>3</th>\n",
              "      <td>Correcte</td>\n",
              "      <td>133</td>\n",
              "    </tr>\n",
              "    <tr>\n",
              "      <th>4</th>\n",
              "      <td>DEFAUT_DE_NUMERO</td>\n",
              "      <td>2</td>\n",
              "    </tr>\n",
              "    <tr>\n",
              "      <th>5</th>\n",
              "      <td>ENTREE PRINCIPALE</td>\n",
              "      <td>240</td>\n",
              "    </tr>\n",
              "    <tr>\n",
              "      <th>6</th>\n",
              "      <td>INTERPOLATION</td>\n",
              "      <td>1</td>\n",
              "    </tr>\n",
              "    <tr>\n",
              "      <th>7</th>\n",
              "      <td>Lieu-dit</td>\n",
              "      <td>273</td>\n",
              "    </tr>\n",
              "    <tr>\n",
              "      <th>8</th>\n",
              "      <td>MANUEL</td>\n",
              "      <td>51</td>\n",
              "    </tr>\n",
              "    <tr>\n",
              "      <th>9</th>\n",
              "      <td>Mauvaise</td>\n",
              "      <td>1</td>\n",
              "    </tr>\n",
              "    <tr>\n",
              "      <th>10</th>\n",
              "      <td>Moyenne</td>\n",
              "      <td>18</td>\n",
              "    </tr>\n",
              "    <tr>\n",
              "      <th>11</th>\n",
              "      <td>NE SAIT PAS</td>\n",
              "      <td>29</td>\n",
              "    </tr>\n",
              "    <tr>\n",
              "      <th>12</th>\n",
              "      <td>NUMERO (ADRESSE)</td>\n",
              "      <td>57</td>\n",
              "    </tr>\n",
              "    <tr>\n",
              "      <th>13</th>\n",
              "      <td>Numéro de rue</td>\n",
              "      <td>50535</td>\n",
              "    </tr>\n",
              "    <tr>\n",
              "      <th>14</th>\n",
              "      <td>PLAQUE_ADRESSE</td>\n",
              "      <td>3617</td>\n",
              "    </tr>\n",
              "    <tr>\n",
              "      <th>15</th>\n",
              "      <td>Parfaite</td>\n",
              "      <td>491</td>\n",
              "    </tr>\n",
              "    <tr>\n",
              "      <th>16</th>\n",
              "      <td>Rue</td>\n",
              "      <td>10259</td>\n",
              "    </tr>\n",
              "    <tr>\n",
              "      <th>17</th>\n",
              "      <td>SIMILAIRE</td>\n",
              "      <td>1</td>\n",
              "    </tr>\n",
              "    <tr>\n",
              "      <th>18</th>\n",
              "      <td>Ville</td>\n",
              "      <td>2497</td>\n",
              "    </tr>\n",
              "    <tr>\n",
              "      <th>19</th>\n",
              "      <td>ZONE_ADRESSAGE</td>\n",
              "      <td>9</td>\n",
              "    </tr>\n",
              "  </tbody>\n",
              "</table>\n",
              "</div>\n",
              "    <div class=\"colab-df-buttons\">\n",
              "\n",
              "  <div class=\"colab-df-container\">\n",
              "    <button class=\"colab-df-convert\" onclick=\"convertToInteractive('df-ad24b75a-1355-4b3e-8c04-02906f20f6ff')\"\n",
              "            title=\"Convert this dataframe to an interactive table.\"\n",
              "            style=\"display:none;\">\n",
              "\n",
              "  <svg xmlns=\"http://www.w3.org/2000/svg\" height=\"24px\" viewBox=\"0 -960 960 960\">\n",
              "    <path d=\"M120-120v-720h720v720H120Zm60-500h600v-160H180v160Zm220 220h160v-160H400v160Zm0 220h160v-160H400v160ZM180-400h160v-160H180v160Zm440 0h160v-160H620v160ZM180-180h160v-160H180v160Zm440 0h160v-160H620v160Z\"/>\n",
              "  </svg>\n",
              "    </button>\n",
              "\n",
              "  <style>\n",
              "    .colab-df-container {\n",
              "      display:flex;\n",
              "      gap: 12px;\n",
              "    }\n",
              "\n",
              "    .colab-df-convert {\n",
              "      background-color: #E8F0FE;\n",
              "      border: none;\n",
              "      border-radius: 50%;\n",
              "      cursor: pointer;\n",
              "      display: none;\n",
              "      fill: #1967D2;\n",
              "      height: 32px;\n",
              "      padding: 0 0 0 0;\n",
              "      width: 32px;\n",
              "    }\n",
              "\n",
              "    .colab-df-convert:hover {\n",
              "      background-color: #E2EBFA;\n",
              "      box-shadow: 0px 1px 2px rgba(60, 64, 67, 0.3), 0px 1px 3px 1px rgba(60, 64, 67, 0.15);\n",
              "      fill: #174EA6;\n",
              "    }\n",
              "\n",
              "    .colab-df-buttons div {\n",
              "      margin-bottom: 4px;\n",
              "    }\n",
              "\n",
              "    [theme=dark] .colab-df-convert {\n",
              "      background-color: #3B4455;\n",
              "      fill: #D2E3FC;\n",
              "    }\n",
              "\n",
              "    [theme=dark] .colab-df-convert:hover {\n",
              "      background-color: #434B5C;\n",
              "      box-shadow: 0px 1px 3px 1px rgba(0, 0, 0, 0.15);\n",
              "      filter: drop-shadow(0px 1px 2px rgba(0, 0, 0, 0.3));\n",
              "      fill: #FFFFFF;\n",
              "    }\n",
              "  </style>\n",
              "\n",
              "    <script>\n",
              "      const buttonEl =\n",
              "        document.querySelector('#df-ad24b75a-1355-4b3e-8c04-02906f20f6ff button.colab-df-convert');\n",
              "      buttonEl.style.display =\n",
              "        google.colab.kernel.accessAllowed ? 'block' : 'none';\n",
              "\n",
              "      async function convertToInteractive(key) {\n",
              "        const element = document.querySelector('#df-ad24b75a-1355-4b3e-8c04-02906f20f6ff');\n",
              "        const dataTable =\n",
              "          await google.colab.kernel.invokeFunction('convertToInteractive',\n",
              "                                                    [key], {});\n",
              "        if (!dataTable) return;\n",
              "\n",
              "        const docLinkHtml = 'Like what you see? Visit the ' +\n",
              "          '<a target=\"_blank\" href=https://colab.research.google.com/notebooks/data_table.ipynb>data table notebook</a>'\n",
              "          + ' to learn more about interactive tables.';\n",
              "        element.innerHTML = '';\n",
              "        dataTable['output_type'] = 'display_data';\n",
              "        await google.colab.output.renderOutput(dataTable, element);\n",
              "        const docLink = document.createElement('div');\n",
              "        docLink.innerHTML = docLinkHtml;\n",
              "        element.appendChild(docLink);\n",
              "      }\n",
              "    </script>\n",
              "  </div>\n",
              "\n",
              "\n",
              "<div id=\"df-921b6b17-2a95-4970-bacc-86068137936c\">\n",
              "  <button class=\"colab-df-quickchart\" onclick=\"quickchart('df-921b6b17-2a95-4970-bacc-86068137936c')\"\n",
              "            title=\"Suggest charts\"\n",
              "            style=\"display:none;\">\n",
              "\n",
              "<svg xmlns=\"http://www.w3.org/2000/svg\" height=\"24px\"viewBox=\"0 0 24 24\"\n",
              "     width=\"24px\">\n",
              "    <g>\n",
              "        <path d=\"M19 3H5c-1.1 0-2 .9-2 2v14c0 1.1.9 2 2 2h14c1.1 0 2-.9 2-2V5c0-1.1-.9-2-2-2zM9 17H7v-7h2v7zm4 0h-2V7h2v10zm4 0h-2v-4h2v4z\"/>\n",
              "    </g>\n",
              "</svg>\n",
              "  </button>\n",
              "\n",
              "<style>\n",
              "  .colab-df-quickchart {\n",
              "      --bg-color: #E8F0FE;\n",
              "      --fill-color: #1967D2;\n",
              "      --hover-bg-color: #E2EBFA;\n",
              "      --hover-fill-color: #174EA6;\n",
              "      --disabled-fill-color: #AAA;\n",
              "      --disabled-bg-color: #DDD;\n",
              "  }\n",
              "\n",
              "  [theme=dark] .colab-df-quickchart {\n",
              "      --bg-color: #3B4455;\n",
              "      --fill-color: #D2E3FC;\n",
              "      --hover-bg-color: #434B5C;\n",
              "      --hover-fill-color: #FFFFFF;\n",
              "      --disabled-bg-color: #3B4455;\n",
              "      --disabled-fill-color: #666;\n",
              "  }\n",
              "\n",
              "  .colab-df-quickchart {\n",
              "    background-color: var(--bg-color);\n",
              "    border: none;\n",
              "    border-radius: 50%;\n",
              "    cursor: pointer;\n",
              "    display: none;\n",
              "    fill: var(--fill-color);\n",
              "    height: 32px;\n",
              "    padding: 0;\n",
              "    width: 32px;\n",
              "  }\n",
              "\n",
              "  .colab-df-quickchart:hover {\n",
              "    background-color: var(--hover-bg-color);\n",
              "    box-shadow: 0 1px 2px rgba(60, 64, 67, 0.3), 0 1px 3px 1px rgba(60, 64, 67, 0.15);\n",
              "    fill: var(--button-hover-fill-color);\n",
              "  }\n",
              "\n",
              "  .colab-df-quickchart-complete:disabled,\n",
              "  .colab-df-quickchart-complete:disabled:hover {\n",
              "    background-color: var(--disabled-bg-color);\n",
              "    fill: var(--disabled-fill-color);\n",
              "    box-shadow: none;\n",
              "  }\n",
              "\n",
              "  .colab-df-spinner {\n",
              "    border: 2px solid var(--fill-color);\n",
              "    border-color: transparent;\n",
              "    border-bottom-color: var(--fill-color);\n",
              "    animation:\n",
              "      spin 1s steps(1) infinite;\n",
              "  }\n",
              "\n",
              "  @keyframes spin {\n",
              "    0% {\n",
              "      border-color: transparent;\n",
              "      border-bottom-color: var(--fill-color);\n",
              "      border-left-color: var(--fill-color);\n",
              "    }\n",
              "    20% {\n",
              "      border-color: transparent;\n",
              "      border-left-color: var(--fill-color);\n",
              "      border-top-color: var(--fill-color);\n",
              "    }\n",
              "    30% {\n",
              "      border-color: transparent;\n",
              "      border-left-color: var(--fill-color);\n",
              "      border-top-color: var(--fill-color);\n",
              "      border-right-color: var(--fill-color);\n",
              "    }\n",
              "    40% {\n",
              "      border-color: transparent;\n",
              "      border-right-color: var(--fill-color);\n",
              "      border-top-color: var(--fill-color);\n",
              "    }\n",
              "    60% {\n",
              "      border-color: transparent;\n",
              "      border-right-color: var(--fill-color);\n",
              "    }\n",
              "    80% {\n",
              "      border-color: transparent;\n",
              "      border-right-color: var(--fill-color);\n",
              "      border-bottom-color: var(--fill-color);\n",
              "    }\n",
              "    90% {\n",
              "      border-color: transparent;\n",
              "      border-bottom-color: var(--fill-color);\n",
              "    }\n",
              "  }\n",
              "</style>\n",
              "\n",
              "  <script>\n",
              "    async function quickchart(key) {\n",
              "      const quickchartButtonEl =\n",
              "        document.querySelector('#' + key + ' button');\n",
              "      quickchartButtonEl.disabled = true;  // To prevent multiple clicks.\n",
              "      quickchartButtonEl.classList.add('colab-df-spinner');\n",
              "      try {\n",
              "        const charts = await google.colab.kernel.invokeFunction(\n",
              "            'suggestCharts', [key], {});\n",
              "      } catch (error) {\n",
              "        console.error('Error during call to suggestCharts:', error);\n",
              "      }\n",
              "      quickchartButtonEl.classList.remove('colab-df-spinner');\n",
              "      quickchartButtonEl.classList.add('colab-df-quickchart-complete');\n",
              "    }\n",
              "    (() => {\n",
              "      let quickchartButtonEl =\n",
              "        document.querySelector('#df-921b6b17-2a95-4970-bacc-86068137936c button');\n",
              "      quickchartButtonEl.style.display =\n",
              "        google.colab.kernel.accessAllowed ? 'block' : 'none';\n",
              "    })();\n",
              "  </script>\n",
              "</div>\n",
              "\n",
              "    </div>\n",
              "  </div>\n"
            ],
            "application/vnd.google.colaboratory.intrinsic+json": {
              "type": "dataframe",
              "summary": "{\n  \"name\": \"df\",\n  \"rows\": 20,\n  \"fields\": [\n    {\n      \"column\": \"precision_localisation\",\n      \"properties\": {\n        \"dtype\": \"string\",\n        \"num_unique_values\": 20,\n        \"samples\": [\n          \"BATIMENT\",\n          \"SIMILAIRE\",\n          \"Parfaite\"\n        ],\n        \"semantic_type\": \"\",\n        \"description\": \"\"\n      }\n    },\n    {\n      \"column\": \"Count\",\n      \"properties\": {\n        \"dtype\": \"number\",\n        \"std\": 11338,\n        \"min\": 1,\n        \"max\": 50535,\n        \"num_unique_values\": 18,\n        \"samples\": [\n          520,\n          3,\n          51\n        ],\n        \"semantic_type\": \"\",\n        \"description\": \"\"\n      }\n    }\n  ]\n}"
            }
          },
          "metadata": {},
          "execution_count": 125
        }
      ]
    },
    {
      "cell_type": "code",
      "source": [
        "# Colonne precision_localisation : valeurs non conformes à la doc\n",
        "# -> peut être utilisée, ou inutile ?\n",
        "# TODO"
      ],
      "metadata": {
        "id": "WE2l4sQ_bR1y"
      },
      "execution_count": null,
      "outputs": []
    },
    {
      "cell_type": "markdown",
      "source": [
        "#### <ins>code_zone_animation_pedagogique</ins> et <ins>libelle_zone_animation_pedagogique</ins>"
      ],
      "metadata": {
        "id": "MNam_HD2xlJY"
      }
    },
    {
      "cell_type": "code",
      "source": [
        "val1 = 'code_zone_animation_pedagogique'\n",
        "val2 = 'libelle_zone_animation_pedagogique'\n",
        "print(f\"Nombre de valeurs uniques pour {val1} : {len(df[val1].unique())}\")\n",
        "print(f\"Nombre de valeurs uniques pour {val2} : {len(df[val2].unique())}\")"
      ],
      "metadata": {
        "id": "hruw9VsBw4O_",
        "colab": {
          "base_uri": "https://localhost:8080/"
        },
        "outputId": "3b007fc4-be77-4dd7-d37f-ca4d9c7680cf"
      },
      "execution_count": null,
      "outputs": [
        {
          "output_type": "stream",
          "name": "stdout",
          "text": [
            "Nombre de valeurs uniques pour code_zone_animation_pedagogique : 376\n",
            "Nombre de valeurs uniques pour libelle_zone_animation_pedagogique : 353\n"
          ]
        }
      ]
    },
    {
      "cell_type": "code",
      "source": [
        "# Si utilisées, effectuer la mise en cohérence"
      ],
      "metadata": {
        "id": "QPH1nfZgzHa9"
      },
      "execution_count": null,
      "outputs": []
    },
    {
      "cell_type": "markdown",
      "source": [
        "#### <ins>code_bassin_formation</ins> et <ins>libelle_bassin_formation</ins>"
      ],
      "metadata": {
        "id": "veXQg3KLzOJo"
      }
    },
    {
      "cell_type": "code",
      "source": [
        "val1 = 'code_bassin_formation'\n",
        "val2 = 'libelle_bassin_formation'\n",
        "print(f\"Nombre de valeurs uniques pour {val1} : {len(df[val1].unique())}\")\n",
        "print(f\"Nombre de valeurs uniques pour {val2} : {len(df[val2].unique())}\")"
      ],
      "metadata": {
        "colab": {
          "base_uri": "https://localhost:8080/"
        },
        "id": "dXnC8tEBzUOU",
        "outputId": "71ff6406-de6a-49c8-c3e3-22abeec34225"
      },
      "execution_count": null,
      "outputs": [
        {
          "output_type": "stream",
          "name": "stdout",
          "text": [
            "Nombre de valeurs uniques pour code_bassin_formation : 365\n",
            "Nombre de valeurs uniques pour libelle_bassin_formation : 364\n"
          ]
        }
      ]
    },
    {
      "cell_type": "code",
      "source": [
        "# Si utilisées, effectuer la mise en cohérence"
      ],
      "metadata": {
        "id": "Zy-b-D-Xw2dH"
      },
      "execution_count": null,
      "outputs": []
    },
    {
      "cell_type": "markdown",
      "source": [
        "### Feature selection / feature engineering"
      ],
      "metadata": {
        "id": "ZLgYeiHLUd3f"
      }
    },
    {
      "cell_type": "code",
      "source": [
        "# Copie du df avant modification\n",
        "df_feat = df.copy()"
      ],
      "metadata": {
        "id": "UXpR5MQKzgMa"
      },
      "execution_count": null,
      "outputs": []
    },
    {
      "cell_type": "markdown",
      "source": [
        "#### <ins>type_etablissement</ins>"
      ],
      "metadata": {
        "id": "7vlSOFrF2A2d"
      }
    },
    {
      "cell_type": "code",
      "source": [
        "df_feat['type_etablissement'].unique()"
      ],
      "metadata": {
        "colab": {
          "base_uri": "https://localhost:8080/"
        },
        "id": "pkcIwQ-42Gt6",
        "outputId": "3cb361a9-f08c-4382-ca8d-9e668c31f431"
      },
      "execution_count": null,
      "outputs": [
        {
          "output_type": "execute_result",
          "data": {
            "text/plain": [
              "array(['Ecole', 'Collège', 'Lycée', 'EREA', 'Autre', 'Médico-social',\n",
              "       'Information et orientation', 'Service Administratif', None],\n",
              "      dtype=object)"
            ]
          },
          "metadata": {},
          "execution_count": 130
        }
      ]
    },
    {
      "cell_type": "code",
      "source": [
        "# TODO : sélection sur certaines valeurs uniquement ?"
      ],
      "metadata": {
        "id": "IFKhgv-y2i1n"
      },
      "execution_count": null,
      "outputs": []
    },
    {
      "cell_type": "markdown",
      "source": [
        "#### <ins>date_ouverture</ins>"
      ],
      "metadata": {
        "id": "pzAej87o25wl"
      }
    },
    {
      "cell_type": "code",
      "source": [
        "print(f\"Plus ancienne date d'ouverture : {df_feat['date_ouverture'].min()}\")\n",
        "print(f\"Plus récente date d'ouverture : {df_feat['date_ouverture'].max()}\")"
      ],
      "metadata": {
        "colab": {
          "base_uri": "https://localhost:8080/"
        },
        "id": "Iej-pGQF2_CR",
        "outputId": "f9a92c11-0208-4d11-db4f-7aa8309aa0d1"
      },
      "execution_count": null,
      "outputs": [
        {
          "output_type": "stream",
          "name": "stdout",
          "text": [
            "Plus ancienne date d'ouverture : 1901-01-01\n",
            "Plus récente date d'ouverture : 2025-01-27\n"
          ]
        }
      ]
    },
    {
      "cell_type": "code",
      "source": [
        "# TODO : vérifier les dates les plus anciennes, 1901-01-01 ressemble à un ne-sait-pas"
      ],
      "metadata": {
        "id": "rrU5ii3C3WRA"
      },
      "execution_count": null,
      "outputs": []
    },
    {
      "cell_type": "code",
      "source": [
        "# A utiliser tel quel, ou convertir au format date ? Ou créer colonnes année/mois/jour ?"
      ],
      "metadata": {
        "id": "4-xrmJV83d_W"
      },
      "execution_count": null,
      "outputs": []
    },
    {
      "cell_type": "markdown",
      "source": [
        "#### <ins>date_maj_ligne</ins>"
      ],
      "metadata": {
        "id": "JsMhMeUV3sPO"
      }
    },
    {
      "cell_type": "code",
      "source": [
        "df_feat['date_maj_ligne'].unique()"
      ],
      "metadata": {
        "colab": {
          "base_uri": "https://localhost:8080/"
        },
        "id": "k_n2KNa-3vJS",
        "outputId": "9fbf84f1-a9bf-4b29-ccb1-604409895315"
      },
      "execution_count": null,
      "outputs": [
        {
          "output_type": "execute_result",
          "data": {
            "text/plain": [
              "array(['2025-01-28'], dtype=object)"
            ]
          },
          "metadata": {},
          "execution_count": 133
        }
      ]
    },
    {
      "cell_type": "code",
      "source": [
        "# TODO : stocker dans une variable, puis supprimer la colonne du dataframe"
      ],
      "metadata": {
        "id": "N36-w0JR34Ek"
      },
      "execution_count": null,
      "outputs": []
    },
    {
      "cell_type": "code",
      "source": [
        "# Colonne type_etablissement : ne prendre que Ecole / Collège / Lycée ?\n",
        "\n",
        "# Utilité adresse_1, adresse_2, adresse_3 ?\n",
        "# vérif si doublon entre adresse_3 et code_postal ?\n",
        "\n",
        "# Vérifier cohérence entre code_commune et code_departement\n",
        "# + différencier \"France\", Corse et outre-mer ?\n",
        "\n",
        "# Utilité binaires suivants ? (ajoutés dans col_pour_viz pour le moment) : ecole_maternelle, ecole_elementaire,\n",
        "# voie_generale, voie_technologique, voie_professionnelle, restauration, hebergement, ulis, apprentissage, segpa,\n",
        "# section_arts, section_cinema, section_theatre, section_sport, section_internationale, section_europeenne,\n",
        "# lycee_agricole, lycee_militaire, lycee_des_metiers, post_bac, greta, rpi_concentre\n",
        "\n",
        "# Colonne nombre_d_eleves : regrouper en tranches ?\n",
        "\n",
        "# Comment utiliser colonnes suivantes ? :\n",
        "#- position\n",
        "#- coordx_origine, coordy_origine, epsg_origine\n",
        "#- latitude, longitude\n",
        "#- TODO : vérifier cohérence entre position et lat/long\n",
        "\n",
        "# Colonnes type_contrat_prive et code_type_contrat_prive : quézako ? utilité ?\n",
        "# => supprimées en attente d'informations\n",
        "\n",
        "# Utilité colonne rpi_disperse ?\n",
        "# => supprimé en attente d'informations\n",
        "\n",
        "# Utilité colonnes code_nature et libelle_nature ?\n",
        "# => supprimées en attente d'informations"
      ],
      "metadata": {
        "id": "1AwcmucSUi96"
      },
      "execution_count": null,
      "outputs": []
    },
    {
      "cell_type": "code",
      "source": [
        "# Colonnes non utilisées (PII ou autre)\n",
        "# TODO : à confirmer, sinon stocker dans autre table\n",
        "col_to_remove = [\n",
        "    'telephone', 'fax', 'web', 'mail', 'siren_siret', 'fiche_onisep',\n",
        "    'type_contrat_prive', 'date_maj_ligne', 'ministere_tutelle',\n",
        "    'rpi_disperse', 'code_nature', 'libelle_nature', 'code_type_contrat_prive'\n",
        "]"
      ],
      "metadata": {
        "id": "-H8nABa3jONz"
      },
      "execution_count": null,
      "outputs": []
    },
    {
      "cell_type": "code",
      "source": [
        "# Créer 2eme table pour viz uniquement ? Jointure sur ID_etablissement\n",
        "col_pour_viz = [\n",
        "    'nom_etablissement', 'statut_public_prive', 'adresse_1', 'adresse_2',\n",
        "    'adresse_3', 'code_postal', 'code_commune', 'nom_commune', 'code_academie',\n",
        "    'code_region', 'appartenance_education_prioritaire', 'libelle_departement',\n",
        "    'libelle_academie', 'libelle_region', 'nom_circonscription', 'etat', 'pial',\n",
        "    'etablissement_mere', 'type_rattachement_etablissement_mere',\n",
        "    'code_circonscription', 'code_zone_animation_pedagogique',\n",
        "    'libelle_zone_animation_pedagogique', 'code_bassin_formation',\n",
        "    'libelle_bassin_formation'\n",
        "]"
      ],
      "metadata": {
        "id": "tSTVkDVLUsk8"
      },
      "execution_count": null,
      "outputs": []
    },
    {
      "cell_type": "code",
      "source": [
        "# En attendant confirmation, j'ajoute ces binaires suivants dans la table de viz\n",
        "col_pour_viz.extend([\n",
        "    'ecole_maternelle', 'ecole_elementaire', 'voie_generale',\n",
        "    'voie_technologique', 'voie_professionnelle', 'restauration', 'hebergement',\n",
        "    'ulis', 'apprentissage', 'segpa', 'section_arts', 'section_cinema',\n",
        "    'section_theatre', 'section_sport', 'section_internationale',\n",
        "    'section_europeenne', 'lycee_agricole', 'lycee_militaire',\n",
        "    'lycee_des_metiers', 'post_bac', 'greta', 'rpi_concentre'\n",
        "])"
      ],
      "metadata": {
        "id": "UheRm3MYi3mH"
      },
      "execution_count": null,
      "outputs": []
    },
    {
      "cell_type": "markdown",
      "source": [
        "### Sélection des données pour la POC (93)\n",
        "* v0 : 1 commune du 93\n",
        "* v1 : l'ensemble du 93\n",
        "* v2 : 93 + 1 département rural\n",
        "* v3 : l'ensemble de la France"
      ],
      "metadata": {
        "id": "-zlDSu-ZkKim"
      }
    },
    {
      "cell_type": "code",
      "source": [
        "# v0 : liste des communes du 93, je compte le nombre de lignes par commune\n",
        "df_feat[df_feat['code_departement']=='093'].groupby('nom_commune').size().reset_index(name='Count')"
      ],
      "metadata": {
        "colab": {
          "base_uri": "https://localhost:8080/",
          "height": 1000
        },
        "id": "oZemlGip7jLM",
        "outputId": "d126c40a-2073-4299-d09a-1e94ddf91855"
      },
      "execution_count": null,
      "outputs": [
        {
          "output_type": "execute_result",
          "data": {
            "text/plain": [
              "                nom_commune  Count\n",
              "0             Aubervilliers     61\n",
              "1          Aulnay-sous-Bois     83\n",
              "2                  Bagnolet     30\n",
              "3                   Bobigny     59\n",
              "4                     Bondy     48\n",
              "5          Clichy-sous-Bois     36\n",
              "6                   Coubron      4\n",
              "7                    Drancy     55\n",
              "8                     Dugny     15\n",
              "9          Epinay-sur-Seine     48\n",
              "10                    Gagny     33\n",
              "11        Gournay-sur-Marne      4\n",
              "12        L'Ile-Saint-Denis      6\n",
              "13             La Courneuve     35\n",
              "14          Le Blanc-Mesnil     50\n",
              "15               Le Bourget     12\n",
              "16     Le Pré-Saint-Gervais     13\n",
              "17                Le Raincy     24\n",
              "18                Les Lilas     14\n",
              "19  Les Pavillons-sous-Bois     19\n",
              "20             Livry-Gargan     33\n",
              "21              Montfermeil     22\n",
              "22                Montreuil     95\n",
              "23        Neuilly-Plaisance     14\n",
              "24        Neuilly-sur-Marne     30\n",
              "25           Noisy-le-Grand     71\n",
              "26             Noisy-le-Sec     35\n",
              "27                   Pantin     49\n",
              "28    Pierrefitte-sur-Seine     23\n",
              "29              Romainville     23\n",
              "30          Rosny-sous-Bois     34\n",
              "31              Saint-Denis    108\n",
              "32               Saint-Ouen      5\n",
              "33     Saint-Ouen-sur-Seine     32\n",
              "34                   Sevran     47\n",
              "35                   Stains     42\n",
              "36       Tremblay-en-France     39\n",
              "37                 Vaujours      8\n",
              "38              Villemomble     24\n",
              "39               Villepinte     38\n",
              "40             Villetaneuse     11"
            ],
            "text/html": [
              "\n",
              "  <div id=\"df-d725b48f-eb40-415a-884b-2d4ddf159fcf\" class=\"colab-df-container\">\n",
              "    <div>\n",
              "<style scoped>\n",
              "    .dataframe tbody tr th:only-of-type {\n",
              "        vertical-align: middle;\n",
              "    }\n",
              "\n",
              "    .dataframe tbody tr th {\n",
              "        vertical-align: top;\n",
              "    }\n",
              "\n",
              "    .dataframe thead th {\n",
              "        text-align: right;\n",
              "    }\n",
              "</style>\n",
              "<table border=\"1\" class=\"dataframe\">\n",
              "  <thead>\n",
              "    <tr style=\"text-align: right;\">\n",
              "      <th></th>\n",
              "      <th>nom_commune</th>\n",
              "      <th>Count</th>\n",
              "    </tr>\n",
              "  </thead>\n",
              "  <tbody>\n",
              "    <tr>\n",
              "      <th>0</th>\n",
              "      <td>Aubervilliers</td>\n",
              "      <td>61</td>\n",
              "    </tr>\n",
              "    <tr>\n",
              "      <th>1</th>\n",
              "      <td>Aulnay-sous-Bois</td>\n",
              "      <td>83</td>\n",
              "    </tr>\n",
              "    <tr>\n",
              "      <th>2</th>\n",
              "      <td>Bagnolet</td>\n",
              "      <td>30</td>\n",
              "    </tr>\n",
              "    <tr>\n",
              "      <th>3</th>\n",
              "      <td>Bobigny</td>\n",
              "      <td>59</td>\n",
              "    </tr>\n",
              "    <tr>\n",
              "      <th>4</th>\n",
              "      <td>Bondy</td>\n",
              "      <td>48</td>\n",
              "    </tr>\n",
              "    <tr>\n",
              "      <th>5</th>\n",
              "      <td>Clichy-sous-Bois</td>\n",
              "      <td>36</td>\n",
              "    </tr>\n",
              "    <tr>\n",
              "      <th>6</th>\n",
              "      <td>Coubron</td>\n",
              "      <td>4</td>\n",
              "    </tr>\n",
              "    <tr>\n",
              "      <th>7</th>\n",
              "      <td>Drancy</td>\n",
              "      <td>55</td>\n",
              "    </tr>\n",
              "    <tr>\n",
              "      <th>8</th>\n",
              "      <td>Dugny</td>\n",
              "      <td>15</td>\n",
              "    </tr>\n",
              "    <tr>\n",
              "      <th>9</th>\n",
              "      <td>Epinay-sur-Seine</td>\n",
              "      <td>48</td>\n",
              "    </tr>\n",
              "    <tr>\n",
              "      <th>10</th>\n",
              "      <td>Gagny</td>\n",
              "      <td>33</td>\n",
              "    </tr>\n",
              "    <tr>\n",
              "      <th>11</th>\n",
              "      <td>Gournay-sur-Marne</td>\n",
              "      <td>4</td>\n",
              "    </tr>\n",
              "    <tr>\n",
              "      <th>12</th>\n",
              "      <td>L'Ile-Saint-Denis</td>\n",
              "      <td>6</td>\n",
              "    </tr>\n",
              "    <tr>\n",
              "      <th>13</th>\n",
              "      <td>La Courneuve</td>\n",
              "      <td>35</td>\n",
              "    </tr>\n",
              "    <tr>\n",
              "      <th>14</th>\n",
              "      <td>Le Blanc-Mesnil</td>\n",
              "      <td>50</td>\n",
              "    </tr>\n",
              "    <tr>\n",
              "      <th>15</th>\n",
              "      <td>Le Bourget</td>\n",
              "      <td>12</td>\n",
              "    </tr>\n",
              "    <tr>\n",
              "      <th>16</th>\n",
              "      <td>Le Pré-Saint-Gervais</td>\n",
              "      <td>13</td>\n",
              "    </tr>\n",
              "    <tr>\n",
              "      <th>17</th>\n",
              "      <td>Le Raincy</td>\n",
              "      <td>24</td>\n",
              "    </tr>\n",
              "    <tr>\n",
              "      <th>18</th>\n",
              "      <td>Les Lilas</td>\n",
              "      <td>14</td>\n",
              "    </tr>\n",
              "    <tr>\n",
              "      <th>19</th>\n",
              "      <td>Les Pavillons-sous-Bois</td>\n",
              "      <td>19</td>\n",
              "    </tr>\n",
              "    <tr>\n",
              "      <th>20</th>\n",
              "      <td>Livry-Gargan</td>\n",
              "      <td>33</td>\n",
              "    </tr>\n",
              "    <tr>\n",
              "      <th>21</th>\n",
              "      <td>Montfermeil</td>\n",
              "      <td>22</td>\n",
              "    </tr>\n",
              "    <tr>\n",
              "      <th>22</th>\n",
              "      <td>Montreuil</td>\n",
              "      <td>95</td>\n",
              "    </tr>\n",
              "    <tr>\n",
              "      <th>23</th>\n",
              "      <td>Neuilly-Plaisance</td>\n",
              "      <td>14</td>\n",
              "    </tr>\n",
              "    <tr>\n",
              "      <th>24</th>\n",
              "      <td>Neuilly-sur-Marne</td>\n",
              "      <td>30</td>\n",
              "    </tr>\n",
              "    <tr>\n",
              "      <th>25</th>\n",
              "      <td>Noisy-le-Grand</td>\n",
              "      <td>71</td>\n",
              "    </tr>\n",
              "    <tr>\n",
              "      <th>26</th>\n",
              "      <td>Noisy-le-Sec</td>\n",
              "      <td>35</td>\n",
              "    </tr>\n",
              "    <tr>\n",
              "      <th>27</th>\n",
              "      <td>Pantin</td>\n",
              "      <td>49</td>\n",
              "    </tr>\n",
              "    <tr>\n",
              "      <th>28</th>\n",
              "      <td>Pierrefitte-sur-Seine</td>\n",
              "      <td>23</td>\n",
              "    </tr>\n",
              "    <tr>\n",
              "      <th>29</th>\n",
              "      <td>Romainville</td>\n",
              "      <td>23</td>\n",
              "    </tr>\n",
              "    <tr>\n",
              "      <th>30</th>\n",
              "      <td>Rosny-sous-Bois</td>\n",
              "      <td>34</td>\n",
              "    </tr>\n",
              "    <tr>\n",
              "      <th>31</th>\n",
              "      <td>Saint-Denis</td>\n",
              "      <td>108</td>\n",
              "    </tr>\n",
              "    <tr>\n",
              "      <th>32</th>\n",
              "      <td>Saint-Ouen</td>\n",
              "      <td>5</td>\n",
              "    </tr>\n",
              "    <tr>\n",
              "      <th>33</th>\n",
              "      <td>Saint-Ouen-sur-Seine</td>\n",
              "      <td>32</td>\n",
              "    </tr>\n",
              "    <tr>\n",
              "      <th>34</th>\n",
              "      <td>Sevran</td>\n",
              "      <td>47</td>\n",
              "    </tr>\n",
              "    <tr>\n",
              "      <th>35</th>\n",
              "      <td>Stains</td>\n",
              "      <td>42</td>\n",
              "    </tr>\n",
              "    <tr>\n",
              "      <th>36</th>\n",
              "      <td>Tremblay-en-France</td>\n",
              "      <td>39</td>\n",
              "    </tr>\n",
              "    <tr>\n",
              "      <th>37</th>\n",
              "      <td>Vaujours</td>\n",
              "      <td>8</td>\n",
              "    </tr>\n",
              "    <tr>\n",
              "      <th>38</th>\n",
              "      <td>Villemomble</td>\n",
              "      <td>24</td>\n",
              "    </tr>\n",
              "    <tr>\n",
              "      <th>39</th>\n",
              "      <td>Villepinte</td>\n",
              "      <td>38</td>\n",
              "    </tr>\n",
              "    <tr>\n",
              "      <th>40</th>\n",
              "      <td>Villetaneuse</td>\n",
              "      <td>11</td>\n",
              "    </tr>\n",
              "  </tbody>\n",
              "</table>\n",
              "</div>\n",
              "    <div class=\"colab-df-buttons\">\n",
              "\n",
              "  <div class=\"colab-df-container\">\n",
              "    <button class=\"colab-df-convert\" onclick=\"convertToInteractive('df-d725b48f-eb40-415a-884b-2d4ddf159fcf')\"\n",
              "            title=\"Convert this dataframe to an interactive table.\"\n",
              "            style=\"display:none;\">\n",
              "\n",
              "  <svg xmlns=\"http://www.w3.org/2000/svg\" height=\"24px\" viewBox=\"0 -960 960 960\">\n",
              "    <path d=\"M120-120v-720h720v720H120Zm60-500h600v-160H180v160Zm220 220h160v-160H400v160Zm0 220h160v-160H400v160ZM180-400h160v-160H180v160Zm440 0h160v-160H620v160ZM180-180h160v-160H180v160Zm440 0h160v-160H620v160Z\"/>\n",
              "  </svg>\n",
              "    </button>\n",
              "\n",
              "  <style>\n",
              "    .colab-df-container {\n",
              "      display:flex;\n",
              "      gap: 12px;\n",
              "    }\n",
              "\n",
              "    .colab-df-convert {\n",
              "      background-color: #E8F0FE;\n",
              "      border: none;\n",
              "      border-radius: 50%;\n",
              "      cursor: pointer;\n",
              "      display: none;\n",
              "      fill: #1967D2;\n",
              "      height: 32px;\n",
              "      padding: 0 0 0 0;\n",
              "      width: 32px;\n",
              "    }\n",
              "\n",
              "    .colab-df-convert:hover {\n",
              "      background-color: #E2EBFA;\n",
              "      box-shadow: 0px 1px 2px rgba(60, 64, 67, 0.3), 0px 1px 3px 1px rgba(60, 64, 67, 0.15);\n",
              "      fill: #174EA6;\n",
              "    }\n",
              "\n",
              "    .colab-df-buttons div {\n",
              "      margin-bottom: 4px;\n",
              "    }\n",
              "\n",
              "    [theme=dark] .colab-df-convert {\n",
              "      background-color: #3B4455;\n",
              "      fill: #D2E3FC;\n",
              "    }\n",
              "\n",
              "    [theme=dark] .colab-df-convert:hover {\n",
              "      background-color: #434B5C;\n",
              "      box-shadow: 0px 1px 3px 1px rgba(0, 0, 0, 0.15);\n",
              "      filter: drop-shadow(0px 1px 2px rgba(0, 0, 0, 0.3));\n",
              "      fill: #FFFFFF;\n",
              "    }\n",
              "  </style>\n",
              "\n",
              "    <script>\n",
              "      const buttonEl =\n",
              "        document.querySelector('#df-d725b48f-eb40-415a-884b-2d4ddf159fcf button.colab-df-convert');\n",
              "      buttonEl.style.display =\n",
              "        google.colab.kernel.accessAllowed ? 'block' : 'none';\n",
              "\n",
              "      async function convertToInteractive(key) {\n",
              "        const element = document.querySelector('#df-d725b48f-eb40-415a-884b-2d4ddf159fcf');\n",
              "        const dataTable =\n",
              "          await google.colab.kernel.invokeFunction('convertToInteractive',\n",
              "                                                    [key], {});\n",
              "        if (!dataTable) return;\n",
              "\n",
              "        const docLinkHtml = 'Like what you see? Visit the ' +\n",
              "          '<a target=\"_blank\" href=https://colab.research.google.com/notebooks/data_table.ipynb>data table notebook</a>'\n",
              "          + ' to learn more about interactive tables.';\n",
              "        element.innerHTML = '';\n",
              "        dataTable['output_type'] = 'display_data';\n",
              "        await google.colab.output.renderOutput(dataTable, element);\n",
              "        const docLink = document.createElement('div');\n",
              "        docLink.innerHTML = docLinkHtml;\n",
              "        element.appendChild(docLink);\n",
              "      }\n",
              "    </script>\n",
              "  </div>\n",
              "\n",
              "\n",
              "<div id=\"df-c210fa02-6264-4ff2-ac77-1034793b7af9\">\n",
              "  <button class=\"colab-df-quickchart\" onclick=\"quickchart('df-c210fa02-6264-4ff2-ac77-1034793b7af9')\"\n",
              "            title=\"Suggest charts\"\n",
              "            style=\"display:none;\">\n",
              "\n",
              "<svg xmlns=\"http://www.w3.org/2000/svg\" height=\"24px\"viewBox=\"0 0 24 24\"\n",
              "     width=\"24px\">\n",
              "    <g>\n",
              "        <path d=\"M19 3H5c-1.1 0-2 .9-2 2v14c0 1.1.9 2 2 2h14c1.1 0 2-.9 2-2V5c0-1.1-.9-2-2-2zM9 17H7v-7h2v7zm4 0h-2V7h2v10zm4 0h-2v-4h2v4z\"/>\n",
              "    </g>\n",
              "</svg>\n",
              "  </button>\n",
              "\n",
              "<style>\n",
              "  .colab-df-quickchart {\n",
              "      --bg-color: #E8F0FE;\n",
              "      --fill-color: #1967D2;\n",
              "      --hover-bg-color: #E2EBFA;\n",
              "      --hover-fill-color: #174EA6;\n",
              "      --disabled-fill-color: #AAA;\n",
              "      --disabled-bg-color: #DDD;\n",
              "  }\n",
              "\n",
              "  [theme=dark] .colab-df-quickchart {\n",
              "      --bg-color: #3B4455;\n",
              "      --fill-color: #D2E3FC;\n",
              "      --hover-bg-color: #434B5C;\n",
              "      --hover-fill-color: #FFFFFF;\n",
              "      --disabled-bg-color: #3B4455;\n",
              "      --disabled-fill-color: #666;\n",
              "  }\n",
              "\n",
              "  .colab-df-quickchart {\n",
              "    background-color: var(--bg-color);\n",
              "    border: none;\n",
              "    border-radius: 50%;\n",
              "    cursor: pointer;\n",
              "    display: none;\n",
              "    fill: var(--fill-color);\n",
              "    height: 32px;\n",
              "    padding: 0;\n",
              "    width: 32px;\n",
              "  }\n",
              "\n",
              "  .colab-df-quickchart:hover {\n",
              "    background-color: var(--hover-bg-color);\n",
              "    box-shadow: 0 1px 2px rgba(60, 64, 67, 0.3), 0 1px 3px 1px rgba(60, 64, 67, 0.15);\n",
              "    fill: var(--button-hover-fill-color);\n",
              "  }\n",
              "\n",
              "  .colab-df-quickchart-complete:disabled,\n",
              "  .colab-df-quickchart-complete:disabled:hover {\n",
              "    background-color: var(--disabled-bg-color);\n",
              "    fill: var(--disabled-fill-color);\n",
              "    box-shadow: none;\n",
              "  }\n",
              "\n",
              "  .colab-df-spinner {\n",
              "    border: 2px solid var(--fill-color);\n",
              "    border-color: transparent;\n",
              "    border-bottom-color: var(--fill-color);\n",
              "    animation:\n",
              "      spin 1s steps(1) infinite;\n",
              "  }\n",
              "\n",
              "  @keyframes spin {\n",
              "    0% {\n",
              "      border-color: transparent;\n",
              "      border-bottom-color: var(--fill-color);\n",
              "      border-left-color: var(--fill-color);\n",
              "    }\n",
              "    20% {\n",
              "      border-color: transparent;\n",
              "      border-left-color: var(--fill-color);\n",
              "      border-top-color: var(--fill-color);\n",
              "    }\n",
              "    30% {\n",
              "      border-color: transparent;\n",
              "      border-left-color: var(--fill-color);\n",
              "      border-top-color: var(--fill-color);\n",
              "      border-right-color: var(--fill-color);\n",
              "    }\n",
              "    40% {\n",
              "      border-color: transparent;\n",
              "      border-right-color: var(--fill-color);\n",
              "      border-top-color: var(--fill-color);\n",
              "    }\n",
              "    60% {\n",
              "      border-color: transparent;\n",
              "      border-right-color: var(--fill-color);\n",
              "    }\n",
              "    80% {\n",
              "      border-color: transparent;\n",
              "      border-right-color: var(--fill-color);\n",
              "      border-bottom-color: var(--fill-color);\n",
              "    }\n",
              "    90% {\n",
              "      border-color: transparent;\n",
              "      border-bottom-color: var(--fill-color);\n",
              "    }\n",
              "  }\n",
              "</style>\n",
              "\n",
              "  <script>\n",
              "    async function quickchart(key) {\n",
              "      const quickchartButtonEl =\n",
              "        document.querySelector('#' + key + ' button');\n",
              "      quickchartButtonEl.disabled = true;  // To prevent multiple clicks.\n",
              "      quickchartButtonEl.classList.add('colab-df-spinner');\n",
              "      try {\n",
              "        const charts = await google.colab.kernel.invokeFunction(\n",
              "            'suggestCharts', [key], {});\n",
              "      } catch (error) {\n",
              "        console.error('Error during call to suggestCharts:', error);\n",
              "      }\n",
              "      quickchartButtonEl.classList.remove('colab-df-spinner');\n",
              "      quickchartButtonEl.classList.add('colab-df-quickchart-complete');\n",
              "    }\n",
              "    (() => {\n",
              "      let quickchartButtonEl =\n",
              "        document.querySelector('#df-c210fa02-6264-4ff2-ac77-1034793b7af9 button');\n",
              "      quickchartButtonEl.style.display =\n",
              "        google.colab.kernel.accessAllowed ? 'block' : 'none';\n",
              "    })();\n",
              "  </script>\n",
              "</div>\n",
              "\n",
              "    </div>\n",
              "  </div>\n"
            ],
            "application/vnd.google.colaboratory.intrinsic+json": {
              "type": "dataframe",
              "summary": "{\n  \"name\": \"df_feat[df_feat['code_departement']=='093']\",\n  \"rows\": 41,\n  \"fields\": [\n    {\n      \"column\": \"nom_commune\",\n      \"properties\": {\n        \"dtype\": \"string\",\n        \"num_unique_values\": 41,\n        \"samples\": [\n          \"Neuilly-sur-Marne\",\n          \"La Courneuve\",\n          \"Dugny\"\n        ],\n        \"semantic_type\": \"\",\n        \"description\": \"\"\n      }\n    },\n    {\n      \"column\": \"Count\",\n      \"properties\": {\n        \"dtype\": \"number\",\n        \"std\": 24,\n        \"min\": 4,\n        \"max\": 108,\n        \"num_unique_values\": 33,\n        \"samples\": [\n          38,\n          24,\n          32\n        ],\n        \"semantic_type\": \"\",\n        \"description\": \"\"\n      }\n    }\n  ]\n}"
            }
          },
          "metadata": {},
          "execution_count": 154
        }
      ]
    },
    {
      "cell_type": "code",
      "source": [
        "# Commencer par Saint-Denis\n",
        "df_v0 = df_feat[\n",
        "    (df_feat['code_departement']=='093') &\n",
        "     (df_feat['nom_commune']=='Saint-Denis')]\n",
        "df_v0.shape"
      ],
      "metadata": {
        "colab": {
          "base_uri": "https://localhost:8080/"
        },
        "id": "0Jeyzsh89DNO",
        "outputId": "23ae6b16-bece-4f33-f503-f8a00ad34c07"
      },
      "execution_count": null,
      "outputs": [
        {
          "output_type": "execute_result",
          "data": {
            "text/plain": [
              "(95, 72)"
            ]
          },
          "metadata": {},
          "execution_count": 159
        }
      ]
    },
    {
      "cell_type": "code",
      "source": [
        "# J'exclue les colonnes à supprimer\n",
        "df_v0 = df_v0.drop(columns=col_to_remove)\n",
        "\n",
        "df_v0.shape"
      ],
      "metadata": {
        "id": "t7YBueiEkK9b",
        "colab": {
          "base_uri": "https://localhost:8080/"
        },
        "outputId": "dfc09e50-1985-4b36-e134-49b68b025284"
      },
      "execution_count": null,
      "outputs": [
        {
          "output_type": "execute_result",
          "data": {
            "text/plain": [
              "(95, 59)"
            ]
          },
          "metadata": {},
          "execution_count": 160
        }
      ]
    },
    {
      "cell_type": "code",
      "source": [
        "# Je crée une table contenant les données pour la viz uniquement, après ajout de la colonne de jointure\n",
        "col_pour_viz.insert(0, 'identifiant_de_l_etablissement')\n",
        "df_v0_viz = df_v0[col_pour_viz]\n",
        "df_v0_viz.shape"
      ],
      "metadata": {
        "colab": {
          "base_uri": "https://localhost:8080/"
        },
        "id": "oQPziv7M59fz",
        "outputId": "20406f19-5deb-45ba-fc4d-8953b5090526"
      },
      "execution_count": null,
      "outputs": [
        {
          "output_type": "execute_result",
          "data": {
            "text/plain": [
              "(95, 48)"
            ]
          },
          "metadata": {},
          "execution_count": 161
        }
      ]
    },
    {
      "cell_type": "code",
      "source": [
        "# Puis, j'enlève ces colonnes du dataframe de travail\n",
        "df_v0 = df_v0.drop(columns=col_pour_viz)\n",
        "df_v0.shape"
      ],
      "metadata": {
        "colab": {
          "base_uri": "https://localhost:8080/"
        },
        "id": "Mwx-JUwx6kR-",
        "outputId": "366c546a-01c5-425a-ea87-02d1f10daf08"
      },
      "execution_count": null,
      "outputs": [
        {
          "output_type": "execute_result",
          "data": {
            "text/plain": [
              "(95, 12)"
            ]
          },
          "metadata": {},
          "execution_count": 162
        }
      ]
    },
    {
      "cell_type": "code",
      "source": [
        "df_v0.head()"
      ],
      "metadata": {
        "colab": {
          "base_uri": "https://localhost:8080/",
          "height": 206
        },
        "id": "MQ67kaxh63sT",
        "outputId": "1bef794a-10bf-451c-b30e-7bd34f49c11f"
      },
      "execution_count": null,
      "outputs": [
        {
          "output_type": "execute_result",
          "data": {
            "text/plain": [
              "      type_etablissement code_departement  nombre_d_eleves  \\\n",
              "4076               Ecole              093            105.0   \n",
              "7061             Collège              093            564.0   \n",
              "7372             Collège              093            529.0   \n",
              "8202               Lycée              093            206.0   \n",
              "26031              Ecole              093            235.0   \n",
              "\n",
              "                                                position  coordx_origine  \\\n",
              "4076   {'lon': 2.46454777095682, 'lat': 48.8587656835...        660713.8   \n",
              "7061   {'lon': 2.460121583402077, 'lat': 48.866585317...        660395.0   \n",
              "7372   {'lon': 2.4373637449796197, 'lat': 48.85568931...        658716.9   \n",
              "8202   {'lon': 2.456572927550601, 'lat': 48.859688430...        660129.4   \n",
              "26031  {'lon': 2.4757109501393106, 'lat': 48.86671397...        661538.7   \n",
              "\n",
              "       coordy_origine epsg_origine   latitude  longitude  \\\n",
              "4076        6862214.3    EPSG:2154  48.858766   2.464548   \n",
              "7061        6863086.0    EPSG:2154  48.866585   2.460122   \n",
              "7372        6861886.1    EPSG:2154  48.855689   2.437364   \n",
              "8202        6862320.9    EPSG:2154  48.859688   2.456573   \n",
              "26031       6863092.6    EPSG:2154  48.866714   2.475711   \n",
              "\n",
              "      precision_localisation date_ouverture  multi_uai  \n",
              "4076           Numéro de rue     1977-03-31          0  \n",
              "7061                BATIMENT     2014-09-01          0  \n",
              "7372           Numéro de rue     1970-03-25          0  \n",
              "8202           Numéro de rue     1979-09-01          0  \n",
              "26031          Numéro de rue     1965-05-01          0  "
            ],
            "text/html": [
              "\n",
              "  <div id=\"df-30fb7344-0525-45e0-83a4-8448a8a49c68\" class=\"colab-df-container\">\n",
              "    <div>\n",
              "<style scoped>\n",
              "    .dataframe tbody tr th:only-of-type {\n",
              "        vertical-align: middle;\n",
              "    }\n",
              "\n",
              "    .dataframe tbody tr th {\n",
              "        vertical-align: top;\n",
              "    }\n",
              "\n",
              "    .dataframe thead th {\n",
              "        text-align: right;\n",
              "    }\n",
              "</style>\n",
              "<table border=\"1\" class=\"dataframe\">\n",
              "  <thead>\n",
              "    <tr style=\"text-align: right;\">\n",
              "      <th></th>\n",
              "      <th>type_etablissement</th>\n",
              "      <th>code_departement</th>\n",
              "      <th>nombre_d_eleves</th>\n",
              "      <th>position</th>\n",
              "      <th>coordx_origine</th>\n",
              "      <th>coordy_origine</th>\n",
              "      <th>epsg_origine</th>\n",
              "      <th>latitude</th>\n",
              "      <th>longitude</th>\n",
              "      <th>precision_localisation</th>\n",
              "      <th>date_ouverture</th>\n",
              "      <th>multi_uai</th>\n",
              "    </tr>\n",
              "  </thead>\n",
              "  <tbody>\n",
              "    <tr>\n",
              "      <th>4076</th>\n",
              "      <td>Ecole</td>\n",
              "      <td>093</td>\n",
              "      <td>105.0</td>\n",
              "      <td>{'lon': 2.46454777095682, 'lat': 48.8587656835...</td>\n",
              "      <td>660713.8</td>\n",
              "      <td>6862214.3</td>\n",
              "      <td>EPSG:2154</td>\n",
              "      <td>48.858766</td>\n",
              "      <td>2.464548</td>\n",
              "      <td>Numéro de rue</td>\n",
              "      <td>1977-03-31</td>\n",
              "      <td>0</td>\n",
              "    </tr>\n",
              "    <tr>\n",
              "      <th>7061</th>\n",
              "      <td>Collège</td>\n",
              "      <td>093</td>\n",
              "      <td>564.0</td>\n",
              "      <td>{'lon': 2.460121583402077, 'lat': 48.866585317...</td>\n",
              "      <td>660395.0</td>\n",
              "      <td>6863086.0</td>\n",
              "      <td>EPSG:2154</td>\n",
              "      <td>48.866585</td>\n",
              "      <td>2.460122</td>\n",
              "      <td>BATIMENT</td>\n",
              "      <td>2014-09-01</td>\n",
              "      <td>0</td>\n",
              "    </tr>\n",
              "    <tr>\n",
              "      <th>7372</th>\n",
              "      <td>Collège</td>\n",
              "      <td>093</td>\n",
              "      <td>529.0</td>\n",
              "      <td>{'lon': 2.4373637449796197, 'lat': 48.85568931...</td>\n",
              "      <td>658716.9</td>\n",
              "      <td>6861886.1</td>\n",
              "      <td>EPSG:2154</td>\n",
              "      <td>48.855689</td>\n",
              "      <td>2.437364</td>\n",
              "      <td>Numéro de rue</td>\n",
              "      <td>1970-03-25</td>\n",
              "      <td>0</td>\n",
              "    </tr>\n",
              "    <tr>\n",
              "      <th>8202</th>\n",
              "      <td>Lycée</td>\n",
              "      <td>093</td>\n",
              "      <td>206.0</td>\n",
              "      <td>{'lon': 2.456572927550601, 'lat': 48.859688430...</td>\n",
              "      <td>660129.4</td>\n",
              "      <td>6862320.9</td>\n",
              "      <td>EPSG:2154</td>\n",
              "      <td>48.859688</td>\n",
              "      <td>2.456573</td>\n",
              "      <td>Numéro de rue</td>\n",
              "      <td>1979-09-01</td>\n",
              "      <td>0</td>\n",
              "    </tr>\n",
              "    <tr>\n",
              "      <th>26031</th>\n",
              "      <td>Ecole</td>\n",
              "      <td>093</td>\n",
              "      <td>235.0</td>\n",
              "      <td>{'lon': 2.4757109501393106, 'lat': 48.86671397...</td>\n",
              "      <td>661538.7</td>\n",
              "      <td>6863092.6</td>\n",
              "      <td>EPSG:2154</td>\n",
              "      <td>48.866714</td>\n",
              "      <td>2.475711</td>\n",
              "      <td>Numéro de rue</td>\n",
              "      <td>1965-05-01</td>\n",
              "      <td>0</td>\n",
              "    </tr>\n",
              "  </tbody>\n",
              "</table>\n",
              "</div>\n",
              "    <div class=\"colab-df-buttons\">\n",
              "\n",
              "  <div class=\"colab-df-container\">\n",
              "    <button class=\"colab-df-convert\" onclick=\"convertToInteractive('df-30fb7344-0525-45e0-83a4-8448a8a49c68')\"\n",
              "            title=\"Convert this dataframe to an interactive table.\"\n",
              "            style=\"display:none;\">\n",
              "\n",
              "  <svg xmlns=\"http://www.w3.org/2000/svg\" height=\"24px\" viewBox=\"0 -960 960 960\">\n",
              "    <path d=\"M120-120v-720h720v720H120Zm60-500h600v-160H180v160Zm220 220h160v-160H400v160Zm0 220h160v-160H400v160ZM180-400h160v-160H180v160Zm440 0h160v-160H620v160ZM180-180h160v-160H180v160Zm440 0h160v-160H620v160Z\"/>\n",
              "  </svg>\n",
              "    </button>\n",
              "\n",
              "  <style>\n",
              "    .colab-df-container {\n",
              "      display:flex;\n",
              "      gap: 12px;\n",
              "    }\n",
              "\n",
              "    .colab-df-convert {\n",
              "      background-color: #E8F0FE;\n",
              "      border: none;\n",
              "      border-radius: 50%;\n",
              "      cursor: pointer;\n",
              "      display: none;\n",
              "      fill: #1967D2;\n",
              "      height: 32px;\n",
              "      padding: 0 0 0 0;\n",
              "      width: 32px;\n",
              "    }\n",
              "\n",
              "    .colab-df-convert:hover {\n",
              "      background-color: #E2EBFA;\n",
              "      box-shadow: 0px 1px 2px rgba(60, 64, 67, 0.3), 0px 1px 3px 1px rgba(60, 64, 67, 0.15);\n",
              "      fill: #174EA6;\n",
              "    }\n",
              "\n",
              "    .colab-df-buttons div {\n",
              "      margin-bottom: 4px;\n",
              "    }\n",
              "\n",
              "    [theme=dark] .colab-df-convert {\n",
              "      background-color: #3B4455;\n",
              "      fill: #D2E3FC;\n",
              "    }\n",
              "\n",
              "    [theme=dark] .colab-df-convert:hover {\n",
              "      background-color: #434B5C;\n",
              "      box-shadow: 0px 1px 3px 1px rgba(0, 0, 0, 0.15);\n",
              "      filter: drop-shadow(0px 1px 2px rgba(0, 0, 0, 0.3));\n",
              "      fill: #FFFFFF;\n",
              "    }\n",
              "  </style>\n",
              "\n",
              "    <script>\n",
              "      const buttonEl =\n",
              "        document.querySelector('#df-30fb7344-0525-45e0-83a4-8448a8a49c68 button.colab-df-convert');\n",
              "      buttonEl.style.display =\n",
              "        google.colab.kernel.accessAllowed ? 'block' : 'none';\n",
              "\n",
              "      async function convertToInteractive(key) {\n",
              "        const element = document.querySelector('#df-30fb7344-0525-45e0-83a4-8448a8a49c68');\n",
              "        const dataTable =\n",
              "          await google.colab.kernel.invokeFunction('convertToInteractive',\n",
              "                                                    [key], {});\n",
              "        if (!dataTable) return;\n",
              "\n",
              "        const docLinkHtml = 'Like what you see? Visit the ' +\n",
              "          '<a target=\"_blank\" href=https://colab.research.google.com/notebooks/data_table.ipynb>data table notebook</a>'\n",
              "          + ' to learn more about interactive tables.';\n",
              "        element.innerHTML = '';\n",
              "        dataTable['output_type'] = 'display_data';\n",
              "        await google.colab.output.renderOutput(dataTable, element);\n",
              "        const docLink = document.createElement('div');\n",
              "        docLink.innerHTML = docLinkHtml;\n",
              "        element.appendChild(docLink);\n",
              "      }\n",
              "    </script>\n",
              "  </div>\n",
              "\n",
              "\n",
              "<div id=\"df-cfcbcb12-a840-46b2-95c1-2f6d6c90bf0a\">\n",
              "  <button class=\"colab-df-quickchart\" onclick=\"quickchart('df-cfcbcb12-a840-46b2-95c1-2f6d6c90bf0a')\"\n",
              "            title=\"Suggest charts\"\n",
              "            style=\"display:none;\">\n",
              "\n",
              "<svg xmlns=\"http://www.w3.org/2000/svg\" height=\"24px\"viewBox=\"0 0 24 24\"\n",
              "     width=\"24px\">\n",
              "    <g>\n",
              "        <path d=\"M19 3H5c-1.1 0-2 .9-2 2v14c0 1.1.9 2 2 2h14c1.1 0 2-.9 2-2V5c0-1.1-.9-2-2-2zM9 17H7v-7h2v7zm4 0h-2V7h2v10zm4 0h-2v-4h2v4z\"/>\n",
              "    </g>\n",
              "</svg>\n",
              "  </button>\n",
              "\n",
              "<style>\n",
              "  .colab-df-quickchart {\n",
              "      --bg-color: #E8F0FE;\n",
              "      --fill-color: #1967D2;\n",
              "      --hover-bg-color: #E2EBFA;\n",
              "      --hover-fill-color: #174EA6;\n",
              "      --disabled-fill-color: #AAA;\n",
              "      --disabled-bg-color: #DDD;\n",
              "  }\n",
              "\n",
              "  [theme=dark] .colab-df-quickchart {\n",
              "      --bg-color: #3B4455;\n",
              "      --fill-color: #D2E3FC;\n",
              "      --hover-bg-color: #434B5C;\n",
              "      --hover-fill-color: #FFFFFF;\n",
              "      --disabled-bg-color: #3B4455;\n",
              "      --disabled-fill-color: #666;\n",
              "  }\n",
              "\n",
              "  .colab-df-quickchart {\n",
              "    background-color: var(--bg-color);\n",
              "    border: none;\n",
              "    border-radius: 50%;\n",
              "    cursor: pointer;\n",
              "    display: none;\n",
              "    fill: var(--fill-color);\n",
              "    height: 32px;\n",
              "    padding: 0;\n",
              "    width: 32px;\n",
              "  }\n",
              "\n",
              "  .colab-df-quickchart:hover {\n",
              "    background-color: var(--hover-bg-color);\n",
              "    box-shadow: 0 1px 2px rgba(60, 64, 67, 0.3), 0 1px 3px 1px rgba(60, 64, 67, 0.15);\n",
              "    fill: var(--button-hover-fill-color);\n",
              "  }\n",
              "\n",
              "  .colab-df-quickchart-complete:disabled,\n",
              "  .colab-df-quickchart-complete:disabled:hover {\n",
              "    background-color: var(--disabled-bg-color);\n",
              "    fill: var(--disabled-fill-color);\n",
              "    box-shadow: none;\n",
              "  }\n",
              "\n",
              "  .colab-df-spinner {\n",
              "    border: 2px solid var(--fill-color);\n",
              "    border-color: transparent;\n",
              "    border-bottom-color: var(--fill-color);\n",
              "    animation:\n",
              "      spin 1s steps(1) infinite;\n",
              "  }\n",
              "\n",
              "  @keyframes spin {\n",
              "    0% {\n",
              "      border-color: transparent;\n",
              "      border-bottom-color: var(--fill-color);\n",
              "      border-left-color: var(--fill-color);\n",
              "    }\n",
              "    20% {\n",
              "      border-color: transparent;\n",
              "      border-left-color: var(--fill-color);\n",
              "      border-top-color: var(--fill-color);\n",
              "    }\n",
              "    30% {\n",
              "      border-color: transparent;\n",
              "      border-left-color: var(--fill-color);\n",
              "      border-top-color: var(--fill-color);\n",
              "      border-right-color: var(--fill-color);\n",
              "    }\n",
              "    40% {\n",
              "      border-color: transparent;\n",
              "      border-right-color: var(--fill-color);\n",
              "      border-top-color: var(--fill-color);\n",
              "    }\n",
              "    60% {\n",
              "      border-color: transparent;\n",
              "      border-right-color: var(--fill-color);\n",
              "    }\n",
              "    80% {\n",
              "      border-color: transparent;\n",
              "      border-right-color: var(--fill-color);\n",
              "      border-bottom-color: var(--fill-color);\n",
              "    }\n",
              "    90% {\n",
              "      border-color: transparent;\n",
              "      border-bottom-color: var(--fill-color);\n",
              "    }\n",
              "  }\n",
              "</style>\n",
              "\n",
              "  <script>\n",
              "    async function quickchart(key) {\n",
              "      const quickchartButtonEl =\n",
              "        document.querySelector('#' + key + ' button');\n",
              "      quickchartButtonEl.disabled = true;  // To prevent multiple clicks.\n",
              "      quickchartButtonEl.classList.add('colab-df-spinner');\n",
              "      try {\n",
              "        const charts = await google.colab.kernel.invokeFunction(\n",
              "            'suggestCharts', [key], {});\n",
              "      } catch (error) {\n",
              "        console.error('Error during call to suggestCharts:', error);\n",
              "      }\n",
              "      quickchartButtonEl.classList.remove('colab-df-spinner');\n",
              "      quickchartButtonEl.classList.add('colab-df-quickchart-complete');\n",
              "    }\n",
              "    (() => {\n",
              "      let quickchartButtonEl =\n",
              "        document.querySelector('#df-cfcbcb12-a840-46b2-95c1-2f6d6c90bf0a button');\n",
              "      quickchartButtonEl.style.display =\n",
              "        google.colab.kernel.accessAllowed ? 'block' : 'none';\n",
              "    })();\n",
              "  </script>\n",
              "</div>\n",
              "\n",
              "    </div>\n",
              "  </div>\n"
            ],
            "application/vnd.google.colaboratory.intrinsic+json": {
              "type": "dataframe",
              "variable_name": "df_v0",
              "repr_error": "0"
            }
          },
          "metadata": {},
          "execution_count": 163
        }
      ]
    },
    {
      "cell_type": "markdown",
      "source": [
        "## Données BD Topo"
      ],
      "metadata": {
        "id": "BQOJwboWCEme"
      }
    },
    {
      "cell_type": "markdown",
      "source": [
        "### Récupération des données\n",
        "Au format GeoPackage (.gpkg)"
      ],
      "metadata": {
        "id": "OqPaOPIBClY8"
      }
    },
    {
      "cell_type": "code",
      "source": [
        "# J'installe le module permettant de dézipper les données\n",
        "!pip install py7zr"
      ],
      "metadata": {
        "colab": {
          "base_uri": "https://localhost:8080/"
        },
        "id": "Do8JoStnErhM",
        "outputId": "2b2b68c7-0b4e-4226-cee3-06c58b517902"
      },
      "execution_count": null,
      "outputs": [
        {
          "output_type": "stream",
          "name": "stdout",
          "text": [
            "Collecting py7zr\n",
            "  Downloading py7zr-0.22.0-py3-none-any.whl.metadata (16 kB)\n",
            "Collecting texttable (from py7zr)\n",
            "  Downloading texttable-1.7.0-py2.py3-none-any.whl.metadata (9.8 kB)\n",
            "Collecting pycryptodomex>=3.16.0 (from py7zr)\n",
            "  Downloading pycryptodomex-3.21.0-cp36-abi3-manylinux_2_17_x86_64.manylinux2014_x86_64.whl.metadata (3.4 kB)\n",
            "Collecting pyzstd>=0.15.9 (from py7zr)\n",
            "  Downloading pyzstd-0.16.2-cp311-cp311-manylinux_2_17_x86_64.manylinux2014_x86_64.whl.metadata (2.4 kB)\n",
            "Collecting pyppmd<1.2.0,>=1.1.0 (from py7zr)\n",
            "  Downloading pyppmd-1.1.1-cp311-cp311-manylinux_2_17_x86_64.manylinux2014_x86_64.whl.metadata (5.5 kB)\n",
            "Collecting pybcj<1.1.0,>=1.0.0 (from py7zr)\n",
            "  Downloading pybcj-1.0.3-cp311-cp311-manylinux_2_17_x86_64.manylinux2014_x86_64.whl.metadata (3.9 kB)\n",
            "Collecting multivolumefile>=0.2.3 (from py7zr)\n",
            "  Downloading multivolumefile-0.2.3-py3-none-any.whl.metadata (6.3 kB)\n",
            "Collecting inflate64<1.1.0,>=1.0.0 (from py7zr)\n",
            "  Downloading inflate64-1.0.1-cp311-cp311-manylinux_2_17_x86_64.manylinux2014_x86_64.whl.metadata (3.8 kB)\n",
            "Collecting brotli>=1.1.0 (from py7zr)\n",
            "  Downloading Brotli-1.1.0-cp311-cp311-manylinux_2_17_x86_64.manylinux2014_x86_64.whl.metadata (5.5 kB)\n",
            "Requirement already satisfied: psutil in /usr/local/lib/python3.11/dist-packages (from py7zr) (5.9.5)\n",
            "Downloading py7zr-0.22.0-py3-none-any.whl (67 kB)\n",
            "\u001b[2K   \u001b[90m━━━━━━━━━━━━━━━━━━━━━━━━━━━━━━━━━━━━━━━━\u001b[0m \u001b[32m67.9/67.9 kB\u001b[0m \u001b[31m3.5 MB/s\u001b[0m eta \u001b[36m0:00:00\u001b[0m\n",
            "\u001b[?25hDownloading Brotli-1.1.0-cp311-cp311-manylinux_2_17_x86_64.manylinux2014_x86_64.whl (2.9 MB)\n",
            "\u001b[2K   \u001b[90m━━━━━━━━━━━━━━━━━━━━━━━━━━━━━━━━━━━━━━━━\u001b[0m \u001b[32m2.9/2.9 MB\u001b[0m \u001b[31m56.3 MB/s\u001b[0m eta \u001b[36m0:00:00\u001b[0m\n",
            "\u001b[?25hDownloading inflate64-1.0.1-cp311-cp311-manylinux_2_17_x86_64.manylinux2014_x86_64.whl (96 kB)\n",
            "\u001b[2K   \u001b[90m━━━━━━━━━━━━━━━━━━━━━━━━━━━━━━━━━━━━━━━━\u001b[0m \u001b[32m96.2/96.2 kB\u001b[0m \u001b[31m10.0 MB/s\u001b[0m eta \u001b[36m0:00:00\u001b[0m\n",
            "\u001b[?25hDownloading multivolumefile-0.2.3-py3-none-any.whl (17 kB)\n",
            "Downloading pybcj-1.0.3-cp311-cp311-manylinux_2_17_x86_64.manylinux2014_x86_64.whl (50 kB)\n",
            "\u001b[2K   \u001b[90m━━━━━━━━━━━━━━━━━━━━━━━━━━━━━━━━━━━━━━━━\u001b[0m \u001b[32m50.6/50.6 kB\u001b[0m \u001b[31m5.1 MB/s\u001b[0m eta \u001b[36m0:00:00\u001b[0m\n",
            "\u001b[?25hDownloading pycryptodomex-3.21.0-cp36-abi3-manylinux_2_17_x86_64.manylinux2014_x86_64.whl (2.3 MB)\n",
            "\u001b[2K   \u001b[90m━━━━━━━━━━━━━━━━━━━━━━━━━━━━━━━━━━━━━━━━\u001b[0m \u001b[32m2.3/2.3 MB\u001b[0m \u001b[31m90.0 MB/s\u001b[0m eta \u001b[36m0:00:00\u001b[0m\n",
            "\u001b[?25hDownloading pyppmd-1.1.1-cp311-cp311-manylinux_2_17_x86_64.manylinux2014_x86_64.whl (141 kB)\n",
            "\u001b[2K   \u001b[90m━━━━━━━━━━━━━━━━━━━━━━━━━━━━━━━━━━━━━━━━\u001b[0m \u001b[32m141.3/141.3 kB\u001b[0m \u001b[31m13.7 MB/s\u001b[0m eta \u001b[36m0:00:00\u001b[0m\n",
            "\u001b[?25hDownloading pyzstd-0.16.2-cp311-cp311-manylinux_2_17_x86_64.manylinux2014_x86_64.whl (413 kB)\n",
            "\u001b[2K   \u001b[90m━━━━━━━━━━━━━━━━━━━━━━━━━━━━━━━━━━━━━━━━\u001b[0m \u001b[32m413.7/413.7 kB\u001b[0m \u001b[31m37.2 MB/s\u001b[0m eta \u001b[36m0:00:00\u001b[0m\n",
            "\u001b[?25hDownloading texttable-1.7.0-py2.py3-none-any.whl (10 kB)\n",
            "Installing collected packages: texttable, brotli, pyzstd, pyppmd, pycryptodomex, pybcj, multivolumefile, inflate64, py7zr\n",
            "Successfully installed brotli-1.1.0 inflate64-1.0.1 multivolumefile-0.2.3 py7zr-0.22.0 pybcj-1.0.3 pycryptodomex-3.21.0 pyppmd-1.1.1 pyzstd-0.16.2 texttable-1.7.0\n"
          ]
        }
      ]
    },
    {
      "cell_type": "code",
      "source": [
        "import py7zr"
      ],
      "metadata": {
        "id": "8zlbs0b_E4Fr"
      },
      "execution_count": null,
      "outputs": []
    },
    {
      "cell_type": "code",
      "source": [
        "# Définition du lien pour les données du 93\n",
        "url = 'https://data.geopf.fr/telechargement/download/BDTOPO/BDTOPO_3-4_TOUSTHEMES_GPKG_LAMB93_D093_2024-12-15/BDTOPO_3-4_TOUSTHEMES_GPKG_LAMB93_D093_2024-12-15.7z'\n",
        "\n",
        "# Récupération des données\n",
        "response = requests.get(url)\n",
        "\n",
        "# Vérification de la bonne récupération\n",
        "if response.status_code == 200:\n",
        "  print(\"Données téléchargées !\")\n",
        "  \"\"\"\n",
        "    data = response.json()\n",
        "    print(\"Données disponibles !\\n\")\n",
        "    # Création du jeu de données\n",
        "    df = pd.DataFrame(data)\n",
        "    print(f\"Le dataframe contient {df.shape[0]} lignes et {df.shape[1]} colonnes.\")\n",
        "  \"\"\"\n",
        "else:\n",
        "  print(f\"Erreur: {response.status_code}\")"
      ],
      "metadata": {
        "colab": {
          "base_uri": "https://localhost:8080/"
        },
        "id": "A3VufFzCDy7t",
        "outputId": "da145750-c170-46c5-8264-abf024637579"
      },
      "execution_count": null,
      "outputs": [
        {
          "output_type": "stream",
          "name": "stdout",
          "text": [
            "Données téléchargées !\n"
          ]
        }
      ]
    },
    {
      "cell_type": "code",
      "source": [
        "# Sauvegarde localement\n",
        "with open('BDTOPO_3-4_TOUSTHEMES_GPKG_LAMB93_D093_2024-12-15.7z', 'wb') as file:\n",
        "  file.write(response.content)"
      ],
      "metadata": {
        "id": "32oQ3da-GqRd"
      },
      "execution_count": null,
      "outputs": []
    },
    {
      "cell_type": "code",
      "source": [
        "# Lister le contenu\n",
        "with py7zr.SevenZipFile('BDTOPO_3-4_TOUSTHEMES_GPKG_LAMB93_D093_2024-12-15.7z',\n",
        "                        mode='r') as z:\n",
        "  all_files = z.namelist()\n",
        "  print(all_files)"
      ],
      "metadata": {
        "colab": {
          "base_uri": "https://localhost:8080/"
        },
        "id": "zSCkTHUA2zZv",
        "outputId": "a7fc7d78-a4ea-4c17-e2f2-feed359c4945"
      },
      "execution_count": null,
      "outputs": [
        {
          "output_type": "stream",
          "name": "stdout",
          "text": [
            "['BDTOPO_3-4_TOUSTHEMES_GPKG_LAMB93_D093_2024-12-15', 'BDTOPO_3-4_TOUSTHEMES_GPKG_LAMB93_D093_2024-12-15/BDTOPO', 'BDTOPO_3-4_TOUSTHEMES_GPKG_LAMB93_D093_2024-12-15/BDTOPO/1_DONNEES_LIVRAISON_2024-12-00134', 'BDTOPO_3-4_TOUSTHEMES_GPKG_LAMB93_D093_2024-12-15/BDTOPO/1_DONNEES_LIVRAISON_2024-12-00134/BDT_3-4_GPKG_LAMB93_D093-ED2024-12-15', 'BDTOPO_3-4_TOUSTHEMES_GPKG_LAMB93_D093_2024-12-15/BDTOPO/2_METADONNEES_LIVRAISON_2024-12-00134', 'BDTOPO_3-4_TOUSTHEMES_GPKG_LAMB93_D093_2024-12-15/BDTOPO/2_METADONNEES_LIVRAISON_2024-12-00134/BDT_3-4_GPKG_LAMB93_D093-ED2024-12-15', 'BDTOPO_3-4_TOUSTHEMES_GPKG_LAMB93_D093_2024-12-15/BDTOPO/3_SUPPLEMENTS_LIVRAISON_2024-12-00134', 'BDTOPO_3-4_TOUSTHEMES_GPKG_LAMB93_D093_2024-12-15/BDTOPO/3_SUPPLEMENTS_LIVRAISON_2024-12-00134/BDT_3-4_GPKG_LAMB93_D093-ED2024-12-15', 'BDTOPO_3-4_TOUSTHEMES_GPKG_LAMB93_D093_2024-12-15/BDTOPO/3_SUPPLEMENTS_LIVRAISON_2024-12-00134/BDT_3-4_GPKG_LAMB93_D093-ED2024-12-15/EMPRISE', 'BDTOPO_3-4_TOUSTHEMES_GPKG_LAMB93_D093_2024-12-15/BDTOPO/1_DONNEES_LIVRAISON_2024-12-00134/BDT_3-4_GPKG_LAMB93_D093-ED2024-12-15/BDT_3-4_GPKG_LAMB93_D093-ED2024-12-15.gpkg', 'BDTOPO_3-4_TOUSTHEMES_GPKG_LAMB93_D093_2024-12-15/BDTOPO/2_METADONNEES_LIVRAISON_2024-12-00134/BDT_3-4_GPKG_LAMB93_D093-ED2024-12-15/IGNF_BDTOPO_3-4_GPKG_LAMB93_D093-ED2024-12-15.html', 'BDTOPO_3-4_TOUSTHEMES_GPKG_LAMB93_D093_2024-12-15/BDTOPO/2_METADONNEES_LIVRAISON_2024-12-00134/BDT_3-4_GPKG_LAMB93_D093-ED2024-12-15/IGNF_BDTOPO_3-4_GPKG_LAMB93_D093-ED2024-12-15.xml', 'BDTOPO_3-4_TOUSTHEMES_GPKG_LAMB93_D093_2024-12-15/BDTOPO/3_SUPPLEMENTS_LIVRAISON_2024-12-00134/BDT_3-4_GPKG_LAMB93_D093-ED2024-12-15/EMPRISE/EMPRISE.cpg', 'BDTOPO_3-4_TOUSTHEMES_GPKG_LAMB93_D093_2024-12-15/BDTOPO/3_SUPPLEMENTS_LIVRAISON_2024-12-00134/BDT_3-4_GPKG_LAMB93_D093-ED2024-12-15/EMPRISE/EMPRISE.dbf', 'BDTOPO_3-4_TOUSTHEMES_GPKG_LAMB93_D093_2024-12-15/BDTOPO/3_SUPPLEMENTS_LIVRAISON_2024-12-00134/BDT_3-4_GPKG_LAMB93_D093-ED2024-12-15/EMPRISE/EMPRISE.prj', 'BDTOPO_3-4_TOUSTHEMES_GPKG_LAMB93_D093_2024-12-15/BDTOPO/3_SUPPLEMENTS_LIVRAISON_2024-12-00134/BDT_3-4_GPKG_LAMB93_D093-ED2024-12-15/EMPRISE/EMPRISE.shp', 'BDTOPO_3-4_TOUSTHEMES_GPKG_LAMB93_D093_2024-12-15/BDTOPO/3_SUPPLEMENTS_LIVRAISON_2024-12-00134/BDT_3-4_GPKG_LAMB93_D093-ED2024-12-15/EMPRISE/EMPRISE.shx', 'BDTOPO_3-4_TOUSTHEMES_GPKG_LAMB93_D093_2024-12-15/BDTOPO/LISEZ-MOI.pdf']\n"
          ]
        }
      ]
    },
    {
      "cell_type": "code",
      "source": [
        "# Extraction des données\n",
        "a_extraire = 'BDTOPO_3-4_TOUSTHEMES_GPKG_LAMB93_D093_2024-12-15/BDTOPO/1_DONNEES_LIVRAISON_2024-12-00134/BDT_3-4_GPKG_LAMB93_D093-ED2024-12-15/BDT_3-4_GPKG_LAMB93_D093-ED2024-12-15.gpkg'\n",
        "\n",
        "with py7zr.SevenZipFile('BDTOPO_3-4_TOUSTHEMES_GPKG_LAMB93_D093_2024-12-15.7z',\n",
        "                        mode='r') as z:\n",
        "  #z.extractall()\n",
        "  z.extract(a_extraire)"
      ],
      "metadata": {
        "id": "6jFwTTbQHHuk"
      },
      "execution_count": null,
      "outputs": []
    },
    {
      "cell_type": "code",
      "source": [
        "# Installation de GeoPandas pour lire les données\n",
        "!pip install geopandas"
      ],
      "metadata": {
        "colab": {
          "base_uri": "https://localhost:8080/"
        },
        "id": "L6dlgek0IrBl",
        "outputId": "713dde5d-ccad-415d-b24e-9c95496b8481"
      },
      "execution_count": null,
      "outputs": [
        {
          "output_type": "stream",
          "name": "stdout",
          "text": [
            "Requirement already satisfied: geopandas in /usr/local/lib/python3.11/dist-packages (1.0.1)\n",
            "Requirement already satisfied: numpy>=1.22 in /usr/local/lib/python3.11/dist-packages (from geopandas) (1.26.4)\n",
            "Requirement already satisfied: pyogrio>=0.7.2 in /usr/local/lib/python3.11/dist-packages (from geopandas) (0.10.0)\n",
            "Requirement already satisfied: packaging in /usr/local/lib/python3.11/dist-packages (from geopandas) (24.2)\n",
            "Requirement already satisfied: pandas>=1.4.0 in /usr/local/lib/python3.11/dist-packages (from geopandas) (2.2.2)\n",
            "Requirement already satisfied: pyproj>=3.3.0 in /usr/local/lib/python3.11/dist-packages (from geopandas) (3.7.0)\n",
            "Requirement already satisfied: shapely>=2.0.0 in /usr/local/lib/python3.11/dist-packages (from geopandas) (2.0.6)\n",
            "Requirement already satisfied: python-dateutil>=2.8.2 in /usr/local/lib/python3.11/dist-packages (from pandas>=1.4.0->geopandas) (2.8.2)\n",
            "Requirement already satisfied: pytz>=2020.1 in /usr/local/lib/python3.11/dist-packages (from pandas>=1.4.0->geopandas) (2024.2)\n",
            "Requirement already satisfied: tzdata>=2022.7 in /usr/local/lib/python3.11/dist-packages (from pandas>=1.4.0->geopandas) (2025.1)\n",
            "Requirement already satisfied: certifi in /usr/local/lib/python3.11/dist-packages (from pyogrio>=0.7.2->geopandas) (2024.12.14)\n",
            "Requirement already satisfied: six>=1.5 in /usr/local/lib/python3.11/dist-packages (from python-dateutil>=2.8.2->pandas>=1.4.0->geopandas) (1.17.0)\n"
          ]
        }
      ]
    },
    {
      "cell_type": "code",
      "source": [
        "#Import de GeoPandas pour lire les données\n",
        "import geopandas as gpd"
      ],
      "metadata": {
        "id": "iha3U_J84nuG"
      },
      "execution_count": null,
      "outputs": []
    },
    {
      "cell_type": "code",
      "source": [
        "# Lecture du fichier\n",
        "#file_path = '/content/BDTOPO_3-4_TOUSTHEMES_GPKG_LAMB93_D093_2024-12-15/BDTOPO/1_DONNEES_LIVRAISON_2024-12-00134/BDT_3-4_GPKG_LAMB93_D093-ED2024-12-15/BDT_3-4_GPKG_LAMB93_D093-ED2024-12-15.gpkg'\n",
        "file_path = '/content/BDT_3-4_GPKG_LAMB93_D093-ED2024-12-15/BDT_3-4_GPKG_LAMB93_D093-ED2024-12-15.gpkg'  # Replace with the path to your GPKG file\n",
        "gdf = gpd.read_file(file_path)"
      ],
      "metadata": {
        "colab": {
          "base_uri": "https://localhost:8080/"
        },
        "id": "UilZ7pvrIxaZ",
        "outputId": "fb0067a3-b6fd-4fdc-95ef-bf6d67dbe205"
      },
      "execution_count": null,
      "outputs": [
        {
          "output_type": "stream",
          "name": "stderr",
          "text": [
            "/usr/local/lib/python3.11/dist-packages/pyogrio/raw.py:198: RuntimeWarning: Field format 'character varying' not supported\n",
            "  return ogr_read(\n",
            "/usr/local/lib/python3.11/dist-packages/pyogrio/raw.py:198: RuntimeWarning: Field format 'character varying(256)' not supported\n",
            "  return ogr_read(\n",
            "/usr/local/lib/python3.11/dist-packages/pyogrio/raw.py:198: RuntimeWarning: Field format 'character varying(30)' not supported\n",
            "  return ogr_read(\n",
            "/usr/local/lib/python3.11/dist-packages/pyogrio/raw.py:198: RuntimeWarning: Field format 'timestamp with time zone' not supported\n",
            "  return ogr_read(\n",
            "/usr/local/lib/python3.11/dist-packages/pyogrio/geopandas.py:265: UserWarning: More than one layer found in 'BDT_3-4_GPKG_LAMB93_D093-ED2024-12-15.gpkg': 'troncon_de_route' (default), 'route_numerotee_ou_nommee', 'itineraire_autre', 'troncon_de_voie_ferree', 'equipement_de_transport', 'piste_d_aerodrome', 'aerodrome', 'point_de_repere', 'non_communication', 'point_du_reseau', 'voie_ferree_nommee', 'toponymie_transport', 'batiment', 'cimetiere', 'construction_lineaire', 'construction_ponctuelle', 'construction_surfacique', 'reservoir', 'ligne_orographique', 'pylone', 'terrain_de_sport', 'toponymie_bati', 'cours_d_eau', 'troncon_hydrographique', 'bassin_versant_topographique', 'plan_d_eau', 'surface_hydrographique', 'noeud_hydrographique', 'detail_hydrographique', 'toponymie_hydrographie', 'zone_d_habitation', 'lieu_dit_non_habite', 'detail_orographique', 'toponymie_lieux_nommes', 'canalisation', 'ligne_electrique', 'poste_de_transformation', 'erp', 'zone_d_activite_ou_d_interet', 'toponymie_services_et_activites', 'voie_nommee', 'parc_ou_reserve', 'foret_publique', 'toponymie_zones_reglementees', 'haie', 'zone_de_vegetation', 'arrondissement', 'arrondissement_municipal', 'commune', 'epci', 'collectivite_territoriale', 'departement', 'region', 'adresse_ban', 'batiment_rnb_lien_bdtopo', 'lien_adresse_vers_bdtopo', 'section_de_points_de_repere', 'info_metadonnees', 'metadonnees_lot', 'metadonnees_theme', 'layer_styles'. Specify layer parameter to avoid this warning.\n",
            "  result = read_func(\n"
          ]
        }
      ]
    },
    {
      "cell_type": "code",
      "source": [
        "gdf.head()"
      ],
      "metadata": {
        "colab": {
          "base_uri": "https://localhost:8080/",
          "height": 603
        },
        "id": "qH-qZSlLI4z3",
        "outputId": "2991a391-fab4-4fd5-b931-2956d064c76f"
      },
      "execution_count": null,
      "outputs": [
        {
          "output_type": "execute_result",
          "data": {
            "text/plain": [
              "                     cleabs              nature nom_collaboratif_gauche  \\\n",
              "0  TRONROUT0000000000516196  Route à 1 chaussée    R ALEXANDRE ANTONINI   \n",
              "1  TRONROUT0000000004043446  Route à 1 chaussée             AV VOLTAIRE   \n",
              "2  TRONROUT0000000004039875  Route à 1 chaussée       R DU PUITS GRENET   \n",
              "3  TRONROUT0000000004037615  Route à 1 chaussée       R DU PUITS GRENET   \n",
              "4  TRONROUT0000000004039876  Route à 1 chaussée       R DU PUITS GRENET   \n",
              "\n",
              "  nom_collaboratif_droite importance  fictif position_par_rapport_au_sol  \\\n",
              "0    R ALEXANDRE ANTONINI          5   False                           0   \n",
              "1             AV VOLTAIRE          5   False                           0   \n",
              "2       R DU PUITS GRENET          4   False                           0   \n",
              "3       R DU PUITS GRENET          5   False                           0   \n",
              "4       R DU PUITS GRENET          5   False                           0   \n",
              "\n",
              "  etat_de_l_objet           date_creation       date_modification  ...  \\\n",
              "0      En service 2006-05-22 13:39:36.546 2023-09-23 17:51:40.627  ...   \n",
              "1      En service 2006-05-22 16:59:15.638 2024-07-21 22:19:18.425  ...   \n",
              "2      En service 2006-05-22 16:59:15.638 2024-07-14 22:29:21.839  ...   \n",
              "3      En service 2006-05-22 16:59:15.638 2024-07-14 22:29:21.839  ...   \n",
              "4      En service 2006-05-22 16:59:15.638 2024-07-14 22:29:21.839  ...   \n",
              "\n",
              "  pente_maximale_dfci piste_dfci piste_dfci_debroussaillee piste_dfci_fosses  \\\n",
              "0                 NaN        NaN                       NaN              None   \n",
              "1                 NaN        NaN                       NaN              None   \n",
              "2                 NaN        NaN                       NaN              None   \n",
              "3                 NaN        NaN                       NaN              None   \n",
              "4                 NaN        NaN                       NaN              None   \n",
              "\n",
              "  sens_de_circulation_dfci  tout_terrain_dfci vitesse_moyenne_dfci  \\\n",
              "0                     None                NaN                  NaN   \n",
              "1                     None                NaN                  NaN   \n",
              "2                     None                NaN                  NaN   \n",
              "3                     None                NaN                  NaN   \n",
              "4                     None                NaN                  NaN   \n",
              "\n",
              "   zone_de_croisement_dfci  categorie_dfci  \\\n",
              "0                     None            None   \n",
              "1                     None            None   \n",
              "2                     None            None   \n",
              "3                     None            None   \n",
              "4                     None            None   \n",
              "\n",
              "                                            geometry  \n",
              "0  LINESTRING Z (649077.7 6867733.1 31, 649093.2 ...  \n",
              "1  LINESTRING Z (648493.1 6875942.3 42.8, 648548....  \n",
              "2  LINESTRING Z (649126.8 6876770.5 56, 649122.3 ...  \n",
              "3  LINESTRING Z (648953 6876850.2 50, 648951 6876...  \n",
              "4  LINESTRING Z (649025.4 6876762.1 49.9, 649027....  \n",
              "\n",
              "[5 rows x 84 columns]"
            ],
            "text/html": [
              "\n",
              "  <div id=\"df-c4f29756-9484-452e-aede-0c806fa1ee6c\" class=\"colab-df-container\">\n",
              "    <div>\n",
              "<style scoped>\n",
              "    .dataframe tbody tr th:only-of-type {\n",
              "        vertical-align: middle;\n",
              "    }\n",
              "\n",
              "    .dataframe tbody tr th {\n",
              "        vertical-align: top;\n",
              "    }\n",
              "\n",
              "    .dataframe thead th {\n",
              "        text-align: right;\n",
              "    }\n",
              "</style>\n",
              "<table border=\"1\" class=\"dataframe\">\n",
              "  <thead>\n",
              "    <tr style=\"text-align: right;\">\n",
              "      <th></th>\n",
              "      <th>cleabs</th>\n",
              "      <th>nature</th>\n",
              "      <th>nom_collaboratif_gauche</th>\n",
              "      <th>nom_collaboratif_droite</th>\n",
              "      <th>importance</th>\n",
              "      <th>fictif</th>\n",
              "      <th>position_par_rapport_au_sol</th>\n",
              "      <th>etat_de_l_objet</th>\n",
              "      <th>date_creation</th>\n",
              "      <th>date_modification</th>\n",
              "      <th>...</th>\n",
              "      <th>pente_maximale_dfci</th>\n",
              "      <th>piste_dfci</th>\n",
              "      <th>piste_dfci_debroussaillee</th>\n",
              "      <th>piste_dfci_fosses</th>\n",
              "      <th>sens_de_circulation_dfci</th>\n",
              "      <th>tout_terrain_dfci</th>\n",
              "      <th>vitesse_moyenne_dfci</th>\n",
              "      <th>zone_de_croisement_dfci</th>\n",
              "      <th>categorie_dfci</th>\n",
              "      <th>geometry</th>\n",
              "    </tr>\n",
              "  </thead>\n",
              "  <tbody>\n",
              "    <tr>\n",
              "      <th>0</th>\n",
              "      <td>TRONROUT0000000000516196</td>\n",
              "      <td>Route à 1 chaussée</td>\n",
              "      <td>R ALEXANDRE ANTONINI</td>\n",
              "      <td>R ALEXANDRE ANTONINI</td>\n",
              "      <td>5</td>\n",
              "      <td>False</td>\n",
              "      <td>0</td>\n",
              "      <td>En service</td>\n",
              "      <td>2006-05-22 13:39:36.546</td>\n",
              "      <td>2023-09-23 17:51:40.627</td>\n",
              "      <td>...</td>\n",
              "      <td>NaN</td>\n",
              "      <td>NaN</td>\n",
              "      <td>NaN</td>\n",
              "      <td>None</td>\n",
              "      <td>None</td>\n",
              "      <td>NaN</td>\n",
              "      <td>NaN</td>\n",
              "      <td>None</td>\n",
              "      <td>None</td>\n",
              "      <td>LINESTRING Z (649077.7 6867733.1 31, 649093.2 ...</td>\n",
              "    </tr>\n",
              "    <tr>\n",
              "      <th>1</th>\n",
              "      <td>TRONROUT0000000004043446</td>\n",
              "      <td>Route à 1 chaussée</td>\n",
              "      <td>AV VOLTAIRE</td>\n",
              "      <td>AV VOLTAIRE</td>\n",
              "      <td>5</td>\n",
              "      <td>False</td>\n",
              "      <td>0</td>\n",
              "      <td>En service</td>\n",
              "      <td>2006-05-22 16:59:15.638</td>\n",
              "      <td>2024-07-21 22:19:18.425</td>\n",
              "      <td>...</td>\n",
              "      <td>NaN</td>\n",
              "      <td>NaN</td>\n",
              "      <td>NaN</td>\n",
              "      <td>None</td>\n",
              "      <td>None</td>\n",
              "      <td>NaN</td>\n",
              "      <td>NaN</td>\n",
              "      <td>None</td>\n",
              "      <td>None</td>\n",
              "      <td>LINESTRING Z (648493.1 6875942.3 42.8, 648548....</td>\n",
              "    </tr>\n",
              "    <tr>\n",
              "      <th>2</th>\n",
              "      <td>TRONROUT0000000004039875</td>\n",
              "      <td>Route à 1 chaussée</td>\n",
              "      <td>R DU PUITS GRENET</td>\n",
              "      <td>R DU PUITS GRENET</td>\n",
              "      <td>4</td>\n",
              "      <td>False</td>\n",
              "      <td>0</td>\n",
              "      <td>En service</td>\n",
              "      <td>2006-05-22 16:59:15.638</td>\n",
              "      <td>2024-07-14 22:29:21.839</td>\n",
              "      <td>...</td>\n",
              "      <td>NaN</td>\n",
              "      <td>NaN</td>\n",
              "      <td>NaN</td>\n",
              "      <td>None</td>\n",
              "      <td>None</td>\n",
              "      <td>NaN</td>\n",
              "      <td>NaN</td>\n",
              "      <td>None</td>\n",
              "      <td>None</td>\n",
              "      <td>LINESTRING Z (649126.8 6876770.5 56, 649122.3 ...</td>\n",
              "    </tr>\n",
              "    <tr>\n",
              "      <th>3</th>\n",
              "      <td>TRONROUT0000000004037615</td>\n",
              "      <td>Route à 1 chaussée</td>\n",
              "      <td>R DU PUITS GRENET</td>\n",
              "      <td>R DU PUITS GRENET</td>\n",
              "      <td>5</td>\n",
              "      <td>False</td>\n",
              "      <td>0</td>\n",
              "      <td>En service</td>\n",
              "      <td>2006-05-22 16:59:15.638</td>\n",
              "      <td>2024-07-14 22:29:21.839</td>\n",
              "      <td>...</td>\n",
              "      <td>NaN</td>\n",
              "      <td>NaN</td>\n",
              "      <td>NaN</td>\n",
              "      <td>None</td>\n",
              "      <td>None</td>\n",
              "      <td>NaN</td>\n",
              "      <td>NaN</td>\n",
              "      <td>None</td>\n",
              "      <td>None</td>\n",
              "      <td>LINESTRING Z (648953 6876850.2 50, 648951 6876...</td>\n",
              "    </tr>\n",
              "    <tr>\n",
              "      <th>4</th>\n",
              "      <td>TRONROUT0000000004039876</td>\n",
              "      <td>Route à 1 chaussée</td>\n",
              "      <td>R DU PUITS GRENET</td>\n",
              "      <td>R DU PUITS GRENET</td>\n",
              "      <td>5</td>\n",
              "      <td>False</td>\n",
              "      <td>0</td>\n",
              "      <td>En service</td>\n",
              "      <td>2006-05-22 16:59:15.638</td>\n",
              "      <td>2024-07-14 22:29:21.839</td>\n",
              "      <td>...</td>\n",
              "      <td>NaN</td>\n",
              "      <td>NaN</td>\n",
              "      <td>NaN</td>\n",
              "      <td>None</td>\n",
              "      <td>None</td>\n",
              "      <td>NaN</td>\n",
              "      <td>NaN</td>\n",
              "      <td>None</td>\n",
              "      <td>None</td>\n",
              "      <td>LINESTRING Z (649025.4 6876762.1 49.9, 649027....</td>\n",
              "    </tr>\n",
              "  </tbody>\n",
              "</table>\n",
              "<p>5 rows × 84 columns</p>\n",
              "</div>\n",
              "    <div class=\"colab-df-buttons\">\n",
              "\n",
              "  <div class=\"colab-df-container\">\n",
              "    <button class=\"colab-df-convert\" onclick=\"convertToInteractive('df-c4f29756-9484-452e-aede-0c806fa1ee6c')\"\n",
              "            title=\"Convert this dataframe to an interactive table.\"\n",
              "            style=\"display:none;\">\n",
              "\n",
              "  <svg xmlns=\"http://www.w3.org/2000/svg\" height=\"24px\" viewBox=\"0 -960 960 960\">\n",
              "    <path d=\"M120-120v-720h720v720H120Zm60-500h600v-160H180v160Zm220 220h160v-160H400v160Zm0 220h160v-160H400v160ZM180-400h160v-160H180v160Zm440 0h160v-160H620v160ZM180-180h160v-160H180v160Zm440 0h160v-160H620v160Z\"/>\n",
              "  </svg>\n",
              "    </button>\n",
              "\n",
              "  <style>\n",
              "    .colab-df-container {\n",
              "      display:flex;\n",
              "      gap: 12px;\n",
              "    }\n",
              "\n",
              "    .colab-df-convert {\n",
              "      background-color: #E8F0FE;\n",
              "      border: none;\n",
              "      border-radius: 50%;\n",
              "      cursor: pointer;\n",
              "      display: none;\n",
              "      fill: #1967D2;\n",
              "      height: 32px;\n",
              "      padding: 0 0 0 0;\n",
              "      width: 32px;\n",
              "    }\n",
              "\n",
              "    .colab-df-convert:hover {\n",
              "      background-color: #E2EBFA;\n",
              "      box-shadow: 0px 1px 2px rgba(60, 64, 67, 0.3), 0px 1px 3px 1px rgba(60, 64, 67, 0.15);\n",
              "      fill: #174EA6;\n",
              "    }\n",
              "\n",
              "    .colab-df-buttons div {\n",
              "      margin-bottom: 4px;\n",
              "    }\n",
              "\n",
              "    [theme=dark] .colab-df-convert {\n",
              "      background-color: #3B4455;\n",
              "      fill: #D2E3FC;\n",
              "    }\n",
              "\n",
              "    [theme=dark] .colab-df-convert:hover {\n",
              "      background-color: #434B5C;\n",
              "      box-shadow: 0px 1px 3px 1px rgba(0, 0, 0, 0.15);\n",
              "      filter: drop-shadow(0px 1px 2px rgba(0, 0, 0, 0.3));\n",
              "      fill: #FFFFFF;\n",
              "    }\n",
              "  </style>\n",
              "\n",
              "    <script>\n",
              "      const buttonEl =\n",
              "        document.querySelector('#df-c4f29756-9484-452e-aede-0c806fa1ee6c button.colab-df-convert');\n",
              "      buttonEl.style.display =\n",
              "        google.colab.kernel.accessAllowed ? 'block' : 'none';\n",
              "\n",
              "      async function convertToInteractive(key) {\n",
              "        const element = document.querySelector('#df-c4f29756-9484-452e-aede-0c806fa1ee6c');\n",
              "        const dataTable =\n",
              "          await google.colab.kernel.invokeFunction('convertToInteractive',\n",
              "                                                    [key], {});\n",
              "        if (!dataTable) return;\n",
              "\n",
              "        const docLinkHtml = 'Like what you see? Visit the ' +\n",
              "          '<a target=\"_blank\" href=https://colab.research.google.com/notebooks/data_table.ipynb>data table notebook</a>'\n",
              "          + ' to learn more about interactive tables.';\n",
              "        element.innerHTML = '';\n",
              "        dataTable['output_type'] = 'display_data';\n",
              "        await google.colab.output.renderOutput(dataTable, element);\n",
              "        const docLink = document.createElement('div');\n",
              "        docLink.innerHTML = docLinkHtml;\n",
              "        element.appendChild(docLink);\n",
              "      }\n",
              "    </script>\n",
              "  </div>\n",
              "\n",
              "\n",
              "<div id=\"df-de49de52-254c-4658-8567-f1a97bf00d9a\">\n",
              "  <button class=\"colab-df-quickchart\" onclick=\"quickchart('df-de49de52-254c-4658-8567-f1a97bf00d9a')\"\n",
              "            title=\"Suggest charts\"\n",
              "            style=\"display:none;\">\n",
              "\n",
              "<svg xmlns=\"http://www.w3.org/2000/svg\" height=\"24px\"viewBox=\"0 0 24 24\"\n",
              "     width=\"24px\">\n",
              "    <g>\n",
              "        <path d=\"M19 3H5c-1.1 0-2 .9-2 2v14c0 1.1.9 2 2 2h14c1.1 0 2-.9 2-2V5c0-1.1-.9-2-2-2zM9 17H7v-7h2v7zm4 0h-2V7h2v10zm4 0h-2v-4h2v4z\"/>\n",
              "    </g>\n",
              "</svg>\n",
              "  </button>\n",
              "\n",
              "<style>\n",
              "  .colab-df-quickchart {\n",
              "      --bg-color: #E8F0FE;\n",
              "      --fill-color: #1967D2;\n",
              "      --hover-bg-color: #E2EBFA;\n",
              "      --hover-fill-color: #174EA6;\n",
              "      --disabled-fill-color: #AAA;\n",
              "      --disabled-bg-color: #DDD;\n",
              "  }\n",
              "\n",
              "  [theme=dark] .colab-df-quickchart {\n",
              "      --bg-color: #3B4455;\n",
              "      --fill-color: #D2E3FC;\n",
              "      --hover-bg-color: #434B5C;\n",
              "      --hover-fill-color: #FFFFFF;\n",
              "      --disabled-bg-color: #3B4455;\n",
              "      --disabled-fill-color: #666;\n",
              "  }\n",
              "\n",
              "  .colab-df-quickchart {\n",
              "    background-color: var(--bg-color);\n",
              "    border: none;\n",
              "    border-radius: 50%;\n",
              "    cursor: pointer;\n",
              "    display: none;\n",
              "    fill: var(--fill-color);\n",
              "    height: 32px;\n",
              "    padding: 0;\n",
              "    width: 32px;\n",
              "  }\n",
              "\n",
              "  .colab-df-quickchart:hover {\n",
              "    background-color: var(--hover-bg-color);\n",
              "    box-shadow: 0 1px 2px rgba(60, 64, 67, 0.3), 0 1px 3px 1px rgba(60, 64, 67, 0.15);\n",
              "    fill: var(--button-hover-fill-color);\n",
              "  }\n",
              "\n",
              "  .colab-df-quickchart-complete:disabled,\n",
              "  .colab-df-quickchart-complete:disabled:hover {\n",
              "    background-color: var(--disabled-bg-color);\n",
              "    fill: var(--disabled-fill-color);\n",
              "    box-shadow: none;\n",
              "  }\n",
              "\n",
              "  .colab-df-spinner {\n",
              "    border: 2px solid var(--fill-color);\n",
              "    border-color: transparent;\n",
              "    border-bottom-color: var(--fill-color);\n",
              "    animation:\n",
              "      spin 1s steps(1) infinite;\n",
              "  }\n",
              "\n",
              "  @keyframes spin {\n",
              "    0% {\n",
              "      border-color: transparent;\n",
              "      border-bottom-color: var(--fill-color);\n",
              "      border-left-color: var(--fill-color);\n",
              "    }\n",
              "    20% {\n",
              "      border-color: transparent;\n",
              "      border-left-color: var(--fill-color);\n",
              "      border-top-color: var(--fill-color);\n",
              "    }\n",
              "    30% {\n",
              "      border-color: transparent;\n",
              "      border-left-color: var(--fill-color);\n",
              "      border-top-color: var(--fill-color);\n",
              "      border-right-color: var(--fill-color);\n",
              "    }\n",
              "    40% {\n",
              "      border-color: transparent;\n",
              "      border-right-color: var(--fill-color);\n",
              "      border-top-color: var(--fill-color);\n",
              "    }\n",
              "    60% {\n",
              "      border-color: transparent;\n",
              "      border-right-color: var(--fill-color);\n",
              "    }\n",
              "    80% {\n",
              "      border-color: transparent;\n",
              "      border-right-color: var(--fill-color);\n",
              "      border-bottom-color: var(--fill-color);\n",
              "    }\n",
              "    90% {\n",
              "      border-color: transparent;\n",
              "      border-bottom-color: var(--fill-color);\n",
              "    }\n",
              "  }\n",
              "</style>\n",
              "\n",
              "  <script>\n",
              "    async function quickchart(key) {\n",
              "      const quickchartButtonEl =\n",
              "        document.querySelector('#' + key + ' button');\n",
              "      quickchartButtonEl.disabled = true;  // To prevent multiple clicks.\n",
              "      quickchartButtonEl.classList.add('colab-df-spinner');\n",
              "      try {\n",
              "        const charts = await google.colab.kernel.invokeFunction(\n",
              "            'suggestCharts', [key], {});\n",
              "      } catch (error) {\n",
              "        console.error('Error during call to suggestCharts:', error);\n",
              "      }\n",
              "      quickchartButtonEl.classList.remove('colab-df-spinner');\n",
              "      quickchartButtonEl.classList.add('colab-df-quickchart-complete');\n",
              "    }\n",
              "    (() => {\n",
              "      let quickchartButtonEl =\n",
              "        document.querySelector('#df-de49de52-254c-4658-8567-f1a97bf00d9a button');\n",
              "      quickchartButtonEl.style.display =\n",
              "        google.colab.kernel.accessAllowed ? 'block' : 'none';\n",
              "    })();\n",
              "  </script>\n",
              "</div>\n",
              "\n",
              "    </div>\n",
              "  </div>\n"
            ],
            "application/vnd.google.colaboratory.intrinsic+json": {
              "type": "dataframe",
              "variable_name": "gdf"
            }
          },
          "metadata": {},
          "execution_count": 172
        }
      ]
    },
    {
      "cell_type": "code",
      "source": [],
      "metadata": {
        "id": "iVmOAhDaUlio"
      },
      "execution_count": null,
      "outputs": []
    },
    {
      "cell_type": "code",
      "source": [],
      "metadata": {
        "id": "dkqoYg5LUlnw"
      },
      "execution_count": null,
      "outputs": []
    },
    {
      "cell_type": "code",
      "source": [],
      "metadata": {
        "id": "gLPiHWtZUlsM"
      },
      "execution_count": null,
      "outputs": []
    },
    {
      "cell_type": "code",
      "source": [],
      "metadata": {
        "id": "ZMFDjYfnUlwI"
      },
      "execution_count": null,
      "outputs": []
    },
    {
      "cell_type": "markdown",
      "source": [
        "## Exploration données rayonnement solaire\n",
        "* Source des données : [odre.opendatasoft.com](https://odre.opendatasoft.com/explore/dataset/rayonnement-solaire-vitesse-vent-tri-horaires-regionaux/information/?disjunctive.region)"
      ],
      "metadata": {
        "id": "o_OA2jjWUl-L"
      }
    },
    {
      "cell_type": "code",
      "source": [
        "# Import des modules utilisés\n",
        "import requests\n",
        "import pandas as pd"
      ],
      "metadata": {
        "id": "DvIDZ0NTVO7z"
      },
      "execution_count": 1,
      "outputs": []
    },
    {
      "cell_type": "code",
      "source": [
        "# Définition de l'url qui contient les données\n",
        "# Formats disponibles : csv, json, parquet, etc\n",
        "\n",
        "# json\n",
        "#url = 'https://odre.opendatasoft.com/api/explore/v2.1/catalog/datasets/rayonnement-solaire-vitesse-vent-tri-horaires-regionaux/exports/json'\n",
        "\n",
        "# parquet\n",
        "url = 'https://odre.opendatasoft.com/api/explore/v2.1/catalog/datasets/rayonnement-solaire-vitesse-vent-tri-horaires-regionaux/exports/parquet'"
      ],
      "metadata": {
        "id": "sKuRQYb_aDrI"
      },
      "execution_count": 2,
      "outputs": []
    },
    {
      "cell_type": "code",
      "source": [
        "# Code pour json\n",
        "\n",
        "# Récupération des données\n",
        "#response = requests.get(url)\n",
        "\n",
        "# Vérification de la bonne récupération\n",
        "#if response.status_code == 200:\n",
        "#  data = response.json()\n",
        "#  print(\"Données disponibles !\\n\")\n",
        "#  # Création du jeu de données\n",
        "#  df = pd.DataFrame(data)\n",
        "#  print(f\"Le dataframe contient {df.shape[0]} lignes et {df.shape[1]} colonnes.\")\n",
        "#else:\n",
        "#  print(f\"Erreur: {response.status_code}\")"
      ],
      "metadata": {
        "id": "u4O2d1paeN_n"
      },
      "execution_count": null,
      "outputs": []
    },
    {
      "cell_type": "code",
      "source": [
        "# Code pour parquet\n",
        "from io import BytesIO\n",
        "\n",
        "# Récupération des données\n",
        "response = requests.get(url)\n",
        "\n",
        "# Vérification de la bonne récupération\n",
        "if response.status_code == 200:\n",
        "  # Permet de lire le fichier\n",
        "  file_content = BytesIO(response.content)\n",
        "  print(\"Données disponibles !\\n\")\n",
        "  # Création du jeu de données\n",
        "  df = pd.read_parquet(file_content)\n",
        "  print(f\"Le dataframe contient {df.shape[0]} lignes et {df.shape[1]} colonnes.\")\n",
        "else:\n",
        "  print(f\"Erreur: {response.status_code}\")"
      ],
      "metadata": {
        "colab": {
          "base_uri": "https://localhost:8080/"
        },
        "id": "71jq3R08eYfe",
        "outputId": "f45229f8-4250-428f-d591-141fd9874005"
      },
      "execution_count": 3,
      "outputs": [
        {
          "output_type": "stream",
          "name": "stdout",
          "text": [
            "Données disponibles !\n",
            "\n",
            "Le dataframe contient 342575 lignes et 5 colonnes.\n"
          ]
        }
      ]
    },
    {
      "cell_type": "code",
      "source": [
        "df.head()"
      ],
      "metadata": {
        "colab": {
          "base_uri": "https://localhost:8080/",
          "height": 206
        },
        "id": "RhLbAnzKh4RE",
        "outputId": "c70d0b2f-5d67-4f8e-9d1d-b6b62fee4fcd"
      },
      "execution_count": 4,
      "outputs": [
        {
          "output_type": "execute_result",
          "data": {
            "text/plain": [
              "                       date code_insee_region                      region  \\\n",
              "0 2016-08-15 09:00:00+00:00                93  Provence-Alpes-Côte d'Azur   \n",
              "1 2016-08-15 09:00:00+00:00                94                       Corse   \n",
              "2 2016-08-15 09:00:00+00:00                75          Nouvelle-Aquitaine   \n",
              "3 2016-08-15 09:00:00+00:00                44                   Grand Est   \n",
              "4 2016-08-15 09:00:00+00:00                32             Hauts-de-France   \n",
              "\n",
              "   uv100  ssrd03h  \n",
              "0   4.51   417.94  \n",
              "1   2.63   449.81  \n",
              "2   3.58   339.16  \n",
              "3   4.32   387.79  \n",
              "4   5.27   365.57  "
            ],
            "text/html": [
              "\n",
              "  <div id=\"df-bdb177e9-0746-4503-aeb0-a18ba1c5e4b0\" class=\"colab-df-container\">\n",
              "    <div>\n",
              "<style scoped>\n",
              "    .dataframe tbody tr th:only-of-type {\n",
              "        vertical-align: middle;\n",
              "    }\n",
              "\n",
              "    .dataframe tbody tr th {\n",
              "        vertical-align: top;\n",
              "    }\n",
              "\n",
              "    .dataframe thead th {\n",
              "        text-align: right;\n",
              "    }\n",
              "</style>\n",
              "<table border=\"1\" class=\"dataframe\">\n",
              "  <thead>\n",
              "    <tr style=\"text-align: right;\">\n",
              "      <th></th>\n",
              "      <th>date</th>\n",
              "      <th>code_insee_region</th>\n",
              "      <th>region</th>\n",
              "      <th>uv100</th>\n",
              "      <th>ssrd03h</th>\n",
              "    </tr>\n",
              "  </thead>\n",
              "  <tbody>\n",
              "    <tr>\n",
              "      <th>0</th>\n",
              "      <td>2016-08-15 09:00:00+00:00</td>\n",
              "      <td>93</td>\n",
              "      <td>Provence-Alpes-Côte d'Azur</td>\n",
              "      <td>4.51</td>\n",
              "      <td>417.94</td>\n",
              "    </tr>\n",
              "    <tr>\n",
              "      <th>1</th>\n",
              "      <td>2016-08-15 09:00:00+00:00</td>\n",
              "      <td>94</td>\n",
              "      <td>Corse</td>\n",
              "      <td>2.63</td>\n",
              "      <td>449.81</td>\n",
              "    </tr>\n",
              "    <tr>\n",
              "      <th>2</th>\n",
              "      <td>2016-08-15 09:00:00+00:00</td>\n",
              "      <td>75</td>\n",
              "      <td>Nouvelle-Aquitaine</td>\n",
              "      <td>3.58</td>\n",
              "      <td>339.16</td>\n",
              "    </tr>\n",
              "    <tr>\n",
              "      <th>3</th>\n",
              "      <td>2016-08-15 09:00:00+00:00</td>\n",
              "      <td>44</td>\n",
              "      <td>Grand Est</td>\n",
              "      <td>4.32</td>\n",
              "      <td>387.79</td>\n",
              "    </tr>\n",
              "    <tr>\n",
              "      <th>4</th>\n",
              "      <td>2016-08-15 09:00:00+00:00</td>\n",
              "      <td>32</td>\n",
              "      <td>Hauts-de-France</td>\n",
              "      <td>5.27</td>\n",
              "      <td>365.57</td>\n",
              "    </tr>\n",
              "  </tbody>\n",
              "</table>\n",
              "</div>\n",
              "    <div class=\"colab-df-buttons\">\n",
              "\n",
              "  <div class=\"colab-df-container\">\n",
              "    <button class=\"colab-df-convert\" onclick=\"convertToInteractive('df-bdb177e9-0746-4503-aeb0-a18ba1c5e4b0')\"\n",
              "            title=\"Convert this dataframe to an interactive table.\"\n",
              "            style=\"display:none;\">\n",
              "\n",
              "  <svg xmlns=\"http://www.w3.org/2000/svg\" height=\"24px\" viewBox=\"0 -960 960 960\">\n",
              "    <path d=\"M120-120v-720h720v720H120Zm60-500h600v-160H180v160Zm220 220h160v-160H400v160Zm0 220h160v-160H400v160ZM180-400h160v-160H180v160Zm440 0h160v-160H620v160ZM180-180h160v-160H180v160Zm440 0h160v-160H620v160Z\"/>\n",
              "  </svg>\n",
              "    </button>\n",
              "\n",
              "  <style>\n",
              "    .colab-df-container {\n",
              "      display:flex;\n",
              "      gap: 12px;\n",
              "    }\n",
              "\n",
              "    .colab-df-convert {\n",
              "      background-color: #E8F0FE;\n",
              "      border: none;\n",
              "      border-radius: 50%;\n",
              "      cursor: pointer;\n",
              "      display: none;\n",
              "      fill: #1967D2;\n",
              "      height: 32px;\n",
              "      padding: 0 0 0 0;\n",
              "      width: 32px;\n",
              "    }\n",
              "\n",
              "    .colab-df-convert:hover {\n",
              "      background-color: #E2EBFA;\n",
              "      box-shadow: 0px 1px 2px rgba(60, 64, 67, 0.3), 0px 1px 3px 1px rgba(60, 64, 67, 0.15);\n",
              "      fill: #174EA6;\n",
              "    }\n",
              "\n",
              "    .colab-df-buttons div {\n",
              "      margin-bottom: 4px;\n",
              "    }\n",
              "\n",
              "    [theme=dark] .colab-df-convert {\n",
              "      background-color: #3B4455;\n",
              "      fill: #D2E3FC;\n",
              "    }\n",
              "\n",
              "    [theme=dark] .colab-df-convert:hover {\n",
              "      background-color: #434B5C;\n",
              "      box-shadow: 0px 1px 3px 1px rgba(0, 0, 0, 0.15);\n",
              "      filter: drop-shadow(0px 1px 2px rgba(0, 0, 0, 0.3));\n",
              "      fill: #FFFFFF;\n",
              "    }\n",
              "  </style>\n",
              "\n",
              "    <script>\n",
              "      const buttonEl =\n",
              "        document.querySelector('#df-bdb177e9-0746-4503-aeb0-a18ba1c5e4b0 button.colab-df-convert');\n",
              "      buttonEl.style.display =\n",
              "        google.colab.kernel.accessAllowed ? 'block' : 'none';\n",
              "\n",
              "      async function convertToInteractive(key) {\n",
              "        const element = document.querySelector('#df-bdb177e9-0746-4503-aeb0-a18ba1c5e4b0');\n",
              "        const dataTable =\n",
              "          await google.colab.kernel.invokeFunction('convertToInteractive',\n",
              "                                                    [key], {});\n",
              "        if (!dataTable) return;\n",
              "\n",
              "        const docLinkHtml = 'Like what you see? Visit the ' +\n",
              "          '<a target=\"_blank\" href=https://colab.research.google.com/notebooks/data_table.ipynb>data table notebook</a>'\n",
              "          + ' to learn more about interactive tables.';\n",
              "        element.innerHTML = '';\n",
              "        dataTable['output_type'] = 'display_data';\n",
              "        await google.colab.output.renderOutput(dataTable, element);\n",
              "        const docLink = document.createElement('div');\n",
              "        docLink.innerHTML = docLinkHtml;\n",
              "        element.appendChild(docLink);\n",
              "      }\n",
              "    </script>\n",
              "  </div>\n",
              "\n",
              "\n",
              "<div id=\"df-45a6f491-7c37-41c1-83ac-ba05b8b4474e\">\n",
              "  <button class=\"colab-df-quickchart\" onclick=\"quickchart('df-45a6f491-7c37-41c1-83ac-ba05b8b4474e')\"\n",
              "            title=\"Suggest charts\"\n",
              "            style=\"display:none;\">\n",
              "\n",
              "<svg xmlns=\"http://www.w3.org/2000/svg\" height=\"24px\"viewBox=\"0 0 24 24\"\n",
              "     width=\"24px\">\n",
              "    <g>\n",
              "        <path d=\"M19 3H5c-1.1 0-2 .9-2 2v14c0 1.1.9 2 2 2h14c1.1 0 2-.9 2-2V5c0-1.1-.9-2-2-2zM9 17H7v-7h2v7zm4 0h-2V7h2v10zm4 0h-2v-4h2v4z\"/>\n",
              "    </g>\n",
              "</svg>\n",
              "  </button>\n",
              "\n",
              "<style>\n",
              "  .colab-df-quickchart {\n",
              "      --bg-color: #E8F0FE;\n",
              "      --fill-color: #1967D2;\n",
              "      --hover-bg-color: #E2EBFA;\n",
              "      --hover-fill-color: #174EA6;\n",
              "      --disabled-fill-color: #AAA;\n",
              "      --disabled-bg-color: #DDD;\n",
              "  }\n",
              "\n",
              "  [theme=dark] .colab-df-quickchart {\n",
              "      --bg-color: #3B4455;\n",
              "      --fill-color: #D2E3FC;\n",
              "      --hover-bg-color: #434B5C;\n",
              "      --hover-fill-color: #FFFFFF;\n",
              "      --disabled-bg-color: #3B4455;\n",
              "      --disabled-fill-color: #666;\n",
              "  }\n",
              "\n",
              "  .colab-df-quickchart {\n",
              "    background-color: var(--bg-color);\n",
              "    border: none;\n",
              "    border-radius: 50%;\n",
              "    cursor: pointer;\n",
              "    display: none;\n",
              "    fill: var(--fill-color);\n",
              "    height: 32px;\n",
              "    padding: 0;\n",
              "    width: 32px;\n",
              "  }\n",
              "\n",
              "  .colab-df-quickchart:hover {\n",
              "    background-color: var(--hover-bg-color);\n",
              "    box-shadow: 0 1px 2px rgba(60, 64, 67, 0.3), 0 1px 3px 1px rgba(60, 64, 67, 0.15);\n",
              "    fill: var(--button-hover-fill-color);\n",
              "  }\n",
              "\n",
              "  .colab-df-quickchart-complete:disabled,\n",
              "  .colab-df-quickchart-complete:disabled:hover {\n",
              "    background-color: var(--disabled-bg-color);\n",
              "    fill: var(--disabled-fill-color);\n",
              "    box-shadow: none;\n",
              "  }\n",
              "\n",
              "  .colab-df-spinner {\n",
              "    border: 2px solid var(--fill-color);\n",
              "    border-color: transparent;\n",
              "    border-bottom-color: var(--fill-color);\n",
              "    animation:\n",
              "      spin 1s steps(1) infinite;\n",
              "  }\n",
              "\n",
              "  @keyframes spin {\n",
              "    0% {\n",
              "      border-color: transparent;\n",
              "      border-bottom-color: var(--fill-color);\n",
              "      border-left-color: var(--fill-color);\n",
              "    }\n",
              "    20% {\n",
              "      border-color: transparent;\n",
              "      border-left-color: var(--fill-color);\n",
              "      border-top-color: var(--fill-color);\n",
              "    }\n",
              "    30% {\n",
              "      border-color: transparent;\n",
              "      border-left-color: var(--fill-color);\n",
              "      border-top-color: var(--fill-color);\n",
              "      border-right-color: var(--fill-color);\n",
              "    }\n",
              "    40% {\n",
              "      border-color: transparent;\n",
              "      border-right-color: var(--fill-color);\n",
              "      border-top-color: var(--fill-color);\n",
              "    }\n",
              "    60% {\n",
              "      border-color: transparent;\n",
              "      border-right-color: var(--fill-color);\n",
              "    }\n",
              "    80% {\n",
              "      border-color: transparent;\n",
              "      border-right-color: var(--fill-color);\n",
              "      border-bottom-color: var(--fill-color);\n",
              "    }\n",
              "    90% {\n",
              "      border-color: transparent;\n",
              "      border-bottom-color: var(--fill-color);\n",
              "    }\n",
              "  }\n",
              "</style>\n",
              "\n",
              "  <script>\n",
              "    async function quickchart(key) {\n",
              "      const quickchartButtonEl =\n",
              "        document.querySelector('#' + key + ' button');\n",
              "      quickchartButtonEl.disabled = true;  // To prevent multiple clicks.\n",
              "      quickchartButtonEl.classList.add('colab-df-spinner');\n",
              "      try {\n",
              "        const charts = await google.colab.kernel.invokeFunction(\n",
              "            'suggestCharts', [key], {});\n",
              "      } catch (error) {\n",
              "        console.error('Error during call to suggestCharts:', error);\n",
              "      }\n",
              "      quickchartButtonEl.classList.remove('colab-df-spinner');\n",
              "      quickchartButtonEl.classList.add('colab-df-quickchart-complete');\n",
              "    }\n",
              "    (() => {\n",
              "      let quickchartButtonEl =\n",
              "        document.querySelector('#df-45a6f491-7c37-41c1-83ac-ba05b8b4474e button');\n",
              "      quickchartButtonEl.style.display =\n",
              "        google.colab.kernel.accessAllowed ? 'block' : 'none';\n",
              "    })();\n",
              "  </script>\n",
              "</div>\n",
              "\n",
              "    </div>\n",
              "  </div>\n"
            ],
            "application/vnd.google.colaboratory.intrinsic+json": {
              "type": "dataframe",
              "variable_name": "df"
            }
          },
          "metadata": {},
          "execution_count": 4
        }
      ]
    },
    {
      "cell_type": "code",
      "source": [
        "df['date'].max()"
      ],
      "metadata": {
        "id": "MMGDBvJaI6AH",
        "colab": {
          "base_uri": "https://localhost:8080/"
        },
        "outputId": "110f57b9-e5c1-4b04-cc28-786ca890096f"
      },
      "execution_count": 5,
      "outputs": [
        {
          "output_type": "execute_result",
          "data": {
            "text/plain": [
              "Timestamp('2025-02-01 00:00:00+0000', tz='UTC')"
            ]
          },
          "metadata": {},
          "execution_count": 5
        }
      ]
    },
    {
      "cell_type": "code",
      "source": [
        "# Définitions des filtres\n",
        "\n",
        "# Sélection du département 93\n",
        "cond_93 = df['code_insee_region']=='93'\n",
        "\n",
        "# Sélection de l'année 2025\n",
        "cond_2025 = df['date'].dt.year==2025"
      ],
      "metadata": {
        "id": "zNXVCYLKjeHA"
      },
      "execution_count": 21,
      "outputs": []
    },
    {
      "cell_type": "code",
      "source": [
        "# Filtre du df\n",
        "df_93_2025 = df[cond_93 & cond_2025]\n",
        "df_93_2025.shape"
      ],
      "metadata": {
        "colab": {
          "base_uri": "https://localhost:8080/"
        },
        "id": "faqZzFihjvzS",
        "outputId": "430dae65-40bd-43d6-d222-b115c2818315"
      },
      "execution_count": 22,
      "outputs": [
        {
          "output_type": "execute_result",
          "data": {
            "text/plain": [
              "(249, 5)"
            ]
          },
          "metadata": {},
          "execution_count": 22
        }
      ]
    },
    {
      "cell_type": "code",
      "source": [
        "df_93_2025.head()"
      ],
      "metadata": {
        "colab": {
          "base_uri": "https://localhost:8080/",
          "height": 206
        },
        "id": "4KRpkOp3kekr",
        "outputId": "a7c540f0-67fc-43b9-d16a-59b93fe82a54"
      },
      "execution_count": 23,
      "outputs": [
        {
          "output_type": "execute_result",
          "data": {
            "text/plain": [
              "                            date code_insee_region  \\\n",
              "338999 2025-01-01 00:00:00+00:00                93   \n",
              "339422 2025-01-13 06:00:00+00:00                93   \n",
              "339458 2025-01-15 06:00:00+00:00                93   \n",
              "339493 2025-01-17 09:00:00+00:00                93   \n",
              "339509 2025-01-26 18:00:00+00:00                93   \n",
              "\n",
              "                            region  uv100  ssrd03h  \n",
              "338999  Provence-Alpes-Côte d'Azur   4.14     0.00  \n",
              "339422  Provence-Alpes-Côte d'Azur   5.97     0.00  \n",
              "339458  Provence-Alpes-Côte d'Azur   5.51     0.00  \n",
              "339493  Provence-Alpes-Côte d'Azur   5.22   125.37  \n",
              "339509  Provence-Alpes-Côte d'Azur   6.43    73.94  "
            ],
            "text/html": [
              "\n",
              "  <div id=\"df-3b8daedc-8c8c-4696-8259-6cf6b80fa5b4\" class=\"colab-df-container\">\n",
              "    <div>\n",
              "<style scoped>\n",
              "    .dataframe tbody tr th:only-of-type {\n",
              "        vertical-align: middle;\n",
              "    }\n",
              "\n",
              "    .dataframe tbody tr th {\n",
              "        vertical-align: top;\n",
              "    }\n",
              "\n",
              "    .dataframe thead th {\n",
              "        text-align: right;\n",
              "    }\n",
              "</style>\n",
              "<table border=\"1\" class=\"dataframe\">\n",
              "  <thead>\n",
              "    <tr style=\"text-align: right;\">\n",
              "      <th></th>\n",
              "      <th>date</th>\n",
              "      <th>code_insee_region</th>\n",
              "      <th>region</th>\n",
              "      <th>uv100</th>\n",
              "      <th>ssrd03h</th>\n",
              "    </tr>\n",
              "  </thead>\n",
              "  <tbody>\n",
              "    <tr>\n",
              "      <th>338999</th>\n",
              "      <td>2025-01-01 00:00:00+00:00</td>\n",
              "      <td>93</td>\n",
              "      <td>Provence-Alpes-Côte d'Azur</td>\n",
              "      <td>4.14</td>\n",
              "      <td>0.00</td>\n",
              "    </tr>\n",
              "    <tr>\n",
              "      <th>339422</th>\n",
              "      <td>2025-01-13 06:00:00+00:00</td>\n",
              "      <td>93</td>\n",
              "      <td>Provence-Alpes-Côte d'Azur</td>\n",
              "      <td>5.97</td>\n",
              "      <td>0.00</td>\n",
              "    </tr>\n",
              "    <tr>\n",
              "      <th>339458</th>\n",
              "      <td>2025-01-15 06:00:00+00:00</td>\n",
              "      <td>93</td>\n",
              "      <td>Provence-Alpes-Côte d'Azur</td>\n",
              "      <td>5.51</td>\n",
              "      <td>0.00</td>\n",
              "    </tr>\n",
              "    <tr>\n",
              "      <th>339493</th>\n",
              "      <td>2025-01-17 09:00:00+00:00</td>\n",
              "      <td>93</td>\n",
              "      <td>Provence-Alpes-Côte d'Azur</td>\n",
              "      <td>5.22</td>\n",
              "      <td>125.37</td>\n",
              "    </tr>\n",
              "    <tr>\n",
              "      <th>339509</th>\n",
              "      <td>2025-01-26 18:00:00+00:00</td>\n",
              "      <td>93</td>\n",
              "      <td>Provence-Alpes-Côte d'Azur</td>\n",
              "      <td>6.43</td>\n",
              "      <td>73.94</td>\n",
              "    </tr>\n",
              "  </tbody>\n",
              "</table>\n",
              "</div>\n",
              "    <div class=\"colab-df-buttons\">\n",
              "\n",
              "  <div class=\"colab-df-container\">\n",
              "    <button class=\"colab-df-convert\" onclick=\"convertToInteractive('df-3b8daedc-8c8c-4696-8259-6cf6b80fa5b4')\"\n",
              "            title=\"Convert this dataframe to an interactive table.\"\n",
              "            style=\"display:none;\">\n",
              "\n",
              "  <svg xmlns=\"http://www.w3.org/2000/svg\" height=\"24px\" viewBox=\"0 -960 960 960\">\n",
              "    <path d=\"M120-120v-720h720v720H120Zm60-500h600v-160H180v160Zm220 220h160v-160H400v160Zm0 220h160v-160H400v160ZM180-400h160v-160H180v160Zm440 0h160v-160H620v160ZM180-180h160v-160H180v160Zm440 0h160v-160H620v160Z\"/>\n",
              "  </svg>\n",
              "    </button>\n",
              "\n",
              "  <style>\n",
              "    .colab-df-container {\n",
              "      display:flex;\n",
              "      gap: 12px;\n",
              "    }\n",
              "\n",
              "    .colab-df-convert {\n",
              "      background-color: #E8F0FE;\n",
              "      border: none;\n",
              "      border-radius: 50%;\n",
              "      cursor: pointer;\n",
              "      display: none;\n",
              "      fill: #1967D2;\n",
              "      height: 32px;\n",
              "      padding: 0 0 0 0;\n",
              "      width: 32px;\n",
              "    }\n",
              "\n",
              "    .colab-df-convert:hover {\n",
              "      background-color: #E2EBFA;\n",
              "      box-shadow: 0px 1px 2px rgba(60, 64, 67, 0.3), 0px 1px 3px 1px rgba(60, 64, 67, 0.15);\n",
              "      fill: #174EA6;\n",
              "    }\n",
              "\n",
              "    .colab-df-buttons div {\n",
              "      margin-bottom: 4px;\n",
              "    }\n",
              "\n",
              "    [theme=dark] .colab-df-convert {\n",
              "      background-color: #3B4455;\n",
              "      fill: #D2E3FC;\n",
              "    }\n",
              "\n",
              "    [theme=dark] .colab-df-convert:hover {\n",
              "      background-color: #434B5C;\n",
              "      box-shadow: 0px 1px 3px 1px rgba(0, 0, 0, 0.15);\n",
              "      filter: drop-shadow(0px 1px 2px rgba(0, 0, 0, 0.3));\n",
              "      fill: #FFFFFF;\n",
              "    }\n",
              "  </style>\n",
              "\n",
              "    <script>\n",
              "      const buttonEl =\n",
              "        document.querySelector('#df-3b8daedc-8c8c-4696-8259-6cf6b80fa5b4 button.colab-df-convert');\n",
              "      buttonEl.style.display =\n",
              "        google.colab.kernel.accessAllowed ? 'block' : 'none';\n",
              "\n",
              "      async function convertToInteractive(key) {\n",
              "        const element = document.querySelector('#df-3b8daedc-8c8c-4696-8259-6cf6b80fa5b4');\n",
              "        const dataTable =\n",
              "          await google.colab.kernel.invokeFunction('convertToInteractive',\n",
              "                                                    [key], {});\n",
              "        if (!dataTable) return;\n",
              "\n",
              "        const docLinkHtml = 'Like what you see? Visit the ' +\n",
              "          '<a target=\"_blank\" href=https://colab.research.google.com/notebooks/data_table.ipynb>data table notebook</a>'\n",
              "          + ' to learn more about interactive tables.';\n",
              "        element.innerHTML = '';\n",
              "        dataTable['output_type'] = 'display_data';\n",
              "        await google.colab.output.renderOutput(dataTable, element);\n",
              "        const docLink = document.createElement('div');\n",
              "        docLink.innerHTML = docLinkHtml;\n",
              "        element.appendChild(docLink);\n",
              "      }\n",
              "    </script>\n",
              "  </div>\n",
              "\n",
              "\n",
              "<div id=\"df-bfe3508b-60e5-467e-a49c-e34824078186\">\n",
              "  <button class=\"colab-df-quickchart\" onclick=\"quickchart('df-bfe3508b-60e5-467e-a49c-e34824078186')\"\n",
              "            title=\"Suggest charts\"\n",
              "            style=\"display:none;\">\n",
              "\n",
              "<svg xmlns=\"http://www.w3.org/2000/svg\" height=\"24px\"viewBox=\"0 0 24 24\"\n",
              "     width=\"24px\">\n",
              "    <g>\n",
              "        <path d=\"M19 3H5c-1.1 0-2 .9-2 2v14c0 1.1.9 2 2 2h14c1.1 0 2-.9 2-2V5c0-1.1-.9-2-2-2zM9 17H7v-7h2v7zm4 0h-2V7h2v10zm4 0h-2v-4h2v4z\"/>\n",
              "    </g>\n",
              "</svg>\n",
              "  </button>\n",
              "\n",
              "<style>\n",
              "  .colab-df-quickchart {\n",
              "      --bg-color: #E8F0FE;\n",
              "      --fill-color: #1967D2;\n",
              "      --hover-bg-color: #E2EBFA;\n",
              "      --hover-fill-color: #174EA6;\n",
              "      --disabled-fill-color: #AAA;\n",
              "      --disabled-bg-color: #DDD;\n",
              "  }\n",
              "\n",
              "  [theme=dark] .colab-df-quickchart {\n",
              "      --bg-color: #3B4455;\n",
              "      --fill-color: #D2E3FC;\n",
              "      --hover-bg-color: #434B5C;\n",
              "      --hover-fill-color: #FFFFFF;\n",
              "      --disabled-bg-color: #3B4455;\n",
              "      --disabled-fill-color: #666;\n",
              "  }\n",
              "\n",
              "  .colab-df-quickchart {\n",
              "    background-color: var(--bg-color);\n",
              "    border: none;\n",
              "    border-radius: 50%;\n",
              "    cursor: pointer;\n",
              "    display: none;\n",
              "    fill: var(--fill-color);\n",
              "    height: 32px;\n",
              "    padding: 0;\n",
              "    width: 32px;\n",
              "  }\n",
              "\n",
              "  .colab-df-quickchart:hover {\n",
              "    background-color: var(--hover-bg-color);\n",
              "    box-shadow: 0 1px 2px rgba(60, 64, 67, 0.3), 0 1px 3px 1px rgba(60, 64, 67, 0.15);\n",
              "    fill: var(--button-hover-fill-color);\n",
              "  }\n",
              "\n",
              "  .colab-df-quickchart-complete:disabled,\n",
              "  .colab-df-quickchart-complete:disabled:hover {\n",
              "    background-color: var(--disabled-bg-color);\n",
              "    fill: var(--disabled-fill-color);\n",
              "    box-shadow: none;\n",
              "  }\n",
              "\n",
              "  .colab-df-spinner {\n",
              "    border: 2px solid var(--fill-color);\n",
              "    border-color: transparent;\n",
              "    border-bottom-color: var(--fill-color);\n",
              "    animation:\n",
              "      spin 1s steps(1) infinite;\n",
              "  }\n",
              "\n",
              "  @keyframes spin {\n",
              "    0% {\n",
              "      border-color: transparent;\n",
              "      border-bottom-color: var(--fill-color);\n",
              "      border-left-color: var(--fill-color);\n",
              "    }\n",
              "    20% {\n",
              "      border-color: transparent;\n",
              "      border-left-color: var(--fill-color);\n",
              "      border-top-color: var(--fill-color);\n",
              "    }\n",
              "    30% {\n",
              "      border-color: transparent;\n",
              "      border-left-color: var(--fill-color);\n",
              "      border-top-color: var(--fill-color);\n",
              "      border-right-color: var(--fill-color);\n",
              "    }\n",
              "    40% {\n",
              "      border-color: transparent;\n",
              "      border-right-color: var(--fill-color);\n",
              "      border-top-color: var(--fill-color);\n",
              "    }\n",
              "    60% {\n",
              "      border-color: transparent;\n",
              "      border-right-color: var(--fill-color);\n",
              "    }\n",
              "    80% {\n",
              "      border-color: transparent;\n",
              "      border-right-color: var(--fill-color);\n",
              "      border-bottom-color: var(--fill-color);\n",
              "    }\n",
              "    90% {\n",
              "      border-color: transparent;\n",
              "      border-bottom-color: var(--fill-color);\n",
              "    }\n",
              "  }\n",
              "</style>\n",
              "\n",
              "  <script>\n",
              "    async function quickchart(key) {\n",
              "      const quickchartButtonEl =\n",
              "        document.querySelector('#' + key + ' button');\n",
              "      quickchartButtonEl.disabled = true;  // To prevent multiple clicks.\n",
              "      quickchartButtonEl.classList.add('colab-df-spinner');\n",
              "      try {\n",
              "        const charts = await google.colab.kernel.invokeFunction(\n",
              "            'suggestCharts', [key], {});\n",
              "      } catch (error) {\n",
              "        console.error('Error during call to suggestCharts:', error);\n",
              "      }\n",
              "      quickchartButtonEl.classList.remove('colab-df-spinner');\n",
              "      quickchartButtonEl.classList.add('colab-df-quickchart-complete');\n",
              "    }\n",
              "    (() => {\n",
              "      let quickchartButtonEl =\n",
              "        document.querySelector('#df-bfe3508b-60e5-467e-a49c-e34824078186 button');\n",
              "      quickchartButtonEl.style.display =\n",
              "        google.colab.kernel.accessAllowed ? 'block' : 'none';\n",
              "    })();\n",
              "  </script>\n",
              "</div>\n",
              "\n",
              "    </div>\n",
              "  </div>\n"
            ],
            "application/vnd.google.colaboratory.intrinsic+json": {
              "type": "dataframe",
              "variable_name": "df_93_2025",
              "summary": "{\n  \"name\": \"df_93_2025\",\n  \"rows\": 249,\n  \"fields\": [\n    {\n      \"column\": \"date\",\n      \"properties\": {\n        \"dtype\": \"date\",\n        \"min\": \"2025-01-01 00:00:00+00:00\",\n        \"max\": \"2025-02-01 00:00:00+00:00\",\n        \"num_unique_values\": 249,\n        \"samples\": [\n          \"2025-01-19 03:00:00+00:00\",\n          \"2025-01-27 21:00:00+00:00\",\n          \"2025-01-03 12:00:00+00:00\"\n        ],\n        \"semantic_type\": \"\",\n        \"description\": \"\"\n      }\n    },\n    {\n      \"column\": \"code_insee_region\",\n      \"properties\": {\n        \"dtype\": \"category\",\n        \"num_unique_values\": 1,\n        \"samples\": [\n          \"93\"\n        ],\n        \"semantic_type\": \"\",\n        \"description\": \"\"\n      }\n    },\n    {\n      \"column\": \"region\",\n      \"properties\": {\n        \"dtype\": \"category\",\n        \"num_unique_values\": 1,\n        \"samples\": [\n          \"Provence-Alpes-C\\u00f4te d'Azur\"\n        ],\n        \"semantic_type\": \"\",\n        \"description\": \"\"\n      }\n    },\n    {\n      \"column\": \"uv100\",\n      \"properties\": {\n        \"dtype\": \"number\",\n        \"std\": 0.5104460237412554,\n        \"min\": 4.14,\n        \"max\": 6.89,\n        \"num_unique_values\": 129,\n        \"samples\": [\n          6.59\n        ],\n        \"semantic_type\": \"\",\n        \"description\": \"\"\n      }\n    },\n    {\n      \"column\": \"ssrd03h\",\n      \"properties\": {\n        \"dtype\": \"number\",\n        \"std\": 99.98696894576638,\n        \"min\": 0.0,\n        \"max\": 342.37,\n        \"num_unique_values\": 125,\n        \"samples\": [\n          246.38\n        ],\n        \"semantic_type\": \"\",\n        \"description\": \"\"\n      }\n    }\n  ]\n}"
            }
          },
          "metadata": {},
          "execution_count": 23
        }
      ]
    },
    {
      "cell_type": "code",
      "source": [
        "# Tri par date/heure croissantes\n",
        "df_93_2025_sorted = df_93_2025.sort_values(by='date')\n",
        "df_93_2025_sorted.head(n=10)"
      ],
      "metadata": {
        "colab": {
          "base_uri": "https://localhost:8080/",
          "height": 363
        },
        "id": "51l0zP8alXCP",
        "outputId": "9b07263c-5c99-4681-fa82-02d2fe8ae362"
      },
      "execution_count": 28,
      "outputs": [
        {
          "output_type": "execute_result",
          "data": {
            "text/plain": [
              "                            date code_insee_region  \\\n",
              "338999 2025-01-01 00:00:00+00:00                93   \n",
              "339817 2025-01-01 03:00:00+00:00                93   \n",
              "342522 2025-01-01 06:00:00+00:00                93   \n",
              "342524 2025-01-01 09:00:00+00:00                93   \n",
              "342526 2025-01-01 12:00:00+00:00                93   \n",
              "342530 2025-01-01 15:00:00+00:00                93   \n",
              "340678 2025-01-01 18:00:00+00:00                93   \n",
              "339831 2025-01-01 21:00:00+00:00                93   \n",
              "341568 2025-01-02 00:00:00+00:00                93   \n",
              "339835 2025-01-02 03:00:00+00:00                93   \n",
              "\n",
              "                            region  uv100  ssrd03h  \n",
              "338999  Provence-Alpes-Côte d'Azur   4.14     0.00  \n",
              "339817  Provence-Alpes-Côte d'Azur   5.71     0.00  \n",
              "342522  Provence-Alpes-Côte d'Azur   5.21     0.00  \n",
              "342524  Provence-Alpes-Côte d'Azur   5.12    47.08  \n",
              "342526  Provence-Alpes-Côte d'Azur   5.79   292.18  \n",
              "342530  Provence-Alpes-Côte d'Azur   6.15   262.98  \n",
              "340678  Provence-Alpes-Côte d'Azur   5.51    18.56  \n",
              "339831  Provence-Alpes-Côte d'Azur   5.24     0.00  \n",
              "341568  Provence-Alpes-Côte d'Azur   4.95     0.00  \n",
              "339835  Provence-Alpes-Côte d'Azur   5.19     0.00  "
            ],
            "text/html": [
              "\n",
              "  <div id=\"df-28e6e1fe-1c3f-496f-b428-57e43d735f17\" class=\"colab-df-container\">\n",
              "    <div>\n",
              "<style scoped>\n",
              "    .dataframe tbody tr th:only-of-type {\n",
              "        vertical-align: middle;\n",
              "    }\n",
              "\n",
              "    .dataframe tbody tr th {\n",
              "        vertical-align: top;\n",
              "    }\n",
              "\n",
              "    .dataframe thead th {\n",
              "        text-align: right;\n",
              "    }\n",
              "</style>\n",
              "<table border=\"1\" class=\"dataframe\">\n",
              "  <thead>\n",
              "    <tr style=\"text-align: right;\">\n",
              "      <th></th>\n",
              "      <th>date</th>\n",
              "      <th>code_insee_region</th>\n",
              "      <th>region</th>\n",
              "      <th>uv100</th>\n",
              "      <th>ssrd03h</th>\n",
              "    </tr>\n",
              "  </thead>\n",
              "  <tbody>\n",
              "    <tr>\n",
              "      <th>338999</th>\n",
              "      <td>2025-01-01 00:00:00+00:00</td>\n",
              "      <td>93</td>\n",
              "      <td>Provence-Alpes-Côte d'Azur</td>\n",
              "      <td>4.14</td>\n",
              "      <td>0.00</td>\n",
              "    </tr>\n",
              "    <tr>\n",
              "      <th>339817</th>\n",
              "      <td>2025-01-01 03:00:00+00:00</td>\n",
              "      <td>93</td>\n",
              "      <td>Provence-Alpes-Côte d'Azur</td>\n",
              "      <td>5.71</td>\n",
              "      <td>0.00</td>\n",
              "    </tr>\n",
              "    <tr>\n",
              "      <th>342522</th>\n",
              "      <td>2025-01-01 06:00:00+00:00</td>\n",
              "      <td>93</td>\n",
              "      <td>Provence-Alpes-Côte d'Azur</td>\n",
              "      <td>5.21</td>\n",
              "      <td>0.00</td>\n",
              "    </tr>\n",
              "    <tr>\n",
              "      <th>342524</th>\n",
              "      <td>2025-01-01 09:00:00+00:00</td>\n",
              "      <td>93</td>\n",
              "      <td>Provence-Alpes-Côte d'Azur</td>\n",
              "      <td>5.12</td>\n",
              "      <td>47.08</td>\n",
              "    </tr>\n",
              "    <tr>\n",
              "      <th>342526</th>\n",
              "      <td>2025-01-01 12:00:00+00:00</td>\n",
              "      <td>93</td>\n",
              "      <td>Provence-Alpes-Côte d'Azur</td>\n",
              "      <td>5.79</td>\n",
              "      <td>292.18</td>\n",
              "    </tr>\n",
              "    <tr>\n",
              "      <th>342530</th>\n",
              "      <td>2025-01-01 15:00:00+00:00</td>\n",
              "      <td>93</td>\n",
              "      <td>Provence-Alpes-Côte d'Azur</td>\n",
              "      <td>6.15</td>\n",
              "      <td>262.98</td>\n",
              "    </tr>\n",
              "    <tr>\n",
              "      <th>340678</th>\n",
              "      <td>2025-01-01 18:00:00+00:00</td>\n",
              "      <td>93</td>\n",
              "      <td>Provence-Alpes-Côte d'Azur</td>\n",
              "      <td>5.51</td>\n",
              "      <td>18.56</td>\n",
              "    </tr>\n",
              "    <tr>\n",
              "      <th>339831</th>\n",
              "      <td>2025-01-01 21:00:00+00:00</td>\n",
              "      <td>93</td>\n",
              "      <td>Provence-Alpes-Côte d'Azur</td>\n",
              "      <td>5.24</td>\n",
              "      <td>0.00</td>\n",
              "    </tr>\n",
              "    <tr>\n",
              "      <th>341568</th>\n",
              "      <td>2025-01-02 00:00:00+00:00</td>\n",
              "      <td>93</td>\n",
              "      <td>Provence-Alpes-Côte d'Azur</td>\n",
              "      <td>4.95</td>\n",
              "      <td>0.00</td>\n",
              "    </tr>\n",
              "    <tr>\n",
              "      <th>339835</th>\n",
              "      <td>2025-01-02 03:00:00+00:00</td>\n",
              "      <td>93</td>\n",
              "      <td>Provence-Alpes-Côte d'Azur</td>\n",
              "      <td>5.19</td>\n",
              "      <td>0.00</td>\n",
              "    </tr>\n",
              "  </tbody>\n",
              "</table>\n",
              "</div>\n",
              "    <div class=\"colab-df-buttons\">\n",
              "\n",
              "  <div class=\"colab-df-container\">\n",
              "    <button class=\"colab-df-convert\" onclick=\"convertToInteractive('df-28e6e1fe-1c3f-496f-b428-57e43d735f17')\"\n",
              "            title=\"Convert this dataframe to an interactive table.\"\n",
              "            style=\"display:none;\">\n",
              "\n",
              "  <svg xmlns=\"http://www.w3.org/2000/svg\" height=\"24px\" viewBox=\"0 -960 960 960\">\n",
              "    <path d=\"M120-120v-720h720v720H120Zm60-500h600v-160H180v160Zm220 220h160v-160H400v160Zm0 220h160v-160H400v160ZM180-400h160v-160H180v160Zm440 0h160v-160H620v160ZM180-180h160v-160H180v160Zm440 0h160v-160H620v160Z\"/>\n",
              "  </svg>\n",
              "    </button>\n",
              "\n",
              "  <style>\n",
              "    .colab-df-container {\n",
              "      display:flex;\n",
              "      gap: 12px;\n",
              "    }\n",
              "\n",
              "    .colab-df-convert {\n",
              "      background-color: #E8F0FE;\n",
              "      border: none;\n",
              "      border-radius: 50%;\n",
              "      cursor: pointer;\n",
              "      display: none;\n",
              "      fill: #1967D2;\n",
              "      height: 32px;\n",
              "      padding: 0 0 0 0;\n",
              "      width: 32px;\n",
              "    }\n",
              "\n",
              "    .colab-df-convert:hover {\n",
              "      background-color: #E2EBFA;\n",
              "      box-shadow: 0px 1px 2px rgba(60, 64, 67, 0.3), 0px 1px 3px 1px rgba(60, 64, 67, 0.15);\n",
              "      fill: #174EA6;\n",
              "    }\n",
              "\n",
              "    .colab-df-buttons div {\n",
              "      margin-bottom: 4px;\n",
              "    }\n",
              "\n",
              "    [theme=dark] .colab-df-convert {\n",
              "      background-color: #3B4455;\n",
              "      fill: #D2E3FC;\n",
              "    }\n",
              "\n",
              "    [theme=dark] .colab-df-convert:hover {\n",
              "      background-color: #434B5C;\n",
              "      box-shadow: 0px 1px 3px 1px rgba(0, 0, 0, 0.15);\n",
              "      filter: drop-shadow(0px 1px 2px rgba(0, 0, 0, 0.3));\n",
              "      fill: #FFFFFF;\n",
              "    }\n",
              "  </style>\n",
              "\n",
              "    <script>\n",
              "      const buttonEl =\n",
              "        document.querySelector('#df-28e6e1fe-1c3f-496f-b428-57e43d735f17 button.colab-df-convert');\n",
              "      buttonEl.style.display =\n",
              "        google.colab.kernel.accessAllowed ? 'block' : 'none';\n",
              "\n",
              "      async function convertToInteractive(key) {\n",
              "        const element = document.querySelector('#df-28e6e1fe-1c3f-496f-b428-57e43d735f17');\n",
              "        const dataTable =\n",
              "          await google.colab.kernel.invokeFunction('convertToInteractive',\n",
              "                                                    [key], {});\n",
              "        if (!dataTable) return;\n",
              "\n",
              "        const docLinkHtml = 'Like what you see? Visit the ' +\n",
              "          '<a target=\"_blank\" href=https://colab.research.google.com/notebooks/data_table.ipynb>data table notebook</a>'\n",
              "          + ' to learn more about interactive tables.';\n",
              "        element.innerHTML = '';\n",
              "        dataTable['output_type'] = 'display_data';\n",
              "        await google.colab.output.renderOutput(dataTable, element);\n",
              "        const docLink = document.createElement('div');\n",
              "        docLink.innerHTML = docLinkHtml;\n",
              "        element.appendChild(docLink);\n",
              "      }\n",
              "    </script>\n",
              "  </div>\n",
              "\n",
              "\n",
              "<div id=\"df-ba0b89b1-b277-445d-9488-4baad06d718a\">\n",
              "  <button class=\"colab-df-quickchart\" onclick=\"quickchart('df-ba0b89b1-b277-445d-9488-4baad06d718a')\"\n",
              "            title=\"Suggest charts\"\n",
              "            style=\"display:none;\">\n",
              "\n",
              "<svg xmlns=\"http://www.w3.org/2000/svg\" height=\"24px\"viewBox=\"0 0 24 24\"\n",
              "     width=\"24px\">\n",
              "    <g>\n",
              "        <path d=\"M19 3H5c-1.1 0-2 .9-2 2v14c0 1.1.9 2 2 2h14c1.1 0 2-.9 2-2V5c0-1.1-.9-2-2-2zM9 17H7v-7h2v7zm4 0h-2V7h2v10zm4 0h-2v-4h2v4z\"/>\n",
              "    </g>\n",
              "</svg>\n",
              "  </button>\n",
              "\n",
              "<style>\n",
              "  .colab-df-quickchart {\n",
              "      --bg-color: #E8F0FE;\n",
              "      --fill-color: #1967D2;\n",
              "      --hover-bg-color: #E2EBFA;\n",
              "      --hover-fill-color: #174EA6;\n",
              "      --disabled-fill-color: #AAA;\n",
              "      --disabled-bg-color: #DDD;\n",
              "  }\n",
              "\n",
              "  [theme=dark] .colab-df-quickchart {\n",
              "      --bg-color: #3B4455;\n",
              "      --fill-color: #D2E3FC;\n",
              "      --hover-bg-color: #434B5C;\n",
              "      --hover-fill-color: #FFFFFF;\n",
              "      --disabled-bg-color: #3B4455;\n",
              "      --disabled-fill-color: #666;\n",
              "  }\n",
              "\n",
              "  .colab-df-quickchart {\n",
              "    background-color: var(--bg-color);\n",
              "    border: none;\n",
              "    border-radius: 50%;\n",
              "    cursor: pointer;\n",
              "    display: none;\n",
              "    fill: var(--fill-color);\n",
              "    height: 32px;\n",
              "    padding: 0;\n",
              "    width: 32px;\n",
              "  }\n",
              "\n",
              "  .colab-df-quickchart:hover {\n",
              "    background-color: var(--hover-bg-color);\n",
              "    box-shadow: 0 1px 2px rgba(60, 64, 67, 0.3), 0 1px 3px 1px rgba(60, 64, 67, 0.15);\n",
              "    fill: var(--button-hover-fill-color);\n",
              "  }\n",
              "\n",
              "  .colab-df-quickchart-complete:disabled,\n",
              "  .colab-df-quickchart-complete:disabled:hover {\n",
              "    background-color: var(--disabled-bg-color);\n",
              "    fill: var(--disabled-fill-color);\n",
              "    box-shadow: none;\n",
              "  }\n",
              "\n",
              "  .colab-df-spinner {\n",
              "    border: 2px solid var(--fill-color);\n",
              "    border-color: transparent;\n",
              "    border-bottom-color: var(--fill-color);\n",
              "    animation:\n",
              "      spin 1s steps(1) infinite;\n",
              "  }\n",
              "\n",
              "  @keyframes spin {\n",
              "    0% {\n",
              "      border-color: transparent;\n",
              "      border-bottom-color: var(--fill-color);\n",
              "      border-left-color: var(--fill-color);\n",
              "    }\n",
              "    20% {\n",
              "      border-color: transparent;\n",
              "      border-left-color: var(--fill-color);\n",
              "      border-top-color: var(--fill-color);\n",
              "    }\n",
              "    30% {\n",
              "      border-color: transparent;\n",
              "      border-left-color: var(--fill-color);\n",
              "      border-top-color: var(--fill-color);\n",
              "      border-right-color: var(--fill-color);\n",
              "    }\n",
              "    40% {\n",
              "      border-color: transparent;\n",
              "      border-right-color: var(--fill-color);\n",
              "      border-top-color: var(--fill-color);\n",
              "    }\n",
              "    60% {\n",
              "      border-color: transparent;\n",
              "      border-right-color: var(--fill-color);\n",
              "    }\n",
              "    80% {\n",
              "      border-color: transparent;\n",
              "      border-right-color: var(--fill-color);\n",
              "      border-bottom-color: var(--fill-color);\n",
              "    }\n",
              "    90% {\n",
              "      border-color: transparent;\n",
              "      border-bottom-color: var(--fill-color);\n",
              "    }\n",
              "  }\n",
              "</style>\n",
              "\n",
              "  <script>\n",
              "    async function quickchart(key) {\n",
              "      const quickchartButtonEl =\n",
              "        document.querySelector('#' + key + ' button');\n",
              "      quickchartButtonEl.disabled = true;  // To prevent multiple clicks.\n",
              "      quickchartButtonEl.classList.add('colab-df-spinner');\n",
              "      try {\n",
              "        const charts = await google.colab.kernel.invokeFunction(\n",
              "            'suggestCharts', [key], {});\n",
              "      } catch (error) {\n",
              "        console.error('Error during call to suggestCharts:', error);\n",
              "      }\n",
              "      quickchartButtonEl.classList.remove('colab-df-spinner');\n",
              "      quickchartButtonEl.classList.add('colab-df-quickchart-complete');\n",
              "    }\n",
              "    (() => {\n",
              "      let quickchartButtonEl =\n",
              "        document.querySelector('#df-ba0b89b1-b277-445d-9488-4baad06d718a button');\n",
              "      quickchartButtonEl.style.display =\n",
              "        google.colab.kernel.accessAllowed ? 'block' : 'none';\n",
              "    })();\n",
              "  </script>\n",
              "</div>\n",
              "\n",
              "    </div>\n",
              "  </div>\n"
            ],
            "application/vnd.google.colaboratory.intrinsic+json": {
              "type": "dataframe",
              "variable_name": "df_93_2025_sorted",
              "summary": "{\n  \"name\": \"df_93_2025_sorted\",\n  \"rows\": 249,\n  \"fields\": [\n    {\n      \"column\": \"date\",\n      \"properties\": {\n        \"dtype\": \"date\",\n        \"min\": \"2025-01-01 00:00:00+00:00\",\n        \"max\": \"2025-02-01 00:00:00+00:00\",\n        \"num_unique_values\": 249,\n        \"samples\": [\n          \"2025-01-18 03:00:00+00:00\",\n          \"2025-01-01 18:00:00+00:00\",\n          \"2025-01-13 03:00:00+00:00\"\n        ],\n        \"semantic_type\": \"\",\n        \"description\": \"\"\n      }\n    },\n    {\n      \"column\": \"code_insee_region\",\n      \"properties\": {\n        \"dtype\": \"category\",\n        \"num_unique_values\": 1,\n        \"samples\": [\n          \"93\"\n        ],\n        \"semantic_type\": \"\",\n        \"description\": \"\"\n      }\n    },\n    {\n      \"column\": \"region\",\n      \"properties\": {\n        \"dtype\": \"category\",\n        \"num_unique_values\": 1,\n        \"samples\": [\n          \"Provence-Alpes-C\\u00f4te d'Azur\"\n        ],\n        \"semantic_type\": \"\",\n        \"description\": \"\"\n      }\n    },\n    {\n      \"column\": \"uv100\",\n      \"properties\": {\n        \"dtype\": \"number\",\n        \"std\": 0.5104460237412551,\n        \"min\": 4.14,\n        \"max\": 6.89,\n        \"num_unique_values\": 129,\n        \"samples\": [\n          6.43\n        ],\n        \"semantic_type\": \"\",\n        \"description\": \"\"\n      }\n    },\n    {\n      \"column\": \"ssrd03h\",\n      \"properties\": {\n        \"dtype\": \"number\",\n        \"std\": 99.98696894576635,\n        \"min\": 0.0,\n        \"max\": 342.37,\n        \"num_unique_values\": 125,\n        \"samples\": [\n          207.52\n        ],\n        \"semantic_type\": \"\",\n        \"description\": \"\"\n      }\n    }\n  ]\n}"
            }
          },
          "metadata": {},
          "execution_count": 28
        }
      ]
    },
    {
      "cell_type": "code",
      "source": [
        "# Catégorisation des moments de la journée\n",
        "def categorize_time_of_day(hour):\n",
        "  if 6 <= hour < 12:\n",
        "    return 'Matin'\n",
        "  elif 12 <= hour < 15:\n",
        "    return 'Midi'\n",
        "  elif 15 <= hour < 18:\n",
        "    return 'Après-midi'\n",
        "  elif 18 <= hour < 22:\n",
        "    return 'Soir'\n",
        "  else:\n",
        "    return 'Nuit'\n",
        "\n",
        "# Application au df\n",
        "df_93_2025_sorted['time_of_day'] = (\n",
        "    df_93_2025_sorted['date'].dt.hour.apply(categorize_time_of_day))"
      ],
      "metadata": {
        "id": "jePPvnr8mMk9"
      },
      "execution_count": 31,
      "outputs": []
    },
    {
      "cell_type": "code",
      "source": [
        "import matplotlib.pyplot as plt\n",
        "import seaborn as sns"
      ],
      "metadata": {
        "id": "YQeM1OGgk-CC"
      },
      "execution_count": 32,
      "outputs": []
    },
    {
      "cell_type": "code",
      "source": [
        "# Plotting the time series\n",
        "plt.figure(figsize=(12, 6))\n",
        "sns.lineplot(data=df_93_2025_sorted, x='date', y='ssrd03h',\n",
        "             hue='time_of_day', marker='o')\n",
        "plt.title('Time Series Plot')\n",
        "plt.xlabel('Date')\n",
        "plt.ylabel('Rayonnement solaire global (W/m2)')\n",
        "plt.grid(True)\n",
        "plt.show()"
      ],
      "metadata": {
        "colab": {
          "base_uri": "https://localhost:8080/",
          "height": 564
        },
        "id": "xkxJXniOlA48",
        "outputId": "4a379ece-fbcf-4618-8727-485ed122242b"
      },
      "execution_count": 34,
      "outputs": [
        {
          "output_type": "display_data",
          "data": {
            "text/plain": [
              "<Figure size 1200x600 with 1 Axes>"
            ],
            "image/png": "[encoded data removed]"
          },
          "metadata": {}
        }
      ]
    },
    {
      "cell_type": "markdown",
      "source": [
        "## Exploration du portail Meteo France\n",
        "* Source des données : [portail-api.meteofrance.fr](https://portail-api.meteofrance.fr/web/fr/)"
      ],
      "metadata": {
        "id": "6JkidTkj1ZPR"
      }
    },
    {
      "cell_type": "code",
      "source": [
        "# Import des modules utilisés\n",
        "import requests\n",
        "import pandas as pd\n",
        "# Pour utiliser les secrets dans Colab\n",
        "from google.colab import userdata"
      ],
      "metadata": {
        "id": "DGrUuCV01wo9"
      },
      "execution_count": 54,
      "outputs": []
    },
    {
      "cell_type": "code",
      "source": [
        "# Commencer par générer le OAuth token sur le site Meteo France\n",
        "\n",
        "# Définition de l'url qui contient les données\n",
        "url = 'https://public-api.meteofrance.fr/public/DPObs/v1/liste-stations'\n",
        "\n",
        "# OAuth token\n",
        "oauth_token = userdata.get('MeteoFrance_api_key')\n",
        "\n",
        "# Ajout dans le header\n",
        "headers = {\n",
        "    'Authorization': f'Bearer {oauth_token}'\n",
        "}"
      ],
      "metadata": {
        "id": "V3-5lylA2ABd"
      },
      "execution_count": 71,
      "outputs": []
    },
    {
      "cell_type": "code",
      "source": [
        "# Récupération des données\n",
        "response = requests.get(url, headers=headers)\n",
        "\n",
        "# Vérification de la bonne récupération\n",
        "#if response.status_code == 200:\n",
        "#  data = response.json()\n",
        "#  print(\"Données disponibles !\\n\")\n",
        "#  # Création du jeu de données\n",
        "#  df = pd.DataFrame(data)\n",
        "#  print(f\"Le dataframe contient {df.shape[0]} lignes et {df.shape[1]} colonnes.\")\n",
        "#else:\n",
        "#  print(f\"Erreur: {response.status_code}\")"
      ],
      "metadata": {
        "id": "cM5e-4xz2Vjx"
      },
      "execution_count": 72,
      "outputs": []
    },
    {
      "cell_type": "code",
      "source": [
        "response.headers['Content-Type']"
      ],
      "metadata": {
        "colab": {
          "base_uri": "https://localhost:8080/",
          "height": 35
        },
        "id": "iplceeN_2cIE",
        "outputId": "02801677-4062-42a4-9439-767ea0ddd989"
      },
      "execution_count": 73,
      "outputs": [
        {
          "output_type": "execute_result",
          "data": {
            "text/plain": [
              "'text/plain; charset=ISO-8859-1'"
            ],
            "application/vnd.google.colaboratory.intrinsic+json": {
              "type": "string"
            }
          },
          "metadata": {},
          "execution_count": 73
        }
      ]
    },
    {
      "cell_type": "code",
      "source": [
        "response.content"
      ],
      "metadata": {
        "colab": {
          "base_uri": "https://localhost:8080/"
        },
        "id": "WEY1OlAJ26Gi",
        "outputId": "2532c8e9-e631-431b-8431-c8b5520df18b"
      },
      "execution_count": 74,
      "outputs": [
        {
          "output_type": "execute_result",
          "data": {
            "text/plain": [
              "b\"Id_station;Id_omm;Nom_usuel;Latitude;Longitude;Altitude;Date_ouverture;Pack\\n01014002;;ARBENT;46.278167;5.669000;534;2003-10-01;RADOME\\n01027003;;BALAN_AERO;45.833000;5.106667;196;2014-05-26;ETENDU\\n01034004;;BELLEY;45.769333;5.688000;330;2001-09-13;RADOME\\n01064001;;VERIZIEU;45.777167;5.487167;281;2015-01-01;ETENDU\\n01071001;;CESSY;46.310333;6.080333;507;2002-05-01;RADOME\\n01072001;;CEYZERIAT_SAPC;46.204333;5.287667;260;1994-08-01;ETENDU\\n01089001;07482;AMBERIEU;45.976500;5.329333;250;1934-03-01;RADOME\\n01143002;;DIVONNE ZA;46.341500;6.139667;467;2003-10-01;ETENDU\\n01200002;;LA BALME SUR CERDON_SAPC;46.090000;5.482000;596;2004-12-01;ETENDU\\n01235001;;MARLIEUX;46.038500;5.044333;280;1956-01-01;ETENDU\\n01247003;;MIJOUX;46.378833;6.019333;1002;1929-01-01;ETENDU\\n01269001;;NANTUA;46.148167;5.607333;483;1852-01-01;ETENDU\\n01367002;;SAINT JULIEN SUR REYSSOUZE;46.403167;5.109833;189;1990-02-01;ETENDU\\n01384003;;ST RAMBERT CG01;45.950333;5.461000;296;2001-12-01;ETENDU\\n01414001;;SUTRIEU;45.916167;5.624667;878;2002-09-01;RADOME\\n02037002;;AULNOIS-SS-LAON;49.595667;3.610333;78;1988-10-01;RADOME\\n02058001;;BEAURIEUX;49.390333;3.732667;56;1949-12-01;ETENDU\\n02094001;;BLESMES;49.009667;3.462667;222;1985-12-01;RADOME\\n02110002;;BRAINE;49.351333;3.527000;61;1988-08-01;RADOME\\n02173002;;CHAUNY;49.633833;3.197833;83;1988-07-01;RADOME\\n02320001;07061;ST QUENTIN;49.818333;3.206000;98;1933-01-01;RADOME\\n02321002;;FONTAINE-LES-VV;49.837333;3.877833;186;1987-07-01;RADOME\\n02346001;;GIZY;49.599833;3.781000;75;1945-01-01;ETENDU\\n02381001;;HIRSON;49.922000;4.077167;165;1859-01-01;ETENDU\\n02471001;;MARTIGNY-COURPI;49.485667;3.693167;95;1955-12-01;ETENDU\\n02585001;;PARCY-ET-TIGNY;49.280167;3.331000;148;1954-08-01;ETENDU\\n02705001;;NIZY-LE-COMTE;49.566000;4.036500;90;1986-07-01;RADOME\\n02738001;;TERGNIER;49.663833;3.320667;59;1956-10-01;ETENDU\\n03036002;;BOURBON_SAPC;46.580000;3.049500;270;1993-05-01;ETENDU\\n03059001;;CHAREIL-CINTRAT_SAPC;46.275833;3.225667;286;1950-05-01;ETENDU\\n03060001;07374;VICHY-CHARMEIL;46.166667;3.398667;249;1941-01-01;RADOME\\n03061001;;CHARMES_SAPC;46.063500;3.233667;330;1995-08-01;ETENDU\\n03074001;;CHEVAGNES;46.630667;3.549167;228;1946-01-01;ETENDU\\n03100001;;DIOU;46.541667;3.706667;220;1883-01-01;ETENDU\\n03106002;;DURDAT-LAREQUILLE;46.251667;2.695667;500;1962-05-01;ETENDU\\n03108001;;ECHASSIERES_SAPC;46.191167;2.957667;650;1966-11-01;ETENDU\\n03114001;;FERTE-HAUTERIVE;46.375333;3.330167;226;1957-01-01;ETENDU\\n03125001;;LA GUILLERMIE;45.984667;3.639833;722;1935-01-01;ETENDU\\n03130002;;ISLE-ET-BARDAIS;46.663333;2.730167;262;1953-05-01;ETENDU\\n03155003;;LURCY-LEVIS SA;46.718333;2.947667;225;1991-01-01;RADOME\\n03162001;;MARIGNY;46.581667;3.195833;249;1927-09-01;ETENDU\\n03180001;;MONTBEUGNY;46.536333;3.423167;275;1984-01-01;RADOME\\n03185007;;MONTLUCON;46.355167;2.574667;229;2002-04-01;RADOME\\n03204001;;PARAY-SOUS-BRIAILLES;46.283500;3.337833;250;1937-05-01;ETENDU\\n03226001;;SAINT DIDIER_SAPC;46.365333;3.850167;293;1997-03-01;ETENDU\\n03240001;;ST-LEON;46.402500;3.685833;378;1962-10-01;ETENDU\\n03248001;;ST-NICOLAS;46.051500;3.805167;1022;1991-03-01;RADOME\\n03285001;;TORTEZAIS_SAPC;46.451333;2.857000;256;1991-04-01;ETENDU\\n03310001;;VICHY-VILLE;46.117667;3.439000;255;1858-07-01;ETENDU\\n03321001;;YZEURE;46.579167;3.352833;242;1867-01-01;ETENDU\\n04006005;;ALLOS_SAPC;44.242500;6.625333;1400;2010-05-26;ETENDU\\n04019001;;BARCELONNETTE;44.391167;6.670167;1155;1923-01-01;RADOME\\n04022001;;BARREME;43.957167;6.372333;743;1966-07-01;ETENDU\\n04023001;;BAYONS;44.342667;6.178667;886;1997-01-01;ETENDU\\n04024004;;BEAUJEU ST PIERRE;44.209833;6.385167;960;2023-08-24;ETENDU\\n04039001;;CASTELLANE;43.849167;6.508000;729;1968-03-01;ETENDU\\n04041001;;LE CASTELLET;43.938333;5.979500;473;1957-12-01;ETENDU\\n04049001;07588;ST AUBAN;44.062167;5.989667;458;1954-01-01;RADOME\\n04068001;;DAUPHIN;43.909833;5.767167;427;2003-08-01;RADOME\\n04070009;;DIGNE LES BAINS;44.070000;6.186667;554;2003-08-01;RADOME\\n04096002;;JAUSIERS-ST ANNE;44.413667;6.725167;1240;1985-01-01;ETENDU\\n04096401;;RESTEFOND-NIVOSE;44.340000;6.800000;2550;1995-09-27;ETENDU\\n04115001;;MEAILLES_SAPC;44.031167;6.629500;1090;2007-05-10;ETENDU\\n04126001;;MONTCLAR_SAPC;44.391833;6.333333;1197;2007-06-26;ETENDU\\n04134002;;LA MOTTE DU CAIRE;44.326667;6.030500;665;1933-08-01;ETENDU\\n04136001;;LA MURE-ARGENS;43.977000;6.520167;920;2005-06-29;RADOME\\n04184001;;ST JURS;43.900833;6.200500;867;1962-10-01;ETENDU\\n04209005;;SISTERON;44.224500;5.916000;500;1998-07-01;ETENDU\\n04222001;;TURRIERS;44.399000;6.169500;1020;2000-01-01;ETENDU\\n04230001;;VALENSOLE;43.839500;6.000833;600;1995-01-01;RADOME\\n05004001;;ANCELLE;44.624500;6.209833;1354;1895-01-01;ETENDU\\n05007003;;ARVIEUX;44.796000;6.728000;1825;2007-07-05;RADOME\\n05027001;;CERVIERES;44.869333;6.723500;1614;1931-01-01;ETENDU\\n05038001;;CHATEAU-VILLE-VIEILLE;44.759333;6.809000;1355;1928-01-01;ETENDU\\n05044400;;PARPAILLON-NIVOSE;44.495333;6.636333;2545;2010-08-11;ETENDU\\n05046001;07591;EMBRUN;44.571167;6.508667;873;1806-01-01;RADOME\\n05055001;;LA FAURIE;44.566667;5.750167;825;1997-06-01;ETENDU\\n05061009;;GAP;44.577667;6.079833;885;2003-12-01;RADOME\\n05063402;;LA MEIJE-NIVOSE;45.012333;6.265167;3093;1990-03-22;ETENDU\\n05070003;;LARAGNE MONTEGLIN;44.319167;5.794500;565;1992-12-01;RADOME\\n05077402;;COL AGNEL-NIVOSE;44.686000;6.972167;2630;1994-08-30;ETENDU\\n05079402;;GALIBIER-NIVOSE;45.056833;6.377167;2559;2015-09-07;ETENDU\\n05090002;;MOTTE-MOLINES;44.748167;6.122833;1250;1940-01-01;ETENDU\\n05096404;;ORCIERES-NIVOSE;44.719000;6.333667;2280;2006-12-21;ETENDU\\n05098001;;LES ORRES;44.508833;6.559333;1457;1931-02-01;ETENDU\\n05101001;;PELVOUX;44.866833;6.486667;1270;1936-01-01;ETENDU\\n05110001;;PUY-ST-VINCENT;44.828833;6.492667;1388;1952-05-01;ETENDU\\n05120002;;RISTOLAS;44.765667;6.984500;1670;2004-10-01;RADOME\\n05126001;;ROSANS;44.387500;5.462167;625;1971-12-01;ETENDU\\n05136002;;ST CREPIN;44.704500;6.600000;906;2006-09-01;RADOME\\n05139006;;AGNIERES-EN-DEVOLUY;44.696167;5.880833;1244;1928-11-01;ETENDU\\n05142001;;ST FIRMIN;44.782500;6.035000;935;1927-01-01;ETENDU\\n05145002;;ST JEAN-ST-NICOLAS;44.670833;6.209833;1210;2003-08-01;RADOME\\n05170001;;TALLARD;44.452167;6.033333;593;1964-05-01;RADOME\\n05179001;;VEYNES;44.536333;5.840667;823;1964-05-01;ETENDU\\n05181002;;VILLAR D'ARENE;45.030833;6.361667;1665;2002-01-10;RADOME\\n05182001;;VILLAR LOUBIERE;44.826833;6.146000;1072;1864-01-01;ETENDU\\n05183001;07593;VILLAR ST PANCRACE;44.880333;6.640333;1310;2003-08-01;RADOME\\n06004002;07688;ANTIBES-GAROUPE;43.564667;7.133000;75;1920-01-01;ETENDU\\n06004004;;ANTIBES-GOLF;43.579667;7.091167;13;1964-01-01;ETENDU\\n06004009;;ANTIBES_SAPC;43.599167;7.111167;32;1988-07-01;ETENDU\\n06005001;;ASCROS;43.922000;7.013667;1173;1987-08-01;RADOME\\n06016001;;BEUIL-OBS;44.089833;6.988000;1464;1917-03-01;ETENDU\\n06023004;;BREIL SUR ROYA;43.940167;7.513667;305;1987-08-01;ETENDU\\n06029001;07684;CANNES;43.556500;6.950500;2;1949-03-01;RADOME\\n06033002;;CARROS_SAPC;43.786667;7.209167;78;1991-03-01;ETENDU\\n06037002;;CAUSSOLS;43.752333;6.923167;1268;1987-08-01;ETENDU\\n06038001;;CHATEAUNEUF GRASSE;43.678333;6.996167;379;2012-09-17;ETENDU\\n06050002;;COURSEGOULES_SAPC;43.792000;7.048500;985;1989-08-01;ETENDU\\n06059003;;EZE;43.738833;7.365833;704;1991-06-01;ETENDU\\n06071001;;GUILLAUMES-OBS;44.090667;6.852333;788;1907-03-01;ETENDU\\n06073005;;ISOLA 2000;44.189500;7.149000;1912;1972-01-01;ETENDU\\n06074005;;LANTOSQUE_SAPC;43.972000;7.307000;550;2006-10-25;ETENDU\\n06075007;;LEVENS;43.846333;7.210000;691;2008-05-16;ETENDU\\n06077006;;PEIRA CAVA;43.929167;7.363333;1443;1989-08-01;RADOME\\n06079002;;MANDELIEU LA NAPOULE_SAPC;43.523667;6.898667;104;1988-07-01;ETENDU\\n06081001;;LE MAS;43.813667;6.809333;1525;2006-04-02;RADOME\\n06083005;;MENTON;43.785833;7.488667;216;1988-08-01;ETENDU\\n06086001;;MOULINET;43.942000;7.414667;817;1950-03-01;ETENDU\\n06088001;07690;NICE;43.648833;7.209000;2;1942-07-01;RADOME\\n06088007;;NICE-RIMIEZ;43.738667;7.279167;238;1949-12-01;ETENDU\\n06090002;;PEGOMAS;43.602667;6.936667;109;2010-03-15;ETENDU\\n06091003;;PEILLE;43.775167;7.428333;1106;1987-08-01;RADOME\\n06094002;;PEONE;44.099667;6.930833;1784;2002-11-01;RADOME\\n06099004;;PUGET THENIERS_SAPC;43.956833;6.892333;449;1991-05-01;ETENDU\\n06102001;;RIMPLAS_SAPC;44.067167;7.133500;1130;2006-10-25;ETENDU\\n06103002;;BERTHEMONT-LES-BAINS_SAPC;44.044333;7.300833;938;2023-01-24;ETENDU\\n06118002;;ST CEZAIRE SUR SIAGNE;43.678667;6.809000;694;2005-11-01;RADOME\\n06120004;;ST ETIENNE DE TINEE_SAPC;44.257667;6.921167;1150;2006-11-27;ETENDU\\n06125001;;ST MARTIN D'ENTRAUNES_SAPC;44.154667;6.747000;1642;2007-05-07;ETENDU\\n06136005;;SOSPEL;43.862833;7.433667;843;2004-11-01;RADOME\\n06152002;;VALBONNE-SOPHIA;43.623167;7.028500;238;1987-07-01;ETENDU\\n06153400;;MILLEFONTS-NIVOSE;44.118333;7.192000;2430;2007-09-26;ETENDU\\n06163001;;TENDE-OBS;44.086667;7.595000;792;1952-09-01;ETENDU\\n06163007;;TENDE_SAPC;44.043167;7.586000;636;1989-07-01;ETENDU\\n07005001;;ALBA LA ROMAINE;44.539833;4.582500;223;1948-09-01;ETENDU\\n07010001;;ANNONAY;45.246167;4.670500;336;1973-07-01;ETENDU\\n07011002;;ANTRAIGUES;44.719167;4.352167;428;1953-01-01;ETENDU\\n07019005;;AUBENAS SA;44.601667;4.409833;176;1969-07-01;ETENDU\\n07025001;;BARNAS RAD;44.666000;4.159833;480;1990-01-01;RADOME\\n07032002;;BERZEME RAD;44.628333;4.566333;650;1988-05-01;RADOME\\n07033001;;BESSAS;44.340000;4.298667;251;1933-11-01;ETENDU\\n07064001;;CHEYLARD SA;44.914833;4.437500;418;1900-01-01;ETENDU\\n07066001;;CHOMERAC SA_RCE;44.699500;4.648333;216;1970-07-01;ETENDU\\n07068001;;COLOMBIER JEUNE RAD;45.015500;4.671167;566;1972-10-01;RADOME\\n07075001;;CROS GEORAND;44.780167;4.099667;1021;1952-01-01;ETENDU\\n07096001;;GLUIRAS RAD;44.839333;4.524000;760;2004-12-01;RADOME\\n07099001;;GRAS;44.429000;4.565500;341;1984-01-01;ETENDU\\n07101001;;GROSPIERRES;44.411333;4.300833;127;1978-08-01;ETENDU\\n07105001;;ISSANLAS;44.773167;3.981667;1215;1950-01-01;ETENDU\\n07105003;;ISSANLAS_SAPC;44.755500;3.975333;1264;2004-03-01;ETENDU\\n07117002;;LABLACHERE;44.480833;4.208333;295;1958-03-01;ETENDU\\n07128001;;LALOUVESC;45.117833;4.535000;1090;1956-07-01;ETENDU\\n07131001;07570;LANAS SYN;44.537167;4.368167;265;1990-11-01;RADOME\\n07153001;;MAYRES;44.667167;4.113000;579;1900-01-01;ETENDU\\n07154005;;MAZAN ABBAYE RAD;44.733833;4.083833;1240;2003-05-01;RADOME\\n07159001;;MIRABEL SA;44.581500;4.497333;275;1929-01-01;ETENDU\\n07161001;;MONTPEZAT SA;44.715667;4.207000;602;1900-01-01;ETENDU\\n07168001;;ORGNAC AVEN;44.288333;4.421667;230;1970-07-01;ETENDU\\n07172002;;PEAUGRES RAD;45.286167;4.705833;480;2003-05-01;RADOME\\n07187001;;CROIX MILLET;44.606333;4.241333;779;2009-07-10;RADOME\\n07202002;;SABLIERES OARA;44.533000;4.072500;540;1991-05-01;ETENDU\\n07204008;;ST-AGREVE RAD;44.997833;4.368000;1014;2005-09-01;RADOME\\n07232001;;ST-ETIENNE LUGDARES;44.651333;3.948500;1022;1950-07-01;ETENDU\\n07240001;;ST-GEORGES BAIN;44.860333;4.832500;112;1950-07-01;ETENDU\\n07261001;;ST-LAURENT PAPE;44.817833;4.746833;112;1950-01-01;ETENDU\\n07265001;;ST-MARCEL ANNONAY;45.296000;4.642000;494;1919-01-01;ETENDU\\n07279001;;ST-MONTAN;44.441833;4.636333;130;1944-05-01;ETENDU\\n07286002;;ST-PIERREVILLE;44.814333;4.485000;560;1900-01-01;ETENDU\\n07301002;;ST-VICTOR;45.110167;4.682333;557;1989-01-01;ETENDU\\n07315004;;LA SOUCHE;44.628500;4.123667;924;1997-01-01;ETENDU\\n07331001;;VALS-LES-BAINS;44.669500;4.360667;283;1867-01-01;ETENDU\\n07334004;;LES VANS-SA;44.415500;4.150833;140;2010-09-09;ETENDU\\n07338001;;VERNOUX;44.899500;4.652333;561;1892-01-01;ETENDU\\n07347001;;VOCANCE;45.201167;4.554333;529;1918-01-01;ETENDU\\n08046001;;BANOGNE-RECOUVRANCE;49.571667;4.129167;130;1970-07-01;ETENDU\\n08089003;;BUZANCY_SAPC;49.427333;4.964500;199;2007-01-01;ETENDU\\n08105005;07075;CHARLEVILLE-MEZ;49.782833;4.643167;145;1990-01-01;RADOME\\n08116001;;LE CHESNE;49.510333;4.766167;168;1873-05-01;ETENDU\\n08145001;;DOUZY;49.658000;5.039833;153;2002-05-29;RADOME\\n08207001;;HAM-SUR-MEUSE;50.116000;4.779500;109;1939-01-01;ETENDU\\n08239001;;JUNIVILLE;49.397333;4.371667;90;1900-01-01;ETENDU\\n08244001;;LAMETZ_SAPC;49.536667;4.689667;165;2017-08-16;ETENDU\\n08248002;;LAUNOIS-SUR-VENCE_SAPC;49.671833;4.534667;218;2009-03-04;ETENDU\\n08254002;;LIART_SAPC;49.765500;4.340333;240;2016-09-08;ETENDU\\n08255001;;LINAY;49.616833;5.216833;177;1983-01-01;ETENDU\\n08296002;;MONTCHEUTIN_SAPC;49.287333;4.809667;142;2007-01-01;ETENDU\\n08353001;;RANCENNES;50.118833;4.813167;162;2014-09-18;RADOME\\n08367002;;ROCROI;49.918667;4.530000;382;1999-04-01;RADOME\\n08401001;;SAULCES-CHAMPENOISES;49.423833;4.492500;147;2004-03-18;RADOME\\n08419001;;SIGNY-L'ABBAYE;49.686000;4.418833;180;1951-01-01;ETENDU\\n08420002;;SIGNY-LE-PETIT_SAPC;49.913500;4.288167;309;2007-07-25;ETENDU\\n09023002;;ASCOU LAVAIL;42.723833;1.895167;1100;1954-01-01;ETENDU\\n09024004;;ASTON;42.724167;1.691000;1781;2002-06-01;RADOME\\n09027001;;AUGIREIN;42.930167;0.920000;655;1989-08-01;ETENDU\\n09047001;;BELESTA;42.903833;1.936667;490;1928-01-01;ETENDU\\n09094001;;CERIZOLS;43.126000;1.063000;374;1980-04-01;ETENDU\\n09099001;;COS;42.970167;1.564500;519;2003-10-01;RADOME\\n09161003;;LERAN;42.990333;1.919167;391;2002-05-01;RADOME\\n09181003;;LE MAS D AZIL;43.073500;1.357667;293;1971-05-01;ETENDU\\n09199002;;MONTAUT;43.192167;1.643500;295;2002-05-01;RADOME\\n09225005;;PAMIERS VILLE;43.118833;1.607000;283;2008-12-01;ETENDU\\n09285400;;PORT D'AULA-NIVOSE;42.770000;1.114333;2140;1995-10-17;ETENDU\\n09289001;07627;ST GIRONS;43.005333;1.106833;414;1949-01-01;RADOME\\n09301001;;SOULAN;42.914667;1.234333;638;1975-10-01;ETENDU\\n09328001;;VERDUN;42.791667;1.690000;550;1928-01-01;ETENDU\\n10002001;;AILLEVILLE_SAPC;48.254167;4.685667;195;1991-01-01;ETENDU\\n10021001;;AVANT-LES-RAMERUPT;48.451333;4.283667;118;1959-03-01;ETENDU\\n10030001;07168;TROYES-BARBEREY;48.324667;4.020000;112;1975-05-01;RADOME\\n10042001;;BERULLE;48.179000;3.663333;146;1913-01-01;ETENDU\\n10057001;;BOUY-SUR-ORVIN;48.439833;3.504833;102;1926-01-01;RADOME\\n10070001;;CELLES-SUR-OURCE;48.067500;4.411333;275;2004-03-25;RADOME\\n10099002;;CHESSY-LES-PRES_SAPC;48.025500;3.915000;119;1971-11-01;ETENDU\\n10119001;;CUNFIN_SAPC;48.036500;4.678500;315;1980-04-01;ETENDU\\n10130001;;DOSNON;48.609167;4.224667;115;1949-11-01;ETENDU\\n10166002;;GRANDES-CHAPELL;48.468167;4.016833;111;1971-10-01;ETENDU\\n10228002;;MATHAUX-ETAPE;48.353167;4.472333;145;1981-01-01;RADOME\\n10238001;;MESNIL-ST-PERE;48.244833;4.322167;142;1972-01-01;ETENDU\\n10241001;;METZ-ROBERT_SAPC;48.074500;4.101167;140;2015-10-28;ETENDU\\n10261001;;MUSSY-SUR-SEINE;47.983833;4.495833;193;1971-10-01;ETENDU\\n10323001;;ROMILLY;48.503333;3.749500;77;1881-11-01;ETENDU\\n10350001;;ST-MARDS;48.169833;3.789000;227;1958-01-01;RADOME\\n10372001;;SOULAINES;48.399333;4.671333;138;1991-01-01;ETENDU\\n10401001;;VENDEUVRE-SUR-B;48.233000;4.463000;180;1891-01-01;ETENDU\\n10419001;;VILLEMOYENNE;48.178500;4.233833;134;1972-07-01;ETENDU\\n11004001;;ALAIGNE;43.112500;2.098333;293;1971-01-01;ETENDU\\n11012001;;ARGELIERS;43.308167;2.911667;31;1945-01-01;ETENDU\\n11015001;;ARQUES;42.951833;2.374833;350;1872-01-01;ETENDU\\n11016003;;ARQUETTES-EN-VAL;43.100833;2.503333;240;1991-05-01;ETENDU\\n11028001;;BELCAIRE;42.819500;1.968167;980;1962-07-01;ETENDU\\n11069001;07635;CARCASSONNE;43.215333;2.295500;128;1948-01-01;RADOME\\n11076001;;CASTELNAUDARY;43.305333;1.949167;160;1946-04-01;ETENDU\\n11081003;;CAUNES-MINERVOIS;43.334333;2.481000;371;1988-04-01;ETENDU\\n11124003;;DURBAN-CORBIERES;42.993167;2.819167;120;1988-09-01;ETENDU\\n11136001;;FANJEAUX_SAPC;43.202000;2.070000;182;2006-10-25;ETENDU\\n11144001;;FITOU;42.894667;2.995833;9;1939-01-01;ETENDU\\n11159002;;RIBOUISSE;43.182833;1.895833;302;1965-01-01;ETENDU\\n11168001;;GRANES;42.909167;2.250500;420;1991-10-01;RADOME\\n11181002;;LABECEDE LAURAGAIS_SAPC;43.389500;2.022167;408;2007-05-24;ETENDU\\n11185001;;LAGRASSE;43.091500;2.621833;130;1960-11-01;ETENDU\\n11202001;07666;LEUCATE;42.917333;3.059667;42;1995-03-01;RADOME\\n11203004;;LEZIGNAN-CORBIERES;43.173000;2.728833;60;1990-08-01;RADOME\\n11206003;;LIMOUX;43.046000;2.201167;230;1937-01-01;ETENDU\\n11221004;;LES MARTYS;43.408500;2.292333;760;1993-09-01;RADOME\\n11253001;;MONTOLIEU;43.312667;2.240500;280;1964-11-01;ETENDU\\n11260002;;MOUTHOUMET;42.959500;2.529000;538;1989-08-01;RADOME\\n11262005;;NARBONNE;43.150333;2.955833;110;1988-05-01;RADOME\\n11266001;;PORT-LA-NOUVELLE;43.014500;3.052500;0;1856-01-01;ETENDU\\n11412001;;VILLARDEBELLE_SAPC;43.014833;2.400500;593;1969-06-01;ETENDU\\n12005001;;ALPUECH;44.756000;2.868167;1107;2013-11-14;RADOME\\n12011001;;ARVIEU;44.167667;2.618833;733;1979-01-01;ETENDU\\n12014001;;AURELLE-VERLAC_SAPC;44.533500;3.007667;1076;1965-08-01;ETENDU\\n12039001;;BRUSQUE_SAPC;43.749500;2.938667;858;2006-11-20;ETENDU\\n12050001;;CANET-DE-SALARS_SAPC;44.233500;2.737167;860;2008-09-15;ETENDU\\n12063003;;MILLAU-LARZAC_SAPC;43.987000;3.181833;794;1998-12-01;ETENDU\\n12068001;;COLOMBIES;44.357833;2.317167;647;1981-01-01;ETENDU\\n12077002;;CORNUS;43.922333;3.192167;718;2002-05-01;RADOME\\n12092001;;DURENQUE_SAPC;44.111833;2.644500;812;2007-11-13;ETENDU\\n12094002;;ENTRAYGUES SUR;44.635833;2.559667;264;1979-12-01;ETENDU\\n12096001;;ESPALION;44.509500;2.768667;359;1884-01-01;ETENDU\\n12145001;07558;MILLAU;44.118500;3.019500;712;1964-04-01;RADOME\\n12150001;;MONTEILS;44.265667;1.991667;268;1955-03-01;ETENDU\\n12154003;;MONTLAUR;43.891667;2.836333;374;2002-05-01;RADOME\\n12179001;;PEUX-ET-COUFFOULEUX_SAPC;43.761833;2.867167;830;2006-11-20;ETENDU\\n12189001;;PRADINAS_SAPC;44.242167;2.255833;564;2012-07-16;ETENDU\\n12216001;;ST-COME-D'OLT;44.514667;2.827833;380;2002-06-01;RADOME\\n12224001;;ST-GENIEZ-D'OLT;44.463667;2.967667;420;1955-12-01;ETENDU\\n12253001;;SALLES CURAN;44.151833;2.866167;959;1945-01-01;ETENDU\\n12254001;07552;RODEZ-AVEYRON;44.410333;2.482500;578;1970-11-01;RADOME\\n12266002;;SEGUR;44.289500;2.820333;879;2016-10-17;RADOME\\n12298001;;VILLECOMTAL;44.530667;2.572000;318;1956-03-01;ETENDU\\n12300004;;VILLEFRANCHE-DE-ROUERGUE;44.371833;2.023667;330;1988-07-01;RADOME\\n13001009;07654;AIX EN PROVENCE;43.529500;5.424500;173;1955-07-01;RADOME\\n13004003;;ARLES;43.510000;4.693833;1;1962-11-01;RADOME\\n13005003;;AUBAGNE;43.307333;5.601167;130;1988-04-01;ETENDU\\n13022003;;CASSIS;43.222167;5.503167;212;1989-11-01;RADOME\\n13028001;07656;BEC DE L AIGLE;43.174667;5.574167;316;1947-01-01;ETENDU\\n13030001;;CUGES-LES-PINS;43.274000;5.700167;184;1890-12-01;ETENDU\\n13031002;;LA DESTROUSSE_SAPC;43.386667;5.601000;201;2007-07-13;ETENDU\\n13036003;;EYRAGUES;43.847167;4.834833;17;1997-04-01;ETENDU\\n13047001;07647;ISTRES;43.522667;4.927500;23;1920-01-01;RADOME\\n13054001;07650;MARIGNANE;43.437667;5.216000;9;1920-09-01;RADOME\\n13055001;;MARSEILLE-OBS;43.305667;5.394333;75;1867-02-01;ETENDU\\n13055029;;MARSEILLE;43.310667;5.479167;192;2014-11-01;RADOME\\n13056002;07653;CAP COURONNE;43.331667;5.053333;27;1961-04-01;ETENDU\\n13062002;;MIMET;43.418500;5.499667;416;1990-01-01;ETENDU\\n13074003;;PEYROLLES EN PROVENCE;43.656667;5.607000;217;2005-06-27;RADOME\\n13091002;;ST CANNAT;43.604500;5.317667;249;2011-06-14;ETENDU\\n13092001;;ST CHAMAS;43.549500;5.039500;10;1873-07-01;ETENDU\\n13103001;07648;SALON DE PROVENCE;43.612833;5.108000;58;1938-03-01;RADOME\\n13108004;;TARASCON;43.829833;4.640167;15;1989-07-01;RADOME\\n13110003;;TRETS;43.445333;5.698667;264;1988-01-01;ETENDU\\n13111002;;VAUVENARGUES;43.551000;5.680000;565;1989-08-01;ETENDU\\n14047002;;BAYEUX;49.274833;-0.712333;60;2013-09-05;ETENDU\\n14066001;;BERNIERES;49.334000;-0.430667;2;2001-08-01;RADOME\\n14096001;;BREMOY;48.991167;-0.780833;240;1873-11-01;ETENDU\\n14137001;07027;CAEN-CARPIQUET;49.180000;-0.456167;67;1944-10-01;RADOME\\n14216001;;DAMBLAINVILLE;48.928000;-0.148667;155;1997-01-01;RADOME\\n14229001;;DOZULE;49.231667;-0.047500;29;1967-06-01;ETENDU\\n14239001;;ENGLESQUEVILLE;49.387500;-0.956667;38;1958-02-01;ETENDU\\n14296001;;LEGAST_SAPC;48.794667;-1.037167;336;1997-01-01;ETENDU\\n14357002;;LASSY_SAPC;48.926500;-0.692500;223;2008-12-01;ETENDU\\n14366002;;LISIEUX_SAPC;49.165000;0.227000;62;1970-07-01;ETENDU\\n14372001;;LIVRY;49.099167;-0.766500;194;1995-08-01;RADOME\\n14446001;;MONTIGNY;49.045833;-0.530167;151;1970-07-01;ETENDU\\n14501002;;PIERREFITTE CIN_SAPC;48.891000;-0.385833;185;1997-04-01;ETENDU\\n14515001;07029;PORT EN BESSIN;49.349167;-0.772667;68;1984-01-01;ETENDU\\n14578001;07031;ST GATIEN DES B;49.364500;0.167000;139;1931-08-01;RADOME\\n14624001;;L OUDON LIEURY_SAPC;48.989500;-0.009167;52;1963-07-01;ETENDU\\n14634001;;SAINT MICHEL DE;49.006833;0.129500;140;1983-12-01;ETENDU\\n14659001;;ST SYLVAIN_SAPC;49.060000;-0.234333;62;1972-12-01;ETENDU\\n14762004;;VIRE HIPPODROME;48.850833;-0.899000;100;2003-12-01;RADOME\\n15001003;;ALLANCHE;45.232000;2.937667;1010;1999-01-01;ETENDU\\n15014001;;AURILLAC - VILL;44.935833;2.438333;707;1961-07-01;ETENDU\\n15014004;07549;AURILLAC;44.891500;2.419167;632;1945-08-09;RADOME\\n15025001;;PRAT DE BOUC;45.052500;2.792000;1405;1996-12-01;RADOME\\n15050001;07862;LE CLAUX;45.172500;2.710500;1033;1951-07-01;ETENDU\\n15053001;;COLTINES;45.074667;2.990667;979;1994-09-01;RADOME\\n15060002;;DEUX-VERGES;44.801500;3.012667;1080;2002-06-01;RADOME\\n15068001;;FAVEROLLES;44.943667;3.149500;903;1954-07-01;ETENDU\\n15085001;;LABROUSSE;44.855333;2.540667;800;1950-05-01;ETENDU\\n15101004;;LE LIORAN_SAPC;45.080833;2.747667;1236;1977-11-01;ETENDU\\n15114002;;MARCENAT;45.302667;2.833000;1075;1990-01-01;RADOME\\n15118002;;MARMANHAC;45.002833;2.474500;644;1968-05-01;ETENDU\\n15119001;;MASSIAC;45.263333;3.197833;533;1858-01-01;ETENDU\\n15120005;;MAURIAC;45.222167;2.293167;674;1995-06-01;RADOME\\n15122002;;MAURS;44.734167;2.166000;480;1992-02-01;RADOME\\n15138001;;MURAT;45.109500;2.862167;904;1957-01-01;ETENDU\\n15162003;;RIOM-MONTAGNES;45.280167;2.664667;837;1989-10-01;ETENDU\\n15187006;;ST FLOUR;45.024333;3.067333;909;1988-01-01;ETENDU\\n15191001;;ST ILLIDE;45.064000;2.303833;635;1953-05-01;ETENDU\\n15196001;;ST MAMET;44.858833;2.310667;740;1955-09-01;ETENDU\\n15207002;;ST- PONCY_SAPC;45.178333;3.174167;805;2007-01-01;ETENDU\\n15226001;;SENEZERGUES;44.704000;2.428167;530;1964-10-01;ETENDU\\n15235002;;LES TERNES;44.992833;3.001833;1007;1947-01-01;ETENDU\\n15258004;;VIC SUR CERE;44.965833;2.612167;657;1988-01-01;ETENDU\\n16028001;;BARBEZIEUX;45.481000;-0.148667;72;1877-01-01;ETENDU\\n16078001;07420;ANGOULEME - BRIE - CHAMPNIERS;45.728000;0.220667;124;2009-03-17;ETENDU\\n16089001;07412;COGNAC;45.665000;-0.315833;30;1944-01-01;RADOME\\n16113001;;LA COURONNE;45.627833;0.099833;58;1976-01-01;RADOME\\n16193001;;LOUZAC ST ANDRE;45.735833;-0.381833;51;1985-06-01;ETENDU\\n16225001;;MONTEMBOEUF;45.787167;0.543000;247;1990-12-01;RADOME\\n16256001;;PASSIRAC;45.334000;-0.078667;114;1979-01-01;ETENDU\\n16279001;;RIOUX MARTIN;45.262000;0.003333;81;1990-03-01;RADOME\\n16363001;;SAULGOND_SAPC;45.956333;0.781667;228;1993-01-01;ETENDU\\n16366001;;SEGONZAC_SAPC;45.614500;-0.223500;62;1970-06-01;ETENDU\\n16390001;;TUSSON;45.949000;0.062167;88;1986-01-01;RADOME\\n16403001;;LE VIEUX CERIER_SAPC;45.967500;0.442000;162;1990-02-01;ETENDU\\n17093002;;CHATEAU D'OLERON;45.862167;-1.204333;3;1980-01-01;ETENDU\\n17111001;;CLION;45.476833;-0.510333;35;1957-01-01;ETENDU\\n17218001;;MARANS;46.316333;-1.012167;2;1858-01-01;ETENDU\\n17224001;;MATHA;45.858667;-0.319667;38;1949-01-01;ETENDU\\n17243002;;MONTLIEU_SAPC;45.220167;-0.291833;89;1959-01-01;ETENDU\\n17248001;;MORTAGNE-SUR-GIRONDE_SAPC;45.477667;-0.789833;37;2016-07-28;ETENDU\\n17268002;;NUAILLE SUR BOUTONNE;46.019833;-0.406667;36;1933-01-01;RADOME\\n17300009;07316;LA ROCHELLE-ILE DE RE;46.178000;-1.193167;20;2000-01-01;RADOME\\n17306004;;ROYAN-MEDIS;45.633000;-0.974667;12;1991-11-01;RADOME\\n17308001;07317;ST AGNANT;45.888000;-0.984667;18;1992-01-01;ETENDU\\n17318001;07311;SAINT-CLEMENT DES BALEINES;46.243000;-1.561667;10;1882-01-01;ETENDU\\n17323001;07314;CHASSIRON;46.046833;-1.411667;11;1879-06-01;RADOME\\n17339002;;ST GERMAIN DE LUSIGNAN;45.458333;-0.409667;71;1969-01-01;RADOME\\n17353001;;ST-LAURENT PREE-INRAE;45.988333;-1.027000;3;1873-10-01;ETENDU\\n17415003;;SAINTES;45.761167;-0.652000;38;1916-01-01;RADOME\\n17477001;;VILLIERS_SAPC;45.987500;-0.152000;106;1962-12-01;ETENDU\\n18003003;;LES AIX-D'ANG.;47.209667;2.552333;195;1990-08-01;ETENDU\\n18015003;;AUBIGNY-SUR-NERE;47.499500;2.427333;176;1991-05-01;RADOME\\n18033001;07255;BOURGES;47.059167;2.359833;161;1945-03-01;RADOME\\n18036001;;BRINAY;47.166667;2.081000;131;1986-04-01;ETENDU\\n18037001;;BRINON;47.564500;2.262333;133;1859-01-01;ETENDU\\n18047001;;CHAPELLE-D'ANG_SAPC;47.373833;2.426667;190;1854-09-01;ETENDU\\n18057003;;CHATEAUMEILLANT;46.564000;2.217500;243;1901-04-01;ETENDU\\n18087001;;DUN;46.878333;2.566167;160;1883-01-01;ETENDU\\n18089001;;EPINEUIL;46.563333;2.519833;228;1859-01-01;ETENDU\\n18092001;07257;AVORD;47.052167;2.642167;175;1921-01-01;RADOME\\n18109002;;HENRICHEMONT;47.285833;2.579167;377;1987-01-01;ETENDU\\n18125004;;LERE;47.457833;2.893167;139;1997-06-01;RADOME\\n18172003;;ORVAL RAD;46.731000;2.467333;165;2004-01-13;RADOME\\n18175003;;OUROUER;46.925333;2.803333;221;1991-11-01;RADOME\\n18187004;;PREVERANGES;46.425333;2.236500;462;1997-05-01;RADOME\\n18207003;;ST-FLORENT/CHER;46.989333;2.248667;146;1991-03-01;ETENDU\\n18223003;;ST-MARTIN-D'A.;47.200667;2.416833;172;1947-01-01;ETENDU\\n18231001;;ST-PIERRE;46.729000;2.631667;174;1984-12-01;ETENDU\\n18242001;;SANCOINS;46.831333;2.926500;203;1883-01-01;ETENDU\\n18279001;;VIERZON - VEVES;47.219500;2.014167;98;1859-01-01;ETENDU\\n19010001;;ARGENTAT;45.101333;1.937500;190;1867-05-01;RADOME\\n19016001;;BAR;45.344500;1.823833;269;1940-01-01;ETENDU\\n19031008;07438;BRIVE;45.146667;1.473333;115;1987-09-01;RADOME\\n19033001;;BUGEAT;45.602667;1.930333;694;1944-03-01;ETENDU\\n19034001;;CAMPS;44.983667;1.988333;519;1952-06-01;ETENDU\\n19073006;;EGLETONS;45.398833;2.059167;610;1997-07-01;RADOME\\n19121002;;LUBERSAC;45.410333;1.411167;390;1987-04-01;ETENDU\\n19125001;;MARCILLAC;45.283500;2.039833;598;1951-01-01;ETENDU\\n19136002;;MEYMAC;45.534333;2.154333;670;1959-02-01;ETENDU\\n19139001;;MILLEVACHES;45.642667;2.095500;915;1952-08-01;ETENDU\\n19147001;07439;BRIVE-SOUILLAC;45.036333;1.491667;295;2010-06-15;RADOME\\n19164001;;PEYRELEVADE;45.701000;2.058667;827;1965-08-01;RADOME\\n19201001;;USSEL-THALAMY;45.537333;2.420000;740;2014-08-01;RADOME\\n19237001;;ST-PRIVAT;45.139000;2.096000;585;1954-11-01;ETENDU\\n19264001;;SOURSAC;45.249000;2.212833;528;1951-06-01;ETENDU\\n19272001;;TULLE;45.242500;1.740333;235;1867-05-01;ETENDU\\n19275001;;USSEL-LAMARTINE;45.558833;2.321333;654;1937-11-01;ETENDU\\n19276006;;UZERCHE;45.396333;1.568167;422;1996-07-01;RADOME\\n19288004;;VOUTEZAC;45.279833;1.416000;124;1940-01-01;ETENDU\\n20004002;07761;AJACCIO;41.918000;8.792667;5;1944-03-01;RADOME\\n20004003;07752;AJACCIO-PARATA;41.908333;8.618167;124;1955-09-01;ETENDU\\n20004014;;AJACCIO-MILELLI_SAPC;41.938500;8.720833;86;2003-09-01;ETENDU\\n20007402;;SPONDE-NIVOSE;42.324500;8.882667;1981;1985-12-12;ETENDU\\n20023005;;ASCO_SAPC;42.403833;8.922667;1400;2015-07-02;ETENDU\\n20029003;;BARBAGGIO_SAPC;42.679833;9.389333;572;2021-12-22;ETENDU\\n20033015;;BASTIA_SAPC;42.704333;9.444833;26;2016-05-13;ETENDU\\n20040001;07796;BOCOGNANO-GARE;42.080167;9.052500;660;1965-01-01;ETENDU\\n20040004;;BOCOGNANO;42.104167;9.103333;1019;2009-04-10;ETENDU\\n20041001;07770;CAP PERTUSATO;41.374833;9.178333;107;1882-01-01;RADOME\\n20046002;;CAGNANO;42.886667;9.439500;278;2018-06-11;ETENDU\\n20047006;;CALACUCCIA;42.331500;9.021500;811;2016-06-01;ETENDU\\n20050001;07754;CALVI;42.529500;8.791500;57;1960-01-01;RADOME\\n20054002;;CAMPILE_SAPC;42.494667;9.353000;499;2013-06-28;ETENDU\\n20083001;;CASTIRLA;42.380167;9.134167;376;1970-08-01;ETENDU\\n20092001;;CONCA;41.717000;9.348500;253;1999-03-01;ETENDU\\n20093002;07753;ILE ROUSSE;42.633167;8.922667;142;1988-08-01;RADOME\\n20096008;;CORTE;42.288500;9.193167;350;2015-10-01;RADOME\\n20096009;;RESTONICA_SAPC;42.229667;9.031333;1372;2022-09-27;ETENDU\\n20107001;07785;CAP CORSE;43.003833;9.359500;72;1882-01-01;RADOME\\n20108002;;EVISA-ONF;42.263333;8.838667;1030;1977-01-01;ETENDU\\n20114002;07780;FIGARI;41.505167;9.103667;20;1979-08-01;RADOME\\n20126001;;GIUNCAGGIO_SAPC;42.216500;9.369333;685;2018-04-20;ETENDU\\n20135002;;ISOLACCIO DI FIUMORBO;41.992333;9.305000;198;2006-09-01;ETENDU\\n20142001;;LEVIE;41.703500;9.125833;571;1967-09-01;ETENDU\\n20148001;07790;BASTIA;42.540667;9.485167;10;1944-05-01;RADOME\\n20154001;;MARIGNANA;42.188833;8.655333;515;2009-02-09;ETENDU\\n20160001;;MOCA-CROCE;41.761667;9.016500;951;2019-02-18;RADOME\\n20169007;;PONTE-LECCIA;42.472667;9.199833;240;2013-06-06;ETENDU\\n20185003;;OLETTA;42.632333;9.320500;75;2006-01-18;RADOME\\n20190002;;OLMI-CAPPELLA;42.529500;9.016500;844;2011-04-04;ETENDU\\n20209003;;PERI_SAPC;42.003167;8.905667;433;2016-11-07;ETENDU\\n20211001;;PETRETO BICCHISANO;41.785167;8.979167;450;1952-03-01;ETENDU\\n20223001;;PIETRALBA;42.541000;9.172000;510;1991-07-01;ETENDU\\n20232002;;PILA-CANALE;41.814500;8.903667;407;1992-04-01;ETENDU\\n20235001;;PIOGGIOLA;42.517833;8.999833;995;2023-10-24;ETENDU\\n20247001;07768;LA CHIAPPA;41.594833;9.363167;57;1928-07-01;ETENDU\\n20249003;;PROPRIANO;41.678167;8.915000;34;2019-10-14;ETENDU\\n20254006;;QUENZA;41.777667;9.142833;932;2009-04-07;ETENDU\\n20255003;;QUERCITELLO;42.426833;9.332333;997;2024-01-01;ETENDU\\n20258001;;RENNO;42.190167;8.807167;755;1993-06-01;RADOME\\n20264002;;RUSIO_SAPC;42.364167;9.264500;860;2016-04-18;ETENDU\\n20268001;;SAMPOLO;41.943000;9.123000;837;1989-09-01;RADOME\\n20270001;;SARI D'ORCINO;42.078500;8.802333;407;1988-11-01;ETENDU\\n20272001;;SARTENE-CIMETIERE;41.620167;8.962167;272;1959-05-01;ETENDU\\n20272004;;SARTENE;41.652333;8.979333;62;1996-09-01;ETENDU\\n20273001;;SCATA;42.429333;9.412167;185;2006-09-01;ETENDU\\n20281001;07791;CAP SAGRO;42.798333;9.488667;111;1979-01-01;ETENDU\\n20303002;07775;ALISTRO;42.259667;9.541500;65;1990-07-01;RADOME\\n20312001;;SANTA MARIA SICHE;41.879167;8.989167;541;1952-03-01;ETENDU\\n20314006;;SANTO PIETRO DI TENDA;42.635833;9.200667;484;2017-12-14;RADOME\\n20326001;;TOLLA_SAPC;41.963500;8.959167;698;2016-11-21;ETENDU\\n20341400;;MANICCIA-NIVOSE;42.210000;9.050000;2360;2000-10-24;ETENDU\\n20342001;07765;SOLENZARA;41.921833;9.400833;12;1960-08-01;RADOME\\n20354008;;VIVARIO_SAPC;42.152667;9.149167;773;2017-09-19;ETENDU\\n21056001;;BEIRE LE CHATEL;47.413833;5.208333;250;1945-09-01;ETENDU\\n21065001;;BESSEY;47.086000;4.743167;593;2002-05-01;RADOME\\n21116002;;BURE LES TEMPLIERS_SAPC;47.719500;4.948167;461;2007-12-05;ETENDU\\n21131001;;PAGNY-LE-CHATEAU;47.043167;5.190667;182;1992-04-01;RADOME\\n21154001;07276;CHATILLON/SEINE;47.849333;4.581333;262;1946-01-01;RADOME\\n21231001;;DIJON;47.320667;5.019333;241;1830-07-01;ETENDU\\n21310001;;GROSBOIS-EN-MONTAGNE;47.319333;4.596333;376;1850-01-01;ETENDU\\n21326001;;JOURS LES BAIGNEUX_SAPC;47.636000;4.596333;392;2015-06-30;ETENDU\\n21386001;;MARIGNY LE CAHOUET;47.447500;4.433500;335;1864-01-01;ETENDU\\n21395001;;MASSINGY-LES-VITTEAUX_SAPC;47.388667;4.586333;509;2018-08-17;ETENDU\\n21425001;;MONTBARD_SAPC;47.628500;4.330500;209;1831-01-01;ETENDU\\n21454001;;NICEY;47.860333;4.315333;209;1853-01-01;ETENDU\\n21473001;07280;DIJON-LONGVIC;47.267833;5.088333;219;1921-01-01;RADOME\\n21501003;;POUILLY EN AUX_SAPC;47.251333;4.561000;412;1991-01-01;ETENDU\\n21503001;;POUILLY SUR VINGEANNE;47.542667;5.417667;239;1880-01-01;ETENDU\\n21519001;;RECEY SUR OURCE;47.782167;4.864167;326;1858-01-01;ETENDU\\n21527001;;LA ROCHEPOT;46.952500;4.674000;417;1938-01-01;ETENDU\\n21561003;;ST-MARTIN-DU-M;47.400500;4.781167;578;1992-09-01;RADOME\\n21564001;;ST NIC. CITEAUX;47.122167;5.072167;203;1947-01-01;ETENDU\\n21567001;;ARNAY_SAPC;47.124833;4.498667;396;1996-05-01;ETENDU\\n21584001;;SAULIEU;47.264167;4.215000;586;1850-01-01;RADOME\\n21603001;;SEMUR EN AUXOIS_SAPC;47.482000;4.340000;314;1978-03-01;ETENDU\\n21633002;;THOREY SOUS CHARNY_SAPC;47.319167;4.439500;421;2016-10-12;ETENDU\\n21638002;;TIL-CHATEL_SAPC;47.544833;5.207500;283;1993-11-01;ETENDU\\n22005003;;BELLE-ISLE-EN-TERRE;48.550000;-3.387500;158;2016-07-26;RADOME\\n22016001;07121;ILE-DE-BREHAT;48.855167;-3.004500;25;1850-01-01;ETENDU\\n22092001;;KERPERT;48.404000;-3.147667;281;1987-04-01;RADOME\\n22108001;;LANLEFF;48.691167;-3.040500;78;1987-05-01;ETENDU\\n22113006;07118;LANNION_AERO;48.755333;-3.468667;85;1993-11-01;RADOME\\n22147006;;MERDRIGNAC;48.188000;-2.420500;145;1998-10-01;ETENDU\\n22168001;07117;PLOUMANAC'H;48.825833;-3.473167;55;1947-08-01;RADOME\\n22219003;;PLOUGUENAST;48.265833;-2.748333;235;1987-03-01;RADOME\\n22243001;;PLUSQUELLEC;48.404167;-3.522333;214;1973-01-01;ETENDU\\n22247002;;POMMERIT-JAUDY;48.742000;-3.251000;55;1985-07-01;RADOME\\n22261002;;QUINTENIC;48.519167;-2.420000;71;1984-03-01;RADOME\\n22266001;07119;ROSTRENEN;48.226667;-3.295333;236;1954-07-01;RADOME\\n22282001;;SAINT-CAST-LE-G;48.644500;-2.247000;35;1945-01-01;RADOME\\n22372001;07120;ST BRIEUC;48.534667;-2.852000;135;1985-11-01;RADOME\\n23008004;;AUBUSSON_SAPC;45.957833;2.187833;486;1991-01-01;ETENDU\\n23013001;;AUZANCES_SAPC;46.021500;2.489333;564;1947-01-01;ETENDU\\n23021001;;BENEVENT_SAPC;46.121000;1.628500;460;1860-01-01;ETENDU\\n23025001;;BONNAT;46.315333;1.916333;382;1955-04-01;ETENDU\\n23030004;;BOURGANEUF;45.942333;1.725833;513;1994-07-01;RADOME\\n23031002;;BOUSSAC_SAPC;46.343333;2.228333;380;1994-10-01;ETENDU\\n23046001;;CHAMBONCHARD;46.176000;2.553000;320;1921-01-01;ETENDU\\n23067001;;LA COURTINE;45.702667;2.263667;772;1919-01-01;RADOME\\n23069002;;CROCQ;45.867167;2.362167;710;1950-12-01;ETENDU\\n23075001;;DUN LE PALESTEL;46.317833;1.666833;365;1860-01-01;ETENDU\\n23079002;;FELLETIN;45.880167;2.186000;635;1995-07-01;RADOME\\n23089001;;GENOUILLAC;46.352333;1.985000;306;1955-04-01;RADOME\\n23090003;;GENTIOUX;45.785000;1.997333;794;1880-01-01;ETENDU\\n23113001;;LUPERSAT_SAPC;45.986500;2.393167;610;2004-01-01;ETENDU\\n23155001;;PONTARION_SAPC;45.995667;1.852833;455;1860-01-01;ETENDU\\n23176001;;LA SOUTERRAINE;46.242500;1.451833;370;1880-05-01;RADOME\\n23206002;07361;GUERET-ST LAURENT;46.175500;1.950333;365;2011-05-09;RADOME\\n23209001;;SAINT-LOUP_SAPC;46.140667;2.264500;440;2013-10-01;ETENDU\\n24035003;;BELVES;44.782667;0.956000;238;1988-04-01;RADOME\\n24037005;07530;BERGERAC;44.822833;0.524167;49;1988-03-01;RADOME\\n24064001;;BRANTOME;45.356833;0.645833;129;1965-08-01;ETENDU\\n24138004;;COULOUNIEIX;45.159500;0.676667;217;2004-10-01;RADOME\\n24152001;;DOMME;44.798333;1.219667;165;1969-12-01;ETENDU\\n24172001;;LES EYZIES DE TAYAC;44.954500;1.020833;112;1967-11-01;ETENDU\\n24226001;;LAMOTHE MONTRAV;44.837333;0.041167;9;1958-01-01;ETENDU\\n24280001;;MONPAZIER;44.684000;0.891667;199;1965-08-01;ETENDU\\n24291001;;MONTIGNAC;45.052167;1.147333;77;1956-04-01;ETENDU\\n24452001;;ST MARTIAL VIVEYROLS;45.357833;0.319333;166;1987-07-01;RADOME\\n24453001;;ST MARTIN  DE FRESSENGEAS;45.475500;0.848333;277;2006-02-24;RADOME\\n24516002;;SALIGNAC-EYVIGUES;44.936667;1.364667;276;2004-09-01;RADOME\\n24547002;;TERRASSON-LAVILLEDIEU;45.135500;1.292500;90;1960-01-01;ETENDU\\n24550003;;THENON;45.112667;1.038500;265;2006-02-23;RADOME\\n25021001;;ARC-ET-SENANS;47.031500;5.782000;235;1900-01-01;ETENDU\\n25047001;;BAUME-LES-DAMES;47.347167;6.350333;267;1943-01-01;ETENDU\\n25056001;07288;BESANCON;47.249000;5.988833;307;1884-12-01;RADOME\\n25087002;;BRANNE_SAPC;47.378000;6.472167;287;2008-01-15;ETENDU\\n25127001;;CHARQUEMONT;47.218833;6.815000;884;1943-12-01;ETENDU\\n25219002;;EPENOY;47.127167;6.366333;752;1992-12-01;RADOME\\n25222001;;ETALANS_SAPC;47.152500;6.210167;540;2020-02-20;ETENDU\\n25223002;;COULANS;47.023333;6.020500;468;2006-12-01;RADOME\\n25254001;;LES FOURGS;46.834000;6.436500;1140;1956-07-01;ETENDU\\n25285001;;GRAND'COMBE-CHATELEU_SAPC;47.019167;6.567167;769;2015-10-01;ETENDU\\n25320001;07391;LABERGEMENT;46.779667;6.279500;863;1943-01-01;ETENDU\\n25334001;;LEVIER_SAPC;46.949333;6.124167;713;1880-09-01;ETENDU\\n25356003;07837;MAICHE;47.243000;6.791000;825;1992-12-01;RADOME\\n25372001;;MEDIERE;47.456000;6.601333;302;2008-01-01;ETENDU\\n25413001;;MOUTHE;46.707000;6.209500;940;1880-06-01;ETENDU\\n25453001;;PIERREFONTAINE;47.216667;6.528833;695;1947-07-01;ETENDU\\n25462001;;PONTARLIER;46.927000;6.320000;808;1874-11-01;RADOME\\n25494001;;LA BOISSAUDE ROCHEJEAN;46.729000;6.322833;1222;2006-06-26;RADOME\\n25512001;;LE RUSSEY;47.162167;6.737500;891;1963-06-01;ETENDU\\n25529002;;SANCEY-LE-GRAND;47.301500;6.581667;490;2004-09-01;RADOME\\n25621001;;VILLENEUVE-D'AMONT;46.938500;6.021333;663;1858-01-01;ETENDU\\n26002003;;ALBON;45.252333;4.822333;153;2001-07-01;RADOME\\n26035001;;BEAUFORT-S-GERV;44.778000;5.139000;379;1947-01-01;ETENDU\\n26047001;;BELLEGARDE-EN-D;44.535167;5.454333;1017;1961-01-01;ETENDU\\n26050001;;BESIGNAN;44.320500;5.317000;556;1990-05-01;RADOME\\n26056001;;BOURDEAUX;44.580167;5.142833;432;1961-01-01;ETENDU\\n26064001;07581;VALENCE-CHABEUI;44.914833;4.971833;163;1973-01-01;RADOME\\n26074001;;CHAPELLE-EN-VERCORS_SAPC;44.961500;5.422167;879;1994-04-01;ETENDU\\n26113003;;DIE;44.767667;5.343500;384;1990-01-01;ETENDU\\n26116002;;DONZERE;44.429167;4.725333;66;1992-03-01;ETENDU\\n26124001;;ETOILE;44.819000;4.889500;145;1987-01-01;RADOME\\n26142001;;GLANDAGE_SAPC;44.674667;5.615167;1007;1967-10-01;ETENDU\\n26168001;07587;LUS L CROIX HTE;44.672833;5.710833;1059;1946-02-01;RADOME\\n26179001;;MERCUROL;45.058500;4.883500;153;1993-07-01;ETENDU\\n26182001;;MIRABEL-AUX-BAR;44.328667;5.100833;238;1980-10-01;ETENDU\\n26189001;;MONTAUBAN-S-OUV;44.276000;5.478333;689;1931-05-01;ETENDU\\n26198001;07577;MONTELIMAR;44.581167;4.733000;73;1920-06-23;RADOME\\n26211001;;MONTSEGUR-S-LAU;44.361500;4.860833;146;1950-05-01;ETENDU\\n26258001;;PUY-ST-MARTIN;44.618167;4.976833;211;1968-12-01;ETENDU\\n26273002;;ROCHEFORT-SAMSON_SAPC;44.990667;5.165167;368;1984-09-01;ETENDU\\n26281001;;ROMANS_SAPC;45.050167;4.998667;156;1990-06-01;ETENDU\\n26290002;;COL DE ROUSSET_SAPC;44.841667;5.421667;1400;2017-09-20;ETENDU\\n26292002;;ST-AUBAN;44.294833;5.409833;625;2002-05-01;RADOME\\n26295001;;ST-BARTHELEMY-V_SAPC;45.173833;4.902500;203;1956-01-01;ETENDU\\n26298001;;ST-CHRISTOPHE-L_SAPC;45.229333;5.071833;452;1989-12-01;ETENDU\\n26307001;;ST-JEAN-EN-ROYA;45.009167;5.292500;308;1925-01-01;ETENDU\\n26313001;;ST-MARCEL-LES-V-INRAE;44.980167;4.931333;190;1962-01-01;ETENDU\\n26327001;;ST ROMAN-DIOIS;44.693833;5.428333;545;2003-04-29;RADOME\\n26328001;;ST SAUVEUR EN DIOIS;44.682667;5.157833;338;2013-10-04;ETENDU\\n26330001;;ST-SORLIN-EN-VA;45.271167;4.930333;237;1949-04-01;ETENDU\\n26340001;;SEDERON;44.202333;5.538833;804;1964-04-01;ETENDU\\n26361001;;VALDROME;44.505333;5.576667;786;1965-11-01;ETENDU\\n26377003;;VINSOBRES;44.337333;5.060167;346;1990-01-01;ETENDU\\n27016001;;LES ANDELYS;49.244667;1.412833;16;1925-01-01;ETENDU\\n27056003;;BERNAY;49.101333;0.559833;166;2004-04-01;RADOME\\n27100001;;BOULLEVILLE;49.361000;0.392833;122;2004-04-01;RADOME\\n27112001;;BRETEUIL;48.837500;0.907667;168;1956-07-01;ETENDU\\n27306001;;GUICHAINVILLE;48.977000;1.181667;147;1951-05-01;ETENDU\\n27347001;07038;EVREUX-HUEST;49.025000;1.221667;138;1968-01-01;RADOME\\n27375001;;LOUVIERS;49.204167;1.187167;25;1939-05-01;ETENDU\\n27422001;;MUIDS;49.224167;1.280500;31;2004-06-01;RADOME\\n28051002;;BONNEVAL;48.205167;1.417333;134;2015-02-01;ETENDU\\n28064002;;BU_SAPC;48.801500;1.493167;132;1996-10-01;ETENDU\\n28070001;07143;CHARTRES;48.460500;1.501167;155;1918-09-01;RADOME\\n28078001;;CHAPELLE-GUILLAUME_SAPC;48.112000;0.905833;197;2007-11-26;ETENDU\\n28190002;;GUILLONVILLE;48.092833;1.667500;133;2019-10-30;ETENDU\\n28195001;;HOUX;48.566167;1.620833;107;1950-04-01;ETENDU\\n28196003;;ILLIERS-COMBRAY_SAPC;48.283500;1.253167;170;2016-04-04;ETENDU\\n28198001;07140;CHATEAUDUN;48.061333;1.376333;126;1951-07-01;RADOME\\n28206001;;LAONS;48.706833;1.173167;171;2006-01-18;RADOME\\n28214003;;LA LOUPE_SAPC;48.481000;1.013333;200;1996-06-01;ETENDU\\n28239002;;MARVILLE_SAPC;48.652667;1.371833;153;1990-04-01;ETENDU\\n28280001;;NOGENT-LE-ROTROU;48.318667;0.797833;108;1866-01-01;ETENDU\\n28322001;;RUEIL;48.712167;0.959333;157;1947-01-01;ETENDU\\n28363001;;SAINVILLE;48.403833;1.903167;149;1946-01-01;ETENDU\\n28373002;;SENONCHES;48.558000;1.012167;239;1997-01-01;ETENDU\\n28380003;;SOURS_SAPC;48.406333;1.555167;147;2007-12-20;ETENDU\\n28386001;;THIMERT;48.544167;1.302833;225;1979-01-01;ETENDU\\n28406002;;EOLE_VIABON;48.213667;1.675167;140;2019-11-05;ETENDU\\n28407001;;VICHERES;48.257833;0.910167;235;2006-02-03;RADOME\\n29018001;;BRENNILIS;48.352667;-3.869000;220;1961-12-01;ETENDU\\n29021001;07107;BRIGNOGAN;48.676500;-4.331000;9;1982-03-01;ETENDU\\n29022001;07104;CAMARET;48.274333;-4.606000;40;1952-10-01;ETENDU\\n29041002;;CORAY CHAT EAU;48.066000;-3.825500;242;1990-09-01;ETENDU\\n29058003;07111;BEG_MEIL;47.854500;-3.976167;8;2012-03-01;ETENDU\\n29075001;07110;BREST-GUIPAVAS;48.453833;-4.391167;92;1945-01-01;RADOME\\n29082001;07116;BATZ;48.746333;-4.011833;32;1894-01-01;ETENDU\\n29113001;;LANMEUR;48.662500;-3.692667;57;1979-09-01;ETENDU\\n29120001;07109;LANVEOC;48.279333;-4.439333;81;1939-01-01;RADOME\\n29155005;07100;OUESSANT-STIFF;48.473333;-5.057000;64;1995-09-01;RADOME\\n29158001;07200;PTE DE PENMARCH;47.797500;-4.374833;3;1891-01-01;ETENDU\\n29163003;;PLEYBER-CHRIST SA;48.500000;-3.853500;147;1994-03-01;RADOME\\n29168001;07103;PTE DU RAZ;48.038833;-4.732000;67;1893-01-01;ETENDU\\n29170001;;PLOMELIN-INRAE;47.946000;-4.128000;33;1978-04-01;ETENDU\\n29178001;07101;PLOUDALMEZEAU;48.548000;-4.664167;40;1998-02-01;RADOME\\n29179001;;PLOUDANIEL-INRAE;48.503833;-4.327667;76;1979-01-01;ETENDU\\n29190001;07102;PLOUGONVELIN;48.330000;-4.771667;22;1921-01-01;ETENDU\\n29214001;;PLOVAN;47.915833;-4.377500;10;2012-05-16;RADOME\\n29216001;07201;QUIMPER;47.973000;-4.160667;82;1948-05-01;RADOME\\n29249002;;SAINT-GOAZEC;48.144667;-3.730833;260;2017-06-22;RADOME\\n29263002;;ST-SEGAL S A;48.225833;-4.090000;89;1985-09-01;RADOME\\n29264001;07106;LANDIVISIAU;48.532000;-4.151833;109;1966-05-01;RADOME\\n29276001;;SIBIRIL S A;48.660333;-4.077500;58;1988-04-01;RADOME\\n29277001;;SIZUN;48.391333;-4.020500;157;1982-01-01;ETENDU\\n29293001;;TREGUNC;47.841333;-3.868833;25;2003-12-01;RADOME\\n30003001;;AIGUES-MORTES;43.537167;4.207000;1;1872-01-01;RADOME\\n30009001;;ALZON;43.979000;3.444000;611;1928-01-01;ETENDU\\n30068001;;CARDET;44.021000;4.079667;109;1968-04-01;ETENDU\\n30076001;;CAVILLARGUES;44.113000;4.518667;131;1960-07-01;ETENDU\\n30087002;;COLOGNAC;44.021833;3.825000;589;1991-11-01;ETENDU\\n30101001;;DEAUX;44.071833;4.143667;185;1988-07-01;ETENDU\\n30129001;;GENERARGUES;44.073333;3.977667;139;1855-01-01;ETENDU\\n30132004;;LA GRAND COMBE;44.243000;4.010167;499;2002-05-01;RADOME\\n30133005;07651;L'ESPIGUETTE;43.487833;4.140500;1;2009-02-16;ETENDU\\n30164001;;MEJANNES-LE-CLAP;44.216333;4.331000;313;1991-08-01;RADOME\\n30176002;;MONTDARDIER;43.947000;3.580000;640;1990-05-01;RADOME\\n30189001;07645;NIMES-COURBESSAC;43.856833;4.406333;59;1921-01-01;RADOME\\n30202002;;PONT ST ESPRIT;44.248333;4.627333;79;1972-01-01;ETENDU\\n30209002;;PUJAUT;43.998500;4.759667;44;1988-06-01;RADOME\\n30224001;;LA ROUVIERE;43.931833;4.240500;79;1986-01-01;ETENDU\\n30243001;;ST CHRISTOL-LES-ALES;44.092167;4.080333;129;1949-01-01;ETENDU\\n30258001;07646;NIMES-GARONS;43.772833;4.412833;94;1964-01-01;RADOME\\n30263001;;ST HIPPOLYTE;43.961500;3.835167;237;1886-01-01;ETENDU\\n30269006;07562;ST JEAN DU GARD;44.110500;3.872000;196;1974-04-01;ETENDU\\n30297001;;ST SAUVEUR CAMPRIEU;44.119333;3.474500;1107;1963-06-01;RADOME\\n30305001;;SALINDRES;44.174500;4.152500;191;1881-01-01;ETENDU\\n30334003;;UZES;43.992500;4.401833;72;2002-01-01;ETENDU\\n30339001;07560;MONT AIGOUAL;44.121333;3.581500;1567;1895-12-01;RADOME\\n30349001;;VIC LE FESQ;43.870833;4.072167;45;1956-09-01;ETENDU\\n30350001;;LE VIGAN;43.990000;3.611500;222;1885-01-01;ETENDU\\n30352002;;VILLEVIEILLE;43.795167;4.090833;41;1970-01-01;RADOME\\n31011001;;ARBAS;42.996500;0.908833;405;1968-02-01;ETENDU\\n31035001;;AUZEVILLE-TOLOSANE-INRAE;43.528833;1.503667;150;1994-08-01;ETENDU\\n31037002;;AVIGNONET-LAURAGAIS;43.343167;1.805667;193;2021-12-13;ETENDU\\n31042012;07724;LUCHON;42.801500;0.600167;618;1994-07-01;RADOME\\n31069001;07630;TOULOUSE-BLAGNAC;43.621000;1.378833;151;1947-01-01;RADOME\\n31070004;;BLAJAN;43.256500;0.643833;325;1999-03-01;ETENDU\\n31147001;;CLARAC;43.106000;0.617333;401;1994-05-01;RADOME\\n31157001;07631;TOULOUSE-FRANCAZAL;43.540333;1.372667;164;1922-06-19;ETENDU\\n31299001;07628;MURET-LHERM;43.451500;1.262000;189;1996-09-01;RADOME\\n31374001;;MONTESQUIEU-LAURAGAIS;43.417333;1.636500;190;1997-01-01;ETENDU\\n31403002;;ONDES;43.778333;1.321333;109;1988-08-01;ETENDU\\n31406002;;PALAMINY;43.200000;1.050000;243;2002-05-01;RADOME\\n31451001;;REVEL;43.437500;2.018667;338;1819-10-01;ETENDU\\n31454001;;RIEUMES;43.415167;1.113000;261;1966-01-01;ETENDU\\n31478001;;ST-FELIX-LAURAGAIS;43.441667;1.881167;330;2006-02-21;RADOME\\n31540001;;SEGREVILLE;43.491833;1.742500;212;1961-01-01;ETENDU\\n31579001;;VILLARIES;43.743667;1.481667;135;1965-04-01;ETENDU\\n32013005;07622;AUCH;43.689000;0.601167;122;1985-01-01;RADOME\\n32035001;;BEAUCAIRE;43.842500;0.372833;120;1965-12-01;ETENDU\\n32107006;;CONDOM;43.974333;0.336000;173;2004-09-01;RADOME\\n32132001;;FLEURANCE;43.874167;0.672833;108;1970-03-01;ETENDU\\n32147001;;GIMONT;43.627667;0.884167;177;1872-01-01;ETENDU\\n32155001;;LE HOUGA;43.745833;-0.177500;141;2006-03-01;RADOME\\n32182001;;LAHAS;43.547500;0.887833;251;2003-10-01;RADOME\\n32190001;;LANNEPAX;43.792167;0.208167;175;1933-01-01;ETENDU\\n32245001;;MAUMUSSON;43.604667;-0.096667;164;1961-01-01;ETENDU\\n32248001;;MAUROUX;43.906833;0.824833;201;1989-02-01;RADOME\\n32256001;;MIRANDE;43.530167;0.400833;184;1872-01-01;ETENDU\\n32315001;;PEYRUSSE-GRANDE;43.616667;0.222000;254;1984-09-01;RADOME\\n32355001;;SADEILLAN;43.399333;0.348667;263;2003-01-01;ETENDU\\n32414001;;SARRAGACHIES;43.673167;-0.050833;110;1964-10-01;ETENDU\\n33042001;;BELIN-BELIET;44.493500;-0.791000;36;1881-01-01;ETENDU\\n33042005;;BELIN BELIET;44.448000;-0.882000;45;2006-03-01;RADOME\\n33063001;;BORDEAUX-PAULIN;44.849667;-0.588667;10;1861-08-01;ETENDU\\n33080001;;CADAUJAC-INRAE;44.752833;-0.559333;20;1984-09-01;ETENDU\\n33095001;;CAPTIEUX;44.295167;-0.260500;96;1881-01-01;ETENDU\\n33116001;;CAZATS;44.463167;-0.186167;114;2002-05-01;RADOME\\n33122003;;PIERROTON-INRAE;44.738333;-0.776667;60;1996-03-01;ETENDU\\n33195001;;GRIGNOLS;44.385667;-0.040333;146;1970-01-01;ETENDU\\n33214002;;LACANAU;45.001333;-1.138667;16;1881-01-01;ETENDU\\n33236002;07500;CAP-FERRET;44.630667;-1.252000;8;1898-05-01;ETENDU\\n33281001;07510;BORDEAUX-MERIGNAC;44.830667;-0.691333;47;1920-11-01;RADOME\\n33314005;;PAUILLAC;45.214333;-0.782833;26;1962-01-01;RADOME\\n33394002;;ST EMILION;44.917667;-0.188000;38;1995-01-01;RADOME\\n33415001;;ST GERVAIS;45.027167;-0.472667;42;1995-08-01;RADOME\\n33482001;;ST SULPICE DE POMMIERS;44.683833;-0.120000;82;2002-05-01;RADOME\\n33484001;;ST-SYMPHORIEN;44.426833;-0.489167;54;1948-07-01;ETENDU\\n33494001;;SALAUNES;44.935833;-0.828667;50;1962-01-01;ETENDU\\n33504001;;SAUTERNES;44.544333;-0.326833;65;1888-01-01;ETENDU\\n33529001;07502;CAZAUX;44.534667;-1.132000;23;1921-01-01;RADOME\\n33540001;;VENDAYS-MONTALIVE;45.378667;-1.119167;6;1968-01-01;RADOME\\n33550001;;VILLENAVE D'ORNON-INRAE;44.790000;-0.576667;25;1924-01-01;ETENDU\\n34028003;;BEDARIEUX;43.639833;3.146000;373;1984-04-01;ETENDU\\n34032002;;BEZIERS-COURTADE;43.334333;3.155000;25;1969-08-01;ETENDU\\n34046005;;CAMBON-ET-SALVERGUES;43.622333;2.865333;955;1956-09-01;ETENDU\\n34055003;;CASTANET LE HAUT_SAPC;43.667500;2.976167;424;2008-02-28;ETENDU\\n34064003;;LE CAYLAR_SAPC;43.867167;3.308500;729;2007-05-10;ETENDU\\n34142001;;LODEVE;43.720333;3.302667;182;1928-01-01;ETENDU\\n34144001;;LUNAS;43.695833;3.170667;249;1947-10-01;ETENDU\\n34150001;;MARSEILLAN-INRAE;43.328333;3.565333;1;1952-01-01;ETENDU\\n34151005;;MARSILLARGUES;43.633833;4.168000;4;1987-06-01;ETENDU\\n34154001;07643;MONTPELLIER-AEROPORT;43.576167;3.964667;1;1939-01-01;RADOME\\n34163001;;MONTARNAUD;43.635833;3.688167;148;1977-02-01;ETENDU\\n34174002;;MOULES-ET-BAUCELS;43.948000;3.752000;252;1985-01-01;ETENDU\\n34178001;;MURVIEL LES BEZIERS;43.476000;3.146000;140;1989-05-01;RADOME\\n34205001;;LES PLANS;43.786000;3.246167;846;1981-06-01;RADOME\\n34209002;07638;BEZIERS-VIAS;43.322000;3.352667;15;1982-03-01;RADOME\\n34217001;;PRADES LE LEZ;43.718333;3.866667;69;1979-03-01;RADOME\\n34237001;;ROUJAN-INRAE;43.491667;3.321333;73;2009-12-12;ETENDU\\n34239002;;ST ANDRE DE SANGONIS;43.664167;3.507833;86;2004-09-01;RADOME\\n34269001;;ST JEAN DE MINERVOIS;43.385667;2.857667;258;2006-10-16;ETENDU\\n34274001;;ST MARTIN DE LONDRES;43.779500;3.729333;214;1928-01-01;RADOME\\n34277001;;ST MAURICE-NAVACELLE;43.841333;3.522333;584;1946-04-01;ETENDU\\n34301002;07641;SETE;43.397333;3.692167;75;1947-01-01;RADOME\\n34302001;;SIRAN;43.326500;2.675167;137;1949-07-01;ETENDU\\n34306001;;SOUMONT;43.707000;3.347500;252;1991-12-01;ETENDU\\n34311001;;PEZENAS-TOURBES;43.437667;3.400333;40;1993-04-01;RADOME\\n34317001;;LA VACQUERIE_SAPC;43.792000;3.457833;620;2007-07-02;ETENDU\\n34319001;;VAILHAN;43.546833;3.299333;122;1998-01-01;ETENDU\\n34337001;;VILLENEUVE-LES-MAG-INRAE;43.538167;3.853833;20;1978-01-01;ETENDU\\n35005001;;ARBRISSEL;47.927333;-1.297333;75;2003-06-01;RADOME\\n35026001;;BLERUAIS;48.111500;-2.124167;84;1949-04-01;ETENDU\\n35044001;;BROUALAN;48.485667;-1.640833;99;1976-01-01;ETENDU\\n35057003;;LA-CHAPELLE-BOUEXIC;47.921500;-1.940833;42;2015-10-12;RADOME\\n35110003;;FEINS  SA;48.326833;-1.596833;87;2005-04-29;RADOME\\n35115001;;FOUGERES;48.337167;-1.212667;74;1966-01-01;ETENDU\\n35162003;;LOUVIGNE-DU-DESERT;48.479333;-1.129833;153;1986-03-01;RADOME\\n35178001;;MEZIERES-SUR-C.;48.308833;-1.439000;71;1950-06-01;ETENDU\\n35202001;;LA-NOE-BLANCHE;47.780167;-1.765000;89;1988-02-01;RADOME\\n35224001;;PLERGUER;48.524833;-1.843667;30;1989-07-01;ETENDU\\n35225001;;PLESDER;48.406833;-1.924833;56;1969-04-01;ETENDU\\n35228001;07125;DINARD;48.584833;-2.076333;65;1948-03-29;RADOME\\n35238003;;RENNES GALLET;48.126167;-1.643500;66;1886-04-01;ETENDU\\n35240001;;LE RHEU-INRAE;48.112500;-1.781167;38;1983-04-01;ETENDU\\n35281001;07130;RENNES-ST JACQUES;48.068833;-1.734000;36;1940-07-17;RADOME\\n35294001;;SAINTE MARIE;47.691333;-2.004500;47;2007-01-01;ETENDU\\n35335001;;THOURIE;47.845167;-1.450500;67;1972-02-01;ETENDU\\n35347001;;VAL-D-IZE;48.167667;-1.302167;106;1972-05-01;ETENDU\\n36001001;;AIGURANDE;46.436167;1.822500;427;1910-01-01;ETENDU\\n36018001;;LE BLANC;46.637167;1.073167;117;1859-01-01;ETENDU\\n36034002;;CHABRIS;47.238000;1.706500;91;1983-10-01;ETENDU\\n36035002;;CHAILLAC_SAPC;46.456667;1.302167;126;2016-06-27;ETENDU\\n36063001;07354;CHATEAUROUX  DEOLS;46.869833;1.741000;158;1893-01-01;RADOME\\n36070001;;EGUZON;46.436333;1.581000;272;1909-01-01;ETENDU\\n36088005;;ISSOUDUN_SAPC;46.960000;2.028500;140;2017-10-13;ETENDU\\n36093002;;LEVROUX - TREG.;46.948667;1.663000;169;1993-02-19;ETENDU\\n36103001;;LUCAY-LE-MALE;47.130500;1.441833;119;1946-06-01;ETENDU\\n36113001;;MARTIZAY;46.804667;1.040167;80;1944-01-01;ETENDU\\n36127002;;MONTGIVRAY;46.610167;1.974000;204;1994-02-01;RADOME\\n36139001;;NEUILLAY;46.792000;1.445667;121;1985-11-01;ETENDU\\n36141001;;NEUVY-ST-SEP.;46.598333;1.798500;211;1909-01-01;ETENDU\\n36147001;;ORVILLE;47.136000;1.748333;146;1909-01-01;ETENDU\\n36155001;;PELLEVOISIN;46.974833;1.406167;161;1946-06-01;ETENDU\\n36169001;;PRUNIERS;46.788500;2.045000;164;1942-04-01;ETENDU\\n36173002;;ROSNAY;46.703000;1.249833;109;1992-05-01;RADOME\\n36186001;;ST-CHRISTOPHE;46.679333;2.124500;265;1946-06-01;ETENDU\\n36192001;;ST-GAULTIER;46.636500;1.430000;96;1912-09-01;ETENDU\\n36208001;;STE-SEVERE;46.488333;2.066667;302;1859-01-01;ETENDU\\n36219001;;TENDU_SAPC;46.661500;1.588333;155;1992-03-01;ETENDU\\n37003001;;AMBOISE;47.393833;0.976833;119;1884-05-01;ETENDU\\n37023002;;BEAUMONT_SAPC;47.177167;1.211667;126;1992-01-01;ETENDU\\n37107001;;FERRIERE-LARCON;46.987500;0.875000;116;1992-01-01;RADOME\\n37113001;;LE GRAND-PRES.;46.921167;0.796333;58;1924-01-01;ETENDU\\n37119001;;L'ILE-BOUCHARD;47.114167;0.425167;39;1947-09-01;ETENDU\\n37122001;;JOUE-LES-TOURS OB;47.325333;0.661000;93;1948-01-01;ETENDU\\n37128002;;LIGNIERES-DE-T.;47.293000;0.402833;32;1984-06-01;ETENDU\\n37170001;;NEUVY-LE-ROI;47.608000;0.596000;103;1924-01-01;ETENDU\\n37179001;07240;TOURS;47.444500;0.727333;108;1959-11-01;RADOME\\n37192001;;REIGNAC;47.219333;0.899000;90;1992-01-01;RADOME\\n37213003;;ST-CHRISTOPHE-SUR-NAIS;47.615500;0.464333;107;1992-01-01;RADOME\\n37216003;;SAINT EPAIN;47.157167;0.604833;112;2020-10-05;ETENDU\\n37240001;;SAUNAY;47.590333;0.931333;109;2001-09-01;RADOME\\n37241001;;SAVIGNE/LATHAN;47.441500;0.319667;88;1956-11-01;ETENDU\\n37242002;;SAVIGNY - VERON;47.227000;0.149333;33;1988-01-01;RADOME\\n37253001;;SUBLAINES;47.265000;0.993167;111;1992-01-01;ETENDU\\n38005402;;AIGLETON-NIVOSE;45.231000;6.038167;2240;2004-12-01;ETENDU\\n38021001;;AUTRANS;45.182000;5.552167;1069;1905-01-01;ETENDU\\n38034001;;BEAUREPAIRE;45.350333;5.036500;288;1892-01-01;ETENDU\\n38046002;;COL DE ROSSATIERE;45.455500;5.401000;568;2019-06-20;RADOME\\n38053003;;BOURGOIN;45.608000;5.309333;358;2003-08-01;RADOME\\n38095001;;CHATTE_SAPC;45.140167;5.306000;272;1987-05-01;ETENDU\\n38103002;;CHICHILIANNE_SAPC;44.810333;5.580333;984;2018-07-01;ETENDU\\n38133001;;COUBLEVIE;45.355333;5.596333;300;2004-09-01;RADOME\\n38153001;;ENGINS;45.176167;5.617167;877;1905-05-01;ETENDU\\n38162001;;FAVERGES;45.594667;5.528833;367;1905-01-01;ETENDU\\n38185012;;GRENOBLE-CEA-RADOME;45.211500;5.682833;213;2019-03-11;RADOME\\n38186001;;GRESSE;44.899833;5.565667;1220;1923-01-01;ETENDU\\n38187400;;LE GUA-NIVOSE;45.015000;5.588667;1646;1992-08-13;ETENDU\\n38191002;;ALPE-D'HUEZ;45.087833;6.085667;1860;1988-11-01;RADOME\\n38207001;;LAVALDENS;44.990667;5.883333;1070;1920-01-01;ETENDU\\n38269004;;LA MURE- RADOME;44.935000;5.786167;885;2003-11-01;RADOME\\n38275002;;SERRE-NERPOL_SAPC;45.284500;5.353000;632;2017-05-24;ETENDU\\n38285001;;ORNON;45.051667;5.987333;950;1905-01-01;ETENDU\\n38299001;;PELLAFOL-CHANEAUX;44.784167;5.906167;947;1920-01-01;ETENDU\\n38315002;;PONT-DE-BEAUVOISIN;45.528333;5.671333;284;1985-08-01;ETENDU\\n38336001;;REVENTIN;45.478667;4.810667;295;2004-01-01;RADOME\\n38342001;;ROISSARD;44.882167;5.639500;746;1907-12-01;ETENDU\\n38349001;;SABLONS;45.329667;4.768667;136;1958-11-01;ETENDU\\n38362001;;ST AUPRE_SAPC;45.392667;5.657333;450;2007-05-15;ETENDU\\n38366001;;ST-BAUDILLE;44.796000;5.796167;1040;1953-10-01;ETENDU\\n38375009;;ST CHRISTOPHE EN OISANS_SAPC;44.945833;6.188333;1564;2016-06-16;ETENDU\\n38375402;;LES ECRINS-NIVOSE;44.936833;6.346167;2970;1983-02-21;ETENDU\\n38384001;07486;GRENOBLE-ST GEOIRS;45.364000;5.313333;384;1940-10-01;RADOME\\n38395004;;SAINT-HILAIRE_SAPC;45.315000;5.884833;990;2017-11-14;ETENDU\\n38395403;;ST HILAIRE-NIVOSE;45.313833;5.863500;1756;1982-01-26;ETENDU\\n38442008;;ST-PIERRE-LES EGAUX;45.317333;5.803833;950;2005-06-23;RADOME\\n38446003;;ST-PIERRE-D'ENTREMONT;45.411000;5.843333;870;2002-03-01;ETENDU\\n38472403;;COL DE PORTE-NIVOSE;45.295000;5.765333;1325;1991-01-24;ETENDU\\n38501001;;TENCIN;45.300167;5.951333;233;1913-01-01;ETENDU\\n38504001;;THEYS;45.302333;5.995667;615;1905-01-01;ETENDU\\n38504002;;PIPAY_SAPC;45.265333;6.016000;1578;2009-07-30;ETENDU\\n38522004;;VALJOUFFREY_SAPC;44.869833;6.090167;1285;2022-08-23;ETENDU\\n38524001;;VARCES;45.101167;5.697667;253;1957-03-01;ETENDU\\n38527001;;VAUJANY;45.149167;6.047167;772;1907-01-01;ETENDU\\n38538002;07487;GRENOBLE - LVD;45.217167;5.848500;220;1999-06-01;ETENDU\\n38548001;;VILLARD-DE-LANS;45.078500;5.561000;1027;1959-01-01;RADOME\\n38567002;;CHAMROUSSE;45.128000;5.878333;1730;2002-09-01;RADOME\\n39013004;;ARBOIS_SAPC;46.896000;5.740167;313;1994-10-01;ETENDU\\n39097003;;CHAMPAGNOLE;46.756833;5.886000;537;1998-10-01;RADOME\\n39130002;;CHAUX-DES-PRES-INRAE;46.509000;5.865000;854;2014-07-28;ETENDU\\n39156001;;COGNA;46.581500;5.764667;577;1998-06-01;ETENDU\\n39159002;;COLONNE;46.867667;5.572167;244;1987-01-01;ETENDU\\n39177001;;CRANCOT;46.690167;5.659000;509;1951-01-01;ETENDU\\n39198001;;DOLE;47.063667;5.496000;212;1949-04-01;ETENDU\\n39225002;;LE FIED_SAPC;46.768167;5.717333;522;2007-06-18;ETENDU\\n39235001;;FRAISANS;47.148667;5.768333;254;1891-01-01;ETENDU\\n39240001;;LE FRASNOIS;46.634333;5.895167;773;1962-07-01;ETENDU\\n39362001;07390;LONS LE SAUNIER;46.692833;5.517667;298;1950-01-01;RADOME\\n39413001;07850;LA PESSE;46.302833;5.843000;1133;1996-01-01;RADOME\\n39485002;;ST JULIEN - SA;46.385167;5.448000;361;1996-06-01;RADOME\\n39526003;07386;TAVAUX SA;47.043833;5.427333;195;1995-09-01;RADOME\\n40031001;;BEGAAR;43.833167;-0.836000;19;1970-02-01;ETENDU\\n40033001;;BELIS;44.063833;-0.453833;85;1970-04-01;ETENDU\\n40046001;07503;BISCARROSSE;44.431667;-1.247500;35;1964-07-01;RADOME\\n40065002;;CAPBRETON;43.627333;-1.453333;11;2002-06-01;RADOME\\n40087001;;CREON D'ARMAGNAC;43.993500;-0.045000;150;2004-09-01;RADOME\\n40088001;07603;DAX;43.689833;-1.070000;31;1958-01-01;RADOME\\n40134001;;LABOUHE DFCI;44.213333;-0.915333;72;1905-05-01;ETENDU\\n40164004;;CAPTIEUX-RETJONS;44.185000;-0.286167;131;2015-10-19;RADOME\\n40192001;07607;MONT-DE-MARSAN;43.909833;-0.500167;59;1944-12-01;RADOME\\n40218002;;PARLEBOSCQ;43.936500;0.044167;155;1965-04-01;ETENDU\\n40227001;;PISSOS;44.314333;-0.787167;59;1951-03-01;ETENDU\\n40243001;;RION-DES-LANDES;43.916333;-0.950833;77;2007-01-01;RADOME\\n40246003;;SABRES;44.153667;-0.859000;81;1979-01-01;RADOME\\n40272002;;ST M HINX STNA-INRAE;43.570833;-1.299333;37;1984-10-01;ETENDU\\n40286001;;SAMADET;43.640667;-0.488833;134;1941-01-01;ETENDU\\n40304001;;SOORTS-HOSSEGOR;43.669833;-1.426333;10;1950-01-01;ETENDU\\n40321002;;URGONS;43.639667;-0.435167;146;1984-08-01;RADOME\\n41018001;;BLOIS - VILLE;47.572000;1.337500;69;1937-01-01;ETENDU\\n41050002;;CHEVERNY;47.505167;1.436333;99;1960-01-01;ETENDU\\n41053001;;CHOUE;47.969167;0.912833;163;2006-03-15;RADOME\\n41075003;;DROUE - MORACHE;48.016167;1.031667;206;1992-11-01;ETENDU\\n41080001;;FAVEROLLES;47.331833;1.165500;77;1993-02-01;ETENDU\\n41097001;07247;ROMORANTIN;47.319667;1.687500;83;1921-08-01;RADOME\\n41106001;;LAMOTTE-BEUVRON;47.610500;2.012000;117;1872-05-01;ETENDU\\n41152001;;MONTRIEUX;47.535833;1.730500;96;2006-03-07;RADOME\\n41173003;;OUZOUER;47.904000;1.521667;128;2016-08-16;RADOME\\n41269001;;VENDOME;47.826667;1.054333;115;1856-07-01;ETENDU\\n41281001;07245;BLOIS;47.678500;1.212333;119;1990-03-01;RADOME\\n41285001;;VILLENY;47.610667;1.743667;127;1927-01-01;ETENDU\\n42005001;07475;ST ETIENNE-BOUTHEON;45.545667;4.293833;395;1946-04-01;RADOME\\n42011001;;BALBIGNY;45.820167;4.192000;336;1943-05-01;ETENDU\\n42019005;;BOEN-SUR-LIGNON_SAPC;45.756167;4.001500;513;2017-11-01;ETENDU\\n42023004;;BOURG-ARGENTAL;45.298667;4.573500;514;1994-12-01;ETENDU\\n42034001;;COL DE CERVIERES;45.850667;3.766167;804;2020-02-26;ETENDU\\n42039003;;CHALMAZEL_RA;45.699000;3.844000;990;2001-08-01;RADOME\\n42040001;;COL DE LA LOGE_SAPC;45.743833;3.780333;1261;1997-02-01;ETENDU\\n42059001;;CHAZELLES-LYON;45.642333;4.396333;632;1956-09-01;ETENDU\\n42094003;;FEURS;45.738500;4.233833;347;1992-12-01;ETENDU\\n42098001;;FOURNEAUX;45.941167;4.269167;510;1875-01-01;ETENDU\\n42101001;;PILAT GRAIX;45.361167;4.559833;1164;2005-07-18;RADOME\\n42102002;;GRAMMOND_SAPC;45.564833;4.442833;803;1993-07-01;ETENDU\\n42145003;;MONTAGNY;46.015667;4.222333;460;1942-02-01;ETENDU\\n42152001;;NANDAX;46.097000;4.191333;374;1954-06-01;ETENDU\\n42159001;;NOIRETABLE;45.812667;3.760500;714;1858-01-01;ETENDU\\n42165003;;PANISSIERES;45.804333;4.333833;614;1858-06-01;ETENDU\\n42204002;;ST-BONNET-LE-CHATEAU_SAPC;45.436167;4.072000;822;1993-03-01;ETENDU\\n42207005;;ST-CHAMOND-P;45.491000;4.534167;394;2004-03-01;RADOME\\n42218011;;SAINT-ETIENNE;45.435333;4.368167;640;2002-06-01;RADOME\\n42224003;;COL REPUBLIQUE;45.352667;4.470833;1071;1992-12-01;ETENDU\\n42227001;;ST GEORGES EN C;45.701667;3.955500;496;1947-08-01;ETENDU\\n42239001;;ST-MAURICE-SUR-LOIRE;45.975000;4.006000;395;1928-01-01;ETENDU\\n42248002;;ST-JUST-EN-CHEV;45.908500;3.844167;612;1993-12-01;ETENDU\\n42253001;07477;ROANNE-RIORGES_AERO;46.055000;4.004500;337;2005-09-01;RADOME\\n42287001;;ST SAUVEUR EN R;45.268500;4.503667;783;1947-01-01;ETENDU\\n42299001;;SAVIGNEUX;45.624833;4.078667;370;1946-01-01;ETENDU\\n42306001;;TARENTAISE;45.369000;4.498500;1090;1863-01-01;ETENDU\\n42322001;;LA VALLA EN GIE;45.429167;4.511000;609;1951-02-01;ETENDU\\n43003001;;ALLEGRE;45.203000;3.718167;1035;1921-07-01;ETENDU\\n43014001;;AUTRAC;45.328667;3.131833;807;1984-01-01;ETENDU\\n43020002;;BAS-EN-BASSET;45.319833;4.128833;447;1979-06-01;ETENDU\\n43037001;;LE BOUCHET-ST-NICOLAS;44.885000;3.790500;1218;1949-06-01;ETENDU\\n43046001;;LE PUY-CHADRAC;45.054667;3.894500;714;1928-10-01;RADOME\\n43062001;07471;LE PUY-LOUDES;45.074500;3.764000;833;1983-11-01;RADOME\\n43067001;;CHAVANIAC-LAFAYETTE;45.159500;3.582000;715;1949-03-12;ETENDU\\n43071001;;CHOMELIX;45.257500;3.826833;886;1920-04-01;ETENDU\\n43091005;;LES ESTABLES_SAPC;44.900500;4.161000;1350;2009-09-29;ETENDU\\n43093001;;FELINES_SAPC;45.265833;3.742833;1014;1986-10-01;ETENDU\\n43095001;;FIX-ST-GENEYS;45.145833;3.665000;1102;1933-05-01;RADOME\\n43096001;;FONTANNES;45.300333;3.419667;435;1991-01-01;RADOME\\n43104001;;GREZES;44.920500;3.490500;1106;1931-06-14;ETENDU\\n43111002;;LANDOS-CHARBON;44.858000;3.843667;1148;1990-09-01;RADOME\\n43118001;;LAVOUTE-CHILHAC;45.155833;3.410000;491;1935-07-01;ETENDU\\n43130002;;MAZET-VOLAMONT;45.025000;4.239833;1130;1991-02-01;RADOME\\n43137003;;MONISTROL-SUR-LOIRE;45.314000;4.231167;777;1992-01-01;RADOME\\n43150001;;LE PERTUIS_SAPC;45.098833;4.061333;1020;1991-04-01;ETENDU\\n43162001;;RETOURNAC;45.203833;4.030167;535;1925-01-01;ETENDU\\n43212002;;ST-PAL-DE-CHALENCON;45.344833;3.966500;960;2014-12-02;ETENDU\\n43223001;;ST-ROMAIN-LACHALM;45.261500;4.327500;902;1980-02-01;ETENDU\\n43234005;;SAUGUES-SA;44.966167;3.539833;945;1992-10-01;RADOME\\n43241002;;SOLIGNAC-SUR-LO;44.973667;3.882667;832;1987-06-01;ETENDU\\n43244003;;TENCE;45.116500;4.277167;848;1921-06-01;ETENDU\\n43246001;;TIRANGES;45.268333;3.998667;603;1921-01-01;ETENDU\\n43268004;;YSSINGEAUX;45.135167;4.127500;873;1989-04-01;ETENDU\\n44015001;;BLAIN;47.472833;-1.771667;13;1878-06-01;ETENDU\\n44020001;07222;NANTES-BOUGUENAIS;47.150000;-1.608833;26;1945-05-01;RADOME\\n44067001;;GUEMENE-PENFAO;47.625333;-1.889833;33;1921-02-01;ETENDU\\n44072002;;HERBIGNAC;47.426500;-2.336500;22;1985-12-01;ETENDU\\n44103001;07217;ST NAZAIRE-MONTOIR;47.313833;-2.154500;3;1957-07-01;RADOME\\n44109012;;NANTES-VILLE;47.227667;-1.514000;17;1989-01-01;ETENDU\\n44110002;;NORT-SUR-ERDRE;47.425167;-1.513667;13;1878-05-01;RADOME\\n44113001;;NOZAY;47.572833;-1.611500;44;1863-01-01;ETENDU\\n44117002;;LE PALLET_SAPC;47.141500;-1.336833;35;1995-05-01;ETENDU\\n44120002;;PELLERIN(LE);47.210333;-1.828667;4;1989-03-01;ETENDU\\n44129001;;PONTCHATEAU;47.439667;-2.105167;34;1920-01-01;ETENDU\\n44131002;;PORNIC;47.122000;-2.092500;25;2013-02-01;ETENDU\\n44180005;;ST-MARS-LA-JAIL;47.526167;-1.185333;32;2001-01-01;ETENDU\\n44181001;;ST-MEME-LE-TENU;47.005667;-1.782500;4;2003-07-01;RADOME\\n44184001;07216;PTE DE CHEMOULIN;47.233667;-2.298500;14;1945-10-01;ETENDU\\n44188001;;ST-PHILBERT;47.029167;-1.652833;18;1877-11-01;ETENDU\\n45004001;;AMILLY;47.962167;2.728000;91;1944-01-01;RADOME\\n45055001;07249;ORLEANS;47.990667;1.778167;123;1937-10-11;RADOME\\n45069001;;CHAMBON-LA-F.;48.025167;2.260333;143;1896-01-01;ETENDU\\n45145001;;FERRIERES;48.113167;2.857833;107;1974-05-01;ETENDU\\n45187001;;LORRIS;47.881167;2.505167;125;1971-10-01;ETENDU\\n45193001;;MARCILLY-EN-V.;47.769167;2.021833;127;1948-10-01;ETENDU\\n45199003;;MELLEROY_SAPC;47.897333;2.952000;165;2017-06-15;ETENDU\\n45245001;;OUZOUER_SUR_TREZEE;47.672000;2.809833;150;1974-09-01;ETENDU\\n45253001;;PITHIVIERS-LE-V;48.166333;2.228333;120;1890-10-01;ETENDU\\n45270002;;ST-BENOIT/LOIRE;47.808000;2.305667;112;1974-12-01;ETENDU\\n45340002;;VILLEMURLIN;47.693500;2.366167;144;2005-04-20;RADOME\\n46005001;;ANGLARS;44.493333;1.208167;104;1989-04-01;ETENDU\\n46031001;;BLARS;44.572000;1.722000;281;1964-03-01;ETENDU\\n46038002;;BRETENOUX;44.912500;1.838333;136;1980-09-01;ETENDU\\n46071001;;COMIAC;44.965333;2.000000;562;2004-09-01;RADOME\\n46100001;;FAYCELLES;44.575333;2.004667;342;2004-09-01;RADOME\\n46127001;07535;GOURDON;44.745000;1.396667;260;1961-02-01;RADOME\\n46128002;;GRAMAT - PARC;44.760167;1.725500;312;1985-05-01;ETENDU\\n46143001;;LACAPELLE;44.730500;1.925167;396;1881-07-01;ETENDU\\n46160001;;LATRONQUIERE;44.800000;2.067833;658;1924-01-01;ETENDU\\n46173006;;LIMOGNE;44.398167;1.775000;303;2008-02-01;ETENDU\\n46176001;;LIVERNON;44.648500;1.847000;308;1881-07-01;ETENDU\\n46181001;;LUNEGARDE;44.678500;1.689500;383;2001-08-01;RADOME\\n46197002;;LE MONTAT;44.373667;1.435000;260;1985-06-01;RADOME\\n46201001;;MONTCUQ - ROUIL;44.312500;1.213833;193;1957-08-01;ETENDU\\n46287001;;SAINT-PAUL-FLAUGNAC;44.294000;1.454667;266;1986-06-01;ETENDU\\n46330002;;VAYRAC - BROUSS;44.969667;1.701333;152;1999-01-01;ETENDU\\n46332001;;VIAZAC - LABOUD;44.662500;2.073833;394;1947-05-01;ETENDU\\n47004001;;AIGUILLON;44.283167;0.334667;32;1962-02-01;ETENDU\\n47038002;;BOURRAN-INRAE;44.331833;0.413167;55;1991-01-01;ETENDU\\n47086001;;DURAS;44.685667;0.206500;112;1962-10-01;ETENDU\\n47091001;07524;AGEN-LA GARENNE;44.172167;0.594667;58;1939-01-01;RADOME\\n47093002;;FARGUES-SUR-OURBISE;44.235833;0.186333;124;2013-11-04;RADOME\\n47123002;;LACAPELLE-BIRON;44.585667;0.900333;235;2004-10-01;RADOME\\n47138001;;LAROQUE-TIMBAUT;44.265667;0.775167;186;1897-06-01;ETENDU\\n47163001;;MAUVEZIN-SUR-GUPIE;44.561500;0.160333;95;2013-11-14;RADOME\\n47175001;;MONFLANQUIN;44.532000;0.734167;118;1961-01-01;ETENDU\\n47213001;;PRAYSSAS;44.310833;0.570667;196;1932-01-01;ETENDU\\n47221001;;REAUP;44.091667;0.193333;158;1950-01-01;ETENDU\\n47254001;;SAINT-MARTIN-CURTO;44.345333;0.042833;144;1960-06-01;ETENDU\\n47323004;;VILLENEUVE-SUR-LOT;44.397500;0.764000;59;2015-11-13;RADOME\\n47327001;;XAINTRAILLES;44.205000;0.261167;190;1952-01-01;ETENDU\\n48004001;;ALTIER;44.494000;3.852000;900;1998-09-01;ETENDU\\n48009001;;AUMONT AUBRAC;44.727167;3.279833;1018;1947-01-01;ETENDU\\n48020003;;BASSURELS;44.196500;3.630667;1042;1985-03-01;RADOME\\n48027002;;LE BLEYMARD BOURG;44.504667;3.737667;1199;1957-06-01;ETENDU\\n48027003;;LE BLEYMARD_SAPC;44.451500;3.748167;1418;1995-09-01;ETENDU\\n48032003;;LE BUISSON;44.633333;3.238167;1088;2005-09-13;RADOME\\n48036001;;CASSAGNAS;44.270333;3.763333;802;1884-01-01;ETENDU\\n48043001;;CHATEAUNEUF-DE-RANDON;44.638167;3.679833;1247;1868-09-01;ETENDU\\n48051002;;LE COLLET-SAUVEPLANE;44.256000;3.925667;485;1990-01-01;ETENDU\\n48060001;;FAU DE PEYRE;44.763167;3.211833;1163;1986-07-01;ETENDU\\n48061002;;FLORAC;44.309000;3.596333;618;1858-01-01;ETENDU\\n48069001;;GATUZIERES_SAPC;44.195333;3.499000;965;2007-03-01;ETENDU\\n48070004;;GRANDRIEU;44.780667;3.633833;1163;1987-05-01;ETENDU\\n48094001;;LE MASSEGROS;44.295667;3.165667;890;1870-02-01;ETENDU\\n48095004;;MENDE-VILLE;44.516833;3.489833;710;1984-10-01;ETENDU\\n48095005;07554;MENDE;44.533667;3.454500;932;1984-12-01;RADOME\\n48103001;;MONTRODAT;44.545833;3.312500;746;1982-01-01;ETENDU\\n48108001;;LA PANOUSE_SAPC;44.728667;3.589333;1260;2007-08-23;ETENDU\\n48110001;;PAULHAC EN MARGERIDE_SAPC;44.947667;3.380000;1170;1949-03-01;ETENDU\\n48116001;;LE PONT-DE-MONTVERT;44.365667;3.738333;875;1870-01-01;ETENDU\\n48130002;;ROUSSES_SAPC;44.206833;3.584500;812;2006-10-25;ETENDU\\n48146001;;STE ENIMIE-SAUVETERRE;44.408667;3.438167;1018;1988-01-01;ETENDU\\n48148004;;ST-ETIENNE-VALLEE-FRANCAISE;44.165833;3.854167;518;2013-06-06;ETENDU\\n48156002;;ST GERMAIN DU TEIL;44.478000;3.160667;775;1949-03-01;ETENDU\\n48176002;;ST PIERRE-DES-TRIPIERS;44.246500;3.303500;929;1987-11-01;RADOME\\n48186001;;LA SALLE PRUNET;44.315667;3.650667;903;2007-07-18;ETENDU\\n48187003;;LES SALCES-FROMENTAL;44.532667;3.155167;1075;1989-01-01;ETENDU\\n48198001;;VILLEFORT;44.441667;3.928333;620;1863-09-01;ETENDU\\n49007011;;ANGERS VILLE;47.453500;-0.560500;35;2013-04-19;ETENDU\\n49008001;;ANGRIE;47.561667;-0.970333;65;2006-11-10;RADOME\\n49020001;07230;BEAUCOUZE;47.479000;-0.614333;50;1921-01-01;RADOME\\n49022001;;BEAULIEU-S-LAY;47.308000;-0.598333;78;1950-01-01;ETENDU\\n49027001;;BEGROLLES;47.152167;-0.937667;100;1946-01-01;ETENDU\\n49099003;07233;CHOLET;47.079500;-0.880500;134;1964-07-01;RADOME\\n49138001;;FONTAINE-GUERIN;47.493167;-0.167833;41;2004-01-01;RADOME\\n49176001;;LE LION D'ANG.;47.613500;-0.735167;52;1923-06-01;ETENDU\\n49188001;07228;MARCE;47.561833;-0.317000;53;1999-03-01;RADOME\\n49191001;;MARTIGNE-BRIAND;47.252500;-0.435833;73;2003-09-01;RADOME\\n49215002;;MONT-BELLAY-INRAE;47.130000;-0.141500;58;1986-01-01;ETENDU\\n49248003;;POUANCE_SAPC;47.740000;-1.188333;96;2008-12-01;ETENDU\\n49276001;;ST FLORENT VIEI;47.355333;-1.011833;21;1937-09-01;ETENDU\\n49281001;;ST GEORGES GARD;47.150667;-0.739500;203;1946-01-01;ETENDU\\n49307001;;ST MATHURIN S L;47.425667;-0.319167;20;1934-12-01;ETENDU\\n49328001;;SAUMUR;47.252167;-0.074333;69;1910-01-01;ETENDU\\n49331003;;SEGRE_SAPC;47.679167;-0.873333;25;2010-07-20;ETENDU\\n49368001;;VERNANTES;47.406833;0.018833;41;1965-12-01;ETENDU\\n49373001;;VIHIERS;47.148000;-0.517167;124;1927-01-01;ETENDU\\n50020001;07020;PTE DE LA HAGUE;49.725167;-1.939833;6;1879-06-01;RADOME\\n50031001;07034;BARNEVILLE CART;49.373333;-1.805000;62;1986-09-01;ETENDU\\n50082001;;BRICQUEBEC;49.462000;-1.650333;38;1969-02-01;ETENDU\\n50111001;;CERISY LA SALLE;49.036333;-1.298167;134;1931-01-01;RADOME\\n50129001;07022;CHERBOURG-HOMET;49.660000;-1.633333;19;1966-10-01;ETENDU\\n50139001;;CONDE SUR VIRE_SAPC;49.050833;-1.040500;28;1968-02-01;ETENDU\\n50144001;;COULOUVRAY-BOISBENATRE;48.785333;-1.103667;268;1951-11-01;ETENDU\\n50147001;;COUTANCES;49.044000;-1.457833;80;1974-07-01;ETENDU\\n50174001;;EQUILLY;48.834500;-1.388667;101;1971-11-01;ETENDU\\n50196001;07019;GATTEVILLE LE P;49.697000;-1.265333;4;1944-12-01;ETENDU\\n50209001;07024;GONNEVILLE;49.652667;-1.463500;134;1956-01-01;RADOME\\n50215002;;GOUVILLE;49.107500;-1.606833;7;2003-11-01;RADOME\\n50218001;07133;GRANVILLE;48.834500;-1.613667;37;1921-01-01;ETENDU\\n50277001;;LONGUEVILLE;48.862000;-1.573000;5;2008-07-01;ETENDU\\n50298001;;MEAUTIS;49.259500;-1.299167;15;1977-08-01;ETENDU\\n50410003;;PONTORSON;48.585667;-1.505167;33;1997-03-01;RADOME\\n50456001;;ST-CLEMENT;48.673333;-0.886667;269;1970-06-01;ETENDU\\n50484002;;ST-HILAIRE-DU-H;48.563667;-1.096667;95;1991-09-01;ETENDU\\n50509002;;STE MARIE DU MO;49.404500;-1.168333;5;1997-03-01;RADOME\\n50514001;;CHAULIEU_SAPC;48.758833;-0.842500;284;2016-10-01;ETENDU\\n50531001;;ST OVIN;48.682500;-1.248667;155;1970-06-01;ETENDU\\n50562001;;ST VAAST LA HOUGUE;49.572667;-1.274667;17;1951-01-01;ETENDU\\n51015001;;ARGERS;49.064333;4.849833;152;2003-05-01;RADOME\\n51153001;;CHOUILLY;49.017833;3.981667;172;2004-04-01;RADOME\\n51210001;;DIZY;49.069333;3.966167;92;1988-06-01;ETENDU\\n51237002;;ESTERNAY;48.742000;3.579667;185;1994-05-01;RADOME\\n51242001;;FAGNIERES-INRAE;48.939833;4.308500;105;1970-01-01;ETENDU\\n51262001;;FRIGNICOURT;48.701167;4.618000;113;1974-03-01;RADOME\\n51298001;;IGNY-COMBLIZY;49.016667;3.716833;225;1971-07-01;ETENDU\\n51388003;;MOURMELON-GRAND;49.107500;4.358500;115;2004-04-01;RADOME\\n51449002;07072;REIMS-PRUNAY;49.209833;4.155333;95;2012-04-23;RADOME\\n51545001;;SOMMESOUS;48.734167;4.207500;167;1864-01-01;ETENDU\\n51588001;;VALMY;49.085000;4.775833;161;1953-01-01;ETENDU\\n51590002;;VANAULT;48.849667;4.771833;140;1968-01-01;ETENDU\\n51595002;07166;VATRY-AERO;48.777167;4.164667;179;1996-06-01;RADOME\\n52023002;;AUBERIVE_SAPC;47.783000;5.053500;349;1991-10-01;ETENDU\\n52055001;;BLECOURT;48.384167;5.067000;348;2004-09-01;RADOME\\n52061002;;BOURDONS_SAPC;48.162333;5.349667;304;1991-12-01;ETENDU\\n52074002;;BREUVANNES_SAPC;48.094333;5.602167;323;2016-11-01;ETENDU\\n52084002;;BUSSON_SAPC;48.328833;5.360500;387;1992-03-01;ETENDU\\n52114001;;CHATEAUVILLAIN;48.047000;4.908000;227;1900-01-01;ETENDU\\n52123003;;CHEVILLON_SAPC;48.522833;5.113833;170;1992-03-01;ETENDU\\n52131002;;CIRFONTAINES_SAPC;48.456167;5.394667;379;1947-03-01;ETENDU\\n52145001;;COUBLANC;47.692000;5.460167;258;1984-01-01;ETENDU\\n52197003;;FAYL-BILLOT_SAPC;47.784333;5.615333;347;1991-09-01;ETENDU\\n52248002;;IS-EN-BASSIGNY;48.022167;5.455333;403;1991-12-01;RADOME\\n52269001;07283;LANGRES;47.843667;5.337500;466;1937-01-01;RADOME\\n52294001;;LOUVEMONT - MAN;48.560333;4.909833;146;1956-08-01;ETENDU\\n52332001;;VAL-DE-MEUSE;48.021500;5.586833;380;1957-01-01;ETENDU\\n52348003;;NEUILLY-L'EVEQUE_SAPC;47.918000;5.435833;353;2008-08-29;ETENDU\\n52443001;;SAILLY;48.433833;5.272833;270;1942-05-01;ETENDU\\n52447001;;ST-CIERGUES;47.882333;5.261500;359;1889-01-01;ETENDU\\n52448001;07169;ST-DIZIER;48.631333;4.903667;139;1921-01-01;RADOME\\n52450002;;SAINT-LOUP-SUR-AUJON_SAPC;47.895000;5.092167;310;2007-12-03;ETENDU\\n52469001;;CHAUMONT-SEMOUTIERS;48.092167;5.046000;294;2005-11-17;RADOME\\n52529001;;VILLEGUSIEN;47.738500;5.313833;296;1877-01-01;ETENDU\\n53077001;;COSSE-LE-VIVIEN;47.964333;-0.927000;95;1881-01-01;ETENDU\\n53078001;;COUDRAY;47.788167;-0.645333;55;1972-01-01;ETENDU\\n53083001;;COURCITE_SAPC;48.318667;-0.222333;172;2007-01-12;ETENDU\\n53096004;;ERNEE;48.295667;-0.962500;168;1996-02-01;RADOME\\n53097001;;EVRON;48.168000;-0.388000;107;1877-01-01;ETENDU\\n53110002;;GREZ-EN-BOUERE;47.891000;-0.542333;93;2002-05-01;RADOME\\n53116003;;LE HORPS;48.405667;-0.440833;268;2003-07-01;RADOME\\n53130008;07134;LAVAL-ETRONNIER;48.030667;-0.746500;100;2010-09-01;RADOME\\n53147001;;MAYENNE;48.311167;-0.640167;138;1881-01-01;ETENDU\\n53159002;;MONTOURTIER_SAPC;48.209833;-0.538667;107;2007-09-17;ETENDU\\n53185001;;PRE-EN-PAIL_SAPC;48.452000;-0.183167;277;1881-01-01;ETENDU\\n54040001;;BADONVILLER;48.498000;6.896167;336;1929-01-01;ETENDU\\n54113002;;CHAMPENOUX-ARBO-INRAE;48.750667;6.340167;255;1992-10-01;ETENDU\\n54171001;;DONCOURT-LES-CONFLANS;49.153500;5.929333;235;2005-03-03;RADOME\\n54181001;;ERROUVILLE_SAPC;49.420000;5.909833;373;2014-04-25;ETENDU\\n54182001;;ESSEY-ET-MAIZE.;48.919333;5.809167;218;1949-01-01;ETENDU\\n54322001;;LONGUYON;49.431667;5.612833;257;1951-01-01;ETENDU\\n54405001;07181;NANCY-OCHEY;48.581000;5.959833;336;1963-01-01;RADOME\\n54407001;;OGNEVILLE;48.475000;6.067667;300;2005-04-01;ETENDU\\n54415001;;PAGNY-SUR-MOSELLE;48.983833;6.031167;179;1970-01-01;ETENDU\\n54481001;;ST MAURICE;48.514833;6.845667;305;2002-06-01;RADOME\\n54526001;07180;NANCY-ESSEY;48.687833;6.221500;212;1927-09-12;RADOME\\n54582001;;VILLETTE;49.482167;5.578167;345;1997-03-01;RADOME\\n55014001;;AUBREVILLE_SAPC;49.133833;5.093500;202;2008-04-04;ETENDU\\n55041001;;BEHONNE_SAPC;48.795667;5.188500;301;2007-09-21;ETENDU\\n55060002;;BONZEE_SAPC;49.092833;5.601167;235;2009-04-01;ETENDU\\n55067001;;BOVIOLLES;48.648667;5.415000;272;1972-09-01;ETENDU\\n55073001;;BRAS-SUR-MEUSE;49.208333;5.379167;194;1950-01-01;ETENDU\\n55108004;;CHAUMONT_SAPC;48.931333;5.264667;294;2007-05-28;ETENDU\\n55123002;;CONDE_SAPC;48.867167;5.182167;265;2009-03-30;ETENDU\\n55129001;;COUROUVRE;48.936833;5.358333;324;2018-05-15;RADOME\\n55179001;07171;ERNEVILLE AUX BOIS_SAPC;48.749500;5.403833;313;1932-01-01;ETENDU\\n55248001;;HOUDELAINCOURT;48.563000;5.505500;390;2011-04-29;RADOME\\n55328001;;MAXEY-SUR-VAISE;48.538167;5.668833;256;1874-01-01;ETENDU\\n55364001;;MOUZAY;49.460167;5.209167;166;2007-06-06;RADOME\\n55386002;;NONSARD;48.934167;5.763833;230;2002-08-01;RADOME\\n55443001;;ROUVRES-EN-WOEVRE;49.224667;5.687500;226;2011-01-20;RADOME\\n55484001;;SEPTSARGES;49.276333;5.155000;293;1990-09-01;RADOME\\n55517002;;TRIAUCOURT_SAPC;48.983167;5.065167;185;2008-04-04;ETENDU\\n55531001;;VASSINCOURT;48.808667;5.033167;187;2005-11-16;RADOME\\n56004001;;ARZAL;47.512667;-2.382667;26;1988-05-01;ETENDU\\n56007001;;AURAY;47.659167;-2.971000;26;1863-01-01;ETENDU\\n56009001;07207;BELLE ILE-LE TALUT;47.294333;-3.218333;34;1930-04-01;ETENDU\\n56009003;;BELLE-ILE_AERO;47.325667;-3.196833;52;2023-10-02;RADOME\\n56017003;;BIGNAN;47.884333;-2.728833;112;1997-04-01;RADOME\\n56031001;;CAMORS;47.823833;-2.991667;112;1963-09-01;ETENDU\\n56069001;07203;ILE DE GROIX;47.652333;-3.502333;41;1864-01-01;RADOME\\n56137001;;VANNES-MEUCON;47.722000;-2.727000;132;2012-11-24;ETENDU\\n56144001;;NAIZIN-INRAE;48.005333;-2.816500;132;1990-01-01;ETENDU\\n56151001;;PONTIVY AERODROME;48.055667;-2.916667;125;2016-11-25;RADOME\\n56159001;;PLEUCADEUC;47.765500;-2.387167;65;1990-07-01;RADOME\\n56163001;;PLOERDUT;48.090667;-3.308833;179;1968-01-01;ETENDU\\n56165003;;PLOERMEL;47.950833;-2.397500;65;1934-01-01;RADOME\\n56166005;;PLOUAY-SA;47.916167;-3.344500;75;2007-10-23;ETENDU\\n56185001;07205;LORIENT-LANN BIHOUE;47.762833;-3.435667;45;1951-10-01;RADOME\\n56186003;;QUIBERON-AERODROME;47.479833;-3.099000;9;2021-06-08;RADOME\\n56240003;;SARZEAU SA;47.510667;-2.796000;35;1995-07-01;ETENDU\\n56243001;07210;VANNES-SENE;47.604500;-2.714167;3;1998-10-01;RADOME\\n57019001;;MALANCOURT;49.218833;6.057000;346;1948-10-01;ETENDU\\n57039001;;METZ-FRESCATY;49.069500;6.125333;192;1929-12-01;RADOME\\n57119001;;BUHL-LORRAINE;48.719500;7.079833;258;2012-01-05;RADOME\\n57168001;07186;PHALSBOURG_SAPC;48.766667;7.305833;377;1945-09-01;ETENDU\\n57251001;07093;AEROPORT METZ-NANCY-LORRAINE;48.979333;6.243167;260;1991-10-01;RADOME\\n57253001;;GONDREXANGE;48.688000;6.928333;266;1855-02-01;ETENDU\\n57322001;;HESTROFF_SAPC;49.255667;6.433333;221;2018-05-15;ETENDU\\n57357002;;KAPPELKINGER_SAPC;48.978833;6.903500;224;2007-05-09;ETENDU\\n57395001;;LESSE_SAPC;48.965833;6.508000;233;2009-03-30;ETENDU\\n57465001;;METZERVISSE;49.306333;6.283167;226;1943-01-01;ETENDU\\n57469002;;MITTERSHEIM;48.859167;6.934833;233;1885-01-01;ETENDU\\n57489001;;MOUTERHOUSE;48.984500;7.452500;265;1970-02-01;ETENDU\\n57509002;;NITTING_SAPC;48.667833;7.031000;266;2007-05-09;ETENDU\\n57524001;;OMMERAY_SAPC;48.724333;6.690833;219;2017-08-02;ETENDU\\n57550001;;PORCELETTE;49.159667;6.645667;250;1951-05-01;ETENDU\\n57557001;;PUTTELANGE-LES-THIONVILLE;49.481667;6.259000;190;1982-05-01;ETENDU\\n57587003;;RODALBE;48.909833;6.693167;258;2005-03-15;RADOME\\n57623003;;TURQUESTEIN-BLANCRUPT_SAPC;48.568167;7.090000;352;2009-03-30;ETENDU\\n57644001;;SEINGBOUSE;49.127667;6.831000;347;2003-08-01;RADOME\\n57689001;;VALMESTROFF;49.356833;6.262000;203;2024-03-06;RADOME\\n57730001;;BOULAY;49.165500;6.443000;214;2000-01-01;ETENDU\\n57732001;;VOLMUNSTER;49.124000;7.381833;358;2001-01-01;RADOME\\n57740001;;WALDWISSE;49.417000;6.505833;291;1948-10-01;ETENDU\\n58019001;;AVREE;46.820667;3.905000;302;2009-09-02;RADOME\\n58023001;;BAZOCHES_SAPC;47.359667;3.790333;351;2018-08-29;ETENDU\\n58061001;;CHASNAY;47.233833;3.168167;213;1979-02-01;ETENDU\\n58062001;07270;CHATEAU CHINON;47.070333;3.934333;598;1934-05-01;RADOME\\n58079004;;CLAMECY;47.441000;3.509000;215;2001-05-01;RADOME\\n58104001;;DORNES;46.720333;3.355500;220;1897-01-01;ETENDU\\n58106005;;DUN_SAPC;47.312833;4.046833;598;2007-11-15;ETENDU\\n58132001;;GUIPY_SAPC;47.212833;3.570333;274;2017-05-30;ETENDU\\n58145002;;LORMES_SAPC;47.267167;3.858333;485;1983-09-01;ETENDU\\n58148001;;LUTHENAY UXELOU;46.846500;3.288833;230;1932-01-01;ETENDU\\n58149001;;LUZY;46.807000;3.962500;300;1860-01-01;ETENDU\\n58160001;07260;NEVERS-MARZY;46.998333;3.112667;175;1946-01-01;RADOME\\n58177001;;MONTIGNY EN MORVAN_SAPC;47.161333;3.855667;285;1958-01-01;ETENDU\\n58199001;;ONLAY;46.981333;3.910833;375;1918-01-01;ETENDU\\n58218006;;PREMERY;47.170333;3.369500;260;1860-01-01;RADOME\\n58264001;;ST PIERRE LE MOUTIER;46.798833;3.113667;218;1872-01-01;ETENDU\\n58304005;;VARZY_SAPC;47.368333;3.386000;226;2015-07-02;ETENDU\\n59178001;;DOUAI;50.389667;3.067167;26;1960-12-01;ETENDU\\n59183001;07010;DUNKERQUE;51.055833;2.339500;11;1891-01-01;RADOME\\n59343001;07015;LILLE-LESQUIN;50.570000;3.097500;47;1944-12-01;RADOME\\n59392001;;MAUBEUGE;50.271667;3.966500;142;1959-01-01;ETENDU\\n59512001;;ROUBAIX;50.707500;3.180333;30;1961-01-01;ETENDU\\n59534001;;ST-HILAIRE-SUR-HELPE;50.145500;3.925167;185;2004-09-01;RADOME\\n59580003;;STEENVOORDE;50.829833;2.568833;42;2004-09-01;RADOME\\n59604001;;TROISVILLES;50.098000;3.463667;125;1952-01-01;ETENDU\\n59606004;;VALENCIENNES;50.328333;3.461000;50;1986-12-01;RADOME\\n59647001;;WATTEN;50.833833;2.213333;7;1960-05-01;ETENDU\\n60040001;;BAILLEUL-LE-SOC;49.423667;2.579667;131;2021-08-01;RADOME\\n60107001;;BREUIL-LE-VERT;49.364500;2.432833;57;1948-08-01;ETENDU\\n60260001;;FRESNOY-LA-RIVIERE;49.284833;2.918333;61;1932-10-01;ETENDU\\n60276001;;GODENVILLERS;49.586167;2.554167;92;1937-10-01;ETENDU\\n60322001;;JAMERICOURT;49.306500;1.879500;113;1990-02-01;RADOME\\n60363001;;LIERVILLE;49.193333;1.895000;105;1959-01-01;ETENDU\\n60382001;;MARGNY-LES-COMPIEGNE;49.431500;2.803667;92;1994-03-01;RADOME\\n60445001;;NAMPCEL;49.495000;3.087667;152;1970-11-01;ETENDU\\n60500004;;PLESSIS-BELLEVILLE;49.106000;2.737167;116;2003-05-01;RADOME\\n60500005;;PLESSIS-BELLEVILLE AERO;49.109000;2.731167;118;2024-02-19;ETENDU\\n60518001;;PUITS-LA-VALLEE;49.581500;2.191167;168;2010-01-01;ETENDU\\n60555002;;ROUVROY-LES-MERLES;49.650333;2.370833;94;1989-04-01;RADOME\\n60566001;;SAINT-ARNOULT;49.623333;1.790833;206;2001-01-01;RADOME\\n60623001;;SONGEONS;49.545167;1.852333;113;1951-05-01;ETENDU\\n60639001;07055;BEAUVAIS-TILLE;49.446500;2.127167;89;1940-07-01;RADOME\\n60652001;;VALDAMPIERRE;49.303167;2.048333;171;1938-10-01;ETENDU\\n61001001;07139;ALENCON;48.445500;0.110167;143;1945-01-01;RADOME\\n61006005;;ARGENTAN;48.718167;0.011500;170;1994-07-01;RADOME\\n61124001;;COULONCHE  -LA-;48.644500;-0.459167;309;2001-03-01;ETENDU\\n61169003;;FLERS;48.750000;-0.589500;195;1997-01-01;RADOME\\n61179001;;FRESNAYE-AU-SAUVAGE_SAPC;48.722333;-0.263667;229;1997-06-01;ETENDU\\n61214002;;L AIGLE;48.758500;0.662333;232;1997-01-01;RADOME\\n61275001;;LE MERLERAULT_SAPC;48.711167;0.299000;236;2007-10-16;ETENDU\\n61328001;;PIN AU HARAS-INRAE;48.725000;0.180833;202;1961-01-01;ETENDU\\n61345003;;REMALARD;48.434000;0.777667;158;2014-01-01;ETENDU\\n61369001;;ST BOMER-LES-FORGES;48.644667;-0.623500;226;1997-01-01;ETENDU\\n61377001;;ST CORNIER-DES-LANDES;48.723500;-0.729500;306;1951-01-01;ETENDU\\n61387001;;ST-FRAIMBAULT;48.504333;-0.702500;158;1994-07-01;ETENDU\\n61404001;;ST-HILAIRE;48.555833;0.529500;242;2003-10-30;RADOME\\n61426001;;BELLEME_SAPC;48.373833;0.550000;168;1997-06-01;ETENDU\\n61464001;;SEES;48.592000;0.172500;195;1951-12-01;ETENDU\\n61479001;;TANQUES;48.674833;-0.079667;171;1951-01-01;ETENDU\\n61483002;;BAGNOLES-DE-L_ORNE;48.541167;-0.414833;151;1990-05-01;ETENDU\\n61485002;;TICHEVILLE_SAPC;48.913000;0.245000;225;1997-04-01;ETENDU\\n61491002;;TOUROUVRE_SAPC;48.585000;0.667167;217;2007-10-02;ETENDU\\n62044001;;ATTIN;50.485333;1.765833;21;1960-09-01;ETENDU\\n62054001;07004;CAP-GRIS-NEZ;50.869667;1.582833;48;1990-01-01;RADOME\\n62076002;;BAINGHEN_SAPC;50.750833;1.906667;117;2008-09-03;ETENDU\\n62160001;07002;BOULOGNE-SEM;50.732500;1.599667;73;1947-01-01;RADOME\\n62298001;;CAMBRAI-EPINOY;50.225500;3.163833;76;1953-07-01;RADOME\\n62333001;;FIEFS;50.502667;2.325500;180;1952-08-01;ETENDU\\n62468001;;HUMIERES_SAPC;50.391500;2.223333;127;2008-09-03;ETENDU\\n62516002;;LILLERS;50.579500;2.496500;19;2002-04-01;RADOME\\n62548002;07009;CALAIS-MARCK;50.959833;1.956167;2;1991-04-01;RADOME\\n62613001;;NIELLES-LES-BLEQUIN_SAPC;50.672500;2.061833;145;2007-01-01;ETENDU\\n62685001;;RADINGHEM;50.549167;2.113667;115;1989-01-01;RADOME\\n62784001;;SAULTY;50.222167;2.522167;174;1987-10-01;RADOME\\n62826001;07003;LE-TOUQUET;50.514500;1.622833;5;1947-01-01;RADOME\\n62873001;;ARRAS;50.255833;2.870000;74;1986-01-01;RADOME\\n63003004;;AMBERT;45.516833;3.742667;555;1993-07-01;RADOME\\n63006002;;ANZAT-LE-LUGUET_SAPC;45.320167;3.016000;1270;2006-12-01;ETENDU\\n63038002;07866;SUPERBESSE;45.501667;2.865833;1287;1975-07-01;RADOME\\n63077001;;CHAMBON-SUR-LAC;45.572667;2.897000;897;1988-01-01;ETENDU\\n63089001;;CHAPPES;45.860667;3.214333;315;1895-01-01;ETENDU\\n63098001;;CHASTREIX;45.533000;2.774500;1385;1990-10-01;RADOME\\n63113001;07460;CLERMONT-FD;45.786833;3.149333;331;1922-03-01;RADOME\\n63125002;;COURPIERE;45.754000;3.572333;455;2003-06-01;RADOME\\n63129001;;CROS;45.472000;2.595000;790;1954-10-01;ETENDU\\n63132002;;CUNLHAT;45.634500;3.557667;700;1908-01-01;ETENDU\\n63157001;;FAYET-LE-CHATEA;45.696667;3.429167;585;1955-01-01;ETENDU\\n63163001;;GELLES;45.753500;2.799333;784;1972-05-01;ETENDU\\n63178001;;ISSOIRE;45.535333;3.262333;372;1997-04-01;RADOME\\n63189005;;LAQUEUILLE-INRAE;45.636000;2.744667;1095;1991-12-01;ETENDU\\n63222001;;MEILHAUD;45.543667;3.164333;448;1944-08-01;ETENDU\\n63223001;;MENAT;46.105167;2.910000;410;1905-01-01;ETENDU\\n63236003;;LE MONT-DORE_SAPC;45.551833;2.812500;1220;1991-02-01;ETENDU\\n63263005;;FONTAINE-DU-BER_SAPC;45.799500;2.991667;971;1930-01-01;ETENDU\\n63281001;;PIONSAT;46.104833;2.687833;524;1874-01-01;ETENDU\\n63282001;;PLAUZAT_SAPC;45.632333;3.133667;503;1995-04-01;ETENDU\\n63295001;;RANDAN;46.012167;3.354167;394;1881-01-01;ETENDU\\n63298001;;LA RENAUDIE;45.737000;3.692500;805;1991-08-01;ETENDU\\n63319002;07459;ST-ANTHEME;45.575833;3.886167;1263;1991-04-01;RADOME\\n63320001;;SAINT AVIT_SAPC;45.872833;2.526500;724;2015-07-02;ETENDU\\n63345002;;ST-GENES-CHPLLE-INRAE;45.723000;3.019333;893;1988-08-01;ETENDU\\n63353003;;ST-GERMAIN-L HE;45.461000;3.532667;1070;1997-06-01;RADOME\\n63354004;;ST-GERVAIS-D AU;46.032667;2.803833;705;1964-01-01;RADOME\\n63382001;;ST-PARDOUX;46.041167;3.008833;602;1918-01-01;ETENDU\\n63393001;;ST-REMY-SUR-DUR;45.890333;3.599167;665;1902-11-01;ETENDU\\n63399002;;ST-SULPICE;45.646500;2.598333;851;2001-10-01;RADOME\\n63417001;;SAYAT_SAPC;45.839667;3.045167;550;1993-03-01;ETENDU\\n63426001;;TAUVES;45.544667;2.595667;851;1914-01-01;ETENDU\\n63451001;;VERNINES;45.669000;2.888333;1045;2005-06-01;RADOME\\n64006001;;ACCOUS;42.945167;-0.610500;495;1948-01-01;ETENDU\\n64010002;;AICIRITS;43.335000;-1.020500;75;1993-08-01;RADOME\\n64024001;07602;BIARRITZ-PAYS-BASQUE;43.469333;-1.534333;71;1953-08-01;RADOME\\n64068001;;ASSON;43.127167;-0.272500;337;1969-01-01;ETENDU\\n64092002;;BANCA;43.128667;-1.372833;252;1934-01-01;ETENDU\\n64109001;;BENEJACQ;43.193167;-0.220333;255;1955-10-01;ETENDU\\n64123001;;BIDACHE;43.481167;-1.142167;45;1965-05-01;ETENDU\\n64155001;;BUSTINCE - ST JEAN;43.167333;-1.214500;179;2003-12-01;RADOME\\n64160001;;CAMBO-LES-BAINS;43.362000;-1.382500;69;1964-01-01;ETENDU\\n64189001;07600;SOCOA;43.394500;-1.686500;21;1920-09-01;RADOME\\n64233001;;GARLIN;43.551167;-0.272167;209;1964-01-01;ETENDU\\n64238001;;GER;43.238333;-0.083833;410;2006-10-02;RADOME\\n64301002;;LAGOR;43.390500;-0.643000;125;1946-01-01;ETENDU\\n64310001;;LANNE-EN-BARETOUS_SAPC;43.114667;-0.752667;350;2018-11-05;ETENDU\\n64316001;;LARRAU;43.020000;-0.960000;616;1955-10-01;ETENDU\\n64316003;;IRATY ORGAMBIDE;43.033500;-1.033833;1427;2001-08-01;RADOME\\n64320003;;LARUNS-HOURAT;42.983667;-0.428667;522;1963-08-01;ETENDU\\n64324002;;LASSEUBE_SAPC;43.204500;-0.485500;247;2014-11-01;ETENDU\\n64330400;;SOUM COUY-NIVOSE;42.961667;-0.721333;2142;1997-01-01;ETENDU\\n64331002;;LEMBEYE;43.451500;-0.109167;310;1924-08-01;ETENDU\\n64342001;;LICQ-ATHEREY;43.047833;-0.885667;288;1955-10-01;ETENDU\\n64379001;;MENDIVE_SAPC;43.126000;-1.135167;292;2009-03-10;ETENDU\\n64416001;;NAVARRENX;43.324333;-0.753500;135;1931-03-01;ETENDU\\n64422007;;OLORON;43.159500;-0.579500;295;2006-06-01;RADOME\\n64430003;;ORTHEZ;43.501333;-0.755000;96;1994-10-01;RADOME\\n64450001;;POMPS;43.490833;-0.543500;130;1931-03-01;ETENDU\\n64453002;;PONTACQ_SAPC;43.203333;-0.113833;343;2018-11-05;ETENDU\\n64480001;;ST-GLADIE;43.380167;-0.933667;73;1974-04-01;ETENDU\\n64537001;;TROIS-VILLES;43.133833;-0.876167;216;1952-11-01;ETENDU\\n64543001;;UREPEL_SAPC;43.068667;-1.415500;410;2007-01-01;ETENDU\\n64549001;07610;PAU-UZEIN;43.385000;-0.416333;183;1921-01-01;RADOME\\n65001001;;ADAST;42.972833;-0.072167;446;2016-11-05;RADOME\\n65018001;;ARBEOST_SAPC;42.988500;-0.278500;1015;2007-11-13;ETENDU\\n65055001;;AYROS ARBOUIX;42.998333;-0.068500;478;1981-08-01;ETENDU\\n65059022;;LA MONGIE_SAPC;42.908667;0.170333;1779;2016-11-22;ETENDU\\n65125001;;CAMPISTROUS;43.127167;0.366500;593;1989-01-01;RADOME\\n65129003;;CASTELNAU MAGNOAC;43.277833;0.517500;298;1986-10-01;RADOME\\n65138005;;CAUTERETS_SAPC;42.852500;-0.147000;1535;2009-09-01;ETENDU\\n65188005;;GAVARNIE_SAPC;42.733833;-0.010833;1410;2007-11-13;ETENDU\\n65258001;;LANNEMEZAN;43.113833;0.413167;638;1970-11-01;ETENDU\\n65278001;;LOMNE_SAPC;43.042833;0.298167;447;2007-01-01;ETENDU\\n65283001;;LOUDERVIELLE;42.796500;0.439667;1587;2004-10-01;RADOME\\n65295003;;LUZ SAINT SAUVEUR;42.858333;-0.001833;910;2006-01-01;ETENDU\\n65304001;;MAUBOURGUET;43.470833;0.043167;176;1882-08-01;ETENDU\\n65344001;07621;TARBES-LOURDES-PYRENEES;43.188000;0.000000;360;1944-08-01;RADOME\\n65388001;;ST LARY SOUL;42.813833;0.317667;826;1944-01-01;ETENDU\\n65413400;;LAC D'ARDIDEN-NIVOSE;42.848167;-0.066000;2445;1995-10-01;ETENDU\\n65447001;;TOURNAY;43.179000;0.243667;263;1963-04-01;ETENDU\\n65460002;;VIC EN BIGORRE;43.375500;0.045833;219;1987-08-01;RADOME\\n66024001;;LE BOULOU;42.528500;2.843500;77;1962-03-01;ETENDU\\n66029003;;CAIXAS;42.587333;2.679833;347;2010-07-01;ETENDU\\n66037001;;CANET-EN-ROUSSILLON;42.686833;2.983667;16;1956-11-01;ETENDU\\n66049001;;CERET;42.496333;2.747500;146;1916-01-01;ETENDU\\n66067402;;PUIGMAL-NIVOSE;42.384667;2.095333;2471;2009-09-11;ETENDU\\n66074002;;EUS;42.630167;2.446333;321;1994-04-01;ETENDU\\n66082004;07737;FORMIGUERES;42.616000;2.111333;1495;2005-07-01;RADOME\\n66088003;;ILLE-SUR-TET;42.659833;2.614167;158;2019-11-01;RADOME\\n66119002;;MOSSET;42.675667;2.320333;750;1924-01-01;ETENDU\\n66136001;07747;PERPIGNAN;42.737167;2.872833;42;1924-11-01;RADOME\\n66137003;;LE PERTHUS;42.473333;2.859500;295;1989-10-01;ETENDU\\n66148001;07749;CAP BEAR;42.516167;3.133667;72;1879-09-01;RADOME\\n66157001;;RAILLEU;42.586667;2.181000;1366;1958-08-01;ETENDU\\n66183001;;ST MARSAL;42.539167;2.622000;690;1947-04-01;ETENDU\\n66187006;;ST PAUL DE FENOUILLET;42.820500;2.485333;300;2005-07-01;RADOME\\n66194002;;SERRALONGUE;42.399833;2.557833;700;1985-08-01;RADOME\\n66202001;;TARGASONNE;42.504000;1.973333;1600;2017-03-06;RADOME\\n66204002;;TAURINYA;42.580333;2.410500;770;2012-06-21;ETENDU\\n66204400;;CANIGOU-NIVOSE;42.536667;2.465000;2160;1996-07-23;ETENDU\\n66206004;;LE TECH LA LLAU_SAPC;42.439833;2.512500;927;2006-10-25;ETENDU\\n66212001;;TORREILLES;42.755000;2.978333;7;1977-06-01;RADOME\\n66230001;;VINCA;42.655500;2.547833;251;1973-01-01;ETENDU\\n66233001;;VIVES;42.536500;2.760833;261;1998-01-01;RADOME\\n67027001;;BELMONT;48.406333;7.267167;1065;2006-05-10;RADOME\\n67029001;;BERG;48.884333;7.151667;350;2003-06-01;RADOME\\n67067001;;BRUMATH;48.724667;7.709667;139;1935-01-01;ETENDU\\n67083002;;DAMBACH_SAPC;48.999333;7.661667;234;2017-11-23;ETENDU\\n67115001;;EBERSHEIM;48.308500;7.494500;164;1934-04-01;ETENDU\\n67122001;;WANGENBOURG_SAPC;48.642500;7.307000;460;1990-05-01;ETENDU\\n67124001;07190;STRASBOURG-ENTZHEIM;48.549500;7.640333;150;1923-04-01;RADOME\\n67126002;;ERCKARTSWILLER_SAPC;48.873000;7.364167;245;2015-10-21;ETENDU\\n67165006;;GRANDFONTAINE_SAPC;48.507667;7.148000;736;2016-08-11;ETENDU\\n67180001;;HAGUENAU;48.836333;7.801167;153;1920-05-01;ETENDU\\n67210002;;LE HOHWALD_SAPC;48.401500;7.330000;591;1990-05-01;ETENDU\\n67443001;;SCHEIBENHARD;48.964167;8.145500;144;2006-08-01;RADOME\\n67462004;;SELESTAT SA;48.272833;7.478333;173;1992-03-01;RADOME\\n67482001;;STRASBOURG - BOTANIQUE;48.581833;7.768833;139;1922-01-01;ETENDU\\n67498001;;UHRWILLER_SAPC;48.883667;7.581500;217;2003-08-10;ETENDU\\n67507003;;VILLE;48.343000;7.306167;264;1989-10-01;ETENDU\\n67516001;;WALTENHEIM-SUR-ZORN;48.743500;7.610000;252;2004-09-01;RADOME\\n68028001;;BERGHEIM-INRAE;48.216333;7.345833;309;1987-03-01;ETENDU\\n68062001;;CARSPACH;47.632000;7.212833;332;2004-08-01;RADOME\\n68066001;;COLMAR-INRAE;48.063333;7.330000;202;1972-04-01;ETENDU\\n68102001;07845;GEISHOUSE_SAPC;47.875333;7.056833;618;1964-01-01;ETENDU\\n68112005;;GUEBWILLER;47.903667;7.225833;273;1991-10-01;ETENDU\\n68165001;;KIFFIS;47.438000;7.355667;576;1897-01-01;ETENDU\\n68171002;;KRUTH_SAPC;47.944167;6.955000;512;1995-05-01;ETENDU\\n68188002;;LINTHAL_SAPC;47.941500;7.114000;488;1967-01-01;ETENDU\\n68190001;;LUCELLE_SAPC;47.438333;7.268167;690;1987-04-01;ETENDU\\n68205001;07197;COLMAR-MEYENHEIM;47.928667;7.407667;207;1956-09-01;RADOME\\n68224006;;MULHOUSE;47.750000;7.288833;245;1953-05-01;RADOME\\n68226005;;MUNSTER_SAPC;48.047167;7.117333;420;2001-11-01;ETENDU\\n68231001;;NEUF-BRISACH;48.026167;7.574667;195;1916-01-01;ETENDU\\n68247001;;ODEREN - VALLEE;47.909667;6.970333;457;1879-01-01;ETENDU\\n68247003;07843;MARKSTEIN CRETE;47.923000;7.031667;1184;1988-10-01;RADOME\\n68249002;;ORBEY LAC BLANC_SAPC;48.135833;7.103833;1080;1972-01-01;ETENDU\\n68287001;;ROUFFACH - CHS;47.954000;7.291667;208;1932-01-01;ETENDU\\n68297001;07299;BALE-MULHOUSE;47.614333;7.510000;263;1946-08-01;RADOME\\n68307001;07840;SEWEN - LAC ALFELD_SAPC;47.815500;6.873833;620;1888-11-01;ETENDU\\n68338001;;TROIS-EPIS_SAPC;48.101500;7.231000;656;1985-07-01;ETENDU\\n69008001;;ANCY_SAPC;45.843333;4.508167;626;2018-10-22;ETENDU\\n69028001;;BRINDAS;45.713333;4.693167;317;2004-11-01;RADOME\\n69029001;07480;LYON-BRON;45.721333;4.949167;202;1888-01-01;RADOME\\n69066003;;COURS LA VILLE_SAPC;46.098667;4.325833;578;2016-04-28;ETENDU\\n69114001;;LIERGUES_SAPC;45.976500;4.650333;290;1992-05-01;ETENDU\\n69123002;;LYON TETE D'OR;45.772833;4.855167;170;1961-01-01;ETENDU\\n69135001;;MONSOLS;46.219167;4.523167;525;1936-01-01;ETENDU\\n69141001;;MORNANT;45.614500;4.673833;343;1888-11-01;ETENDU\\n69174002;;LES SAUVAGES;45.935333;4.384167;831;1997-04-01;RADOME\\n69196001;;ST-DIDIER-BEAUJ;46.164167;4.566333;345;1959-03-01;ETENDU\\n69203001;;ST-GENIS-L'ARGENTIERE;45.700000;4.484500;512;1930-01-01;ETENDU\\n69204002;;ST-GENIS-LAVAL;45.694667;4.782333;290;1881-01-01;ETENDU\\n69206001;;ST-GEORGES-REN;46.058167;4.710833;190;2002-05-01;RADOME\\n69238001;;ST-SYMPHORIEN-C;45.638667;4.471333;610;1948-01-01;ETENDU\\n69239002;;SAINT-VERAND;45.916333;4.521167;390;2006-12-01;ETENDU\\n69258001;;VAUXRENARD;46.217000;4.628500;740;1901-01-01;RADOME\\n69264001;;VILLEFRANCHE;45.987167;4.737667;174;1930-01-01;ETENDU\\n69299001;07481;LYON-ST EXUPERY;45.726500;5.077833;235;1975-04-01;RADOME\\n70006001;;AILLEVILLERS;47.915000;6.338333;275;1950-02-01;ETENDU\\n70061002;;BELFAHY_SAPC;47.784167;6.730833;847;1992-04-01;ETENDU\\n70104001;;BUCEY-LES-GY;47.422667;5.842500;215;1946-01-01;ETENDU\\n70132001;;CHARGEY-LES-GRAY;47.507000;5.595500;244;1997-03-01;RADOME\\n70165001;;COMBEAUFONTAINE;47.708667;5.891500;252;1950-01-01;ETENDU\\n70168001;;CONFLANS-SUR-LA;47.817000;6.208667;230;1950-02-01;ETENDU\\n70229001;;FAYMONT_SAPC;47.606667;6.585833;398;2018-11-21;ETENDU\\n70245003;;FOUGEROLLES_SAPC;47.898500;6.388833;315;1991-03-01;ETENDU\\n70261001;;FROTEY_SAPC;47.639167;6.196500;360;1991-06-01;ETENDU\\n70283006;;BALLON DE SERVANCE;47.830833;6.791333;1213;2005-06-15;RADOME\\n70414001;07835;PLANCHER-LES-MI;47.772833;6.746333;529;1950-01-01;ETENDU\\n70447002;;RIOZ;47.438167;6.062000;275;2001-07-01;RADOME\\n70473001;07292;LUXEUIL;47.787000;6.363833;271;1918-01-01;RADOME\\n70545001;;VENISEY;47.836000;5.990167;243;2003-09-01;RADOME\\n70550001;;VESOUL VILLE;47.648833;6.163667;242;1845-01-01;ETENDU\\n70561002;;VILLERSEXEL SA;47.543667;6.433000;290;1992-11-01;RADOME\\n71014004;;AUTUN;46.972000;4.263167;303;1990-08-01;RADOME\\n71022003;;BAUDEMONT_SAPC;46.285667;4.281833;396;2014-11-14;ETENDU\\n71056003;;BRANGES_SAPC;46.645833;5.206667;197;2018-06-25;ETENDU\\n71081001;;CHALON-CHAMPFO;46.827000;4.825667;187;1991-09-01;RADOME\\n71105001;07385;MACON;46.294500;4.794333;219;1943-02-01;RADOME\\n71106001;;CHAROLLES;46.439500;4.281167;282;1949-05-01;ETENDU\\n71190001;;EPINAC;46.997667;4.496333;325;1903-01-01;ETENDU\\n71230002;;GUEUGNON;46.598167;4.020833;305;1979-07-01;ETENDU\\n71240001;;JALOGNY_SAPC;46.402167;4.651000;246;1977-01-01;ETENDU\\n71267001;;LUGNY;46.477333;4.823333;247;1937-01-01;ETENDU\\n71289001;;MATOUR_SAPC;46.304000;4.480333;415;1989-03-01;ETENDU\\n71320001;07382;MT-ST-VINCENT;46.627667;4.477000;601;1943-01-01;RADOME\\n71340002;;PALINGES;46.554667;4.228000;281;1885-01-01;ETENDU\\n71464001;;ST-MAURICE-LES-COUCHES_SAPC;46.881833;4.594833;300;1987-01-01;ETENDU\\n71482001;;ST-SYMPHORIEN DE MARMAGNE;46.852167;4.336167;349;1931-01-01;ETENDU\\n71491001;07379;ST YAN;46.408333;4.016500;242;1954-01-01;RADOME\\n71523001;;SIMARD;46.714167;5.181167;211;2014-02-01;ETENDU\\n71541001;;TORPES_SAPC;46.835833;5.335667;190;2018-12-06;ETENDU\\n71558001;;VARENNES-ST-SA;46.529333;5.255333;207;1975-01-01;RADOME\\n71589001;;VITRY/LOIRE;46.691667;3.721667;258;1983-04-01;ETENDU\\n72042001;;BOULOIRE;47.984333;0.491833;134;1921-02-01;ETENDU\\n72086001;;COMMERVEIL_SAPC;48.315333;0.353667;105;2008-01-17;ETENDU\\n72093001;;CORMES;48.179667;0.710167;122;1985-06-01;ETENDU\\n72137006;;LA FRESNAYE;48.433333;0.212167;146;1949-09-01;ETENDU\\n72172003;;LE LUART;48.076333;0.591000;112;2005-03-14;RADOME\\n72175002;;LUCHE-PRINGE;47.713000;0.088167;92;2003-07-08;RADOME\\n72181001;07235;LE MANS;47.945833;0.194167;51;1944-11-01;RADOME\\n72189001;;MAROLLES LES BR;48.243333;0.340833;65;1947-09-01;ETENDU\\n72237001;;PIRMIL;47.906833;-0.103333;66;1957-06-01;ETENDU\\n72255001;;ROUESSE-VASSE;48.139333;-0.225667;206;2003-08-01;RADOME\\n72264001;;SABLE SUR SARTH;47.840167;-0.302667;41;1949-10-01;ETENDU\\n72275003;;SAINT CORNEILLE;48.078833;0.345000;62;1999-04-01;ETENDU\\n72284001;;SAINT GERMAIN_SAPC;48.301333;0.093000;85;2003-01-01;ETENDU\\n72339001;;SOULIGNE FLACE;47.964667;0.017333;64;1949-09-01;ETENDU\\n72351002;;TENNIE;48.103500;-0.050000;103;1984-07-01;ETENDU\\n72357001;;THOREE LES PINS;47.659333;0.022500;78;1947-08-01;ETENDU\\n72361001;;TRESSON_SAPC;47.885333;0.559500;154;2008-12-05;ETENDU\\n72377002;;VILLAINES-SOUS-MALICORNE;47.745833;-0.108500;87;2001-02-01;ETENDU\\n73013002;;ALBIEZ-MONTROND;45.210667;6.336333;1633;2023-05-05;ETENDU\\n73026001;07496;AVRIEUX;45.214000;6.716833;1104;1948-01-01;ETENDU\\n73034002;;BEAUFORT-SUR-DORON;45.691000;6.568667;1036;1942-01-01;ETENDU\\n73040005;;BESSANS-CLIM;45.322833;7.002333;1731;1883-01-01;ETENDU\\n73040402;;BONNEVAL-NIVOSE;45.351667;7.051167;2741;1996-01-08;ETENDU\\n73051001;;MONT DU CHAT;45.660500;5.821500;1496;2005-08-01;RADOME\\n73052002;;BOURGET EN HUILE_SAPC;45.486667;6.207667;820;2015-11-16;ETENDU\\n73054001;07497;BOURG ST MAURICE;45.612667;6.763333;865;1945-04-01;RADOME\\n73055001;;BOZEL;45.440000;6.649500;865;1934-06-01;ETENDU\\n73064001;;CHALLES LES EAUX;45.565167;5.970333;298;1940-01-01;ETENDU\\n73071403;;BELLECOTE-NIVOSE;45.489000;6.771167;2992;1982-01-26;ETENDU\\n73093001;;GRANDE PAREI-NIVOSE;45.614667;6.647500;2260;2011-09-27;ETENDU\\n73098003;;FECLAZ_SAPC;45.647167;5.983667;1328;1993-01-01;ETENDU\\n73107001;;ENTREMONT LE VIEUX_SAPC;45.444167;5.900500;1059;2013-01-31;ETENDU\\n73132003;;COL-DES-SAISIES;45.755000;6.535333;1614;1988-01-01;RADOME\\n73139001;;JARSY_SAPC;45.658833;6.176833;832;2016-06-16;ETENDU\\n73139401;;ALLANT-NIVOSE;45.663833;6.211833;1684;2008-10-01;ETENDU\\n73144001;;MONT CENIS;45.269333;6.899167;2032;1988-11-01;RADOME\\n73146001;;LESCHERAINES;45.715167;6.108333;591;1938-09-01;ETENDU\\n73150004;;LA PLAGNE_SAPC;45.500333;6.675167;2120;2017-04-11;ETENDU\\n73167001;;MONTGELLAFREY;45.393000;6.321000;1057;1934-05-01;ETENDU\\n73171002;;MONTMELIAN;45.493833;6.049167;264;2003-11-01;RADOME\\n73187006;;LA LECHERE_SAPC;45.549167;6.501000;1195;2007-05-01;ETENDU\\n73191001;;NOVALAISE;45.597333;5.776833;460;1956-07-01;ETENDU\\n73220001;;ST-ALBAN DES HURTIERES;45.477167;6.271333;610;1934-06-01;ETENDU\\n73229001;;ST-CHRISTOPHE LA-GROTTE;45.452833;5.777333;420;1984-11-01;ETENDU\\n73242003;;ST JEAN D'ARVES_SAPC;45.206833;6.278833;1573;2015-08-26;ETENDU\\n73244001;;ST-JEAN DE BELLEVILLE;45.427667;6.482833;1150;1934-06-01;ETENDU\\n73255003;;STE MARIE CUINES;45.343500;6.307167;460;1997-07-01;RADOME\\n73257001;;ST-MARTIN DE BELLEVILLE;45.368167;6.510500;1443;1952-09-01;ETENDU\\n73257003;;LA MASSE;45.297333;6.508333;2800;1989-01-01;RADOME\\n73257005;;VAL THORENS_SAPC;45.294000;6.581000;2277;2017-09-25;ETENDU\\n73258001;;ST-MARTIN DE LA PORTE;45.238833;6.446167;763;1934-05-01;ETENDU\\n73261001;;ST-MICHEL DE MAURIENNE LE THYL;45.223667;6.490833;1345;1934-05-01;ETENDU\\n73261003;;ST MICHEL MAUR_SAPC;45.218167;6.464500;698;1997-04-01;ETENDU\\n73280001;;ST-SORLIN D'ARVES;45.224000;6.216333;1694;1932-01-01;ETENDU\\n73290002;;TERMIGNON-CLIM;45.274833;6.814500;1280;1934-05-01;ETENDU\\n73296005;;TIGNES_SAPC;45.467000;6.907167;2084;1989-12-01;ETENDU\\n73296406;;LE CHEVRIL-NIVOSE;45.499667;6.955333;2559;1996-11-07;ETENDU\\n73297003;;ALBERTVILLE;45.627833;6.327667;314;2020-07-01;RADOME\\n73303005;;UGINE;45.759167;6.421000;539;1997-01-01;ETENDU\\n73304005;;VAL D'ISERE JOS;45.444833;6.978167;1850;1988-01-01;RADOME\\n73306401;;LES ROCHILLES-NIVOSE;45.085000;6.469000;2444;1982-01-26;ETENDU\\n73322001;;LA NORMA_SAPC;45.190667;6.703500;1985;2017-08-22;ETENDU\\n73329001;07491;CHAMBERY-AIX;45.641333;5.878000;235;1973-07-01;RADOME\\n74014002;;LES CARROZ;46.024667;6.644000;1151;1996-05-01;ETENDU\\n74014004;;FLAINE_SAPC;46.002833;6.697167;1611;2015-07-02;ETENDU\\n74024001;;AYZE;46.079500;6.431333;449;1938-06-01;ETENDU\\n74035001;;BLOYE;45.821667;5.944667;375;1995-08-01;ETENDU\\n74042003;;BONNEVILLE;46.068500;6.399833;453;2003-05-01;RADOME\\n74045001;;LE BOUCHET_SAPC;45.799500;6.367667;925;2015-09-23;ETENDU\\n74051002;;CERCIER;46.031833;6.043500;492;1993-02-01;ETENDU\\n74056001;07469;CHAMONIX;45.929500;6.877500;1042;1876-01-01;RADOME\\n74056005;;LE TOUR;46.003833;6.948500;1500;1985-11-01;RADOME\\n74056006;;AIGUILLE DU MIDI;45.878500;6.887500;3845;1989-10-01;ETENDU\\n74056405;;AIGUILLES ROUGES-NIVOSE;45.986333;6.896833;2365;1983-01-25;ETENDU\\n74056421;;COUVERCLE-NIVOSE;45.909667;6.958833;2758;2023-05-24;ETENDU\\n74060001;;CHAPELLE SAINT-MAURICE_SAPC;45.782333;6.152167;970;2008-05-27;ETENDU\\n74063002;;CHATEL;46.255833;6.818833;1155;1958-01-01;ETENDU\\n74083002;;COMBLOUX;45.892833;6.626667;1183;1982-10-01;ETENDU\\n74087001;;CONTAMINE-SUR- ARVE;46.128667;6.340000;452;1944-07-01;ETENDU\\n74093001;;CRAN-GEVRIER;45.910833;6.107833;426;1976-02-01;ETENDU\\n74105002;;DOUVAINE SA;46.302333;6.318333;470;2009-03-18;ETENDU\\n74116004;;COL D'EVIRES;46.047167;6.264000;789;2020-01-17;ETENDU\\n74119002;;EVIAN;46.396500;6.566500;395;1990-01-01;ETENDU\\n74119003;;EVIAN SA;46.382333;6.582500;725;2002-05-01;RADOME\\n74133001;;GAILLARD;46.176000;6.210333;399;1987-08-01;ETENDU\\n74135001;;GIEZ;45.762667;6.255333;478;2008-06-01;ETENDU\\n74136005;;LE GRAND-BORNAND;45.973333;6.471833;1430;2005-07-20;RADOME\\n74137001;;GROISY_SAPC;46.012667;6.174500;670;1963-07-01;ETENDU\\n74143003;;HOUCHES (LES);45.892500;6.800667;1004;1934-01-01;ETENDU\\n74182001;07490;MEYTHET;45.928167;6.094000;455;1970-08-01;RADOME\\n74191003;;LE PLENEY;46.168333;6.692833;1515;1995-10-01;RADOME\\n74203001;;NOVEL;46.368833;6.790000;949;1935-01-01;ETENDU\\n74211002;;PERS JUSSY;46.098000;6.260500;747;1998-04-01;ETENDU\\n74221001;;REPOSOIR (LE);46.011333;6.535500;975;1952-12-01;ETENDU\\n74236002;;MONT ARBOIS;45.855333;6.669000;1833;1991-01-01;RADOME\\n74256001;;SALLANCHES;45.931667;6.640333;542;1870-01-01;ETENDU\\n74258002;;SAMOENS;46.086667;6.726667;785;1860-01-01;ETENDU\\n74266001;;SERVOZ;45.931167;6.767333;815;1992-06-01;ETENDU\\n74281001;;THONON-INRAE;46.366667;6.455000;376;1935-09-01;ETENDU\\n74285002;;USINENS SA;46.013000;5.844500;452;2004-09-01;RADOME\\n74286001;;VACHERESSE;46.316333;6.669833;790;1983-01-01;ETENDU\\n74290003;;VALLORCINE;46.020500;6.919167;1326;2022-10-07;ETENDU\\n75106001;;LUXEMBOURG;48.844667;2.333833;46;1955-03-01;ETENDU\\n75107005;;TOUR EIFFEL;48.858333;2.294500;330;1996-07-01;ETENDU\\n75110001;;LARIBOISIERE;48.882833;2.352000;55;1912-12-01;ETENDU\\n75114001;07156;PARIS-MONTSOURIS;48.821667;2.337833;75;1872-06-17;RADOME\\n75114007;;PARIS-MONTSOURIS-DOUBLE;48.821667;2.337833;75;2016-06-02;ETENDU\\n75116008;;LONGCHAMP;48.854833;2.233667;27;2007-03-01;RADOME\\n76116001;07037;ROUEN-BOOS;49.389500;1.178333;156;1968-03-01;RADOME\\n76130001;;BOUELLES;49.733167;1.502500;232;2005-03-01;RADOME\\n76171001;;LA CHAPELLE-SAINT-OUEN_SAPC;49.538167;1.439833;197;2014-04-01;ETENDU\\n76208001;;CUY SAINT FIACRE_SAPC;49.507833;1.716000;104;2014-04-10;ETENDU\\n76217001;07040;DIEPPE;49.932833;1.090000;40;1945-01-01;RADOME\\n76228001;;ECTOT LES BAONS;49.646667;0.816667;150;2005-03-01;RADOME\\n76255002;;EU;50.058000;1.421000;13;1988-01-01;ETENDU\\n76259001;07033;FECAMP;49.767167;0.369167;104;1946-01-01;ETENDU\\n76276001;;FORGES;49.602500;1.522500;160;1866-01-01;ETENDU\\n76302002;;GODERVILLE;49.642333;0.368167;118;1948-10-01;ETENDU\\n76378001;;JUMIEGES;49.435833;0.820833;30;1961-11-01;ETENDU\\n76473001;;NOTRE-DAME DE BLIQUETUIT;49.494000;0.770667;4;2006-01-12;RADOME\\n76481001;07046;OCTEVILLE;49.533000;0.091667;90;1994-01-01;RADOME\\n76540009;;ROUEN - JARDIN;49.422667;1.077333;21;1977-01-01;ETENDU\\n76552001;07028;CAP-DE-LA-HEVE;49.509000;0.071167;100;1880-01-01;ETENDU\\n76582001;;ST-GERMAIN-D'ETABLES;49.839500;1.167167;22;1970-01-01;ETENDU\\n76679001;;SOMMESNIL;49.712500;0.672000;117;1971-01-01;ETENDU\\n76746001;;VINNEMERVILLE;49.814500;0.567667;86;2016-10-26;RADOME\\n77054001;;LA BROSSE-MX;48.351667;3.023333;77;1973-01-01;RADOME\\n77084001;;CHANGIS;48.964667;3.011833;70;1998-06-01;RADOME\\n77113002;;CHEVRU;48.726833;3.203333;158;1990-10-01;RADOME\\n77148002;;CROUY-SUR-OURCQ;49.092833;3.070333;62;1952-03-01;ETENDU\\n77159001;;DONNEMARIE;48.474667;3.126500;97;1912-05-01;ETENDU\\n77186002;;FONTAINEBLEAU_SAPC;48.406000;2.678500;84;1953-09-01;ETENDU\\n77211001;;NANGIS;48.595333;3.007667;128;1992-01-01;RADOME\\n77239001;;JOUY-LE-CHATEL;48.689500;3.125167;135;1901-01-01;ETENDU\\n77306001;07153;MELUN;48.610333;2.679500;91;1947-02-01;RADOME\\n77320002;;MOUROUX_SAPC;48.847167;3.057000;148;1996-11-01;ETENDU\\n77333003;;NEMOURS;48.270000;2.715000;73;1990-10-01;RADOME\\n77418001;;ST-LOUP-DE-NAUD;48.536167;3.210167;99;1934-01-01;ETENDU\\n77468001;;TORCY;48.863500;2.651000;43;1993-06-01;RADOME\\n77489001;;VAUX-SUR-LUNAIN;48.221833;2.934667;136;1933-01-01;ETENDU\\n77530001;;VOULTON_SAPC;48.612667;3.350333;175;1981-10-01;ETENDU\\n78005002;;ACHERES;48.983167;2.126000;31;1988-05-01;RADOME\\n78354001;;MAGNANVILLE;48.963667;1.674167;123;1995-03-01;RADOME\\n78380001;;MAULE;48.909167;1.847500;54;1938-11-01;ETENDU\\n78481001;;LE PECQ;48.887833;2.115833;27;1946-01-01;ETENDU\\n78486002;;LE PERRAY;48.693667;1.867000;174;1970-01-01;ETENDU\\n78505001;;PRUNAY-LE-TEMPLE_SAPC;48.867833;1.673333;107;2018-07-20;ETENDU\\n78562001;;ST-LEGER_SAPC;48.706667;1.745833;176;1992-05-01;ETENDU\\n78620001;07146;TOUSSUS LE NOBLE;48.750667;2.113500;154;1947-02-01;RADOME\\n78621001;07145;TRAPPES;48.774333;2.009833;167;1904-01-01;RADOME\\n78640001;07147;VILLACOUBLAY;48.772500;2.204000;174;1946-11-01;RADOME\\n78646002;;VERSAILLES- INRAE;48.803333;2.090000;121;1932-02-01;ETENDU\\n79017001;;NUEIL-LES-AUBIERS;46.941167;-0.584167;118;1938-03-01;ETENDU\\n79049004;;BRESSUIRE;46.839833;-0.515833;191;1990-07-01;RADOME\\n79079013;;MAULEON_SAPC;46.928833;-0.757833;150;2015-10-19;ETENDU\\n79134001;;GLENAY_SAPC;46.856333;-0.253667;121;1951-01-01;ETENDU\\n79148001;;LEZAY;46.259000;-0.011667;128;1877-01-01;ETENDU\\n79174002;;MELLE;46.235000;-0.151333;136;1989-03-01;RADOME\\n79176001;;MENIGOUTE_SAPC;46.494000;-0.064333;138;1950-01-01;ETENDU\\n79191005;07330;NIORT;46.315833;-0.400167;57;1958-01-01;RADOME\\n79202003;;PARTHENAY_SAPC;46.636833;-0.261000;159;1865-07-01;ETENDU\\n79215001;;POUGNE-HERISSON_SAPC;46.660500;-0.401833;196;1992-07-01;ETENDU\\n79220002;;PRIN-DEYRANCON_SAPC;46.231000;-0.668667;8;2008-09-15;ETENDU\\n79270003;;SAINT-MAIXENT-L-ECOLE_SAPC;46.417000;-0.210333;83;2008-09-08;ETENDU\\n79309001;;SCILLE;46.617167;-0.571167;247;2006-02-01;RADOME\\n79311002;;SECONDIGNY;46.605333;-0.438500;198;1957-01-01;ETENDU\\n79320002;;SURIN_SAPC;46.459667;-0.460333;100;2008-09-15;ETENDU\\n79326004;;THENEZAY STNA;46.725333;-0.020333;132;2002-05-01;RADOME\\n79329001;;THOUARS-STNA;46.989167;-0.207000;81;1957-01-01;ETENDU\\n80001001;07005;ABBEVILLE;50.136000;1.834000;69;1922-05-01;RADOME\\n80041001;;AUMONT;49.883667;1.929500;119;1947-06-01;ETENDU\\n80086002;;BERNAVILLE;50.139333;2.180500;146;1988-03-01;RADOME\\n80182003;;CAYEUX-SUR-MER;50.187167;1.521167;4;2006-01-11;RADOME\\n80248001;;DOMPIERRE-SUR-AUTHIE;50.301000;1.920500;36;1966-09-01;ETENDU\\n80253002;;DOULLENS;50.147667;2.348500;59;1926-05-01;ETENDU\\n80271002;;EPEHY_SAPC;50.001167;3.121500;117;1985-01-01;ETENDU\\n80379002;;AMIENS-GLISY;49.872000;2.382500;60;1985-09-01;RADOME\\n80523001;07059;MEAULTE;49.971833;2.703833;107;1987-05-01;RADOME\\n80557001;;ESTREES-MONS-INRAE;49.874833;3.031167;87;1989-01-01;ETENDU\\n80606002;;OISEMONT_SAPC;49.956833;1.770000;121;1987-12-01;ETENDU\\n80628001;;LE-PLESSIER-ROZAINVILLERS;49.754333;2.554500;105;1941-02-01;ETENDU\\n80630001;;POIX-DE-PICARDIE;49.778333;1.980167;107;1977-01-01;ETENDU\\n80682001;;ROUVROY-EN-SANTERRE;49.765167;2.698333;95;1993-09-01;RADOME\\n80713001;;SAINT-QUENTIN EN TT;50.285667;1.582333;5;1953-12-01;ETENDU\\n80801001;;VILLERS-CARBONNEL;49.877167;2.897667;81;1925-01-01;ETENDU\\n81014001;;ANGLES;43.556833;2.561667;743;1956-09-01;ETENDU\\n81069001;;CORDES;44.074167;1.955667;173;1942-01-01;ETENDU\\n81081002;;DOURGNE;43.491333;2.139667;234;1956-04-01;ETENDU\\n81115002;;LABASTIDE-ROUAIROUX;43.478333;2.657833;448;2003-10-01;RADOME\\n81140002;;LAVAUR;43.693667;1.866167;131;1985-06-01;RADOME\\n81182004;;MONTREDON-LABESSONNIE;43.725000;2.355500;566;1985-06-01;RADOME\\n81192005;;MURAT SUR VEBRE;43.633333;2.825500;1022;2002-06-01;RADOME\\n81217002;;PUYCELSI;43.981000;1.680667;260;2003-10-01;RADOME\\n81284001;07632;ALBI;43.914667;2.116333;172;1976-11-01;RADOME\\n81292001;;TANUS;44.107167;2.279667;537;2002-06-01;RADOME\\n82033005;;CASTELSARRASIN;44.087000;1.129667;72;1989-03-01;RADOME\\n82038006;;CAYLUS;44.220167;1.704167;274;2002-05-01;RADOME\\n82094004;;LAUZERTE;44.271000;1.115500;231;2002-05-01;RADOME\\n82121002;07540;MONTAUBAN;44.028000;1.376667;106;1865-06-01;RADOME\\n82174001;;ST-VINCENT;44.170667;1.459667;191;1976-06-01;ETENDU\\n82178002;;SAVENES;43.824167;1.175000;156;2001-07-01;RADOME\\n82180001;;SERIGNAC;43.931833;1.068333;151;1978-01-01;ETENDU\\n83002004;;AIGUINES_SAPC;43.794500;6.244833;563;2004-07-01;ETENDU\\n83004004;;LES ARCS_SAPC;43.451000;6.470833;55;1997-07-01;ETENDU\\n83007004;;AUPS;43.641000;6.187500;497;1993-01-01;ETENDU\\n83019002;;BORMES LES MIMOSAS;43.195167;6.379333;88;1969-11-01;RADOME\\n83031001;07675;LE LUC;43.383167;6.386167;80;1946-01-01;RADOME\\n83035001;;LE CASTELLET;43.252167;5.784667;417;1969-03-01;RADOME\\n83035002;;LE CASTELLET_SAPC;43.184000;5.770167;66;1997-07-01;ETENDU\\n83042001;;COGOLIN_SAPC;43.261667;6.510333;31;1997-07-01;ETENDU\\n83043005;;COLLOBRIERES_SAPC;43.232167;6.258000;128;1991-03-01;ETENDU\\n83044003;;COMPS-SUR-ARTUBY;43.658833;6.471333;892;1997-07-01;RADOME\\n83049005;;CUERS;43.247667;6.131333;72;1997-07-01;RADOME\\n83050007;;DRAGUIGNAN_SAPC;43.526167;6.453333;173;1996-03-01;ETENDU\\n83051001;;ENTRECASTEAUX;43.521333;6.252167;279;1997-07-01;RADOME\\n83061001;07680;FREJUS;43.423500;6.738000;7;1919-01-01;RADOME\\n83061007;;FREJUS MONT VINAIGRE;43.502667;6.815500;560;2016-11-08;ETENDU\\n83069001;07667;HYERES;43.100500;6.147000;2;1958-02-01;RADOME\\n83069002;07670;PORQUEROLLES;43.000000;6.226833;135;1945-08-01;ETENDU\\n83069003;07678;ILE DU LEVANT;43.032500;6.469333;118;1968-05-01;RADOME\\n83074002;;LA MARTRE;43.770667;6.598667;967;1989-01-01;ETENDU\\n83075001;;LES MAYONS_SAPC;43.316833;6.358333;147;2015-08-20;ETENDU\\n83077001;;MEOUNES LES MONTRIEUX_SAPC;43.258000;5.964833;309;1982-07-01;ETENDU\\n83080001;;MONS;43.694333;6.710167;878;1949-10-01;ETENDU\\n83083001;;MONTFORT-SUR-ARGENS_SAPC;43.469667;6.127000;141;1980-01-01;ETENDU\\n83093005;;PLAN D'AUPS - STE BAUME_SAPC;43.342667;5.728333;605;2007-07-16;ETENDU\\n83101001;07677;CAP CAMARAT;43.200500;6.674500;107;1894-01-01;ETENDU\\n83102005;;REGUSSE;43.668167;6.105167;561;1997-07-01;ETENDU\\n83104001;;RIANS;43.618167;5.752500;390;1949-11-01;ETENDU\\n83116022;;ST MAXIMIN LA STE BAUME;43.477500;5.847833;294;2006-06-01;ETENDU\\n83118002;07681;LE DRAMONT;43.414500;6.852833;124;1966-05-01;ETENDU\\n83124002;;SEILLANS;43.580167;6.622167;278;1997-07-01;RADOME\\n83137001;07660;TOULON;43.115833;5.900667;3;1936-04-01;RADOME\\n83145001;;VARAGES;43.593833;5.962833;348;1988-01-01;ETENDU\\n83148002;;VIDAUBAN;43.386667;6.525000;282;2009-05-20;ETENDU\\n83150002;;VINON SUR VERDON;43.734000;5.782667;271;2002-06-01;RADOME\\n83153001;07661;CAP CEPET;43.079333;5.940833;115;1968-10-01;ETENDU\\n84003002;;APT-VITON;43.881000;5.414000;242;1968-01-01;ETENDU\\n84003003;;APT;43.892000;5.381833;222;2007-03-01;ETENDU\\n84007005;07563;AVIGNON;43.911333;4.902500;34;1993-10-31;RADOME\\n84009002;;LA BASTIDE DES JOURDANS;43.787333;5.615000;381;1988-01-01;RADOME\\n84015002;;BEAUMONT-MT  SEREIN;44.180667;5.255833;1445;1992-06-01;ETENDU\\n84025001;;CABRIERES D'AVIGNON;43.883667;5.164833;142;1985-01-01;RADOME\\n84026003;;CADENET;43.718833;5.353000;152;2007-03-01;ETENDU\\n84031001;07586;CARPENTRAS;44.083667;5.058333;98;1963-08-26;RADOME\\n84054001;;ISLE SUR SORGUE;43.901500;5.051167;64;1961-01-01;ETENDU\\n84064001;;LAPALUD;44.320500;4.658167;46;1946-07-01;ETENDU\\n84069001;;MALAUCENE;44.168833;5.116333;348;1934-01-01;ETENDU\\n84074004;;MERINDOL;43.752167;5.192667;150;1989-03-01;ETENDU\\n84085004;;MURS;43.938167;5.225500;488;2007-03-01;ETENDU\\n84086001;;OPPEDE CRETE DU PETIT  LUBERON;43.811000;5.146000;672;1981-07-01;ETENDU\\n84087001;07579;ORANGE;44.144500;4.861000;57;1948-01-01;RADOME\\n84094001;;PUYMERAS;44.289500;5.131333;392;2007-03-01;RADOME\\n84107002;;ST CHRISTOL;44.040667;5.492833;836;1970-02-01;RADOME\\n84150001;;VISAN;44.336667;4.905500;141;1987-12-01;RADOME\\n85005001;;ANTIGNY;46.618833;-0.775333;75;1945-04-01;ETENDU\\n85051001;;CHANTONNAY;46.693333;-1.048333;93;1865-01-01;ETENDU\\n85060002;;CHATEAU-D'OLONNE;46.477167;-1.725833;27;2004-03-01;RADOME\\n85092004;;FONTENAY;46.448167;-0.779833;20;1992-04-01;RADOME\\n85097001;;LA-GAUBRETIERE_SAPC;46.925167;-1.023833;190;2017-05-11;ETENDU\\n85104001;;GRUES;46.350167;-1.334833;2;2012-05-01;RADOME\\n85109001;;LES HERBIERS;46.855833;-1.018167;103;1877-01-01;ETENDU\\n85113001;07300;L ILE D YEU;46.693667;-2.330167;32;1944-10-01;RADOME\\n85152001;;LA MOTHE ACHARD;46.620833;-1.633167;58;1938-01-01;ETENDU\\n85153002;;MOUCHAMPS_SAPC;46.768333;-1.053333;82;2013-09-12;ETENDU\\n85163001;;NOIRMOUTIER EN;47.004667;-2.257167;3;1872-10-01;RADOME\\n85169002;;PALLUAU;46.808000;-1.597667;51;1950-08-01;ETENDU\\n85172001;;LE PERRIER;46.826500;-1.999833;2;1987-08-01;RADOME\\n85182004;;POUZAUGES SA;46.766000;-0.830833;153;1966-04-01;RADOME\\n85190001;;ROCHESERVIERE;46.956667;-1.482667;43;1951-01-01;ETENDU\\n85191003;07306;LA ROCHE SUR YON;46.705000;-1.381833;88;1984-08-01;RADOME\\n85215002;;ST-FULGENT_SAPC;46.848000;-1.184167;62;2007-02-01;ETENDU\\n85216001;;SAINTE GEMME LA PLAINE_SAPC;46.440167;-1.121333;3;1943-01-01;ETENDU\\n86009001;;ARCHIGNY;46.685333;0.678833;138;1991-01-01;RADOME\\n86015001;;AVAILLES-LIMOUZ;46.121000;0.650833;156;1946-06-01;ETENDU\\n86021002;;BENASSAY_SAPC;46.568333;0.054833;150;1993-04-01;ETENDU\\n86027001;07335;POITIERS-BIARD;46.593833;0.314333;125;1921-02-01;RADOME\\n86032001;;BONNEUIL-MATOUR;46.682167;0.566167;57;1947-03-01;ETENDU\\n86039001;;BRUX_SAPC;46.275667;0.190333;148;2009-03-01;ETENDU\\n86066001;;CHATELLERAULT;46.814000;0.576667;116;1932-01-01;ETENDU\\n86078002;;CIVRAY;46.160333;0.298667;143;1989-07-01;RADOME\\n86097001;;LA FERRIERE AIROUX_SAPC;46.321000;0.410333;122;1990-12-01;ETENDU\\n86137003;;LOUDUN;47.034833;0.097667;96;1988-06-01;RADOME\\n86139001;;LUSIGNAN-INRAE;46.417667;0.119333;152;1965-05-01;ETENDU\\n86140001;;LUSSAC-LES-CHAT;46.400333;0.734833;103;1859-01-01;ETENDU\\n86152002;;MAUPREVOIR;46.169000;0.512833;144;1946-06-01;ETENDU\\n86165005;;MONTMORILLON;46.411833;0.841167;153;1989-03-01;RADOME\\n86273001;;LA TRIMOUILLE;46.463500;1.042000;121;1932-01-01;ETENDU\\n86289001;;LE-VIGEANT;46.242833;0.669667;117;1991-06-01;ETENDU\\n87009003;;BEAUMONT DU LAC;45.801500;1.863167;670;1992-04-01;ETENDU\\n87011002;;BELLAC;46.120333;1.052667;241;1964-08-01;ETENDU\\n87032004;;CHALUS_SAPC;45.646167;0.979000;403;1995-11-01;ETENDU\\n87041001;;CHATEAUPONSAC;46.137667;1.265167;282;1947-08-01;ETENDU\\n87044001;;CHERONNAC_SAPC;45.753833;0.760000;295;1995-07-01;ETENDU\\n87059001;;LE DORAT;46.220833;1.080500;222;1948-01-01;ETENDU\\n87064005;;EYMOUTIERS;45.733833;1.701167;557;1998-01-01;RADOME\\n87085006;07434;LIMOGES-BELLEGARDE;45.861167;1.175000;402;1973-01-01;RADOME\\n87089003;;MAGNAC-LAVAL;46.209667;1.187000;246;1995-03-01;RADOME\\n87103002;;NANTIAT;46.004667;1.180667;335;1996-11-01;ETENDU\\n87106001;;NEXON;45.680833;1.189000;336;1883-01-01;ETENDU\\n87113001;;LE PALAIS SUR VIENNE;45.877833;1.342500;286;1922-01-01;ETENDU\\n87146002;;ST GERMAIN BELL;45.612500;1.499500;418;1997-04-01;ETENDU\\n87154003;;ST JUNIEN;45.900833;0.917000;271;1996-05-01;RADOME\\n87159002;;ST LEGER LA MONTAGNE_SAPC;46.035333;1.459667;664;1998-08-01;ETENDU\\n87183001;;ST SYLV CROUZIL;45.988833;1.330000;423;1916-01-01;ETENDU\\n87187003;;ST YRIEIX LA PE;45.513667;1.243833;404;1994-07-01;RADOME\\n88033002;;BAN-DE-SAPT;48.345833;6.991833;590;2004-09-01;RADOME\\n88075005;;LA_BRESSE_SAPC;48.007667;6.941500;772;2016-07-19;ETENDU\\n88081004;;BUSSANG;47.892167;6.868000;615;2017-01-04;RADOME\\n88095003;;CHATENOIS;48.309000;5.834333;330;1974-03-01;ETENDU\\n88136001;;EPINAL;48.210833;6.451667;317;1986-06-01;RADOME\\n88147001;;DOMMARTIN-AUX-BOIS_SAPC;48.160667;6.280167;396;2007-05-14;ETENDU\\n88176003;;FONTENOY_SAPC;47.981333;6.209167;314;2018-10-19;ETENDU\\n88196009;;GERARDMER;48.072167;6.834000;669;2003-05-01;ETENDU\\n88201003;;GIRANCOURT;48.138000;6.323500;355;2004-01-01;ETENDU\\n88248001;;ISCHES_SAPC;48.016667;5.817500;342;2015-11-26;ETENDU\\n88271001;;LIGNEVILLE;48.160833;5.961167;433;2001-12-01;RADOME\\n88304006;;MIRECOURT-INRAE;48.301667;6.123333;289;1989-06-01;ETENDU\\n88340001;;PADOUX;48.275833;6.583667;342;1970-07-01;ETENDU\\n88383001;07195;REMIREMONT;48.019667;6.596667;384;1949-03-01;ETENDU\\n88393003;;ROLLAINVILLE;48.359167;5.716667;372;2006-06-06;RADOME\\n88399001;;LE ROULIER_SAPC;48.168000;6.625500;449;2009-05-02;ETENDU\\n88402002;;ROVILLE;48.383000;6.608167;278;1950-04-01;RADOME\\n88408002;;RUPT-SUR-MOSELLE;47.918167;6.663000;427;1954-01-01;ETENDU\\n88430001;;ST OUEN-LES-PAREY_SAPC;48.188833;5.774500;329;2007-01-11;ETENDU\\n88486003;;VAGNEY;48.042333;6.750333;805;2006-06-06;RADOME\\n88487003;;LE VAL-D'AJOL;47.955167;6.462667;544;2017-07-03;RADOME\\n89003001;;AILLANT;47.871167;3.352167;124;1874-05-01;ETENDU\\n89014001;;ARCES;48.078167;3.583167;266;1923-12-01;ETENDU\\n89068001;;CHABLIS_SAPC;47.822000;3.791167;141;1951-02-01;ETENDU\\n89086001;;CHARNY;47.882667;3.080333;179;1874-05-01;ETENDU\\n89131001;;CRUZY_SAPC;47.852000;4.224500;291;1962-09-01;ETENDU\\n89133001;;CUDOT_SAPC;47.983833;3.177500;170;1972-01-01;ETENDU\\n89173001;;FONTAINES;47.691333;3.260000;320;1898-01-01;ETENDU\\n89192001;;GRANDCHAMP_SAPC;47.781500;3.189500;180;1980-06-01;ETENDU\\n89206001;;JOIGNY;47.982833;3.370833;75;1853-01-01;ETENDU\\n89260001;;MOLESMES_SAPC;47.610333;3.463833;355;1981-01-01;ETENDU\\n89273001;;ST FARGEAU_SAPC;47.625833;3.133833;258;1862-01-01;ETENDU\\n89279002;;NOYERS_SAPC;47.682833;3.949000;266;2010-04-28;ETENDU\\n89295001;07266;AUXERRE-PERRIGNY;47.824667;3.549667;152;2012-11-22;RADOME\\n89333001;;ST ANDRE;47.488333;4.058667;300;1971-01-01;RADOME\\n89342001;;ST DENIS LES SENS;48.220833;3.266833;65;1859-01-01;ETENDU\\n89349005;;ST-LEGER-VAUBAN_SA;47.361167;4.080000;517;2021-04-01;ETENDU\\n89365001;;SAINT PRIVE;47.658000;2.985333;198;2005-03-01;RADOME\\n89380001;;SAVIGNY/CLAIRIS;48.086500;3.104000;184;1963-05-01;RADOME\\n89387002;;SENS;48.167667;3.288667;70;1956-01-01;RADOME\\n89418007;;TONNERRE JOUDRE;47.868167;3.995000;200;2004-09-01;RADOME\\n90035001;07296;DORANS;47.591667;6.837000;401;2008-11-05;RADOME\\n90044001;;FELON_SAPC;47.704333;6.984167;383;2007-05-25;ETENDU\\n90052002;;GIROMAGNY_SAPC;47.741667;6.835000;473;1990-07-01;ETENDU\\n90056002;;JONCHEREY;47.526167;7.003167;359;1954-12-01;ETENDU\\n90065003;07846;BALLON_SAPC;47.812667;6.842667;1153;1994-10-01;ETENDU\\n90074001;;NOVILLARD_SAPC;47.603833;6.962167;366;2008-12-02;ETENDU\\n90090001;;ST DIZIER-L'EVEQUE_SAPC;47.467333;6.958833;553;1991-08-01;ETENDU\\n91027002;07149;ORLY;48.718000;2.397000;86;1921-03-01;RADOME\\n91103001;07148;BRETIGNY_SAPC;48.600500;2.326000;78;1947-02-01;ETENDU\\n91184001;;COURDIMANCHE;48.421833;2.374333;71;1989-09-01;RADOME\\n91200002;;DOURDAN;48.526167;1.993000;116;1988-03-01;RADOME\\n91275001;;GOMETZ-LE-CHAT.;48.676833;2.135833;159;1950-01-01;ETENDU\\n91405002;;MILLY-LA-FORET;48.382167;2.431833;109;1986-11-01;ETENDU\\n92073001;;SURESNES;48.870667;2.234667;30;1932-01-01;ETENDU\\n93050001;;NEUILLY-SUR-M.;48.859833;2.546333;30;1896-09-01;ETENDU\\n94068001;07154;ST-MAUR;48.808667;2.492333;48;1872-11-01;ETENDU\\n95078001;07053;PONTOISE - AERO;49.090333;2.028500;87;1946-11-01;RADOME\\n95088001;07150;LE BOURGET;48.967333;2.427667;49;1920-01-01;RADOME\\n95492001;;LE PLESSIS GASSOT;49.040333;2.406667;108;2011-11-01;ETENDU\\n95527001;07157;ROISSY;49.015167;2.534333;108;1974-01-01;RADOME\\n95580001;;ST WITZ;49.085667;2.550667;141;2008-01-20;ETENDU\\n95690001;;WY-DIT;49.108167;1.830667;126;1987-07-01;RADOME\\n97101014;;LES ABYMES CHAZEAU_SAPC;16.287500;-61.453167;95;1995-08-01;ETENDU\\n97101015;78897;LE RAIZET AERO;16.264000;-61.516333;11;1950-01-01;RADOME\\n97102005;;ANSE-BERTRAND LA JOYEUSE;16.474333;-61.487667;19;2009-05-01;RADOME\\n97103008;;BAIE-MAHAULT CONVENANCE_SAPC;16.242833;-61.590667;30;1954-01-01;ETENDU\\n97104005;;BAILLIF AERO;16.012167;-61.740167;21;1994-02-01;RADOME\\n97105002;;BASSE-TERRE GUILLARD;15.996167;-61.720667;92;1953-01-01;ETENDU\\n97106001;;BOUILLANTE GEND PIGEON_SAPC;16.149667;-61.774000;34;1965-01-01;ETENDU\\n97107002;;CAPESTERRE-B-EAU NEUFCHATEAU;16.078500;-61.600000;253;1952-01-01;RADOME\\n97107008;;CAPESTERRE-B-EAU CARBET_SAPC;16.041833;-61.638500;597;1978-02-01;ETENDU\\n97107009;;CAPESTERRE-BE BOIS DEBOUT_SAPC;16.021667;-61.585833;70;1984-01-01;ETENDU\\n97108001;;CAPESTERRE-M-GALANTE BELLEVUE;15.926667;-61.241167;142;1951-01-01;ETENDU\\n97109003;;GOURBEYRE GROS-MORNE DOLE;16.003167;-61.672500;477;1991-01-01;RADOME\\n97110001;;LA DESIRADE GENDARMERIE;16.297833;-61.095833;7;1952-01-01;ETENDU\\n97110002;78890;LA DESIRADE METEO;16.335000;-61.004000;27;1950-01-01;RADOME\\n97111001;;DESHAIES GENDARMERIE;16.310667;-61.790667;42;1952-01-01;ETENDU\\n97112003;;GRAND-BOURG LES BASSES AERO;15.869500;-61.272167;10;1986-01-01;RADOME\\n97113003;;LE GOSIER SAINT-FELIX;16.203167;-61.460333;19;1982-01-01;ETENDU\\n97113009;;LE GOSIER LEROUX_SAPC;16.246333;-61.471167;60;2020-10-19;ETENDU\\n97114008;;GOYAVE CHRISTOPHE;16.109833;-61.586167;115;2003-01-01;RADOME\\n97116002;;MORNE-A-L'EAU BLANCHET;16.323500;-61.420000;10;1938-01-01;RADOME\\n97117012;;LE MOULE GARDEL-INRAE;16.301667;-61.323333;30;1991-01-01;ETENDU\\n97117013;78891;LE MOULE LAUREAL;16.314167;-61.349000;24;1994-10-01;RADOME\\n97118007;;PETIT-BOURG DUCLOS-INRAE;16.205000;-61.661667;110;1954-01-01;ETENDU\\n97118008;;PETIT-BOURG PROVIDENCE_SAPC;16.177167;-61.688000;272;1977-07-01;ETENDU\\n97118009;;PETIT-BOURG ROUJOL;16.181000;-61.589500;12;1986-01-01;ETENDU\\n97118018;;PETIT-BOURG GROS-MORNE_SAPC;16.155500;-61.623000;160;2015-05-21;ETENDU\\n97119006;;PETIT-CANAL GROS CAP;16.413167;-61.415667;43;1976-07-01;ETENDU\\n97119008;;PETIT-CANAL GODET-INRAE;16.405000;-61.481667;35;1991-06-01;ETENDU\\n97121002;;POINTE-NOIRE COL DES MAMELLES;16.179500;-61.724667;510;1973-06-01;RADOME\\n97121005;;POINTE-NOIRE BELLEVUE;16.232167;-61.776333;213;1988-01-01;RADOME\\n97121006;;POINTE NOIRE MORPHY;16.252333;-61.799167;75;2016-06-01;ETENDU\\n97122004;;PORT-LOUIS GENDARMERIE;16.421833;-61.525167;18;1951-01-01;ETENDU\\n97123005;;ST-BARTHELEMY AERO;17.902833;-62.838000;3;2003-01-01;ETENDU\\n97124006;;ST-CLAUDE MATOUBA_SAPC;16.046333;-61.693667;650;1983-01-01;ETENDU\\n97124009;;ST-CLAUDE CITERNE;16.032667;-61.656000;1141;1983-01-01;RADOME\\n97124010;;ST-CLAUDE MAISON-VOLCAN_SAPC;16.036000;-61.665333;1104;1994-01-01;ETENDU\\n97125001;;ST-FRANCOIS RENEVILLE;16.284500;-61.311000;40;1950-04-01;ETENDU\\n97125011;;SAINT FRANCOIS AERODROME;16.257167;-61.256500;1;2015-05-19;RADOME\\n97127002;;ST-MARTIN MARIGOT GENDARMERIE;18.067333;-63.070667;39;1965-01-01;ETENDU\\n97127004;;ST-MARTIN GRAND-CASE;18.100667;-63.048000;5;1969-01-01;RADOME\\n97128010;;SAINTE-ANNE DESHAUTEURS_SAPC;16.253333;-61.429833;129;2016-12-08;ETENDU\\n97129011;;STE-ROSE CLUGNY;16.353833;-61.747333;10;1986-01-01;ETENDU\\n97129012;;STE-ROSE BELLE-RIVIERE;16.275167;-61.671667;12;1986-01-01;ETENDU\\n97129015;;STE-ROSE VIARD;16.314167;-61.681000;10;1964-08-01;RADOME\\n97129017;;SAINTE-ROSE SOFAIA_SAPC;16.291333;-61.728500;332;2018-08-30;ETENDU\\n97129018;;SAINTE-ROSE GRANDE-H_SAPC;16.262333;-61.706167;132;2018-11-27;ETENDU\\n97133001;;VIEUX-FORT BOURG;15.948167;-61.698000;39;1979-01-01;ETENDU\\n97134001;;VIEUX-HABITANTS GEND_SAPC;16.054000;-61.755500;136;1964-01-01;ETENDU\\n97134008;;VIEUX HABITANTS LAURICHESSE;16.082500;-61.747333;250;2010-01-01;ETENDU\\n97201001;;AJOUPA-BOUILLON EDEN;14.811833;-61.120333;338;1978-04-01;ETENDU\\n97202002;;ANSE D'ARLET;14.466333;-61.067667;7;2008-04-01;ETENDU\\n97203003;;BASSEPOINTE-CHAL;14.850000;-61.098333;45;1971-01-01;ETENDU\\n97206001;;DIAMANT - JACQUA;14.484667;-61.023167;42;1980-01-01;ETENDU\\n97207002;;DUCOS;14.541833;-60.976833;3;1933-01-01;ETENDU\\n97208001;;FOND-DENIS-CADET;14.735333;-61.145000;493;1905-07-01;RADOME\\n97208006;;FOND-DENIS GLIS;14.729000;-61.117667;367;1993-02-20;ETENDU\\n97209002;;FORT-D-FRANCE-DONIS;14.676833;-61.089667;486;1933-01-01;ETENDU\\n97209004;78926;FORT-DE-FRANCE DESAIX;14.617667;-61.063833;143;1932-07-01;RADOME\\n97209007;;FORT-D-FRANCE-PTE NEGRES;14.599333;-61.090333;12;1956-11-01;RADOME\\n97209017;;FORT-FRANCE COLSON;14.693667;-61.088333;587;1994-10-01;ETENDU\\n97210001;;FRANCOIS-CHOPOT;14.630333;-60.919667;53;1970-01-01;RADOME\\n97210004;;FRANCOIS-SIMON;14.590167;-60.869000;13;1964-01-01;ETENDU\\n97211003;;GRANDRIVIERE;14.874500;-61.180500;4;1997-05-01;ETENDU\\n97212004;;GROS-MORNE BELLEVUE_SAPC;14.735167;-61.055333;690;1963-01-01;ETENDU\\n97212007;;GROS-MORNE BOISLEZ;14.725000;-61.042167;441;1993-02-20;ETENDU\\n97213004;78925;LAMENTIN-AERO;14.595333;-60.995667;3;1947-01-01;RADOME\\n97214001;;LORRAIN VALLON;14.829167;-61.049333;83;1972-06-01;RADOME\\n97214005;;LORRAIN PIROGUE;14.805500;-61.101000;199;2008-07-17;ETENDU\\n97215002;;MACOUBA-POTICHE;14.874833;-61.151167;105;1993-02-26;ETENDU\\n97216002;;MARIGOT-BELLEVU;14.807500;-61.033667;142;1996-08-01;ETENDU\\n97217003;;MARIN;14.467333;-60.859333;3;1933-01-01;ETENDU\\n97218002;;MORNE-ROUGE-CHAMP;14.755000;-61.109833;350;1954-07-01;ETENDU\\n97219006;;PRECHEUR-SAVST;14.800333;-61.198833;299;1993-02-21;ETENDU\\n97220005;;RIVIERE-PILOTE CAPRON;14.494167;-60.879667;115;1968-07-01;ETENDU\\n97220007;;RIVIERE-PILOTE STADE;14.485000;-60.909667;80;1997-05-01;ETENDU\\n97222002;;ROBERT-PTE FORT;14.679667;-60.925500;16;1974-09-01;RADOME\\n97223001;;ST-ESPRIT GEND;14.560167;-60.940667;21;1962-01-01;ETENDU\\n97223003;;ST-ESPRIT BALD;14.566667;-60.899500;258;1993-02-26;ETENDU\\n97224001;;ST-JOSEPH RABUCH;14.679000;-61.056667;380;1933-01-01;ETENDU\\n97224004;;ST-JOSEPH LEZARD;14.658500;-60.998500;65;1975-08-01;RADOME\\n97224011;;ST-JOSEPH BPARC;14.676333;-61.060500;341;1996-08-01;ETENDU\\n97225001;;ST-PIERRE DEPAZ;14.757167;-61.166333;131;1972-01-01;ETENDU\\n97225007;;ST-PIERRE;14.754667;-61.180333;27;2004-05-10;ETENDU\\n97226004;;STE ANNE-SECI;14.438000;-60.870833;22;1993-02-20;ETENDU\\n97226006;;STE ANNE-SALINES;14.397500;-60.877833;3;1963-04-01;ETENDU\\n97227001;;STE- LUCE;14.490500;-60.979667;44;1969-06-01;ETENDU\\n97228001;;STE-MARIE GEND;14.779167;-60.989167;3;1968-03-01;ETENDU\\n97228006;;STE MARIE PEROU;14.761167;-61.024167;200;1993-02-20;ETENDU\\n97230001;78922;TRINITE-CARAVEL;14.774500;-60.875333;26;1963-09-01;RADOME\\n97230002;;TRINITE-SPOUTOU;14.750667;-60.923500;2;1906-01-01;ETENDU\\n97230007;;TRINITE-RESERVOIR;14.737833;-60.977000;142;2003-12-01;ETENDU\\n97231002;;TROIS-ILETS GOLF;14.539500;-61.046167;6;1988-05-01;ETENDU\\n97232003;;VAUCLIN;14.551833;-60.836667;12;1992-01-01;RADOME\\n97232005;;VAUCLIN-RAQUETT;14.537000;-60.875833;176;1993-02-20;ETENDU\\n97234002;;BELLEFONTAINE-VER;14.689667;-61.133333;580;1997-10-01;ETENDU\\n97301001;;REGINA;4.314167;-52.131167;3;1953-07-01;ETENDU\\n97302005;;CAYENNE SUZINI;4.929667;-52.290167;5;1963-01-01;RADOME\\n97303001;;IRACOUBO;5.480167;-53.212333;2;1949-01-01;ETENDU\\n97304001;;ILE ROYALE;5.283333;-52.583333;48;1949-02-01;ETENDU\\n97304003;81403;KOUROU CSG;5.209167;-52.748000;17;1965-03-01;ETENDU\\n97304005;;KOUROU PLAGE;5.168167;-52.640500;3;1995-07-01;ETENDU\\n97304006;;PARIACABO;5.151833;-52.668500;7;2004-01-01;ETENDU\\n97305001;;TONATE;5.014500;-52.473500;4;1956-03-01;ETENDU\\n97305002;;SOULA_SAPC;4.919167;-52.405333;4;1981-01-01;ETENDU\\n97306007;;MANA AERODROME;5.663500;-53.761667;3;2015-06-02;RADOME\\n97307001;81405;CAYENNE-MATOURY;4.822333;-52.365333;4;1946-05-01;RADOME\\n97307003;;LARIVOT;4.892833;-52.339167;6;1991-12-01;ETENDU\\n97308001;81408;SAINT GEORGES;3.890667;-51.804667;6;1953-08-01;RADOME\\n97309005;;DEGRAD CANNES;4.854167;-52.274833;3;1968-01-01;ETENDU\\n97310004;;ROURA;4.728167;-52.324500;21;1955-09-01;ETENDU\\n97310006;;CACAO;4.574000;-52.471333;6;1978-04-01;ETENDU\\n97310009;;MONTAGNE-DE-KAW;4.549333;-52.172833;290;1998-03-01;RADOME\\n97311001;81401;SAINT LAURENT;5.485500;-54.031667;5;1949-06-01;RADOME\\n97311005;;CHARVEIN;5.567167;-53.905833;4;1957-06-01;ETENDU\\n97312002;;SINNAMARY;5.374000;-52.951833;4;1948-11-01;ETENDU\\n97313001;;MONTSINERY;4.891333;-52.492000;3;1956-10-01;ETENDU\\n97352001;;SAUL_SAPC;3.624000;-53.208167;219;1950-11-01;ETENDU\\n97353001;81415;MARIPASOULA;3.640167;-54.028333;106;1953-08-01;RADOME\\n97353007;;TALUEN_SAPC;3.381667;-54.049500;105;2021-12-31;ETENDU\\n97356001;;CAMOPI_SAPC;3.171167;-52.337833;63;1950-01-01;ETENDU\\n97356003;;TROIS_SAUTS_SAPC;2.257333;-52.874000;118;1971-05-01;ETENDU\\n97357001;;GRAND SANTI_SAPC;4.269500;-54.375167;48;1953-08-01;ETENDU\\n97358001;;SAINT ELIE;4.825167;-53.287500;128;1949-03-01;ETENDU\\n97360003;;APATOU;5.152333;-54.340000;16;1977-06-01;ETENDU\\n97361001;;AWALA-YALIMAPO;5.724833;-53.892000;2;1961-07-01;ETENDU\\n97401520;;LE TEVELAVE;-21.211667;55.361333;908;1953-01-01;ETENDU\\n97401540;;LES AVIRONS - CIRAD;-21.239500;55.327500;180;1952-01-01;ETENDU\\n97402240;;BELLEVUE BRAS-PANON;-21.005000;55.622667;480;1990-09-01;RADOME\\n97403410;;LE DIMITILE_SAPC;-21.189000;55.481500;1808;2013-09-27;ETENDU\\n97403435;;BRAS-LONG_SAPC;-21.228333;55.474667;510;2013-05-22;ETENDU\\n97404540;;PONT-MATHURIN;-21.265000;55.380000;19;1961-06-01;RADOME\\n97405420;;PITON-BLOC_SAPC;-21.321167;55.572333;812;1990-01-01;ETENDU\\n97406220;;PLAINE DES PALMISTES;-21.136167;55.627167;1032;1952-01-01;RADOME\\n97407520;61981;LE PORT;-20.946167;55.282000;9;1971-04-18;RADOME\\n97408510;;POSSESSION;-20.921333;55.346167;9;1997-10-01;ETENDU\\n97408560;;AURERE_SAPC;-21.018833;55.424833;940;1952-01-01;ETENDU\\n97408580;;LA NOUVELLE_SAPC;-21.076667;55.423333;1415;1970-01-01;ETENDU\\n97408582;;DOS D'ANE;-20.978500;55.390500;1027;2022-05-02;ETENDU\\n97409210;;BOIS-ROUGE;-20.913667;55.641333;5;1952-01-01;ETENDU\\n97409240;;MENCIOL;-20.961167;55.625667;181;1953-01-01;ETENDU\\n97410202;;BEAUVALLON;-21.008000;55.693333;16;1952-01-01;ETENDU\\n97410238;;SAINT-BENOIT;-21.058833;55.719333;43;1952-01-01;RADOME\\n97410250;;TAKAMAKA - PK12_SAPC;-21.076333;55.630833;660;1971-11-01;ETENDU\\n97410265;;CHEMIN DE CEINTURE_SAPC;-21.076333;55.685500;255;2003-07-24;ETENDU\\n97411132;;CHAUDRON;-20.897000;55.495000;38;1967-01-01;ETENDU\\n97411141;;GRANDE-CHALOUPE;-20.898333;55.369833;10;1997-10-01;ETENDU\\n97411146;;COLORADO_SAPC;-20.910500;55.421500;702;2003-02-26;ETENDU\\n97411150;;SAINT-FRANCOIS;-20.921333;55.456333;545;1953-03-01;ETENDU\\n97411155;;MONTAUBAN_SAPC;-20.938667;55.496833;420;2009-09-29;ETENDU\\n97411164;;LE BRULE - VAL FLEURI_SAPC;-20.941667;55.429500;1069;1956-09-01;ETENDU\\n97411170;;PLAINE DES CHICOTS_SAPC;-20.987333;55.444833;1834;1982-01-01;ETENDU\\n97412302;;COMMERSON_SAPC;-21.208000;55.643667;2310;1968-01-01;ETENDU\\n97412336;;GRAND-COUDE_SAPC;-21.301667;55.631333;1085;1978-01-01;ETENDU\\n97412340;;GRAND-GALET;-21.310500;55.639667;508;1953-08-06;ETENDU\\n97412356;;LA CRETE_SAPC;-21.337500;55.667667;659;1968-10-01;ETENDU\\n97412384;;ST-JOSEPH_SAPC;-21.385167;55.609667;13;1960-04-01;ETENDU\\n97412801;;ST JOSEPH-CIRAD;-21.385167;55.609667;13;2021-10-05;ETENDU\\n97413520;;COLIMACONS;-21.130333;55.304667;798;1963-08-01;RADOME\\n97413542;;ST-LEU;-21.190000;55.292333;79;1950-10-01;ETENDU\\n97413545;;SAINT-LEU - CIRAD;-21.187333;55.300833;222;1997-01-01;ETENDU\\n97413550;;ETANG SAINT-LEU - CIRAD;-21.173333;55.308833;429;2002-02-01;ETENDU\\n97413580;;PITON SAINT-LEU_SAPC;-21.215167;55.325833;530;1973-02-01;ETENDU\\n97414409;;PLAINE DES MAKES_SAPC;-21.199500;55.409167;980;2004-12-29;ETENDU\\n97414451;;LE TAPAGE - CIRAD;-21.224667;55.444167;863;2002-03-25;ETENDU\\n97415516;;BOIS DE NEFLES ST-PAUL_SAPC;-20.997500;55.341167;595;1952-01-01;ETENDU\\n97415536;;PETITE-FRANCE;-21.045000;55.342000;1200;1999-09-01;RADOME\\n97415541;;TAN-ROUGE_SAPC;-21.069167;55.299667;750;1960-01-01;ETENDU\\n97415550;;L'ERMITAGE - CIRAD;-21.053000;55.241333;147;2002-05-01;ETENDU\\n97415557;;LE GUILLAUME;-21.064667;55.324333;1035;1953-01-01;ETENDU\\n97415566;;PITON-MAIDO;-21.076667;55.381167;2150;1998-11-18;RADOME\\n97415590;;POINTE DES TROIS-BASSINS;-21.105167;55.247667;5;1987-10-02;RADOME\\n97415592;;TAN ROUGE-CIRAD;-21.069167;55.299667;746;2021-06-02;ETENDU\\n97416410;;RAVINE DES CABRIS - CIRAD;-21.274500;55.475333;310;1997-01-01;ETENDU\\n97416463;;PIERREFONDS-AEROPORT;-21.320000;55.425500;21;1999-01-01;RADOME\\n97416465;;LIGNE-PARADIS - CIRAD;-21.315333;55.486667;178;1966-01-01;ETENDU\\n97417340;;LE TREMBLET;-21.317333;55.801000;91;1953-01-01;ETENDU\\n97417360;;LE BARIL;-21.359000;55.732167;114;1989-02-01;RADOME\\n97418110;61980;GILLOT-AEROPORT;-20.892167;55.528667;8;1953-01-01;RADOME\\n97418123;;LA MARE - CIRAD;-20.903500;55.532000;68;2001-01-01;ETENDU\\n97418170;;PLAINE DES FOUGERES_SAPC;-20.967333;55.527833;1064;1993-06-01;ETENDU\\n97419310;;RIVIERE DE L'EST - CIRAD;-21.120167;55.758667;144;1953-01-01;ETENDU\\n97419320;;HAUTS DE SAINTE-ROSE_SAPC;-21.159500;55.763667;820;1973-07-01;ETENDU\\n97419350;;GROS PITON SAINTE-ROSE;-21.179500;55.828833;181;1987-09-01;RADOME\\n97419380;;BELLECOMBE-JACOB;-21.217833;55.687000;2245;1966-11-01;RADOME\\n97420110;;GRAND-HAZIER - CIRAD;-20.902833;55.586000;69;1953-01-01;ETENDU\\n97420150;;BAGATELLE_SAPC;-20.931000;55.576667;262;1953-01-01;ETENDU\\n97420180;;BRAS-PISTOLET_SAPC;-20.969000;55.587500;556;2002-12-01;ETENDU\\n97421210;;MARE A VIEILLE PLACE;-21.027833;55.512167;870;1989-07-01;ETENDU\\n97421220;;GRAND-ILET_SAPC;-21.028667;55.471667;1185;1973-07-01;ETENDU\\n97421240;;SALAZIE-VILLAGE_SAPC;-21.031667;55.538500;476;1996-01-01;ETENDU\\n97421260;;BELOUVE_SAPC;-21.060833;55.536500;1500;1955-09-01;ETENDU\\n97421265;;ILET A VIDOT_SAPC;-21.063167;55.510333;940;2003-12-01;ETENDU\\n97422440;;PLAINE DES CAFRES;-21.209167;55.572833;1560;1948-01-01;RADOME\\n97422445;;BRAS-SEC;-21.205667;55.525167;1210;1969-11-15;ETENDU\\n97422455;;PONT D'YVES;-21.231333;55.503167;835;1977-07-19;ETENDU\\n97422465;;LE TAMPON - CIRAD;-21.251667;55.530333;860;1958-01-01;ETENDU\\n97424410;;CILAOS;-21.134167;55.471667;1197;1952-01-01;RADOME\\n97424450;;ILET A CORDES_SAPC;-21.153500;55.438167;1067;1977-08-08;ETENDU\\n97424460;;PALMISTE-ROUGE;-21.168667;55.474500;830;1962-01-01;ETENDU\\n97502001;71805;ST-PIERRE;46.766333;-56.179167;21;1966-01-01;RADOME\\n98403001;61968;GLORIEUSES;-11.582667;47.289667;3;1960-01-01;RADOME\\n98403002;61970;JUAN DE NOVA;-17.054667;42.712000;9;1974-01-01;RADOME\\n98403003;61972;EUROPA;-22.344167;40.340667;6;1951-01-01;RADOME\\n98403004;61976;TROMELIN;-15.887667;54.520667;7;1955-01-01;RADOME\\n98404001;61998;KERGUELEN;-49.352333;70.243333;29;1950-01-02;RADOME\\n98404002;61996;NOUVELLE AMSTERDAM;-37.795167;77.569167;27;1950-04-01;RADOME\\n98404003;89642;DUMONT D'URVILLE;-66.663167;140.001000;43;1956-01-18;RADOME\\n98404004;61997;CROZET;-46.432500;51.856667;146;1974-01-01;RADOME\\n98502001;;DZOUMOGNE_SAPC;-12.715000;45.105333;60;1935-01-01;ETENDU\\n98503001;;BANDRELE;-12.915167;45.192667;26;1986-01-01;ETENDU\\n98507002;;DEMBENI;-12.842333;45.182333;20;1994-01-01;ETENDU\\n98508001;67005;PAMANDZI;-12.805500;45.282833;7;1947-01-01;RADOME\\n98510002;;TREVANI;-12.729500;45.192500;14;1993-01-01;RADOME\\n98511001;;MAMOUDZOU_SAPC;-12.778500;45.226000;65;1993-01-01;ETENDU\\n98511003;;VAHIBE_SAPC;-12.795000;45.167167;222;2003-06-20;ETENDU\\n98512001;;MTZAMBORO;-12.684167;45.074333;75;1991-01-01;ETENDU\\n98514001;;COCONI OUANGANI;-12.831000;45.132667;96;1935-01-01;RADOME\\n98611001;91754;MAOPOOPO;-14.307833;-178.121000;35;1977-10-01;RADOME\\n98613001;91753;HIHIFO;-13.239833;-176.194167;30;1970-07-13;RADOME\\n98711002;91933;ANAA1;-17.357000;-145.508333;3;2012-12-11;RADOME\\n98712001;;TETIAROA 1;-17.014333;-149.585500;2;1975-09-01;RADOME\\n98714002;91929;BORA-BORA-MOTU-AERO;-16.445167;-151.752000;3;1976-01-01;RADOME\\n98715002;91938;FAAA;-17.555167;-149.614333;2;1957-07-01;RADOME\\n98715003;;FAAA 3;-17.566667;-149.573333;338;1967-12-01;ETENDU\\n98719005;91948;MANGAREVA;-23.130167;-134.965333;91;1980-04-01;RADOME\\n98720002;91944;HAO AERO;-18.063000;-140.961167;5;1962-02-01;RADOME\\n98722026;;HITIAA 5;-17.601333;-149.301833;3;2018-05-28;RADOME\\n98723001;91925;HIVA-OA;-9.806000;-139.035667;51;1930-05-01;RADOME\\n98724007;;PAREA 2;-16.812167;-150.988167;2;1999-07-01;ETENDU\\n98725008;;MAHINA 8;-17.506167;-149.483333;10;2015-06-30;RADOME\\n98725010;;MAHINA 9;-17.525500;-149.492667;278;2022-08-29;ETENDU\\n98729003;;PAOPAO 1;-17.523333;-149.811667;100;1959-11-01;ETENDU\\n98729010;;PAPETOAI 4;-17.521167;-149.849167;17;1993-12-01;ETENDU\\n98729015;;HAAPITI5;-17.533000;-149.900167;15;2011-11-01;RADOME\\n98731003;;TAIPIVAI;-8.869667;-140.058667;10;1961-08-01;ETENDU\\n98731007;91921;NUKUATAHA AERO;-8.793500;-140.220667;64;1978-01-01;ETENDU\\n98734007;;PAPARA 7;-17.774833;-149.460833;8;2015-06-25;RADOME\\n98734009;;PAPARA 8;-17.748500;-149.562500;1;2019-08-26;RADOME\\n98735002;;PAPEETE 2;-17.546333;-149.558500;39;1938-05-01;ETENDU\\n98736001;;PIRAE 1;-17.535833;-149.539167;34;1948-08-01;ETENDU\\n98738006;;PUNAAUIA 6;-17.634333;-149.598167;10;1997-05-01;ETENDU\\n98738007;;PUNAAUIA 7;-17.641167;-149.589000;300;1998-07-01;ETENDU\\n98739003;;RAIRUA 1;-23.880833;-147.660000;1;2023-08-21;ETENDU\\n98740002;91941;RANGIROA AERO;-14.955667;-147.659500;7;1951-08-01;ETENDU\\n98741001;91958;RAPA;-27.618333;-144.334833;2;1937-01-01;RADOME\\n98743003;;MOORERE;-22.638000;-152.804500;17;2012-12-01;RADOME\\n98744005;;MOERAI 2;-22.463000;-151.322500;5;2011-03-11;ETENDU\\n98747011;91936;TAIARAPU-EST;-17.745667;-149.158833;2;1968-06-01;RADOME\\n98747016;;AFAAHITI 7;-17.749000;-149.292000;120;2015-06-25;RADOME\\n98748001;;VAIRAO 1;-17.805500;-149.293167;2;1948-09-01;RADOME\\n98748012;;TEAHUPOO;-17.859333;-149.246667;10;2021-10-04;RADOME\\n98749001;91943;TAKAROA;-14.456833;-145.025167;2;1951-08-01;RADOME\\n98750003;;OPOA;-16.826500;-151.372833;2;1991-03-01;ETENDU\\n98752001;;PAPEARI 1;-17.758833;-149.376833;2;1922-08-01;ETENDU\\n98753002;91954;TUBUAI AERO;-23.370667;-149.529333;3;1980-11-01;ETENDU\\n98755002;91952;MORUROA;-21.810500;-138.822833;3;1964-02-01;RADOME\\n98801001;91573;BELEP AEROD.;-19.719833;163.661000;88;1952-01-01;ETENDU\\n98802001;;BOULOUPARIS;-21.874167;166.051833;8;1903-01-01;ETENDU\\n98802003;;BOURAKE;-21.942500;165.999833;53;2000-10-01;ETENDU\\n98802006;;LA OUENGHI;-21.922333;166.083500;8;1973-01-01;ETENDU\\n98802008;;NASSIRAH;-21.815000;166.063167;52;1979-01-01;ETENDU\\n98802102;;CAMP DES SAPINS;-21.765000;166.174167;782;2008-01-11;ETENDU\\n98803001;91576;BOURAIL;-21.554833;165.493833;25;1907-01-01;ETENDU\\n98803003;91581;NESSADIOU;-21.620500;165.480167;2;1966-10-04;ETENDU\\n98803005;;POE;-21.608000;165.399833;6;1988-09-13;ETENDU\\n98804001;;CANALA;-21.526333;165.969167;35;1910-01-01;ETENDU\\n98805001;;DUMBEA;-22.135833;166.481167;15;1925-01-01;ETENDU\\n98805004;;NAKUTAKOIN;-22.171167;166.435500;3;2014-10-09;ETENDU\\n98807001;;HIENGHENE GEND.;-20.688333;164.949500;22;1937-01-01;ETENDU\\n98808001;;HOUAILOU P;-21.278333;165.628000;11;1923-01-01;ETENDU\\n98808002;;COL ROUSSETTES;-21.423333;165.454000;361;1985-01-01;ETENDU\\n98809001;91596;MOUE;-22.589833;167.452167;95;1971-03-01;ETENDU\\n98810001;;GOMEN;-20.667167;164.396000;15;1909-01-01;ETENDU\\n98810002;;OUACO;-20.837000;164.468833;11;1952-01-01;ETENDU\\n98811001;91578;KONE;-21.051333;164.833500;9;1909-01-01;ETENDU\\n98811004;;TANGO;-20.983667;165.026167;341;1998-03-01;ETENDU\\n98812001;91577;KOUMAC;-20.558667;164.284167;25;1949-12-01;RADOME\\n98813001;;LA FOA;-21.701333;165.814667;12;1903-01-01;ETENDU\\n98814001;91582;OUANAHAM;-20.777667;167.241167;30;1960-01-01;RADOME\\n98814003;;CHEPENEHE;-20.785167;167.151500;10;1951-01-01;ETENDU\\n98814007;;MOU;-21.083333;167.425333;8;1976-09-01;ETENDU\\n98815001;91587;LA ROCHE;-21.481500;168.035667;41;1956-01-01;ETENDU\\n98815002;;TADINE;-21.549000;167.884333;35;1952-01-01;ETENDU\\n98817005;;LA COULEE;-22.229833;166.600333;21;1979-01-01;ETENDU\\n98817104;;GORO_USINE;-22.339500;166.908667;159;1995-01-01;ETENDU\\n98818001;91592;NOUMEA;-22.276000;166.452833;69;1860-01-01;RADOME\\n98818002;91593;MAGENTA;-22.260333;166.473667;3;1964-01-01;ETENDU\\n98818003;91591;PHARE AMEDEE;-22.478333;166.467333;3;1989-07-01;ETENDU\\n98818201;91570;SURPRISE;-18.480000;163.086333;4;1994-01-01;RADOME\\n98818202;91574;CHESTERFIELD;-19.968333;158.475500;4;1994-01-01;RADOME\\n98819001;;OUEGOA;-20.345167;164.440000;9;1955-02-01;ETENDU\\n98820001;91579;OULOUP;-20.639167;166.571000;7;1966-01-01;ETENDU\\n98820003;;MOULI;-20.722333;166.422000;4;1991-01-01;ETENDU\\n98821001;91590;LA TONTOUTA;-22.017333;166.222333;37;1949-01-01;RADOME\\n98821005;;PORT LAGUERRE;-22.104667;166.319833;23;1952-01-01;ETENDU\\n98822001;91583;POINDIMIE;-20.932500;165.328000;14;1964-01-01;ETENDU\\n98823001;;PONERIHOUEN;-21.072167;165.404333;27;1952-01-01;ETENDU\\n98823002;91580;AOUPINIE;-21.178167;165.284667;905;1990-11-27;ETENDU\\n98824001;91584;POUEBO;-20.383167;164.568333;63;1937-01-01;ETENDU\\n98825002;;KOPETO;-21.170833;165.024500;939;1974-11-20;ETENDU\\n98826001;;POUM;-20.232500;164.022333;3;1952-01-01;ETENDU\\n98826002;91572;POINGAM;-20.081167;164.031333;35;1994-01-01;ETENDU\\n98827001;;POYA;-21.345333;165.157000;7;1952-01-01;ETENDU\\n98827002;91585;NEPOUI;-21.318167;165.002167;82;1970-01-01;ETENDU\\n98829003;;BORINDI;-21.796333;166.491500;5;1991-08-01;ETENDU\\n98830002;91586;TOUHO AEROD;-20.789333;165.254500;2;1993-01-01;ETENDU\\n98830003;;TIWAKA;-20.899167;165.217833;14;1954-01-01;ETENDU\\n98831001;;VOH;-20.950167;164.687500;6;1967-04-01;ETENDU\\n98832002;91595;YATE MRIE;-22.156500;166.939000;25;1992-12-01;ETENDU\\n98832004;91588;MTGNE SOURCES;-22.143833;166.593167;773;1989-08-01;ETENDU\\n98832005;;OUINNE;-21.984000;166.680500;54;1974-01-01;ETENDU\\n98832006;;RIVIERE BLANCHE;-22.132667;166.726333;171;2000-11-01;ETENDU\\n98832101;;GORO_ANCIENNE_PEPINIERE;-22.269167;166.967500;298;1995-01-01;ETENDU\\n98833002;;MEA;-21.455500;165.767333;571;1988-01-01;ETENDU\\n\""
            ]
          },
          "metadata": {},
          "execution_count": 74
        }
      ]
    },
    {
      "cell_type": "code",
      "source": [
        "file_content = BytesIO(response.content)\n",
        "data = pd.read_csv(file_content, delimiter=';', encoding='ISO-8859-1')"
      ],
      "metadata": {
        "id": "bsctaB5v2fy6"
      },
      "execution_count": 76,
      "outputs": []
    },
    {
      "cell_type": "code",
      "source": [
        "data.head()"
      ],
      "metadata": {
        "colab": {
          "base_uri": "https://localhost:8080/",
          "height": 206
        },
        "id": "MseZkoL5-eOh",
        "outputId": "149d364d-5870-402b-adbc-fc12b0e6494d"
      },
      "execution_count": 77,
      "outputs": [
        {
          "output_type": "execute_result",
          "data": {
            "text/plain": [
              "   Id_station  Id_omm   Nom_usuel   Latitude  Longitude  Altitude  \\\n",
              "0     1014002     NaN      ARBENT  46.278167   5.669000       534   \n",
              "1     1027003     NaN  BALAN_AERO  45.833000   5.106667       196   \n",
              "2     1034004     NaN      BELLEY  45.769333   5.688000       330   \n",
              "3     1064001     NaN    VERIZIEU  45.777167   5.487167       281   \n",
              "4     1071001     NaN       CESSY  46.310333   6.080333       507   \n",
              "\n",
              "  Date_ouverture    Pack  \n",
              "0     2003-10-01  RADOME  \n",
              "1     2014-05-26  ETENDU  \n",
              "2     2001-09-13  RADOME  \n",
              "3     2015-01-01  ETENDU  \n",
              "4     2002-05-01  RADOME  "
            ],
            "text/html": [
              "\n",
              "  <div id=\"df-b5e9e5e9-cc07-4ac2-be03-5dd599b3586c\" class=\"colab-df-container\">\n",
              "    <div>\n",
              "<style scoped>\n",
              "    .dataframe tbody tr th:only-of-type {\n",
              "        vertical-align: middle;\n",
              "    }\n",
              "\n",
              "    .dataframe tbody tr th {\n",
              "        vertical-align: top;\n",
              "    }\n",
              "\n",
              "    .dataframe thead th {\n",
              "        text-align: right;\n",
              "    }\n",
              "</style>\n",
              "<table border=\"1\" class=\"dataframe\">\n",
              "  <thead>\n",
              "    <tr style=\"text-align: right;\">\n",
              "      <th></th>\n",
              "      <th>Id_station</th>\n",
              "      <th>Id_omm</th>\n",
              "      <th>Nom_usuel</th>\n",
              "      <th>Latitude</th>\n",
              "      <th>Longitude</th>\n",
              "      <th>Altitude</th>\n",
              "      <th>Date_ouverture</th>\n",
              "      <th>Pack</th>\n",
              "    </tr>\n",
              "  </thead>\n",
              "  <tbody>\n",
              "    <tr>\n",
              "      <th>0</th>\n",
              "      <td>1014002</td>\n",
              "      <td>NaN</td>\n",
              "      <td>ARBENT</td>\n",
              "      <td>46.278167</td>\n",
              "      <td>5.669000</td>\n",
              "      <td>534</td>\n",
              "      <td>2003-10-01</td>\n",
              "      <td>RADOME</td>\n",
              "    </tr>\n",
              "    <tr>\n",
              "      <th>1</th>\n",
              "      <td>1027003</td>\n",
              "      <td>NaN</td>\n",
              "      <td>BALAN_AERO</td>\n",
              "      <td>45.833000</td>\n",
              "      <td>5.106667</td>\n",
              "      <td>196</td>\n",
              "      <td>2014-05-26</td>\n",
              "      <td>ETENDU</td>\n",
              "    </tr>\n",
              "    <tr>\n",
              "      <th>2</th>\n",
              "      <td>1034004</td>\n",
              "      <td>NaN</td>\n",
              "      <td>BELLEY</td>\n",
              "      <td>45.769333</td>\n",
              "      <td>5.688000</td>\n",
              "      <td>330</td>\n",
              "      <td>2001-09-13</td>\n",
              "      <td>RADOME</td>\n",
              "    </tr>\n",
              "    <tr>\n",
              "      <th>3</th>\n",
              "      <td>1064001</td>\n",
              "      <td>NaN</td>\n",
              "      <td>VERIZIEU</td>\n",
              "      <td>45.777167</td>\n",
              "      <td>5.487167</td>\n",
              "      <td>281</td>\n",
              "      <td>2015-01-01</td>\n",
              "      <td>ETENDU</td>\n",
              "    </tr>\n",
              "    <tr>\n",
              "      <th>4</th>\n",
              "      <td>1071001</td>\n",
              "      <td>NaN</td>\n",
              "      <td>CESSY</td>\n",
              "      <td>46.310333</td>\n",
              "      <td>6.080333</td>\n",
              "      <td>507</td>\n",
              "      <td>2002-05-01</td>\n",
              "      <td>RADOME</td>\n",
              "    </tr>\n",
              "  </tbody>\n",
              "</table>\n",
              "</div>\n",
              "    <div class=\"colab-df-buttons\">\n",
              "\n",
              "  <div class=\"colab-df-container\">\n",
              "    <button class=\"colab-df-convert\" onclick=\"convertToInteractive('df-b5e9e5e9-cc07-4ac2-be03-5dd599b3586c')\"\n",
              "            title=\"Convert this dataframe to an interactive table.\"\n",
              "            style=\"display:none;\">\n",
              "\n",
              "  <svg xmlns=\"http://www.w3.org/2000/svg\" height=\"24px\" viewBox=\"0 -960 960 960\">\n",
              "    <path d=\"M120-120v-720h720v720H120Zm60-500h600v-160H180v160Zm220 220h160v-160H400v160Zm0 220h160v-160H400v160ZM180-400h160v-160H180v160Zm440 0h160v-160H620v160ZM180-180h160v-160H180v160Zm440 0h160v-160H620v160Z\"/>\n",
              "  </svg>\n",
              "    </button>\n",
              "\n",
              "  <style>\n",
              "    .colab-df-container {\n",
              "      display:flex;\n",
              "      gap: 12px;\n",
              "    }\n",
              "\n",
              "    .colab-df-convert {\n",
              "      background-color: #E8F0FE;\n",
              "      border: none;\n",
              "      border-radius: 50%;\n",
              "      cursor: pointer;\n",
              "      display: none;\n",
              "      fill: #1967D2;\n",
              "      height: 32px;\n",
              "      padding: 0 0 0 0;\n",
              "      width: 32px;\n",
              "    }\n",
              "\n",
              "    .colab-df-convert:hover {\n",
              "      background-color: #E2EBFA;\n",
              "      box-shadow: 0px 1px 2px rgba(60, 64, 67, 0.3), 0px 1px 3px 1px rgba(60, 64, 67, 0.15);\n",
              "      fill: #174EA6;\n",
              "    }\n",
              "\n",
              "    .colab-df-buttons div {\n",
              "      margin-bottom: 4px;\n",
              "    }\n",
              "\n",
              "    [theme=dark] .colab-df-convert {\n",
              "      background-color: #3B4455;\n",
              "      fill: #D2E3FC;\n",
              "    }\n",
              "\n",
              "    [theme=dark] .colab-df-convert:hover {\n",
              "      background-color: #434B5C;\n",
              "      box-shadow: 0px 1px 3px 1px rgba(0, 0, 0, 0.15);\n",
              "      filter: drop-shadow(0px 1px 2px rgba(0, 0, 0, 0.3));\n",
              "      fill: #FFFFFF;\n",
              "    }\n",
              "  </style>\n",
              "\n",
              "    <script>\n",
              "      const buttonEl =\n",
              "        document.querySelector('#df-b5e9e5e9-cc07-4ac2-be03-5dd599b3586c button.colab-df-convert');\n",
              "      buttonEl.style.display =\n",
              "        google.colab.kernel.accessAllowed ? 'block' : 'none';\n",
              "\n",
              "      async function convertToInteractive(key) {\n",
              "        const element = document.querySelector('#df-b5e9e5e9-cc07-4ac2-be03-5dd599b3586c');\n",
              "        const dataTable =\n",
              "          await google.colab.kernel.invokeFunction('convertToInteractive',\n",
              "                                                    [key], {});\n",
              "        if (!dataTable) return;\n",
              "\n",
              "        const docLinkHtml = 'Like what you see? Visit the ' +\n",
              "          '<a target=\"_blank\" href=https://colab.research.google.com/notebooks/data_table.ipynb>data table notebook</a>'\n",
              "          + ' to learn more about interactive tables.';\n",
              "        element.innerHTML = '';\n",
              "        dataTable['output_type'] = 'display_data';\n",
              "        await google.colab.output.renderOutput(dataTable, element);\n",
              "        const docLink = document.createElement('div');\n",
              "        docLink.innerHTML = docLinkHtml;\n",
              "        element.appendChild(docLink);\n",
              "      }\n",
              "    </script>\n",
              "  </div>\n",
              "\n",
              "\n",
              "<div id=\"df-a33cd484-d133-4645-821e-4cef0b4bf7c8\">\n",
              "  <button class=\"colab-df-quickchart\" onclick=\"quickchart('df-a33cd484-d133-4645-821e-4cef0b4bf7c8')\"\n",
              "            title=\"Suggest charts\"\n",
              "            style=\"display:none;\">\n",
              "\n",
              "<svg xmlns=\"http://www.w3.org/2000/svg\" height=\"24px\"viewBox=\"0 0 24 24\"\n",
              "     width=\"24px\">\n",
              "    <g>\n",
              "        <path d=\"M19 3H5c-1.1 0-2 .9-2 2v14c0 1.1.9 2 2 2h14c1.1 0 2-.9 2-2V5c0-1.1-.9-2-2-2zM9 17H7v-7h2v7zm4 0h-2V7h2v10zm4 0h-2v-4h2v4z\"/>\n",
              "    </g>\n",
              "</svg>\n",
              "  </button>\n",
              "\n",
              "<style>\n",
              "  .colab-df-quickchart {\n",
              "      --bg-color: #E8F0FE;\n",
              "      --fill-color: #1967D2;\n",
              "      --hover-bg-color: #E2EBFA;\n",
              "      --hover-fill-color: #174EA6;\n",
              "      --disabled-fill-color: #AAA;\n",
              "      --disabled-bg-color: #DDD;\n",
              "  }\n",
              "\n",
              "  [theme=dark] .colab-df-quickchart {\n",
              "      --bg-color: #3B4455;\n",
              "      --fill-color: #D2E3FC;\n",
              "      --hover-bg-color: #434B5C;\n",
              "      --hover-fill-color: #FFFFFF;\n",
              "      --disabled-bg-color: #3B4455;\n",
              "      --disabled-fill-color: #666;\n",
              "  }\n",
              "\n",
              "  .colab-df-quickchart {\n",
              "    background-color: var(--bg-color);\n",
              "    border: none;\n",
              "    border-radius: 50%;\n",
              "    cursor: pointer;\n",
              "    display: none;\n",
              "    fill: var(--fill-color);\n",
              "    height: 32px;\n",
              "    padding: 0;\n",
              "    width: 32px;\n",
              "  }\n",
              "\n",
              "  .colab-df-quickchart:hover {\n",
              "    background-color: var(--hover-bg-color);\n",
              "    box-shadow: 0 1px 2px rgba(60, 64, 67, 0.3), 0 1px 3px 1px rgba(60, 64, 67, 0.15);\n",
              "    fill: var(--button-hover-fill-color);\n",
              "  }\n",
              "\n",
              "  .colab-df-quickchart-complete:disabled,\n",
              "  .colab-df-quickchart-complete:disabled:hover {\n",
              "    background-color: var(--disabled-bg-color);\n",
              "    fill: var(--disabled-fill-color);\n",
              "    box-shadow: none;\n",
              "  }\n",
              "\n",
              "  .colab-df-spinner {\n",
              "    border: 2px solid var(--fill-color);\n",
              "    border-color: transparent;\n",
              "    border-bottom-color: var(--fill-color);\n",
              "    animation:\n",
              "      spin 1s steps(1) infinite;\n",
              "  }\n",
              "\n",
              "  @keyframes spin {\n",
              "    0% {\n",
              "      border-color: transparent;\n",
              "      border-bottom-color: var(--fill-color);\n",
              "      border-left-color: var(--fill-color);\n",
              "    }\n",
              "    20% {\n",
              "      border-color: transparent;\n",
              "      border-left-color: var(--fill-color);\n",
              "      border-top-color: var(--fill-color);\n",
              "    }\n",
              "    30% {\n",
              "      border-color: transparent;\n",
              "      border-left-color: var(--fill-color);\n",
              "      border-top-color: var(--fill-color);\n",
              "      border-right-color: var(--fill-color);\n",
              "    }\n",
              "    40% {\n",
              "      border-color: transparent;\n",
              "      border-right-color: var(--fill-color);\n",
              "      border-top-color: var(--fill-color);\n",
              "    }\n",
              "    60% {\n",
              "      border-color: transparent;\n",
              "      border-right-color: var(--fill-color);\n",
              "    }\n",
              "    80% {\n",
              "      border-color: transparent;\n",
              "      border-right-color: var(--fill-color);\n",
              "      border-bottom-color: var(--fill-color);\n",
              "    }\n",
              "    90% {\n",
              "      border-color: transparent;\n",
              "      border-bottom-color: var(--fill-color);\n",
              "    }\n",
              "  }\n",
              "</style>\n",
              "\n",
              "  <script>\n",
              "    async function quickchart(key) {\n",
              "      const quickchartButtonEl =\n",
              "        document.querySelector('#' + key + ' button');\n",
              "      quickchartButtonEl.disabled = true;  // To prevent multiple clicks.\n",
              "      quickchartButtonEl.classList.add('colab-df-spinner');\n",
              "      try {\n",
              "        const charts = await google.colab.kernel.invokeFunction(\n",
              "            'suggestCharts', [key], {});\n",
              "      } catch (error) {\n",
              "        console.error('Error during call to suggestCharts:', error);\n",
              "      }\n",
              "      quickchartButtonEl.classList.remove('colab-df-spinner');\n",
              "      quickchartButtonEl.classList.add('colab-df-quickchart-complete');\n",
              "    }\n",
              "    (() => {\n",
              "      let quickchartButtonEl =\n",
              "        document.querySelector('#df-a33cd484-d133-4645-821e-4cef0b4bf7c8 button');\n",
              "      quickchartButtonEl.style.display =\n",
              "        google.colab.kernel.accessAllowed ? 'block' : 'none';\n",
              "    })();\n",
              "  </script>\n",
              "</div>\n",
              "\n",
              "    </div>\n",
              "  </div>\n"
            ],
            "application/vnd.google.colaboratory.intrinsic+json": {
              "type": "dataframe",
              "variable_name": "data",
              "summary": "{\n  \"name\": \"data\",\n  \"rows\": 2130,\n  \"fields\": [\n    {\n      \"column\": \"Id_station\",\n      \"properties\": {\n        \"dtype\": \"number\",\n        \"std\": 30770526,\n        \"min\": 1014002,\n        \"max\": 98833002,\n        \"num_unique_values\": 2130,\n        \"samples\": [\n          13055001,\n          97421265,\n          85163001\n        ],\n        \"semantic_type\": \"\",\n        \"description\": \"\"\n      }\n    },\n    {\n      \"column\": \"Id_omm\",\n      \"properties\": {\n        \"dtype\": \"number\",\n        \"std\": 32025.870647173986,\n        \"min\": 7002.0,\n        \"max\": 91958.0,\n        \"num_unique_values\": 286,\n        \"samples\": [\n          7570.0,\n          91578.0,\n          7186.0\n        ],\n        \"semantic_type\": \"\",\n        \"description\": \"\"\n      }\n    },\n    {\n      \"column\": \"Nom_usuel\",\n      \"properties\": {\n        \"dtype\": \"string\",\n        \"num_unique_values\": 2126,\n        \"samples\": [\n          \"MARSEILLE-OBS\",\n          \"BRAS-PISTOLET_SAPC\",\n          \"MOUCHAMPS_SAPC\"\n        ],\n        \"semantic_type\": \"\",\n        \"description\": \"\"\n      }\n    },\n    {\n      \"column\": \"Latitude\",\n      \"properties\": {\n        \"dtype\": \"number\",\n        \"std\": 20.0999757022188,\n        \"min\": -66.663167,\n        \"max\": 51.055833,\n        \"num_unique_values\": 2080,\n        \"samples\": [\n          47.923,\n          42.263333,\n          47.243\n        ],\n        \"semantic_type\": \"\",\n        \"description\": \"\"\n      }\n    },\n    {\n      \"column\": \"Longitude\",\n      \"properties\": {\n        \"dtype\": \"number\",\n        \"std\": 38.799134296880936,\n        \"min\": -178.121,\n        \"max\": 168.035667,\n        \"num_unique_values\": 2095,\n        \"samples\": [\n          3.915,\n          3.288833,\n          6.283167\n        ],\n        \"semantic_type\": \"\",\n        \"description\": \"\"\n      }\n    },\n    {\n      \"column\": \"Altitude\",\n      \"properties\": {\n        \"dtype\": \"number\",\n        \"std\": 454,\n        \"min\": 0,\n        \"max\": 3845,\n        \"num_unique_values\": 849,\n        \"samples\": [\n          984,\n          65,\n          1525\n        ],\n        \"semantic_type\": \"\",\n        \"description\": \"\"\n      }\n    },\n    {\n      \"column\": \"Date_ouverture\",\n      \"properties\": {\n        \"dtype\": \"object\",\n        \"num_unique_values\": 1069,\n        \"samples\": [\n          \"2005-11-16\",\n          \"1947-01-01\",\n          \"1912-12-01\"\n        ],\n        \"semantic_type\": \"\",\n        \"description\": \"\"\n      }\n    },\n    {\n      \"column\": \"Pack\",\n      \"properties\": {\n        \"dtype\": \"category\",\n        \"num_unique_values\": 2,\n        \"samples\": [\n          \"ETENDU\",\n          \"RADOME\"\n        ],\n        \"semantic_type\": \"\",\n        \"description\": \"\"\n      }\n    }\n  ]\n}"
            }
          },
          "metadata": {},
          "execution_count": 77
        }
      ]
    },
    {
      "cell_type": "code",
      "source": [
        "data.shape"
      ],
      "metadata": {
        "colab": {
          "base_uri": "https://localhost:8080/"
        },
        "id": "wrttEcLe-obr",
        "outputId": "6b968f78-5f14-4034-b9f6-068d52de769c"
      },
      "execution_count": 78,
      "outputs": [
        {
          "output_type": "execute_result",
          "data": {
            "text/plain": [
              "(2130, 8)"
            ]
          },
          "metadata": {},
          "execution_count": 78
        }
      ]
    },
    {
      "cell_type": "code",
      "source": [],
      "metadata": {
        "id": "2ipXJvRr-mah"
      },
      "execution_count": null,
      "outputs": []
    }
  ]
}
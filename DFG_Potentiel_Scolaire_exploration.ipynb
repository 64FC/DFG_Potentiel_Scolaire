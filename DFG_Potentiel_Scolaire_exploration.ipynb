{
  "nbformat": 4,
  "nbformat_minor": 0,
  "metadata": {
    "colab": {
      "provenance": [],
      "collapsed_sections": [
        "SIoeASJETZjG",
        "EZsOVUuvTdKk"
      ],
      "authorship_tag": "ABX9TyMlYml49vu2GABwb/MEHKP4"
    },
    "kernelspec": {
      "name": "python3",
      "display_name": "Python 3"
    },
    "language_info": {
      "name": "python"
    }
  },
  "cells": [
    {
      "cell_type": "code",
      "execution_count": null,
      "metadata": {
        "id": "wxkg5v5cCbnC"
      },
      "outputs": [],
      "source": []
    },
    {
      "cell_type": "markdown",
      "source": [
        "# Potentiel s(c)olaire\n",
        "\n",
        "Données disponibles [=> ici](https://data.education.gouv.fr/explore/dataset/fr-en-annuaire-education/information/?disjunctive.type_etablissement&disjunctive.libelle_academie&disjunctive.libelle_region&disjunctive.ministere_tutelle&disjunctive.appartenance_education_prioritaire&disjunctive.nom_commune&disjunctive.code_postal&disjunctive.code_departement)."
      ],
      "metadata": {
        "id": "GtQLiWEhGjfG"
      }
    },
    {
      "cell_type": "markdown",
      "source": [
        "## Récupération des données"
      ],
      "metadata": {
        "id": "SIoeASJETZjG"
      }
    },
    {
      "cell_type": "code",
      "source": [
        "# Je commence par installer le module requests pour récupérer les données via API\n",
        "!pip install requests"
      ],
      "metadata": {
        "colab": {
          "base_uri": "https://localhost:8080/"
        },
        "id": "9bsiADptGjrl",
        "outputId": "ae0418f5-0237-4061-8657-5b60fb09c172"
      },
      "execution_count": 1,
      "outputs": [
        {
          "output_type": "stream",
          "name": "stdout",
          "text": [
            "Requirement already satisfied: requests in /usr/local/lib/python3.11/dist-packages (2.32.3)\n",
            "Requirement already satisfied: charset-normalizer<4,>=2 in /usr/local/lib/python3.11/dist-packages (from requests) (3.4.1)\n",
            "Requirement already satisfied: idna<4,>=2.5 in /usr/local/lib/python3.11/dist-packages (from requests) (3.10)\n",
            "Requirement already satisfied: urllib3<3,>=1.21.1 in /usr/local/lib/python3.11/dist-packages (from requests) (2.3.0)\n",
            "Requirement already satisfied: certifi>=2017.4.17 in /usr/local/lib/python3.11/dist-packages (from requests) (2024.12.14)\n"
          ]
        }
      ]
    },
    {
      "cell_type": "code",
      "source": [
        "# Import des modules utilisés\n",
        "import requests\n",
        "import pandas as pd"
      ],
      "metadata": {
        "id": "2lb0AGwPGkh-"
      },
      "execution_count": 2,
      "outputs": []
    },
    {
      "cell_type": "code",
      "source": [
        "# Définition de l'url qui contient les données\n",
        "url = 'https://data.education.gouv.fr/api/explore/v2.1/catalog/datasets/fr-en-annuaire-education/exports/json'\n",
        "\n",
        "# Récupération des données\n",
        "response = requests.get(url)\n",
        "\n",
        "# Vérification de la bonne récupération\n",
        "if response.status_code == 200:\n",
        "    data = response.json()\n",
        "    print(\"Données disponibles !\\n\")\n",
        "    # Création du jeu de données\n",
        "    df = pd.DataFrame(data)\n",
        "    print(f\"Le dataframe contient {df.shape[0]} lignes et {df.shape[1]} colonnes. Ci-dessous un extrait :\\n\")\n",
        "    df.head()\n",
        "else:\n",
        "    print(f\"Error: {response.status_code}\")"
      ],
      "metadata": {
        "colab": {
          "base_uri": "https://localhost:8080/"
        },
        "id": "aspzNNrgGtz2",
        "outputId": "aa8e2b69-64ff-4992-f37e-75f398ce34ec"
      },
      "execution_count": 3,
      "outputs": [
        {
          "output_type": "stream",
          "name": "stdout",
          "text": [
            "Données récupérées avec succès\n"
          ]
        }
      ]
    },
    {
      "cell_type": "code",
      "source": [
        "# Création du jeu de données\n",
        "df = pd.DataFrame(data)\n",
        "print(f\"Le dataframe contient {df.shape[0]} lignes et {df.shape[1]} colonnes.\\n\")\n",
        "df.head()"
      ],
      "metadata": {
        "colab": {
          "base_uri": "https://localhost:8080/",
          "height": 464
        },
        "id": "oTeOaXEOJcxn",
        "outputId": "76e6e3cd-2606-45b0-bc70-612ec9e1b836"
      },
      "execution_count": 4,
      "outputs": [
        {
          "output_type": "stream",
          "name": "stdout",
          "text": [
            "Le dataframe contient 69648 lignes et 72 colonnes.\n",
            "\n"
          ]
        },
        {
          "output_type": "execute_result",
          "data": {
            "text/plain": [
              "  identifiant_de_l_etablissement                nom_etablissement  \\\n",
              "0                       0271114P     Ecole primaire Arc en Ciel 2   \n",
              "1                       0271149C    Ecole maternelle Pierre Pirou   \n",
              "2                       0271226L  Ecole maternelle intercommunale   \n",
              "3                       0271230R  Ecole maternelle Romain Rolland   \n",
              "4                       0271248K                Ecole élémentaire   \n",
              "\n",
              "  type_etablissement statut_public_prive                 adresse_1  adresse_2  \\\n",
              "0              Ecole              Public  22 rue de la Renaissance       None   \n",
              "1              Ecole              Public     5 bis rue des Brûlins       None   \n",
              "2              Ecole              Public       24 rue de la Mairie       None   \n",
              "3              Ecole              Public     59 rue Romain Rolland       None   \n",
              "4              Ecole              Public                 LA VALLEE  LA VALLEE   \n",
              "\n",
              "                    adresse_3 code_postal code_commune  \\\n",
              "0                27200 VERNON       27200        27681   \n",
              "1  27600 ST AUBIN SUR GAILLON       27600        27517   \n",
              "2               27150 COUDRAY       27150        27176   \n",
              "3                27000 EVREUX       27000        27229   \n",
              "4      27210 ST PIERRE DU VAL       27210        27597   \n",
              "\n",
              "               nom_commune  ...               libelle_nature  \\\n",
              "0                   Vernon  ...  ECOLE DE NIVEAU ELEMENTAIRE   \n",
              "1  Saint-Aubin-sur-Gaillon  ...             ECOLE MATERNELLE   \n",
              "2                  Coudray  ...             ECOLE MATERNELLE   \n",
              "3                   Evreux  ...             ECOLE MATERNELLE   \n",
              "4      Saint-Pierre-du-Val  ...  ECOLE DE NIVEAU ELEMENTAIRE   \n",
              "\n",
              "  code_type_contrat_prive      pial  etablissement_mere  \\\n",
              "0                      99  0271123Z                None   \n",
              "1                      99  0271482P                None   \n",
              "2                      99  0271320N                None   \n",
              "3                      99  0271104D                None   \n",
              "4                      99  0270006K                None   \n",
              "\n",
              "   type_rattachement_etablissement_mere code_circonscription  \\\n",
              "0                                  None             0271037F   \n",
              "1                                  None             0271031Z   \n",
              "2                                  None             0271916L   \n",
              "3                                  None             0271596N   \n",
              "4                                  None             0271034C   \n",
              "\n",
              "  code_zone_animation_pedagogique libelle_zone_animation_pedagogique  \\\n",
              "0                           02702             B.E.F. LOUVIERS VERNON   \n",
              "1                           02702             B.E.F. LOUVIERS VERNON   \n",
              "2                           02702             B.E.F. LOUVIERS VERNON   \n",
              "3                           02701             B.E.F. EVREUX VERNEUIL   \n",
              "4                           02703       B.E.F. BERNAY - PONT AUDEMER   \n",
              "\n",
              "  code_bassin_formation libelle_bassin_formation  \n",
              "0                 21272    BEF LOUVIERS - VERNON  \n",
              "1                 21272    BEF LOUVIERS - VERNON  \n",
              "2                 21272    BEF LOUVIERS - VERNON  \n",
              "3                 21271    BEF EVREUX - VERNEUIL  \n",
              "4                 21273  BEF BERNAY PONT AUDEMER  \n",
              "\n",
              "[5 rows x 72 columns]"
            ],
            "text/html": [
              "\n",
              "  <div id=\"df-75b7d9c4-5d28-497a-b4fb-c192e9d6757a\" class=\"colab-df-container\">\n",
              "    <div>\n",
              "<style scoped>\n",
              "    .dataframe tbody tr th:only-of-type {\n",
              "        vertical-align: middle;\n",
              "    }\n",
              "\n",
              "    .dataframe tbody tr th {\n",
              "        vertical-align: top;\n",
              "    }\n",
              "\n",
              "    .dataframe thead th {\n",
              "        text-align: right;\n",
              "    }\n",
              "</style>\n",
              "<table border=\"1\" class=\"dataframe\">\n",
              "  <thead>\n",
              "    <tr style=\"text-align: right;\">\n",
              "      <th></th>\n",
              "      <th>identifiant_de_l_etablissement</th>\n",
              "      <th>nom_etablissement</th>\n",
              "      <th>type_etablissement</th>\n",
              "      <th>statut_public_prive</th>\n",
              "      <th>adresse_1</th>\n",
              "      <th>adresse_2</th>\n",
              "      <th>adresse_3</th>\n",
              "      <th>code_postal</th>\n",
              "      <th>code_commune</th>\n",
              "      <th>nom_commune</th>\n",
              "      <th>...</th>\n",
              "      <th>libelle_nature</th>\n",
              "      <th>code_type_contrat_prive</th>\n",
              "      <th>pial</th>\n",
              "      <th>etablissement_mere</th>\n",
              "      <th>type_rattachement_etablissement_mere</th>\n",
              "      <th>code_circonscription</th>\n",
              "      <th>code_zone_animation_pedagogique</th>\n",
              "      <th>libelle_zone_animation_pedagogique</th>\n",
              "      <th>code_bassin_formation</th>\n",
              "      <th>libelle_bassin_formation</th>\n",
              "    </tr>\n",
              "  </thead>\n",
              "  <tbody>\n",
              "    <tr>\n",
              "      <th>0</th>\n",
              "      <td>0271114P</td>\n",
              "      <td>Ecole primaire Arc en Ciel 2</td>\n",
              "      <td>Ecole</td>\n",
              "      <td>Public</td>\n",
              "      <td>22 rue de la Renaissance</td>\n",
              "      <td>None</td>\n",
              "      <td>27200 VERNON</td>\n",
              "      <td>27200</td>\n",
              "      <td>27681</td>\n",
              "      <td>Vernon</td>\n",
              "      <td>...</td>\n",
              "      <td>ECOLE DE NIVEAU ELEMENTAIRE</td>\n",
              "      <td>99</td>\n",
              "      <td>0271123Z</td>\n",
              "      <td>None</td>\n",
              "      <td>None</td>\n",
              "      <td>0271037F</td>\n",
              "      <td>02702</td>\n",
              "      <td>B.E.F. LOUVIERS VERNON</td>\n",
              "      <td>21272</td>\n",
              "      <td>BEF LOUVIERS - VERNON</td>\n",
              "    </tr>\n",
              "    <tr>\n",
              "      <th>1</th>\n",
              "      <td>0271149C</td>\n",
              "      <td>Ecole maternelle Pierre Pirou</td>\n",
              "      <td>Ecole</td>\n",
              "      <td>Public</td>\n",
              "      <td>5 bis rue des Brûlins</td>\n",
              "      <td>None</td>\n",
              "      <td>27600 ST AUBIN SUR GAILLON</td>\n",
              "      <td>27600</td>\n",
              "      <td>27517</td>\n",
              "      <td>Saint-Aubin-sur-Gaillon</td>\n",
              "      <td>...</td>\n",
              "      <td>ECOLE MATERNELLE</td>\n",
              "      <td>99</td>\n",
              "      <td>0271482P</td>\n",
              "      <td>None</td>\n",
              "      <td>None</td>\n",
              "      <td>0271031Z</td>\n",
              "      <td>02702</td>\n",
              "      <td>B.E.F. LOUVIERS VERNON</td>\n",
              "      <td>21272</td>\n",
              "      <td>BEF LOUVIERS - VERNON</td>\n",
              "    </tr>\n",
              "    <tr>\n",
              "      <th>2</th>\n",
              "      <td>0271226L</td>\n",
              "      <td>Ecole maternelle intercommunale</td>\n",
              "      <td>Ecole</td>\n",
              "      <td>Public</td>\n",
              "      <td>24 rue de la Mairie</td>\n",
              "      <td>None</td>\n",
              "      <td>27150 COUDRAY</td>\n",
              "      <td>27150</td>\n",
              "      <td>27176</td>\n",
              "      <td>Coudray</td>\n",
              "      <td>...</td>\n",
              "      <td>ECOLE MATERNELLE</td>\n",
              "      <td>99</td>\n",
              "      <td>0271320N</td>\n",
              "      <td>None</td>\n",
              "      <td>None</td>\n",
              "      <td>0271916L</td>\n",
              "      <td>02702</td>\n",
              "      <td>B.E.F. LOUVIERS VERNON</td>\n",
              "      <td>21272</td>\n",
              "      <td>BEF LOUVIERS - VERNON</td>\n",
              "    </tr>\n",
              "    <tr>\n",
              "      <th>3</th>\n",
              "      <td>0271230R</td>\n",
              "      <td>Ecole maternelle Romain Rolland</td>\n",
              "      <td>Ecole</td>\n",
              "      <td>Public</td>\n",
              "      <td>59 rue Romain Rolland</td>\n",
              "      <td>None</td>\n",
              "      <td>27000 EVREUX</td>\n",
              "      <td>27000</td>\n",
              "      <td>27229</td>\n",
              "      <td>Evreux</td>\n",
              "      <td>...</td>\n",
              "      <td>ECOLE MATERNELLE</td>\n",
              "      <td>99</td>\n",
              "      <td>0271104D</td>\n",
              "      <td>None</td>\n",
              "      <td>None</td>\n",
              "      <td>0271596N</td>\n",
              "      <td>02701</td>\n",
              "      <td>B.E.F. EVREUX VERNEUIL</td>\n",
              "      <td>21271</td>\n",
              "      <td>BEF EVREUX - VERNEUIL</td>\n",
              "    </tr>\n",
              "    <tr>\n",
              "      <th>4</th>\n",
              "      <td>0271248K</td>\n",
              "      <td>Ecole élémentaire</td>\n",
              "      <td>Ecole</td>\n",
              "      <td>Public</td>\n",
              "      <td>LA VALLEE</td>\n",
              "      <td>LA VALLEE</td>\n",
              "      <td>27210 ST PIERRE DU VAL</td>\n",
              "      <td>27210</td>\n",
              "      <td>27597</td>\n",
              "      <td>Saint-Pierre-du-Val</td>\n",
              "      <td>...</td>\n",
              "      <td>ECOLE DE NIVEAU ELEMENTAIRE</td>\n",
              "      <td>99</td>\n",
              "      <td>0270006K</td>\n",
              "      <td>None</td>\n",
              "      <td>None</td>\n",
              "      <td>0271034C</td>\n",
              "      <td>02703</td>\n",
              "      <td>B.E.F. BERNAY - PONT AUDEMER</td>\n",
              "      <td>21273</td>\n",
              "      <td>BEF BERNAY PONT AUDEMER</td>\n",
              "    </tr>\n",
              "  </tbody>\n",
              "</table>\n",
              "<p>5 rows × 72 columns</p>\n",
              "</div>\n",
              "    <div class=\"colab-df-buttons\">\n",
              "\n",
              "  <div class=\"colab-df-container\">\n",
              "    <button class=\"colab-df-convert\" onclick=\"convertToInteractive('df-75b7d9c4-5d28-497a-b4fb-c192e9d6757a')\"\n",
              "            title=\"Convert this dataframe to an interactive table.\"\n",
              "            style=\"display:none;\">\n",
              "\n",
              "  <svg xmlns=\"http://www.w3.org/2000/svg\" height=\"24px\" viewBox=\"0 -960 960 960\">\n",
              "    <path d=\"M120-120v-720h720v720H120Zm60-500h600v-160H180v160Zm220 220h160v-160H400v160Zm0 220h160v-160H400v160ZM180-400h160v-160H180v160Zm440 0h160v-160H620v160ZM180-180h160v-160H180v160Zm440 0h160v-160H620v160Z\"/>\n",
              "  </svg>\n",
              "    </button>\n",
              "\n",
              "  <style>\n",
              "    .colab-df-container {\n",
              "      display:flex;\n",
              "      gap: 12px;\n",
              "    }\n",
              "\n",
              "    .colab-df-convert {\n",
              "      background-color: #E8F0FE;\n",
              "      border: none;\n",
              "      border-radius: 50%;\n",
              "      cursor: pointer;\n",
              "      display: none;\n",
              "      fill: #1967D2;\n",
              "      height: 32px;\n",
              "      padding: 0 0 0 0;\n",
              "      width: 32px;\n",
              "    }\n",
              "\n",
              "    .colab-df-convert:hover {\n",
              "      background-color: #E2EBFA;\n",
              "      box-shadow: 0px 1px 2px rgba(60, 64, 67, 0.3), 0px 1px 3px 1px rgba(60, 64, 67, 0.15);\n",
              "      fill: #174EA6;\n",
              "    }\n",
              "\n",
              "    .colab-df-buttons div {\n",
              "      margin-bottom: 4px;\n",
              "    }\n",
              "\n",
              "    [theme=dark] .colab-df-convert {\n",
              "      background-color: #3B4455;\n",
              "      fill: #D2E3FC;\n",
              "    }\n",
              "\n",
              "    [theme=dark] .colab-df-convert:hover {\n",
              "      background-color: #434B5C;\n",
              "      box-shadow: 0px 1px 3px 1px rgba(0, 0, 0, 0.15);\n",
              "      filter: drop-shadow(0px 1px 2px rgba(0, 0, 0, 0.3));\n",
              "      fill: #FFFFFF;\n",
              "    }\n",
              "  </style>\n",
              "\n",
              "    <script>\n",
              "      const buttonEl =\n",
              "        document.querySelector('#df-75b7d9c4-5d28-497a-b4fb-c192e9d6757a button.colab-df-convert');\n",
              "      buttonEl.style.display =\n",
              "        google.colab.kernel.accessAllowed ? 'block' : 'none';\n",
              "\n",
              "      async function convertToInteractive(key) {\n",
              "        const element = document.querySelector('#df-75b7d9c4-5d28-497a-b4fb-c192e9d6757a');\n",
              "        const dataTable =\n",
              "          await google.colab.kernel.invokeFunction('convertToInteractive',\n",
              "                                                    [key], {});\n",
              "        if (!dataTable) return;\n",
              "\n",
              "        const docLinkHtml = 'Like what you see? Visit the ' +\n",
              "          '<a target=\"_blank\" href=https://colab.research.google.com/notebooks/data_table.ipynb>data table notebook</a>'\n",
              "          + ' to learn more about interactive tables.';\n",
              "        element.innerHTML = '';\n",
              "        dataTable['output_type'] = 'display_data';\n",
              "        await google.colab.output.renderOutput(dataTable, element);\n",
              "        const docLink = document.createElement('div');\n",
              "        docLink.innerHTML = docLinkHtml;\n",
              "        element.appendChild(docLink);\n",
              "      }\n",
              "    </script>\n",
              "  </div>\n",
              "\n",
              "\n",
              "<div id=\"df-dfd49078-0163-45d0-b075-40fbb7641dc3\">\n",
              "  <button class=\"colab-df-quickchart\" onclick=\"quickchart('df-dfd49078-0163-45d0-b075-40fbb7641dc3')\"\n",
              "            title=\"Suggest charts\"\n",
              "            style=\"display:none;\">\n",
              "\n",
              "<svg xmlns=\"http://www.w3.org/2000/svg\" height=\"24px\"viewBox=\"0 0 24 24\"\n",
              "     width=\"24px\">\n",
              "    <g>\n",
              "        <path d=\"M19 3H5c-1.1 0-2 .9-2 2v14c0 1.1.9 2 2 2h14c1.1 0 2-.9 2-2V5c0-1.1-.9-2-2-2zM9 17H7v-7h2v7zm4 0h-2V7h2v10zm4 0h-2v-4h2v4z\"/>\n",
              "    </g>\n",
              "</svg>\n",
              "  </button>\n",
              "\n",
              "<style>\n",
              "  .colab-df-quickchart {\n",
              "      --bg-color: #E8F0FE;\n",
              "      --fill-color: #1967D2;\n",
              "      --hover-bg-color: #E2EBFA;\n",
              "      --hover-fill-color: #174EA6;\n",
              "      --disabled-fill-color: #AAA;\n",
              "      --disabled-bg-color: #DDD;\n",
              "  }\n",
              "\n",
              "  [theme=dark] .colab-df-quickchart {\n",
              "      --bg-color: #3B4455;\n",
              "      --fill-color: #D2E3FC;\n",
              "      --hover-bg-color: #434B5C;\n",
              "      --hover-fill-color: #FFFFFF;\n",
              "      --disabled-bg-color: #3B4455;\n",
              "      --disabled-fill-color: #666;\n",
              "  }\n",
              "\n",
              "  .colab-df-quickchart {\n",
              "    background-color: var(--bg-color);\n",
              "    border: none;\n",
              "    border-radius: 50%;\n",
              "    cursor: pointer;\n",
              "    display: none;\n",
              "    fill: var(--fill-color);\n",
              "    height: 32px;\n",
              "    padding: 0;\n",
              "    width: 32px;\n",
              "  }\n",
              "\n",
              "  .colab-df-quickchart:hover {\n",
              "    background-color: var(--hover-bg-color);\n",
              "    box-shadow: 0 1px 2px rgba(60, 64, 67, 0.3), 0 1px 3px 1px rgba(60, 64, 67, 0.15);\n",
              "    fill: var(--button-hover-fill-color);\n",
              "  }\n",
              "\n",
              "  .colab-df-quickchart-complete:disabled,\n",
              "  .colab-df-quickchart-complete:disabled:hover {\n",
              "    background-color: var(--disabled-bg-color);\n",
              "    fill: var(--disabled-fill-color);\n",
              "    box-shadow: none;\n",
              "  }\n",
              "\n",
              "  .colab-df-spinner {\n",
              "    border: 2px solid var(--fill-color);\n",
              "    border-color: transparent;\n",
              "    border-bottom-color: var(--fill-color);\n",
              "    animation:\n",
              "      spin 1s steps(1) infinite;\n",
              "  }\n",
              "\n",
              "  @keyframes spin {\n",
              "    0% {\n",
              "      border-color: transparent;\n",
              "      border-bottom-color: var(--fill-color);\n",
              "      border-left-color: var(--fill-color);\n",
              "    }\n",
              "    20% {\n",
              "      border-color: transparent;\n",
              "      border-left-color: var(--fill-color);\n",
              "      border-top-color: var(--fill-color);\n",
              "    }\n",
              "    30% {\n",
              "      border-color: transparent;\n",
              "      border-left-color: var(--fill-color);\n",
              "      border-top-color: var(--fill-color);\n",
              "      border-right-color: var(--fill-color);\n",
              "    }\n",
              "    40% {\n",
              "      border-color: transparent;\n",
              "      border-right-color: var(--fill-color);\n",
              "      border-top-color: var(--fill-color);\n",
              "    }\n",
              "    60% {\n",
              "      border-color: transparent;\n",
              "      border-right-color: var(--fill-color);\n",
              "    }\n",
              "    80% {\n",
              "      border-color: transparent;\n",
              "      border-right-color: var(--fill-color);\n",
              "      border-bottom-color: var(--fill-color);\n",
              "    }\n",
              "    90% {\n",
              "      border-color: transparent;\n",
              "      border-bottom-color: var(--fill-color);\n",
              "    }\n",
              "  }\n",
              "</style>\n",
              "\n",
              "  <script>\n",
              "    async function quickchart(key) {\n",
              "      const quickchartButtonEl =\n",
              "        document.querySelector('#' + key + ' button');\n",
              "      quickchartButtonEl.disabled = true;  // To prevent multiple clicks.\n",
              "      quickchartButtonEl.classList.add('colab-df-spinner');\n",
              "      try {\n",
              "        const charts = await google.colab.kernel.invokeFunction(\n",
              "            'suggestCharts', [key], {});\n",
              "      } catch (error) {\n",
              "        console.error('Error during call to suggestCharts:', error);\n",
              "      }\n",
              "      quickchartButtonEl.classList.remove('colab-df-spinner');\n",
              "      quickchartButtonEl.classList.add('colab-df-quickchart-complete');\n",
              "    }\n",
              "    (() => {\n",
              "      let quickchartButtonEl =\n",
              "        document.querySelector('#df-dfd49078-0163-45d0-b075-40fbb7641dc3 button');\n",
              "      quickchartButtonEl.style.display =\n",
              "        google.colab.kernel.accessAllowed ? 'block' : 'none';\n",
              "    })();\n",
              "  </script>\n",
              "</div>\n",
              "\n",
              "    </div>\n",
              "  </div>\n"
            ],
            "application/vnd.google.colaboratory.intrinsic+json": {
              "type": "dataframe",
              "variable_name": "df"
            }
          },
          "metadata": {},
          "execution_count": 4
        }
      ]
    },
    {
      "cell_type": "code",
      "source": [
        "# Vérification que toutes les données ont été exportées\n",
        "\n",
        "# Url permettant d'accéder aux enregistrements (dont le total_count)\n",
        "url_ = 'https://data.education.gouv.fr/api/explore/v2.1/catalog/datasets/fr-en-annuaire-education/records'\n",
        "\n",
        "# Récupération via appel GET\n",
        "response_ = requests.get(url_)\n",
        "\n",
        "# On s'assure que l'appel a fonctionné\n",
        "if response_.status_code == 200:\n",
        "    data_ = response_.json()\n",
        "else:\n",
        "    print(f\"Error: {response_.status_code}\")\n",
        "\n",
        "# Enfin, on compare avec la taille attendue\n",
        "try:\n",
        "  assert data_['total_count'] == len(df)\n",
        "except AssertionError as e:\n",
        "  print(f\"Données non complètement récupérées, erreur : {f}.\")\n",
        "else:\n",
        "  print(\"Toutes les données sont bien récupérées.\")"
      ],
      "metadata": {
        "colab": {
          "base_uri": "https://localhost:8080/"
        },
        "id": "n5ZunbP3Jq1z",
        "outputId": "03888356-ae76-4b9b-9ef3-330399d2ebb0"
      },
      "execution_count": 5,
      "outputs": [
        {
          "output_type": "stream",
          "name": "stdout",
          "text": [
            "Toutes les données sont bien récupérées.\n"
          ]
        }
      ]
    },
    {
      "cell_type": "markdown",
      "source": [
        "## Analyse des colonnes"
      ],
      "metadata": {
        "id": "EZsOVUuvTdKk"
      }
    },
    {
      "cell_type": "code",
      "source": [
        "# Liste des colonnes pour analyse\n",
        "list(df.columns)"
      ],
      "metadata": {
        "colab": {
          "base_uri": "https://localhost:8080/"
        },
        "id": "hRQnmV6JTCFx",
        "outputId": "6b926a92-2887-4df6-bafc-d6f7dd8bbfed"
      },
      "execution_count": 6,
      "outputs": [
        {
          "output_type": "execute_result",
          "data": {
            "text/plain": [
              "['identifiant_de_l_etablissement',\n",
              " 'nom_etablissement',\n",
              " 'type_etablissement',\n",
              " 'statut_public_prive',\n",
              " 'adresse_1',\n",
              " 'adresse_2',\n",
              " 'adresse_3',\n",
              " 'code_postal',\n",
              " 'code_commune',\n",
              " 'nom_commune',\n",
              " 'code_departement',\n",
              " 'code_academie',\n",
              " 'code_region',\n",
              " 'ecole_maternelle',\n",
              " 'ecole_elementaire',\n",
              " 'voie_generale',\n",
              " 'voie_technologique',\n",
              " 'voie_professionnelle',\n",
              " 'telephone',\n",
              " 'fax',\n",
              " 'web',\n",
              " 'mail',\n",
              " 'restauration',\n",
              " 'hebergement',\n",
              " 'ulis',\n",
              " 'apprentissage',\n",
              " 'segpa',\n",
              " 'section_arts',\n",
              " 'section_cinema',\n",
              " 'section_theatre',\n",
              " 'section_sport',\n",
              " 'section_internationale',\n",
              " 'section_europeenne',\n",
              " 'lycee_agricole',\n",
              " 'lycee_militaire',\n",
              " 'lycee_des_metiers',\n",
              " 'post_bac',\n",
              " 'appartenance_education_prioritaire',\n",
              " 'greta',\n",
              " 'siren_siret',\n",
              " 'nombre_d_eleves',\n",
              " 'fiche_onisep',\n",
              " 'position',\n",
              " 'type_contrat_prive',\n",
              " 'libelle_departement',\n",
              " 'libelle_academie',\n",
              " 'libelle_region',\n",
              " 'coordx_origine',\n",
              " 'coordy_origine',\n",
              " 'epsg_origine',\n",
              " 'nom_circonscription',\n",
              " 'latitude',\n",
              " 'longitude',\n",
              " 'precision_localisation',\n",
              " 'date_ouverture',\n",
              " 'date_maj_ligne',\n",
              " 'etat',\n",
              " 'ministere_tutelle',\n",
              " 'multi_uai',\n",
              " 'rpi_concentre',\n",
              " 'rpi_disperse',\n",
              " 'code_nature',\n",
              " 'libelle_nature',\n",
              " 'code_type_contrat_prive',\n",
              " 'pial',\n",
              " 'etablissement_mere',\n",
              " 'type_rattachement_etablissement_mere',\n",
              " 'code_circonscription',\n",
              " 'code_zone_animation_pedagogique',\n",
              " 'libelle_zone_animation_pedagogique',\n",
              " 'code_bassin_formation',\n",
              " 'libelle_bassin_formation']"
            ]
          },
          "metadata": {},
          "execution_count": 6
        }
      ]
    },
    {
      "cell_type": "code",
      "source": [
        "print(f\"Valeurs uniques : {len(df['identifiant_de_l_etablissement'].unique())}\\n\")\n",
        "df['identifiant_de_l_etablissement'].sample(n=5, random_state=23)"
      ],
      "metadata": {
        "colab": {
          "base_uri": "https://localhost:8080/",
          "height": 276
        },
        "id": "Wse8411pKgsm",
        "outputId": "12a1008b-9e7e-4ea3-ceeb-fb17b9d86db1"
      },
      "execution_count": 7,
      "outputs": [
        {
          "output_type": "stream",
          "name": "stdout",
          "text": [
            "Valeurs uniques : 69566\n",
            "\n"
          ]
        },
        {
          "output_type": "execute_result",
          "data": {
            "text/plain": [
              "38177    0492513R\n",
              "55127    0950763N\n",
              "8413     0332079F\n",
              "61003    0080498Y\n",
              "41125    0291929P\n",
              "Name: identifiant_de_l_etablissement, dtype: object"
            ],
            "text/html": [
              "<div>\n",
              "<style scoped>\n",
              "    .dataframe tbody tr th:only-of-type {\n",
              "        vertical-align: middle;\n",
              "    }\n",
              "\n",
              "    .dataframe tbody tr th {\n",
              "        vertical-align: top;\n",
              "    }\n",
              "\n",
              "    .dataframe thead th {\n",
              "        text-align: right;\n",
              "    }\n",
              "</style>\n",
              "<table border=\"1\" class=\"dataframe\">\n",
              "  <thead>\n",
              "    <tr style=\"text-align: right;\">\n",
              "      <th></th>\n",
              "      <th>identifiant_de_l_etablissement</th>\n",
              "    </tr>\n",
              "  </thead>\n",
              "  <tbody>\n",
              "    <tr>\n",
              "      <th>38177</th>\n",
              "      <td>0492513R</td>\n",
              "    </tr>\n",
              "    <tr>\n",
              "      <th>55127</th>\n",
              "      <td>0950763N</td>\n",
              "    </tr>\n",
              "    <tr>\n",
              "      <th>8413</th>\n",
              "      <td>0332079F</td>\n",
              "    </tr>\n",
              "    <tr>\n",
              "      <th>61003</th>\n",
              "      <td>0080498Y</td>\n",
              "    </tr>\n",
              "    <tr>\n",
              "      <th>41125</th>\n",
              "      <td>0291929P</td>\n",
              "    </tr>\n",
              "  </tbody>\n",
              "</table>\n",
              "</div><br><label><b>dtype:</b> object</label>"
            ]
          },
          "metadata": {},
          "execution_count": 7
        }
      ]
    },
    {
      "cell_type": "code",
      "source": [
        "print(f\"Valeurs uniques : {len(df['nom_etablissement'].unique())}\\n\")\n",
        "df['nom_etablissement'].sample(n=5, random_state=23)"
      ],
      "metadata": {
        "colab": {
          "base_uri": "https://localhost:8080/",
          "height": 276
        },
        "id": "EUkgcWqyTPlG",
        "outputId": "8f3ba298-bdf0-42a3-9856-9935b6874e09"
      },
      "execution_count": 8,
      "outputs": [
        {
          "output_type": "stream",
          "name": "stdout",
          "text": [
            "Valeurs uniques : 42630\n",
            "\n"
          ]
        },
        {
          "output_type": "execute_result",
          "data": {
            "text/plain": [
              "38177    Ecole primaire publique Emilie Oberkampf\n",
              "55127                          Collège Le Rosaire\n",
              "8413                 Ecole maternelle Jean Jaurès\n",
              "61003                              Ecole primaire\n",
              "41125                            Collège Kerallan\n",
              "Name: nom_etablissement, dtype: object"
            ],
            "text/html": [
              "<div>\n",
              "<style scoped>\n",
              "    .dataframe tbody tr th:only-of-type {\n",
              "        vertical-align: middle;\n",
              "    }\n",
              "\n",
              "    .dataframe tbody tr th {\n",
              "        vertical-align: top;\n",
              "    }\n",
              "\n",
              "    .dataframe thead th {\n",
              "        text-align: right;\n",
              "    }\n",
              "</style>\n",
              "<table border=\"1\" class=\"dataframe\">\n",
              "  <thead>\n",
              "    <tr style=\"text-align: right;\">\n",
              "      <th></th>\n",
              "      <th>nom_etablissement</th>\n",
              "    </tr>\n",
              "  </thead>\n",
              "  <tbody>\n",
              "    <tr>\n",
              "      <th>38177</th>\n",
              "      <td>Ecole primaire publique Emilie Oberkampf</td>\n",
              "    </tr>\n",
              "    <tr>\n",
              "      <th>55127</th>\n",
              "      <td>Collège Le Rosaire</td>\n",
              "    </tr>\n",
              "    <tr>\n",
              "      <th>8413</th>\n",
              "      <td>Ecole maternelle Jean Jaurès</td>\n",
              "    </tr>\n",
              "    <tr>\n",
              "      <th>61003</th>\n",
              "      <td>Ecole primaire</td>\n",
              "    </tr>\n",
              "    <tr>\n",
              "      <th>41125</th>\n",
              "      <td>Collège Kerallan</td>\n",
              "    </tr>\n",
              "  </tbody>\n",
              "</table>\n",
              "</div><br><label><b>dtype:</b> object</label>"
            ]
          },
          "metadata": {},
          "execution_count": 8
        }
      ]
    },
    {
      "cell_type": "code",
      "source": [
        "print(f\"Valeurs uniques : {len(df['type_etablissement'].unique())}\\n\")\n",
        "df['type_etablissement'].sample(n=5, random_state=23)"
      ],
      "metadata": {
        "colab": {
          "base_uri": "https://localhost:8080/",
          "height": 276
        },
        "id": "cA2dpB-tUABD",
        "outputId": "9407e466-e8e6-4ef9-d761-7a7ae1e0cba0"
      },
      "execution_count": 9,
      "outputs": [
        {
          "output_type": "stream",
          "name": "stdout",
          "text": [
            "Valeurs uniques : 9\n",
            "\n"
          ]
        },
        {
          "output_type": "execute_result",
          "data": {
            "text/plain": [
              "38177      Ecole\n",
              "55127    Collège\n",
              "8413       Ecole\n",
              "61003      Ecole\n",
              "41125    Collège\n",
              "Name: type_etablissement, dtype: object"
            ],
            "text/html": [
              "<div>\n",
              "<style scoped>\n",
              "    .dataframe tbody tr th:only-of-type {\n",
              "        vertical-align: middle;\n",
              "    }\n",
              "\n",
              "    .dataframe tbody tr th {\n",
              "        vertical-align: top;\n",
              "    }\n",
              "\n",
              "    .dataframe thead th {\n",
              "        text-align: right;\n",
              "    }\n",
              "</style>\n",
              "<table border=\"1\" class=\"dataframe\">\n",
              "  <thead>\n",
              "    <tr style=\"text-align: right;\">\n",
              "      <th></th>\n",
              "      <th>type_etablissement</th>\n",
              "    </tr>\n",
              "  </thead>\n",
              "  <tbody>\n",
              "    <tr>\n",
              "      <th>38177</th>\n",
              "      <td>Ecole</td>\n",
              "    </tr>\n",
              "    <tr>\n",
              "      <th>55127</th>\n",
              "      <td>Collège</td>\n",
              "    </tr>\n",
              "    <tr>\n",
              "      <th>8413</th>\n",
              "      <td>Ecole</td>\n",
              "    </tr>\n",
              "    <tr>\n",
              "      <th>61003</th>\n",
              "      <td>Ecole</td>\n",
              "    </tr>\n",
              "    <tr>\n",
              "      <th>41125</th>\n",
              "      <td>Collège</td>\n",
              "    </tr>\n",
              "  </tbody>\n",
              "</table>\n",
              "</div><br><label><b>dtype:</b> object</label>"
            ]
          },
          "metadata": {},
          "execution_count": 9
        }
      ]
    },
    {
      "cell_type": "code",
      "source": [
        "df['type_etablissement'].unique()"
      ],
      "metadata": {
        "colab": {
          "base_uri": "https://localhost:8080/"
        },
        "id": "0Yde3jA_UFt_",
        "outputId": "08526016-f153-4135-acb6-d35203c67b60"
      },
      "execution_count": 10,
      "outputs": [
        {
          "output_type": "execute_result",
          "data": {
            "text/plain": [
              "array(['Ecole', 'Lycée', 'Collège', 'EREA', 'Autre', 'Médico-social',\n",
              "       'Information et orientation', 'Service Administratif', None],\n",
              "      dtype=object)"
            ]
          },
          "metadata": {},
          "execution_count": 10
        }
      ]
    },
    {
      "cell_type": "code",
      "source": [
        "print(f\"Valeurs uniques : {len(df['statut_public_prive'].unique())}\\n\")\n",
        "df['statut_public_prive'].sample(n=5, random_state=23)"
      ],
      "metadata": {
        "colab": {
          "base_uri": "https://localhost:8080/",
          "height": 276
        },
        "id": "iAkvRlh5UJ70",
        "outputId": "cc73f478-1aa5-4448-cebb-9edff42d3fb8"
      },
      "execution_count": 11,
      "outputs": [
        {
          "output_type": "stream",
          "name": "stdout",
          "text": [
            "Valeurs uniques : 3\n",
            "\n"
          ]
        },
        {
          "output_type": "execute_result",
          "data": {
            "text/plain": [
              "38177    Public\n",
              "55127     Privé\n",
              "8413     Public\n",
              "61003    Public\n",
              "41125    Public\n",
              "Name: statut_public_prive, dtype: object"
            ],
            "text/html": [
              "<div>\n",
              "<style scoped>\n",
              "    .dataframe tbody tr th:only-of-type {\n",
              "        vertical-align: middle;\n",
              "    }\n",
              "\n",
              "    .dataframe tbody tr th {\n",
              "        vertical-align: top;\n",
              "    }\n",
              "\n",
              "    .dataframe thead th {\n",
              "        text-align: right;\n",
              "    }\n",
              "</style>\n",
              "<table border=\"1\" class=\"dataframe\">\n",
              "  <thead>\n",
              "    <tr style=\"text-align: right;\">\n",
              "      <th></th>\n",
              "      <th>statut_public_prive</th>\n",
              "    </tr>\n",
              "  </thead>\n",
              "  <tbody>\n",
              "    <tr>\n",
              "      <th>38177</th>\n",
              "      <td>Public</td>\n",
              "    </tr>\n",
              "    <tr>\n",
              "      <th>55127</th>\n",
              "      <td>Privé</td>\n",
              "    </tr>\n",
              "    <tr>\n",
              "      <th>8413</th>\n",
              "      <td>Public</td>\n",
              "    </tr>\n",
              "    <tr>\n",
              "      <th>61003</th>\n",
              "      <td>Public</td>\n",
              "    </tr>\n",
              "    <tr>\n",
              "      <th>41125</th>\n",
              "      <td>Public</td>\n",
              "    </tr>\n",
              "  </tbody>\n",
              "</table>\n",
              "</div><br><label><b>dtype:</b> object</label>"
            ]
          },
          "metadata": {},
          "execution_count": 11
        }
      ]
    },
    {
      "cell_type": "code",
      "source": [
        "df['statut_public_prive'].unique()"
      ],
      "metadata": {
        "colab": {
          "base_uri": "https://localhost:8080/"
        },
        "id": "RO6hs1yqU0Mi",
        "outputId": "41b7c7fc-3af3-4880-e93e-c7289cbe89a2"
      },
      "execution_count": 12,
      "outputs": [
        {
          "output_type": "execute_result",
          "data": {
            "text/plain": [
              "array(['Public', 'Privé', None], dtype=object)"
            ]
          },
          "metadata": {},
          "execution_count": 12
        }
      ]
    },
    {
      "cell_type": "code",
      "source": [
        "print(f\"Valeurs uniques : {len(df['adresse_1'].unique())}\\n\")\n",
        "df['adresse_1'].sample(n=5, random_state=23)"
      ],
      "metadata": {
        "colab": {
          "base_uri": "https://localhost:8080/",
          "height": 276
        },
        "id": "WN8QU_JYU6MO",
        "outputId": "8f228080-0731-4c33-e6a2-075196551a95"
      },
      "execution_count": 13,
      "outputs": [
        {
          "output_type": "stream",
          "name": "stdout",
          "text": [
            "Valeurs uniques : 51664\n",
            "\n"
          ]
        },
        {
          "output_type": "execute_result",
          "data": {
            "text/plain": [
              "38177           3 rue de la Houssaye\n",
              "55127    39 rue du Général de Gaulle\n",
              "8413       46 avenue des 4 Pavillons\n",
              "61003        14 route de Charleville\n",
              "41125               Rue des Myosotis\n",
              "Name: adresse_1, dtype: object"
            ],
            "text/html": [
              "<div>\n",
              "<style scoped>\n",
              "    .dataframe tbody tr th:only-of-type {\n",
              "        vertical-align: middle;\n",
              "    }\n",
              "\n",
              "    .dataframe tbody tr th {\n",
              "        vertical-align: top;\n",
              "    }\n",
              "\n",
              "    .dataframe thead th {\n",
              "        text-align: right;\n",
              "    }\n",
              "</style>\n",
              "<table border=\"1\" class=\"dataframe\">\n",
              "  <thead>\n",
              "    <tr style=\"text-align: right;\">\n",
              "      <th></th>\n",
              "      <th>adresse_1</th>\n",
              "    </tr>\n",
              "  </thead>\n",
              "  <tbody>\n",
              "    <tr>\n",
              "      <th>38177</th>\n",
              "      <td>3 rue de la Houssaye</td>\n",
              "    </tr>\n",
              "    <tr>\n",
              "      <th>55127</th>\n",
              "      <td>39 rue du Général de Gaulle</td>\n",
              "    </tr>\n",
              "    <tr>\n",
              "      <th>8413</th>\n",
              "      <td>46 avenue des 4 Pavillons</td>\n",
              "    </tr>\n",
              "    <tr>\n",
              "      <th>61003</th>\n",
              "      <td>14 route de Charleville</td>\n",
              "    </tr>\n",
              "    <tr>\n",
              "      <th>41125</th>\n",
              "      <td>Rue des Myosotis</td>\n",
              "    </tr>\n",
              "  </tbody>\n",
              "</table>\n",
              "</div><br><label><b>dtype:</b> object</label>"
            ]
          },
          "metadata": {},
          "execution_count": 13
        }
      ]
    },
    {
      "cell_type": "code",
      "source": [
        "print(f\"Valeurs uniques : {len(df['adresse_2'].unique())}\\n\")\n",
        "df['adresse_2'].sample(n=5, random_state=23)"
      ],
      "metadata": {
        "colab": {
          "base_uri": "https://localhost:8080/",
          "height": 276
        },
        "id": "OElem5SmVBTt",
        "outputId": "afd94ea3-afe3-4e97-d043-107361667699"
      },
      "execution_count": 14,
      "outputs": [
        {
          "output_type": "stream",
          "name": "stdout",
          "text": [
            "Valeurs uniques : 7035\n",
            "\n"
          ]
        },
        {
          "output_type": "execute_result",
          "data": {
            "text/plain": [
              "38177     None\n",
              "55127    BP 28\n",
              "8413      None\n",
              "61003     None\n",
              "41125    BP 29\n",
              "Name: adresse_2, dtype: object"
            ],
            "text/html": [
              "<div>\n",
              "<style scoped>\n",
              "    .dataframe tbody tr th:only-of-type {\n",
              "        vertical-align: middle;\n",
              "    }\n",
              "\n",
              "    .dataframe tbody tr th {\n",
              "        vertical-align: top;\n",
              "    }\n",
              "\n",
              "    .dataframe thead th {\n",
              "        text-align: right;\n",
              "    }\n",
              "</style>\n",
              "<table border=\"1\" class=\"dataframe\">\n",
              "  <thead>\n",
              "    <tr style=\"text-align: right;\">\n",
              "      <th></th>\n",
              "      <th>adresse_2</th>\n",
              "    </tr>\n",
              "  </thead>\n",
              "  <tbody>\n",
              "    <tr>\n",
              "      <th>38177</th>\n",
              "      <td>None</td>\n",
              "    </tr>\n",
              "    <tr>\n",
              "      <th>55127</th>\n",
              "      <td>BP 28</td>\n",
              "    </tr>\n",
              "    <tr>\n",
              "      <th>8413</th>\n",
              "      <td>None</td>\n",
              "    </tr>\n",
              "    <tr>\n",
              "      <th>61003</th>\n",
              "      <td>None</td>\n",
              "    </tr>\n",
              "    <tr>\n",
              "      <th>41125</th>\n",
              "      <td>BP 29</td>\n",
              "    </tr>\n",
              "  </tbody>\n",
              "</table>\n",
              "</div><br><label><b>dtype:</b> object</label>"
            ]
          },
          "metadata": {},
          "execution_count": 14
        }
      ]
    },
    {
      "cell_type": "code",
      "source": [
        "print(f\"Valeurs uniques : {len(df['adresse_3'].unique())}\\n\")\n",
        "df['adresse_3'].sample(n=5, random_state=23)"
      ],
      "metadata": {
        "colab": {
          "base_uri": "https://localhost:8080/",
          "height": 276
        },
        "id": "xS0QKUFoVKBg",
        "outputId": "2798c88c-0ba4-4b8a-ce1b-918d96056f18"
      },
      "execution_count": 15,
      "outputs": [
        {
          "output_type": "stream",
          "name": "stdout",
          "text": [
            "Valeurs uniques : 22914\n",
            "\n"
          ]
        },
        {
          "output_type": "execute_result",
          "data": {
            "text/plain": [
              "38177          49070 BEAUCOUZE\n",
              "55127                     None\n",
              "8413               33150 CENON\n",
              "61003    08300 NOVY CHEVRIERES\n",
              "41125                     None\n",
              "Name: adresse_3, dtype: object"
            ],
            "text/html": [
              "<div>\n",
              "<style scoped>\n",
              "    .dataframe tbody tr th:only-of-type {\n",
              "        vertical-align: middle;\n",
              "    }\n",
              "\n",
              "    .dataframe tbody tr th {\n",
              "        vertical-align: top;\n",
              "    }\n",
              "\n",
              "    .dataframe thead th {\n",
              "        text-align: right;\n",
              "    }\n",
              "</style>\n",
              "<table border=\"1\" class=\"dataframe\">\n",
              "  <thead>\n",
              "    <tr style=\"text-align: right;\">\n",
              "      <th></th>\n",
              "      <th>adresse_3</th>\n",
              "    </tr>\n",
              "  </thead>\n",
              "  <tbody>\n",
              "    <tr>\n",
              "      <th>38177</th>\n",
              "      <td>49070 BEAUCOUZE</td>\n",
              "    </tr>\n",
              "    <tr>\n",
              "      <th>55127</th>\n",
              "      <td>None</td>\n",
              "    </tr>\n",
              "    <tr>\n",
              "      <th>8413</th>\n",
              "      <td>33150 CENON</td>\n",
              "    </tr>\n",
              "    <tr>\n",
              "      <th>61003</th>\n",
              "      <td>08300 NOVY CHEVRIERES</td>\n",
              "    </tr>\n",
              "    <tr>\n",
              "      <th>41125</th>\n",
              "      <td>None</td>\n",
              "    </tr>\n",
              "  </tbody>\n",
              "</table>\n",
              "</div><br><label><b>dtype:</b> object</label>"
            ]
          },
          "metadata": {},
          "execution_count": 15
        }
      ]
    },
    {
      "cell_type": "code",
      "source": [
        "print(f\"Valeurs uniques : {len(df['code_postal'].unique())}\\n\")\n",
        "df['code_postal'].sample(n=5, random_state=23)"
      ],
      "metadata": {
        "colab": {
          "base_uri": "https://localhost:8080/",
          "height": 276
        },
        "id": "232kU4XgVQTJ",
        "outputId": "4a875207-0e12-4e76-9b4a-2ac0dd6b89d0"
      },
      "execution_count": 16,
      "outputs": [
        {
          "output_type": "stream",
          "name": "stdout",
          "text": [
            "Valeurs uniques : 8431\n",
            "\n"
          ]
        },
        {
          "output_type": "execute_result",
          "data": {
            "text/plain": [
              "38177    49070\n",
              "55127    95321\n",
              "8413     33150\n",
              "61003    08300\n",
              "41125    29280\n",
              "Name: code_postal, dtype: object"
            ],
            "text/html": [
              "<div>\n",
              "<style scoped>\n",
              "    .dataframe tbody tr th:only-of-type {\n",
              "        vertical-align: middle;\n",
              "    }\n",
              "\n",
              "    .dataframe tbody tr th {\n",
              "        vertical-align: top;\n",
              "    }\n",
              "\n",
              "    .dataframe thead th {\n",
              "        text-align: right;\n",
              "    }\n",
              "</style>\n",
              "<table border=\"1\" class=\"dataframe\">\n",
              "  <thead>\n",
              "    <tr style=\"text-align: right;\">\n",
              "      <th></th>\n",
              "      <th>code_postal</th>\n",
              "    </tr>\n",
              "  </thead>\n",
              "  <tbody>\n",
              "    <tr>\n",
              "      <th>38177</th>\n",
              "      <td>49070</td>\n",
              "    </tr>\n",
              "    <tr>\n",
              "      <th>55127</th>\n",
              "      <td>95321</td>\n",
              "    </tr>\n",
              "    <tr>\n",
              "      <th>8413</th>\n",
              "      <td>33150</td>\n",
              "    </tr>\n",
              "    <tr>\n",
              "      <th>61003</th>\n",
              "      <td>08300</td>\n",
              "    </tr>\n",
              "    <tr>\n",
              "      <th>41125</th>\n",
              "      <td>29280</td>\n",
              "    </tr>\n",
              "  </tbody>\n",
              "</table>\n",
              "</div><br><label><b>dtype:</b> object</label>"
            ]
          },
          "metadata": {},
          "execution_count": 16
        }
      ]
    },
    {
      "cell_type": "code",
      "source": [
        "print(f\"Valeurs uniques : {len(df['code_commune'].unique())}\\n\")\n",
        "df['code_commune'].sample(n=5, random_state=23)"
      ],
      "metadata": {
        "colab": {
          "base_uri": "https://localhost:8080/",
          "height": 276
        },
        "id": "pmYQ3C4hVQ1G",
        "outputId": "0f86ce8e-8e50-4e59-82d3-9c149c3a2002"
      },
      "execution_count": 17,
      "outputs": [
        {
          "output_type": "stream",
          "name": "stdout",
          "text": [
            "Valeurs uniques : 21548\n",
            "\n"
          ]
        },
        {
          "output_type": "execute_result",
          "data": {
            "text/plain": [
              "38177    49020\n",
              "55127    95563\n",
              "8413     33119\n",
              "61003    08330\n",
              "41125    29212\n",
              "Name: code_commune, dtype: object"
            ],
            "text/html": [
              "<div>\n",
              "<style scoped>\n",
              "    .dataframe tbody tr th:only-of-type {\n",
              "        vertical-align: middle;\n",
              "    }\n",
              "\n",
              "    .dataframe tbody tr th {\n",
              "        vertical-align: top;\n",
              "    }\n",
              "\n",
              "    .dataframe thead th {\n",
              "        text-align: right;\n",
              "    }\n",
              "</style>\n",
              "<table border=\"1\" class=\"dataframe\">\n",
              "  <thead>\n",
              "    <tr style=\"text-align: right;\">\n",
              "      <th></th>\n",
              "      <th>code_commune</th>\n",
              "    </tr>\n",
              "  </thead>\n",
              "  <tbody>\n",
              "    <tr>\n",
              "      <th>38177</th>\n",
              "      <td>49020</td>\n",
              "    </tr>\n",
              "    <tr>\n",
              "      <th>55127</th>\n",
              "      <td>95563</td>\n",
              "    </tr>\n",
              "    <tr>\n",
              "      <th>8413</th>\n",
              "      <td>33119</td>\n",
              "    </tr>\n",
              "    <tr>\n",
              "      <th>61003</th>\n",
              "      <td>08330</td>\n",
              "    </tr>\n",
              "    <tr>\n",
              "      <th>41125</th>\n",
              "      <td>29212</td>\n",
              "    </tr>\n",
              "  </tbody>\n",
              "</table>\n",
              "</div><br><label><b>dtype:</b> object</label>"
            ]
          },
          "metadata": {},
          "execution_count": 17
        }
      ]
    },
    {
      "cell_type": "code",
      "source": [
        "print(f\"Valeurs uniques : {len(df['nom_commune'].unique())}\\n\")\n",
        "df['nom_commune'].sample(n=5, random_state=23)"
      ],
      "metadata": {
        "colab": {
          "base_uri": "https://localhost:8080/",
          "height": 276
        },
        "id": "b0CO79fuVQ3X",
        "outputId": "e71f4e46-e82c-4b67-9002-8af7aaa3e687"
      },
      "execution_count": 18,
      "outputs": [
        {
          "output_type": "stream",
          "name": "stdout",
          "text": [
            "Valeurs uniques : 20829\n",
            "\n"
          ]
        },
        {
          "output_type": "execute_result",
          "data": {
            "text/plain": [
              "38177             Beaucouzé\n",
              "55127    Saint-Leu-la-Forêt\n",
              "8413                  Cenon\n",
              "61003       Novy-Chevrières\n",
              "41125              Plouzané\n",
              "Name: nom_commune, dtype: object"
            ],
            "text/html": [
              "<div>\n",
              "<style scoped>\n",
              "    .dataframe tbody tr th:only-of-type {\n",
              "        vertical-align: middle;\n",
              "    }\n",
              "\n",
              "    .dataframe tbody tr th {\n",
              "        vertical-align: top;\n",
              "    }\n",
              "\n",
              "    .dataframe thead th {\n",
              "        text-align: right;\n",
              "    }\n",
              "</style>\n",
              "<table border=\"1\" class=\"dataframe\">\n",
              "  <thead>\n",
              "    <tr style=\"text-align: right;\">\n",
              "      <th></th>\n",
              "      <th>nom_commune</th>\n",
              "    </tr>\n",
              "  </thead>\n",
              "  <tbody>\n",
              "    <tr>\n",
              "      <th>38177</th>\n",
              "      <td>Beaucouzé</td>\n",
              "    </tr>\n",
              "    <tr>\n",
              "      <th>55127</th>\n",
              "      <td>Saint-Leu-la-Forêt</td>\n",
              "    </tr>\n",
              "    <tr>\n",
              "      <th>8413</th>\n",
              "      <td>Cenon</td>\n",
              "    </tr>\n",
              "    <tr>\n",
              "      <th>61003</th>\n",
              "      <td>Novy-Chevrières</td>\n",
              "    </tr>\n",
              "    <tr>\n",
              "      <th>41125</th>\n",
              "      <td>Plouzané</td>\n",
              "    </tr>\n",
              "  </tbody>\n",
              "</table>\n",
              "</div><br><label><b>dtype:</b> object</label>"
            ]
          },
          "metadata": {},
          "execution_count": 18
        }
      ]
    },
    {
      "cell_type": "code",
      "source": [
        "print(f\"Valeurs uniques : {len(df['code_departement'].unique())}\\n\")\n",
        "df['code_departement'].sample(n=5, random_state=23)"
      ],
      "metadata": {
        "colab": {
          "base_uri": "https://localhost:8080/",
          "height": 276
        },
        "id": "i-Y7kpVOVQ5d",
        "outputId": "a8bed000-f6d8-409e-f355-bf61438777ba"
      },
      "execution_count": 19,
      "outputs": [
        {
          "output_type": "stream",
          "name": "stdout",
          "text": [
            "Valeurs uniques : 107\n",
            "\n"
          ]
        },
        {
          "output_type": "execute_result",
          "data": {
            "text/plain": [
              "38177    049\n",
              "55127    095\n",
              "8413     033\n",
              "61003    008\n",
              "41125    029\n",
              "Name: code_departement, dtype: object"
            ],
            "text/html": [
              "<div>\n",
              "<style scoped>\n",
              "    .dataframe tbody tr th:only-of-type {\n",
              "        vertical-align: middle;\n",
              "    }\n",
              "\n",
              "    .dataframe tbody tr th {\n",
              "        vertical-align: top;\n",
              "    }\n",
              "\n",
              "    .dataframe thead th {\n",
              "        text-align: right;\n",
              "    }\n",
              "</style>\n",
              "<table border=\"1\" class=\"dataframe\">\n",
              "  <thead>\n",
              "    <tr style=\"text-align: right;\">\n",
              "      <th></th>\n",
              "      <th>code_departement</th>\n",
              "    </tr>\n",
              "  </thead>\n",
              "  <tbody>\n",
              "    <tr>\n",
              "      <th>38177</th>\n",
              "      <td>049</td>\n",
              "    </tr>\n",
              "    <tr>\n",
              "      <th>55127</th>\n",
              "      <td>095</td>\n",
              "    </tr>\n",
              "    <tr>\n",
              "      <th>8413</th>\n",
              "      <td>033</td>\n",
              "    </tr>\n",
              "    <tr>\n",
              "      <th>61003</th>\n",
              "      <td>008</td>\n",
              "    </tr>\n",
              "    <tr>\n",
              "      <th>41125</th>\n",
              "      <td>029</td>\n",
              "    </tr>\n",
              "  </tbody>\n",
              "</table>\n",
              "</div><br><label><b>dtype:</b> object</label>"
            ]
          },
          "metadata": {},
          "execution_count": 19
        }
      ]
    },
    {
      "cell_type": "code",
      "source": [
        "print(f\"Valeurs uniques : {len(df['code_academie'].unique())}\\n\")\n",
        "df['code_academie'].sample(n=5, random_state=23)"
      ],
      "metadata": {
        "colab": {
          "base_uri": "https://localhost:8080/",
          "height": 276
        },
        "id": "QDQyyyP4VQ7k",
        "outputId": "49e9f1e2-c212-4e43-9265-1be1acc047d1"
      },
      "execution_count": 20,
      "outputs": [
        {
          "output_type": "stream",
          "name": "stdout",
          "text": [
            "Valeurs uniques : 34\n",
            "\n"
          ]
        },
        {
          "output_type": "execute_result",
          "data": {
            "text/plain": [
              "38177    17\n",
              "55127    25\n",
              "8413     04\n",
              "61003    19\n",
              "41125    14\n",
              "Name: code_academie, dtype: object"
            ],
            "text/html": [
              "<div>\n",
              "<style scoped>\n",
              "    .dataframe tbody tr th:only-of-type {\n",
              "        vertical-align: middle;\n",
              "    }\n",
              "\n",
              "    .dataframe tbody tr th {\n",
              "        vertical-align: top;\n",
              "    }\n",
              "\n",
              "    .dataframe thead th {\n",
              "        text-align: right;\n",
              "    }\n",
              "</style>\n",
              "<table border=\"1\" class=\"dataframe\">\n",
              "  <thead>\n",
              "    <tr style=\"text-align: right;\">\n",
              "      <th></th>\n",
              "      <th>code_academie</th>\n",
              "    </tr>\n",
              "  </thead>\n",
              "  <tbody>\n",
              "    <tr>\n",
              "      <th>38177</th>\n",
              "      <td>17</td>\n",
              "    </tr>\n",
              "    <tr>\n",
              "      <th>55127</th>\n",
              "      <td>25</td>\n",
              "    </tr>\n",
              "    <tr>\n",
              "      <th>8413</th>\n",
              "      <td>04</td>\n",
              "    </tr>\n",
              "    <tr>\n",
              "      <th>61003</th>\n",
              "      <td>19</td>\n",
              "    </tr>\n",
              "    <tr>\n",
              "      <th>41125</th>\n",
              "      <td>14</td>\n",
              "    </tr>\n",
              "  </tbody>\n",
              "</table>\n",
              "</div><br><label><b>dtype:</b> object</label>"
            ]
          },
          "metadata": {},
          "execution_count": 20
        }
      ]
    },
    {
      "cell_type": "code",
      "source": [
        "print(f\"Valeurs uniques : {len(df['code_region'].unique())}\\n\")\n",
        "df['code_region'].sample(n=5, random_state=23)"
      ],
      "metadata": {
        "colab": {
          "base_uri": "https://localhost:8080/",
          "height": 276
        },
        "id": "nBC6ir3FVQ_p",
        "outputId": "6a130e5e-367e-4497-affa-dc80428e984f"
      },
      "execution_count": 21,
      "outputs": [
        {
          "output_type": "stream",
          "name": "stdout",
          "text": [
            "Valeurs uniques : 19\n",
            "\n"
          ]
        },
        {
          "output_type": "execute_result",
          "data": {
            "text/plain": [
              "38177    52\n",
              "55127    11\n",
              "8413     75\n",
              "61003    44\n",
              "41125    53\n",
              "Name: code_region, dtype: object"
            ],
            "text/html": [
              "<div>\n",
              "<style scoped>\n",
              "    .dataframe tbody tr th:only-of-type {\n",
              "        vertical-align: middle;\n",
              "    }\n",
              "\n",
              "    .dataframe tbody tr th {\n",
              "        vertical-align: top;\n",
              "    }\n",
              "\n",
              "    .dataframe thead th {\n",
              "        text-align: right;\n",
              "    }\n",
              "</style>\n",
              "<table border=\"1\" class=\"dataframe\">\n",
              "  <thead>\n",
              "    <tr style=\"text-align: right;\">\n",
              "      <th></th>\n",
              "      <th>code_region</th>\n",
              "    </tr>\n",
              "  </thead>\n",
              "  <tbody>\n",
              "    <tr>\n",
              "      <th>38177</th>\n",
              "      <td>52</td>\n",
              "    </tr>\n",
              "    <tr>\n",
              "      <th>55127</th>\n",
              "      <td>11</td>\n",
              "    </tr>\n",
              "    <tr>\n",
              "      <th>8413</th>\n",
              "      <td>75</td>\n",
              "    </tr>\n",
              "    <tr>\n",
              "      <th>61003</th>\n",
              "      <td>44</td>\n",
              "    </tr>\n",
              "    <tr>\n",
              "      <th>41125</th>\n",
              "      <td>53</td>\n",
              "    </tr>\n",
              "  </tbody>\n",
              "</table>\n",
              "</div><br><label><b>dtype:</b> object</label>"
            ]
          },
          "metadata": {},
          "execution_count": 21
        }
      ]
    },
    {
      "cell_type": "code",
      "source": [
        "print(f\"Valeurs uniques : {len(df['ecole_maternelle'].unique())}\\n\")\n",
        "df['ecole_maternelle'].sample(n=5, random_state=23)"
      ],
      "metadata": {
        "colab": {
          "base_uri": "https://localhost:8080/",
          "height": 276
        },
        "id": "5shsM05aVRCU",
        "outputId": "059823e3-4033-4b09-f4e7-bc24b8d41b08"
      },
      "execution_count": 22,
      "outputs": [
        {
          "output_type": "stream",
          "name": "stdout",
          "text": [
            "Valeurs uniques : 3\n",
            "\n"
          ]
        },
        {
          "output_type": "execute_result",
          "data": {
            "text/plain": [
              "38177    1.0\n",
              "55127    NaN\n",
              "8413     1.0\n",
              "61003    1.0\n",
              "41125    NaN\n",
              "Name: ecole_maternelle, dtype: float64"
            ],
            "text/html": [
              "<div>\n",
              "<style scoped>\n",
              "    .dataframe tbody tr th:only-of-type {\n",
              "        vertical-align: middle;\n",
              "    }\n",
              "\n",
              "    .dataframe tbody tr th {\n",
              "        vertical-align: top;\n",
              "    }\n",
              "\n",
              "    .dataframe thead th {\n",
              "        text-align: right;\n",
              "    }\n",
              "</style>\n",
              "<table border=\"1\" class=\"dataframe\">\n",
              "  <thead>\n",
              "    <tr style=\"text-align: right;\">\n",
              "      <th></th>\n",
              "      <th>ecole_maternelle</th>\n",
              "    </tr>\n",
              "  </thead>\n",
              "  <tbody>\n",
              "    <tr>\n",
              "      <th>38177</th>\n",
              "      <td>1.0</td>\n",
              "    </tr>\n",
              "    <tr>\n",
              "      <th>55127</th>\n",
              "      <td>NaN</td>\n",
              "    </tr>\n",
              "    <tr>\n",
              "      <th>8413</th>\n",
              "      <td>1.0</td>\n",
              "    </tr>\n",
              "    <tr>\n",
              "      <th>61003</th>\n",
              "      <td>1.0</td>\n",
              "    </tr>\n",
              "    <tr>\n",
              "      <th>41125</th>\n",
              "      <td>NaN</td>\n",
              "    </tr>\n",
              "  </tbody>\n",
              "</table>\n",
              "</div><br><label><b>dtype:</b> float64</label>"
            ]
          },
          "metadata": {},
          "execution_count": 22
        }
      ]
    },
    {
      "cell_type": "code",
      "source": [
        "df['ecole_maternelle'].unique()"
      ],
      "metadata": {
        "colab": {
          "base_uri": "https://localhost:8080/"
        },
        "id": "17_ECDVuVRE9",
        "outputId": "cccf3b88-d230-4c2e-c23a-2df2d47eec9b"
      },
      "execution_count": 23,
      "outputs": [
        {
          "output_type": "execute_result",
          "data": {
            "text/plain": [
              "array([ 1.,  0., nan])"
            ]
          },
          "metadata": {},
          "execution_count": 23
        }
      ]
    },
    {
      "cell_type": "code",
      "source": [
        "print(f\"Valeurs uniques : {len(df['ecole_elementaire'].unique())}\\n\")\n",
        "df['ecole_elementaire'].sample(n=5, random_state=23)"
      ],
      "metadata": {
        "colab": {
          "base_uri": "https://localhost:8080/",
          "height": 276
        },
        "id": "wpvGEXtfVRIS",
        "outputId": "843d13c5-4ea7-41fe-bd1d-07852e39b9a7"
      },
      "execution_count": 24,
      "outputs": [
        {
          "output_type": "stream",
          "name": "stdout",
          "text": [
            "Valeurs uniques : 3\n",
            "\n"
          ]
        },
        {
          "output_type": "execute_result",
          "data": {
            "text/plain": [
              "38177    1.0\n",
              "55127    NaN\n",
              "8413     0.0\n",
              "61003    1.0\n",
              "41125    NaN\n",
              "Name: ecole_elementaire, dtype: float64"
            ],
            "text/html": [
              "<div>\n",
              "<style scoped>\n",
              "    .dataframe tbody tr th:only-of-type {\n",
              "        vertical-align: middle;\n",
              "    }\n",
              "\n",
              "    .dataframe tbody tr th {\n",
              "        vertical-align: top;\n",
              "    }\n",
              "\n",
              "    .dataframe thead th {\n",
              "        text-align: right;\n",
              "    }\n",
              "</style>\n",
              "<table border=\"1\" class=\"dataframe\">\n",
              "  <thead>\n",
              "    <tr style=\"text-align: right;\">\n",
              "      <th></th>\n",
              "      <th>ecole_elementaire</th>\n",
              "    </tr>\n",
              "  </thead>\n",
              "  <tbody>\n",
              "    <tr>\n",
              "      <th>38177</th>\n",
              "      <td>1.0</td>\n",
              "    </tr>\n",
              "    <tr>\n",
              "      <th>55127</th>\n",
              "      <td>NaN</td>\n",
              "    </tr>\n",
              "    <tr>\n",
              "      <th>8413</th>\n",
              "      <td>0.0</td>\n",
              "    </tr>\n",
              "    <tr>\n",
              "      <th>61003</th>\n",
              "      <td>1.0</td>\n",
              "    </tr>\n",
              "    <tr>\n",
              "      <th>41125</th>\n",
              "      <td>NaN</td>\n",
              "    </tr>\n",
              "  </tbody>\n",
              "</table>\n",
              "</div><br><label><b>dtype:</b> float64</label>"
            ]
          },
          "metadata": {},
          "execution_count": 24
        }
      ]
    },
    {
      "cell_type": "code",
      "source": [
        "df['ecole_elementaire'].unique()"
      ],
      "metadata": {
        "colab": {
          "base_uri": "https://localhost:8080/"
        },
        "id": "o-ACwVrUs-yd",
        "outputId": "c241f261-db87-444e-c11e-06caa202a655"
      },
      "execution_count": 25,
      "outputs": [
        {
          "output_type": "execute_result",
          "data": {
            "text/plain": [
              "array([ 1.,  0., nan])"
            ]
          },
          "metadata": {},
          "execution_count": 25
        }
      ]
    },
    {
      "cell_type": "code",
      "source": [
        "print(f\"Valeurs uniques : {len(df['voie_generale'].unique())}\\n\")\n",
        "df['voie_generale'].sample(n=5, random_state=23)"
      ],
      "metadata": {
        "colab": {
          "base_uri": "https://localhost:8080/",
          "height": 276
        },
        "id": "Uq7uY6res-2C",
        "outputId": "071376b7-41bd-4c23-e147-90c6659091c2"
      },
      "execution_count": 26,
      "outputs": [
        {
          "output_type": "stream",
          "name": "stdout",
          "text": [
            "Valeurs uniques : 3\n",
            "\n"
          ]
        },
        {
          "output_type": "execute_result",
          "data": {
            "text/plain": [
              "38177    None\n",
              "55127       0\n",
              "8413     None\n",
              "61003    None\n",
              "41125       0\n",
              "Name: voie_generale, dtype: object"
            ],
            "text/html": [
              "<div>\n",
              "<style scoped>\n",
              "    .dataframe tbody tr th:only-of-type {\n",
              "        vertical-align: middle;\n",
              "    }\n",
              "\n",
              "    .dataframe tbody tr th {\n",
              "        vertical-align: top;\n",
              "    }\n",
              "\n",
              "    .dataframe thead th {\n",
              "        text-align: right;\n",
              "    }\n",
              "</style>\n",
              "<table border=\"1\" class=\"dataframe\">\n",
              "  <thead>\n",
              "    <tr style=\"text-align: right;\">\n",
              "      <th></th>\n",
              "      <th>voie_generale</th>\n",
              "    </tr>\n",
              "  </thead>\n",
              "  <tbody>\n",
              "    <tr>\n",
              "      <th>38177</th>\n",
              "      <td>None</td>\n",
              "    </tr>\n",
              "    <tr>\n",
              "      <th>55127</th>\n",
              "      <td>0</td>\n",
              "    </tr>\n",
              "    <tr>\n",
              "      <th>8413</th>\n",
              "      <td>None</td>\n",
              "    </tr>\n",
              "    <tr>\n",
              "      <th>61003</th>\n",
              "      <td>None</td>\n",
              "    </tr>\n",
              "    <tr>\n",
              "      <th>41125</th>\n",
              "      <td>0</td>\n",
              "    </tr>\n",
              "  </tbody>\n",
              "</table>\n",
              "</div><br><label><b>dtype:</b> object</label>"
            ]
          },
          "metadata": {},
          "execution_count": 26
        }
      ]
    },
    {
      "cell_type": "code",
      "source": [
        "df['voie_generale'].unique()"
      ],
      "metadata": {
        "colab": {
          "base_uri": "https://localhost:8080/"
        },
        "id": "w08kToS8s-6m",
        "outputId": "05bfbefa-108d-476f-fbb7-20e9f8680bfc"
      },
      "execution_count": 27,
      "outputs": [
        {
          "output_type": "execute_result",
          "data": {
            "text/plain": [
              "array([None, '0', '1'], dtype=object)"
            ]
          },
          "metadata": {},
          "execution_count": 27
        }
      ]
    },
    {
      "cell_type": "code",
      "source": [
        "print(f\"Valeurs uniques : {len(df['voie_technologique'].unique())}\\n\")\n",
        "df['voie_technologique'].sample(n=5, random_state=23)"
      ],
      "metadata": {
        "colab": {
          "base_uri": "https://localhost:8080/",
          "height": 276
        },
        "id": "aQcGQs61s_BC",
        "outputId": "49b54d32-8ea2-49d5-bb80-cb7d5df58b91"
      },
      "execution_count": 28,
      "outputs": [
        {
          "output_type": "stream",
          "name": "stdout",
          "text": [
            "Valeurs uniques : 3\n",
            "\n"
          ]
        },
        {
          "output_type": "execute_result",
          "data": {
            "text/plain": [
              "38177    None\n",
              "55127       0\n",
              "8413     None\n",
              "61003    None\n",
              "41125       0\n",
              "Name: voie_technologique, dtype: object"
            ],
            "text/html": [
              "<div>\n",
              "<style scoped>\n",
              "    .dataframe tbody tr th:only-of-type {\n",
              "        vertical-align: middle;\n",
              "    }\n",
              "\n",
              "    .dataframe tbody tr th {\n",
              "        vertical-align: top;\n",
              "    }\n",
              "\n",
              "    .dataframe thead th {\n",
              "        text-align: right;\n",
              "    }\n",
              "</style>\n",
              "<table border=\"1\" class=\"dataframe\">\n",
              "  <thead>\n",
              "    <tr style=\"text-align: right;\">\n",
              "      <th></th>\n",
              "      <th>voie_technologique</th>\n",
              "    </tr>\n",
              "  </thead>\n",
              "  <tbody>\n",
              "    <tr>\n",
              "      <th>38177</th>\n",
              "      <td>None</td>\n",
              "    </tr>\n",
              "    <tr>\n",
              "      <th>55127</th>\n",
              "      <td>0</td>\n",
              "    </tr>\n",
              "    <tr>\n",
              "      <th>8413</th>\n",
              "      <td>None</td>\n",
              "    </tr>\n",
              "    <tr>\n",
              "      <th>61003</th>\n",
              "      <td>None</td>\n",
              "    </tr>\n",
              "    <tr>\n",
              "      <th>41125</th>\n",
              "      <td>0</td>\n",
              "    </tr>\n",
              "  </tbody>\n",
              "</table>\n",
              "</div><br><label><b>dtype:</b> object</label>"
            ]
          },
          "metadata": {},
          "execution_count": 28
        }
      ]
    },
    {
      "cell_type": "code",
      "source": [
        "df['voie_technologique'].unique()"
      ],
      "metadata": {
        "colab": {
          "base_uri": "https://localhost:8080/"
        },
        "id": "z1ijZyBZs_Ex",
        "outputId": "456a0a61-fd0a-4862-df59-db6bdc1174cc"
      },
      "execution_count": 29,
      "outputs": [
        {
          "output_type": "execute_result",
          "data": {
            "text/plain": [
              "array([None, '0', '1'], dtype=object)"
            ]
          },
          "metadata": {},
          "execution_count": 29
        }
      ]
    },
    {
      "cell_type": "code",
      "source": [
        "print(f\"Valeurs uniques : {len(df['voie_professionnelle'].unique())}\\n\")\n",
        "df['voie_professionnelle'].sample(n=5, random_state=23)"
      ],
      "metadata": {
        "colab": {
          "base_uri": "https://localhost:8080/",
          "height": 276
        },
        "id": "SHaFNeNMs_Ig",
        "outputId": "66d33c1d-91bd-4424-b882-6bcc4e3ff284"
      },
      "execution_count": 30,
      "outputs": [
        {
          "output_type": "stream",
          "name": "stdout",
          "text": [
            "Valeurs uniques : 3\n",
            "\n"
          ]
        },
        {
          "output_type": "execute_result",
          "data": {
            "text/plain": [
              "38177    None\n",
              "55127       0\n",
              "8413     None\n",
              "61003    None\n",
              "41125       0\n",
              "Name: voie_professionnelle, dtype: object"
            ],
            "text/html": [
              "<div>\n",
              "<style scoped>\n",
              "    .dataframe tbody tr th:only-of-type {\n",
              "        vertical-align: middle;\n",
              "    }\n",
              "\n",
              "    .dataframe tbody tr th {\n",
              "        vertical-align: top;\n",
              "    }\n",
              "\n",
              "    .dataframe thead th {\n",
              "        text-align: right;\n",
              "    }\n",
              "</style>\n",
              "<table border=\"1\" class=\"dataframe\">\n",
              "  <thead>\n",
              "    <tr style=\"text-align: right;\">\n",
              "      <th></th>\n",
              "      <th>voie_professionnelle</th>\n",
              "    </tr>\n",
              "  </thead>\n",
              "  <tbody>\n",
              "    <tr>\n",
              "      <th>38177</th>\n",
              "      <td>None</td>\n",
              "    </tr>\n",
              "    <tr>\n",
              "      <th>55127</th>\n",
              "      <td>0</td>\n",
              "    </tr>\n",
              "    <tr>\n",
              "      <th>8413</th>\n",
              "      <td>None</td>\n",
              "    </tr>\n",
              "    <tr>\n",
              "      <th>61003</th>\n",
              "      <td>None</td>\n",
              "    </tr>\n",
              "    <tr>\n",
              "      <th>41125</th>\n",
              "      <td>0</td>\n",
              "    </tr>\n",
              "  </tbody>\n",
              "</table>\n",
              "</div><br><label><b>dtype:</b> object</label>"
            ]
          },
          "metadata": {},
          "execution_count": 30
        }
      ]
    },
    {
      "cell_type": "code",
      "source": [
        "df['voie_professionnelle'].unique()"
      ],
      "metadata": {
        "colab": {
          "base_uri": "https://localhost:8080/"
        },
        "id": "kSrqFfk9s_Mu",
        "outputId": "aa69f56a-d190-46fc-be01-eb39994d019d"
      },
      "execution_count": 31,
      "outputs": [
        {
          "output_type": "execute_result",
          "data": {
            "text/plain": [
              "array([None, '0', '1'], dtype=object)"
            ]
          },
          "metadata": {},
          "execution_count": 31
        }
      ]
    },
    {
      "cell_type": "code",
      "source": [
        "print(f\"Valeurs uniques : {len(df['telephone'].unique())}\\n\")\n",
        "df['telephone'].sample(n=5, random_state=23)"
      ],
      "metadata": {
        "colab": {
          "base_uri": "https://localhost:8080/",
          "height": 276
        },
        "id": "fzXL5-dSs_Qv",
        "outputId": "2f7a4bb1-0c5e-4040-a0a9-e32105bced3c"
      },
      "execution_count": 32,
      "outputs": [
        {
          "output_type": "stream",
          "name": "stdout",
          "text": [
            "Valeurs uniques : 65978\n",
            "\n"
          ]
        },
        {
          "output_type": "execute_result",
          "data": {
            "text/plain": [
              "38177        0249890343\n",
              "55127    01 34 18 38 00\n",
              "8413         0556862417\n",
              "61003        0324723116\n",
              "41125    02 98 49 09 65\n",
              "Name: telephone, dtype: object"
            ],
            "text/html": [
              "<div>\n",
              "<style scoped>\n",
              "    .dataframe tbody tr th:only-of-type {\n",
              "        vertical-align: middle;\n",
              "    }\n",
              "\n",
              "    .dataframe tbody tr th {\n",
              "        vertical-align: top;\n",
              "    }\n",
              "\n",
              "    .dataframe thead th {\n",
              "        text-align: right;\n",
              "    }\n",
              "</style>\n",
              "<table border=\"1\" class=\"dataframe\">\n",
              "  <thead>\n",
              "    <tr style=\"text-align: right;\">\n",
              "      <th></th>\n",
              "      <th>telephone</th>\n",
              "    </tr>\n",
              "  </thead>\n",
              "  <tbody>\n",
              "    <tr>\n",
              "      <th>38177</th>\n",
              "      <td>0249890343</td>\n",
              "    </tr>\n",
              "    <tr>\n",
              "      <th>55127</th>\n",
              "      <td>01 34 18 38 00</td>\n",
              "    </tr>\n",
              "    <tr>\n",
              "      <th>8413</th>\n",
              "      <td>0556862417</td>\n",
              "    </tr>\n",
              "    <tr>\n",
              "      <th>61003</th>\n",
              "      <td>0324723116</td>\n",
              "    </tr>\n",
              "    <tr>\n",
              "      <th>41125</th>\n",
              "      <td>02 98 49 09 65</td>\n",
              "    </tr>\n",
              "  </tbody>\n",
              "</table>\n",
              "</div><br><label><b>dtype:</b> object</label>"
            ]
          },
          "metadata": {},
          "execution_count": 32
        }
      ]
    },
    {
      "cell_type": "code",
      "source": [
        "print(f\"Valeurs uniques : {len(df['fax'].unique())}\\n\")\n",
        "df['fax'].sample(n=5, random_state=23)"
      ],
      "metadata": {
        "colab": {
          "base_uri": "https://localhost:8080/",
          "height": 276
        },
        "id": "kQhVBkBws_U8",
        "outputId": "f1591108-d86e-4824-dd5f-144c8d279d05"
      },
      "execution_count": 33,
      "outputs": [
        {
          "output_type": "stream",
          "name": "stdout",
          "text": [
            "Valeurs uniques : 9653\n",
            "\n"
          ]
        },
        {
          "output_type": "execute_result",
          "data": {
            "text/plain": [
              "38177              None\n",
              "55127    01 39 60 28 88\n",
              "8413               None\n",
              "61003              None\n",
              "41125    02 98 45 94 55\n",
              "Name: fax, dtype: object"
            ],
            "text/html": [
              "<div>\n",
              "<style scoped>\n",
              "    .dataframe tbody tr th:only-of-type {\n",
              "        vertical-align: middle;\n",
              "    }\n",
              "\n",
              "    .dataframe tbody tr th {\n",
              "        vertical-align: top;\n",
              "    }\n",
              "\n",
              "    .dataframe thead th {\n",
              "        text-align: right;\n",
              "    }\n",
              "</style>\n",
              "<table border=\"1\" class=\"dataframe\">\n",
              "  <thead>\n",
              "    <tr style=\"text-align: right;\">\n",
              "      <th></th>\n",
              "      <th>fax</th>\n",
              "    </tr>\n",
              "  </thead>\n",
              "  <tbody>\n",
              "    <tr>\n",
              "      <th>38177</th>\n",
              "      <td>None</td>\n",
              "    </tr>\n",
              "    <tr>\n",
              "      <th>55127</th>\n",
              "      <td>01 39 60 28 88</td>\n",
              "    </tr>\n",
              "    <tr>\n",
              "      <th>8413</th>\n",
              "      <td>None</td>\n",
              "    </tr>\n",
              "    <tr>\n",
              "      <th>61003</th>\n",
              "      <td>None</td>\n",
              "    </tr>\n",
              "    <tr>\n",
              "      <th>41125</th>\n",
              "      <td>02 98 45 94 55</td>\n",
              "    </tr>\n",
              "  </tbody>\n",
              "</table>\n",
              "</div><br><label><b>dtype:</b> object</label>"
            ]
          },
          "metadata": {},
          "execution_count": 33
        }
      ]
    },
    {
      "cell_type": "code",
      "source": [
        "print(f\"Valeurs uniques : {len(df['web'].unique())}\\n\")\n",
        "df['web'].sample(n=5, random_state=23)"
      ],
      "metadata": {
        "colab": {
          "base_uri": "https://localhost:8080/",
          "height": 276
        },
        "id": "FHSDiizXjDLo",
        "outputId": "978327ed-4b2b-4551-9974-fedb9ae5d799"
      },
      "execution_count": 34,
      "outputs": [
        {
          "output_type": "stream",
          "name": "stdout",
          "text": [
            "Valeurs uniques : 10437\n",
            "\n"
          ]
        },
        {
          "output_type": "execute_result",
          "data": {
            "text/plain": [
              "38177                                                 None\n",
              "55127                          http://www.bury-rosaire.fr/\n",
              "8413                                                  None\n",
              "61003                                                 None\n",
              "41125    http://www.college-kerallan-plouzane.ac-rennes.fr\n",
              "Name: web, dtype: object"
            ],
            "text/html": [
              "<div>\n",
              "<style scoped>\n",
              "    .dataframe tbody tr th:only-of-type {\n",
              "        vertical-align: middle;\n",
              "    }\n",
              "\n",
              "    .dataframe tbody tr th {\n",
              "        vertical-align: top;\n",
              "    }\n",
              "\n",
              "    .dataframe thead th {\n",
              "        text-align: right;\n",
              "    }\n",
              "</style>\n",
              "<table border=\"1\" class=\"dataframe\">\n",
              "  <thead>\n",
              "    <tr style=\"text-align: right;\">\n",
              "      <th></th>\n",
              "      <th>web</th>\n",
              "    </tr>\n",
              "  </thead>\n",
              "  <tbody>\n",
              "    <tr>\n",
              "      <th>38177</th>\n",
              "      <td>None</td>\n",
              "    </tr>\n",
              "    <tr>\n",
              "      <th>55127</th>\n",
              "      <td>http://www.bury-rosaire.fr/</td>\n",
              "    </tr>\n",
              "    <tr>\n",
              "      <th>8413</th>\n",
              "      <td>None</td>\n",
              "    </tr>\n",
              "    <tr>\n",
              "      <th>61003</th>\n",
              "      <td>None</td>\n",
              "    </tr>\n",
              "    <tr>\n",
              "      <th>41125</th>\n",
              "      <td>http://www.college-kerallan-plouzane.ac-rennes.fr</td>\n",
              "    </tr>\n",
              "  </tbody>\n",
              "</table>\n",
              "</div><br><label><b>dtype:</b> object</label>"
            ]
          },
          "metadata": {},
          "execution_count": 34
        }
      ]
    },
    {
      "cell_type": "code",
      "source": [
        "print(f\"Valeurs uniques : {len(df['mail'].unique())}\\n\")\n",
        "df['mail'].sample(n=5, random_state=23)"
      ],
      "metadata": {
        "colab": {
          "base_uri": "https://localhost:8080/",
          "height": 276
        },
        "id": "8Ku7CM1hjDTo",
        "outputId": "55cefaa1-39b0-4fb3-ef92-5c1b55f7105d"
      },
      "execution_count": 35,
      "outputs": [
        {
          "output_type": "stream",
          "name": "stdout",
          "text": [
            "Valeurs uniques : 66968\n",
            "\n"
          ]
        },
        {
          "output_type": "execute_result",
          "data": {
            "text/plain": [
              "38177      ce.0492513R@ac-nantes.fr\n",
              "55127     0950763N@ac-versailles.fr\n",
              "8413     ce.0332079F@ac-bordeaux.fr\n",
              "61003       ce.0080498Y@ac-reims.fr\n",
              "41125      ce.0291929p@ac-rennes.fr\n",
              "Name: mail, dtype: object"
            ],
            "text/html": [
              "<div>\n",
              "<style scoped>\n",
              "    .dataframe tbody tr th:only-of-type {\n",
              "        vertical-align: middle;\n",
              "    }\n",
              "\n",
              "    .dataframe tbody tr th {\n",
              "        vertical-align: top;\n",
              "    }\n",
              "\n",
              "    .dataframe thead th {\n",
              "        text-align: right;\n",
              "    }\n",
              "</style>\n",
              "<table border=\"1\" class=\"dataframe\">\n",
              "  <thead>\n",
              "    <tr style=\"text-align: right;\">\n",
              "      <th></th>\n",
              "      <th>mail</th>\n",
              "    </tr>\n",
              "  </thead>\n",
              "  <tbody>\n",
              "    <tr>\n",
              "      <th>38177</th>\n",
              "      <td>ce.0492513R@ac-nantes.fr</td>\n",
              "    </tr>\n",
              "    <tr>\n",
              "      <th>55127</th>\n",
              "      <td>0950763N@ac-versailles.fr</td>\n",
              "    </tr>\n",
              "    <tr>\n",
              "      <th>8413</th>\n",
              "      <td>ce.0332079F@ac-bordeaux.fr</td>\n",
              "    </tr>\n",
              "    <tr>\n",
              "      <th>61003</th>\n",
              "      <td>ce.0080498Y@ac-reims.fr</td>\n",
              "    </tr>\n",
              "    <tr>\n",
              "      <th>41125</th>\n",
              "      <td>ce.0291929p@ac-rennes.fr</td>\n",
              "    </tr>\n",
              "  </tbody>\n",
              "</table>\n",
              "</div><br><label><b>dtype:</b> object</label>"
            ]
          },
          "metadata": {},
          "execution_count": 35
        }
      ]
    },
    {
      "cell_type": "code",
      "source": [
        "print(f\"Valeurs uniques : {len(df['restauration'].unique())}\\n\")\n",
        "df['restauration'].sample(n=5, random_state=23)"
      ],
      "metadata": {
        "colab": {
          "base_uri": "https://localhost:8080/",
          "height": 276
        },
        "id": "uvWZB3rpjDaV",
        "outputId": "5a7b1a73-7e66-4be1-b79d-e5b3a363148e"
      },
      "execution_count": 36,
      "outputs": [
        {
          "output_type": "stream",
          "name": "stdout",
          "text": [
            "Valeurs uniques : 3\n",
            "\n"
          ]
        },
        {
          "output_type": "execute_result",
          "data": {
            "text/plain": [
              "38177    1.0\n",
              "55127    1.0\n",
              "8413     1.0\n",
              "61003    0.0\n",
              "41125    1.0\n",
              "Name: restauration, dtype: float64"
            ],
            "text/html": [
              "<div>\n",
              "<style scoped>\n",
              "    .dataframe tbody tr th:only-of-type {\n",
              "        vertical-align: middle;\n",
              "    }\n",
              "\n",
              "    .dataframe tbody tr th {\n",
              "        vertical-align: top;\n",
              "    }\n",
              "\n",
              "    .dataframe thead th {\n",
              "        text-align: right;\n",
              "    }\n",
              "</style>\n",
              "<table border=\"1\" class=\"dataframe\">\n",
              "  <thead>\n",
              "    <tr style=\"text-align: right;\">\n",
              "      <th></th>\n",
              "      <th>restauration</th>\n",
              "    </tr>\n",
              "  </thead>\n",
              "  <tbody>\n",
              "    <tr>\n",
              "      <th>38177</th>\n",
              "      <td>1.0</td>\n",
              "    </tr>\n",
              "    <tr>\n",
              "      <th>55127</th>\n",
              "      <td>1.0</td>\n",
              "    </tr>\n",
              "    <tr>\n",
              "      <th>8413</th>\n",
              "      <td>1.0</td>\n",
              "    </tr>\n",
              "    <tr>\n",
              "      <th>61003</th>\n",
              "      <td>0.0</td>\n",
              "    </tr>\n",
              "    <tr>\n",
              "      <th>41125</th>\n",
              "      <td>1.0</td>\n",
              "    </tr>\n",
              "  </tbody>\n",
              "</table>\n",
              "</div><br><label><b>dtype:</b> float64</label>"
            ]
          },
          "metadata": {},
          "execution_count": 36
        }
      ]
    },
    {
      "cell_type": "code",
      "source": [
        "df['restauration'].unique()"
      ],
      "metadata": {
        "colab": {
          "base_uri": "https://localhost:8080/"
        },
        "id": "xgMeS7F9jDh7",
        "outputId": "c26b108f-80e4-4d61-cede-aa8c04921aa7"
      },
      "execution_count": 37,
      "outputs": [
        {
          "output_type": "execute_result",
          "data": {
            "text/plain": [
              "array([ 1.,  0., nan])"
            ]
          },
          "metadata": {},
          "execution_count": 37
        }
      ]
    },
    {
      "cell_type": "code",
      "source": [
        "print(f\"Valeurs uniques : {len(df['hebergement'].unique())}\\n\")\n",
        "df['hebergement'].sample(n=5, random_state=23)"
      ],
      "metadata": {
        "colab": {
          "base_uri": "https://localhost:8080/",
          "height": 276
        },
        "id": "SvqmWrXBjDo4",
        "outputId": "63c1da3e-26dc-4df7-9f00-7d52c4288ec7"
      },
      "execution_count": 38,
      "outputs": [
        {
          "output_type": "stream",
          "name": "stdout",
          "text": [
            "Valeurs uniques : 3\n",
            "\n"
          ]
        },
        {
          "output_type": "execute_result",
          "data": {
            "text/plain": [
              "38177    0.0\n",
              "55127    0.0\n",
              "8413     0.0\n",
              "61003    0.0\n",
              "41125    0.0\n",
              "Name: hebergement, dtype: float64"
            ],
            "text/html": [
              "<div>\n",
              "<style scoped>\n",
              "    .dataframe tbody tr th:only-of-type {\n",
              "        vertical-align: middle;\n",
              "    }\n",
              "\n",
              "    .dataframe tbody tr th {\n",
              "        vertical-align: top;\n",
              "    }\n",
              "\n",
              "    .dataframe thead th {\n",
              "        text-align: right;\n",
              "    }\n",
              "</style>\n",
              "<table border=\"1\" class=\"dataframe\">\n",
              "  <thead>\n",
              "    <tr style=\"text-align: right;\">\n",
              "      <th></th>\n",
              "      <th>hebergement</th>\n",
              "    </tr>\n",
              "  </thead>\n",
              "  <tbody>\n",
              "    <tr>\n",
              "      <th>38177</th>\n",
              "      <td>0.0</td>\n",
              "    </tr>\n",
              "    <tr>\n",
              "      <th>55127</th>\n",
              "      <td>0.0</td>\n",
              "    </tr>\n",
              "    <tr>\n",
              "      <th>8413</th>\n",
              "      <td>0.0</td>\n",
              "    </tr>\n",
              "    <tr>\n",
              "      <th>61003</th>\n",
              "      <td>0.0</td>\n",
              "    </tr>\n",
              "    <tr>\n",
              "      <th>41125</th>\n",
              "      <td>0.0</td>\n",
              "    </tr>\n",
              "  </tbody>\n",
              "</table>\n",
              "</div><br><label><b>dtype:</b> float64</label>"
            ]
          },
          "metadata": {},
          "execution_count": 38
        }
      ]
    },
    {
      "cell_type": "code",
      "source": [
        "df['hebergement'].unique()"
      ],
      "metadata": {
        "colab": {
          "base_uri": "https://localhost:8080/"
        },
        "id": "KcoGWc_vjDvo",
        "outputId": "05d5e02a-9620-4d4e-d665-4bb7b1bac460"
      },
      "execution_count": 39,
      "outputs": [
        {
          "output_type": "execute_result",
          "data": {
            "text/plain": [
              "array([ 0.,  1., nan])"
            ]
          },
          "metadata": {},
          "execution_count": 39
        }
      ]
    },
    {
      "cell_type": "code",
      "source": [
        "print(f\"Valeurs uniques : {len(df['ulis'].unique())}\\n\")\n",
        "df['ulis'].sample(n=5, random_state=23)"
      ],
      "metadata": {
        "id": "20stwmh2jD27",
        "colab": {
          "base_uri": "https://localhost:8080/",
          "height": 276
        },
        "outputId": "7a897626-a42e-486e-d24f-5e4f19942b11"
      },
      "execution_count": 40,
      "outputs": [
        {
          "output_type": "stream",
          "name": "stdout",
          "text": [
            "Valeurs uniques : 3\n",
            "\n"
          ]
        },
        {
          "output_type": "execute_result",
          "data": {
            "text/plain": [
              "38177    0.0\n",
              "55127    0.0\n",
              "8413     0.0\n",
              "61003    0.0\n",
              "41125    0.0\n",
              "Name: ulis, dtype: float64"
            ],
            "text/html": [
              "<div>\n",
              "<style scoped>\n",
              "    .dataframe tbody tr th:only-of-type {\n",
              "        vertical-align: middle;\n",
              "    }\n",
              "\n",
              "    .dataframe tbody tr th {\n",
              "        vertical-align: top;\n",
              "    }\n",
              "\n",
              "    .dataframe thead th {\n",
              "        text-align: right;\n",
              "    }\n",
              "</style>\n",
              "<table border=\"1\" class=\"dataframe\">\n",
              "  <thead>\n",
              "    <tr style=\"text-align: right;\">\n",
              "      <th></th>\n",
              "      <th>ulis</th>\n",
              "    </tr>\n",
              "  </thead>\n",
              "  <tbody>\n",
              "    <tr>\n",
              "      <th>38177</th>\n",
              "      <td>0.0</td>\n",
              "    </tr>\n",
              "    <tr>\n",
              "      <th>55127</th>\n",
              "      <td>0.0</td>\n",
              "    </tr>\n",
              "    <tr>\n",
              "      <th>8413</th>\n",
              "      <td>0.0</td>\n",
              "    </tr>\n",
              "    <tr>\n",
              "      <th>61003</th>\n",
              "      <td>0.0</td>\n",
              "    </tr>\n",
              "    <tr>\n",
              "      <th>41125</th>\n",
              "      <td>0.0</td>\n",
              "    </tr>\n",
              "  </tbody>\n",
              "</table>\n",
              "</div><br><label><b>dtype:</b> float64</label>"
            ]
          },
          "metadata": {},
          "execution_count": 40
        }
      ]
    },
    {
      "cell_type": "code",
      "source": [
        "df['ulis'].unique()"
      ],
      "metadata": {
        "id": "ye4_S1CPjD_E",
        "colab": {
          "base_uri": "https://localhost:8080/"
        },
        "outputId": "e5c6590d-ca8c-4a5c-a1ce-538f46ff741b"
      },
      "execution_count": 41,
      "outputs": [
        {
          "output_type": "execute_result",
          "data": {
            "text/plain": [
              "array([ 0.,  1., nan])"
            ]
          },
          "metadata": {},
          "execution_count": 41
        }
      ]
    },
    {
      "cell_type": "code",
      "source": [
        "print(f\"Valeurs uniques : {len(df['apprentissage'].unique())}\\n\")\n",
        "df['apprentissage'].sample(n=5, random_state=23)"
      ],
      "metadata": {
        "id": "9TAOp256jEH1",
        "colab": {
          "base_uri": "https://localhost:8080/",
          "height": 276
        },
        "outputId": "293f0f74-071d-4b09-9214-85aa68f58d7f"
      },
      "execution_count": 42,
      "outputs": [
        {
          "output_type": "stream",
          "name": "stdout",
          "text": [
            "Valeurs uniques : 3\n",
            "\n"
          ]
        },
        {
          "output_type": "execute_result",
          "data": {
            "text/plain": [
              "38177    None\n",
              "55127       0\n",
              "8413     None\n",
              "61003    None\n",
              "41125       0\n",
              "Name: apprentissage, dtype: object"
            ],
            "text/html": [
              "<div>\n",
              "<style scoped>\n",
              "    .dataframe tbody tr th:only-of-type {\n",
              "        vertical-align: middle;\n",
              "    }\n",
              "\n",
              "    .dataframe tbody tr th {\n",
              "        vertical-align: top;\n",
              "    }\n",
              "\n",
              "    .dataframe thead th {\n",
              "        text-align: right;\n",
              "    }\n",
              "</style>\n",
              "<table border=\"1\" class=\"dataframe\">\n",
              "  <thead>\n",
              "    <tr style=\"text-align: right;\">\n",
              "      <th></th>\n",
              "      <th>apprentissage</th>\n",
              "    </tr>\n",
              "  </thead>\n",
              "  <tbody>\n",
              "    <tr>\n",
              "      <th>38177</th>\n",
              "      <td>None</td>\n",
              "    </tr>\n",
              "    <tr>\n",
              "      <th>55127</th>\n",
              "      <td>0</td>\n",
              "    </tr>\n",
              "    <tr>\n",
              "      <th>8413</th>\n",
              "      <td>None</td>\n",
              "    </tr>\n",
              "    <tr>\n",
              "      <th>61003</th>\n",
              "      <td>None</td>\n",
              "    </tr>\n",
              "    <tr>\n",
              "      <th>41125</th>\n",
              "      <td>0</td>\n",
              "    </tr>\n",
              "  </tbody>\n",
              "</table>\n",
              "</div><br><label><b>dtype:</b> object</label>"
            ]
          },
          "metadata": {},
          "execution_count": 42
        }
      ]
    },
    {
      "cell_type": "code",
      "source": [
        "df['apprentissage'].unique()"
      ],
      "metadata": {
        "id": "V5ZM4wuAjENP",
        "colab": {
          "base_uri": "https://localhost:8080/"
        },
        "outputId": "5cf73be4-8222-4a6b-fa0e-665ada48c402"
      },
      "execution_count": 43,
      "outputs": [
        {
          "output_type": "execute_result",
          "data": {
            "text/plain": [
              "array([None, '0', '1'], dtype=object)"
            ]
          },
          "metadata": {},
          "execution_count": 43
        }
      ]
    },
    {
      "cell_type": "code",
      "source": [
        "print(f\"Valeurs uniques : {len(df['segpa'].unique())}\\n\")\n",
        "df['segpa'].sample(n=5, random_state=23)"
      ],
      "metadata": {
        "id": "JDndnpZhs_Y6",
        "colab": {
          "base_uri": "https://localhost:8080/",
          "height": 276
        },
        "outputId": "ba5a1bba-5007-45ee-a93c-8703aa339756"
      },
      "execution_count": 44,
      "outputs": [
        {
          "output_type": "stream",
          "name": "stdout",
          "text": [
            "Valeurs uniques : 3\n",
            "\n"
          ]
        },
        {
          "output_type": "execute_result",
          "data": {
            "text/plain": [
              "38177    None\n",
              "55127       0\n",
              "8413     None\n",
              "61003    None\n",
              "41125       0\n",
              "Name: segpa, dtype: object"
            ],
            "text/html": [
              "<div>\n",
              "<style scoped>\n",
              "    .dataframe tbody tr th:only-of-type {\n",
              "        vertical-align: middle;\n",
              "    }\n",
              "\n",
              "    .dataframe tbody tr th {\n",
              "        vertical-align: top;\n",
              "    }\n",
              "\n",
              "    .dataframe thead th {\n",
              "        text-align: right;\n",
              "    }\n",
              "</style>\n",
              "<table border=\"1\" class=\"dataframe\">\n",
              "  <thead>\n",
              "    <tr style=\"text-align: right;\">\n",
              "      <th></th>\n",
              "      <th>segpa</th>\n",
              "    </tr>\n",
              "  </thead>\n",
              "  <tbody>\n",
              "    <tr>\n",
              "      <th>38177</th>\n",
              "      <td>None</td>\n",
              "    </tr>\n",
              "    <tr>\n",
              "      <th>55127</th>\n",
              "      <td>0</td>\n",
              "    </tr>\n",
              "    <tr>\n",
              "      <th>8413</th>\n",
              "      <td>None</td>\n",
              "    </tr>\n",
              "    <tr>\n",
              "      <th>61003</th>\n",
              "      <td>None</td>\n",
              "    </tr>\n",
              "    <tr>\n",
              "      <th>41125</th>\n",
              "      <td>0</td>\n",
              "    </tr>\n",
              "  </tbody>\n",
              "</table>\n",
              "</div><br><label><b>dtype:</b> object</label>"
            ]
          },
          "metadata": {},
          "execution_count": 44
        }
      ]
    },
    {
      "cell_type": "code",
      "source": [
        "df['segpa'].unique()"
      ],
      "metadata": {
        "colab": {
          "base_uri": "https://localhost:8080/"
        },
        "id": "8jxrSXriJrey",
        "outputId": "ec5abc02-5be4-4efa-e559-a6f09ee5cbff"
      },
      "execution_count": 45,
      "outputs": [
        {
          "output_type": "execute_result",
          "data": {
            "text/plain": [
              "array([None, '0', '1'], dtype=object)"
            ]
          },
          "metadata": {},
          "execution_count": 45
        }
      ]
    },
    {
      "cell_type": "code",
      "source": [
        "print(f\"Valeurs uniques : {len(df['section_arts'].unique())}\\n\")\n",
        "df['section_arts'].sample(n=5, random_state=23)"
      ],
      "metadata": {
        "colab": {
          "base_uri": "https://localhost:8080/",
          "height": 276
        },
        "id": "ty8ucuFqJrmh",
        "outputId": "0463c4c0-3c2c-4219-f259-27bdf7fc960b"
      },
      "execution_count": 46,
      "outputs": [
        {
          "output_type": "stream",
          "name": "stdout",
          "text": [
            "Valeurs uniques : 3\n",
            "\n"
          ]
        },
        {
          "output_type": "execute_result",
          "data": {
            "text/plain": [
              "38177    None\n",
              "55127       0\n",
              "8413     None\n",
              "61003    None\n",
              "41125       0\n",
              "Name: section_arts, dtype: object"
            ],
            "text/html": [
              "<div>\n",
              "<style scoped>\n",
              "    .dataframe tbody tr th:only-of-type {\n",
              "        vertical-align: middle;\n",
              "    }\n",
              "\n",
              "    .dataframe tbody tr th {\n",
              "        vertical-align: top;\n",
              "    }\n",
              "\n",
              "    .dataframe thead th {\n",
              "        text-align: right;\n",
              "    }\n",
              "</style>\n",
              "<table border=\"1\" class=\"dataframe\">\n",
              "  <thead>\n",
              "    <tr style=\"text-align: right;\">\n",
              "      <th></th>\n",
              "      <th>section_arts</th>\n",
              "    </tr>\n",
              "  </thead>\n",
              "  <tbody>\n",
              "    <tr>\n",
              "      <th>38177</th>\n",
              "      <td>None</td>\n",
              "    </tr>\n",
              "    <tr>\n",
              "      <th>55127</th>\n",
              "      <td>0</td>\n",
              "    </tr>\n",
              "    <tr>\n",
              "      <th>8413</th>\n",
              "      <td>None</td>\n",
              "    </tr>\n",
              "    <tr>\n",
              "      <th>61003</th>\n",
              "      <td>None</td>\n",
              "    </tr>\n",
              "    <tr>\n",
              "      <th>41125</th>\n",
              "      <td>0</td>\n",
              "    </tr>\n",
              "  </tbody>\n",
              "</table>\n",
              "</div><br><label><b>dtype:</b> object</label>"
            ]
          },
          "metadata": {},
          "execution_count": 46
        }
      ]
    },
    {
      "cell_type": "code",
      "source": [
        "df['section_arts'].unique()"
      ],
      "metadata": {
        "colab": {
          "base_uri": "https://localhost:8080/"
        },
        "id": "zS9-LOoBKXSv",
        "outputId": "41bfcba6-c49a-41fd-c81a-83729ea1c0f1"
      },
      "execution_count": 47,
      "outputs": [
        {
          "output_type": "execute_result",
          "data": {
            "text/plain": [
              "array([None, '0', '1'], dtype=object)"
            ]
          },
          "metadata": {},
          "execution_count": 47
        }
      ]
    },
    {
      "cell_type": "code",
      "source": [
        "print(f\"Valeurs uniques : {len(df['section_cinema'].unique())}\\n\")\n",
        "df['section_cinema'].sample(n=5, random_state=23)"
      ],
      "metadata": {
        "colab": {
          "base_uri": "https://localhost:8080/",
          "height": 276
        },
        "id": "a9ENKlo0Jrte",
        "outputId": "f71815d6-40f4-4642-f5b7-7290b0c5cbd2"
      },
      "execution_count": 48,
      "outputs": [
        {
          "output_type": "stream",
          "name": "stdout",
          "text": [
            "Valeurs uniques : 3\n",
            "\n"
          ]
        },
        {
          "output_type": "execute_result",
          "data": {
            "text/plain": [
              "38177    None\n",
              "55127       0\n",
              "8413     None\n",
              "61003    None\n",
              "41125       0\n",
              "Name: section_cinema, dtype: object"
            ],
            "text/html": [
              "<div>\n",
              "<style scoped>\n",
              "    .dataframe tbody tr th:only-of-type {\n",
              "        vertical-align: middle;\n",
              "    }\n",
              "\n",
              "    .dataframe tbody tr th {\n",
              "        vertical-align: top;\n",
              "    }\n",
              "\n",
              "    .dataframe thead th {\n",
              "        text-align: right;\n",
              "    }\n",
              "</style>\n",
              "<table border=\"1\" class=\"dataframe\">\n",
              "  <thead>\n",
              "    <tr style=\"text-align: right;\">\n",
              "      <th></th>\n",
              "      <th>section_cinema</th>\n",
              "    </tr>\n",
              "  </thead>\n",
              "  <tbody>\n",
              "    <tr>\n",
              "      <th>38177</th>\n",
              "      <td>None</td>\n",
              "    </tr>\n",
              "    <tr>\n",
              "      <th>55127</th>\n",
              "      <td>0</td>\n",
              "    </tr>\n",
              "    <tr>\n",
              "      <th>8413</th>\n",
              "      <td>None</td>\n",
              "    </tr>\n",
              "    <tr>\n",
              "      <th>61003</th>\n",
              "      <td>None</td>\n",
              "    </tr>\n",
              "    <tr>\n",
              "      <th>41125</th>\n",
              "      <td>0</td>\n",
              "    </tr>\n",
              "  </tbody>\n",
              "</table>\n",
              "</div><br><label><b>dtype:</b> object</label>"
            ]
          },
          "metadata": {},
          "execution_count": 48
        }
      ]
    },
    {
      "cell_type": "code",
      "source": [
        "df['section_cinema'].unique()"
      ],
      "metadata": {
        "colab": {
          "base_uri": "https://localhost:8080/"
        },
        "id": "gJzOvZ__Jr07",
        "outputId": "2878c101-ed30-411b-fd85-1edcac6ed06a"
      },
      "execution_count": 49,
      "outputs": [
        {
          "output_type": "execute_result",
          "data": {
            "text/plain": [
              "array([None, '0', '1'], dtype=object)"
            ]
          },
          "metadata": {},
          "execution_count": 49
        }
      ]
    },
    {
      "cell_type": "code",
      "source": [
        "print(f\"Valeurs uniques : {len(df['section_theatre'].unique())}\\n\")\n",
        "df['section_theatre'].sample(n=5, random_state=23)"
      ],
      "metadata": {
        "colab": {
          "base_uri": "https://localhost:8080/",
          "height": 276
        },
        "id": "1rFSdlF_Jr8A",
        "outputId": "c79ea582-7e53-4896-e6e1-1a7ea86f0bc6"
      },
      "execution_count": 59,
      "outputs": [
        {
          "output_type": "stream",
          "name": "stdout",
          "text": [
            "Valeurs uniques : 3\n",
            "\n"
          ]
        },
        {
          "output_type": "execute_result",
          "data": {
            "text/plain": [
              "38177    None\n",
              "55127       0\n",
              "8413     None\n",
              "61003    None\n",
              "41125       0\n",
              "Name: section_theatre, dtype: object"
            ],
            "text/html": [
              "<div>\n",
              "<style scoped>\n",
              "    .dataframe tbody tr th:only-of-type {\n",
              "        vertical-align: middle;\n",
              "    }\n",
              "\n",
              "    .dataframe tbody tr th {\n",
              "        vertical-align: top;\n",
              "    }\n",
              "\n",
              "    .dataframe thead th {\n",
              "        text-align: right;\n",
              "    }\n",
              "</style>\n",
              "<table border=\"1\" class=\"dataframe\">\n",
              "  <thead>\n",
              "    <tr style=\"text-align: right;\">\n",
              "      <th></th>\n",
              "      <th>section_theatre</th>\n",
              "    </tr>\n",
              "  </thead>\n",
              "  <tbody>\n",
              "    <tr>\n",
              "      <th>38177</th>\n",
              "      <td>None</td>\n",
              "    </tr>\n",
              "    <tr>\n",
              "      <th>55127</th>\n",
              "      <td>0</td>\n",
              "    </tr>\n",
              "    <tr>\n",
              "      <th>8413</th>\n",
              "      <td>None</td>\n",
              "    </tr>\n",
              "    <tr>\n",
              "      <th>61003</th>\n",
              "      <td>None</td>\n",
              "    </tr>\n",
              "    <tr>\n",
              "      <th>41125</th>\n",
              "      <td>0</td>\n",
              "    </tr>\n",
              "  </tbody>\n",
              "</table>\n",
              "</div><br><label><b>dtype:</b> object</label>"
            ]
          },
          "metadata": {},
          "execution_count": 59
        }
      ]
    },
    {
      "cell_type": "code",
      "source": [
        "df['section_theatre'].unique()"
      ],
      "metadata": {
        "colab": {
          "base_uri": "https://localhost:8080/"
        },
        "id": "2ApKmuZyJsDZ",
        "outputId": "6212dc01-2367-4ffd-c969-7a5d997227e1"
      },
      "execution_count": 60,
      "outputs": [
        {
          "output_type": "execute_result",
          "data": {
            "text/plain": [
              "array([None, '0', '1'], dtype=object)"
            ]
          },
          "metadata": {},
          "execution_count": 60
        }
      ]
    },
    {
      "cell_type": "code",
      "source": [
        "print(f\"Valeurs uniques : {len(df['section_sport'].unique())}\\n\")\n",
        "df['section_sport'].sample(n=5, random_state=23)"
      ],
      "metadata": {
        "colab": {
          "base_uri": "https://localhost:8080/",
          "height": 276
        },
        "id": "cSwMaD8aJsKs",
        "outputId": "d7d31df2-86ea-4dec-cd88-a46c26dc5428"
      },
      "execution_count": 61,
      "outputs": [
        {
          "output_type": "stream",
          "name": "stdout",
          "text": [
            "Valeurs uniques : 3\n",
            "\n"
          ]
        },
        {
          "output_type": "execute_result",
          "data": {
            "text/plain": [
              "38177    None\n",
              "55127       0\n",
              "8413     None\n",
              "61003    None\n",
              "41125       0\n",
              "Name: section_sport, dtype: object"
            ],
            "text/html": [
              "<div>\n",
              "<style scoped>\n",
              "    .dataframe tbody tr th:only-of-type {\n",
              "        vertical-align: middle;\n",
              "    }\n",
              "\n",
              "    .dataframe tbody tr th {\n",
              "        vertical-align: top;\n",
              "    }\n",
              "\n",
              "    .dataframe thead th {\n",
              "        text-align: right;\n",
              "    }\n",
              "</style>\n",
              "<table border=\"1\" class=\"dataframe\">\n",
              "  <thead>\n",
              "    <tr style=\"text-align: right;\">\n",
              "      <th></th>\n",
              "      <th>section_sport</th>\n",
              "    </tr>\n",
              "  </thead>\n",
              "  <tbody>\n",
              "    <tr>\n",
              "      <th>38177</th>\n",
              "      <td>None</td>\n",
              "    </tr>\n",
              "    <tr>\n",
              "      <th>55127</th>\n",
              "      <td>0</td>\n",
              "    </tr>\n",
              "    <tr>\n",
              "      <th>8413</th>\n",
              "      <td>None</td>\n",
              "    </tr>\n",
              "    <tr>\n",
              "      <th>61003</th>\n",
              "      <td>None</td>\n",
              "    </tr>\n",
              "    <tr>\n",
              "      <th>41125</th>\n",
              "      <td>0</td>\n",
              "    </tr>\n",
              "  </tbody>\n",
              "</table>\n",
              "</div><br><label><b>dtype:</b> object</label>"
            ]
          },
          "metadata": {},
          "execution_count": 61
        }
      ]
    },
    {
      "cell_type": "code",
      "source": [
        "df['section_sport'].unique()"
      ],
      "metadata": {
        "colab": {
          "base_uri": "https://localhost:8080/"
        },
        "id": "UecTrbXYJsR7",
        "outputId": "cb26d1fa-3e37-4cbd-e12f-910ccd8d4600"
      },
      "execution_count": 62,
      "outputs": [
        {
          "output_type": "execute_result",
          "data": {
            "text/plain": [
              "array([None, '0', '1'], dtype=object)"
            ]
          },
          "metadata": {},
          "execution_count": 62
        }
      ]
    },
    {
      "cell_type": "code",
      "source": [
        "print(f\"Valeurs uniques : {len(df['section_internationale'].unique())}\\n\")\n",
        "df['section_internationale'].sample(n=5, random_state=23)"
      ],
      "metadata": {
        "colab": {
          "base_uri": "https://localhost:8080/",
          "height": 276
        },
        "id": "bPoaeMM3JsZ5",
        "outputId": "e00464fe-0580-498e-e573-77cd38128ebb"
      },
      "execution_count": 63,
      "outputs": [
        {
          "output_type": "stream",
          "name": "stdout",
          "text": [
            "Valeurs uniques : 3\n",
            "\n"
          ]
        },
        {
          "output_type": "execute_result",
          "data": {
            "text/plain": [
              "38177    None\n",
              "55127       0\n",
              "8413     None\n",
              "61003    None\n",
              "41125       0\n",
              "Name: section_internationale, dtype: object"
            ],
            "text/html": [
              "<div>\n",
              "<style scoped>\n",
              "    .dataframe tbody tr th:only-of-type {\n",
              "        vertical-align: middle;\n",
              "    }\n",
              "\n",
              "    .dataframe tbody tr th {\n",
              "        vertical-align: top;\n",
              "    }\n",
              "\n",
              "    .dataframe thead th {\n",
              "        text-align: right;\n",
              "    }\n",
              "</style>\n",
              "<table border=\"1\" class=\"dataframe\">\n",
              "  <thead>\n",
              "    <tr style=\"text-align: right;\">\n",
              "      <th></th>\n",
              "      <th>section_internationale</th>\n",
              "    </tr>\n",
              "  </thead>\n",
              "  <tbody>\n",
              "    <tr>\n",
              "      <th>38177</th>\n",
              "      <td>None</td>\n",
              "    </tr>\n",
              "    <tr>\n",
              "      <th>55127</th>\n",
              "      <td>0</td>\n",
              "    </tr>\n",
              "    <tr>\n",
              "      <th>8413</th>\n",
              "      <td>None</td>\n",
              "    </tr>\n",
              "    <tr>\n",
              "      <th>61003</th>\n",
              "      <td>None</td>\n",
              "    </tr>\n",
              "    <tr>\n",
              "      <th>41125</th>\n",
              "      <td>0</td>\n",
              "    </tr>\n",
              "  </tbody>\n",
              "</table>\n",
              "</div><br><label><b>dtype:</b> object</label>"
            ]
          },
          "metadata": {},
          "execution_count": 63
        }
      ]
    },
    {
      "cell_type": "code",
      "source": [
        "df['section_internationale'].unique()"
      ],
      "metadata": {
        "colab": {
          "base_uri": "https://localhost:8080/"
        },
        "id": "tnoG4R8tNzyx",
        "outputId": "a7491e0a-18cc-44f6-909d-1cff6ddf17c3"
      },
      "execution_count": 64,
      "outputs": [
        {
          "output_type": "execute_result",
          "data": {
            "text/plain": [
              "array([None, '0', '1'], dtype=object)"
            ]
          },
          "metadata": {},
          "execution_count": 64
        }
      ]
    },
    {
      "cell_type": "code",
      "source": [
        "print(f\"Valeurs uniques : {len(df['section_europeenne'].unique())}\\n\")\n",
        "df['section_europeenne'].sample(n=5, random_state=23)"
      ],
      "metadata": {
        "colab": {
          "base_uri": "https://localhost:8080/",
          "height": 276
        },
        "id": "eiSwBhjINz63",
        "outputId": "f57c2bb3-de25-499c-cc23-7da03b871ce9"
      },
      "execution_count": 65,
      "outputs": [
        {
          "output_type": "stream",
          "name": "stdout",
          "text": [
            "Valeurs uniques : 3\n",
            "\n"
          ]
        },
        {
          "output_type": "execute_result",
          "data": {
            "text/plain": [
              "38177    None\n",
              "55127       0\n",
              "8413     None\n",
              "61003    None\n",
              "41125       0\n",
              "Name: section_europeenne, dtype: object"
            ],
            "text/html": [
              "<div>\n",
              "<style scoped>\n",
              "    .dataframe tbody tr th:only-of-type {\n",
              "        vertical-align: middle;\n",
              "    }\n",
              "\n",
              "    .dataframe tbody tr th {\n",
              "        vertical-align: top;\n",
              "    }\n",
              "\n",
              "    .dataframe thead th {\n",
              "        text-align: right;\n",
              "    }\n",
              "</style>\n",
              "<table border=\"1\" class=\"dataframe\">\n",
              "  <thead>\n",
              "    <tr style=\"text-align: right;\">\n",
              "      <th></th>\n",
              "      <th>section_europeenne</th>\n",
              "    </tr>\n",
              "  </thead>\n",
              "  <tbody>\n",
              "    <tr>\n",
              "      <th>38177</th>\n",
              "      <td>None</td>\n",
              "    </tr>\n",
              "    <tr>\n",
              "      <th>55127</th>\n",
              "      <td>0</td>\n",
              "    </tr>\n",
              "    <tr>\n",
              "      <th>8413</th>\n",
              "      <td>None</td>\n",
              "    </tr>\n",
              "    <tr>\n",
              "      <th>61003</th>\n",
              "      <td>None</td>\n",
              "    </tr>\n",
              "    <tr>\n",
              "      <th>41125</th>\n",
              "      <td>0</td>\n",
              "    </tr>\n",
              "  </tbody>\n",
              "</table>\n",
              "</div><br><label><b>dtype:</b> object</label>"
            ]
          },
          "metadata": {},
          "execution_count": 65
        }
      ]
    },
    {
      "cell_type": "code",
      "source": [
        "df['section_europeenne'].unique()"
      ],
      "metadata": {
        "colab": {
          "base_uri": "https://localhost:8080/"
        },
        "id": "fWQQCuxoN0C1",
        "outputId": "7573fae5-ed82-4a50-a1a1-302948f55e07"
      },
      "execution_count": 66,
      "outputs": [
        {
          "output_type": "execute_result",
          "data": {
            "text/plain": [
              "array([None, '0', '1'], dtype=object)"
            ]
          },
          "metadata": {},
          "execution_count": 66
        }
      ]
    },
    {
      "cell_type": "code",
      "source": [
        "print(f\"Valeurs uniques : {len(df['lycee_agricole'].unique())}\\n\")\n",
        "df['lycee_agricole'].sample(n=5, random_state=23)"
      ],
      "metadata": {
        "colab": {
          "base_uri": "https://localhost:8080/",
          "height": 276
        },
        "id": "prQtJMBpN0Ld",
        "outputId": "51b6cfa6-c89b-493b-c7f2-b44a8c123d25"
      },
      "execution_count": 67,
      "outputs": [
        {
          "output_type": "stream",
          "name": "stdout",
          "text": [
            "Valeurs uniques : 3\n",
            "\n"
          ]
        },
        {
          "output_type": "execute_result",
          "data": {
            "text/plain": [
              "38177    None\n",
              "55127       0\n",
              "8413     None\n",
              "61003    None\n",
              "41125       0\n",
              "Name: lycee_agricole, dtype: object"
            ],
            "text/html": [
              "<div>\n",
              "<style scoped>\n",
              "    .dataframe tbody tr th:only-of-type {\n",
              "        vertical-align: middle;\n",
              "    }\n",
              "\n",
              "    .dataframe tbody tr th {\n",
              "        vertical-align: top;\n",
              "    }\n",
              "\n",
              "    .dataframe thead th {\n",
              "        text-align: right;\n",
              "    }\n",
              "</style>\n",
              "<table border=\"1\" class=\"dataframe\">\n",
              "  <thead>\n",
              "    <tr style=\"text-align: right;\">\n",
              "      <th></th>\n",
              "      <th>lycee_agricole</th>\n",
              "    </tr>\n",
              "  </thead>\n",
              "  <tbody>\n",
              "    <tr>\n",
              "      <th>38177</th>\n",
              "      <td>None</td>\n",
              "    </tr>\n",
              "    <tr>\n",
              "      <th>55127</th>\n",
              "      <td>0</td>\n",
              "    </tr>\n",
              "    <tr>\n",
              "      <th>8413</th>\n",
              "      <td>None</td>\n",
              "    </tr>\n",
              "    <tr>\n",
              "      <th>61003</th>\n",
              "      <td>None</td>\n",
              "    </tr>\n",
              "    <tr>\n",
              "      <th>41125</th>\n",
              "      <td>0</td>\n",
              "    </tr>\n",
              "  </tbody>\n",
              "</table>\n",
              "</div><br><label><b>dtype:</b> object</label>"
            ]
          },
          "metadata": {},
          "execution_count": 67
        }
      ]
    },
    {
      "cell_type": "code",
      "source": [
        "df['lycee_agricole'].unique()"
      ],
      "metadata": {
        "colab": {
          "base_uri": "https://localhost:8080/"
        },
        "id": "6A6HX_yjN0Ta",
        "outputId": "b9eb9e60-2528-4056-dd8e-e6e43cbfe1f0"
      },
      "execution_count": 68,
      "outputs": [
        {
          "output_type": "execute_result",
          "data": {
            "text/plain": [
              "array([None, '0', '1'], dtype=object)"
            ]
          },
          "metadata": {},
          "execution_count": 68
        }
      ]
    },
    {
      "cell_type": "code",
      "source": [
        "print(f\"Valeurs uniques : {len(df['lycee_militaire'].unique())}\\n\")\n",
        "df['lycee_militaire'].sample(n=5, random_state=23)"
      ],
      "metadata": {
        "colab": {
          "base_uri": "https://localhost:8080/",
          "height": 276
        },
        "id": "3unhbNGTN0bP",
        "outputId": "b5d21cdb-4a26-4deb-9ff9-29db76077a8a"
      },
      "execution_count": 69,
      "outputs": [
        {
          "output_type": "stream",
          "name": "stdout",
          "text": [
            "Valeurs uniques : 3\n",
            "\n"
          ]
        },
        {
          "output_type": "execute_result",
          "data": {
            "text/plain": [
              "38177    None\n",
              "55127       0\n",
              "8413     None\n",
              "61003    None\n",
              "41125       0\n",
              "Name: lycee_militaire, dtype: object"
            ],
            "text/html": [
              "<div>\n",
              "<style scoped>\n",
              "    .dataframe tbody tr th:only-of-type {\n",
              "        vertical-align: middle;\n",
              "    }\n",
              "\n",
              "    .dataframe tbody tr th {\n",
              "        vertical-align: top;\n",
              "    }\n",
              "\n",
              "    .dataframe thead th {\n",
              "        text-align: right;\n",
              "    }\n",
              "</style>\n",
              "<table border=\"1\" class=\"dataframe\">\n",
              "  <thead>\n",
              "    <tr style=\"text-align: right;\">\n",
              "      <th></th>\n",
              "      <th>lycee_militaire</th>\n",
              "    </tr>\n",
              "  </thead>\n",
              "  <tbody>\n",
              "    <tr>\n",
              "      <th>38177</th>\n",
              "      <td>None</td>\n",
              "    </tr>\n",
              "    <tr>\n",
              "      <th>55127</th>\n",
              "      <td>0</td>\n",
              "    </tr>\n",
              "    <tr>\n",
              "      <th>8413</th>\n",
              "      <td>None</td>\n",
              "    </tr>\n",
              "    <tr>\n",
              "      <th>61003</th>\n",
              "      <td>None</td>\n",
              "    </tr>\n",
              "    <tr>\n",
              "      <th>41125</th>\n",
              "      <td>0</td>\n",
              "    </tr>\n",
              "  </tbody>\n",
              "</table>\n",
              "</div><br><label><b>dtype:</b> object</label>"
            ]
          },
          "metadata": {},
          "execution_count": 69
        }
      ]
    },
    {
      "cell_type": "code",
      "source": [
        "df['lycee_militaire'].unique()"
      ],
      "metadata": {
        "colab": {
          "base_uri": "https://localhost:8080/"
        },
        "id": "iWZ3kpSEN0i0",
        "outputId": "b1e6e359-3f32-471f-d1b9-ecf0f37e605e"
      },
      "execution_count": 70,
      "outputs": [
        {
          "output_type": "execute_result",
          "data": {
            "text/plain": [
              "array([None, '0', '1'], dtype=object)"
            ]
          },
          "metadata": {},
          "execution_count": 70
        }
      ]
    },
    {
      "cell_type": "code",
      "source": [
        "print(f\"Valeurs uniques : {len(df['lycee_des_metiers'].unique())}\\n\")\n",
        "df['lycee_des_metiers'].sample(n=5, random_state=23)"
      ],
      "metadata": {
        "colab": {
          "base_uri": "https://localhost:8080/",
          "height": 276
        },
        "id": "rxMnHYGMN0qS",
        "outputId": "8e196f42-3c05-4bd9-f356-297e41572885"
      },
      "execution_count": 71,
      "outputs": [
        {
          "output_type": "stream",
          "name": "stdout",
          "text": [
            "Valeurs uniques : 3\n",
            "\n"
          ]
        },
        {
          "output_type": "execute_result",
          "data": {
            "text/plain": [
              "38177    None\n",
              "55127       0\n",
              "8413     None\n",
              "61003    None\n",
              "41125       0\n",
              "Name: lycee_des_metiers, dtype: object"
            ],
            "text/html": [
              "<div>\n",
              "<style scoped>\n",
              "    .dataframe tbody tr th:only-of-type {\n",
              "        vertical-align: middle;\n",
              "    }\n",
              "\n",
              "    .dataframe tbody tr th {\n",
              "        vertical-align: top;\n",
              "    }\n",
              "\n",
              "    .dataframe thead th {\n",
              "        text-align: right;\n",
              "    }\n",
              "</style>\n",
              "<table border=\"1\" class=\"dataframe\">\n",
              "  <thead>\n",
              "    <tr style=\"text-align: right;\">\n",
              "      <th></th>\n",
              "      <th>lycee_des_metiers</th>\n",
              "    </tr>\n",
              "  </thead>\n",
              "  <tbody>\n",
              "    <tr>\n",
              "      <th>38177</th>\n",
              "      <td>None</td>\n",
              "    </tr>\n",
              "    <tr>\n",
              "      <th>55127</th>\n",
              "      <td>0</td>\n",
              "    </tr>\n",
              "    <tr>\n",
              "      <th>8413</th>\n",
              "      <td>None</td>\n",
              "    </tr>\n",
              "    <tr>\n",
              "      <th>61003</th>\n",
              "      <td>None</td>\n",
              "    </tr>\n",
              "    <tr>\n",
              "      <th>41125</th>\n",
              "      <td>0</td>\n",
              "    </tr>\n",
              "  </tbody>\n",
              "</table>\n",
              "</div><br><label><b>dtype:</b> object</label>"
            ]
          },
          "metadata": {},
          "execution_count": 71
        }
      ]
    },
    {
      "cell_type": "code",
      "source": [
        "df['lycee_des_metiers'].unique()"
      ],
      "metadata": {
        "colab": {
          "base_uri": "https://localhost:8080/"
        },
        "id": "oNciDLNFN0yD",
        "outputId": "f3aa8346-83c7-465c-95c1-ba5e5c7635f8"
      },
      "execution_count": 72,
      "outputs": [
        {
          "output_type": "execute_result",
          "data": {
            "text/plain": [
              "array([None, '0', '1'], dtype=object)"
            ]
          },
          "metadata": {},
          "execution_count": 72
        }
      ]
    },
    {
      "cell_type": "code",
      "source": [
        "print(f\"Valeurs uniques : {len(df['post_bac'].unique())}\\n\")\n",
        "df['post_bac'].sample(n=5, random_state=23)"
      ],
      "metadata": {
        "colab": {
          "base_uri": "https://localhost:8080/",
          "height": 276
        },
        "id": "R1_RF46QN054",
        "outputId": "69dbd7e1-9615-42a0-96e2-0c2f5d5f3a65"
      },
      "execution_count": 73,
      "outputs": [
        {
          "output_type": "stream",
          "name": "stdout",
          "text": [
            "Valeurs uniques : 3\n",
            "\n"
          ]
        },
        {
          "output_type": "execute_result",
          "data": {
            "text/plain": [
              "38177    None\n",
              "55127       0\n",
              "8413     None\n",
              "61003    None\n",
              "41125       0\n",
              "Name: post_bac, dtype: object"
            ],
            "text/html": [
              "<div>\n",
              "<style scoped>\n",
              "    .dataframe tbody tr th:only-of-type {\n",
              "        vertical-align: middle;\n",
              "    }\n",
              "\n",
              "    .dataframe tbody tr th {\n",
              "        vertical-align: top;\n",
              "    }\n",
              "\n",
              "    .dataframe thead th {\n",
              "        text-align: right;\n",
              "    }\n",
              "</style>\n",
              "<table border=\"1\" class=\"dataframe\">\n",
              "  <thead>\n",
              "    <tr style=\"text-align: right;\">\n",
              "      <th></th>\n",
              "      <th>post_bac</th>\n",
              "    </tr>\n",
              "  </thead>\n",
              "  <tbody>\n",
              "    <tr>\n",
              "      <th>38177</th>\n",
              "      <td>None</td>\n",
              "    </tr>\n",
              "    <tr>\n",
              "      <th>55127</th>\n",
              "      <td>0</td>\n",
              "    </tr>\n",
              "    <tr>\n",
              "      <th>8413</th>\n",
              "      <td>None</td>\n",
              "    </tr>\n",
              "    <tr>\n",
              "      <th>61003</th>\n",
              "      <td>None</td>\n",
              "    </tr>\n",
              "    <tr>\n",
              "      <th>41125</th>\n",
              "      <td>0</td>\n",
              "    </tr>\n",
              "  </tbody>\n",
              "</table>\n",
              "</div><br><label><b>dtype:</b> object</label>"
            ]
          },
          "metadata": {},
          "execution_count": 73
        }
      ]
    },
    {
      "cell_type": "code",
      "source": [
        "df['post_bac'].unique()"
      ],
      "metadata": {
        "colab": {
          "base_uri": "https://localhost:8080/"
        },
        "id": "XxcrlWo4Jsg0",
        "outputId": "e2535105-bea4-4120-e805-91ae08c67c92"
      },
      "execution_count": 74,
      "outputs": [
        {
          "output_type": "execute_result",
          "data": {
            "text/plain": [
              "array([None, '1', '0'], dtype=object)"
            ]
          },
          "metadata": {},
          "execution_count": 74
        }
      ]
    },
    {
      "cell_type": "code",
      "source": [
        "print(f\"Valeurs uniques : {len(df['appartenance_education_prioritaire'].unique())}\\n\")\n",
        "df['appartenance_education_prioritaire'].sample(n=5, random_state=23)"
      ],
      "metadata": {
        "colab": {
          "base_uri": "https://localhost:8080/",
          "height": 276
        },
        "id": "fCw3IPsCPH6J",
        "outputId": "82f6f661-7eb5-4503-c6b8-537cdb25275c"
      },
      "execution_count": 75,
      "outputs": [
        {
          "output_type": "stream",
          "name": "stdout",
          "text": [
            "Valeurs uniques : 3\n",
            "\n"
          ]
        },
        {
          "output_type": "execute_result",
          "data": {
            "text/plain": [
              "38177    None\n",
              "55127    None\n",
              "8413      REP\n",
              "61003    None\n",
              "41125    None\n",
              "Name: appartenance_education_prioritaire, dtype: object"
            ],
            "text/html": [
              "<div>\n",
              "<style scoped>\n",
              "    .dataframe tbody tr th:only-of-type {\n",
              "        vertical-align: middle;\n",
              "    }\n",
              "\n",
              "    .dataframe tbody tr th {\n",
              "        vertical-align: top;\n",
              "    }\n",
              "\n",
              "    .dataframe thead th {\n",
              "        text-align: right;\n",
              "    }\n",
              "</style>\n",
              "<table border=\"1\" class=\"dataframe\">\n",
              "  <thead>\n",
              "    <tr style=\"text-align: right;\">\n",
              "      <th></th>\n",
              "      <th>appartenance_education_prioritaire</th>\n",
              "    </tr>\n",
              "  </thead>\n",
              "  <tbody>\n",
              "    <tr>\n",
              "      <th>38177</th>\n",
              "      <td>None</td>\n",
              "    </tr>\n",
              "    <tr>\n",
              "      <th>55127</th>\n",
              "      <td>None</td>\n",
              "    </tr>\n",
              "    <tr>\n",
              "      <th>8413</th>\n",
              "      <td>REP</td>\n",
              "    </tr>\n",
              "    <tr>\n",
              "      <th>61003</th>\n",
              "      <td>None</td>\n",
              "    </tr>\n",
              "    <tr>\n",
              "      <th>41125</th>\n",
              "      <td>None</td>\n",
              "    </tr>\n",
              "  </tbody>\n",
              "</table>\n",
              "</div><br><label><b>dtype:</b> object</label>"
            ]
          },
          "metadata": {},
          "execution_count": 75
        }
      ]
    },
    {
      "cell_type": "code",
      "source": [
        "df['appartenance_education_prioritaire'].unique()"
      ],
      "metadata": {
        "colab": {
          "base_uri": "https://localhost:8080/"
        },
        "id": "JUozVYdrPICf",
        "outputId": "fdd4e081-0f99-4068-bbd0-62a5f69a6a49"
      },
      "execution_count": 76,
      "outputs": [
        {
          "output_type": "execute_result",
          "data": {
            "text/plain": [
              "array(['REP', None, 'REP+'], dtype=object)"
            ]
          },
          "metadata": {},
          "execution_count": 76
        }
      ]
    },
    {
      "cell_type": "code",
      "source": [
        "print(f\"Valeurs uniques : {len(df['greta'].unique())}\\n\")\n",
        "df['greta'].sample(n=5, random_state=23)"
      ],
      "metadata": {
        "colab": {
          "base_uri": "https://localhost:8080/",
          "height": 276
        },
        "id": "wFXHWpRwPIKZ",
        "outputId": "5ab141a6-b495-46a9-dc91-b856ceb1aee5"
      },
      "execution_count": 77,
      "outputs": [
        {
          "output_type": "stream",
          "name": "stdout",
          "text": [
            "Valeurs uniques : 3\n",
            "\n"
          ]
        },
        {
          "output_type": "execute_result",
          "data": {
            "text/plain": [
              "38177    None\n",
              "55127       0\n",
              "8413     None\n",
              "61003    None\n",
              "41125       0\n",
              "Name: greta, dtype: object"
            ],
            "text/html": [
              "<div>\n",
              "<style scoped>\n",
              "    .dataframe tbody tr th:only-of-type {\n",
              "        vertical-align: middle;\n",
              "    }\n",
              "\n",
              "    .dataframe tbody tr th {\n",
              "        vertical-align: top;\n",
              "    }\n",
              "\n",
              "    .dataframe thead th {\n",
              "        text-align: right;\n",
              "    }\n",
              "</style>\n",
              "<table border=\"1\" class=\"dataframe\">\n",
              "  <thead>\n",
              "    <tr style=\"text-align: right;\">\n",
              "      <th></th>\n",
              "      <th>greta</th>\n",
              "    </tr>\n",
              "  </thead>\n",
              "  <tbody>\n",
              "    <tr>\n",
              "      <th>38177</th>\n",
              "      <td>None</td>\n",
              "    </tr>\n",
              "    <tr>\n",
              "      <th>55127</th>\n",
              "      <td>0</td>\n",
              "    </tr>\n",
              "    <tr>\n",
              "      <th>8413</th>\n",
              "      <td>None</td>\n",
              "    </tr>\n",
              "    <tr>\n",
              "      <th>61003</th>\n",
              "      <td>None</td>\n",
              "    </tr>\n",
              "    <tr>\n",
              "      <th>41125</th>\n",
              "      <td>0</td>\n",
              "    </tr>\n",
              "  </tbody>\n",
              "</table>\n",
              "</div><br><label><b>dtype:</b> object</label>"
            ]
          },
          "metadata": {},
          "execution_count": 77
        }
      ]
    },
    {
      "cell_type": "code",
      "source": [
        "df['greta'].unique()"
      ],
      "metadata": {
        "colab": {
          "base_uri": "https://localhost:8080/"
        },
        "id": "uAittJ8dPISK",
        "outputId": "119492da-8856-444e-af8c-472ac3e634b5"
      },
      "execution_count": 78,
      "outputs": [
        {
          "output_type": "execute_result",
          "data": {
            "text/plain": [
              "array([None, '0', '1'], dtype=object)"
            ]
          },
          "metadata": {},
          "execution_count": 78
        }
      ]
    },
    {
      "cell_type": "code",
      "source": [
        "print(f\"Valeurs uniques : {len(df['siren_siret'].unique())}\\n\")\n",
        "df['siren_siret'].sample(n=5, random_state=23)"
      ],
      "metadata": {
        "colab": {
          "base_uri": "https://localhost:8080/",
          "height": 276
        },
        "id": "TnUSeZuePIZz",
        "outputId": "1a8fa675-f7b4-4361-e248-bd6c8d2a85cf"
      },
      "execution_count": 79,
      "outputs": [
        {
          "output_type": "stream",
          "name": "stdout",
          "text": [
            "Valeurs uniques : 63347\n",
            "\n"
          ]
        },
        {
          "output_type": "execute_result",
          "data": {
            "text/plain": [
              "38177    21490020100077\n",
              "55127    31107901600045\n",
              "8413     21330119500151\n",
              "61003    21080297100023\n",
              "41125    19291929800013\n",
              "Name: siren_siret, dtype: object"
            ],
            "text/html": [
              "<div>\n",
              "<style scoped>\n",
              "    .dataframe tbody tr th:only-of-type {\n",
              "        vertical-align: middle;\n",
              "    }\n",
              "\n",
              "    .dataframe tbody tr th {\n",
              "        vertical-align: top;\n",
              "    }\n",
              "\n",
              "    .dataframe thead th {\n",
              "        text-align: right;\n",
              "    }\n",
              "</style>\n",
              "<table border=\"1\" class=\"dataframe\">\n",
              "  <thead>\n",
              "    <tr style=\"text-align: right;\">\n",
              "      <th></th>\n",
              "      <th>siren_siret</th>\n",
              "    </tr>\n",
              "  </thead>\n",
              "  <tbody>\n",
              "    <tr>\n",
              "      <th>38177</th>\n",
              "      <td>21490020100077</td>\n",
              "    </tr>\n",
              "    <tr>\n",
              "      <th>55127</th>\n",
              "      <td>31107901600045</td>\n",
              "    </tr>\n",
              "    <tr>\n",
              "      <th>8413</th>\n",
              "      <td>21330119500151</td>\n",
              "    </tr>\n",
              "    <tr>\n",
              "      <th>61003</th>\n",
              "      <td>21080297100023</td>\n",
              "    </tr>\n",
              "    <tr>\n",
              "      <th>41125</th>\n",
              "      <td>19291929800013</td>\n",
              "    </tr>\n",
              "  </tbody>\n",
              "</table>\n",
              "</div><br><label><b>dtype:</b> object</label>"
            ]
          },
          "metadata": {},
          "execution_count": 79
        }
      ]
    },
    {
      "cell_type": "code",
      "source": [
        "print(f\"Valeurs uniques : {len(df['nombre_d_eleves'].unique())}\\n\")\n",
        "df['nombre_d_eleves'].sample(n=5, random_state=23)"
      ],
      "metadata": {
        "colab": {
          "base_uri": "https://localhost:8080/",
          "height": 276
        },
        "id": "DT3DCJHHPIhm",
        "outputId": "353fab1d-0d8e-45cf-ad9c-cc3770e094ad"
      },
      "execution_count": 80,
      "outputs": [
        {
          "output_type": "stream",
          "name": "stdout",
          "text": [
            "Valeurs uniques : 1462\n",
            "\n"
          ]
        },
        {
          "output_type": "execute_result",
          "data": {
            "text/plain": [
              "38177     89.0\n",
              "55127    738.0\n",
              "8413      75.0\n",
              "61003     84.0\n",
              "41125    444.0\n",
              "Name: nombre_d_eleves, dtype: float64"
            ],
            "text/html": [
              "<div>\n",
              "<style scoped>\n",
              "    .dataframe tbody tr th:only-of-type {\n",
              "        vertical-align: middle;\n",
              "    }\n",
              "\n",
              "    .dataframe tbody tr th {\n",
              "        vertical-align: top;\n",
              "    }\n",
              "\n",
              "    .dataframe thead th {\n",
              "        text-align: right;\n",
              "    }\n",
              "</style>\n",
              "<table border=\"1\" class=\"dataframe\">\n",
              "  <thead>\n",
              "    <tr style=\"text-align: right;\">\n",
              "      <th></th>\n",
              "      <th>nombre_d_eleves</th>\n",
              "    </tr>\n",
              "  </thead>\n",
              "  <tbody>\n",
              "    <tr>\n",
              "      <th>38177</th>\n",
              "      <td>89.0</td>\n",
              "    </tr>\n",
              "    <tr>\n",
              "      <th>55127</th>\n",
              "      <td>738.0</td>\n",
              "    </tr>\n",
              "    <tr>\n",
              "      <th>8413</th>\n",
              "      <td>75.0</td>\n",
              "    </tr>\n",
              "    <tr>\n",
              "      <th>61003</th>\n",
              "      <td>84.0</td>\n",
              "    </tr>\n",
              "    <tr>\n",
              "      <th>41125</th>\n",
              "      <td>444.0</td>\n",
              "    </tr>\n",
              "  </tbody>\n",
              "</table>\n",
              "</div><br><label><b>dtype:</b> float64</label>"
            ]
          },
          "metadata": {},
          "execution_count": 80
        }
      ]
    },
    {
      "cell_type": "code",
      "source": [
        "print(f\"Min : {df['nombre_d_eleves'].min()}\\nMax : {df['nombre_d_eleves'].max()}\")"
      ],
      "metadata": {
        "colab": {
          "base_uri": "https://localhost:8080/"
        },
        "id": "Vx5NsUpiPIpm",
        "outputId": "244d7822-2a88-49cb-8f4c-e286fb6a85ef"
      },
      "execution_count": 82,
      "outputs": [
        {
          "output_type": "stream",
          "name": "stdout",
          "text": [
            "Min : 0.0\n",
            "Max : 2599.0\n"
          ]
        }
      ]
    },
    {
      "cell_type": "code",
      "source": [
        "print(f\"Valeurs uniques : {len(df['fiche_onisep'].unique())}\\n\")\n",
        "df['fiche_onisep'].sample(n=5, random_state=23)"
      ],
      "metadata": {
        "colab": {
          "base_uri": "https://localhost:8080/",
          "height": 276
        },
        "id": "7JpDetexPIxp",
        "outputId": "b54d71b1-1e7c-4a19-b752-ff69e7d33cda"
      },
      "execution_count": 83,
      "outputs": [
        {
          "output_type": "stream",
          "name": "stdout",
          "text": [
            "Valeurs uniques : 11807\n",
            "\n"
          ]
        },
        {
          "output_type": "execute_result",
          "data": {
            "text/plain": [
              "38177                                                 None\n",
              "55127    https://www.onisep.fr/http/redirection/etablis...\n",
              "8413                                                  None\n",
              "61003                                                 None\n",
              "41125    https://www.onisep.fr/http/redirection/etablis...\n",
              "Name: fiche_onisep, dtype: object"
            ],
            "text/html": [
              "<div>\n",
              "<style scoped>\n",
              "    .dataframe tbody tr th:only-of-type {\n",
              "        vertical-align: middle;\n",
              "    }\n",
              "\n",
              "    .dataframe tbody tr th {\n",
              "        vertical-align: top;\n",
              "    }\n",
              "\n",
              "    .dataframe thead th {\n",
              "        text-align: right;\n",
              "    }\n",
              "</style>\n",
              "<table border=\"1\" class=\"dataframe\">\n",
              "  <thead>\n",
              "    <tr style=\"text-align: right;\">\n",
              "      <th></th>\n",
              "      <th>fiche_onisep</th>\n",
              "    </tr>\n",
              "  </thead>\n",
              "  <tbody>\n",
              "    <tr>\n",
              "      <th>38177</th>\n",
              "      <td>None</td>\n",
              "    </tr>\n",
              "    <tr>\n",
              "      <th>55127</th>\n",
              "      <td>https://www.onisep.fr/http/redirection/etablis...</td>\n",
              "    </tr>\n",
              "    <tr>\n",
              "      <th>8413</th>\n",
              "      <td>None</td>\n",
              "    </tr>\n",
              "    <tr>\n",
              "      <th>61003</th>\n",
              "      <td>None</td>\n",
              "    </tr>\n",
              "    <tr>\n",
              "      <th>41125</th>\n",
              "      <td>https://www.onisep.fr/http/redirection/etablis...</td>\n",
              "    </tr>\n",
              "  </tbody>\n",
              "</table>\n",
              "</div><br><label><b>dtype:</b> object</label>"
            ]
          },
          "metadata": {},
          "execution_count": 83
        }
      ]
    },
    {
      "cell_type": "code",
      "source": [
        "#print(f\"Valeurs uniques : {len(df['position'].unique())}\\n\")\n",
        "df['position'].sample(n=5, random_state=23)"
      ],
      "metadata": {
        "colab": {
          "base_uri": "https://localhost:8080/",
          "height": 241
        },
        "id": "msv55t_API5V",
        "outputId": "9b656430-5e2b-4c94-efe1-3eae31a1a910"
      },
      "execution_count": 85,
      "outputs": [
        {
          "output_type": "execute_result",
          "data": {
            "text/plain": [
              "38177    {'lon': -0.6398919967146796, 'lat': 47.4761898...\n",
              "55127    {'lon': 2.245564434063241, 'lat': 49.015212285...\n",
              "8413     {'lon': -0.5169567324101877, 'lat': 44.8618214...\n",
              "61003    {'lon': 4.446250564420175, 'lat': 49.536603638...\n",
              "41125    {'lon': -4.589760486392371, 'lat': 48.37396459...\n",
              "Name: position, dtype: object"
            ],
            "text/html": [
              "<div>\n",
              "<style scoped>\n",
              "    .dataframe tbody tr th:only-of-type {\n",
              "        vertical-align: middle;\n",
              "    }\n",
              "\n",
              "    .dataframe tbody tr th {\n",
              "        vertical-align: top;\n",
              "    }\n",
              "\n",
              "    .dataframe thead th {\n",
              "        text-align: right;\n",
              "    }\n",
              "</style>\n",
              "<table border=\"1\" class=\"dataframe\">\n",
              "  <thead>\n",
              "    <tr style=\"text-align: right;\">\n",
              "      <th></th>\n",
              "      <th>position</th>\n",
              "    </tr>\n",
              "  </thead>\n",
              "  <tbody>\n",
              "    <tr>\n",
              "      <th>38177</th>\n",
              "      <td>{'lon': -0.6398919967146796, 'lat': 47.4761898...</td>\n",
              "    </tr>\n",
              "    <tr>\n",
              "      <th>55127</th>\n",
              "      <td>{'lon': 2.245564434063241, 'lat': 49.015212285...</td>\n",
              "    </tr>\n",
              "    <tr>\n",
              "      <th>8413</th>\n",
              "      <td>{'lon': -0.5169567324101877, 'lat': 44.8618214...</td>\n",
              "    </tr>\n",
              "    <tr>\n",
              "      <th>61003</th>\n",
              "      <td>{'lon': 4.446250564420175, 'lat': 49.536603638...</td>\n",
              "    </tr>\n",
              "    <tr>\n",
              "      <th>41125</th>\n",
              "      <td>{'lon': -4.589760486392371, 'lat': 48.37396459...</td>\n",
              "    </tr>\n",
              "  </tbody>\n",
              "</table>\n",
              "</div><br><label><b>dtype:</b> object</label>"
            ]
          },
          "metadata": {},
          "execution_count": 85
        }
      ]
    },
    {
      "cell_type": "code",
      "source": [
        "print(f\"Valeurs uniques : {len(df['type_contrat_prive'].unique())}\\n\")\n",
        "df['type_contrat_prive'].sample(n=5, random_state=23)"
      ],
      "metadata": {
        "colab": {
          "base_uri": "https://localhost:8080/",
          "height": 276
        },
        "id": "IWwGhfqtQipD",
        "outputId": "47ac442f-ba6f-4444-8e05-f257a07e13d5"
      },
      "execution_count": 86,
      "outputs": [
        {
          "output_type": "stream",
          "name": "stdout",
          "text": [
            "Valeurs uniques : 11\n",
            "\n"
          ]
        },
        {
          "output_type": "execute_result",
          "data": {
            "text/plain": [
              "38177                              SANS OBJET\n",
              "55127    CONTRAT D'ASSOCIATION TOUTES CLASSES\n",
              "8413                               SANS OBJET\n",
              "61003                              SANS OBJET\n",
              "41125                              SANS OBJET\n",
              "Name: type_contrat_prive, dtype: object"
            ],
            "text/html": [
              "<div>\n",
              "<style scoped>\n",
              "    .dataframe tbody tr th:only-of-type {\n",
              "        vertical-align: middle;\n",
              "    }\n",
              "\n",
              "    .dataframe tbody tr th {\n",
              "        vertical-align: top;\n",
              "    }\n",
              "\n",
              "    .dataframe thead th {\n",
              "        text-align: right;\n",
              "    }\n",
              "</style>\n",
              "<table border=\"1\" class=\"dataframe\">\n",
              "  <thead>\n",
              "    <tr style=\"text-align: right;\">\n",
              "      <th></th>\n",
              "      <th>type_contrat_prive</th>\n",
              "    </tr>\n",
              "  </thead>\n",
              "  <tbody>\n",
              "    <tr>\n",
              "      <th>38177</th>\n",
              "      <td>SANS OBJET</td>\n",
              "    </tr>\n",
              "    <tr>\n",
              "      <th>55127</th>\n",
              "      <td>CONTRAT D'ASSOCIATION TOUTES CLASSES</td>\n",
              "    </tr>\n",
              "    <tr>\n",
              "      <th>8413</th>\n",
              "      <td>SANS OBJET</td>\n",
              "    </tr>\n",
              "    <tr>\n",
              "      <th>61003</th>\n",
              "      <td>SANS OBJET</td>\n",
              "    </tr>\n",
              "    <tr>\n",
              "      <th>41125</th>\n",
              "      <td>SANS OBJET</td>\n",
              "    </tr>\n",
              "  </tbody>\n",
              "</table>\n",
              "</div><br><label><b>dtype:</b> object</label>"
            ]
          },
          "metadata": {},
          "execution_count": 86
        }
      ]
    },
    {
      "cell_type": "code",
      "source": [
        "df['type_contrat_prive'].unique()"
      ],
      "metadata": {
        "colab": {
          "base_uri": "https://localhost:8080/"
        },
        "id": "8b4KDVBqQiw4",
        "outputId": "e5a99ca5-8c27-4ff7-c42c-4f9a7e7dfb2d"
      },
      "execution_count": 87,
      "outputs": [
        {
          "output_type": "execute_result",
          "data": {
            "text/plain": [
              "array(['SANS OBJET', \"CONTRAT D'ASSOCIATION TOUTES CLASSES\",\n",
              "       'HORS CONTRAT', 'CONTRAT ASSOCIATION PARTIE DES CLASSES',\n",
              "       'C0NTRAT SIMPLE POUR PARTIE DES CLASSES',\n",
              "       'CONTRAT SIMPLE TOUTES CLASSES',\n",
              "       'CONTRAT TTES CLASSES SIMPLE+ASSOCIATION',\n",
              "       'CONTRAT PARTIE DES CLASSES SIMPLE+ASSOC',\n",
              "       'SOUS CONTRAT ETABLISSEMENT AGRICOLE', 'INCONNU DU GESTIONNAIRE',\n",
              "       None], dtype=object)"
            ]
          },
          "metadata": {},
          "execution_count": 87
        }
      ]
    },
    {
      "cell_type": "code",
      "source": [
        "print(f\"Valeurs uniques : {len(df['libelle_departement'].unique())}\\n\")\n",
        "df['libelle_departement'].sample(n=5, random_state=23)"
      ],
      "metadata": {
        "colab": {
          "base_uri": "https://localhost:8080/",
          "height": 276
        },
        "id": "CyAz1rJuQi4G",
        "outputId": "44f60121-d999-41a8-8099-8c3b8a4dc396"
      },
      "execution_count": 88,
      "outputs": [
        {
          "output_type": "stream",
          "name": "stdout",
          "text": [
            "Valeurs uniques : 107\n",
            "\n"
          ]
        },
        {
          "output_type": "execute_result",
          "data": {
            "text/plain": [
              "38177    Maine-et-Loire\n",
              "55127        Val-d'Oise\n",
              "8413            Gironde\n",
              "61003          Ardennes\n",
              "41125         Finistère\n",
              "Name: libelle_departement, dtype: object"
            ],
            "text/html": [
              "<div>\n",
              "<style scoped>\n",
              "    .dataframe tbody tr th:only-of-type {\n",
              "        vertical-align: middle;\n",
              "    }\n",
              "\n",
              "    .dataframe tbody tr th {\n",
              "        vertical-align: top;\n",
              "    }\n",
              "\n",
              "    .dataframe thead th {\n",
              "        text-align: right;\n",
              "    }\n",
              "</style>\n",
              "<table border=\"1\" class=\"dataframe\">\n",
              "  <thead>\n",
              "    <tr style=\"text-align: right;\">\n",
              "      <th></th>\n",
              "      <th>libelle_departement</th>\n",
              "    </tr>\n",
              "  </thead>\n",
              "  <tbody>\n",
              "    <tr>\n",
              "      <th>38177</th>\n",
              "      <td>Maine-et-Loire</td>\n",
              "    </tr>\n",
              "    <tr>\n",
              "      <th>55127</th>\n",
              "      <td>Val-d'Oise</td>\n",
              "    </tr>\n",
              "    <tr>\n",
              "      <th>8413</th>\n",
              "      <td>Gironde</td>\n",
              "    </tr>\n",
              "    <tr>\n",
              "      <th>61003</th>\n",
              "      <td>Ardennes</td>\n",
              "    </tr>\n",
              "    <tr>\n",
              "      <th>41125</th>\n",
              "      <td>Finistère</td>\n",
              "    </tr>\n",
              "  </tbody>\n",
              "</table>\n",
              "</div><br><label><b>dtype:</b> object</label>"
            ]
          },
          "metadata": {},
          "execution_count": 88
        }
      ]
    },
    {
      "cell_type": "code",
      "source": [
        "print(f\"Valeurs uniques : {len(df['libelle_academie'].unique())}\\n\")\n",
        "df['libelle_academie'].sample(n=5, random_state=23)"
      ],
      "metadata": {
        "colab": {
          "base_uri": "https://localhost:8080/",
          "height": 276
        },
        "id": "2WtkUcn1Qi_Q",
        "outputId": "9f0c8e54-f422-4b96-beca-0356e1331077"
      },
      "execution_count": 89,
      "outputs": [
        {
          "output_type": "stream",
          "name": "stdout",
          "text": [
            "Valeurs uniques : 34\n",
            "\n"
          ]
        },
        {
          "output_type": "execute_result",
          "data": {
            "text/plain": [
              "38177        Nantes\n",
              "55127    Versailles\n",
              "8413       Bordeaux\n",
              "61003         Reims\n",
              "41125        Rennes\n",
              "Name: libelle_academie, dtype: object"
            ],
            "text/html": [
              "<div>\n",
              "<style scoped>\n",
              "    .dataframe tbody tr th:only-of-type {\n",
              "        vertical-align: middle;\n",
              "    }\n",
              "\n",
              "    .dataframe tbody tr th {\n",
              "        vertical-align: top;\n",
              "    }\n",
              "\n",
              "    .dataframe thead th {\n",
              "        text-align: right;\n",
              "    }\n",
              "</style>\n",
              "<table border=\"1\" class=\"dataframe\">\n",
              "  <thead>\n",
              "    <tr style=\"text-align: right;\">\n",
              "      <th></th>\n",
              "      <th>libelle_academie</th>\n",
              "    </tr>\n",
              "  </thead>\n",
              "  <tbody>\n",
              "    <tr>\n",
              "      <th>38177</th>\n",
              "      <td>Nantes</td>\n",
              "    </tr>\n",
              "    <tr>\n",
              "      <th>55127</th>\n",
              "      <td>Versailles</td>\n",
              "    </tr>\n",
              "    <tr>\n",
              "      <th>8413</th>\n",
              "      <td>Bordeaux</td>\n",
              "    </tr>\n",
              "    <tr>\n",
              "      <th>61003</th>\n",
              "      <td>Reims</td>\n",
              "    </tr>\n",
              "    <tr>\n",
              "      <th>41125</th>\n",
              "      <td>Rennes</td>\n",
              "    </tr>\n",
              "  </tbody>\n",
              "</table>\n",
              "</div><br><label><b>dtype:</b> object</label>"
            ]
          },
          "metadata": {},
          "execution_count": 89
        }
      ]
    },
    {
      "cell_type": "code",
      "source": [
        "print(f\"Valeurs uniques : {len(df['libelle_region'].unique())}\\n\")\n",
        "df['libelle_region'].sample(n=5, random_state=23)"
      ],
      "metadata": {
        "colab": {
          "base_uri": "https://localhost:8080/",
          "height": 276
        },
        "id": "hvZK4IXiQjGS",
        "outputId": "12080a6b-fc89-4548-963a-e310c30e7d90"
      },
      "execution_count": 90,
      "outputs": [
        {
          "output_type": "stream",
          "name": "stdout",
          "text": [
            "Valeurs uniques : 19\n",
            "\n"
          ]
        },
        {
          "output_type": "execute_result",
          "data": {
            "text/plain": [
              "38177      Pays de la Loire\n",
              "55127         Ile-de-France\n",
              "8413     Nouvelle-Aquitaine\n",
              "61003             Grand Est\n",
              "41125              Bretagne\n",
              "Name: libelle_region, dtype: object"
            ],
            "text/html": [
              "<div>\n",
              "<style scoped>\n",
              "    .dataframe tbody tr th:only-of-type {\n",
              "        vertical-align: middle;\n",
              "    }\n",
              "\n",
              "    .dataframe tbody tr th {\n",
              "        vertical-align: top;\n",
              "    }\n",
              "\n",
              "    .dataframe thead th {\n",
              "        text-align: right;\n",
              "    }\n",
              "</style>\n",
              "<table border=\"1\" class=\"dataframe\">\n",
              "  <thead>\n",
              "    <tr style=\"text-align: right;\">\n",
              "      <th></th>\n",
              "      <th>libelle_region</th>\n",
              "    </tr>\n",
              "  </thead>\n",
              "  <tbody>\n",
              "    <tr>\n",
              "      <th>38177</th>\n",
              "      <td>Pays de la Loire</td>\n",
              "    </tr>\n",
              "    <tr>\n",
              "      <th>55127</th>\n",
              "      <td>Ile-de-France</td>\n",
              "    </tr>\n",
              "    <tr>\n",
              "      <th>8413</th>\n",
              "      <td>Nouvelle-Aquitaine</td>\n",
              "    </tr>\n",
              "    <tr>\n",
              "      <th>61003</th>\n",
              "      <td>Grand Est</td>\n",
              "    </tr>\n",
              "    <tr>\n",
              "      <th>41125</th>\n",
              "      <td>Bretagne</td>\n",
              "    </tr>\n",
              "  </tbody>\n",
              "</table>\n",
              "</div><br><label><b>dtype:</b> object</label>"
            ]
          },
          "metadata": {},
          "execution_count": 90
        }
      ]
    },
    {
      "cell_type": "code",
      "source": [
        "print(f\"Valeurs uniques : {len(df['coordx_origine'].unique())}\\n\")\n",
        "df['coordx_origine'].sample(n=5, random_state=23)"
      ],
      "metadata": {
        "colab": {
          "base_uri": "https://localhost:8080/",
          "height": 276
        },
        "id": "U-esK8QkQjNR",
        "outputId": "009f2882-519b-48da-ed60-8ba5571f6928"
      },
      "execution_count": 91,
      "outputs": [
        {
          "output_type": "stream",
          "name": "stdout",
          "text": [
            "Valeurs uniques : 62570\n",
            "\n"
          ]
        },
        {
          "output_type": "execute_result",
          "data": {
            "text/plain": [
              "38177    425952.7\n",
              "55127    644813.6\n",
              "8413     422274.3\n",
              "61003    804725.6\n",
              "41125    138818.6\n",
              "Name: coordx_origine, dtype: float64"
            ],
            "text/html": [
              "<div>\n",
              "<style scoped>\n",
              "    .dataframe tbody tr th:only-of-type {\n",
              "        vertical-align: middle;\n",
              "    }\n",
              "\n",
              "    .dataframe tbody tr th {\n",
              "        vertical-align: top;\n",
              "    }\n",
              "\n",
              "    .dataframe thead th {\n",
              "        text-align: right;\n",
              "    }\n",
              "</style>\n",
              "<table border=\"1\" class=\"dataframe\">\n",
              "  <thead>\n",
              "    <tr style=\"text-align: right;\">\n",
              "      <th></th>\n",
              "      <th>coordx_origine</th>\n",
              "    </tr>\n",
              "  </thead>\n",
              "  <tbody>\n",
              "    <tr>\n",
              "      <th>38177</th>\n",
              "      <td>425952.7</td>\n",
              "    </tr>\n",
              "    <tr>\n",
              "      <th>55127</th>\n",
              "      <td>644813.6</td>\n",
              "    </tr>\n",
              "    <tr>\n",
              "      <th>8413</th>\n",
              "      <td>422274.3</td>\n",
              "    </tr>\n",
              "    <tr>\n",
              "      <th>61003</th>\n",
              "      <td>804725.6</td>\n",
              "    </tr>\n",
              "    <tr>\n",
              "      <th>41125</th>\n",
              "      <td>138818.6</td>\n",
              "    </tr>\n",
              "  </tbody>\n",
              "</table>\n",
              "</div><br><label><b>dtype:</b> float64</label>"
            ]
          },
          "metadata": {},
          "execution_count": 91
        }
      ]
    },
    {
      "cell_type": "code",
      "source": [
        "print(f\"Valeurs uniques : {len(df['coordy_origine'].unique())}\\n\")\n",
        "df['coordy_origine'].sample(n=5, random_state=23)"
      ],
      "metadata": {
        "colab": {
          "base_uri": "https://localhost:8080/",
          "height": 276
        },
        "id": "X_kS5QYLQjT-",
        "outputId": "ccf6d354-c67f-4af2-cf12-a7c990741e35"
      },
      "execution_count": 92,
      "outputs": [
        {
          "output_type": "stream",
          "name": "stdout",
          "text": [
            "Valeurs uniques : 62519\n",
            "\n"
          ]
        },
        {
          "output_type": "execute_result",
          "data": {
            "text/plain": [
              "38177    6714743.0\n",
              "55127    6879742.1\n",
              "8413     6424257.8\n",
              "61003    6938437.4\n",
              "41125    6835175.4\n",
              "Name: coordy_origine, dtype: float64"
            ],
            "text/html": [
              "<div>\n",
              "<style scoped>\n",
              "    .dataframe tbody tr th:only-of-type {\n",
              "        vertical-align: middle;\n",
              "    }\n",
              "\n",
              "    .dataframe tbody tr th {\n",
              "        vertical-align: top;\n",
              "    }\n",
              "\n",
              "    .dataframe thead th {\n",
              "        text-align: right;\n",
              "    }\n",
              "</style>\n",
              "<table border=\"1\" class=\"dataframe\">\n",
              "  <thead>\n",
              "    <tr style=\"text-align: right;\">\n",
              "      <th></th>\n",
              "      <th>coordy_origine</th>\n",
              "    </tr>\n",
              "  </thead>\n",
              "  <tbody>\n",
              "    <tr>\n",
              "      <th>38177</th>\n",
              "      <td>6714743.0</td>\n",
              "    </tr>\n",
              "    <tr>\n",
              "      <th>55127</th>\n",
              "      <td>6879742.1</td>\n",
              "    </tr>\n",
              "    <tr>\n",
              "      <th>8413</th>\n",
              "      <td>6424257.8</td>\n",
              "    </tr>\n",
              "    <tr>\n",
              "      <th>61003</th>\n",
              "      <td>6938437.4</td>\n",
              "    </tr>\n",
              "    <tr>\n",
              "      <th>41125</th>\n",
              "      <td>6835175.4</td>\n",
              "    </tr>\n",
              "  </tbody>\n",
              "</table>\n",
              "</div><br><label><b>dtype:</b> float64</label>"
            ]
          },
          "metadata": {},
          "execution_count": 92
        }
      ]
    },
    {
      "cell_type": "code",
      "source": [
        "print(f\"Valeurs uniques : {len(df['epsg_origine'].unique())}\\n\")\n",
        "df['epsg_origine'].sample(n=5, random_state=23)"
      ],
      "metadata": {
        "colab": {
          "base_uri": "https://localhost:8080/",
          "height": 276
        },
        "id": "cd1Rl-XpQjbG",
        "outputId": "f6b256cb-ebfa-49be-885f-c26cbfb9879a"
      },
      "execution_count": 93,
      "outputs": [
        {
          "output_type": "stream",
          "name": "stdout",
          "text": [
            "Valeurs uniques : 8\n",
            "\n"
          ]
        },
        {
          "output_type": "execute_result",
          "data": {
            "text/plain": [
              "38177    EPSG:2154\n",
              "55127    EPSG:2154\n",
              "8413     EPSG:2154\n",
              "61003    EPSG:2154\n",
              "41125    EPSG:2154\n",
              "Name: epsg_origine, dtype: object"
            ],
            "text/html": [
              "<div>\n",
              "<style scoped>\n",
              "    .dataframe tbody tr th:only-of-type {\n",
              "        vertical-align: middle;\n",
              "    }\n",
              "\n",
              "    .dataframe tbody tr th {\n",
              "        vertical-align: top;\n",
              "    }\n",
              "\n",
              "    .dataframe thead th {\n",
              "        text-align: right;\n",
              "    }\n",
              "</style>\n",
              "<table border=\"1\" class=\"dataframe\">\n",
              "  <thead>\n",
              "    <tr style=\"text-align: right;\">\n",
              "      <th></th>\n",
              "      <th>epsg_origine</th>\n",
              "    </tr>\n",
              "  </thead>\n",
              "  <tbody>\n",
              "    <tr>\n",
              "      <th>38177</th>\n",
              "      <td>EPSG:2154</td>\n",
              "    </tr>\n",
              "    <tr>\n",
              "      <th>55127</th>\n",
              "      <td>EPSG:2154</td>\n",
              "    </tr>\n",
              "    <tr>\n",
              "      <th>8413</th>\n",
              "      <td>EPSG:2154</td>\n",
              "    </tr>\n",
              "    <tr>\n",
              "      <th>61003</th>\n",
              "      <td>EPSG:2154</td>\n",
              "    </tr>\n",
              "    <tr>\n",
              "      <th>41125</th>\n",
              "      <td>EPSG:2154</td>\n",
              "    </tr>\n",
              "  </tbody>\n",
              "</table>\n",
              "</div><br><label><b>dtype:</b> object</label>"
            ]
          },
          "metadata": {},
          "execution_count": 93
        }
      ]
    },
    {
      "cell_type": "code",
      "source": [
        "df['epsg_origine'].unique()"
      ],
      "metadata": {
        "colab": {
          "base_uri": "https://localhost:8080/"
        },
        "id": "UQ-kDMVXQjh8",
        "outputId": "cb800838-6d61-45cb-f8d4-04b427dd538a"
      },
      "execution_count": 94,
      "outputs": [
        {
          "output_type": "execute_result",
          "data": {
            "text/plain": [
              "array(['EPSG:2154', 'EPSG:32738', None, 'EPSG:2972', 'EPSG:2975',\n",
              "       'EPSG:32621', 'EPSG:32620', 'EPSG:4559'], dtype=object)"
            ]
          },
          "metadata": {},
          "execution_count": 94
        }
      ]
    },
    {
      "cell_type": "code",
      "source": [
        "print(f\"Valeurs uniques : {len(df['nom_circonscription'].unique())}\\n\")\n",
        "df['nom_circonscription'].sample(n=5, random_state=23)"
      ],
      "metadata": {
        "colab": {
          "base_uri": "https://localhost:8080/",
          "height": 276
        },
        "id": "-4kxxik_Qjo2",
        "outputId": "d10eb675-8a23-4cba-ce35-d4f655e197ac"
      },
      "execution_count": 95,
      "outputs": [
        {
          "output_type": "stream",
          "name": "stdout",
          "text": [
            "Valeurs uniques : 1398\n",
            "\n"
          ]
        },
        {
          "output_type": "execute_result",
          "data": {
            "text/plain": [
              "38177    Circonscription d'inspection du 1er degré d'An...\n",
              "55127                                                 None\n",
              "8413     Circonscription d'inspection du 1er degré d'En...\n",
              "61003    Circonscription d'inspection du 1er degré de R...\n",
              "41125                                                 None\n",
              "Name: nom_circonscription, dtype: object"
            ],
            "text/html": [
              "<div>\n",
              "<style scoped>\n",
              "    .dataframe tbody tr th:only-of-type {\n",
              "        vertical-align: middle;\n",
              "    }\n",
              "\n",
              "    .dataframe tbody tr th {\n",
              "        vertical-align: top;\n",
              "    }\n",
              "\n",
              "    .dataframe thead th {\n",
              "        text-align: right;\n",
              "    }\n",
              "</style>\n",
              "<table border=\"1\" class=\"dataframe\">\n",
              "  <thead>\n",
              "    <tr style=\"text-align: right;\">\n",
              "      <th></th>\n",
              "      <th>nom_circonscription</th>\n",
              "    </tr>\n",
              "  </thead>\n",
              "  <tbody>\n",
              "    <tr>\n",
              "      <th>38177</th>\n",
              "      <td>Circonscription d'inspection du 1er degré d'An...</td>\n",
              "    </tr>\n",
              "    <tr>\n",
              "      <th>55127</th>\n",
              "      <td>None</td>\n",
              "    </tr>\n",
              "    <tr>\n",
              "      <th>8413</th>\n",
              "      <td>Circonscription d'inspection du 1er degré d'En...</td>\n",
              "    </tr>\n",
              "    <tr>\n",
              "      <th>61003</th>\n",
              "      <td>Circonscription d'inspection du 1er degré de R...</td>\n",
              "    </tr>\n",
              "    <tr>\n",
              "      <th>41125</th>\n",
              "      <td>None</td>\n",
              "    </tr>\n",
              "  </tbody>\n",
              "</table>\n",
              "</div><br><label><b>dtype:</b> object</label>"
            ]
          },
          "metadata": {},
          "execution_count": 95
        }
      ]
    },
    {
      "cell_type": "code",
      "source": [
        "print(f\"Valeurs uniques : {len(df['latitude'].unique())}\\n\")\n",
        "df['latitude'].sample(n=5, random_state=23)"
      ],
      "metadata": {
        "colab": {
          "base_uri": "https://localhost:8080/",
          "height": 276
        },
        "id": "DSDjUWI9PJB6",
        "outputId": "d685c43d-92c7-474b-dd50-a06a1016a86d"
      },
      "execution_count": 96,
      "outputs": [
        {
          "output_type": "stream",
          "name": "stdout",
          "text": [
            "Valeurs uniques : 62956\n",
            "\n"
          ]
        },
        {
          "output_type": "execute_result",
          "data": {
            "text/plain": [
              "38177    47.476190\n",
              "55127    49.015212\n",
              "8413     44.861821\n",
              "61003    49.536604\n",
              "41125    48.373965\n",
              "Name: latitude, dtype: float64"
            ],
            "text/html": [
              "<div>\n",
              "<style scoped>\n",
              "    .dataframe tbody tr th:only-of-type {\n",
              "        vertical-align: middle;\n",
              "    }\n",
              "\n",
              "    .dataframe tbody tr th {\n",
              "        vertical-align: top;\n",
              "    }\n",
              "\n",
              "    .dataframe thead th {\n",
              "        text-align: right;\n",
              "    }\n",
              "</style>\n",
              "<table border=\"1\" class=\"dataframe\">\n",
              "  <thead>\n",
              "    <tr style=\"text-align: right;\">\n",
              "      <th></th>\n",
              "      <th>latitude</th>\n",
              "    </tr>\n",
              "  </thead>\n",
              "  <tbody>\n",
              "    <tr>\n",
              "      <th>38177</th>\n",
              "      <td>47.476190</td>\n",
              "    </tr>\n",
              "    <tr>\n",
              "      <th>55127</th>\n",
              "      <td>49.015212</td>\n",
              "    </tr>\n",
              "    <tr>\n",
              "      <th>8413</th>\n",
              "      <td>44.861821</td>\n",
              "    </tr>\n",
              "    <tr>\n",
              "      <th>61003</th>\n",
              "      <td>49.536604</td>\n",
              "    </tr>\n",
              "    <tr>\n",
              "      <th>41125</th>\n",
              "      <td>48.373965</td>\n",
              "    </tr>\n",
              "  </tbody>\n",
              "</table>\n",
              "</div><br><label><b>dtype:</b> float64</label>"
            ]
          },
          "metadata": {},
          "execution_count": 96
        }
      ]
    },
    {
      "cell_type": "code",
      "source": [
        "print(f\"Valeurs uniques : {len(df['longitude'].unique())}\\n\")\n",
        "df['longitude'].sample(n=5, random_state=23)"
      ],
      "metadata": {
        "colab": {
          "base_uri": "https://localhost:8080/",
          "height": 276
        },
        "id": "Jkxp-gflTdlg",
        "outputId": "867437ad-07bf-42cc-c9ed-1ea7706bc74a"
      },
      "execution_count": 97,
      "outputs": [
        {
          "output_type": "stream",
          "name": "stdout",
          "text": [
            "Valeurs uniques : 62956\n",
            "\n"
          ]
        },
        {
          "output_type": "execute_result",
          "data": {
            "text/plain": [
              "38177   -0.639892\n",
              "55127    2.245564\n",
              "8413    -0.516957\n",
              "61003    4.446251\n",
              "41125   -4.589760\n",
              "Name: longitude, dtype: float64"
            ],
            "text/html": [
              "<div>\n",
              "<style scoped>\n",
              "    .dataframe tbody tr th:only-of-type {\n",
              "        vertical-align: middle;\n",
              "    }\n",
              "\n",
              "    .dataframe tbody tr th {\n",
              "        vertical-align: top;\n",
              "    }\n",
              "\n",
              "    .dataframe thead th {\n",
              "        text-align: right;\n",
              "    }\n",
              "</style>\n",
              "<table border=\"1\" class=\"dataframe\">\n",
              "  <thead>\n",
              "    <tr style=\"text-align: right;\">\n",
              "      <th></th>\n",
              "      <th>longitude</th>\n",
              "    </tr>\n",
              "  </thead>\n",
              "  <tbody>\n",
              "    <tr>\n",
              "      <th>38177</th>\n",
              "      <td>-0.639892</td>\n",
              "    </tr>\n",
              "    <tr>\n",
              "      <th>55127</th>\n",
              "      <td>2.245564</td>\n",
              "    </tr>\n",
              "    <tr>\n",
              "      <th>8413</th>\n",
              "      <td>-0.516957</td>\n",
              "    </tr>\n",
              "    <tr>\n",
              "      <th>61003</th>\n",
              "      <td>4.446251</td>\n",
              "    </tr>\n",
              "    <tr>\n",
              "      <th>41125</th>\n",
              "      <td>-4.589760</td>\n",
              "    </tr>\n",
              "  </tbody>\n",
              "</table>\n",
              "</div><br><label><b>dtype:</b> float64</label>"
            ]
          },
          "metadata": {},
          "execution_count": 97
        }
      ]
    },
    {
      "cell_type": "code",
      "source": [
        "print(f\"Valeurs uniques : {len(df['precision_localisation'].unique())}\\n\")\n",
        "df['precision_localisation'].sample(n=5, random_state=23)"
      ],
      "metadata": {
        "colab": {
          "base_uri": "https://localhost:8080/",
          "height": 276
        },
        "id": "UKnGlTHqTds-",
        "outputId": "23197c75-1c57-4261-f060-15ef00853894"
      },
      "execution_count": 98,
      "outputs": [
        {
          "output_type": "stream",
          "name": "stdout",
          "text": [
            "Valeurs uniques : 21\n",
            "\n"
          ]
        },
        {
          "output_type": "execute_result",
          "data": {
            "text/plain": [
              "38177               Rue\n",
              "55127     Numéro de rue\n",
              "8413     PLAQUE_ADRESSE\n",
              "61003     Numéro de rue\n",
              "41125     Numéro de rue\n",
              "Name: precision_localisation, dtype: object"
            ],
            "text/html": [
              "<div>\n",
              "<style scoped>\n",
              "    .dataframe tbody tr th:only-of-type {\n",
              "        vertical-align: middle;\n",
              "    }\n",
              "\n",
              "    .dataframe tbody tr th {\n",
              "        vertical-align: top;\n",
              "    }\n",
              "\n",
              "    .dataframe thead th {\n",
              "        text-align: right;\n",
              "    }\n",
              "</style>\n",
              "<table border=\"1\" class=\"dataframe\">\n",
              "  <thead>\n",
              "    <tr style=\"text-align: right;\">\n",
              "      <th></th>\n",
              "      <th>precision_localisation</th>\n",
              "    </tr>\n",
              "  </thead>\n",
              "  <tbody>\n",
              "    <tr>\n",
              "      <th>38177</th>\n",
              "      <td>Rue</td>\n",
              "    </tr>\n",
              "    <tr>\n",
              "      <th>55127</th>\n",
              "      <td>Numéro de rue</td>\n",
              "    </tr>\n",
              "    <tr>\n",
              "      <th>8413</th>\n",
              "      <td>PLAQUE_ADRESSE</td>\n",
              "    </tr>\n",
              "    <tr>\n",
              "      <th>61003</th>\n",
              "      <td>Numéro de rue</td>\n",
              "    </tr>\n",
              "    <tr>\n",
              "      <th>41125</th>\n",
              "      <td>Numéro de rue</td>\n",
              "    </tr>\n",
              "  </tbody>\n",
              "</table>\n",
              "</div><br><label><b>dtype:</b> object</label>"
            ]
          },
          "metadata": {},
          "execution_count": 98
        }
      ]
    },
    {
      "cell_type": "code",
      "source": [
        "df['precision_localisation'].unique()"
      ],
      "metadata": {
        "colab": {
          "base_uri": "https://localhost:8080/"
        },
        "id": "f5cDNbDZTd1Q",
        "outputId": "6f8c7724-40c2-40fb-c37a-1c62fbef9aad"
      },
      "execution_count": 99,
      "outputs": [
        {
          "output_type": "execute_result",
          "data": {
            "text/plain": [
              "array(['Numéro de rue', 'Rue', 'Ville', 'PLAQUE_ADRESSE',\n",
              "       'ENTREE PRINCIPALE', 'BATIMENT', None, 'Lieu-dit',\n",
              "       'NUMERO (ADRESSE)', 'INTERPOLATION', 'CENTRE_PARCELLE_PROJETE',\n",
              "       'COMMUNE', 'NE SAIT PAS', 'MANUEL', 'Parfaite', 'Moyenne',\n",
              "       'Correcte', 'SIMILAIRE', 'ZONE_ADRESSAGE', 'DEFAUT_DE_NUMERO',\n",
              "       'Mauvaise'], dtype=object)"
            ]
          },
          "metadata": {},
          "execution_count": 99
        }
      ]
    },
    {
      "cell_type": "code",
      "source": [
        "print(f\"Valeurs uniques : {len(df['date_ouverture'].unique())}\\n\")\n",
        "df['date_ouverture'].sample(n=5, random_state=23)"
      ],
      "metadata": {
        "colab": {
          "base_uri": "https://localhost:8080/",
          "height": 276
        },
        "id": "goMZPVQ3Td-o",
        "outputId": "d9aa0418-933e-44df-b795-9994c0b6abda"
      },
      "execution_count": 100,
      "outputs": [
        {
          "output_type": "stream",
          "name": "stdout",
          "text": [
            "Valeurs uniques : 4654\n",
            "\n"
          ]
        },
        {
          "output_type": "execute_result",
          "data": {
            "text/plain": [
              "38177    2022-09-01\n",
              "55127    1968-05-09\n",
              "8413     1971-12-13\n",
              "61003    1968-05-10\n",
              "41125    1982-09-01\n",
              "Name: date_ouverture, dtype: object"
            ],
            "text/html": [
              "<div>\n",
              "<style scoped>\n",
              "    .dataframe tbody tr th:only-of-type {\n",
              "        vertical-align: middle;\n",
              "    }\n",
              "\n",
              "    .dataframe tbody tr th {\n",
              "        vertical-align: top;\n",
              "    }\n",
              "\n",
              "    .dataframe thead th {\n",
              "        text-align: right;\n",
              "    }\n",
              "</style>\n",
              "<table border=\"1\" class=\"dataframe\">\n",
              "  <thead>\n",
              "    <tr style=\"text-align: right;\">\n",
              "      <th></th>\n",
              "      <th>date_ouverture</th>\n",
              "    </tr>\n",
              "  </thead>\n",
              "  <tbody>\n",
              "    <tr>\n",
              "      <th>38177</th>\n",
              "      <td>2022-09-01</td>\n",
              "    </tr>\n",
              "    <tr>\n",
              "      <th>55127</th>\n",
              "      <td>1968-05-09</td>\n",
              "    </tr>\n",
              "    <tr>\n",
              "      <th>8413</th>\n",
              "      <td>1971-12-13</td>\n",
              "    </tr>\n",
              "    <tr>\n",
              "      <th>61003</th>\n",
              "      <td>1968-05-10</td>\n",
              "    </tr>\n",
              "    <tr>\n",
              "      <th>41125</th>\n",
              "      <td>1982-09-01</td>\n",
              "    </tr>\n",
              "  </tbody>\n",
              "</table>\n",
              "</div><br><label><b>dtype:</b> object</label>"
            ]
          },
          "metadata": {},
          "execution_count": 100
        }
      ]
    },
    {
      "cell_type": "code",
      "source": [
        "print(f\"Valeurs uniques : {len(df['date_maj_ligne'].unique())}\\n\")\n",
        "df['date_maj_ligne'].sample(n=5, random_state=23)"
      ],
      "metadata": {
        "colab": {
          "base_uri": "https://localhost:8080/",
          "height": 276
        },
        "id": "bAoQGT4dTeEH",
        "outputId": "5d67bbf9-8d4b-4a59-f076-572f56987a4d"
      },
      "execution_count": 101,
      "outputs": [
        {
          "output_type": "stream",
          "name": "stdout",
          "text": [
            "Valeurs uniques : 1\n",
            "\n"
          ]
        },
        {
          "output_type": "execute_result",
          "data": {
            "text/plain": [
              "38177    2025-01-27\n",
              "55127    2025-01-27\n",
              "8413     2025-01-27\n",
              "61003    2025-01-27\n",
              "41125    2025-01-27\n",
              "Name: date_maj_ligne, dtype: object"
            ],
            "text/html": [
              "<div>\n",
              "<style scoped>\n",
              "    .dataframe tbody tr th:only-of-type {\n",
              "        vertical-align: middle;\n",
              "    }\n",
              "\n",
              "    .dataframe tbody tr th {\n",
              "        vertical-align: top;\n",
              "    }\n",
              "\n",
              "    .dataframe thead th {\n",
              "        text-align: right;\n",
              "    }\n",
              "</style>\n",
              "<table border=\"1\" class=\"dataframe\">\n",
              "  <thead>\n",
              "    <tr style=\"text-align: right;\">\n",
              "      <th></th>\n",
              "      <th>date_maj_ligne</th>\n",
              "    </tr>\n",
              "  </thead>\n",
              "  <tbody>\n",
              "    <tr>\n",
              "      <th>38177</th>\n",
              "      <td>2025-01-27</td>\n",
              "    </tr>\n",
              "    <tr>\n",
              "      <th>55127</th>\n",
              "      <td>2025-01-27</td>\n",
              "    </tr>\n",
              "    <tr>\n",
              "      <th>8413</th>\n",
              "      <td>2025-01-27</td>\n",
              "    </tr>\n",
              "    <tr>\n",
              "      <th>61003</th>\n",
              "      <td>2025-01-27</td>\n",
              "    </tr>\n",
              "    <tr>\n",
              "      <th>41125</th>\n",
              "      <td>2025-01-27</td>\n",
              "    </tr>\n",
              "  </tbody>\n",
              "</table>\n",
              "</div><br><label><b>dtype:</b> object</label>"
            ]
          },
          "metadata": {},
          "execution_count": 101
        }
      ]
    },
    {
      "cell_type": "code",
      "source": [
        "print(f\"Valeurs uniques : {len(df['etat'].unique())}\\n\")\n",
        "df['etat'].sample(n=5, random_state=23)"
      ],
      "metadata": {
        "colab": {
          "base_uri": "https://localhost:8080/",
          "height": 276
        },
        "id": "3i1lH-KDTeLo",
        "outputId": "4ff2c98f-e6f3-476f-8129-c83384cc67b8"
      },
      "execution_count": 102,
      "outputs": [
        {
          "output_type": "stream",
          "name": "stdout",
          "text": [
            "Valeurs uniques : 2\n",
            "\n"
          ]
        },
        {
          "output_type": "execute_result",
          "data": {
            "text/plain": [
              "38177    OUVERT\n",
              "55127    OUVERT\n",
              "8413     OUVERT\n",
              "61003    OUVERT\n",
              "41125    OUVERT\n",
              "Name: etat, dtype: object"
            ],
            "text/html": [
              "<div>\n",
              "<style scoped>\n",
              "    .dataframe tbody tr th:only-of-type {\n",
              "        vertical-align: middle;\n",
              "    }\n",
              "\n",
              "    .dataframe tbody tr th {\n",
              "        vertical-align: top;\n",
              "    }\n",
              "\n",
              "    .dataframe thead th {\n",
              "        text-align: right;\n",
              "    }\n",
              "</style>\n",
              "<table border=\"1\" class=\"dataframe\">\n",
              "  <thead>\n",
              "    <tr style=\"text-align: right;\">\n",
              "      <th></th>\n",
              "      <th>etat</th>\n",
              "    </tr>\n",
              "  </thead>\n",
              "  <tbody>\n",
              "    <tr>\n",
              "      <th>38177</th>\n",
              "      <td>OUVERT</td>\n",
              "    </tr>\n",
              "    <tr>\n",
              "      <th>55127</th>\n",
              "      <td>OUVERT</td>\n",
              "    </tr>\n",
              "    <tr>\n",
              "      <th>8413</th>\n",
              "      <td>OUVERT</td>\n",
              "    </tr>\n",
              "    <tr>\n",
              "      <th>61003</th>\n",
              "      <td>OUVERT</td>\n",
              "    </tr>\n",
              "    <tr>\n",
              "      <th>41125</th>\n",
              "      <td>OUVERT</td>\n",
              "    </tr>\n",
              "  </tbody>\n",
              "</table>\n",
              "</div><br><label><b>dtype:</b> object</label>"
            ]
          },
          "metadata": {},
          "execution_count": 102
        }
      ]
    },
    {
      "cell_type": "code",
      "source": [
        "df['etat'].unique()"
      ],
      "metadata": {
        "colab": {
          "base_uri": "https://localhost:8080/"
        },
        "id": "TTf6bvDTTeTM",
        "outputId": "3079fc93-4d7b-455a-e3ac-e2aa3b695fc5"
      },
      "execution_count": 103,
      "outputs": [
        {
          "output_type": "execute_result",
          "data": {
            "text/plain": [
              "array(['OUVERT', 'A FERMER'], dtype=object)"
            ]
          },
          "metadata": {},
          "execution_count": 103
        }
      ]
    },
    {
      "cell_type": "code",
      "source": [
        "print(f\"Valeurs uniques : {len(df['ministere_tutelle'].unique())}\\n\")\n",
        "df['ministere_tutelle'].sample(n=5, random_state=23)"
      ],
      "metadata": {
        "colab": {
          "base_uri": "https://localhost:8080/",
          "height": 276
        },
        "id": "4jpU5klOTeaW",
        "outputId": "4eb430cf-44de-4bf3-83c2-2b23a9d1488f"
      },
      "execution_count": 104,
      "outputs": [
        {
          "output_type": "stream",
          "name": "stdout",
          "text": [
            "Valeurs uniques : 13\n",
            "\n"
          ]
        },
        {
          "output_type": "execute_result",
          "data": {
            "text/plain": [
              "38177    MINISTERE DE L'EDUCATION NATIONALE\n",
              "55127    MINISTERE DE L'EDUCATION NATIONALE\n",
              "8413     MINISTERE DE L'EDUCATION NATIONALE\n",
              "61003    MINISTERE DE L'EDUCATION NATIONALE\n",
              "41125    MINISTERE DE L'EDUCATION NATIONALE\n",
              "Name: ministere_tutelle, dtype: object"
            ],
            "text/html": [
              "<div>\n",
              "<style scoped>\n",
              "    .dataframe tbody tr th:only-of-type {\n",
              "        vertical-align: middle;\n",
              "    }\n",
              "\n",
              "    .dataframe tbody tr th {\n",
              "        vertical-align: top;\n",
              "    }\n",
              "\n",
              "    .dataframe thead th {\n",
              "        text-align: right;\n",
              "    }\n",
              "</style>\n",
              "<table border=\"1\" class=\"dataframe\">\n",
              "  <thead>\n",
              "    <tr style=\"text-align: right;\">\n",
              "      <th></th>\n",
              "      <th>ministere_tutelle</th>\n",
              "    </tr>\n",
              "  </thead>\n",
              "  <tbody>\n",
              "    <tr>\n",
              "      <th>38177</th>\n",
              "      <td>MINISTERE DE L'EDUCATION NATIONALE</td>\n",
              "    </tr>\n",
              "    <tr>\n",
              "      <th>55127</th>\n",
              "      <td>MINISTERE DE L'EDUCATION NATIONALE</td>\n",
              "    </tr>\n",
              "    <tr>\n",
              "      <th>8413</th>\n",
              "      <td>MINISTERE DE L'EDUCATION NATIONALE</td>\n",
              "    </tr>\n",
              "    <tr>\n",
              "      <th>61003</th>\n",
              "      <td>MINISTERE DE L'EDUCATION NATIONALE</td>\n",
              "    </tr>\n",
              "    <tr>\n",
              "      <th>41125</th>\n",
              "      <td>MINISTERE DE L'EDUCATION NATIONALE</td>\n",
              "    </tr>\n",
              "  </tbody>\n",
              "</table>\n",
              "</div><br><label><b>dtype:</b> object</label>"
            ]
          },
          "metadata": {},
          "execution_count": 104
        }
      ]
    },
    {
      "cell_type": "code",
      "source": [
        "df['ministere_tutelle'].unique()"
      ],
      "metadata": {
        "colab": {
          "base_uri": "https://localhost:8080/"
        },
        "id": "A6u7FjStTehw",
        "outputId": "12ff20fd-b383-41c2-e8b2-81dca573f797"
      },
      "execution_count": 105,
      "outputs": [
        {
          "output_type": "execute_result",
          "data": {
            "text/plain": [
              "array([\"MINISTERE DE L'EDUCATION NATIONALE\", 'AGRICULTURE', 'MER',\n",
              "       'DEFENSE', 'SANTE ET SOLIDARITE NATIONALE',\n",
              "       'ENSEIGNEMENT SUPERIEUR', 'REDEPLOIEMENT INDUSTRIEL',\n",
              "       'SANS TUTELLE', 'TRAVAIL EMPLOI FORMATION PROFESSIONNELLE',\n",
              "       'COMMERCE ET ARTISANAT',\n",
              "       'GRANDE CHANCELLERIE ORDRE LEGION HONNEUR', 'CULTURE',\n",
              "       'JEUNESSE ET SPORTS'], dtype=object)"
            ]
          },
          "metadata": {},
          "execution_count": 105
        }
      ]
    },
    {
      "cell_type": "code",
      "source": [
        "print(f\"Valeurs uniques : {len(df['multi_uai'].unique())}\\n\")\n",
        "df['multi_uai'].sample(n=5, random_state=23)"
      ],
      "metadata": {
        "colab": {
          "base_uri": "https://localhost:8080/",
          "height": 276
        },
        "id": "n35asFpMTeqS",
        "outputId": "700bac5f-6c17-4efb-fdc8-950c3fc10408"
      },
      "execution_count": 106,
      "outputs": [
        {
          "output_type": "stream",
          "name": "stdout",
          "text": [
            "Valeurs uniques : 2\n",
            "\n"
          ]
        },
        {
          "output_type": "execute_result",
          "data": {
            "text/plain": [
              "38177    0\n",
              "55127    0\n",
              "8413     0\n",
              "61003    0\n",
              "41125    0\n",
              "Name: multi_uai, dtype: int64"
            ],
            "text/html": [
              "<div>\n",
              "<style scoped>\n",
              "    .dataframe tbody tr th:only-of-type {\n",
              "        vertical-align: middle;\n",
              "    }\n",
              "\n",
              "    .dataframe tbody tr th {\n",
              "        vertical-align: top;\n",
              "    }\n",
              "\n",
              "    .dataframe thead th {\n",
              "        text-align: right;\n",
              "    }\n",
              "</style>\n",
              "<table border=\"1\" class=\"dataframe\">\n",
              "  <thead>\n",
              "    <tr style=\"text-align: right;\">\n",
              "      <th></th>\n",
              "      <th>multi_uai</th>\n",
              "    </tr>\n",
              "  </thead>\n",
              "  <tbody>\n",
              "    <tr>\n",
              "      <th>38177</th>\n",
              "      <td>0</td>\n",
              "    </tr>\n",
              "    <tr>\n",
              "      <th>55127</th>\n",
              "      <td>0</td>\n",
              "    </tr>\n",
              "    <tr>\n",
              "      <th>8413</th>\n",
              "      <td>0</td>\n",
              "    </tr>\n",
              "    <tr>\n",
              "      <th>61003</th>\n",
              "      <td>0</td>\n",
              "    </tr>\n",
              "    <tr>\n",
              "      <th>41125</th>\n",
              "      <td>0</td>\n",
              "    </tr>\n",
              "  </tbody>\n",
              "</table>\n",
              "</div><br><label><b>dtype:</b> int64</label>"
            ]
          },
          "metadata": {},
          "execution_count": 106
        }
      ]
    },
    {
      "cell_type": "code",
      "source": [
        "df['multi_uai'].unique()"
      ],
      "metadata": {
        "colab": {
          "base_uri": "https://localhost:8080/"
        },
        "id": "qk18TY4Wf7F1",
        "outputId": "9463d186-5645-4bed-d517-bee7ae0fb27b"
      },
      "execution_count": 107,
      "outputs": [
        {
          "output_type": "execute_result",
          "data": {
            "text/plain": [
              "array([0, 1])"
            ]
          },
          "metadata": {},
          "execution_count": 107
        }
      ]
    },
    {
      "cell_type": "code",
      "source": [
        "print(f\"Valeurs uniques : {len(df['rpi_concentre'].unique())}\\n\")\n",
        "df['rpi_concentre'].sample(n=5, random_state=23)"
      ],
      "metadata": {
        "colab": {
          "base_uri": "https://localhost:8080/",
          "height": 276
        },
        "id": "Vi9Z7TmDf7Qw",
        "outputId": "3316a1b7-b622-4804-d70d-59150cb16411"
      },
      "execution_count": 108,
      "outputs": [
        {
          "output_type": "stream",
          "name": "stdout",
          "text": [
            "Valeurs uniques : 3\n",
            "\n"
          ]
        },
        {
          "output_type": "execute_result",
          "data": {
            "text/plain": [
              "38177    0.0\n",
              "55127    0.0\n",
              "8413     0.0\n",
              "61003    0.0\n",
              "41125    0.0\n",
              "Name: rpi_concentre, dtype: float64"
            ],
            "text/html": [
              "<div>\n",
              "<style scoped>\n",
              "    .dataframe tbody tr th:only-of-type {\n",
              "        vertical-align: middle;\n",
              "    }\n",
              "\n",
              "    .dataframe tbody tr th {\n",
              "        vertical-align: top;\n",
              "    }\n",
              "\n",
              "    .dataframe thead th {\n",
              "        text-align: right;\n",
              "    }\n",
              "</style>\n",
              "<table border=\"1\" class=\"dataframe\">\n",
              "  <thead>\n",
              "    <tr style=\"text-align: right;\">\n",
              "      <th></th>\n",
              "      <th>rpi_concentre</th>\n",
              "    </tr>\n",
              "  </thead>\n",
              "  <tbody>\n",
              "    <tr>\n",
              "      <th>38177</th>\n",
              "      <td>0.0</td>\n",
              "    </tr>\n",
              "    <tr>\n",
              "      <th>55127</th>\n",
              "      <td>0.0</td>\n",
              "    </tr>\n",
              "    <tr>\n",
              "      <th>8413</th>\n",
              "      <td>0.0</td>\n",
              "    </tr>\n",
              "    <tr>\n",
              "      <th>61003</th>\n",
              "      <td>0.0</td>\n",
              "    </tr>\n",
              "    <tr>\n",
              "      <th>41125</th>\n",
              "      <td>0.0</td>\n",
              "    </tr>\n",
              "  </tbody>\n",
              "</table>\n",
              "</div><br><label><b>dtype:</b> float64</label>"
            ]
          },
          "metadata": {},
          "execution_count": 108
        }
      ]
    },
    {
      "cell_type": "code",
      "source": [
        "df['rpi_concentre'].unique()"
      ],
      "metadata": {
        "colab": {
          "base_uri": "https://localhost:8080/"
        },
        "id": "CFaFcaVLf7Y9",
        "outputId": "842936d5-6c85-4db9-b8a8-e435a4993786"
      },
      "execution_count": 109,
      "outputs": [
        {
          "output_type": "execute_result",
          "data": {
            "text/plain": [
              "array([ 0.,  1., nan])"
            ]
          },
          "metadata": {},
          "execution_count": 109
        }
      ]
    },
    {
      "cell_type": "code",
      "source": [
        "print(f\"Valeurs uniques : {len(df['rpi_disperse'].unique())}\\n\")\n",
        "df['rpi_disperse'].sample(n=5, random_state=23)"
      ],
      "metadata": {
        "colab": {
          "base_uri": "https://localhost:8080/",
          "height": 276
        },
        "id": "N0faqiWWf7i5",
        "outputId": "ce99f942-732b-4c20-e825-9a29893ec9c3"
      },
      "execution_count": 110,
      "outputs": [
        {
          "output_type": "stream",
          "name": "stdout",
          "text": [
            "Valeurs uniques : 3826\n",
            "\n"
          ]
        },
        {
          "output_type": "execute_result",
          "data": {
            "text/plain": [
              "38177    None\n",
              "55127    None\n",
              "8413     None\n",
              "61003    None\n",
              "41125    None\n",
              "Name: rpi_disperse, dtype: object"
            ],
            "text/html": [
              "<div>\n",
              "<style scoped>\n",
              "    .dataframe tbody tr th:only-of-type {\n",
              "        vertical-align: middle;\n",
              "    }\n",
              "\n",
              "    .dataframe tbody tr th {\n",
              "        vertical-align: top;\n",
              "    }\n",
              "\n",
              "    .dataframe thead th {\n",
              "        text-align: right;\n",
              "    }\n",
              "</style>\n",
              "<table border=\"1\" class=\"dataframe\">\n",
              "  <thead>\n",
              "    <tr style=\"text-align: right;\">\n",
              "      <th></th>\n",
              "      <th>rpi_disperse</th>\n",
              "    </tr>\n",
              "  </thead>\n",
              "  <tbody>\n",
              "    <tr>\n",
              "      <th>38177</th>\n",
              "      <td>None</td>\n",
              "    </tr>\n",
              "    <tr>\n",
              "      <th>55127</th>\n",
              "      <td>None</td>\n",
              "    </tr>\n",
              "    <tr>\n",
              "      <th>8413</th>\n",
              "      <td>None</td>\n",
              "    </tr>\n",
              "    <tr>\n",
              "      <th>61003</th>\n",
              "      <td>None</td>\n",
              "    </tr>\n",
              "    <tr>\n",
              "      <th>41125</th>\n",
              "      <td>None</td>\n",
              "    </tr>\n",
              "  </tbody>\n",
              "</table>\n",
              "</div><br><label><b>dtype:</b> object</label>"
            ]
          },
          "metadata": {},
          "execution_count": 110
        }
      ]
    },
    {
      "cell_type": "code",
      "source": [
        "print(f\"Valeurs uniques : {len(df['code_nature'].unique())}\\n\")\n",
        "df['code_nature'].sample(n=5, random_state=23)"
      ],
      "metadata": {
        "colab": {
          "base_uri": "https://localhost:8080/",
          "height": 276
        },
        "id": "Ye1qylbsf7q1",
        "outputId": "4d6846dd-1490-4cdd-de8b-5e9097a6d70a"
      },
      "execution_count": 111,
      "outputs": [
        {
          "output_type": "stream",
          "name": "stdout",
          "text": [
            "Valeurs uniques : 47\n",
            "\n"
          ]
        },
        {
          "output_type": "execute_result",
          "data": {
            "text/plain": [
              "38177    151\n",
              "55127    340\n",
              "8413     101\n",
              "61003    151\n",
              "41125    340\n",
              "Name: code_nature, dtype: int64"
            ],
            "text/html": [
              "<div>\n",
              "<style scoped>\n",
              "    .dataframe tbody tr th:only-of-type {\n",
              "        vertical-align: middle;\n",
              "    }\n",
              "\n",
              "    .dataframe tbody tr th {\n",
              "        vertical-align: top;\n",
              "    }\n",
              "\n",
              "    .dataframe thead th {\n",
              "        text-align: right;\n",
              "    }\n",
              "</style>\n",
              "<table border=\"1\" class=\"dataframe\">\n",
              "  <thead>\n",
              "    <tr style=\"text-align: right;\">\n",
              "      <th></th>\n",
              "      <th>code_nature</th>\n",
              "    </tr>\n",
              "  </thead>\n",
              "  <tbody>\n",
              "    <tr>\n",
              "      <th>38177</th>\n",
              "      <td>151</td>\n",
              "    </tr>\n",
              "    <tr>\n",
              "      <th>55127</th>\n",
              "      <td>340</td>\n",
              "    </tr>\n",
              "    <tr>\n",
              "      <th>8413</th>\n",
              "      <td>101</td>\n",
              "    </tr>\n",
              "    <tr>\n",
              "      <th>61003</th>\n",
              "      <td>151</td>\n",
              "    </tr>\n",
              "    <tr>\n",
              "      <th>41125</th>\n",
              "      <td>340</td>\n",
              "    </tr>\n",
              "  </tbody>\n",
              "</table>\n",
              "</div><br><label><b>dtype:</b> int64</label>"
            ]
          },
          "metadata": {},
          "execution_count": 111
        }
      ]
    },
    {
      "cell_type": "code",
      "source": [
        "print(f\"Valeurs uniques : {len(df['libelle_nature'].unique())}\\n\")\n",
        "df['libelle_nature'].sample(n=5, random_state=23)"
      ],
      "metadata": {
        "colab": {
          "base_uri": "https://localhost:8080/",
          "height": 276
        },
        "id": "lTC4xhSYf7z5",
        "outputId": "7c7b2af8-83c6-4bdf-acff-209fc1e78ca9"
      },
      "execution_count": 112,
      "outputs": [
        {
          "output_type": "stream",
          "name": "stdout",
          "text": [
            "Valeurs uniques : 47\n",
            "\n"
          ]
        },
        {
          "output_type": "execute_result",
          "data": {
            "text/plain": [
              "38177    ECOLE DE NIVEAU ELEMENTAIRE\n",
              "55127                        COLLEGE\n",
              "8413                ECOLE MATERNELLE\n",
              "61003    ECOLE DE NIVEAU ELEMENTAIRE\n",
              "41125                        COLLEGE\n",
              "Name: libelle_nature, dtype: object"
            ],
            "text/html": [
              "<div>\n",
              "<style scoped>\n",
              "    .dataframe tbody tr th:only-of-type {\n",
              "        vertical-align: middle;\n",
              "    }\n",
              "\n",
              "    .dataframe tbody tr th {\n",
              "        vertical-align: top;\n",
              "    }\n",
              "\n",
              "    .dataframe thead th {\n",
              "        text-align: right;\n",
              "    }\n",
              "</style>\n",
              "<table border=\"1\" class=\"dataframe\">\n",
              "  <thead>\n",
              "    <tr style=\"text-align: right;\">\n",
              "      <th></th>\n",
              "      <th>libelle_nature</th>\n",
              "    </tr>\n",
              "  </thead>\n",
              "  <tbody>\n",
              "    <tr>\n",
              "      <th>38177</th>\n",
              "      <td>ECOLE DE NIVEAU ELEMENTAIRE</td>\n",
              "    </tr>\n",
              "    <tr>\n",
              "      <th>55127</th>\n",
              "      <td>COLLEGE</td>\n",
              "    </tr>\n",
              "    <tr>\n",
              "      <th>8413</th>\n",
              "      <td>ECOLE MATERNELLE</td>\n",
              "    </tr>\n",
              "    <tr>\n",
              "      <th>61003</th>\n",
              "      <td>ECOLE DE NIVEAU ELEMENTAIRE</td>\n",
              "    </tr>\n",
              "    <tr>\n",
              "      <th>41125</th>\n",
              "      <td>COLLEGE</td>\n",
              "    </tr>\n",
              "  </tbody>\n",
              "</table>\n",
              "</div><br><label><b>dtype:</b> object</label>"
            ]
          },
          "metadata": {},
          "execution_count": 112
        }
      ]
    },
    {
      "cell_type": "code",
      "source": [
        "print(f\"Valeurs uniques : {len(df['code_type_contrat_prive'].unique())}\\n\")\n",
        "df['code_type_contrat_prive'].sample(n=5, random_state=23)"
      ],
      "metadata": {
        "colab": {
          "base_uri": "https://localhost:8080/",
          "height": 276
        },
        "id": "ty9Deo3Mf767",
        "outputId": "459453b2-76c2-4429-aff2-3db6e63d0856"
      },
      "execution_count": 113,
      "outputs": [
        {
          "output_type": "stream",
          "name": "stdout",
          "text": [
            "Valeurs uniques : 11\n",
            "\n"
          ]
        },
        {
          "output_type": "execute_result",
          "data": {
            "text/plain": [
              "38177    99\n",
              "55127    30\n",
              "8413     99\n",
              "61003    99\n",
              "41125    99\n",
              "Name: code_type_contrat_prive, dtype: object"
            ],
            "text/html": [
              "<div>\n",
              "<style scoped>\n",
              "    .dataframe tbody tr th:only-of-type {\n",
              "        vertical-align: middle;\n",
              "    }\n",
              "\n",
              "    .dataframe tbody tr th {\n",
              "        vertical-align: top;\n",
              "    }\n",
              "\n",
              "    .dataframe thead th {\n",
              "        text-align: right;\n",
              "    }\n",
              "</style>\n",
              "<table border=\"1\" class=\"dataframe\">\n",
              "  <thead>\n",
              "    <tr style=\"text-align: right;\">\n",
              "      <th></th>\n",
              "      <th>code_type_contrat_prive</th>\n",
              "    </tr>\n",
              "  </thead>\n",
              "  <tbody>\n",
              "    <tr>\n",
              "      <th>38177</th>\n",
              "      <td>99</td>\n",
              "    </tr>\n",
              "    <tr>\n",
              "      <th>55127</th>\n",
              "      <td>30</td>\n",
              "    </tr>\n",
              "    <tr>\n",
              "      <th>8413</th>\n",
              "      <td>99</td>\n",
              "    </tr>\n",
              "    <tr>\n",
              "      <th>61003</th>\n",
              "      <td>99</td>\n",
              "    </tr>\n",
              "    <tr>\n",
              "      <th>41125</th>\n",
              "      <td>99</td>\n",
              "    </tr>\n",
              "  </tbody>\n",
              "</table>\n",
              "</div><br><label><b>dtype:</b> object</label>"
            ]
          },
          "metadata": {},
          "execution_count": 113
        }
      ]
    },
    {
      "cell_type": "code",
      "source": [
        "df['code_type_contrat_prive'].unique()"
      ],
      "metadata": {
        "colab": {
          "base_uri": "https://localhost:8080/"
        },
        "id": "n-_dMxy9f8C3",
        "outputId": "ac9fa8fe-04c7-4948-ba9d-7881f145e6f2"
      },
      "execution_count": 114,
      "outputs": [
        {
          "output_type": "execute_result",
          "data": {
            "text/plain": [
              "array(['99', '30', '10', '31', '21', '20', '40', '41', '60', '!!', '50'],\n",
              "      dtype=object)"
            ]
          },
          "metadata": {},
          "execution_count": 114
        }
      ]
    },
    {
      "cell_type": "code",
      "source": [
        "print(f\"Valeurs uniques : {len(df['pial'].unique())}\\n\")\n",
        "df['pial'].sample(n=5, random_state=23)"
      ],
      "metadata": {
        "colab": {
          "base_uri": "https://localhost:8080/",
          "height": 276
        },
        "id": "ZepPSCDPf8LP",
        "outputId": "34cd4178-85d2-4548-f9ed-6724ef4170fa"
      },
      "execution_count": 115,
      "outputs": [
        {
          "output_type": "stream",
          "name": "stdout",
          "text": [
            "Valeurs uniques : 4125\n",
            "\n"
          ]
        },
        {
          "output_type": "execute_result",
          "data": {
            "text/plain": [
              "38177        None\n",
              "55127    0950749Y\n",
              "8413     0331464M\n",
              "61003    0080897G\n",
              "41125    0291929P\n",
              "Name: pial, dtype: object"
            ],
            "text/html": [
              "<div>\n",
              "<style scoped>\n",
              "    .dataframe tbody tr th:only-of-type {\n",
              "        vertical-align: middle;\n",
              "    }\n",
              "\n",
              "    .dataframe tbody tr th {\n",
              "        vertical-align: top;\n",
              "    }\n",
              "\n",
              "    .dataframe thead th {\n",
              "        text-align: right;\n",
              "    }\n",
              "</style>\n",
              "<table border=\"1\" class=\"dataframe\">\n",
              "  <thead>\n",
              "    <tr style=\"text-align: right;\">\n",
              "      <th></th>\n",
              "      <th>pial</th>\n",
              "    </tr>\n",
              "  </thead>\n",
              "  <tbody>\n",
              "    <tr>\n",
              "      <th>38177</th>\n",
              "      <td>None</td>\n",
              "    </tr>\n",
              "    <tr>\n",
              "      <th>55127</th>\n",
              "      <td>0950749Y</td>\n",
              "    </tr>\n",
              "    <tr>\n",
              "      <th>8413</th>\n",
              "      <td>0331464M</td>\n",
              "    </tr>\n",
              "    <tr>\n",
              "      <th>61003</th>\n",
              "      <td>0080897G</td>\n",
              "    </tr>\n",
              "    <tr>\n",
              "      <th>41125</th>\n",
              "      <td>0291929P</td>\n",
              "    </tr>\n",
              "  </tbody>\n",
              "</table>\n",
              "</div><br><label><b>dtype:</b> object</label>"
            ]
          },
          "metadata": {},
          "execution_count": 115
        }
      ]
    },
    {
      "cell_type": "code",
      "source": [
        "print(f\"Valeurs uniques : {len(df['etablissement_mere'].unique())}\\n\")\n",
        "df['etablissement_mere'].sample(n=5, random_state=23)"
      ],
      "metadata": {
        "colab": {
          "base_uri": "https://localhost:8080/",
          "height": 276
        },
        "id": "5pYQHpaIh-Hn",
        "outputId": "ac20de34-c1f2-4b53-e207-fbc9b1f2d550"
      },
      "execution_count": 116,
      "outputs": [
        {
          "output_type": "stream",
          "name": "stdout",
          "text": [
            "Valeurs uniques : 2574\n",
            "\n"
          ]
        },
        {
          "output_type": "execute_result",
          "data": {
            "text/plain": [
              "38177    None\n",
              "55127    None\n",
              "8413     None\n",
              "61003    None\n",
              "41125    None\n",
              "Name: etablissement_mere, dtype: object"
            ],
            "text/html": [
              "<div>\n",
              "<style scoped>\n",
              "    .dataframe tbody tr th:only-of-type {\n",
              "        vertical-align: middle;\n",
              "    }\n",
              "\n",
              "    .dataframe tbody tr th {\n",
              "        vertical-align: top;\n",
              "    }\n",
              "\n",
              "    .dataframe thead th {\n",
              "        text-align: right;\n",
              "    }\n",
              "</style>\n",
              "<table border=\"1\" class=\"dataframe\">\n",
              "  <thead>\n",
              "    <tr style=\"text-align: right;\">\n",
              "      <th></th>\n",
              "      <th>etablissement_mere</th>\n",
              "    </tr>\n",
              "  </thead>\n",
              "  <tbody>\n",
              "    <tr>\n",
              "      <th>38177</th>\n",
              "      <td>None</td>\n",
              "    </tr>\n",
              "    <tr>\n",
              "      <th>55127</th>\n",
              "      <td>None</td>\n",
              "    </tr>\n",
              "    <tr>\n",
              "      <th>8413</th>\n",
              "      <td>None</td>\n",
              "    </tr>\n",
              "    <tr>\n",
              "      <th>61003</th>\n",
              "      <td>None</td>\n",
              "    </tr>\n",
              "    <tr>\n",
              "      <th>41125</th>\n",
              "      <td>None</td>\n",
              "    </tr>\n",
              "  </tbody>\n",
              "</table>\n",
              "</div><br><label><b>dtype:</b> object</label>"
            ]
          },
          "metadata": {},
          "execution_count": 116
        }
      ]
    },
    {
      "cell_type": "code",
      "source": [
        "print(f\"Valeurs uniques : {len(df['type_rattachement_etablissement_mere'].unique())}\\n\")\n",
        "df['type_rattachement_etablissement_mere'].sample(n=5, random_state=23)"
      ],
      "metadata": {
        "colab": {
          "base_uri": "https://localhost:8080/",
          "height": 276
        },
        "id": "X54x2M8vh-O8",
        "outputId": "e749ef10-63c8-4a5a-ff60-e88527e57fb8"
      },
      "execution_count": 117,
      "outputs": [
        {
          "output_type": "stream",
          "name": "stdout",
          "text": [
            "Valeurs uniques : 4\n",
            "\n"
          ]
        },
        {
          "output_type": "execute_result",
          "data": {
            "text/plain": [
              "38177    None\n",
              "55127    None\n",
              "8413     None\n",
              "61003    None\n",
              "41125    None\n",
              "Name: type_rattachement_etablissement_mere, dtype: object"
            ],
            "text/html": [
              "<div>\n",
              "<style scoped>\n",
              "    .dataframe tbody tr th:only-of-type {\n",
              "        vertical-align: middle;\n",
              "    }\n",
              "\n",
              "    .dataframe tbody tr th {\n",
              "        vertical-align: top;\n",
              "    }\n",
              "\n",
              "    .dataframe thead th {\n",
              "        text-align: right;\n",
              "    }\n",
              "</style>\n",
              "<table border=\"1\" class=\"dataframe\">\n",
              "  <thead>\n",
              "    <tr style=\"text-align: right;\">\n",
              "      <th></th>\n",
              "      <th>type_rattachement_etablissement_mere</th>\n",
              "    </tr>\n",
              "  </thead>\n",
              "  <tbody>\n",
              "    <tr>\n",
              "      <th>38177</th>\n",
              "      <td>None</td>\n",
              "    </tr>\n",
              "    <tr>\n",
              "      <th>55127</th>\n",
              "      <td>None</td>\n",
              "    </tr>\n",
              "    <tr>\n",
              "      <th>8413</th>\n",
              "      <td>None</td>\n",
              "    </tr>\n",
              "    <tr>\n",
              "      <th>61003</th>\n",
              "      <td>None</td>\n",
              "    </tr>\n",
              "    <tr>\n",
              "      <th>41125</th>\n",
              "      <td>None</td>\n",
              "    </tr>\n",
              "  </tbody>\n",
              "</table>\n",
              "</div><br><label><b>dtype:</b> object</label>"
            ]
          },
          "metadata": {},
          "execution_count": 117
        }
      ]
    },
    {
      "cell_type": "code",
      "source": [
        "df['type_rattachement_etablissement_mere'].unique()"
      ],
      "metadata": {
        "colab": {
          "base_uri": "https://localhost:8080/"
        },
        "id": "xUuirf44h-WJ",
        "outputId": "aed8b155-e376-4b9c-d960-06dac8d62929"
      },
      "execution_count": 118,
      "outputs": [
        {
          "output_type": "execute_result",
          "data": {
            "text/plain": [
              "array([None, 'ANNEXE GEOGRAPHIQUE', 'FILIERE OU DEPARTEMENT OU SECTION',\n",
              "       'COMPOSANTE JURIDIQUE'], dtype=object)"
            ]
          },
          "metadata": {},
          "execution_count": 118
        }
      ]
    },
    {
      "cell_type": "code",
      "source": [
        "print(f\"Valeurs uniques : {len(df['code_circonscription'].unique())}\\n\")\n",
        "df['code_circonscription'].sample(n=5, random_state=23)"
      ],
      "metadata": {
        "colab": {
          "base_uri": "https://localhost:8080/",
          "height": 276
        },
        "id": "phl4ZwR8h-kv",
        "outputId": "336b95fa-2a7a-46bc-fdca-b0e39fdcfde1"
      },
      "execution_count": 119,
      "outputs": [
        {
          "output_type": "stream",
          "name": "stdout",
          "text": [
            "Valeurs uniques : 1413\n",
            "\n"
          ]
        },
        {
          "output_type": "execute_result",
          "data": {
            "text/plain": [
              "38177    0490794X\n",
              "55127        None\n",
              "8413     0331444R\n",
              "61003    0080078S\n",
              "41125        None\n",
              "Name: code_circonscription, dtype: object"
            ],
            "text/html": [
              "<div>\n",
              "<style scoped>\n",
              "    .dataframe tbody tr th:only-of-type {\n",
              "        vertical-align: middle;\n",
              "    }\n",
              "\n",
              "    .dataframe tbody tr th {\n",
              "        vertical-align: top;\n",
              "    }\n",
              "\n",
              "    .dataframe thead th {\n",
              "        text-align: right;\n",
              "    }\n",
              "</style>\n",
              "<table border=\"1\" class=\"dataframe\">\n",
              "  <thead>\n",
              "    <tr style=\"text-align: right;\">\n",
              "      <th></th>\n",
              "      <th>code_circonscription</th>\n",
              "    </tr>\n",
              "  </thead>\n",
              "  <tbody>\n",
              "    <tr>\n",
              "      <th>38177</th>\n",
              "      <td>0490794X</td>\n",
              "    </tr>\n",
              "    <tr>\n",
              "      <th>55127</th>\n",
              "      <td>None</td>\n",
              "    </tr>\n",
              "    <tr>\n",
              "      <th>8413</th>\n",
              "      <td>0331444R</td>\n",
              "    </tr>\n",
              "    <tr>\n",
              "      <th>61003</th>\n",
              "      <td>0080078S</td>\n",
              "    </tr>\n",
              "    <tr>\n",
              "      <th>41125</th>\n",
              "      <td>None</td>\n",
              "    </tr>\n",
              "  </tbody>\n",
              "</table>\n",
              "</div><br><label><b>dtype:</b> object</label>"
            ]
          },
          "metadata": {},
          "execution_count": 119
        }
      ]
    },
    {
      "cell_type": "code",
      "source": [
        "print(f\"Valeurs uniques : {len(df['code_zone_animation_pedagogique'].unique())}\\n\")\n",
        "df['code_zone_animation_pedagogique'].sample(n=5, random_state=23)"
      ],
      "metadata": {
        "colab": {
          "base_uri": "https://localhost:8080/",
          "height": 276
        },
        "id": "9_oriGezh-o7",
        "outputId": "439fd3e9-8a6a-4bc4-cd50-8c82df673d41"
      },
      "execution_count": 120,
      "outputs": [
        {
          "output_type": "stream",
          "name": "stdout",
          "text": [
            "Valeurs uniques : 376\n",
            "\n"
          ]
        },
        {
          "output_type": "execute_result",
          "data": {
            "text/plain": [
              "38177      None\n",
              "55127      None\n",
              "8413     03303B\n",
              "61003      None\n",
              "41125    029B01\n",
              "Name: code_zone_animation_pedagogique, dtype: object"
            ],
            "text/html": [
              "<div>\n",
              "<style scoped>\n",
              "    .dataframe tbody tr th:only-of-type {\n",
              "        vertical-align: middle;\n",
              "    }\n",
              "\n",
              "    .dataframe tbody tr th {\n",
              "        vertical-align: top;\n",
              "    }\n",
              "\n",
              "    .dataframe thead th {\n",
              "        text-align: right;\n",
              "    }\n",
              "</style>\n",
              "<table border=\"1\" class=\"dataframe\">\n",
              "  <thead>\n",
              "    <tr style=\"text-align: right;\">\n",
              "      <th></th>\n",
              "      <th>code_zone_animation_pedagogique</th>\n",
              "    </tr>\n",
              "  </thead>\n",
              "  <tbody>\n",
              "    <tr>\n",
              "      <th>38177</th>\n",
              "      <td>None</td>\n",
              "    </tr>\n",
              "    <tr>\n",
              "      <th>55127</th>\n",
              "      <td>None</td>\n",
              "    </tr>\n",
              "    <tr>\n",
              "      <th>8413</th>\n",
              "      <td>03303B</td>\n",
              "    </tr>\n",
              "    <tr>\n",
              "      <th>61003</th>\n",
              "      <td>None</td>\n",
              "    </tr>\n",
              "    <tr>\n",
              "      <th>41125</th>\n",
              "      <td>029B01</td>\n",
              "    </tr>\n",
              "  </tbody>\n",
              "</table>\n",
              "</div><br><label><b>dtype:</b> object</label>"
            ]
          },
          "metadata": {},
          "execution_count": 120
        }
      ]
    },
    {
      "cell_type": "code",
      "source": [
        "print(f\"Valeurs uniques : {len(df['libelle_zone_animation_pedagogique'].unique())}\\n\")\n",
        "df['libelle_zone_animation_pedagogique'].sample(n=5, random_state=23)"
      ],
      "metadata": {
        "colab": {
          "base_uri": "https://localhost:8080/",
          "height": 276
        },
        "id": "Z5e0USEajBz8",
        "outputId": "cbc94b2b-0e64-487d-ac02-1d10252032a6"
      },
      "execution_count": 121,
      "outputs": [
        {
          "output_type": "stream",
          "name": "stdout",
          "text": [
            "Valeurs uniques : 353\n",
            "\n"
          ]
        },
        {
          "output_type": "execute_result",
          "data": {
            "text/plain": [
              "38177                      None\n",
              "55127                      None\n",
              "8413     ZAP 03303B RIVE DROITE\n",
              "61003                      None\n",
              "41125               BEF 29 Nord\n",
              "Name: libelle_zone_animation_pedagogique, dtype: object"
            ],
            "text/html": [
              "<div>\n",
              "<style scoped>\n",
              "    .dataframe tbody tr th:only-of-type {\n",
              "        vertical-align: middle;\n",
              "    }\n",
              "\n",
              "    .dataframe tbody tr th {\n",
              "        vertical-align: top;\n",
              "    }\n",
              "\n",
              "    .dataframe thead th {\n",
              "        text-align: right;\n",
              "    }\n",
              "</style>\n",
              "<table border=\"1\" class=\"dataframe\">\n",
              "  <thead>\n",
              "    <tr style=\"text-align: right;\">\n",
              "      <th></th>\n",
              "      <th>libelle_zone_animation_pedagogique</th>\n",
              "    </tr>\n",
              "  </thead>\n",
              "  <tbody>\n",
              "    <tr>\n",
              "      <th>38177</th>\n",
              "      <td>None</td>\n",
              "    </tr>\n",
              "    <tr>\n",
              "      <th>55127</th>\n",
              "      <td>None</td>\n",
              "    </tr>\n",
              "    <tr>\n",
              "      <th>8413</th>\n",
              "      <td>ZAP 03303B RIVE DROITE</td>\n",
              "    </tr>\n",
              "    <tr>\n",
              "      <th>61003</th>\n",
              "      <td>None</td>\n",
              "    </tr>\n",
              "    <tr>\n",
              "      <th>41125</th>\n",
              "      <td>BEF 29 Nord</td>\n",
              "    </tr>\n",
              "  </tbody>\n",
              "</table>\n",
              "</div><br><label><b>dtype:</b> object</label>"
            ]
          },
          "metadata": {},
          "execution_count": 121
        }
      ]
    },
    {
      "cell_type": "code",
      "source": [
        "print(f\"Valeurs uniques : {len(df['code_bassin_formation'].unique())}\\n\")\n",
        "df['code_bassin_formation'].sample(n=5, random_state=23)"
      ],
      "metadata": {
        "colab": {
          "base_uri": "https://localhost:8080/",
          "height": 276
        },
        "id": "3w9Od5I9jB8C",
        "outputId": "ae4eeeb4-7cd1-4c97-8377-c398e8792dd6"
      },
      "execution_count": 122,
      "outputs": [
        {
          "output_type": "stream",
          "name": "stdout",
          "text": [
            "Valeurs uniques : 365\n",
            "\n"
          ]
        },
        {
          "output_type": "execute_result",
          "data": {
            "text/plain": [
              "38177    17006\n",
              "55127    25022\n",
              "8413     04203\n",
              "61003    19030\n",
              "41125     None\n",
              "Name: code_bassin_formation, dtype: object"
            ],
            "text/html": [
              "<div>\n",
              "<style scoped>\n",
              "    .dataframe tbody tr th:only-of-type {\n",
              "        vertical-align: middle;\n",
              "    }\n",
              "\n",
              "    .dataframe tbody tr th {\n",
              "        vertical-align: top;\n",
              "    }\n",
              "\n",
              "    .dataframe thead th {\n",
              "        text-align: right;\n",
              "    }\n",
              "</style>\n",
              "<table border=\"1\" class=\"dataframe\">\n",
              "  <thead>\n",
              "    <tr style=\"text-align: right;\">\n",
              "      <th></th>\n",
              "      <th>code_bassin_formation</th>\n",
              "    </tr>\n",
              "  </thead>\n",
              "  <tbody>\n",
              "    <tr>\n",
              "      <th>38177</th>\n",
              "      <td>17006</td>\n",
              "    </tr>\n",
              "    <tr>\n",
              "      <th>55127</th>\n",
              "      <td>25022</td>\n",
              "    </tr>\n",
              "    <tr>\n",
              "      <th>8413</th>\n",
              "      <td>04203</td>\n",
              "    </tr>\n",
              "    <tr>\n",
              "      <th>61003</th>\n",
              "      <td>19030</td>\n",
              "    </tr>\n",
              "    <tr>\n",
              "      <th>41125</th>\n",
              "      <td>None</td>\n",
              "    </tr>\n",
              "  </tbody>\n",
              "</table>\n",
              "</div><br><label><b>dtype:</b> object</label>"
            ]
          },
          "metadata": {},
          "execution_count": 122
        }
      ]
    },
    {
      "cell_type": "code",
      "source": [
        "print(f\"Valeurs uniques : {len(df['libelle_bassin_formation'].unique())}\\n\")\n",
        "df['libelle_bassin_formation'].sample(n=5, random_state=23)"
      ],
      "metadata": {
        "colab": {
          "base_uri": "https://localhost:8080/",
          "height": 276
        },
        "id": "_5rOOYpLf8Sf",
        "outputId": "a0fe4a6b-e1af-4017-92a5-238176489b84"
      },
      "execution_count": 123,
      "outputs": [
        {
          "output_type": "stream",
          "name": "stdout",
          "text": [
            "Valeurs uniques : 364\n",
            "\n"
          ]
        },
        {
          "output_type": "execute_result",
          "data": {
            "text/plain": [
              "38177        ANGERS-EST\n",
              "55127      095C-ENGHIEN\n",
              "8413     BX RIVE DROITE\n",
              "61003      SUD ARDENNES\n",
              "41125              None\n",
              "Name: libelle_bassin_formation, dtype: object"
            ],
            "text/html": [
              "<div>\n",
              "<style scoped>\n",
              "    .dataframe tbody tr th:only-of-type {\n",
              "        vertical-align: middle;\n",
              "    }\n",
              "\n",
              "    .dataframe tbody tr th {\n",
              "        vertical-align: top;\n",
              "    }\n",
              "\n",
              "    .dataframe thead th {\n",
              "        text-align: right;\n",
              "    }\n",
              "</style>\n",
              "<table border=\"1\" class=\"dataframe\">\n",
              "  <thead>\n",
              "    <tr style=\"text-align: right;\">\n",
              "      <th></th>\n",
              "      <th>libelle_bassin_formation</th>\n",
              "    </tr>\n",
              "  </thead>\n",
              "  <tbody>\n",
              "    <tr>\n",
              "      <th>38177</th>\n",
              "      <td>ANGERS-EST</td>\n",
              "    </tr>\n",
              "    <tr>\n",
              "      <th>55127</th>\n",
              "      <td>095C-ENGHIEN</td>\n",
              "    </tr>\n",
              "    <tr>\n",
              "      <th>8413</th>\n",
              "      <td>BX RIVE DROITE</td>\n",
              "    </tr>\n",
              "    <tr>\n",
              "      <th>61003</th>\n",
              "      <td>SUD ARDENNES</td>\n",
              "    </tr>\n",
              "    <tr>\n",
              "      <th>41125</th>\n",
              "      <td>None</td>\n",
              "    </tr>\n",
              "  </tbody>\n",
              "</table>\n",
              "</div><br><label><b>dtype:</b> object</label>"
            ]
          },
          "metadata": {},
          "execution_count": 123
        }
      ]
    },
    {
      "cell_type": "markdown",
      "source": [
        "## Anomalies"
      ],
      "metadata": {
        "id": "3zRljnVGbQQf"
      }
    },
    {
      "cell_type": "markdown",
      "source": [
        "### id etablissement et multi_uai"
      ],
      "metadata": {
        "id": "XTvr94LRmKof"
      }
    },
    {
      "cell_type": "code",
      "source": [
        "# Vérifier doublons sur id etablissement\n",
        "print(f\"Taille du dataframe : {len(df)}\")\n",
        "print(f\"Valeurs uniques pour identifiant_de_l_etablissement : {len(df['identifiant_de_l_etablissement'].unique())}\")"
      ],
      "metadata": {
        "colab": {
          "base_uri": "https://localhost:8080/"
        },
        "id": "V232Rk84kme0",
        "outputId": "82276bc8-7c8c-4bc3-8907-cadf4b3e3c43"
      },
      "execution_count": 129,
      "outputs": [
        {
          "output_type": "stream",
          "name": "stdout",
          "text": [
            "Taille du dataframe : 69648\n",
            "Valeurs uniques pour identifiant_de_l_etablissement : 69566\n"
          ]
        }
      ]
    },
    {
      "cell_type": "code",
      "source": [
        "# Comptage du nombre de lignes par id etablissement\n",
        "df_ets = df.groupby('identifiant_de_l_etablissement').size().reset_index(name='Count')\n",
        "\n",
        "# Puis, sélection des id etablissement qui ont au moins 2 lignes\n",
        "df_ets_sup2 = df_ets[df_ets['Count'] > 1]\n",
        "\n",
        "# On ajoute cette information dans le dataframe initial, avec un indicateur permettant de savoir\n",
        "# quels établissements ont plusieurs lignes\n",
        "merged_df = pd.merge(df, df_ets_sup2, on='identifiant_de_l_etablissement',\n",
        "                     how='outer', indicator=True)\n",
        "merged_df.head()"
      ],
      "metadata": {
        "colab": {
          "base_uri": "https://localhost:8080/",
          "height": 394
        },
        "id": "CAzAKlpjmOel",
        "outputId": "74ab208e-379f-4345-c03a-9916f4a9734d"
      },
      "execution_count": 143,
      "outputs": [
        {
          "output_type": "execute_result",
          "data": {
            "text/plain": [
              "  identifiant_de_l_etablissement                     nom_etablissement  \\\n",
              "0                       0010001W  Lycée professionnel Alexandre Bérard   \n",
              "1                       0010002X                 Collège Saint-Exupéry   \n",
              "2                       0010005A                Collège Roger Poulnard   \n",
              "3                       0010006B        Lycée polyvalent Saint-Exupéry   \n",
              "4                       0010008D                 Collège Saint-Exupéry   \n",
              "\n",
              "  type_etablissement statut_public_prive                 adresse_1 adresse_2  \\\n",
              "0              Lycée              Public  223 rue Alexandre Bérard    BP 519   \n",
              "1            Collège              Public            6 rue Aguetant      None   \n",
              "2            Collège              Public      131 rue de la Mairie      None   \n",
              "3              Lycée              Public   15 avenue Saint-Exupéry    BP 616   \n",
              "4            Collège              Public   15 avenue Saint-Exupéry      None   \n",
              "\n",
              "  adresse_3 code_postal code_commune        nom_commune  ...      pial  \\\n",
              "0      None       01505        01004  Ambérieu-en-Bugey  ...  0010002X   \n",
              "1      None       01500        01004  Ambérieu-en-Bugey  ...  0010002X   \n",
              "2      None       01380        01025      Bâgé-la-Ville  ...  0010005A   \n",
              "3      None       01206        01033         Valserhône  ...  0010008D   \n",
              "4      None       01206        01033         Valserhône  ...  0010008D   \n",
              "\n",
              "  etablissement_mere type_rattachement_etablissement_mere  \\\n",
              "0               None                                 None   \n",
              "1               None                                 None   \n",
              "2               None                                 None   \n",
              "3               None                                 None   \n",
              "4               None                                 None   \n",
              "\n",
              "   code_circonscription  code_zone_animation_pedagogique  \\\n",
              "0                  None                             None   \n",
              "1              0010818J                             None   \n",
              "2              0010818J                             None   \n",
              "3                  None                             None   \n",
              "4              0010818J                             None   \n",
              "\n",
              "  libelle_zone_animation_pedagogique code_bassin_formation  \\\n",
              "0                               None                 10013   \n",
              "1                               None                 10013   \n",
              "2                               None                 10011   \n",
              "3                               None                 10012   \n",
              "4                               None                 10012   \n",
              "\n",
              "  libelle_bassin_formation Count     _merge  \n",
              "0                  AIN SUD   NaN  left_only  \n",
              "1                  AIN SUD   NaN  left_only  \n",
              "2                AIN OUEST   NaN  left_only  \n",
              "3                  AIN EST   NaN  left_only  \n",
              "4                  AIN EST   NaN  left_only  \n",
              "\n",
              "[5 rows x 74 columns]"
            ],
            "text/html": [
              "\n",
              "  <div id=\"df-27871ce1-b5ec-4f52-b4cf-09d4ecb5292b\" class=\"colab-df-container\">\n",
              "    <div>\n",
              "<style scoped>\n",
              "    .dataframe tbody tr th:only-of-type {\n",
              "        vertical-align: middle;\n",
              "    }\n",
              "\n",
              "    .dataframe tbody tr th {\n",
              "        vertical-align: top;\n",
              "    }\n",
              "\n",
              "    .dataframe thead th {\n",
              "        text-align: right;\n",
              "    }\n",
              "</style>\n",
              "<table border=\"1\" class=\"dataframe\">\n",
              "  <thead>\n",
              "    <tr style=\"text-align: right;\">\n",
              "      <th></th>\n",
              "      <th>identifiant_de_l_etablissement</th>\n",
              "      <th>nom_etablissement</th>\n",
              "      <th>type_etablissement</th>\n",
              "      <th>statut_public_prive</th>\n",
              "      <th>adresse_1</th>\n",
              "      <th>adresse_2</th>\n",
              "      <th>adresse_3</th>\n",
              "      <th>code_postal</th>\n",
              "      <th>code_commune</th>\n",
              "      <th>nom_commune</th>\n",
              "      <th>...</th>\n",
              "      <th>pial</th>\n",
              "      <th>etablissement_mere</th>\n",
              "      <th>type_rattachement_etablissement_mere</th>\n",
              "      <th>code_circonscription</th>\n",
              "      <th>code_zone_animation_pedagogique</th>\n",
              "      <th>libelle_zone_animation_pedagogique</th>\n",
              "      <th>code_bassin_formation</th>\n",
              "      <th>libelle_bassin_formation</th>\n",
              "      <th>Count</th>\n",
              "      <th>_merge</th>\n",
              "    </tr>\n",
              "  </thead>\n",
              "  <tbody>\n",
              "    <tr>\n",
              "      <th>0</th>\n",
              "      <td>0010001W</td>\n",
              "      <td>Lycée professionnel Alexandre Bérard</td>\n",
              "      <td>Lycée</td>\n",
              "      <td>Public</td>\n",
              "      <td>223 rue Alexandre Bérard</td>\n",
              "      <td>BP 519</td>\n",
              "      <td>None</td>\n",
              "      <td>01505</td>\n",
              "      <td>01004</td>\n",
              "      <td>Ambérieu-en-Bugey</td>\n",
              "      <td>...</td>\n",
              "      <td>0010002X</td>\n",
              "      <td>None</td>\n",
              "      <td>None</td>\n",
              "      <td>None</td>\n",
              "      <td>None</td>\n",
              "      <td>None</td>\n",
              "      <td>10013</td>\n",
              "      <td>AIN SUD</td>\n",
              "      <td>NaN</td>\n",
              "      <td>left_only</td>\n",
              "    </tr>\n",
              "    <tr>\n",
              "      <th>1</th>\n",
              "      <td>0010002X</td>\n",
              "      <td>Collège Saint-Exupéry</td>\n",
              "      <td>Collège</td>\n",
              "      <td>Public</td>\n",
              "      <td>6 rue Aguetant</td>\n",
              "      <td>None</td>\n",
              "      <td>None</td>\n",
              "      <td>01500</td>\n",
              "      <td>01004</td>\n",
              "      <td>Ambérieu-en-Bugey</td>\n",
              "      <td>...</td>\n",
              "      <td>0010002X</td>\n",
              "      <td>None</td>\n",
              "      <td>None</td>\n",
              "      <td>0010818J</td>\n",
              "      <td>None</td>\n",
              "      <td>None</td>\n",
              "      <td>10013</td>\n",
              "      <td>AIN SUD</td>\n",
              "      <td>NaN</td>\n",
              "      <td>left_only</td>\n",
              "    </tr>\n",
              "    <tr>\n",
              "      <th>2</th>\n",
              "      <td>0010005A</td>\n",
              "      <td>Collège Roger Poulnard</td>\n",
              "      <td>Collège</td>\n",
              "      <td>Public</td>\n",
              "      <td>131 rue de la Mairie</td>\n",
              "      <td>None</td>\n",
              "      <td>None</td>\n",
              "      <td>01380</td>\n",
              "      <td>01025</td>\n",
              "      <td>Bâgé-la-Ville</td>\n",
              "      <td>...</td>\n",
              "      <td>0010005A</td>\n",
              "      <td>None</td>\n",
              "      <td>None</td>\n",
              "      <td>0010818J</td>\n",
              "      <td>None</td>\n",
              "      <td>None</td>\n",
              "      <td>10011</td>\n",
              "      <td>AIN OUEST</td>\n",
              "      <td>NaN</td>\n",
              "      <td>left_only</td>\n",
              "    </tr>\n",
              "    <tr>\n",
              "      <th>3</th>\n",
              "      <td>0010006B</td>\n",
              "      <td>Lycée polyvalent Saint-Exupéry</td>\n",
              "      <td>Lycée</td>\n",
              "      <td>Public</td>\n",
              "      <td>15 avenue Saint-Exupéry</td>\n",
              "      <td>BP 616</td>\n",
              "      <td>None</td>\n",
              "      <td>01206</td>\n",
              "      <td>01033</td>\n",
              "      <td>Valserhône</td>\n",
              "      <td>...</td>\n",
              "      <td>0010008D</td>\n",
              "      <td>None</td>\n",
              "      <td>None</td>\n",
              "      <td>None</td>\n",
              "      <td>None</td>\n",
              "      <td>None</td>\n",
              "      <td>10012</td>\n",
              "      <td>AIN EST</td>\n",
              "      <td>NaN</td>\n",
              "      <td>left_only</td>\n",
              "    </tr>\n",
              "    <tr>\n",
              "      <th>4</th>\n",
              "      <td>0010008D</td>\n",
              "      <td>Collège Saint-Exupéry</td>\n",
              "      <td>Collège</td>\n",
              "      <td>Public</td>\n",
              "      <td>15 avenue Saint-Exupéry</td>\n",
              "      <td>None</td>\n",
              "      <td>None</td>\n",
              "      <td>01206</td>\n",
              "      <td>01033</td>\n",
              "      <td>Valserhône</td>\n",
              "      <td>...</td>\n",
              "      <td>0010008D</td>\n",
              "      <td>None</td>\n",
              "      <td>None</td>\n",
              "      <td>0010818J</td>\n",
              "      <td>None</td>\n",
              "      <td>None</td>\n",
              "      <td>10012</td>\n",
              "      <td>AIN EST</td>\n",
              "      <td>NaN</td>\n",
              "      <td>left_only</td>\n",
              "    </tr>\n",
              "  </tbody>\n",
              "</table>\n",
              "<p>5 rows × 74 columns</p>\n",
              "</div>\n",
              "    <div class=\"colab-df-buttons\">\n",
              "\n",
              "  <div class=\"colab-df-container\">\n",
              "    <button class=\"colab-df-convert\" onclick=\"convertToInteractive('df-27871ce1-b5ec-4f52-b4cf-09d4ecb5292b')\"\n",
              "            title=\"Convert this dataframe to an interactive table.\"\n",
              "            style=\"display:none;\">\n",
              "\n",
              "  <svg xmlns=\"http://www.w3.org/2000/svg\" height=\"24px\" viewBox=\"0 -960 960 960\">\n",
              "    <path d=\"M120-120v-720h720v720H120Zm60-500h600v-160H180v160Zm220 220h160v-160H400v160Zm0 220h160v-160H400v160ZM180-400h160v-160H180v160Zm440 0h160v-160H620v160ZM180-180h160v-160H180v160Zm440 0h160v-160H620v160Z\"/>\n",
              "  </svg>\n",
              "    </button>\n",
              "\n",
              "  <style>\n",
              "    .colab-df-container {\n",
              "      display:flex;\n",
              "      gap: 12px;\n",
              "    }\n",
              "\n",
              "    .colab-df-convert {\n",
              "      background-color: #E8F0FE;\n",
              "      border: none;\n",
              "      border-radius: 50%;\n",
              "      cursor: pointer;\n",
              "      display: none;\n",
              "      fill: #1967D2;\n",
              "      height: 32px;\n",
              "      padding: 0 0 0 0;\n",
              "      width: 32px;\n",
              "    }\n",
              "\n",
              "    .colab-df-convert:hover {\n",
              "      background-color: #E2EBFA;\n",
              "      box-shadow: 0px 1px 2px rgba(60, 64, 67, 0.3), 0px 1px 3px 1px rgba(60, 64, 67, 0.15);\n",
              "      fill: #174EA6;\n",
              "    }\n",
              "\n",
              "    .colab-df-buttons div {\n",
              "      margin-bottom: 4px;\n",
              "    }\n",
              "\n",
              "    [theme=dark] .colab-df-convert {\n",
              "      background-color: #3B4455;\n",
              "      fill: #D2E3FC;\n",
              "    }\n",
              "\n",
              "    [theme=dark] .colab-df-convert:hover {\n",
              "      background-color: #434B5C;\n",
              "      box-shadow: 0px 1px 3px 1px rgba(0, 0, 0, 0.15);\n",
              "      filter: drop-shadow(0px 1px 2px rgba(0, 0, 0, 0.3));\n",
              "      fill: #FFFFFF;\n",
              "    }\n",
              "  </style>\n",
              "\n",
              "    <script>\n",
              "      const buttonEl =\n",
              "        document.querySelector('#df-27871ce1-b5ec-4f52-b4cf-09d4ecb5292b button.colab-df-convert');\n",
              "      buttonEl.style.display =\n",
              "        google.colab.kernel.accessAllowed ? 'block' : 'none';\n",
              "\n",
              "      async function convertToInteractive(key) {\n",
              "        const element = document.querySelector('#df-27871ce1-b5ec-4f52-b4cf-09d4ecb5292b');\n",
              "        const dataTable =\n",
              "          await google.colab.kernel.invokeFunction('convertToInteractive',\n",
              "                                                    [key], {});\n",
              "        if (!dataTable) return;\n",
              "\n",
              "        const docLinkHtml = 'Like what you see? Visit the ' +\n",
              "          '<a target=\"_blank\" href=https://colab.research.google.com/notebooks/data_table.ipynb>data table notebook</a>'\n",
              "          + ' to learn more about interactive tables.';\n",
              "        element.innerHTML = '';\n",
              "        dataTable['output_type'] = 'display_data';\n",
              "        await google.colab.output.renderOutput(dataTable, element);\n",
              "        const docLink = document.createElement('div');\n",
              "        docLink.innerHTML = docLinkHtml;\n",
              "        element.appendChild(docLink);\n",
              "      }\n",
              "    </script>\n",
              "  </div>\n",
              "\n",
              "\n",
              "<div id=\"df-c61a6f79-516b-4088-aa32-83e2a23c45d1\">\n",
              "  <button class=\"colab-df-quickchart\" onclick=\"quickchart('df-c61a6f79-516b-4088-aa32-83e2a23c45d1')\"\n",
              "            title=\"Suggest charts\"\n",
              "            style=\"display:none;\">\n",
              "\n",
              "<svg xmlns=\"http://www.w3.org/2000/svg\" height=\"24px\"viewBox=\"0 0 24 24\"\n",
              "     width=\"24px\">\n",
              "    <g>\n",
              "        <path d=\"M19 3H5c-1.1 0-2 .9-2 2v14c0 1.1.9 2 2 2h14c1.1 0 2-.9 2-2V5c0-1.1-.9-2-2-2zM9 17H7v-7h2v7zm4 0h-2V7h2v10zm4 0h-2v-4h2v4z\"/>\n",
              "    </g>\n",
              "</svg>\n",
              "  </button>\n",
              "\n",
              "<style>\n",
              "  .colab-df-quickchart {\n",
              "      --bg-color: #E8F0FE;\n",
              "      --fill-color: #1967D2;\n",
              "      --hover-bg-color: #E2EBFA;\n",
              "      --hover-fill-color: #174EA6;\n",
              "      --disabled-fill-color: #AAA;\n",
              "      --disabled-bg-color: #DDD;\n",
              "  }\n",
              "\n",
              "  [theme=dark] .colab-df-quickchart {\n",
              "      --bg-color: #3B4455;\n",
              "      --fill-color: #D2E3FC;\n",
              "      --hover-bg-color: #434B5C;\n",
              "      --hover-fill-color: #FFFFFF;\n",
              "      --disabled-bg-color: #3B4455;\n",
              "      --disabled-fill-color: #666;\n",
              "  }\n",
              "\n",
              "  .colab-df-quickchart {\n",
              "    background-color: var(--bg-color);\n",
              "    border: none;\n",
              "    border-radius: 50%;\n",
              "    cursor: pointer;\n",
              "    display: none;\n",
              "    fill: var(--fill-color);\n",
              "    height: 32px;\n",
              "    padding: 0;\n",
              "    width: 32px;\n",
              "  }\n",
              "\n",
              "  .colab-df-quickchart:hover {\n",
              "    background-color: var(--hover-bg-color);\n",
              "    box-shadow: 0 1px 2px rgba(60, 64, 67, 0.3), 0 1px 3px 1px rgba(60, 64, 67, 0.15);\n",
              "    fill: var(--button-hover-fill-color);\n",
              "  }\n",
              "\n",
              "  .colab-df-quickchart-complete:disabled,\n",
              "  .colab-df-quickchart-complete:disabled:hover {\n",
              "    background-color: var(--disabled-bg-color);\n",
              "    fill: var(--disabled-fill-color);\n",
              "    box-shadow: none;\n",
              "  }\n",
              "\n",
              "  .colab-df-spinner {\n",
              "    border: 2px solid var(--fill-color);\n",
              "    border-color: transparent;\n",
              "    border-bottom-color: var(--fill-color);\n",
              "    animation:\n",
              "      spin 1s steps(1) infinite;\n",
              "  }\n",
              "\n",
              "  @keyframes spin {\n",
              "    0% {\n",
              "      border-color: transparent;\n",
              "      border-bottom-color: var(--fill-color);\n",
              "      border-left-color: var(--fill-color);\n",
              "    }\n",
              "    20% {\n",
              "      border-color: transparent;\n",
              "      border-left-color: var(--fill-color);\n",
              "      border-top-color: var(--fill-color);\n",
              "    }\n",
              "    30% {\n",
              "      border-color: transparent;\n",
              "      border-left-color: var(--fill-color);\n",
              "      border-top-color: var(--fill-color);\n",
              "      border-right-color: var(--fill-color);\n",
              "    }\n",
              "    40% {\n",
              "      border-color: transparent;\n",
              "      border-right-color: var(--fill-color);\n",
              "      border-top-color: var(--fill-color);\n",
              "    }\n",
              "    60% {\n",
              "      border-color: transparent;\n",
              "      border-right-color: var(--fill-color);\n",
              "    }\n",
              "    80% {\n",
              "      border-color: transparent;\n",
              "      border-right-color: var(--fill-color);\n",
              "      border-bottom-color: var(--fill-color);\n",
              "    }\n",
              "    90% {\n",
              "      border-color: transparent;\n",
              "      border-bottom-color: var(--fill-color);\n",
              "    }\n",
              "  }\n",
              "</style>\n",
              "\n",
              "  <script>\n",
              "    async function quickchart(key) {\n",
              "      const quickchartButtonEl =\n",
              "        document.querySelector('#' + key + ' button');\n",
              "      quickchartButtonEl.disabled = true;  // To prevent multiple clicks.\n",
              "      quickchartButtonEl.classList.add('colab-df-spinner');\n",
              "      try {\n",
              "        const charts = await google.colab.kernel.invokeFunction(\n",
              "            'suggestCharts', [key], {});\n",
              "      } catch (error) {\n",
              "        console.error('Error during call to suggestCharts:', error);\n",
              "      }\n",
              "      quickchartButtonEl.classList.remove('colab-df-spinner');\n",
              "      quickchartButtonEl.classList.add('colab-df-quickchart-complete');\n",
              "    }\n",
              "    (() => {\n",
              "      let quickchartButtonEl =\n",
              "        document.querySelector('#df-c61a6f79-516b-4088-aa32-83e2a23c45d1 button');\n",
              "      quickchartButtonEl.style.display =\n",
              "        google.colab.kernel.accessAllowed ? 'block' : 'none';\n",
              "    })();\n",
              "  </script>\n",
              "</div>\n",
              "\n",
              "    </div>\n",
              "  </div>\n"
            ],
            "application/vnd.google.colaboratory.intrinsic+json": {
              "type": "dataframe",
              "variable_name": "merged_df"
            }
          },
          "metadata": {},
          "execution_count": 143
        }
      ]
    },
    {
      "cell_type": "code",
      "source": [
        "merged_df['_merge'].unique()"
      ],
      "metadata": {
        "colab": {
          "base_uri": "https://localhost:8080/"
        },
        "id": "bXf020hKrlB0",
        "outputId": "d9df8324-9d08-45c0-beed-dba433d8c539"
      },
      "execution_count": 144,
      "outputs": [
        {
          "output_type": "execute_result",
          "data": {
            "text/plain": [
              "['left_only', 'both']\n",
              "Categories (3, object): ['left_only', 'right_only', 'both']"
            ]
          },
          "metadata": {},
          "execution_count": 144
        }
      ]
    },
    {
      "cell_type": "code",
      "source": [
        "# Pour les établissements avec plusieurs lignes (identifiés par _merge = 'both'), vérifier que multi_uai = 1 uniquement\n",
        "merged_df[merged_df['_merge'] == 'both']['multi_uai'].unique()"
      ],
      "metadata": {
        "colab": {
          "base_uri": "https://localhost:8080/"
        },
        "id": "4J0Xwr-ErrW4",
        "outputId": "0130fbb7-dc6a-4a0a-e9cc-541902de6a4b"
      },
      "execution_count": 146,
      "outputs": [
        {
          "output_type": "execute_result",
          "data": {
            "text/plain": [
              "array([1])"
            ]
          },
          "metadata": {},
          "execution_count": 146
        }
      ]
    },
    {
      "cell_type": "code",
      "source": [
        "# De même, je vérifie que pour tous les autres cette valeur est 0\n",
        "merged_df[merged_df['_merge'] == 'left_only']['multi_uai'].unique()"
      ],
      "metadata": {
        "colab": {
          "base_uri": "https://localhost:8080/"
        },
        "id": "S1rP9RebsIDA",
        "outputId": "1d12b2be-cc7f-4570-9dfa-70ff4d1c57cd"
      },
      "execution_count": 147,
      "outputs": [
        {
          "output_type": "execute_result",
          "data": {
            "text/plain": [
              "array([0])"
            ]
          },
          "metadata": {},
          "execution_count": 147
        }
      ]
    },
    {
      "cell_type": "markdown",
      "source": [
        "### precision_localisation\n",
        "\n",
        "D'après la doc, les valeurs possibles sont:\n",
        "* BÂTIMENT: l'adresse ponctuelle a été vérifiée par un collecteur\n",
        "* l'adresse ponctuelle correspondant exactement à celle de l'établissement a été trouvée :\n",
        "  * PLAQUE_ADRESSE_PROJETEE : projection de la plaque adresse\n",
        "  * CENTRE_PARCELLE_PROJETE : projection du centroïde de parcelle\n",
        "* l'adresse précise n'a pas été trouvée mais une adresse ponctuelle voisine a été trouvée:\n",
        "  * DEFAUT_D_INDICE : [numéro et indice utilisé] : adresse projetée de même numéro, mais d'indice différent\n",
        "  * DEFAUT_DE_NUMERO : [numéro cherché -> numéro utilisé] : adresse projetée la plus proche. Si l'adresse recherchée n'a pas de numéro, il est placé sur le plus petit numéro trouvé (ex. DEFAUT_DE_NUMERO [->2])\n",
        "* aucune adresse ponctuelle portant le même nom de voie n'a été trouvée, mais un tronçon portant ce nom a été trouvé :\n",
        "  * INTERPOLATION : adresse interpolée entre les bornes initiales et finales d'un tronçon (interpolation linéaire)\n",
        "  * DEFAUT_DE_TRONCON : aucun tronçon de la route appariée n'a de bornes permettant d'encadrer le numéro recherché. L'adresse est positionnée sur le tronçon dont les bornes sont le plus proche du numéro recherché\n",
        "* ZONE_D_ADRESSAGE : ni adresse ni tronçon n’ont été trouvés, mais un lieu-dit (ponctuel) ou une zone nommée (ponctuelle) de même nom a été trouvée\n",
        "* COMMUNE : la géolocalisation se fait à la commune\n",
        "* ERR : pas de géolocalisation"
      ],
      "metadata": {
        "id": "orJf89kJsdhj"
      }
    },
    {
      "cell_type": "code",
      "source": [
        "# Colonne precision_localisation : valeurs non conformes à la doc\n",
        "# -> peut être utilisée, ou inutile ?"
      ],
      "metadata": {
        "id": "WE2l4sQ_bR1y"
      },
      "execution_count": null,
      "outputs": []
    },
    {
      "cell_type": "code",
      "source": [],
      "metadata": {
        "id": "hruw9VsBw4O_"
      },
      "execution_count": null,
      "outputs": []
    },
    {
      "cell_type": "code",
      "source": [
        "# Vérifier cohérence entre code_zone_animation_pedagogique et libelle_zone_animation_pedagogique\n",
        "# (nombre de valeurs uniques différent)\n",
        "\n",
        "# Vérifier cohérence entre code_bassin_formation et libelle_bassin_formation\n",
        "# (nombre de valeurs uniques différent)"
      ],
      "metadata": {
        "id": "Zy-b-D-Xw2dH"
      },
      "execution_count": null,
      "outputs": []
    },
    {
      "cell_type": "markdown",
      "source": [
        "## Feature selection / feature engineering"
      ],
      "metadata": {
        "id": "ZLgYeiHLUd3f"
      }
    },
    {
      "cell_type": "code",
      "source": [
        "# Colonne type_etablissement : ne prendre que Ecole / Collège / Lycée ?\n",
        "\n",
        "# Utilité adresse_1, adresse_2, adresse_3 ?\n",
        "# vérif si doublon entre adresse_3 et code_postal ?\n",
        "\n",
        "# Vérifier cohérence entre code_commune et code_departement\n",
        "# + différencier \"France\", Corse et outre-mer ?\n",
        "\n",
        "# Utilité binaires suivants ? (ajoutés dans col_pour_viz pour le moment) : ecole_maternelle, ecole_elementaire,\n",
        "# voie_generale, voie_technologique, voie_professionnelle, restauration, hebergement, ulis, apprentissage, segpa,\n",
        "# section_arts, section_cinema, section_theatre, section_sport, section_internationale, section_europeenne,\n",
        "# lycee_agricole, lycee_militaire, lycee_des_metiers, post_bac, greta, rpi_concentre\n",
        "\n",
        "# Colonne nombre_d_eleves : regrouper en tranches ?\n",
        "\n",
        "# Comment utiliser colonnes suivantes ? :\n",
        "#- position\n",
        "#- coordx_origine, coordy_origine, epsg_origine\n",
        "#- latitude, longitude\n",
        "#- TODO : vérifier cohérence entre position et lat/long\n",
        "\n",
        "# Colonnes type_contrat_prive et code_type_contrat_prive : quézako ? utilité ?\n",
        "# => supprimées en attente d'informations\n",
        "\n",
        "# Colonne date_ouverture : vérifier si dates dans le futur ?\n",
        "# Eventuellement, convertir au format date, ou créer cols année/mois/jour\n",
        "\n",
        "# Colonne date_maj_ligne à titre informatif = récence des données (valeur unique)\n",
        "\n",
        "# Utilité colonne rpi_disperse ?\n",
        "# => supprimé en attente d'informations\n",
        "\n",
        "# Utilité colonnes code_nature et libelle_nature ?\n",
        "# => supprimées en attente d'informations"
      ],
      "metadata": {
        "id": "1AwcmucSUi96"
      },
      "execution_count": null,
      "outputs": []
    },
    {
      "cell_type": "code",
      "source": [
        "# Colonnes non utilisées (PII ou autre)\n",
        "# TODO : à confirmer, sinon stocker dans autre table\n",
        "col_to_remove = [\n",
        "    'telephone', 'fax', 'web', 'mail', 'siren_siret', 'fiche_onisep',\n",
        "    'type_contrat_prive', 'date_maj_ligne', 'ministere_tutelle',\n",
        "    'rpi_disperse', 'code_nature', 'libelle_nature', 'code_type_contrat_prive'\n",
        "]"
      ],
      "metadata": {
        "id": "-H8nABa3jONz"
      },
      "execution_count": null,
      "outputs": []
    },
    {
      "cell_type": "code",
      "source": [
        "# Créer 2eme table pour viz uniquement ? Jointure sur ID_etablissement\n",
        "col_pour_viz = [\n",
        "    'nom_etablissement', 'statut_public_prive', 'adresse_1', 'adresse_2',\n",
        "    'adresse_3', 'code_postal', 'code_commune', 'nom_commune', 'code_academie',\n",
        "    'code_region', 'appartenance_education_prioritaire', 'libelle_departement',\n",
        "    'libelle_academie', 'libelle_region', 'nom_circonscription', 'etat', 'pial',\n",
        "    'etablissement_mere', 'type_rattachement_etablissement_mere',\n",
        "    'code_circonscription', 'code_zone_animation_pedagogique',\n",
        "    'libelle_zone_animation_pedagogique', 'code_bassin_formation',\n",
        "    'libelle_bassin_formation'\n",
        "]"
      ],
      "metadata": {
        "id": "tSTVkDVLUsk8"
      },
      "execution_count": null,
      "outputs": []
    },
    {
      "cell_type": "code",
      "source": [
        "# En attendant confirmation, j'ajoute ces binaires suivants dans la table de viz\n",
        "col_pour_viz.extend([\n",
        "    'ecole_maternelle', 'ecole_elementaire', 'voie_generale',\n",
        "    'voie_technologique', 'voie_professionnelle', 'restauration', 'hebergement',\n",
        "    'ulis', 'apprentissage', 'segpa', 'section_arts', 'section_cinema',\n",
        "    'section_theatre', 'section_sport', 'section_internationale',\n",
        "    'section_europeenne', 'lycee_agricole', 'lycee_militaire',\n",
        "    'lycee_des_metiers', 'post_bac', 'greta', 'rpi_concentre'\n",
        "])"
      ],
      "metadata": {
        "id": "UheRm3MYi3mH"
      },
      "execution_count": null,
      "outputs": []
    },
    {
      "cell_type": "markdown",
      "source": [
        "## Sélection du département pour la POC (93)"
      ],
      "metadata": {
        "id": "-zlDSu-ZkKim"
      }
    },
    {
      "cell_type": "code",
      "source": [],
      "metadata": {
        "id": "t7YBueiEkK9b"
      },
      "execution_count": null,
      "outputs": []
    }
  ]
}